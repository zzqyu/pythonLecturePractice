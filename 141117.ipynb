{
 "metadata": {
  "name": "",
  "signature": "sha256:02dc9333fa57b96fd29e20cd84883dee47042390865103c4a97d82cd964fda96"
 },
 "nbformat": 3,
 "nbformat_minor": 0,
 "worksheets": [
  {
   "cells": [
    {
     "cell_type": "markdown",
     "metadata": {},
     "source": [
      "#pip-\ud30c\uc774\uc36c \ud328\ud0a4\uc9c0 \uc124\uce58"
     ]
    },
    {
     "cell_type": "code",
     "collapsed": false,
     "input": [
      "!pip install Pillow"
     ],
     "language": "python",
     "metadata": {},
     "outputs": [
      {
       "output_type": "stream",
       "stream": "stdout",
       "text": [
        "Requirement already satisfied (use --upgrade to upgrade): Pillow in d:\\users\\kimjeonggyu\\anaconda3\\lib\\site-packages\n",
        "Cleaning up...\n"
       ]
      }
     ],
     "prompt_number": 8
    },
    {
     "cell_type": "markdown",
     "metadata": {},
     "source": [
      "#Python Imaging Library"
     ]
    },
    {
     "cell_type": "code",
     "collapsed": false,
     "input": [
      "from PIL import Image"
     ],
     "language": "python",
     "metadata": {},
     "outputs": [],
     "prompt_number": 9
    },
    {
     "cell_type": "code",
     "collapsed": false,
     "input": [
      "img=Image.open('G:\\\\Photo\\\\BandPhoto_2013_12_31_14_39_37.jpg')"
     ],
     "language": "python",
     "metadata": {},
     "outputs": [],
     "prompt_number": 10
    },
    {
     "cell_type": "code",
     "collapsed": false,
     "input": [
      "img"
     ],
     "language": "python",
     "metadata": {},
     "outputs": [
      {
       "metadata": {},
       "output_type": "pyout",
       "prompt_number": 11,
       "text": [
        "<PIL.JpegImagePlugin.JpegImageFile image mode=RGB size=1280x853 at 0x45D3A58>"
       ]
      }
     ],
     "prompt_number": 11
    },
    {
     "cell_type": "code",
     "collapsed": false,
     "input": [
      "img.size"
     ],
     "language": "python",
     "metadata": {},
     "outputs": [
      {
       "metadata": {},
       "output_type": "pyout",
       "prompt_number": 12,
       "text": [
        "(1280, 853)"
       ]
      }
     ],
     "prompt_number": 12
    },
    {
     "cell_type": "code",
     "collapsed": false,
     "input": [
      "img.show?"
     ],
     "language": "python",
     "metadata": {},
     "outputs": [],
     "prompt_number": 7
    },
    {
     "cell_type": "markdown",
     "metadata": {},
     "source": [
      "#Exif tags"
     ]
    },
    {
     "cell_type": "code",
     "collapsed": false,
     "input": [
      "img._getexif()"
     ],
     "language": "python",
     "metadata": {},
     "outputs": [
      {
       "metadata": {},
       "output_type": "pyout",
       "prompt_number": 13,
       "text": [
        "{36864: b'0230',\n",
        " 37378: (2526069, 1000000),\n",
        " 36867: '2013:12:06 05:55:31',\n",
        " 36868: '2013:12:06 05:55:31',\n",
        " 37381: (252, 100),\n",
        " 41990: 0,\n",
        " 37383: 5,\n",
        " 37384: 0,\n",
        " 37385: 0,\n",
        " 37386: (16, 1),\n",
        " 41986: 0,\n",
        " 270: 'SAMSUNG CSC',\n",
        " 271: 'SAMSUNG',\n",
        " 272: 'NX200',\n",
        " 41987: 0,\n",
        " 41992: 0,\n",
        " 41495: 2,\n",
        " 41988: (10, 10),\n",
        " 282: (72, 1),\n",
        " 283: (72, 1),\n",
        " 33434: (1, 250),\n",
        " 41989: 24,\n",
        " 34850: 3,\n",
        " 34855: 200,\n",
        " 296: 2,\n",
        " 34665: 224,\n",
        " 33437: (24, 10),\n",
        " 305: 'andoWKS15\\x00\\x00\\x00\\x00\\x00\\x00\\x00\\x00\\x00\\x00\\x00\\x00\\x00\\x00\\x00\\x00\\x00\\x00\\x00\\x00\\x00\\x00\\x00\\x00\\x00\\x00\\x00\\x00\\x00\\x00',\n",
        " 306: '2013:12:09 12:50:27',\n",
        " 41993: 0,\n",
        " 41994: 0}"
       ]
      }
     ],
     "prompt_number": 13
    },
    {
     "cell_type": "code",
     "collapsed": false,
     "input": [
      "img._getexif()[36867]#0x9003"
     ],
     "language": "python",
     "metadata": {},
     "outputs": [
      {
       "metadata": {},
       "output_type": "pyout",
       "prompt_number": 14,
       "text": [
        "'2013:12:06 05:55:31'"
       ]
      }
     ],
     "prompt_number": 14
    },
    {
     "cell_type": "code",
     "collapsed": false,
     "input": [
      "from PIL import ExifTags"
     ],
     "language": "python",
     "metadata": {},
     "outputs": [],
     "prompt_number": 15
    },
    {
     "cell_type": "code",
     "collapsed": false,
     "input": [
      "ExifTags.TAGS"
     ],
     "language": "python",
     "metadata": {},
     "outputs": [
      {
       "metadata": {},
       "output_type": "pyout",
       "prompt_number": 16,
       "text": [
        "{256: 'ImageWidth',\n",
        " 257: 'ImageLength',\n",
        " 258: 'BitsPerSample',\n",
        " 259: 'Compression',\n",
        " 36868: 'DateTimeDigitized',\n",
        " 37381: 'MaxApertureValue',\n",
        " 262: 'PhotometricInterpretation',\n",
        " 263: 'Threshholding',\n",
        " 264: 'CellWidth',\n",
        " 265: 'CellLenght',\n",
        " 266: 'FillOrder',\n",
        " 37387: 'FlashEnergy',\n",
        " 37388: 'SpatialFrequencyResponse',\n",
        " 269: 'DocumentName',\n",
        " 270: 'ImageDescription',\n",
        " 271: 'Make',\n",
        " 272: 'Model',\n",
        " 273: 'StripOffsets',\n",
        " 274: 'Orientation',\n",
        " 531: 'YCbCrPositioning',\n",
        " 532: 'ReferenceBlackWhite',\n",
        " 277: 'SamplesPerPixel',\n",
        " 278: 'RowsPerStrip',\n",
        " 279: 'StripByteConunts',\n",
        " 280: 'MinSampleValue',\n",
        " 281: 'MaxSampleValue',\n",
        " 282: 'XResolution',\n",
        " 283: 'YResolution',\n",
        " 284: 'PlanarConfiguration',\n",
        " 285: 'PageName',\n",
        " 41728: 'FileSource',\n",
        " 40965: 'ExifInteroperabilityOffset',\n",
        " 288: 'FreeOffsets',\n",
        " 289: 'FreeByteCounts',\n",
        " 290: 'GrayResponseUnit',\n",
        " 291: 'GrayResponseCurve',\n",
        " 34852: 'SpectralSensitivity',\n",
        " 34853: 'GPSInfo',\n",
        " 34855: 'ISOSpeedRatings',\n",
        " 296: 'ResolutionUnit',\n",
        " 34857: 'Interlace',\n",
        " 34858: 'TimeZoneOffset',\n",
        " 34859: 'SelfTimerMode',\n",
        " 301: 'TransferFunction',\n",
        " 41993: 'Saturation',\n",
        " 42032: 'CameraOwnerName',\n",
        " 305: 'Software',\n",
        " 306: 'DateTime',\n",
        " 42035: 'LensMake',\n",
        " 513: 'JpegIFOffset',\n",
        " 42037: 'LensSerialNumber',\n",
        " 37385: 'Flash',\n",
        " 42034: 'LensSpecification',\n",
        " 315: 'Artist',\n",
        " 316: 'HostComputer',\n",
        " 37386: 'FocalLength',\n",
        " 318: 'WhitePoint',\n",
        " 319: 'PrimaryChromaticities',\n",
        " 320: 'ColorMap',\n",
        " 40962: 'ExifImageWidth',\n",
        " 41483: 'FlashEnergy',\n",
        " 41985: 'CustomRendered',\n",
        " 40960: 'FlashPixVersion',\n",
        " 41484: 'SpatialFrequencyResponse',\n",
        " 37382: 'SubjectDistance',\n",
        " 37510: 'UserComment',\n",
        " 37389: 'Noise',\n",
        " 338: 'ExtraSamples',\n",
        " 41486: 'FocalPlaneXResolution',\n",
        " 41730: 'CFAPattern',\n",
        " 41487: 'FocalPlaneYResolution',\n",
        " 40963: 'ExifImageHeight',\n",
        " 41488: 'FocalPlaneResolutionUnit',\n",
        " 41986: 'ExposureMode',\n",
        " 42036: 'LensModel',\n",
        " 529: 'YCbCrCoefficients',\n",
        " 37383: 'MeteringMode',\n",
        " 34665: 'ExifOffset',\n",
        " 37380: 'ExposureBiasValue',\n",
        " 530: 'YCbCrSubSampling',\n",
        " 41492: 'SubjectLocation',\n",
        " 41995: 'DeviceSettingDescription',\n",
        " 34675: 'InterColorProfile',\n",
        " 37396: 'SubjectLocation',\n",
        " 41996: 'SubjectDistanceRange',\n",
        " 37500: 'MakerNote',\n",
        " 40964: 'RelatedSoundFile',\n",
        " 37397: 'ExposureIndex',\n",
        " 41987: 'WhiteBalance',\n",
        " 37398: 'TIFF/EPStandardID',\n",
        " 4096: 'RelatedImageFileFormat',\n",
        " 41495: 'SensingMethod',\n",
        " 41493: 'ExposureIndex',\n",
        " 33421: 'CFARepeatPatternDim',\n",
        " 33422: 'CFAPattern',\n",
        " 33423: 'BatteryLevel',\n",
        " 37520: 'SubsecTime',\n",
        " 37521: 'SubsecTimeOriginal',\n",
        " 37522: 'SubsecTimeDigitized',\n",
        " 37393: 'ImageNumber',\n",
        " 33432: 'Copyright',\n",
        " 33434: 'ExposureTime',\n",
        " 514: 'JpegIFByteCount',\n",
        " 33437: 'FNumber',\n",
        " 41988: 'DigitalZoomRatio',\n",
        " 4097: 'RelatedImageWidth',\n",
        " 41729: 'SceneType',\n",
        " 37121: 'ComponentsConfiguration',\n",
        " 37394: 'SecurityClassification',\n",
        " 37377: 'ShutterSpeedValue',\n",
        " 41989: 'FocalLengthIn35mmFilm',\n",
        " 42016: 'ImageUniqueID',\n",
        " 4098: 'RelatedImageLength',\n",
        " 36864: 'ExifVersion',\n",
        " 41994: 'Sharpness',\n",
        " 37122: 'CompressedBitsPerPixel',\n",
        " 34850: 'ExposureProgram',\n",
        " 42240: 'Gamma',\n",
        " 37395: 'ImageHistory',\n",
        " 37384: 'LightSource',\n",
        " 37378: 'ApertureValue',\n",
        " 41990: 'SceneCaptureType',\n",
        " 40961: 'ColorSpace',\n",
        " 36867: 'DateTimeOriginal',\n",
        " 42033: 'BodySerialNumber',\n",
        " 37379: 'BrightnessValue',\n",
        " 34856: 'OECF',\n",
        " 41991: 'GainControl',\n",
        " 41992: 'Contrast',\n",
        " 254: 'NewSubfileType',\n",
        " 255: 'SubfileType'}"
       ]
      }
     ],
     "prompt_number": 16
    },
    {
     "cell_type": "code",
     "collapsed": false,
     "input": [
      "exif_data={}\n",
      "for k,v in img._getexif().items():\n",
      "    exif_data[ExifTags.TAGS[k]]=v"
     ],
     "language": "python",
     "metadata": {},
     "outputs": [],
     "prompt_number": 17
    },
    {
     "cell_type": "code",
     "collapsed": false,
     "input": [
      "exif_data['DateTimeOriginal']"
     ],
     "language": "python",
     "metadata": {},
     "outputs": [
      {
       "metadata": {},
       "output_type": "pyout",
       "prompt_number": 18,
       "text": [
        "'2013:12:06 05:55:31'"
       ]
      }
     ],
     "prompt_number": 18
    },
    {
     "cell_type": "code",
     "collapsed": false,
     "input": [
      "folder = exif_data['DateTimeOriginal'].split()[0].replace(':','-')"
     ],
     "language": "python",
     "metadata": {},
     "outputs": [],
     "prompt_number": 19
    },
    {
     "cell_type": "code",
     "collapsed": false,
     "input": [
      "import os\n",
      "import shutil\n",
      "\n",
      "dest ='G:\\\\a\\\\Photo'\n",
      "    \n",
      "for curdir, dirs, files, in os.walk(r'G:\\Photo'):\n",
      "    for fname in files:\n",
      "        if not fname.lower().endswith('.jpg'):\n",
      "            continue\n",
      "        fpath=os.path.join(curdir,fname)\n",
      "        print (fpath)\n",
      "        im = Image.open(fpath)\n",
      "        folder=im._getexif()[36867].split()[0].replace(':','-')\n",
      "        dest_folder=os.path.join(dest, folder)\n",
      "        if not os.path.exists(dest_folder):\n",
      "            os.makedirs(dest_folder)\n",
      "        #dest_path==os.path.join(dest_folder, fname)\n",
      "        #shutil.copyfile(fpath, dest_path)"
     ],
     "language": "python",
     "metadata": {},
     "outputs": [
      {
       "output_type": "stream",
       "stream": "stdout",
       "text": [
        "G:\\Photo\\BandPhoto_2013_12_31_14_39_37.jpg\n",
        "G:\\Photo\\BandPhoto_2014_05_04_02_16_32.jpg\n",
        "G:\\Photo\\BandPhoto_2014_05_04_02_17_12.jpg\n",
        "G:\\Photo\\BandPhoto_2014_05_04_02_23_55.jpg"
       ]
      },
      {
       "output_type": "stream",
       "stream": "stdout",
       "text": [
        "\n",
        "G:\\Photo\\BandPhoto_2014_05_04_02_24_03.jpg\n",
        "G:\\Photo\\BandPhoto_2014_05_04_02_24_07.jpg"
       ]
      },
      {
       "output_type": "stream",
       "stream": "stdout",
       "text": [
        "\n",
        "G:\\Photo\\BandPhoto_2014_05_04_02_24_10.jpg\n",
        "G:\\Photo\\BandPhoto_2014_05_04_02_27_05.jpg\n",
        "G:\\Photo\\BandPhoto_2014_05_04_02_27_57.jpg\n",
        "G:\\Photo\\BandPhoto_2014_05_04_02_28_15.jpg"
       ]
      },
      {
       "output_type": "stream",
       "stream": "stdout",
       "text": [
        "\n"
       ]
      }
     ],
     "prompt_number": 21
    },
    {
     "cell_type": "markdown",
     "metadata": {},
     "source": [
      "#Resizing test"
     ]
    },
    {
     "cell_type": "code",
     "collapsed": false,
     "input": [
      "im.size"
     ],
     "language": "python",
     "metadata": {},
     "outputs": [
      {
       "metadata": {},
       "output_type": "pyout",
       "prompt_number": 22,
       "text": [
        "(1280, 853)"
       ]
      }
     ],
     "prompt_number": 22
    },
    {
     "cell_type": "code",
     "collapsed": false,
     "input": [
      "maxw=1000\n",
      "maxh=1000\n",
      "width, height=im.size"
     ],
     "language": "python",
     "metadata": {},
     "outputs": [],
     "prompt_number": 23
    },
    {
     "cell_type": "code",
     "collapsed": false,
     "input": [
      "im2=im.resize((100,200))"
     ],
     "language": "python",
     "metadata": {},
     "outputs": [],
     "prompt_number": 24
    },
    {
     "cell_type": "code",
     "collapsed": false,
     "input": [
      "im2.show()"
     ],
     "language": "python",
     "metadata": {},
     "outputs": [],
     "prompt_number": 25
    },
    {
     "cell_type": "code",
     "collapsed": false,
     "input": [
      "r1=(width+0.0)/maxw\n",
      "r2=(height+0.0)/maxh"
     ],
     "language": "python",
     "metadata": {},
     "outputs": [],
     "prompt_number": 25
    },
    {
     "cell_type": "code",
     "collapsed": false,
     "input": [
      "r1,r2"
     ],
     "language": "python",
     "metadata": {},
     "outputs": [
      {
       "metadata": {},
       "output_type": "pyout",
       "prompt_number": 31,
       "text": [
        "(1.28, 0.853)"
       ]
      }
     ],
     "prompt_number": 31
    },
    {
     "cell_type": "code",
     "collapsed": false,
     "input": [
      "r=max(r1,r2)"
     ],
     "language": "python",
     "metadata": {},
     "outputs": [],
     "prompt_number": 32
    },
    {
     "cell_type": "code",
     "collapsed": false,
     "input": [
      "new_width=int((width+0.0)/r)\n",
      "new_height=int((height+0.0)/r)"
     ],
     "language": "python",
     "metadata": {},
     "outputs": [],
     "prompt_number": 33
    },
    {
     "cell_type": "code",
     "collapsed": false,
     "input": [
      "new_width, new_height"
     ],
     "language": "python",
     "metadata": {},
     "outputs": [
      {
       "metadata": {},
       "output_type": "pyout",
       "prompt_number": 34,
       "text": [
        "(1000, 666)"
       ]
      }
     ],
     "prompt_number": 34
    },
    {
     "cell_type": "code",
     "collapsed": false,
     "input": [
      "im2=im.resize((new_width,new_height), Image.ANTIALIAS)"
     ],
     "language": "python",
     "metadata": {},
     "outputs": [],
     "prompt_number": 36
    },
    {
     "cell_type": "code",
     "collapsed": false,
     "input": [
      "im2.show()"
     ],
     "language": "python",
     "metadata": {},
     "outputs": [],
     "prompt_number": 38
    },
    {
     "cell_type": "code",
     "collapsed": false,
     "input": [
      "im2.save('G:\\\\test2.jpg', 'JPEG', quality=100)"
     ],
     "language": "python",
     "metadata": {},
     "outputs": [],
     "prompt_number": 42
    },
    {
     "cell_type": "code",
     "collapsed": false,
     "input": [
      "def resize(im, maxw,maxh):\n",
      "    (width, height)=im.size()\n",
      "    r1=(width+0.0)/maxw\n",
      "    r2=(height+0.0)/maxh\n",
      "    r=max(r1,r2)\n",
      "    new_width=int((width+0.0)/r)\n",
      "    new_height=int((height+0.0)/r)\n",
      "    im=im.resize((new_width,new_height), Image.ANTIALIAS)"
     ],
     "language": "python",
     "metadata": {},
     "outputs": [],
     "prompt_number": 48
    },
    {
     "cell_type": "code",
     "collapsed": false,
     "input": [
      "import os\n",
      "\n",
      "maxw=500\n",
      "maxh=500\n",
      "\n",
      "dest ='G:\\\\b\\\\Photo'\n",
      "    \n",
      "for curdir, dirs, files, in os.walk(r'G:\\Photo'):\n",
      "    for fname in files:\n",
      "        fpath=os.path.join(curdir,fname)\n",
      "        print fpath\n",
      "        im = Image.open(fpath)\n",
      "        folder=im._getexif()[36867].split()[0].replace(':','-')\n",
      "        dest_folder=os.path.join(dest_folder)\n",
      "        if not os.path.exists(dest,folder):\n",
      "            os.makedirs(dest_folder)\n",
      "        dest_path==os.path.join(dest_folder, fname)\n",
      "        im=resize(im,maxw,maxh)\n",
      "        im.save(dest_path, 'JPEG', quality=100)"
     ],
     "language": "python",
     "metadata": {},
     "outputs": [
      {
       "output_type": "stream",
       "stream": "stdout",
       "text": [
        "G:\\Photo\\BandPhoto_2013_12_31_14_39_37.jpg\n"
       ]
      },
      {
       "ename": "TypeError",
       "evalue": "exists() takes exactly 1 argument (2 given)",
       "output_type": "pyerr",
       "traceback": [
        "\u001b[1;31m---------------------------------------------------------------------------\u001b[0m\n\u001b[1;31mTypeError\u001b[0m                                 Traceback (most recent call last)",
        "\u001b[1;32m<ipython-input-51-4922daff6935>\u001b[0m in \u001b[0;36m<module>\u001b[1;34m()\u001b[0m\n\u001b[0;32m     13\u001b[0m         \u001b[0mfolder\u001b[0m\u001b[1;33m=\u001b[0m\u001b[0mim\u001b[0m\u001b[1;33m.\u001b[0m\u001b[0m_getexif\u001b[0m\u001b[1;33m(\u001b[0m\u001b[1;33m)\u001b[0m\u001b[1;33m[\u001b[0m\u001b[1;36m36867\u001b[0m\u001b[1;33m]\u001b[0m\u001b[1;33m.\u001b[0m\u001b[0msplit\u001b[0m\u001b[1;33m(\u001b[0m\u001b[1;33m)\u001b[0m\u001b[1;33m[\u001b[0m\u001b[1;36m0\u001b[0m\u001b[1;33m]\u001b[0m\u001b[1;33m.\u001b[0m\u001b[0mreplace\u001b[0m\u001b[1;33m(\u001b[0m\u001b[1;34m':'\u001b[0m\u001b[1;33m,\u001b[0m\u001b[1;34m'-'\u001b[0m\u001b[1;33m)\u001b[0m\u001b[1;33m\u001b[0m\u001b[0m\n\u001b[0;32m     14\u001b[0m         \u001b[0mdest_folder\u001b[0m\u001b[1;33m=\u001b[0m\u001b[0mos\u001b[0m\u001b[1;33m.\u001b[0m\u001b[0mpath\u001b[0m\u001b[1;33m.\u001b[0m\u001b[0mjoin\u001b[0m\u001b[1;33m(\u001b[0m\u001b[0mdest_folder\u001b[0m\u001b[1;33m)\u001b[0m\u001b[1;33m\u001b[0m\u001b[0m\n\u001b[1;32m---> 15\u001b[1;33m         \u001b[1;32mif\u001b[0m \u001b[1;32mnot\u001b[0m \u001b[0mos\u001b[0m\u001b[1;33m.\u001b[0m\u001b[0mpath\u001b[0m\u001b[1;33m.\u001b[0m\u001b[0mexists\u001b[0m\u001b[1;33m(\u001b[0m\u001b[0mdest\u001b[0m\u001b[1;33m,\u001b[0m\u001b[0mfolder\u001b[0m\u001b[1;33m)\u001b[0m\u001b[1;33m:\u001b[0m\u001b[1;33m\u001b[0m\u001b[0m\n\u001b[0m\u001b[0;32m     16\u001b[0m             \u001b[0mos\u001b[0m\u001b[1;33m.\u001b[0m\u001b[0mmakedirs\u001b[0m\u001b[1;33m(\u001b[0m\u001b[0mdest_folder\u001b[0m\u001b[1;33m)\u001b[0m\u001b[1;33m\u001b[0m\u001b[0m\n\u001b[0;32m     17\u001b[0m         \u001b[0mdest_path\u001b[0m\u001b[1;33m==\u001b[0m\u001b[0mos\u001b[0m\u001b[1;33m.\u001b[0m\u001b[0mpath\u001b[0m\u001b[1;33m.\u001b[0m\u001b[0mjoin\u001b[0m\u001b[1;33m(\u001b[0m\u001b[0mdest_folder\u001b[0m\u001b[1;33m,\u001b[0m \u001b[0mfname\u001b[0m\u001b[1;33m)\u001b[0m\u001b[1;33m\u001b[0m\u001b[0m\n",
        "\u001b[1;31mTypeError\u001b[0m: exists() takes exactly 1 argument (2 given)"
       ]
      }
     ],
     "prompt_number": 51
    },
    {
     "cell_type": "code",
     "collapsed": false,
     "input": [],
     "language": "python",
     "metadata": {},
     "outputs": []
    }
   ],
   "metadata": {}
  }
 ]
}