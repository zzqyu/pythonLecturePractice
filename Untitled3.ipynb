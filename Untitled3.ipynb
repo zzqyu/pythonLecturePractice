{
 "metadata": {
  "name": "",
  "signature": "sha256:bd60fdb2fc2defd076db679647e95c868bc5a80ee3dad5e2c518c7e6a62aa41a"
 },
 "nbformat": 3,
 "nbformat_minor": 0,
 "worksheets": [
  {
   "cells": [
    {
     "cell_type": "code",
     "collapsed": false,
     "input": [
      "class Point:\n",
      "    def __init__(self,x,y):\n",
      "        self.x=x\n",
      "        self.x=y\n",
      "    def __add__(self,a):\n",
      "        self.nx=self.x+a.x\n",
      "        self.ny=self.y+a.y\n",
      "        return Point(self.nx,self.ny)\n",
      "    def __repr(self):\n",
      "        "
     ],
     "language": "python",
     "metadata": {},
     "outputs": []
    }
   ],
   "metadata": {}
  }
 ]
}