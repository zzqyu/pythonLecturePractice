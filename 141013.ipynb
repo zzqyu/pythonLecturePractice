{
 "metadata": {
  "name": "",
  "signature": "sha256:012b637dbf547acc62da74b4e8f6edb0019bfcd775bcd79694f4e0a3639f2663"
 },
 "nbformat": 3,
 "nbformat_minor": 0,
 "worksheets": [
  {
   "cells": [
    {
     "cell_type": "markdown",
     "metadata": {},
     "source": [
      "#L systems"
     ]
    },
    {
     "cell_type": "markdown",
     "metadata": {},
     "source": [
      "##Algae"
     ]
    },
    {
     "cell_type": "code",
     "collapsed": false,
     "input": [
      "rules={'A':'AB','B':'A'}\n",
      "start='A'\n",
      "n=5\n",
      "\n",
      "s=start\n",
      "\n",
      "print (s)\n",
      "\n",
      "for k in range(n):\n",
      "    s=''.join([rules[v] for v in s])\n",
      "    print(s)"
     ],
     "language": "python",
     "metadata": {},
     "outputs": [
      {
       "output_type": "stream",
       "stream": "stdout",
       "text": [
        "A\n",
        "AB\n",
        "ABA\n",
        "ABAAB\n",
        "ABAABABA\n",
        "ABAABABAABAAB\n"
       ]
      }
     ],
     "prompt_number": 1
    },
    {
     "cell_type": "markdown",
     "metadata": {},
     "source": [
      "##Fibonacci numbers"
     ]
    },
    {
     "cell_type": "code",
     "collapsed": false,
     "input": [
      "rules={'A':'B','B':'AB'}\n",
      "start='A'\n",
      "n=7\n",
      "\n",
      "s=start\n",
      "\n",
      "print (\"n= 0 :\",s)\n",
      "\n",
      "for k in range(n):\n",
      "    s=''.join([rules[v] for v in s])\n",
      "    print(\"n=\",k+1,\":\",s)"
     ],
     "language": "python",
     "metadata": {},
     "outputs": [
      {
       "output_type": "stream",
       "stream": "stdout",
       "text": [
        "n= 0 : A\n",
        "n= 1 : B\n",
        "n= 2 : AB\n",
        "n= 3 : BAB\n",
        "n= 4 : ABBAB\n",
        "n= 5 : BABABBAB\n",
        "n= 6 : ABBABBABABBAB\n",
        "n= 7 : BABABBABABBABBABABBAB\n"
       ]
      }
     ],
     "prompt_number": 9
    },
    {
     "cell_type": "markdown",
     "metadata": {},
     "source": [
      "##Koch curve"
     ]
    },
    {
     "cell_type": "code",
     "collapsed": false,
     "input": [
      "rules={'F':'F+F-F-F+F'}\n",
      "start='F'\n",
      "n=2\n",
      "\n",
      "s=start\n",
      "\n",
      "print (\"n= 0 :\",s)\n",
      "\n",
      "for k in range(n):\n",
      "    s=''.join([rules.get(v,v) for v in s])\n",
      "    print(\"n=\",k+1,\":\",s)"
     ],
     "language": "python",
     "metadata": {},
     "outputs": [
      {
       "output_type": "stream",
       "stream": "stdout",
       "text": [
        "n= 0 : F\n",
        "n= 1 : F+F-F-F+F\n",
        "n= 2 : F+F-F-F+F+F+F-F-F+F-F+F-F-F+F-F+F-F-F+F+F+F-F-F+F\n"
       ]
      }
     ],
     "prompt_number": 16
    },
    {
     "cell_type": "code",
     "collapsed": false,
     "input": [
      "from turtle import *\n",
      "import sys\n",
      "\n",
      "tracer(False)\n",
      "up()\n",
      "bs"
     ],
     "language": "python",
     "metadata": {},
     "outputs": []
    }
   ],
   "metadata": {}
  }
 ]
}