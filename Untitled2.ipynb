{
 "metadata": {
  "name": "",
  "signature": "sha256:d6716fd9f64a613675da39b2952c2777f9a1a1a5f7efba74326326650dc85c95"
 },
 "nbformat": 3,
 "nbformat_minor": 0,
 "worksheets": [
  {
   "cells": [
    {
     "cell_type": "code",
     "collapsed": false,
     "input": [
      "a=12595\n",
      "chr(a)"
     ],
     "language": "python",
     "metadata": {},
     "outputs": [
      {
       "metadata": {},
       "output_type": "pyout",
       "prompt_number": 14,
       "text": [
        "'\u3133'"
       ]
      }
     ],
     "prompt_number": 14
    },
    {
     "cell_type": "code",
     "collapsed": false,
     "input": [
      "class bunri:\n",
      "    def __init__(self,hanguel):\n",
      "        self.hanguel=ord(hanguel)\n",
      "    def jamo(self):\n",
      "        self.hanguel = self.hanguel - 44032\n",
      "        self.cho = int(self.hanguel / 588)\n",
      "        self.jung = int((in_char-self.cho*588)/28)\n",
      "        self.jong = int(in_char-in_cho*588-in_jung*28)\n",
      "        self.hanguel += 44032\n",
      "        self.cho+=12593\n",
      "        self.jung+=12593\n",
      "        self.jong+=12593\n",
      "        print ('%s=%s+%s+%s'.format(self.hanguel,self.cho,self.jung,self.jong))"
     ],
     "language": "python",
     "metadata": {},
     "outputs": [],
     "prompt_number": 15
    },
    {
     "cell_type": "code",
     "collapsed": false,
     "input": [
      "a=bunri('rk')"
     ],
     "language": "python",
     "metadata": {},
     "outputs": [
      {
       "ename": "TypeError",
       "evalue": "__init__() missing 1 required positional argument: 'hanguel'",
       "output_type": "pyerr",
       "traceback": [
        "\u001b[1;31m---------------------------------------------------------------------------\u001b[0m\n\u001b[1;31mTypeError\u001b[0m                                 Traceback (most recent call last)",
        "\u001b[1;32m<ipython-input-19-2b7ea549cf48>\u001b[0m in \u001b[0;36m<module>\u001b[1;34m()\u001b[0m\n\u001b[1;32m----> 1\u001b[1;33m \u001b[0ma\u001b[0m\u001b[1;33m=\u001b[0m\u001b[0mbunri\u001b[0m\u001b[1;33m(\u001b[0m\u001b[1;33m)\u001b[0m\u001b[1;33m\u001b[0m\u001b[0m\n\u001b[0m",
        "\u001b[1;31mTypeError\u001b[0m: __init__() missing 1 required positional argument: 'hanguel'"
       ]
      }
     ],
     "prompt_number": 19
    },
    {
     "cell_type": "code",
     "collapsed": false,
     "input": [
      "print(a)"
     ],
     "language": "python",
     "metadata": {},
     "outputs": [
      {
       "output_type": "stream",
       "stream": "stdout",
       "text": [
        "<__main__.bunri object at 0x00000000045E3E80>\n"
       ]
      }
     ],
     "prompt_number": 18
    },
    {
     "cell_type": "code",
     "collapsed": false,
     "input": [
      "import os\n",
      "for curdir, dirs, files in os.walk('g:\\\\'):\n",
      "    if('1\uc870 \ucd5c\uc885.ppt' in files[0:]==True):\n",
      "        print(curdir, files, end='\\n\\n\\n\\n\\n')"
     ],
     "language": "python",
     "metadata": {},
     "outputs": [],
     "prompt_number": 42
    },
    {
     "cell_type": "code",
     "collapsed": false,
     "input": [],
     "language": "python",
     "metadata": {},
     "outputs": []
    }
   ],
   "metadata": {}
  }
 ]
}