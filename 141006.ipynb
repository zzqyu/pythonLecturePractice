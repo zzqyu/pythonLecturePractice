{
 "metadata": {
  "name": "",
  "signature": "sha256:7e12454407f859353430bbb822ec7710113de2dc3a579255ab2848333372d80d"
 },
 "nbformat": 3,
 "nbformat_minor": 0,
 "worksheets": [
  {
   "cells": [
    {
     "cell_type": "markdown",
     "metadata": {},
     "source": [
      "#2014726048 \uae40\uc815\uaddc\n",
      "## 141006  GPS"
     ]
    },
    {
     "cell_type": "code",
     "collapsed": false,
     "input": [
      "tpf='''<trkpt lat=\"{}\" lon=\"{}\">\n",
      "<ele>{}</ele>\n",
      "<time>{}</time>\n",
      "</trkpt>'''\n",
      "\n",
      "header= '''<?xml version=\"1.0\" encoding=\"UTF-8\"?>\n",
      "<gpx\n",
      "  version=\"1.0\"\n",
      "  creator=\"Gang Seong Lee\"\n",
      "  xmlns:xsi=\"http://www.w3.org/2001/XMLSchema-instance\"\n",
      "  xmlns=\"http://www.topografix.com/GPX/1/0\"\n",
      "  xsi:schemaLocation=\"http://www.topografix.com/GPX/1/0 http://www.topografix.com/GPX/1/0/gpx.xsd\">\n",
      "<trk>\n",
      "  <trkseg>'''\n",
      "\n",
      "footer='''</trkseg>\n",
      "</trk>\n",
      "</gpx>'''\n"
     ],
     "language": "python",
     "metadata": {},
     "outputs": [],
     "prompt_number": 74
    },
    {
     "cell_type": "code",
     "collapsed": false,
     "input": [
      "year=0\n",
      "f=open('dobong.gpx','w')\n",
      "f.write(header)\n",
      "for line in open('D:\\\\python\\\\141006\\\\dobong.log'):\n",
      "    ws=line.split(',')\n",
      "    if year!=0 and ws[0]=='$GPGGA':\n",
      "        lat=dm2dec(ws[2])\n",
      "        lon=dm2dec(ws[4])\n",
      "        ele=float(ws[9])\n",
      "        tms=ws[1]\n",
      "        hour, minute, sec= list(map(int,(tms[:2],tms[2:4],tms[4:])))\n",
      "        tms='{}-{:02d}-{:02d}T{:02d}:{:02d}:{:02d}Z'.format(year,month,day,hour,minute,sec)\n",
      "        tp=tpf.format(lat,lon,ele,tms)\n",
      "        f.write(tp)\n",
      "    elif ws[0]=='$GPRMC':\n",
      "        ds=ws[9]\n",
      "        day,month,year=list(map(int,(ds[:2],ds[2:4],ds[4:])))\n",
      "        year+=2000\n",
      "f.write(footer)\n",
      "f.close()"
     ],
     "language": "python",
     "metadata": {},
     "outputs": [],
     "prompt_number": 82
    },
    {
     "cell_type": "code",
     "collapsed": false,
     "input": [
      "f=open('test.txt','w')\n",
      "f.write('abc\\n')\n",
      "f.write('dfdfdfd')\n",
      "f.close()"
     ],
     "language": "python",
     "metadata": {},
     "outputs": [],
     "prompt_number": 78
    },
    {
     "cell_type": "code",
     "collapsed": false,
     "input": [
      "f"
     ],
     "language": "python",
     "metadata": {},
     "outputs": [
      {
       "metadata": {},
       "output_type": "pyout",
       "prompt_number": 79,
       "text": [
        "<_io.TextIOWrapper name='test.txt' mode='w' encoding='cp949'>"
       ]
      }
     ],
     "prompt_number": 79
    },
    {
     "cell_type": "code",
     "collapsed": false,
     "input": [],
     "language": "python",
     "metadata": {},
     "outputs": []
    }
   ],
   "metadata": {}
  }
 ]
}