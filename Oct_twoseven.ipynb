{
 "metadata": {
  "name": "",
  "signature": "sha256:f3e3fac4369cb6afc4468326ba09e88f0c7880ef0c590f61235642ce3ae5f0b2"
 },
 "nbformat": 3,
 "nbformat_minor": 0,
 "worksheets": [
  {
   "cells": [
    {
     "cell_type": "markdown",
     "metadata": {},
     "source": [
      "###keyword cipher, \ube44\uc988\ub124\ub974, \uc544\ud540 \uc554\ud638"
     ]
    },
    {
     "cell_type": "code",
     "collapsed": false,
     "input": [
      "#\uc544\ud540\n",
      "k=10\n",
      "k*3%26"
     ],
     "language": "python",
     "metadata": {},
     "outputs": [
      {
       "metadata": {},
       "output_type": "pyout",
       "prompt_number": 4,
       "text": [
        "4"
       ]
      }
     ],
     "prompt_number": 4
    },
    {
     "cell_type": "code",
     "collapsed": false,
     "input": [
      "4*9%26"
     ],
     "language": "python",
     "metadata": {},
     "outputs": [
      {
       "metadata": {},
       "output_type": "pyout",
       "prompt_number": 5,
       "text": [
        "10"
       ]
      }
     ],
     "prompt_number": 5
    },
    {
     "cell_type": "code",
     "collapsed": false,
     "input": [
      "k=10\n",
      "(k*3+1)%26"
     ],
     "language": "python",
     "metadata": {},
     "outputs": [
      {
       "metadata": {},
       "output_type": "pyout",
       "prompt_number": 6,
       "text": [
        "5"
       ]
      }
     ],
     "prompt_number": 6
    },
    {
     "cell_type": "code",
     "collapsed": false,
     "input": [
      "9*(5-1)%26"
     ],
     "language": "python",
     "metadata": {},
     "outputs": [
      {
       "metadata": {},
       "output_type": "pyout",
       "prompt_number": 7,
       "text": [
        "10"
       ]
      }
     ],
     "prompt_number": 7
    },
    {
     "cell_type": "code",
     "collapsed": false,
     "input": [
      "import string\n",
      "\n",
      "def make_enc_table(key, s):\n",
      "    ascii1 = list(string.ascii_uppercase)\n",
      "    ascii2=['']*26\n",
      "    k=ascii1.index(s)\n",
      "    for c in key:\n",
      "        ascii2[k]=c\n",
      "        k=(k+1)%26\n",
      "    for c in ascii1:\n",
      "        if c not in ascii2:\n",
      "            ascii2[k] = c\n",
      "            k = (k+1)%26\n",
      "    return dict(zip(ascii1,ascii2))"
     ],
     "language": "python",
     "metadata": {},
     "outputs": [],
     "prompt_number": 88
    },
    {
     "cell_type": "code",
     "collapsed": false,
     "input": [
      "make_enc_table('KRYPTOS','E')"
     ],
     "language": "python",
     "metadata": {},
     "outputs": [
      {
       "metadata": {},
       "output_type": "pyout",
       "prompt_number": 89,
       "text": [
        "{'A': 'V',\n",
        " 'B': 'W',\n",
        " 'C': 'X',\n",
        " 'D': 'Z',\n",
        " 'E': 'K',\n",
        " 'F': 'R',\n",
        " 'G': 'Y',\n",
        " 'H': 'P',\n",
        " 'I': 'T',\n",
        " 'J': 'O',\n",
        " 'K': 'S',\n",
        " 'L': 'A',\n",
        " 'M': 'B',\n",
        " 'N': 'C',\n",
        " 'O': 'D',\n",
        " 'P': 'E',\n",
        " 'Q': 'F',\n",
        " 'R': 'G',\n",
        " 'S': 'H',\n",
        " 'T': 'I',\n",
        " 'U': 'J',\n",
        " 'V': 'L',\n",
        " 'W': 'M',\n",
        " 'X': 'N',\n",
        " 'Y': 'Q',\n",
        " 'Z': 'U'}"
       ]
      }
     ],
     "prompt_number": 89
    },
    {
     "cell_type": "code",
     "collapsed": false,
     "input": [
      "key = 'KRYPTOS'"
     ],
     "language": "python",
     "metadata": {},
     "outputs": [],
     "prompt_number": 71
    },
    {
     "cell_type": "code",
     "collapsed": false,
     "input": [
      "ascii2=list(key)"
     ],
     "language": "python",
     "metadata": {},
     "outputs": [],
     "prompt_number": 72
    },
    {
     "cell_type": "code",
     "collapsed": false,
     "input": [
      "for c in ascii1:\n",
      "    if c not in ascii2:\n",
      "        ascii2.append(c)\n",
      "''.join(ascii2)"
     ],
     "language": "python",
     "metadata": {},
     "outputs": [
      {
       "metadata": {},
       "output_type": "pyout",
       "prompt_number": 73,
       "text": [
        "'KRYPTOSABCDEFGHIJLMNQUVWXZ'"
       ]
      }
     ],
     "prompt_number": 73
    },
    {
     "cell_type": "code",
     "collapsed": false,
     "input": [
      "dict(zip(ascii1,ascii2))"
     ],
     "language": "python",
     "metadata": {},
     "outputs": [
      {
       "metadata": {},
       "output_type": "pyout",
       "prompt_number": 74,
       "text": [
        "{'A': 'K',\n",
        " 'B': 'R',\n",
        " 'C': 'Y',\n",
        " 'D': 'P',\n",
        " 'E': 'T',\n",
        " 'F': 'O',\n",
        " 'G': 'S',\n",
        " 'H': 'A',\n",
        " 'I': 'B',\n",
        " 'J': 'C',\n",
        " 'K': 'D',\n",
        " 'L': 'E',\n",
        " 'M': 'F',\n",
        " 'N': 'G',\n",
        " 'O': 'H',\n",
        " 'P': 'I',\n",
        " 'Q': 'J',\n",
        " 'R': 'L',\n",
        " 'S': 'M',\n",
        " 'T': 'N',\n",
        " 'U': 'Q',\n",
        " 'V': 'U',\n",
        " 'W': 'V',\n",
        " 'X': 'W',\n",
        " 'Y': 'X',\n",
        " 'Z': 'Z'}"
       ]
      }
     ],
     "prompt_number": 74
    },
    {
     "cell_type": "code",
     "collapsed": false,
     "input": [
      "table = dict(zip(ascii1,ascii2))"
     ],
     "language": "python",
     "metadata": {},
     "outputs": [],
     "prompt_number": 75
    },
    {
     "cell_type": "code",
     "collapsed": false,
     "input": [
      "plain_text = 'knowledge is power'"
     ],
     "language": "python",
     "metadata": {},
     "outputs": [],
     "prompt_number": 76
    },
    {
     "cell_type": "code",
     "collapsed": false,
     "input": [
      "''.join([table.get(c,c) for c in plain_text.upper()])"
     ],
     "language": "python",
     "metadata": {},
     "outputs": [
      {
       "metadata": {},
       "output_type": "pyout",
       "prompt_number": 77,
       "text": [
        "'DGHVETPST BM IHVTL'"
       ]
      }
     ],
     "prompt_number": 77
    },
    {
     "cell_type": "code",
     "collapsed": false,
     "input": [
      "table2 = dict(zip(ascii2,ascii1))"
     ],
     "language": "python",
     "metadata": {},
     "outputs": [],
     "prompt_number": 78
    },
    {
     "cell_type": "code",
     "collapsed": false,
     "input": [
      "''.join([table2.get(c,c) for c in 'DGHVETPST BM IHVTL'])"
     ],
     "language": "python",
     "metadata": {},
     "outputs": [
      {
       "metadata": {},
       "output_type": "pyout",
       "prompt_number": 79,
       "text": [
        "'KNOWLEDGE IS POWER'"
       ]
      }
     ],
     "prompt_number": 79
    },
    {
     "cell_type": "code",
     "collapsed": false,
     "input": [
      "key = 'KRYPTOS'\n",
      "s='E'"
     ],
     "language": "python",
     "metadata": {},
     "outputs": [],
     "prompt_number": 80
    },
    {
     "cell_type": "code",
     "collapsed": false,
     "input": [
      "ascii2=['']*26"
     ],
     "language": "python",
     "metadata": {},
     "outputs": [],
     "prompt_number": 81
    },
    {
     "cell_type": "code",
     "collapsed": false,
     "input": [
      "k=ascii1.index(s)\n",
      "k"
     ],
     "language": "python",
     "metadata": {},
     "outputs": [
      {
       "metadata": {},
       "output_type": "pyout",
       "prompt_number": 82,
       "text": [
        "4"
       ]
      }
     ],
     "prompt_number": 82
    },
    {
     "cell_type": "code",
     "collapsed": false,
     "input": [
      "for c in key:\n",
      "    ascii2[k] = c\n",
      "    k = (k+1)%26"
     ],
     "language": "python",
     "metadata": {},
     "outputs": [],
     "prompt_number": 83
    },
    {
     "cell_type": "code",
     "collapsed": false,
     "input": [
      "for c in ascii1:\n",
      "    if c not in ascii2:\n",
      "        ascii2[k] = c\n",
      "        k = (k+1)%26"
     ],
     "language": "python",
     "metadata": {},
     "outputs": [],
     "prompt_number": 84
    },
    {
     "cell_type": "code",
     "collapsed": false,
     "input": [
      "ascii2"
     ],
     "language": "python",
     "metadata": {},
     "outputs": [
      {
       "metadata": {},
       "output_type": "pyout",
       "prompt_number": 85,
       "text": [
        "['V',\n",
        " 'W',\n",
        " 'X',\n",
        " 'Z',\n",
        " 'K',\n",
        " 'R',\n",
        " 'Y',\n",
        " 'P',\n",
        " 'T',\n",
        " 'O',\n",
        " 'S',\n",
        " 'A',\n",
        " 'B',\n",
        " 'C',\n",
        " 'D',\n",
        " 'E',\n",
        " 'F',\n",
        " 'G',\n",
        " 'H',\n",
        " 'I',\n",
        " 'J',\n",
        " 'L',\n",
        " 'M',\n",
        " 'N',\n",
        " 'Q',\n",
        " 'U']"
       ]
      }
     ],
     "prompt_number": 85
    },
    {
     "cell_type": "code",
     "collapsed": false,
     "input": [],
     "language": "python",
     "metadata": {},
     "outputs": []
    }
   ],
   "metadata": {}
  }
 ]
}