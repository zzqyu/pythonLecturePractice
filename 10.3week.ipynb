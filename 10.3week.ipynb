{
 "metadata": {
  "name": "",
  "signature": "sha256:53ed15fa20be637e72991e65c2831edb934d632f3a9e2f2a32073b7cd8ad0d30"
 },
 "nbformat": 3,
 "nbformat_minor": 0,
 "worksheets": [
  {
   "cells": [
    {
     "cell_type": "markdown",
     "metadata": {},
     "source": [
      "#\ubaa8\ub4c8\ub9cc\ub4e4\uae30"
     ]
    },
    {
     "cell_type": "code",
     "collapsed": false,
     "input": [
      "%%file mymath.py\n",
      "mypi=3.14\n",
      "\n",
      "def add(a,b):\n",
      "    return a+b\n",
      "\n",
      "def area(r):\n",
      "    return mypi*r*r"
     ],
     "language": "python",
     "metadata": {},
     "outputs": [
      {
       "output_type": "stream",
       "stream": "stdout",
       "text": [
        "Writing mymath.py\n"
       ]
      }
     ],
     "prompt_number": 2
    },
    {
     "cell_type": "code",
     "collapsed": false,
     "input": [
      "!dir mymath.py"
     ],
     "language": "python",
     "metadata": {},
     "outputs": [
      {
       "output_type": "stream",
       "stream": "stdout",
       "text": [
        " C \ub4dc\ub77c\uc774\ube0c\uc758 \ubcfc\ub968\uc5d0\ub294 \uc774\ub984\uc774 \uc5c6\uc2b5\ub2c8\ub2e4.\n",
        " \ubcfc\ub968 \uc77c\ub828 \ubc88\ud638: 3ACC-189C\n",
        "\n",
        " C:\\Users\\KimJeongGyu\\Documents\\IPython Notebooks \ub514\ub809\ud130\ub9ac\n",
        "\n",
        "2014-10-27  \uc624\uc804 09:19                79 mymath.py\n",
        "               1\uac1c \ud30c\uc77c                  79 \ubc14\uc774\ud2b8\n",
        "               0\uac1c \ub514\ub809\ud130\ub9ac   5,401,526,272 \ubc14\uc774\ud2b8 \ub0a8\uc74c\n"
       ]
      }
     ],
     "prompt_number": 4
    },
    {
     "cell_type": "code",
     "collapsed": false,
     "input": [
      "import mymath"
     ],
     "language": "python",
     "metadata": {},
     "outputs": [],
     "prompt_number": 5
    },
    {
     "cell_type": "code",
     "collapsed": false,
     "input": [
      "dir(mymath)"
     ],
     "language": "python",
     "metadata": {},
     "outputs": [
      {
       "metadata": {},
       "output_type": "pyout",
       "prompt_number": 6,
       "text": [
        "['__builtins__',\n",
        " '__cached__',\n",
        " '__doc__',\n",
        " '__file__',\n",
        " '__loader__',\n",
        " '__name__',\n",
        " '__package__',\n",
        " '__spec__',\n",
        " 'add',\n",
        " 'area',\n",
        " 'mypi']"
       ]
      }
     ],
     "prompt_number": 6
    },
    {
     "cell_type": "code",
     "collapsed": false,
     "input": [
      "mymath.mypi"
     ],
     "language": "python",
     "metadata": {},
     "outputs": [
      {
       "metadata": {},
       "output_type": "pyout",
       "prompt_number": 7,
       "text": [
        "3.14"
       ]
      }
     ],
     "prompt_number": 7
    },
    {
     "cell_type": "code",
     "collapsed": false,
     "input": [
      "mymath.area(3)"
     ],
     "language": "python",
     "metadata": {},
     "outputs": [
      {
       "metadata": {},
       "output_type": "pyout",
       "prompt_number": 8,
       "text": [
        "28.259999999999998"
       ]
      }
     ],
     "prompt_number": 8
    },
    {
     "cell_type": "code",
     "collapsed": false,
     "input": [
      "from mymath import *##(area)"
     ],
     "language": "python",
     "metadata": {},
     "outputs": [],
     "prompt_number": 9
    },
    {
     "cell_type": "markdown",
     "metadata": {},
     "source": [
      "#\ubaa8\ub4c8 \uac80\uc0c9 \uacbd\ub85c"
     ]
    },
    {
     "cell_type": "code",
     "collapsed": false,
     "input": [
      "import sys\n",
      "sys.path"
     ],
     "language": "python",
     "metadata": {},
     "outputs": [
      {
       "metadata": {},
       "output_type": "pyout",
       "prompt_number": 10,
       "text": [
        "['',\n",
        " 'D:\\\\Users\\\\KimJeongGyu\\\\Anaconda3\\\\python34.zip',\n",
        " 'D:\\\\Users\\\\KimJeongGyu\\\\Anaconda3\\\\DLLs',\n",
        " 'D:\\\\Users\\\\KimJeongGyu\\\\Anaconda3\\\\lib',\n",
        " 'D:\\\\Users\\\\KimJeongGyu\\\\Anaconda3',\n",
        " 'D:\\\\Users\\\\KimJeongGyu\\\\Anaconda3\\\\lib\\\\site-packages',\n",
        " 'D:\\\\Users\\\\KimJeongGyu\\\\Anaconda3\\\\lib\\\\site-packages\\\\Sphinx-1.2.3-py3.4.egg',\n",
        " 'D:\\\\Users\\\\KimJeongGyu\\\\Anaconda3\\\\lib\\\\site-packages\\\\win32',\n",
        " 'D:\\\\Users\\\\KimJeongGyu\\\\Anaconda3\\\\lib\\\\site-packages\\\\win32\\\\lib',\n",
        " 'D:\\\\Users\\\\KimJeongGyu\\\\Anaconda3\\\\lib\\\\site-packages\\\\Pythonwin',\n",
        " 'D:\\\\Users\\\\KimJeongGyu\\\\Anaconda3\\\\lib\\\\site-packages\\\\runipy-0.1.1-py3.4.egg',\n",
        " 'D:\\\\Users\\\\KimJeongGyu\\\\Anaconda3\\\\lib\\\\site-packages\\\\setuptools-5.8-py3.4.egg',\n",
        " 'D:\\\\Users\\\\KimJeongGyu\\\\Anaconda3\\\\lib\\\\site-packages\\\\IPython\\\\extensions']"
       ]
      }
     ],
     "prompt_number": 10
    },
    {
     "cell_type": "code",
     "collapsed": false,
     "input": [
      "#\ud30c\uc774\uc36c \ud658\uacbd\ubcc0\uc218\n",
      "!echo %PYTHONPATH"
     ],
     "language": "python",
     "metadata": {},
     "outputs": [
      {
       "output_type": "stream",
       "stream": "stdout",
       "text": [
        "%PYTHONPATH\n"
       ]
      }
     ],
     "prompt_number": 11
    },
    {
     "cell_type": "markdown",
     "metadata": {},
     "source": [
      "#IMPORT"
     ]
    },
    {
     "cell_type": "code",
     "collapsed": false,
     "input": [
      "import math\n",
      "from math import sin, cos,pi\n",
      "from math import *\n",
      "import numpy as np\n",
      "from re import sub as substitute\n",
      "from re import sub as sub1, subn as sub2\n",
      "from Tkinter import(Tk, Frame, Button,Canvas)"
     ],
     "language": "python",
     "metadata": {},
     "outputs": [
      {
       "ename": "ImportError",
       "evalue": "No module named 'Tkinter'",
       "output_type": "pyerr",
       "traceback": [
        "\u001b[1;31m---------------------------------------------------------------------------\u001b[0m\n\u001b[1;31mImportError\u001b[0m                               Traceback (most recent call last)",
        "\u001b[1;32m<ipython-input-12-fe0e2510a279>\u001b[0m in \u001b[0;36m<module>\u001b[1;34m()\u001b[0m\n\u001b[0;32m      5\u001b[0m \u001b[1;32mfrom\u001b[0m \u001b[0mre\u001b[0m \u001b[1;32mimport\u001b[0m \u001b[0msub\u001b[0m \u001b[1;32mas\u001b[0m \u001b[0msubstitute\u001b[0m\u001b[1;33m\u001b[0m\u001b[0m\n\u001b[0;32m      6\u001b[0m \u001b[1;32mfrom\u001b[0m \u001b[0mre\u001b[0m \u001b[1;32mimport\u001b[0m \u001b[0msub\u001b[0m \u001b[1;32mas\u001b[0m \u001b[0msub1\u001b[0m\u001b[1;33m,\u001b[0m \u001b[0msubn\u001b[0m \u001b[1;32mas\u001b[0m \u001b[0msub2\u001b[0m\u001b[1;33m\u001b[0m\u001b[0m\n\u001b[1;32m----> 7\u001b[1;33m \u001b[1;32mfrom\u001b[0m \u001b[0mTkinter\u001b[0m \u001b[1;32mimport\u001b[0m\u001b[1;33m(\u001b[0m\u001b[0mTk\u001b[0m\u001b[1;33m,\u001b[0m \u001b[0mFrame\u001b[0m\u001b[1;33m,\u001b[0m \u001b[0mButton\u001b[0m\u001b[1;33m,\u001b[0m\u001b[0mCanvas\u001b[0m\u001b[1;33m)\u001b[0m\u001b[1;33m\u001b[0m\u001b[0m\n\u001b[0m",
        "\u001b[1;31mImportError\u001b[0m: No module named 'Tkinter'"
       ]
      }
     ],
     "prompt_number": 12
    },
    {
     "cell_type": "markdown",
     "metadata": {},
     "source": [
      "#\"__name__\"\ubcc0\uc218"
     ]
    },
    {
     "cell_type": "code",
     "collapsed": false,
     "input": [
      "import math\n",
      "\n",
      "math.__name__"
     ],
     "language": "python",
     "metadata": {},
     "outputs": [
      {
       "metadata": {},
       "output_type": "pyout",
       "prompt_number": 13,
       "text": [
        "'math'"
       ]
      }
     ],
     "prompt_number": 13
    },
    {
     "cell_type": "code",
     "collapsed": false,
     "input": [
      "%%file prname.py\n",
      "print(__name__)"
     ],
     "language": "python",
     "metadata": {},
     "outputs": [
      {
       "output_type": "stream",
       "stream": "stdout",
       "text": [
        "Writing prname.py\n"
       ]
      }
     ],
     "prompt_number": 14
    },
    {
     "cell_type": "code",
     "collapsed": false,
     "input": [
      "import prname"
     ],
     "language": "python",
     "metadata": {},
     "outputs": [
      {
       "output_type": "stream",
       "stream": "stdout",
       "text": [
        "prname\n"
       ]
      }
     ],
     "prompt_number": 15
    },
    {
     "cell_type": "code",
     "collapsed": false,
     "input": [
      "!python prname.py"
     ],
     "language": "python",
     "metadata": {},
     "outputs": [
      {
       "output_type": "stream",
       "stream": "stdout",
       "text": [
        "__main__\n"
       ]
      }
     ],
     "prompt_number": 16
    },
    {
     "cell_type": "code",
     "collapsed": false,
     "input": [
      "%%file name_test.py\n",
      "def test():\n",
      "    print(\"OK\")\n",
      "    \n",
      "if __name__=='__main__':\n",
      "    test()"
     ],
     "language": "python",
     "metadata": {},
     "outputs": [
      {
       "output_type": "stream",
       "stream": "stdout",
       "text": [
        "Writing name_test.py\n"
       ]
      }
     ],
     "prompt_number": 17
    },
    {
     "cell_type": "code",
     "collapsed": false,
     "input": [
      "!python name_test.py"
     ],
     "language": "python",
     "metadata": {},
     "outputs": [
      {
       "output_type": "stream",
       "stream": "stdout",
       "text": [
        "OK\n"
       ]
      }
     ],
     "prompt_number": 18
    },
    {
     "cell_type": "code",
     "collapsed": false,
     "input": [
      "import name_test"
     ],
     "language": "python",
     "metadata": {},
     "outputs": [],
     "prompt_number": 19
    },
    {
     "cell_type": "code",
     "collapsed": false,
     "input": [
      "__name__"
     ],
     "language": "python",
     "metadata": {},
     "outputs": [
      {
       "metadata": {},
       "output_type": "pyout",
       "prompt_number": 20,
       "text": [
        "'__main__'"
       ]
      }
     ],
     "prompt_number": 20
    },
    {
     "cell_type": "markdown",
     "metadata": {},
     "source": [
      "#\ub3d9\uc801\uc73c\ub85c \ubaa8\ub4c8 \uac00\uc838\uc624\uae30"
     ]
    },
    {
     "cell_type": "code",
     "collapsed": false,
     "input": [
      "__import__('re')"
     ],
     "language": "python",
     "metadata": {},
     "outputs": [
      {
       "metadata": {},
       "output_type": "pyout",
       "prompt_number": 21,
       "text": [
        "<module 're' from 'D:\\\\Users\\\\KimJeongGyu\\\\Anaconda3\\\\lib\\\\re.py'>"
       ]
      }
     ],
     "prompt_number": 21
    },
    {
     "cell_type": "markdown",
     "metadata": {},
     "source": [
      "#\ubaa8\ub4c8\uc758 \uacf5\uc720"
     ]
    },
    {
     "cell_type": "code",
     "collapsed": false,
     "input": [
      "import math\n",
      "import imp\n",
      "\n",
      "imp.reload(math) #\uac15\uc81c \uc7ac\uc801\uc7ac"
     ],
     "language": "python",
     "metadata": {},
     "outputs": [
      {
       "metadata": {},
       "output_type": "pyout",
       "prompt_number": 22,
       "text": [
        "<module 'math' (built-in)>"
       ]
      }
     ],
     "prompt_number": 22
    },
    {
     "cell_type": "code",
     "collapsed": false,
     "input": [],
     "language": "python",
     "metadata": {},
     "outputs": []
    }
   ],
   "metadata": {}
  }
 ]
}