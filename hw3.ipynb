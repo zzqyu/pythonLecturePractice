{
 "metadata": {
  "name": "",
  "signature": "sha256:5d8f00e64e7db0898a7c2f39ae1eb3332f172b4b7a53b9da7b994bee810e5d29"
 },
 "nbformat": 3,
 "nbformat_minor": 0,
 "worksheets": [
  {
   "cells": [
    {
     "cell_type": "markdown",
     "metadata": {},
     "source": [
      "#GPX\ubd84\uc11d_\ucef4\ud4e8\ud130\uc18c\ud504\ud2b8\uc6e8\uc5b4\ud559\uacfc_2014726048_\uae40\uc815\uaddc.ipynb"
     ]
    },
    {
     "cell_type": "markdown",
     "metadata": {},
     "source": [
      "#### 0=\uc720\ud615, 1=\uc2dc\uac04, 2=\uc704\ub3c4, 3=\ubd81\uc704\ub0a8\uc704, 4=\uacbd\ub3c4, 9=\ud574\ubc1c\uace0\ub3c4"
     ]
    },
    {
     "cell_type": "markdown",
     "metadata": {},
     "source": [
      "## 1. \uc804\uccb4 \uc774\ub3d9\uac70\ub9ac"
     ]
    },
    {
     "cell_type": "code",
     "collapsed": false,
     "input": [
      "from math import *\n",
      "import numpy as np"
     ],
     "language": "python",
     "metadata": {},
     "outputs": [],
     "prompt_number": 1
    },
    {
     "cell_type": "code",
     "collapsed": false,
     "input": [
      "def geori_not_nopi(dlat,dlon):\n",
      "    radian=np.pi/180\n",
      "    dlat*=radian \n",
      "    dlon*=radian   \n",
      "    R=6373\n",
      "    a = (sin(dlat/2))**2 + cos(lat1) * cos(lat2) * (sin(dlon/2))**2 \n",
      "    c = 2 * atan2( sqrt(a), sqrt(1-a) ) \n",
      "    d = R * c \n",
      "    return d"
     ],
     "language": "python",
     "metadata": {},
     "outputs": [],
     "prompt_number": 2
    },
    {
     "cell_type": "code",
     "collapsed": false,
     "input": [
      "def distance(geori,dele):\n",
      "    return (geori**2+(dele)**2)**0.5"
     ],
     "language": "python",
     "metadata": {},
     "outputs": [],
     "prompt_number": 3
    },
    {
     "cell_type": "code",
     "collapsed": false,
     "input": [
      "num=0\n",
      "gpgga=['0']\n",
      "for line in open('D:\\\\dobong.log'):\n",
      "    ws=line.split(',')\n",
      "    if ws[0]=='$GPGGA':\n",
      "        if num==0:\n",
      "            gpgga[0]=[ws[2],ws[4],ws[9]]\n",
      "\n",
      "        else:\n",
      "            gpgga.extend([[ws[2],ws[4],ws[9]]])\n",
      "        num+=1\n",
      "k=1\n",
      "sum=0\n",
      "sum1=0\n",
      "while k<len(gpgga):\n",
      "    lat2=float(gpgga[k][0])/100\n",
      "    lon2=float(gpgga[k][1])/100\n",
      "    ele2=float(gpgga[k][2])/1000\n",
      "    k-=1\n",
      "    lat1=float(gpgga[k][0])/100\n",
      "    lon1=float(gpgga[k][1])/100\n",
      "    ele1=float(gpgga[k][2])/1000\n",
      "    k+=2\n",
      "    dlat=(lat2-lat1)\n",
      "    dlon=(lon2-lon1)\n",
      "    dele=(ele2-ele1)\n",
      "    geori=geori_not_nopi(dlat,dlon)\n",
      "    \n",
      "    sum+=distance(geori,dele)\n",
      "    sum1+=geori_not_nopi(dlat,dlon)\n",
      "print(sum,'km')"
     ],
     "language": "python",
     "metadata": {},
     "outputs": [
      {
       "output_type": "stream",
       "stream": "stdout",
       "text": [
        "11.40134064611266 km\n"
       ]
      }
     ],
     "prompt_number": 4
    },
    {
     "cell_type": "markdown",
     "metadata": {},
     "source": [
      "## 2. \ud3c9\uade0\uc18d\ub3c4\n",
      "### $ \ud3c9\uade0\uc18d\ub3c4 =\\frac{\ubcc0\uc704}{\uac78\ub9b0\uc2dc\uac04},  \ubcc0\uc704=(\ub9c8\uc9c0\ub9c9\uc704\uce58-\ucc98\uc74c\uc704\uce58)$\n",
      "### $ \ud3c9\uade0\uc18d\ub825 =\\frac{\uc804\uccb4\uc774\ub3d9\uac70\ub9ac}{\uac78\ub9b0\uc2dc\uac04}$"
     ]
    },
    {
     "cell_type": "code",
     "collapsed": false,
     "input": [
      "last_spot=len(gpgga)-1\n",
      "lat2=float(gpgga[last_spot][0])/100\n",
      "lon2=float(gpgga[last_spot][1])/100\n",
      "ele2=float(gpgga[last_spot][2])/1000\n",
      "\n",
      "lat1=float(gpgga[0][0])/100\n",
      "lon1=float(gpgga[0][1])/100\n",
      "ele1=float(gpgga[0][2])/1000\n",
      "\n",
      "dlat=(lat2-lat1)\n",
      "dlon=(lon2-lon1)\n",
      "dele=(ele2-ele1)\n",
      "geori=geori_not_nopi(dlat,dlon)\n",
      "byeonwi=distance(geori,dele)\n",
      "print(\"\ubcc0\uc704=\",byeonwi,\"km\")\n",
      "num=0\n",
      "gprmc=['0']\n",
      "for line in open('D:\\\\dobong.log'):\n",
      "    ws=line.split(',')\n",
      "    if ws[0]=='$GPRMC':\n",
      "        if num==0:\n",
      "            gprmc[0]=ws[1]\n",
      "\n",
      "        else:\n",
      "            gprmc.extend([ws[1]])\n",
      "        \n",
      "        num+=1\n",
      "    else:\n",
      "        pass\n",
      "    \n",
      "def hour(t):\n",
      "    return int(float(t)/10000)\n",
      "def minute(t):\n",
      "    return int((float(t)-hour(t)*10000)/100)\n",
      "def sec(t):\n",
      "    return int((float(t)-hour(t)*10000-minute(t)*100))\n",
      "time=(hour(gprmc[last_spot])*3600+minute(gprmc[last_spot])*60+minute(gprmc[last_spot]))-(hour(gprmc[0])*3600+minute(gprmc[0])*60+minute(gprmc[0]))\n",
      "time=time/3600\n",
      "\n",
      "print(\"\uac78\ub9b0\uc2dc\uac04=\",time,\"hour\")\n",
      "\n",
      "print(\"\ud3c9\uade0\uc18d\ub3c4=\",byeonwi/time,\"km/h\")"
     ],
     "language": "python",
     "metadata": {},
     "outputs": [
      {
       "output_type": "stream",
       "stream": "stdout",
       "text": [
        "\ubcc0\uc704= 2.154184111770142 km\n",
        "\uac78\ub9b0\uc2dc\uac04="
       ]
      },
      {
       "output_type": "stream",
       "stream": "stdout",
       "text": [
        " 5.016944444444444 hour\n",
        "\ud3c9\uade0\uc18d\ub3c4= 0.4293816954970661 km/h\n"
       ]
      }
     ],
     "prompt_number": 5
    },
    {
     "cell_type": "markdown",
     "metadata": {},
     "source": [
      "## 3. \uace0\ub3c4 \ucc28\uc774\ub97c \uacc4\uc0b0\ud558\uc5ec \uc624\ub978 \ub204\uc801 \ub192\uc774\uc640, \ub0b4\ub824\uc628 \ub204\uc801 \ub192\uc774"
     ]
    },
    {
     "cell_type": "code",
     "collapsed": false,
     "input": [
      "k=1\n",
      "plsum=0#\ub204\uc801\uc62c\ub77c\uac04\ub192\uc774\n",
      "misum=0#\ub204\uc801\ub0b4\ub824\uac04\ub192\uc774\n",
      "while k<len(gpgga):\n",
      "    ele2=float(gpgga[k][2])\n",
      "    k-=1\n",
      "    ele1=float(gpgga[k][2])\n",
      "    k+=2\n",
      "    dele=(ele2-ele1)\n",
      "    if dele>=0:\n",
      "        plsum+=dele\n",
      "    else:\n",
      "        misum+=dele\n",
      "print(\"\ub204\uc801 \uc62c\ub77c\uac04 \ub192\uc774\ub294\",plsum/1000,'km')\n",
      "print(\"\ub204\uc801 \ub0b4\ub824\uac04 \ub192\uc774\ub294\",misum/1000,'km')"
     ],
     "language": "python",
     "metadata": {},
     "outputs": [
      {
       "output_type": "stream",
       "stream": "stdout",
       "text": [
        "\ub204\uc801 \uc62c\ub77c\uac04 \ub192\uc774\ub294 3.5995000000000004 km\n",
        "\ub204\uc801 \ub0b4\ub824\uac04 \ub192\uc774\ub294 -3.6083999999999974 km\n"
       ]
      }
     ],
     "prompt_number": 6
    },
    {
     "cell_type": "code",
     "collapsed": false,
     "input": [],
     "language": "python",
     "metadata": {},
     "outputs": []
    }
   ],
   "metadata": {}
  }
 ]
}