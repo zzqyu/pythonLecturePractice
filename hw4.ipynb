{
 "metadata": {
  "name": "",
  "signature": "sha256:5f0904c55e92268c633dd10cacbc76562362017c5f7cffab8c850c7393b6ae54"
 },
 "nbformat": 3,
 "nbformat_minor": 0,
 "worksheets": [
  {
   "cells": [
    {
     "cell_type": "code",
     "collapsed": false,
     "input": [
      "# Fractal Plant_\ucef4\ud4e8\ud130\uc18c\ud504\ud2b8\uc6e8\uc5b4\ud559\uacfc_2014726048_\uae40\uc815\uaddc\n",
      "import turtle\n",
      "import sys\n",
      "def modify(n):\n",
      "    rules={'X':'F-[[X]+X]+F[+FX]-X','F':'FF'}\n",
      "    start='X'\n",
      "    s=start\n",
      "\n",
      "    for k in range(n):\n",
      "        s=''.join([rules.get(v,v) for v in s])\n",
      "\n",
      "    return s\n",
      "\n",
      "\n",
      "def FractalPlant(s):\n",
      "    stack = []\n",
      "    for cmd in s:\n",
      "        if cmd=='F':\n",
      "            turtle.forward(2)\n",
      "        elif cmd=='-':\n",
      "            turtle.left(25)\n",
      "        elif cmd=='+':\n",
      "            turtle.right(25)\n",
      "        elif cmd=='X':\n",
      "            pass\n",
      "        elif cmd=='[':\n",
      "            stack.append((turtle.position(), turtle.heading()))\n",
      "        elif cmd==']':\n",
      "            position, heading = stack.pop()\n",
      "            turtle.up()\n",
      "            turtle.setposition(position)\n",
      "            turtle.setheading(heading)\n",
      "            turtle.down()\n",
      "\n",
      "def setup():\n",
      "    turtle.hideturtle()\n",
      "    turtle.tracer(False)\n",
      "    turtle.left(90)\n",
      "    turtle.up()\n",
      "    turtle.goto(0,-250)\n",
      "    turtle.down()\n",
      "\n",
      "setup()\n",
      "FractalPlant(modify(6))"
     ],
     "language": "python",
     "metadata": {},
     "outputs": [],
     "prompt_number": 1
    },
    {
     "cell_type": "code",
     "collapsed": false,
     "input": [
      "# Koch curve_\ucef4\ud4e8\ud130\uc18c\ud504\ud2b8\uc6e8\uc5b4\ud559\uacfc_2014726048_\uae40\uc815\uaddc\n",
      "def KochCurve(n):\n",
      "    rules={'F':'F+F-F-F+F'}\n",
      "    start='F'\n",
      "    s=start\n",
      "\n",
      "    for k in range(n):\n",
      "        s=''.join([rules.get(v,v) for v in s])\n",
      "        \n",
      "    for c in s:\n",
      "        if c=='F':\n",
      "            forward(10)\n",
      "        elif c=='-':\n",
      "            left(90)\n",
      "        elif c=='+':\n",
      "            right(90)\n",
      "       \n",
      "\n"
     ],
     "language": "python",
     "metadata": {},
     "outputs": [],
     "prompt_number": 1
    },
    {
     "cell_type": "code",
     "collapsed": false,
     "input": [],
     "language": "python",
     "metadata": {},
     "outputs": []
    }
   ],
   "metadata": {}
  }
 ]
}