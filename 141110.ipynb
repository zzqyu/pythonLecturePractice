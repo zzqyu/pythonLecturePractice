{
 "metadata": {
  "name": "",
  "signature": "sha256:146c310ddcc6dacb853a0a1e3eddb80de26648dbf3e465026430343910b2cc41"
 },
 "nbformat": 3,
 "nbformat_minor": 0,
 "worksheets": [
  {
   "cells": [
    {
     "cell_type": "code",
     "collapsed": false,
     "input": [
      "import glob#\ud30c\uc77c\ubaa9\ub85d\uc5bb\uae30\n",
      "\n",
      "glob.glob('*.*')"
     ],
     "language": "python",
     "metadata": {},
     "outputs": [
      {
       "metadata": {},
       "output_type": "pyout",
       "prompt_number": 1,
       "text": [
        "['02_PythonDataTypes.ipynb',\n",
        " '10.1week.ipynb',\n",
        " '10.2week.ipynb',\n",
        " '10.3week.ipynb',\n",
        " '10_2_Serialization.ipynb',\n",
        " '11.1week.ipynb',\n",
        " '11.2week.ipynb',\n",
        " '11.4week.ipynb',\n",
        " '12.1week.ipynb',\n",
        " '140929.ipynb',\n",
        " '141006.ipynb',\n",
        " '141013.ipynb',\n",
        " '141103.ipynb',\n",
        " '141110.ipynb',\n",
        " '141117.ipynb',\n",
        " '141124.ipynb',\n",
        " '141201.ipynb',\n",
        " '2014726048_HW#2.ipynb',\n",
        " '9.3week .ipynb',\n",
        " 'dobong.gpx',\n",
        " 'hw#4.ipynb',\n",
        " 'hw#5.ipynb',\n",
        " 'hw#6.ipynb',\n",
        " 'hw3.ipynb',\n",
        " 'mymath.py',\n",
        " 'name_test.py',\n",
        " 'Oct_twoseven.ipynb',\n",
        " 'Practice.ipynb',\n",
        " 'prname.py',\n",
        " 'Prtc1.ipynb',\n",
        " 'suchihaesuk.ipynb',\n",
        " 'SymPy_test.ipynb',\n",
        " 'test.txt',\n",
        " 'test1.pickle',\n",
        " 'Untitled0.ipynb',\n",
        " 'Untitled1.ipynb']"
       ]
      }
     ],
     "prompt_number": 1
    },
    {
     "cell_type": "code",
     "collapsed": false,
     "input": [
      "import os\n",
      "\n",
      "os.walk('.')#.\uc740 \ud604\uc7ac \ub514\ub809\ud1a0\ub9ac"
     ],
     "language": "python",
     "metadata": {},
     "outputs": [
      {
       "metadata": {},
       "output_type": "pyout",
       "prompt_number": 3,
       "text": [
        "<generator object walk at 0x00000000047694C8>"
       ]
      }
     ],
     "prompt_number": 3
    },
    {
     "cell_type": "code",
     "collapsed": false,
     "input": [
      "for curdir, dirs, files in os.walk('d:\\\\'):\n",
      "    print(curdir, files)"
     ],
     "language": "python",
     "metadata": {},
     "outputs": [
      {
       "output_type": "stream",
       "stream": "stdout",
       "text": [
        "d:\\ ['a.txt', 'AliceInWonderland.txt', 'bootmgr', 'BOOTNXT', 'BOOTSECT.BAK', 'dobong.log', 'photothumb.db']\n",
        "d:\\$RECYCLE.BIN []\n",
        "d:\\$RECYCLE.BIN\\S-1-5-21-3958587152-4026382916-1318285991-1000 ['desktop.ini']\n",
        "d:\\android"
       ]
      },
      {
       "output_type": "stream",
       "stream": "stdout",
       "text": [
        " ['framework-res.apk', 'LGSystemUI_.apk']\n",
        "d:\\android\\.android"
       ]
      },
      {
       "output_type": "stream",
       "stream": "stdout",
       "text": [
        " ['adbkey', 'adbkey.pub', 'adb_usb.ini', 'androidtool.cfg', 'androidwin.cfg', 'ddms.cfg', 'debug.keystore', 'default.keyset', 'devices.xml', 'modem-nv-ram-5554', 'modem-nv-ram-5556', 'repositories.cfg', 'sites-settings.cfg']\n",
        "d:\\android\\.android\\avd ['ns.ini']\n",
        "d:\\android\\.android\\avd\\ns.avd ['cache.img', 'config.ini', 'emulator-user.ini', 'hardware-qemu.ini', 'sdcard.img', 'userdata-qemu.img', 'userdata.img']\n",
        "d:\\android\\.android\\cache"
       ]
      },
      {
       "output_type": "stream",
       "stream": "stdout",
       "text": [
        " ['sdkbin-1_0865a7f7-repository-7_xml', 'sdkbin-1_0873bf78-repository-8_xml', 'sdkbin-1_172100de-addons_list-2_xml', 'sdkbin-1_2bfc99d2-sys-img_xml', 'sdkbin-1_3f2c04c6-sys-img_xml', 'sdkbin-1_47eed008-android-wear-sys-img_xml', 'sdkbin-1_5a8351f8-addon-6_xml', 'sdkbin-1_5d5a844a-addon_xml', 'sdkbin-1_8d07ecd3-addon-x86_xml', 'sdkbin-1_9c35fc9e-addon_xml', 'sdkbin-1_d7014841-sdk-sys-img_xml', 'sdkbin-1_e9f1c86d-sys-img_xml', 'sdkbin-1_f1752442-addon_xml', 'sdkbin-1_f30bfa4f-addon_xml', 'sdkbin-1_f9d1c322-sys-img_xml', 'sdkinf-1_0865a7f7-repository-7_xml', 'sdkinf-1_0873bf78-repository-8_xml', 'sdkinf-1_172100de-addons_list-2_xml', 'sdkinf-1_2bfc99d2-sys-img_xml', 'sdkinf-1_3f2c04c6-sys-img_xml', 'sdkinf-1_47eed008-android-wear-sys-img_xml', 'sdkinf-1_5a8351f8-addon-6_xml', 'sdkinf-1_5d5a844a-addon_xml', 'sdkinf-1_8d07ecd3-addon-x86_xml', 'sdkinf-1_9c35fc9e-addon_xml', 'sdkinf-1_d7014841-sdk-sys-img_xml', 'sdkinf-1_e9f1c86d-sys-img_xml', 'sdkinf-1_f1752442-addon_xml', 'sdkinf-1_f30bfa4f-addon_xml', 'sdkinf-1_f9d1c322-sys-img_xml']\n",
        "d:\\android\\adb ['adb-linux', 'adb-mac', 'adb-windows.exe', 'AdbWinApi.dll', 'AdbWinUsbApi.dll', 'fastboot-linux', 'fastboot-mac', 'fastboot-windows.exe']\n",
        "d:\\android\\android-sdk"
       ]
      },
      {
       "output_type": "stream",
       "stream": "stdout",
       "text": [
        " ['AVD Manager.exe', 'SDK Manager.exe', 'SDK Readme.txt', 'uninstall.exe']\n",
        "d:\\android\\android-sdk\\add-ons []\n",
        "d:\\android\\android-sdk\\add-ons\\addon-google_apis-google-21 ['manifest.ini', 'source.properties']\n",
        "d:\\android\\android-sdk\\add-ons\\addon-google_apis-google-21\\docs []\n",
        "d:\\android\\android-sdk\\add-ons\\addon-google_apis-google-21\\docs\\effects_apis ['allclasses-frame.html', 'allclasses-noframe.html', 'constant-values.html', 'deprecated-list.html', 'help-doc.html', 'index-all.html', 'index.html', 'overview-tree.html', 'package-list', 'stylesheet.css']\n",
        "d:\\android\\android-sdk\\add-ons\\addon-google_apis-google-21\\docs\\effects_apis\\com []\n",
        "d:\\android\\android-sdk\\add-ons\\addon-google_apis-google-21\\docs\\effects_apis\\com\\google []\n",
        "d:\\android\\android-sdk\\add-ons\\addon-google_apis-google-21\\docs\\effects_apis\\com\\google\\android []\n",
        "d:\\android\\android-sdk\\add-ons\\addon-google_apis-google-21\\docs\\effects_apis\\com\\google\\android\\media []\n",
        "d:\\android\\android-sdk\\add-ons\\addon-google_apis-google-21\\docs\\effects_apis\\com\\google\\android\\media\\effects"
       ]
      },
      {
       "output_type": "stream",
       "stream": "stdout",
       "text": [
        " ['EffectList.html', 'package-frame.html', 'package-summary.html', 'package-tree.html']\n",
        "d:\\android\\android-sdk\\add-ons\\addon-google_apis-google-21\\docs\\effects_apis\\resources ['background.gif', 'tab.gif', 'titlebar.gif', 'titlebar_end.gif']\n",
        "d:\\android\\android-sdk\\add-ons\\addon-google_apis-google-21\\docs\\maps_apis ['allclasses-frame.html', 'allclasses-noframe.html', 'constant-values.html', 'deprecated-list.html', 'help-doc.html', 'index-all.html', 'index.html', 'overview-tree.html', 'package-list', 'stylesheet.css']\n",
        "d:\\android\\android-sdk\\add-ons\\addon-google_apis-google-21\\docs\\maps_apis\\com []\n",
        "d:\\android\\android-sdk\\add-ons\\addon-google_apis-google-21\\docs\\maps_apis\\com\\google []\n",
        "d:\\android\\android-sdk\\add-ons\\addon-google_apis-google-21\\docs\\maps_apis\\com\\google\\android []\n",
        "d:\\android\\android-sdk\\add-ons\\addon-google_apis-google-21\\docs\\maps_apis\\com\\google\\android\\maps ['GeoPoint.html', 'ItemizedOverlay.html', 'ItemizedOverlay.OnFocusChangeListener.html', 'MapActivity.html', 'MapController.html', 'MapView.html', 'MapView.LayoutParams.html', 'MapView.ReticleDrawMode.html', 'MyLocationOverlay.html', 'Overlay.html', 'Overlay.Snappable.html', 'OverlayItem.html', 'package-frame.html', 'package-summary.html', 'package-tree.html', 'Projection.html', 'TrackballGestureDetector.html']\n",
        "d:\\android\\android-sdk\\add-ons\\addon-google_apis-google-21\\docs\\maps_apis\\resources ['background.gif', 'tab.gif', 'titlebar.gif', 'titlebar_end.gif']\n",
        "d:\\android\\android-sdk\\add-ons\\addon-google_apis-google-21\\libs ['effects.jar', 'maps.jar', 'usb.jar']\n",
        "d:\\android\\android-sdk\\build-tools"
       ]
      },
      {
       "output_type": "stream",
       "stream": "stdout",
       "text": [
        " []\n",
        "d:\\android\\android-sdk\\build-tools\\17.0.0 ['aapt.exe', 'aidl.exe', 'dexdump.exe', 'dx.bat', 'llvm-rs-cc.exe', 'NOTICE.txt', 'source.properties']\n",
        "d:\\android\\android-sdk\\build-tools\\17.0.0\\lib ['dx.jar']\n",
        "d:\\android\\android-sdk\\build-tools\\17.0.0\\renderscript []\n",
        "d:\\android\\android-sdk\\build-tools\\17.0.0\\renderscript\\clang-include ['altivec.h', 'ammintrin.h', 'avx2intrin.h', 'avxintrin.h', 'bmi2intrin.h', 'bmiintrin.h', 'CMakeLists.txt', 'cpuid.h', 'emmintrin.h', 'float.h', 'fma4intrin.h', 'fmaintrin.h', 'immintrin.h', 'iso646.h', 'LICENSE.TXT', 'limits.h', 'lzcntintrin.h', 'mm3dnow.h', 'mmintrin.h', 'mm_malloc.h', 'module.map', 'nmmintrin.h', 'pmmintrin.h', 'popcntintrin.h', 'smmintrin.h', 'stdalign.h', 'stdarg.h', 'stdbool.h', 'stddef.h', 'stdint.h', 'tgmath.h', 'tmmintrin.h', 'unwind.h', 'varargs.h', 'wmmintrin.h', 'x86intrin.h', 'xmmintrin.h', 'xopintrin.h']\n",
        "d:\\android\\android-sdk\\build-tools\\17.0.0\\renderscript\\include"
       ]
      },
      {
       "output_type": "stream",
       "stream": "stdout",
       "text": [
        " ['rs_allocation.rsh', 'rs_atomic.rsh', 'rs_cl.rsh', 'rs_core.rsh', 'rs_debug.rsh', 'rs_element.rsh', 'rs_graphics.rsh', 'rs_math.rsh', 'rs_matrix.rsh', 'rs_mesh.rsh', 'rs_object.rsh', 'rs_program.rsh', 'rs_quaternion.rsh', 'rs_sampler.rsh', 'rs_time.rsh', 'rs_types.rsh']\n",
        "d:\\android\\android-sdk\\build-tools\\18.0.1 ['aapt.exe', 'aidl.exe', 'dexdump.exe', 'dx.bat', 'libclang.dll', 'libLLVM.dll', 'llvm-rs-cc.exe', 'NOTICE.txt', 'source.properties']\n",
        "d:\\android\\android-sdk\\build-tools\\18.0.1\\lib ['dx.jar']\n",
        "d:\\android\\android-sdk\\build-tools\\18.0.1\\renderscript []\n",
        "d:\\android\\android-sdk\\build-tools\\18.0.1\\renderscript\\clang-include ['altivec.h', 'ammintrin.h', 'avx2intrin.h', 'avxintrin.h', 'bmi2intrin.h', 'bmiintrin.h', 'CMakeLists.txt', 'cpuid.h', 'emmintrin.h', 'f16cintrin.h', 'float.h', 'fma4intrin.h', 'fmaintrin.h', 'immintrin.h', 'iso646.h', 'LICENSE.TXT', 'limits.h', 'lzcntintrin.h', 'mm3dnow.h', 'mmintrin.h', 'mm_malloc.h', 'module.map', 'nmmintrin.h', 'pmmintrin.h', 'popcntintrin.h', 'rtmintrin.h', 'smmintrin.h', 'stdalign.h', 'stdarg.h', 'stdbool.h', 'stddef.h', 'stdint.h', 'stdnoreturn.h', 'tgmath.h', 'tmmintrin.h', 'unwind.h', 'varargs.h', 'wmmintrin.h', 'x86intrin.h', 'xmmintrin.h', 'xopintrin.h']\n",
        "d:\\android\\android-sdk\\build-tools\\18.0.1\\renderscript\\include"
       ]
      },
      {
       "output_type": "stream",
       "stream": "stdout",
       "text": [
        " ['rs_allocation.rsh', 'rs_atomic.rsh', 'rs_cl.rsh', 'rs_core.rsh', 'rs_debug.rsh', 'rs_element.rsh', 'rs_graphics.rsh', 'rs_math.rsh', 'rs_matrix.rsh', 'rs_mesh.rsh', 'rs_object.rsh', 'rs_program.rsh', 'rs_quaternion.rsh', 'rs_sampler.rsh', 'rs_time.rsh', 'rs_types.rsh']\n",
        "d:\\android\\android-sdk\\build-tools\\18.0.1\\renderscript\\lib ['javalib.jar']\n",
        "d:\\android\\android-sdk\\build-tools\\18.0.1\\renderscript\\lib\\arm ['libclcore.bc', 'libcompiler_rt.a', 'librsjni.so', 'libRSSupport.so']\n",
        "d:\\android\\android-sdk\\build-tools\\18.0.1\\renderscript\\lib\\mips ['libclcore.bc', 'libcompiler_rt.a', 'librsjni.so', 'libRSSupport.so']\n",
        "d:\\android\\android-sdk\\build-tools\\18.0.1\\renderscript\\lib\\x86 ['libclcore.bc', 'libcompiler_rt.a', 'librsjni.so', 'libRSSupport.so']\n",
        "d:\\android\\android-sdk\\build-tools\\18.1.0 ['aapt.exe', 'aidl.exe', 'arm-linux-androideabi-ld.exe', 'bcc_compat.exe', 'dexdump.exe', 'dx.bat', 'i686-linux-android-ld.exe', 'libbcc.dll', 'libbcinfo.dll', 'libclang.dll', 'libLLVM.dll', 'llvm-rs-cc.exe', 'mipsel-linux-android-ld.exe', 'NOTICE.txt', 'source.properties']\n",
        "d:\\android\\android-sdk\\build-tools\\18.1.0\\lib ['dx.jar']\n",
        "d:\\android\\android-sdk\\build-tools\\18.1.0\\renderscript []\n",
        "d:\\android\\android-sdk\\build-tools\\18.1.0\\renderscript\\clang-include"
       ]
      },
      {
       "output_type": "stream",
       "stream": "stdout",
       "text": [
        " ['altivec.h', 'ammintrin.h', 'avx2intrin.h', 'avxintrin.h', 'bmi2intrin.h', 'bmiintrin.h', 'CMakeLists.txt', 'cpuid.h', 'emmintrin.h', 'f16cintrin.h', 'float.h', 'fma4intrin.h', 'fmaintrin.h', 'immintrin.h', 'iso646.h', 'LICENSE.TXT', 'limits.h', 'lzcntintrin.h', 'mm3dnow.h', 'mmintrin.h', 'mm_malloc.h', 'module.map', 'nmmintrin.h', 'pmmintrin.h', 'popcntintrin.h', 'rtmintrin.h', 'smmintrin.h', 'stdalign.h', 'stdarg.h', 'stdbool.h', 'stddef.h', 'stdint.h', 'stdnoreturn.h', 'tgmath.h', 'tmmintrin.h', 'unwind.h', 'varargs.h', 'wmmintrin.h', 'x86intrin.h', 'xmmintrin.h', 'xopintrin.h']\n",
        "d:\\android\\android-sdk\\build-tools\\18.1.0\\renderscript\\include ['rs_allocation.rsh', 'rs_atomic.rsh', 'rs_cl.rsh', 'rs_core.rsh', 'rs_debug.rsh', 'rs_element.rsh', 'rs_graphics.rsh', 'rs_math.rsh', 'rs_matrix.rsh', 'rs_mesh.rsh', 'rs_object.rsh', 'rs_program.rsh', 'rs_quaternion.rsh', 'rs_sampler.rsh', 'rs_time.rsh', 'rs_types.rsh']\n",
        "d:\\android\\android-sdk\\build-tools\\18.1.0\\renderscript\\lib ['libclcore.bc', 'renderscript-v8.jar']\n",
        "d:\\android\\android-sdk\\build-tools\\18.1.0\\renderscript\\lib\\intermediates []\n",
        "d:\\android\\android-sdk\\build-tools\\18.1.0\\renderscript\\lib\\intermediates\\armeabi-v7a ['libc.so', 'libcompiler_rt.a', 'libm.so']\n",
        "d:\\android\\android-sdk\\build-tools\\18.1.0\\renderscript\\lib\\intermediates\\mips ['libc.so', 'libcompiler_rt.a', 'libm.so']\n",
        "d:\\android\\android-sdk\\build-tools\\18.1.0\\renderscript\\lib\\intermediates\\x86 ['libc.so', 'libcompiler_rt.a', 'libm.so']\n",
        "d:\\android\\android-sdk\\build-tools\\18.1.0\\renderscript\\lib\\packaged []\n",
        "d:\\android\\android-sdk\\build-tools\\18.1.0\\renderscript\\lib\\packaged\\armeabi-v7a ['librsjni.so', 'libRSSupport.so']\n",
        "d:\\android\\android-sdk\\build-tools\\18.1.0\\renderscript\\lib\\packaged\\mips ['librsjni.so', 'libRSSupport.so']\n",
        "d:\\android\\android-sdk\\build-tools\\18.1.0\\renderscript\\lib\\packaged\\x86 ['librsjni.so', 'libRSSupport.so']\n",
        "d:\\android\\android-sdk\\build-tools\\18.1.1"
       ]
      },
      {
       "output_type": "stream",
       "stream": "stdout",
       "text": [
        " ['aapt.exe', 'aidl.exe', 'arm-linux-androideabi-ld.exe', 'bcc_compat.exe', 'dexdump.exe', 'dx.bat', 'i686-linux-android-ld.exe', 'libbcc.dll', 'libbcinfo.dll', 'libclang.dll', 'libLLVM.dll', 'llvm-rs-cc.exe', 'mipsel-linux-android-ld.exe', 'NOTICE.txt', 'source.properties']\n",
        "d:\\android\\android-sdk\\build-tools\\18.1.1\\lib ['dx.jar']\n",
        "d:\\android\\android-sdk\\build-tools\\18.1.1\\renderscript []\n",
        "d:\\android\\android-sdk\\build-tools\\18.1.1\\renderscript\\clang-include ['altivec.h', 'ammintrin.h', 'avx2intrin.h', 'avxintrin.h', 'bmi2intrin.h', 'bmiintrin.h', 'CMakeLists.txt', 'cpuid.h', 'emmintrin.h', 'f16cintrin.h', 'float.h', 'fma4intrin.h', 'fmaintrin.h', 'immintrin.h', 'iso646.h', 'LICENSE.TXT', 'limits.h', 'lzcntintrin.h', 'mm3dnow.h', 'mmintrin.h', 'mm_malloc.h', 'module.map', 'nmmintrin.h', 'pmmintrin.h', 'popcntintrin.h', 'rtmintrin.h', 'smmintrin.h', 'stdalign.h', 'stdarg.h', 'stdbool.h', 'stddef.h', 'stdint.h', 'stdnoreturn.h', 'tgmath.h', 'tmmintrin.h', 'unwind.h', 'varargs.h', 'wmmintrin.h', 'x86intrin.h', 'xmmintrin.h', 'xopintrin.h']\n",
        "d:\\android\\android-sdk\\build-tools\\18.1.1\\renderscript\\include ['rs_allocation.rsh', 'rs_atomic.rsh', 'rs_cl.rsh', 'rs_core.rsh', 'rs_debug.rsh', 'rs_element.rsh', 'rs_graphics.rsh', 'rs_math.rsh', 'rs_matrix.rsh', 'rs_mesh.rsh', 'rs_object.rsh', 'rs_program.rsh', 'rs_quaternion.rsh', 'rs_sampler.rsh', 'rs_time.rsh', 'rs_types.rsh']\n",
        "d:\\android\\android-sdk\\build-tools\\18.1.1\\renderscript\\lib ['libclcore.bc', 'renderscript-v8.jar']\n",
        "d:\\android\\android-sdk\\build-tools\\18.1.1\\renderscript\\lib\\intermediates []\n",
        "d:\\android\\android-sdk\\build-tools\\18.1.1\\renderscript\\lib\\intermediates\\armeabi-v7a ['libc.so', 'libcompiler_rt.a', 'libm.so']\n",
        "d:\\android\\android-sdk\\build-tools\\18.1.1\\renderscript\\lib\\intermediates\\mips ['libc.so', 'libcompiler_rt.a', 'libm.so']\n",
        "d:\\android\\android-sdk\\build-tools\\18.1.1\\renderscript\\lib\\intermediates\\x86 ['libc.so', 'libcompiler_rt.a', 'libm.so']\n",
        "d:\\android\\android-sdk\\build-tools\\18.1.1\\renderscript\\lib\\packaged []\n",
        "d:\\android\\android-sdk\\build-tools\\18.1.1\\renderscript\\lib\\packaged\\armeabi-v7a"
       ]
      },
      {
       "output_type": "stream",
       "stream": "stdout",
       "text": [
        " ['librsjni.so', 'libRSSupport.so']\n",
        "d:\\android\\android-sdk\\build-tools\\18.1.1\\renderscript\\lib\\packaged\\mips ['librsjni.so', 'libRSSupport.so']\n",
        "d:\\android\\android-sdk\\build-tools\\18.1.1\\renderscript\\lib\\packaged\\x86 ['librsjni.so', 'libRSSupport.so']\n",
        "d:\\android\\android-sdk\\build-tools\\19.0.0 ['aapt.exe', 'aidl.exe', 'arm-linux-androideabi-ld.exe', 'bcc_compat.exe', 'dexdump.exe', 'dx.bat', 'i686-linux-android-ld.exe', 'libbcc.dll', 'libbcinfo.dll', 'libclang.dll', 'libLLVM.dll', 'llvm-rs-cc.exe', 'mipsel-linux-android-ld.exe', 'NOTICE.txt', 'source.properties']\n",
        "d:\\android\\android-sdk\\build-tools\\19.0.0\\lib ['dx.jar']\n",
        "d:\\android\\android-sdk\\build-tools\\19.0.0\\renderscript []\n",
        "d:\\android\\android-sdk\\build-tools\\19.0.0\\renderscript\\clang-include ['altivec.h', 'ammintrin.h', 'avx2intrin.h', 'avxintrin.h', 'bmi2intrin.h', 'bmiintrin.h', 'CMakeLists.txt', 'cpuid.h', 'emmintrin.h', 'f16cintrin.h', 'float.h', 'fma4intrin.h', 'fmaintrin.h', 'immintrin.h', 'iso646.h', 'LICENSE.TXT', 'limits.h', 'lzcntintrin.h', 'mm3dnow.h', 'mmintrin.h', 'mm_malloc.h', 'module.map', 'nmmintrin.h', 'pmmintrin.h', 'popcntintrin.h', 'prfchwintrin.h', 'rdseedintrin.h', 'rtmintrin.h', 'smmintrin.h', 'stdalign.h', 'stdarg.h', 'stdbool.h', 'stddef.h', 'stdint.h', 'stdnoreturn.h', 'tgmath.h', 'tmmintrin.h', 'unwind.h', 'varargs.h', 'wmmintrin.h', 'x86intrin.h', 'xmmintrin.h', 'xopintrin.h']\n",
        "d:\\android\\android-sdk\\build-tools\\19.0.0\\renderscript\\include ['rs_allocation.rsh', 'rs_atomic.rsh', 'rs_cl.rsh', 'rs_core.rsh', 'rs_debug.rsh', 'rs_element.rsh', 'rs_graphics.rsh', 'rs_math.rsh', 'rs_matrix.rsh', 'rs_mesh.rsh', 'rs_object.rsh', 'rs_program.rsh', 'rs_quaternion.rsh', 'rs_sampler.rsh', 'rs_time.rsh', 'rs_types.rsh']\n",
        "d:\\android\\android-sdk\\build-tools\\19.0.0\\renderscript\\lib"
       ]
      },
      {
       "output_type": "stream",
       "stream": "stdout",
       "text": [
        " ['libclcore.bc', 'renderscript-v8.jar']\n",
        "d:\\android\\android-sdk\\build-tools\\19.0.0\\renderscript\\lib\\intermediates []\n",
        "d:\\android\\android-sdk\\build-tools\\19.0.0\\renderscript\\lib\\intermediates\\armeabi-v7a ['libc.so', 'libcompiler_rt.a', 'libm.so']\n",
        "d:\\android\\android-sdk\\build-tools\\19.0.0\\renderscript\\lib\\intermediates\\mips ['libc.so', 'libcompiler_rt.a', 'libm.so']\n",
        "d:\\android\\android-sdk\\build-tools\\19.0.0\\renderscript\\lib\\intermediates\\x86 ['libc.so', 'libcompiler_rt.a', 'libm.so']\n",
        "d:\\android\\android-sdk\\build-tools\\19.0.0\\renderscript\\lib\\packaged []\n",
        "d:\\android\\android-sdk\\build-tools\\19.0.0\\renderscript\\lib\\packaged\\armeabi-v7a ['librsjni.so', 'libRSSupport.so']\n",
        "d:\\android\\android-sdk\\build-tools\\19.0.0\\renderscript\\lib\\packaged\\mips ['librsjni.so', 'libRSSupport.so']\n",
        "d:\\android\\android-sdk\\build-tools\\19.0.0\\renderscript\\lib\\packaged\\x86 ['librsjni.so', 'libRSSupport.so']\n",
        "d:\\android\\android-sdk\\build-tools\\19.0.1 ['aapt.exe', 'aidl.exe', 'arm-linux-androideabi-ld.exe', 'bcc_compat.exe', 'dexdump.exe', 'dx.bat', 'i686-linux-android-ld.exe', 'libbcc.dll', 'libbcinfo.dll', 'libclang.dll', 'libLLVM.dll', 'llvm-rs-cc.exe', 'mipsel-linux-android-ld.exe', 'NOTICE.txt', 'source.properties']\n",
        "d:\\android\\android-sdk\\build-tools\\19.0.1\\lib ['dx.jar']\n",
        "d:\\android\\android-sdk\\build-tools\\19.0.1\\renderscript []\n",
        "d:\\android\\android-sdk\\build-tools\\19.0.1\\renderscript\\clang-include ['altivec.h', 'ammintrin.h', 'avx2intrin.h', 'avxintrin.h', 'bmi2intrin.h', 'bmiintrin.h', 'CMakeLists.txt', 'cpuid.h', 'emmintrin.h', 'f16cintrin.h', 'float.h', 'fma4intrin.h', 'fmaintrin.h', 'immintrin.h', 'iso646.h', 'LICENSE.TXT', 'limits.h', 'lzcntintrin.h', 'mm3dnow.h', 'mmintrin.h', 'mm_malloc.h', 'module.map', 'nmmintrin.h', 'pmmintrin.h', 'popcntintrin.h', 'prfchwintrin.h', 'rdseedintrin.h', 'rtmintrin.h', 'smmintrin.h', 'stdalign.h', 'stdarg.h', 'stdbool.h', 'stddef.h', 'stdint.h', 'stdnoreturn.h', 'tgmath.h', 'tmmintrin.h', 'unwind.h', 'varargs.h', 'wmmintrin.h', 'x86intrin.h', 'xmmintrin.h', 'xopintrin.h']\n",
        "d:\\android\\android-sdk\\build-tools\\19.0.1\\renderscript\\include"
       ]
      },
      {
       "output_type": "stream",
       "stream": "stdout",
       "text": [
        " ['rs_allocation.rsh', 'rs_atomic.rsh', 'rs_cl.rsh', 'rs_core.rsh', 'rs_debug.rsh', 'rs_element.rsh', 'rs_graphics.rsh', 'rs_math.rsh', 'rs_matrix.rsh', 'rs_mesh.rsh', 'rs_object.rsh', 'rs_program.rsh', 'rs_quaternion.rsh', 'rs_sampler.rsh', 'rs_time.rsh', 'rs_types.rsh']\n",
        "d:\\android\\android-sdk\\build-tools\\19.0.1\\renderscript\\lib ['libclcore.bc', 'renderscript-v8.jar']\n",
        "d:\\android\\android-sdk\\build-tools\\19.0.1\\renderscript\\lib\\intermediates []\n",
        "d:\\android\\android-sdk\\build-tools\\19.0.1\\renderscript\\lib\\intermediates\\armeabi-v7a ['libc.so', 'libcompiler_rt.a', 'libm.so']\n",
        "d:\\android\\android-sdk\\build-tools\\19.0.1\\renderscript\\lib\\intermediates\\mips ['libc.so', 'libcompiler_rt.a', 'libm.so']\n",
        "d:\\android\\android-sdk\\build-tools\\19.0.1\\renderscript\\lib\\intermediates\\x86 ['libc.so', 'libcompiler_rt.a', 'libm.so']\n",
        "d:\\android\\android-sdk\\build-tools\\19.0.1\\renderscript\\lib\\packaged []\n",
        "d:\\android\\android-sdk\\build-tools\\19.0.1\\renderscript\\lib\\packaged\\armeabi-v7a ['librsjni.so', 'libRSSupport.so']\n",
        "d:\\android\\android-sdk\\build-tools\\19.0.1\\renderscript\\lib\\packaged\\mips ['librsjni.so', 'libRSSupport.so']\n",
        "d:\\android\\android-sdk\\build-tools\\19.0.1\\renderscript\\lib\\packaged\\x86 ['librsjni.so', 'libRSSupport.so']\n",
        "d:\\android\\android-sdk\\build-tools\\19.0.2 ['aapt.exe', 'aidl.exe', 'arm-linux-androideabi-ld.exe', 'bcc_compat.exe', 'dexdump.exe', 'dx.bat', 'i686-linux-android-ld.exe', 'libbcc.dll', 'libbcinfo.dll', 'libclang.dll', 'libLLVM.dll', 'llvm-rs-cc.exe', 'mipsel-linux-android-ld.exe', 'NOTICE.txt', 'source.properties']\n",
        "d:\\android\\android-sdk\\build-tools\\19.0.2\\lib ['dx.jar']\n",
        "d:\\android\\android-sdk\\build-tools\\19.0.2\\renderscript []\n",
        "d:\\android\\android-sdk\\build-tools\\19.0.2\\renderscript\\clang-include ['altivec.h', 'ammintrin.h', 'avx2intrin.h', 'avxintrin.h', 'bmi2intrin.h', 'bmiintrin.h', 'CMakeLists.txt', 'cpuid.h', 'emmintrin.h', 'f16cintrin.h', 'float.h', 'fma4intrin.h', 'fmaintrin.h', 'immintrin.h', 'iso646.h', 'LICENSE.TXT', 'limits.h', 'lzcntintrin.h', 'mm3dnow.h', 'mmintrin.h', 'mm_malloc.h', 'module.map', 'nmmintrin.h', 'pmmintrin.h', 'popcntintrin.h', 'prfchwintrin.h', 'rdseedintrin.h', 'rtmintrin.h', 'smmintrin.h', 'stdalign.h', 'stdarg.h', 'stdbool.h', 'stddef.h', 'stdint.h', 'stdnoreturn.h', 'tgmath.h', 'tmmintrin.h', 'unwind.h', 'varargs.h', 'wmmintrin.h', 'x86intrin.h', 'xmmintrin.h', 'xopintrin.h']\n",
        "d:\\android\\android-sdk\\build-tools\\19.0.2\\renderscript\\include"
       ]
      },
      {
       "output_type": "stream",
       "stream": "stdout",
       "text": [
        " ['rs_allocation.rsh', 'rs_atomic.rsh', 'rs_cl.rsh', 'rs_core.rsh', 'rs_debug.rsh', 'rs_element.rsh', 'rs_graphics.rsh', 'rs_math.rsh', 'rs_matrix.rsh', 'rs_mesh.rsh', 'rs_object.rsh', 'rs_program.rsh', 'rs_quaternion.rsh', 'rs_sampler.rsh', 'rs_time.rsh', 'rs_types.rsh']\n",
        "d:\\android\\android-sdk\\build-tools\\19.0.2\\renderscript\\lib ['libclcore.bc', 'renderscript-v8.jar']\n",
        "d:\\android\\android-sdk\\build-tools\\19.0.2\\renderscript\\lib\\intermediates []\n",
        "d:\\android\\android-sdk\\build-tools\\19.0.2\\renderscript\\lib\\intermediates\\armeabi-v7a ['libc.so', 'libcompiler_rt.a', 'libm.so']\n",
        "d:\\android\\android-sdk\\build-tools\\19.0.2\\renderscript\\lib\\intermediates\\mips ['libc.so', 'libcompiler_rt.a', 'libm.so']\n",
        "d:\\android\\android-sdk\\build-tools\\19.0.2\\renderscript\\lib\\intermediates\\x86 ['libc.so', 'libcompiler_rt.a', 'libm.so']\n",
        "d:\\android\\android-sdk\\build-tools\\19.0.2\\renderscript\\lib\\packaged []\n",
        "d:\\android\\android-sdk\\build-tools\\19.0.2\\renderscript\\lib\\packaged\\armeabi-v7a ['librsjni.so', 'libRSSupport.so']\n",
        "d:\\android\\android-sdk\\build-tools\\19.0.2\\renderscript\\lib\\packaged\\mips ['librsjni.so', 'libRSSupport.so']\n",
        "d:\\android\\android-sdk\\build-tools\\19.0.2\\renderscript\\lib\\packaged\\x86 ['librsjni.so', 'libRSSupport.so']\n",
        "d:\\android\\android-sdk\\build-tools\\19.0.3 ['aapt.exe', 'aidl.exe', 'arm-linux-androideabi-ld.exe', 'bcc_compat.exe', 'dexdump.exe', 'dx.bat', 'i686-linux-android-ld.exe', 'libbcc.dll', 'libbcinfo.dll', 'libclang.dll', 'libLLVM.dll', 'llvm-rs-cc.exe', 'mipsel-linux-android-ld.exe', 'NOTICE.txt', 'source.properties']\n",
        "d:\\android\\android-sdk\\build-tools\\19.0.3\\lib ['dx.jar']\n",
        "d:\\android\\android-sdk\\build-tools\\19.0.3\\renderscript []\n",
        "d:\\android\\android-sdk\\build-tools\\19.0.3\\renderscript\\clang-include ['altivec.h', 'ammintrin.h', 'avx2intrin.h', 'avxintrin.h', 'bmi2intrin.h', 'bmiintrin.h', 'CMakeLists.txt', 'cpuid.h', 'emmintrin.h', 'f16cintrin.h', 'float.h', 'fma4intrin.h', 'fmaintrin.h', 'immintrin.h', 'iso646.h', 'LICENSE.TXT', 'limits.h', 'lzcntintrin.h', 'mm3dnow.h', 'mmintrin.h', 'mm_malloc.h', 'module.map', 'nmmintrin.h', 'pmmintrin.h', 'popcntintrin.h', 'prfchwintrin.h', 'rdseedintrin.h', 'rtmintrin.h', 'smmintrin.h', 'stdalign.h', 'stdarg.h', 'stdbool.h', 'stddef.h', 'stdint.h', 'stdnoreturn.h', 'tgmath.h', 'tmmintrin.h', 'unwind.h', 'varargs.h', 'wmmintrin.h', 'x86intrin.h', 'xmmintrin.h', 'xopintrin.h']\n",
        "d:\\android\\android-sdk\\build-tools\\19.0.3\\renderscript\\include"
       ]
      },
      {
       "output_type": "stream",
       "stream": "stdout",
       "text": [
        " ['rs_allocation.rsh', 'rs_atomic.rsh', 'rs_cl.rsh', 'rs_core.rsh', 'rs_debug.rsh', 'rs_element.rsh', 'rs_graphics.rsh', 'rs_math.rsh', 'rs_matrix.rsh', 'rs_mesh.rsh', 'rs_object.rsh', 'rs_program.rsh', 'rs_quaternion.rsh', 'rs_sampler.rsh', 'rs_time.rsh', 'rs_types.rsh']\n",
        "d:\\android\\android-sdk\\build-tools\\19.0.3\\renderscript\\lib ['renderscript-v8.jar']\n",
        "d:\\android\\android-sdk\\build-tools\\19.0.3\\renderscript\\lib\\bc []\n",
        "d:\\android\\android-sdk\\build-tools\\19.0.3\\renderscript\\lib\\bc\\armeabi-v7a ['libclcore.bc']\n",
        "d:\\android\\android-sdk\\build-tools\\19.0.3\\renderscript\\lib\\bc\\mips ['libclcore.bc']\n",
        "d:\\android\\android-sdk\\build-tools\\19.0.3\\renderscript\\lib\\bc\\x86 ['libclcore.bc']\n",
        "d:\\android\\android-sdk\\build-tools\\19.0.3\\renderscript\\lib\\intermediates []\n",
        "d:\\android\\android-sdk\\build-tools\\19.0.3\\renderscript\\lib\\intermediates\\armeabi-v7a ['libc.so', 'libcompiler_rt.a', 'libm.so']\n",
        "d:\\android\\android-sdk\\build-tools\\19.0.3\\renderscript\\lib\\intermediates\\mips ['libc.so', 'libcompiler_rt.a', 'libm.so']\n",
        "d:\\android\\android-sdk\\build-tools\\19.0.3\\renderscript\\lib\\intermediates\\x86 ['libc.so', 'libcompiler_rt.a', 'libm.so']\n",
        "d:\\android\\android-sdk\\build-tools\\19.0.3\\renderscript\\lib\\packaged []\n",
        "d:\\android\\android-sdk\\build-tools\\19.0.3\\renderscript\\lib\\packaged\\armeabi-v7a ['librsjni.so', 'libRSSupport.so']\n",
        "d:\\android\\android-sdk\\build-tools\\19.0.3\\renderscript\\lib\\packaged\\mips ['librsjni.so', 'libRSSupport.so']\n",
        "d:\\android\\android-sdk\\build-tools\\19.0.3\\renderscript\\lib\\packaged\\x86 ['librsjni.so', 'libRSSupport.so']\n",
        "d:\\android\\android-sdk\\build-tools\\19.1.0 ['aapt.exe', 'aidl.exe', 'arm-linux-androideabi-ld.exe', 'bcc_compat.exe', 'dexdump.exe', 'dx.bat', 'i686-linux-android-ld.exe', 'libbcc.dll', 'libbcinfo.dll', 'libclang.dll', 'libLLVM.dll', 'llvm-rs-cc.exe', 'mipsel-linux-android-ld.exe', 'NOTICE.txt', 'source.properties', 'zipalign.exe']\n",
        "d:\\android\\android-sdk\\build-tools\\19.1.0\\lib ['dx.jar']\n",
        "d:\\android\\android-sdk\\build-tools\\19.1.0\\renderscript []\n",
        "d:\\android\\android-sdk\\build-tools\\19.1.0\\renderscript\\clang-include ['altivec.h', 'ammintrin.h', 'avx2intrin.h', 'avxintrin.h', 'bmi2intrin.h', 'bmiintrin.h', 'CMakeLists.txt', 'cpuid.h', 'emmintrin.h', 'f16cintrin.h', 'float.h', 'fma4intrin.h', 'fmaintrin.h', 'immintrin.h', 'iso646.h', 'LICENSE.TXT', 'limits.h', 'lzcntintrin.h', 'mm3dnow.h', 'mmintrin.h', 'mm_malloc.h', 'module.map', 'nmmintrin.h', 'pmmintrin.h', 'popcntintrin.h', 'prfchwintrin.h', 'rdseedintrin.h', 'rtmintrin.h', 'smmintrin.h', 'stdalign.h', 'stdarg.h', 'stdbool.h', 'stddef.h', 'stdint.h', 'stdnoreturn.h', 'tgmath.h', 'tmmintrin.h', 'unwind.h', 'varargs.h', 'wmmintrin.h', 'x86intrin.h', 'xmmintrin.h', 'xopintrin.h']\n",
        "d:\\android\\android-sdk\\build-tools\\19.1.0\\renderscript\\include"
       ]
      },
      {
       "output_type": "stream",
       "stream": "stdout",
       "text": [
        " ['rs_allocation.rsh', 'rs_atomic.rsh', 'rs_cl.rsh', 'rs_core.rsh', 'rs_debug.rsh', 'rs_element.rsh', 'rs_graphics.rsh', 'rs_math.rsh', 'rs_matrix.rsh', 'rs_mesh.rsh', 'rs_object.rsh', 'rs_program.rsh', 'rs_quaternion.rsh', 'rs_sampler.rsh', 'rs_time.rsh', 'rs_types.rsh']\n",
        "d:\\android\\android-sdk\\build-tools\\19.1.0\\renderscript\\lib ['renderscript-v8.jar']\n",
        "d:\\android\\android-sdk\\build-tools\\19.1.0\\renderscript\\lib\\bc []\n",
        "d:\\android\\android-sdk\\build-tools\\19.1.0\\renderscript\\lib\\bc\\armeabi-v7a ['libclcore.bc']\n",
        "d:\\android\\android-sdk\\build-tools\\19.1.0\\renderscript\\lib\\bc\\mips ['libclcore.bc']\n",
        "d:\\android\\android-sdk\\build-tools\\19.1.0\\renderscript\\lib\\bc\\x86 ['libclcore.bc']\n",
        "d:\\android\\android-sdk\\build-tools\\19.1.0\\renderscript\\lib\\intermediates []\n",
        "d:\\android\\android-sdk\\build-tools\\19.1.0\\renderscript\\lib\\intermediates\\armeabi-v7a ['libc.so', 'libcompiler_rt.a', 'libm.so']\n",
        "d:\\android\\android-sdk\\build-tools\\19.1.0\\renderscript\\lib\\intermediates\\mips ['libc.so', 'libcompiler_rt.a', 'libm.so']\n",
        "d:\\android\\android-sdk\\build-tools\\19.1.0\\renderscript\\lib\\intermediates\\x86 ['libc.so', 'libcompiler_rt.a', 'libm.so']\n",
        "d:\\android\\android-sdk\\build-tools\\19.1.0\\renderscript\\lib\\packaged []\n",
        "d:\\android\\android-sdk\\build-tools\\19.1.0\\renderscript\\lib\\packaged\\armeabi-v7a ['librsjni.so', 'libRSSupport.so']\n",
        "d:\\android\\android-sdk\\build-tools\\19.1.0\\renderscript\\lib\\packaged\\mips ['librsjni.so', 'libRSSupport.so']\n",
        "d:\\android\\android-sdk\\build-tools\\19.1.0\\renderscript\\lib\\packaged\\x86 ['librsjni.so', 'libRSSupport.so']\n",
        "d:\\android\\android-sdk\\build-tools\\20.0.0 ['aapt.exe', 'aidl.exe', 'arm-linux-androideabi-ld.exe', 'bcc_compat.exe', 'dexdump.exe', 'dx.bat', 'i686-linux-android-ld.exe', 'libbcc.dll', 'libbcinfo.dll', 'libclang.dll', 'libLLVM.dll', 'llvm-rs-cc.exe', 'mipsel-linux-android-ld.exe', 'NOTICE.txt', 'source.properties', 'zipalign.exe']\n",
        "d:\\android\\android-sdk\\build-tools\\20.0.0\\lib ['dx.jar']\n",
        "d:\\android\\android-sdk\\build-tools\\20.0.0\\renderscript []\n",
        "d:\\android\\android-sdk\\build-tools\\20.0.0\\renderscript\\clang-include ['altivec.h', 'ammintrin.h', 'avx2intrin.h', 'avxintrin.h', 'bmi2intrin.h', 'bmiintrin.h', 'CMakeLists.txt', 'cpuid.h', 'emmintrin.h', 'f16cintrin.h', 'float.h', 'fma4intrin.h', 'fmaintrin.h', 'immintrin.h', 'iso646.h', 'LICENSE.TXT', 'limits.h', 'lzcntintrin.h', 'mm3dnow.h', 'mmintrin.h', 'mm_malloc.h', 'module.map', 'nmmintrin.h', 'pmmintrin.h', 'popcntintrin.h', 'prfchwintrin.h', 'rdseedintrin.h', 'rtmintrin.h', 'smmintrin.h', 'stdalign.h', 'stdarg.h', 'stdbool.h', 'stddef.h', 'stdint.h', 'stdnoreturn.h', 'tgmath.h', 'tmmintrin.h', 'unwind.h', 'varargs.h', 'wmmintrin.h', 'x86intrin.h', 'xmmintrin.h', 'xopintrin.h']\n",
        "d:\\android\\android-sdk\\build-tools\\20.0.0\\renderscript\\include"
       ]
      },
      {
       "output_type": "stream",
       "stream": "stdout",
       "text": [
        " ['rs_allocation.rsh', 'rs_atomic.rsh', 'rs_cl.rsh', 'rs_core.rsh', 'rs_debug.rsh', 'rs_element.rsh', 'rs_graphics.rsh', 'rs_math.rsh', 'rs_matrix.rsh', 'rs_mesh.rsh', 'rs_object.rsh', 'rs_program.rsh', 'rs_quaternion.rsh', 'rs_sampler.rsh', 'rs_time.rsh', 'rs_types.rsh']\n",
        "d:\\android\\android-sdk\\build-tools\\20.0.0\\renderscript\\lib ['renderscript-v8.jar']\n",
        "d:\\android\\android-sdk\\build-tools\\20.0.0\\renderscript\\lib\\bc []\n",
        "d:\\android\\android-sdk\\build-tools\\20.0.0\\renderscript\\lib\\bc\\armeabi-v7a ['libclcore.bc']\n",
        "d:\\android\\android-sdk\\build-tools\\20.0.0\\renderscript\\lib\\bc\\mips ['libclcore.bc']\n",
        "d:\\android\\android-sdk\\build-tools\\20.0.0\\renderscript\\lib\\bc\\x86 ['libclcore.bc']\n",
        "d:\\android\\android-sdk\\build-tools\\20.0.0\\renderscript\\lib\\intermediates []\n",
        "d:\\android\\android-sdk\\build-tools\\20.0.0\\renderscript\\lib\\intermediates\\armeabi-v7a ['libc.so', 'libcompiler_rt.a', 'libm.so']\n",
        "d:\\android\\android-sdk\\build-tools\\20.0.0\\renderscript\\lib\\intermediates\\mips ['libc.so', 'libcompiler_rt.a', 'libm.so']\n",
        "d:\\android\\android-sdk\\build-tools\\20.0.0\\renderscript\\lib\\intermediates\\x86 ['libc.so', 'libcompiler_rt.a', 'libm.so']\n",
        "d:\\android\\android-sdk\\build-tools\\20.0.0\\renderscript\\lib\\packaged []\n",
        "d:\\android\\android-sdk\\build-tools\\20.0.0\\renderscript\\lib\\packaged\\armeabi-v7a ['librsjni.so', 'libRSSupport.so']\n",
        "d:\\android\\android-sdk\\build-tools\\20.0.0\\renderscript\\lib\\packaged\\mips ['librsjni.so', 'libRSSupport.so']\n",
        "d:\\android\\android-sdk\\build-tools\\20.0.0\\renderscript\\lib\\packaged\\x86 ['librsjni.so', 'libRSSupport.so']\n",
        "d:\\android\\android-sdk\\docs"
       ]
      },
      {
       "output_type": "stream",
       "stream": "stdout",
       "text": [
        " ['app.yaml', 'favicon-a.ico', 'favicon.ico', 'gcm_navtree_data.js', 'gms_navtree_data.js', 'googlef295f8c7d59b0d29.html', 'index.html', 'jd_collections.js', 'jd_extras.js', 'jd_lists_unified.js', 'jd_tag_helpers.js', 'legal.html', 'license.html', 'navtree_data.js', 'offline.html', 'robots.txt', 'security_at_android_dot_com.txt', 'sitemap-intl.txt', 'sitemap.txt', 'source.properties', 'support.html', 'timestamp.js']\n",
        "d:\\android\\android-sdk\\docs\\about ['about_toc.html', 'index.html', 'start.html']\n",
        "d:\\android\\android-sdk\\docs\\about\\dashboards ['index.html']\n",
        "d:\\android\\android-sdk\\docs\\about\\versions ['android-1.1.html', 'android-1.5-highlights.html', 'android-1.5.html', 'android-1.6-highlights.html', 'android-1.6.html', 'android-2.0-highlights.html', 'android-2.0.1.html', 'android-2.0.html', 'android-2.1.html', 'android-2.2-highlights.html', 'android-2.2.html', 'android-2.3-highlights.html', 'android-2.3.3.html', 'android-2.3.4.html', 'android-2.3.html', 'android-3.0-highlights.html', 'android-3.0.html', 'android-3.1-highlights.html', 'android-3.1.html', 'android-3.2.html', 'android-4.0-highlights.html', 'android-4.0.3.html', 'android-4.0.html', 'android-4.1.html', 'android-4.2.html', 'android-4.3.html', 'android-4.4.html', 'android-5.0.html', 'jelly-bean.html', 'kitkat.html']\n",
        "d:\\android\\android-sdk\\docs\\assets"
       ]
      },
      {
       "output_type": "stream",
       "stream": "stdout",
       "text": [
        " ['android-developer-docs.css', 'customizations.css', 'customizations.js', 'doclava-developer-core.css', 'doclava-developer-docs.css', 'doclava-developer-docs.js', 'doclava-developer-reference.js', 'GPL-LICENSE.txt', 'jquery-history.js', 'jquery-resizable.min.js', 'LICENSE.txt', 'prettify.js', 'search_autocomplete.js', 'style.css', 'triangle-none.gif']\n",
        "d:\\android\\android-sdk\\docs\\assets\\css ['default.css', 'fullscreen.css']\n",
        "d:\\android\\android-sdk\\docs\\assets\\design ['default.js']\n",
        "d:\\android\\android-sdk\\docs\\assets\\images ['android-developers-logo.png', 'android.png', 'android_wrench.png', 'arrow-left-develop.png', 'arrow-left.png', 'arrow-right-develop.png', 'arrow-right.png', 'arrows-up-down.png', 'arrow_bluelink_down.png', 'arrow_bluelink_up.png', 'arrow_left_off.jpg', 'arrow_left_on.jpg', 'arrow_right_off.jpg', 'arrow_right_on.jpg', 'bg_community_leftDiv.jpg', 'bg_fade.jpg', 'bg_gradient.jpg', 'bg_images_sprite.png', 'bg_logo.png', 'blog-default.png', 'body-gradient-tab.png', 'body-gradient.png', 'breadcrumb.png', 'close.png', 'dac_logo.png', 'dac_logo@2x.png', 'developers-logo.png', 'file-generic.png', 'file-image.png', 'file-java.png', 'file-manifest.png', 'file-xml.png', 'folder.png', 'fullscreen.png', 'grad-rule-qv.png', 'hr_gray_main.jpg', 'hr_gray_side.jpg', 'icon_contribute.jpg', 'icon_design.png', 'icon_download.jpg', 'icon_download2.jpg', 'icon_guidelines_logo.png', 'icon_market.jpg', 'icon_more.png', 'icon_play.png', 'icon_robot.jpg', 'icon_search.png', 'icon_world.jpg', 'left_off.jpg', 'left_on.jpg', 'link-out.png', 'locale.png', 'logo_breadcrumbz.jpg', 'more_bottom.png', 'more_check.png', 'more_mid.png', 'more_top.png', 'open_source.png', 'preliminary.png', 'preview.png', 'quicknav_arrow.png', 'quicknav_btn_bg.png', 'resizable-e.gif', 'resizable-e2.gif', 'resizable-eg.gif', 'resizable-s.gif', 'resizable-s2.gif', 'resizable-s2.png', 'resizable-sg.gif', 'resource-article.png', 'resource-big-article.png', 'resource-big-sample.png', 'resource-big-tutorial.png', 'resource-big-video.png', 'resource-card-default-android.jpg', 'resource-sample.png', 'resource-tutorial.png', 'resource-video.png', 'right_off.jpg', 'right_on.jpg', 'sidenav-rule.png', 'slide_1.jpg', 'slide_2.jpg', 'slide_3.jpg', 'slide_large_1.jpg', 'slide_large_2.jpg', 'slide_large_3.jpg', 'slide_off.jpg', 'slide_on.jpg', 'spacer.gif', 'stack-arrow-right.png', 'triangle-closed-small.png', 'triangle-closed.png', 'triangle-opened-small.png', 'triangle-opened.png', 'uiguidelines1.png', 'video-droid.png']\n",
        "d:\\android\\android-sdk\\docs\\assets\\images\\home ['adc2_l.png', 'adc2_s.png', 'android_adc.png', 'Android_Dev_Lab_l.png', 'bg_home_announcement.png', 'bg_home_bottom.jpg', 'bg_home_carousel.png', 'bg_home_carousel_board.png', 'bg_home_carousel_wheel.png', 'carousel_buttons_sprite.png', 'devphone-large.png', 'devphone-small.png', 'donut-android.png', 'eclair-android.png', 'froyo-android.png', 'gdc-logo.png', 'GDC2011.png', 'gingerdroid.png', 'google-plus-small.png', 'google-plus.png', 'GTV_icon_large.png', 'GTV_icon_small.png', 'honeycomb-android.png', 'icon-about.png', 'icon-design.png', 'icon-develop.png', 'icon-distribute.png', 'ics-android.png', 'io-large.png', 'IO-logo-2011.png', 'IO-logo.png', 'io-small.png', 'maps-large.png', 'maps-small.png', 'market-large.png', 'market-small.png', 'sdk-large.png', 'sdk-small.png']\n",
        "d:\\android\\android-sdk\\docs\\assets\\images\\styles"
       ]
      },
      {
       "output_type": "stream",
       "stream": "stdout",
       "text": [
        " ['callout.png', 'device_galaxynexus_blank_land_span13.png', 'device_galaxynexus_blank_land_span8.png', 'device_galaxynexus_blank_port_span5.png', 'device_galaxynexus_blank_port_span9.png', 'device_nexus4_blank_port_432.png', 'device_nexus5_blank_land_span13.png', 'device_nexus5_blank_port_span5.png', 'device_wear_square.png', 'device_wear_square_small.png', 'disclosure_down.png', 'disclosure_left.png', 'disclosure_right.png', 'disclosure_up.png', 'gototop.png', 'ico_action.png', 'ico_good.png', 'ico_movie_inline.png', 'ico_phone_tablet.png', 'ico_use.png', 'ico_web.png', 'ico_wrong.png', 'notice-designers-video.png', 'notice-designers-video@2x.png', 'notice-designers.png', 'notice-designers@2x.png', 'notice-developers-video.png', 'notice-developers-video@2x.png', 'notice-developers.png', 'notice-developers@2x.png', 'open_new_page.png']\n",
        "d:\\android\\android-sdk\\docs\\assets\\js ['android_3p-bundle.js', 'docs.js', 'prettify.js']\n",
        "d:\\android\\android-sdk\\docs\\auto ['index.html', 'overview.html']\n",
        "d:\\android\\android-sdk\\docs\\auto\\images ['figure01.png', 'hero.jpg']\n",
        "d:\\android\\android-sdk\\docs\\auto\\images\\assets ['00_frame.png', '01_a_maps.png', '01_b_now.png', '02_a_notif.gif', '02_b_switcher.gif', '03_a_musict.png', '03_b_voice.gif', 'do_01_switcher.png', 'do_02_music.png', 'do_02_music_night.png', 'do_03_more.png', 'do_04_mdrawer.png', 'do_05_template.png', 'do_05_template_night.png', 'do_06_gdrawer.png', 'do_07_notif.png']\n",
        "d:\\android\\android-sdk\\docs\\auto\\images\\logos []\n",
        "d:\\android\\android-sdk\\docs\\auto\\images\\logos\\apps ['iheartradio.png', 'joyride.png', 'mlb.png', 'pandora.png', 'pocketcasts.png', 'songza.png', 'spotify.png', 'stitcher.png', 'tunein.png', 'umano.png']\n",
        "d:\\android\\android-sdk\\docs\\auto\\images\\logos\\auto ['abarth.png', 'acura.png', 'alpharomeo.png', 'audi.png', 'bentley.png', 'chevrolet.png', 'chrysler.png', 'datsun.png', 'dodge.png', 'fiat.png', 'ford.png', 'honda.png', 'hyundai.png', 'infinity.png', 'jeep.png', 'kia.png', 'maserati.png', 'mazda.png', 'mitsubishi.png', 'nissan.png', 'opel.png', 'ram.png', 'renault.png', 'seat.png', 'skoda.png', 'subaru.png', 'suzuki.png', 'volkswagen.png', 'volvo.png']\n",
        "d:\\android\\android-sdk\\docs\\auto\\images\\logos\\hard ['alpine.png', 'clarion.png', 'cloudcar.png', 'delphi.png', 'freescale.png', 'fujitsuten.png', 'harman.png', 'jvc.png', 'kenwood.png', 'lg.png', 'panasonic.png', 'parrot.png', 'pioneer.png', 'renesas.png', 'symphonyteleca.png', 'texasinstruments.png']\n",
        "d:\\android\\android-sdk\\docs\\channels ['io2013.html']\n",
        "d:\\android\\android-sdk\\docs\\community ['index.html']\n",
        "d:\\android\\android-sdk\\docs\\design"
       ]
      },
      {
       "output_type": "stream",
       "stream": "stdout",
       "text": [
        " ['design_toc.html', 'devices.html', 'index.html']\n",
        "d:\\android\\android-sdk\\docs\\design\\auto ['index.html']\n",
        "d:\\android\\android-sdk\\docs\\design\\building-blocks ['buttons.html', 'dialogs.html', 'grid-lists.html', 'index.html', 'lists.html', 'pickers.html', 'progress.html', 'scrolling.html', 'seek-bars.html', 'spinners.html', 'switches.html', 'tabs.html', 'text-fields.html']\n",
        "d:\\android\\android-sdk\\docs\\design\\downloads ['index.html']\n",
        "d:\\android\\android-sdk\\docs\\design\\get-started ['creative-vision.html', 'principles.html']\n",
        "d:\\android\\android-sdk\\docs\\design\\handhelds ['index.html']\n",
        "d:\\android\\android-sdk\\docs\\design\\media"
       ]
      },
      {
       "output_type": "stream",
       "stream": "stdout",
       "text": [
        " ['accessibility_contentdesc.png', 'action_bar_basics.png', 'action_bar_cab.png', 'action_bar_pattern_action_icons.png', 'action_bar_pattern_considerations.png', 'action_bar_pattern_overflow.png', 'action_bar_pattern_overview.png', 'action_bar_pattern_rotation.png', 'action_bar_pattern_share_pack.png', 'action_bar_pattern_table.png', 'action_bar_pattern_up_app_icon.png', 'android-tv.png', 'app_structure_book_detail_page_flip.png', 'app_structure_default_tabs.png', 'app_structure_drawer.png', 'app_structure_fixedtabs.png', 'app_structure_gallery_filmstrip.png', 'app_structure_gmail.png', 'app_structure_gmail_swipe.png', 'app_structure_market.png', 'app_structure_music_lndscp.png', 'app_structure_overview.png', 'app_structure_people_detail.png', 'app_structure_scrolltabs.png', 'app_structure_shortcut_on_item.png', 'app_structure_spinner.png', 'branding_googlemusic.png', 'branding_launcher_icon.png', 'branding_logo_icon_action_bar.png', 'branding_wallet.png', 'building_blocks_landing.png', 'buttons_basic.png', 'buttons_borderless.png', 'buttons_default_small.png', 'buttons_image_and_text.png', 'buttons_image_bg_dont.png', 'buttons_text.png', 'color_spectrum.png', 'compatibility_legacy_apps.png', 'compatibility_physical_buttons.png', 'compatibility_virtual_nav.png', 'confirm_ack_acknowledge.png', 'confirm_ack_confirming.png', 'confirm_ack_draft_deleted.png', 'confirm_ack_ex_beam.png', 'confirm_ack_ex_books.png', 'confirm_ack_ex_draftsave.png', 'confirm_ack_ex_plus1.png', 'confirm_ack_ex_removeapp.png', 'confirm_ack_flowchart.png', 'creative_vision_main.png', 'design_elements_landing.png', 'devices_displays_density.png', 'devices_displays_density@2x.png', 'devices_displays_main.png', 'device_family.png', 'dialogs_examples.png', 'dialogs_main.png', 'dialogs_popups_example.png', 'dialogs_toasts.png', 'dialogs_w_no_title.png', 'dialogs_w_title.png', 'documents-export-2013-10-29.zip', 'downloads_color_swatches.png', 'downloads_roboto_specimen_preview.png', 'downloads_stencils.png', 'downloads_wear_flows.png', 'downloads_wear_psds.png', 'downloads_wear_toolkit.png', 'extras_googleio_12.png', 'fullscreen_immersive_swipe_bottom.png', 'fullscreen_immersive_swipe_top.png', 'fullscreen_landing.png', 'fullscreen_leanback.png', 'gesture_doubletouch.png', 'gesture_doubletouchdrag.png', 'gesture_drag.png', 'gesture_longtouch.png', 'gesture_pinchclose.png', 'gesture_pinchopen.png', 'gesture_swipe.png', 'gesture_touch.png', 'gridview_example.png', 'gridview_horizontal.png', 'gridview_overview.png', 'gridview_style.png', 'gridview_vertical.png', 'help_better.png', 'help_cling.png', 'help_dont.png', 'help_evenbetter.png', 'help_overflow.png', 'help_solo_overflow.png', 'iconography_actionbar_colors.png', 'iconography_actionbar_focal.png', 'iconography_actionbar_size.png', 'iconography_actionbar_style.png', 'iconography_launcher_example.png', 'iconography_launcher_example2.png', 'iconography_launcher_focal.png', 'iconography_launcher_size.png', 'iconography_launcher_style.png', 'iconography_notification_example.png', 'iconography_notification_focal.png', 'iconography_notification_size.png', 'iconography_notification_style.png', 'iconography_overview.png', 'iconography_small_colors.png', 'iconography_small_example.png', 'iconography_small_focal.png', 'iconography_small_size.png', 'iconography_small_style.png', 'icon_alarm.png', 'icon_magnifying_glass.png', 'index_landing_page.png', 'lists_main.png', 'metrics_48.png', 'metrics_closeup.png', 'metrics_diagram.png', 'metrics_forms.png', 'migrating_icons.png', 'migrating_intents.png', 'migrating_ios_dialers.png', 'migrating_ios_galleries.png', 'migrating_ios_settings.png', 'migrating_ui_elements.png', 'multipane_expand.png', 'multipane_show.png', 'multipane_stack.png', 'multipane_stretch.png', 'multipane_views.png', 'multipane_view_tablet.png', 'navigation_between_apps_back.png', 'navigation_between_apps_inward.png', 'navigation_between_apps_up.png', 'navigation_between_siblings_gmail.png', 'navigation_between_siblings_market1.png', 'navigation_between_siblings_market2.png', 'navigation_drawer_CAB.png', 'navigation_drawer_collapse.png', 'navigation_drawer_cross_nav.png', 'navigation_drawer_first_run.png', 'navigation_drawer_holo_dark_light.png', 'navigation_drawer_indicator_big.png', 'navigation_drawer_layout.png', 'navigation_drawer_navigation_hubs.png', 'navigation_drawer_nav_and_actions.png', 'navigation_drawer_open_from_lower.png', 'navigation_drawer_open_overflow.png', 'navigation_drawer_overview.png', 'navigation_drawer_peek.png', 'navigation_drawer_quick_to_top.png', 'navigation_drawer_reset_backstack.png', 'navigation_drawer_settings_help.png', 'navigation_drawer_titles_icons.png', 'navigation_drawer_top_out.png', 'navigation_from_outside_back.png', 'navigation_indirect_notification.png', 'navigation_popup_notification.png', 'navigation_up_vs_back_gmail.png', 'navigation_with_back_and_up.png', 'new_accessibility.png', 'new_notifications.png', 'new_widgets.png', 'notifications_dismiss.png', 'notifications_expand_contract_msg.png', 'notifications_pattern_additional_fail.png', 'notifications_pattern_additional_win.png', 'notifications_pattern_anatomy.png', 'notifications_pattern_expandable.png', 'notifications_pattern_expand_contract.png', 'notifications_pattern_ongoing_music.png', 'notifications_pattern_personal.png', 'notifications_pattern_phone_icons.png', 'notifications_pattern_phone_ticker.png', 'notifications_pattern_priority.png', 'notifications_pattern_real_time_people.png', 'notifications_pattern_social_fail.png', 'notifications_pattern_tablet.png', 'notifications_pattern_two_actions.png', 'patterns_landing.png', 'picker_datetime.png', 'picker_space.png', 'principles_decide_for_me.png', 'principles_delight.png', 'principles_error.png', 'principles_get_to_know_me.png', 'principles_heavy_lifting.png', 'principles_important_interruption.png', 'principles_information_when_need_it.png', 'principles_keep_it_brief.png', 'principles_looks_same.png', 'principles_make_important_fast.png', 'principles_make_it_mine.png', 'principles_navigation.png', 'principles_never_lose_stuff.png', 'principles_pictures.png', 'principles_real_objects.png', 'principles_sprinkle_encouragement.png', 'principles_tricks.png', 'progress_activity.png', 'progress_activity2.png', 'progress_activity_custom.png', 'progress_activity_custom_app.png', 'progress_activity_do_dont.png', 'progress_download.png', 'progress_themes.png', 'scroll_index.mp4', 'scroll_index.ogv', 'scroll_index.webm', 'scroll_indicator.mp4', 'scroll_indicator.ogv', 'scroll_indicator.webm', 'seekbar_example.png', 'seekbar_style.png', 'selection_adjusting_actions.png', 'selection_cab_big.png', 'selection_cab_example.png', 'selection_context_menu.png', 'settings_checkbox.png', 'settings_date_time.png', 'settings_dependency.png', 'settings_flowchart.png', 'settings_grouping.png', 'settings_individual_on_off.png', 'settings_list_subscreen.png', 'settings_main.png', 'settings_master_on_off.png', 'settings_master_on_off_2.png', 'settings_multiple_choice.png', 'settings_overflow.png', 'settings_slider.png', 'settings_subscreen_navigation.png', 'spinners_actionbar.png', 'spinners_form.png', 'spinners_hololightanddark.png', 'swipe_tabs.mp4', 'swipe_tabs.ogv', 'swipe_tabs.png', 'swipe_tabs.webm', 'swipe_views.png', 'swipe_views2.png', 'swipe_views3.png', 'switches_checkboxes.png', 'switches_radios.png', 'switches_switches.png', 'system_ui_landing.png', 'tabs_overview.png', 'tabs_scrolly.mp4', 'tabs_scrolly.ogv', 'tabs_scrolly.webm', 'tabs_stacked.png', 'tabs_standard.png', 'tabs_youtube.png', 'text_input_holodarkandlight.png', 'text_input_singlevsmultiline.png', 'text_input_textselection.png', 'text_input_typesandtypedown.png', 'themes_holo_dark.png', 'themes_holo_light.png', 'touch_feedback.mp4', 'touch_feedback.ogv', 'touch_feedback.webm', 'touch_feedback_communication.png', 'touch_feedback_manipulation.png', 'touch_feedback_reaction_response.png', 'touch_feedback_states.png', 'touch_feedback_thumb.png', 'typography_defaults.png', 'typography_main.png', 'typography_sizes.png', 'typography_variants.png', 'typography_variants@2x.png', 'ui_overview_all_apps.png', 'ui_overview_app_ui.png', 'ui_overview_home_screen.png', 'ui_overview_notifications.png', 'ui_overview_recents.png', 'ui_overview_system_ui.png', 'whats_new_action_bar.png', 'whats_new_multipanel.png', 'whats_new_multiselect.png', 'whats_new_nav_bar.png', 'widgets_collection_bookmarks.png', 'widgets_collection_gmail.png', 'widgets_config.png', 'widgets_control.png', 'widgets_gestures.png', 'widgets_hybrid.png', 'widgets_info.png', 'widgets_resizing01.png', 'widgets_resizing02.png', 'yourbranding_app.png', 'yourbranding_googlemusic.png', 'yourbranding_icon.png', 'yourbranding_in-app-icons.png', 'yourbranding_logo.png', 'yourbranding_sharing.png']\n",
        "d:\\android\\android-sdk\\docs\\design\\media\\wear ['1D_picker.png', '2D_picker.png', '2D_picker_action.png', '2d_picker_indicated.png', 'action_button.png', 'action_on_card.png', 'appstructuresample.png', 'assets_specifics.png', 'biggesture.png', 'Bluebird.png', 'bridgednotifications.jpg', 'circle_message2.png', 'clear_bold_type.jpg', 'confirmation.png', 'context_fitness.png', 'context_lights.png', 'context_running.png', 'context_workout.png', 'continue_phone.png', 'copywrite.png', 'countdown.png', 'customlayout.jpg', 'customlayout.png', 'Dismissing-cards.png', 'dismiss_cards.png', 'expandable_stacks.png', 'fitness.png', 'five_seconds.gif', 'gross_gestures.png', 'low_info_card.png', 'peek-card.png', 'round_noframe.png', 'selection_list.png', 'separate-info-cards.png', 'separate_info_cards.jpg', 'separate_info_cards_1.jpg', 'separate_info_cards_2.jpg', 'single_action_controls.jpg', 'vision_music.png', 'vision_navigation.png', 'vision_traffic.png', 'vision_voice.png', 'voice_commands.png', 'wear_checkin.png']\n",
        "d:\\android\\android-sdk\\docs\\design\\patterns ['accessibility.html', 'actionbar.html', 'app-structure.html', 'buttons.html', 'compatibility.html', 'confirming-acknowledging.html', 'fullscreen.html', 'gestures.html', 'help.html', 'index.html', 'multi-pane-layouts.html', 'navigation-drawer.html', 'navigation.html', 'new.html', 'notifications.html', 'pure-android.html', 'selection.html', 'settings.html', 'swipe-views.html', 'widgets.html']\n",
        "d:\\android\\android-sdk\\docs\\design\\style ['branding.html', 'color.html', 'devices-displays.html', 'iconography.html', 'index.html', 'metrics-grids.html', 'themes.html', 'touch-feedback.html', 'typography.html', 'writing.html']\n",
        "d:\\android\\android-sdk\\docs\\design\\tv ['index.html', 'patterns.html', 'principles.html', 'style.html']\n",
        "d:\\android\\android-sdk\\docs\\design\\tv\\images ['apps-games-rows.jpg', 'atv-framed-med.png', 'atv-home.jpg', 'focus.png', 'icon.png', 'overscan.png', 'recommendations.png', 'search.jpg', 'settings.jpg']\n",
        "d:\\android\\android-sdk\\docs\\design\\videos ['index.html']\n",
        "d:\\android\\android-sdk\\docs\\design\\wear"
       ]
      },
      {
       "output_type": "stream",
       "stream": "stdout",
       "text": [
        " ['creative-vision.html', 'index.html', 'patterns.html', 'principles.html', 'structure.html', 'style.html']\n",
        "d:\\android\\android-sdk\\docs\\develop ['index.html']\n",
        "d:\\android\\android-sdk\\docs\\distribute ['index.html']\n",
        "d:\\android\\android-sdk\\docs\\distribute\\engage ['analytics.html', 'app-updates.html', 'community.html', 'deep-linking.html', 'easy-signin.html', 'engage_toc.html', 'game-services.html', 'gcm.html', 'index.html', 'notifications.html', 'video.html', 'widgets.html']\n",
        "d:\\android\\android-sdk\\docs\\distribute\\essentials ['essentials_toc.html', 'index.html', 'optimizing-your-app.html']\n",
        "d:\\android\\android-sdk\\docs\\distribute\\essentials\\best-practices ['apps.html', 'games.html']\n",
        "d:\\android\\android-sdk\\docs\\distribute\\essentials\\quality ['core.html', 'tablets.html']\n",
        "d:\\android\\android-sdk\\docs\\distribute\\googleplay ['about.html', 'developer-console.html', 'googleplay_toc.html', 'index.html', 'start.html']\n",
        "d:\\android\\android-sdk\\docs\\distribute\\googleplay\\edu ['about.html', 'contact.html', 'start.html', 'videos.html']\n",
        "d:\\android\\android-sdk\\docs\\distribute\\images ['about-play-education.jpg', 'about-play.jpg', 'advertising.jpg', 'advertising.png', 'alt-distribution.jpg', 'android-support-card.jpg', 'build-buzz.jpg', 'core-quality-guidelines.jpg', 'create-listing.jpg', 'default.jpg', 'developer-console.jpg', 'ecommerce.jpg', 'edu-guidelines.jpg', 'expand-into-new-markets.jpg', 'freemium.jpg', 'getting-started.jpg', 'gp-app-practices.png', 'gp-edu-apps-image.jpg', 'gp-games-practices.png', 'gp-optimize-card.jpg', 'gpfe-faq.jpg', 'know-your-user.jpg', 'launch-checklist.jpg', 'localization-checklist.jpg', 'payment-method.jpg', 'play-education.jpg', 'premium.jpg', 'subscription.jpg', 'tablet-guidelines-color.jpg', 'tablet-guidelines.jpg']\n",
        "d:\\android\\android-sdk\\docs\\distribute\\monetize"
       ]
      },
      {
       "output_type": "stream",
       "stream": "stdout",
       "text": [
        " ['ads.html', 'ecommerce.html', 'freemium.html', 'index.html', 'monetize_toc.html', 'payments.html', 'premium.html', 'subscriptions.html']\n",
        "d:\\android\\android-sdk\\docs\\distribute\\stories ['games.html', 'index.html', 'localization.html', 'stories_toc.html', 'tablets.html']\n",
        "d:\\android\\android-sdk\\docs\\distribute\\tools ['disttools_toc.html', 'index.html', 'launch-checklist.html', 'localization-checklist.html', 'open-distribution.html']\n",
        "d:\\android\\android-sdk\\docs\\distribute\\tools\\promote ['badge-files.html', 'badges.html', 'brand.html', 'device-art.html', 'linking.html']\n",
        "d:\\android\\android-sdk\\docs\\distribute\\tools\\promote\\device-art-resources []\n",
        "d:\\android\\android-sdk\\docs\\distribute\\tools\\promote\\device-art-resources\\galaxy_nexus"
       ]
      },
      {
       "output_type": "stream",
       "stream": "stdout",
       "text": [
        " ['land_back.png', 'land_fore.png', 'land_shadow.png', 'port_back.png', 'port_fore.png', 'port_shadow.png', 'thumb.png']\n",
        "d:\\android\\android-sdk\\docs\\distribute\\tools\\promote\\device-art-resources\\nexus_10 ['land_back.png', 'land_fore.png', 'land_shadow.png', 'port_back.png', 'port_fore.png', 'port_shadow.png', 'thumb.png']\n",
        "d:\\android\\android-sdk\\docs\\distribute\\tools\\promote\\device-art-resources\\nexus_4 ['land_back.png', 'land_fore.png', 'land_shadow.png', 'port_back.png', 'port_fore.png', 'port_shadow.png', 'thumb.png']\n",
        "d:\\android\\android-sdk\\docs\\distribute\\tools\\promote\\device-art-resources\\nexus_5 ['land_back.png', 'land_fore.png', 'land_shadow.png', 'port_back.png', 'port_fore.png', 'port_shadow.png', 'thumb.png']\n",
        "d:\\android\\android-sdk\\docs\\distribute\\tools\\promote\\device-art-resources\\nexus_7 ['land_back.png', 'land_fore.png', 'land_shadow.png', 'port_back.png', 'port_fore.png', 'port_shadow.png', 'thumb.png']\n",
        "d:\\android\\android-sdk\\docs\\distribute\\tools\\promote\\device-art-resources\\nexus_7_2012"
       ]
      },
      {
       "output_type": "stream",
       "stream": "stdout",
       "text": [
        " ['land_back.png', 'land_fore.png', 'land_shadow.png', 'port_back.png', 'port_fore.png', 'port_shadow.png', 'thumb.png']\n",
        "d:\\android\\android-sdk\\docs\\distribute\\tools\\promote\\device-art-resources\\nexus_s ['land_back.png', 'land_fore.png', 'land_shadow.png', 'port_back.png', 'port_fore.png', 'port_shadow.png', 'thumb.png']\n",
        "d:\\android\\android-sdk\\docs\\distribute\\tools\\promote\\device-art-resources\\xoom ['land_back.png', 'land_fore.png', 'land_shadow.png', 'port_back.png', 'port_fore.png', 'port_shadow.png', 'thumb.png']\n",
        "d:\\android\\android-sdk\\docs\\distribute\\users"
       ]
      },
      {
       "output_type": "stream",
       "stream": "stdout",
       "text": [
        " ['build-buzz.html', 'build-community.html', 'expand-to-new-markets.html', 'index.html', 'know-your-user.html', 'promote-with-ads.html', 'users_toc.html', 'your-listing.html']\n",
        "d:\\android\\android-sdk\\docs\\google ['google_toc.html', 'index.html']\n",
        "d:\\android\\android-sdk\\docs\\google\\auth ['api-client.html', 'http-auth.html']\n",
        "d:\\android\\android-sdk\\docs\\google\\backup ['index.html', 'signup.html', 'terms.html']\n",
        "d:\\android\\android-sdk\\docs\\google\\gcm ['adv.html', 'c2dm.html', 'ccs.html', 'client.html', 'demo.html', 'gcm.html', 'gs.html', 'helper.html', 'http.html', 'index.html', 'notifications.html', 'server.html']\n",
        "d:\\android\\android-sdk\\docs\\google\\gcs ['gcs-signup.html', 'index.html']\n",
        "d:\\android\\android-sdk\\docs\\google\\play ['dist.html', 'expansion-files.html', 'filters.html']\n",
        "d:\\android\\android-sdk\\docs\\google\\play\\billing ['api.html', 'billing_admin.html', 'billing_best_practices.html', 'billing_integrate.html', 'billing_overview.html', 'billing_reference.html', 'billing_subscriptions.html', 'billing_testing.html', 'gp-purchase-status-api.html', 'index.html', 'versions.html']\n",
        "d:\\android\\android-sdk\\docs\\google\\play\\billing\\v2 ['api.html', 'billing_integrate.html', 'billing_reference.html', 'billing_subscriptions.html']\n",
        "d:\\android\\android-sdk\\docs\\google\\play\\licensing ['adding-licensing.html', 'index.html', 'licensing-reference.html', 'overview.html', 'setting-up.html']\n",
        "d:\\android\\android-sdk\\docs\\google\\play\\publishing ['multiple-apks.html']\n",
        "d:\\android\\android-sdk\\docs\\google\\play-services ['ads.html', 'auth.html', 'cast.html', 'drive.html', 'games.html', 'id.html', 'index.html', 'location.html', 'maps.html', 'plus.html', 'setup.html', 'wallet.html']\n",
        "d:\\android\\android-sdk\\docs\\guide ['guide_toc.html', 'index.html']\n",
        "d:\\android\\android-sdk\\docs\\guide\\appendix ['app-intents.html', 'g-app-intents.html', 'glossary.html', 'index.html', 'media-formats.html']\n",
        "d:\\android\\android-sdk\\docs\\guide\\appendix\\faq ['commontasks.html', 'framework.html', 'index.html', 'licensingandoss.html', 'security.html', 'troubleshooting.html']\n",
        "d:\\android\\android-sdk\\docs\\guide\\components ['activities.html', 'aidl.html', 'bound-services.html', 'fragments.html', 'fundamentals.html', 'index.html', 'intents-common.html', 'intents-filters.html', 'loaders.html', 'processes-and-threads.html', 'services.html', 'tasks-and-back-stack.html']\n",
        "d:\\android\\android-sdk\\docs\\guide\\components\\images ['google-action.png', 'google-action_2x.png', 'voice-icon.png']\n",
        "d:\\android\\android-sdk\\docs\\guide\\faq"
       ]
      },
      {
       "output_type": "stream",
       "stream": "stdout",
       "text": [
        " ['commontasks.html', 'framework.html', 'index.html', 'licensingandoss.html', 'security.html', 'troubleshooting.html']\n",
        "d:\\android\\android-sdk\\docs\\guide\\practices ['compatibility.html', 'index.html', 'optimizing-for-3.0.html', 'screen-compat-mode.html', 'screens-distribution.html', 'screens-support-1.5.html', 'screens_support.html', 'seamlessness.html', 'tablets-and-handsets.html', 'verifying-apps-art.html']\n",
        "d:\\android\\android-sdk\\docs\\guide\\practices\\app-design ['index.html', 'seamlessness.html']\n",
        "d:\\android\\android-sdk\\docs\\guide\\practices\\ui_guidelines ['activity_task_design.html', 'icon_design.html', 'icon_design_action_bar.html', 'icon_design_dialog.html', 'icon_design_launcher.html', 'icon_design_launcher_archive.html', 'icon_design_list.html', 'icon_design_menu.html', 'icon_design_status_bar.html', 'icon_design_tab.html', 'index.html', 'menu_design.html', 'widget_design.html']\n",
        "d:\\android\\android-sdk\\docs\\guide\\samples ['index.html']\n",
        "d:\\android\\android-sdk\\docs\\guide\\samples\\images ['HomeSample.png', 'JetBoy.png', 'sample_lunarlander.png', 'sample_note.png', 'sample_notepad.png', 'SearchableDictionary1.png', 'SearchableDictionary2.png', 'Snake.png', 'SoftKeyboard.png']\n",
        "d:\\android\\android-sdk\\docs\\guide\\topics []\n",
        "d:\\android\\android-sdk\\docs\\guide\\topics\\admin ['device-admin.html', 'index.html']\n",
        "d:\\android\\android-sdk\\docs\\guide\\topics\\appwidgets ['host.html', 'index.html']\n",
        "d:\\android\\android-sdk\\docs\\guide\\topics\\connectivity ['bluetooth-le.html', 'bluetooth.html', 'index.html', 'sip.html', 'wifip2p.html']\n",
        "d:\\android\\android-sdk\\docs\\guide\\topics\\connectivity\\nfc ['advanced-nfc.html', 'hce.html', 'index.html', 'nfc.html']\n",
        "d:\\android\\android-sdk\\docs\\guide\\topics\\connectivity\\usb ['accessory.html', 'host.html', 'index.html']\n",
        "d:\\android\\android-sdk\\docs\\guide\\topics\\data ['backup.html', 'data-storage.html', 'index.html', 'install-location.html']\n",
        "d:\\android\\android-sdk\\docs\\guide\\topics\\graphics ['2d-graphics.html', 'drawable-animation.html', 'hardware-accel.html', 'index.html', 'opengl.html', 'overview.html', 'prop-animation.html', 'view-animation.html']\n",
        "d:\\android\\android-sdk\\docs\\guide\\topics\\location ['index.html', 'strategies.html']\n",
        "d:\\android\\android-sdk\\docs\\guide\\topics\\manifest ['action-element.html', 'activity-alias-element.html', 'activity-element.html', 'application-element.html', 'category-element.html', 'compatible-screens-element.html', 'data-element.html', 'grant-uri-permission-element.html', 'instrumentation-element.html', 'intent-filter-element.html', 'manifest-element.html', 'manifest-intro.html', 'meta-data-element.html', 'path-permission-element.html', 'permission-element.html', 'permission-group-element.html', 'permission-tree-element.html', 'provider-element.html', 'receiver-element.html', 'service-element.html', 'supports-gl-texture-element.html', 'supports-screens-element.html', 'uses-configuration-element.html', 'uses-feature-element.html', 'uses-library-element.html', 'uses-permission-element.html', 'uses-sdk-element.html']\n",
        "d:\\android\\android-sdk\\docs\\guide\\topics\\media ['audio-capture.html', 'camera.html', 'exoplayer.html', 'index.html', 'jetplayer.html', 'mediaplayer.html', 'mediarouteprovider.html', 'mediarouter.html']\n",
        "d:\\android\\android-sdk\\docs\\guide\\topics\\media\\images ['camera-area-coordinates.png', 'notification1.png', 'notification2.png']\n",
        "d:\\android\\android-sdk\\docs\\guide\\topics\\media\\jet ['jetcreator_manual.html']\n",
        "d:\\android\\android-sdk\\docs\\guide\\topics\\processes ['process-lifecycle.html']\n",
        "d:\\android\\android-sdk\\docs\\guide\\topics\\providers ['calendar-provider.html', 'contacts-provider.html', 'content-provider-basics.html', 'content-provider-creating.html', 'content-providers.html', 'document-provider.html']\n",
        "d:\\android\\android-sdk\\docs\\guide\\topics\\renderscript"
       ]
      },
      {
       "output_type": "stream",
       "stream": "stdout",
       "text": [
        " ['advanced.html', 'compute.html', 'index.html', 'reference.html']\n",
        "d:\\android\\android-sdk\\docs\\guide\\topics\\resources ['accessing-resources.html', 'animation-resource.html', 'available-resources.html', 'color-list-resource.html', 'drawable-resource.html', 'index.html', 'layout-resource.html', 'localization.html', 'menu-resource.html', 'more-resources.html', 'overview.html', 'providing-resources.html', 'resources-i18n.html', 'runtime-changes.html', 'string-resource.html', 'style-resource.html']\n",
        "d:\\android\\android-sdk\\docs\\guide\\topics\\search ['adding-custom-suggestions.html', 'adding-recent-query-suggestions.html', 'index.html', 'search-dialog.html', 'searchable-config.html']\n",
        "d:\\android\\android-sdk\\docs\\guide\\topics\\security ['permissions.html']\n",
        "d:\\android\\android-sdk\\docs\\guide\\topics\\sensors ['index.html', 'sensors_environment.html', 'sensors_motion.html', 'sensors_overview.html', 'sensors_position.html']\n",
        "d:\\android\\android-sdk\\docs\\guide\\topics\\text ['copy-paste.html', 'creating-input-method.html', 'index.html', 'spell-checker-framework.html']\n",
        "d:\\android\\android-sdk\\docs\\guide\\topics\\ui ['actionbar.html', 'binding.html', 'controls.html', 'custom-components.html', 'declaring-layout.html', 'dialogs.html', 'drag-drop.html', 'how-android-draws.html', 'index.html', 'menus.html', 'overview.html', 'settings.html', 'themes.html', 'ui-events.html']\n",
        "d:\\android\\android-sdk\\docs\\guide\\topics\\ui\\accessibility ['apps.html', 'calendar.png', 'checklist.html', 'index.html', 'services.html']\n",
        "d:\\android\\android-sdk\\docs\\guide\\topics\\ui\\controls ['button.html', 'checkbox.html', 'pickers.html', 'radiobutton.html', 'spinner.html', 'text.html', 'togglebutton.html']\n",
        "d:\\android\\android-sdk\\docs\\guide\\topics\\ui\\images ['android_focused.png', 'android_normal.png', 'android_pressed.png', 'hello-gallery.png', 'hello-gridview.png', 'hello-linearlayout.png', 'hello-listview.png', 'hello-mapview.png', 'hello-relativelayout.png', 'hello-tablelayout.png', 'hello-tabwidget.png', 'hello-webview.png', 'ic_tab_artists_grey.png', 'ic_tab_artists_white.png']\n",
        "d:\\android\\android-sdk\\docs\\guide\\topics\\ui\\layout ['grid.html', 'gridview.html', 'linear.html', 'listview.html', 'relative.html']\n",
        "d:\\android\\android-sdk\\docs\\guide\\topics\\ui\\notifiers ['notifications.html', 'toasts.html']\n",
        "d:\\android\\android-sdk\\docs\\guide\\webapps ['best-practices.html', 'debugging.html', 'index.html', 'migrating.html', 'targeting.html', 'webview.html']\n",
        "d:\\android\\android-sdk\\docs\\images"
       ]
      },
      {
       "output_type": "stream",
       "stream": "stdout",
       "text": [
        " ['activity_fragment_lifecycle.png', 'activity_lifecycle.png', 'android-logo.png', 'android_adc.gif', 'android_icon_125.png', 'anr.png', 'avd-manager.png', 'axis_device.png', 'axis_globe.png', 'axis_globe_inverted.png', 'billing_arch.png', 'billing_checkout_flow.png', 'billing_check_supported.png', 'billing_list_form.png', 'billing_list_form_2.png', 'billing_package.png', 'billing_product_list.png', 'billing_product_list_entry.png', 'billing_refund.png', 'billing_request_purchase.png', 'billing_restore_transactions.png', 'billing_subscription_flow.png', 'billing_test_flow.png', 'binder_rpc.png', 'blog.jpg', 'bt_enable_discoverable.png', 'bt_enable_request.png', 'bt_pairing_request.png', 'build-simplified.png', 'build.png', 'c2dm.png', 'canvas.png', 'content_uri.png', 'custom_message.png', 'custom_toast.png', 'dac-design-icon.png', 'debug-ddms.png', 'debugging-tall.png', 'debugging.png', 'designing_ui_layout_example.png', 'designing_ui_relative_layout.png', 'develop-placeholder.png', 'device-art-ex-crop.jpg', 'draw9patch-bad.png', 'draw9patch-norm.png', 'drm_arch.png', 'editorschoice_ann.png', 'emulator-wvga800l.png', 'example-bad.png', 'example-good.png', 'external-display.png', 'fragment_lifecycle.png', 'google-apis.png', 'gp-about-0.jpg', 'gp-about-listing.jpg', 'gp-about-picks1.jpg', 'gp-about-picks2.jpg', 'gp-about-picks3.jpg', 'gp-about-top.jpg', 'gp-ads-console.jpg', 'gp-ads-linking2.jpg', 'gp-analytics.jpg', 'gp-androidify.png', 'gp-badge-jp.png', 'gp-badges-set.png', 'gp-balance.png', 'gp-build-buzz-uplift-1.png', 'gp-build-buzz-uplift-2.png', 'gp-build-buzz-yt.png', 'gp-buyer-currency.png', 'gp-buzz-1.jpg', 'gp-community-0.png', 'gp-core-quality.png', 'gp-dc-ab.png', 'gp-dc-countries.png', 'gp-dc-details.png', 'gp-dc-home.png', 'gp-dc-inapp.jpg', 'gp-dc-invite.png', 'gp-dc-profile.png', 'gp-dc-reviews.png', 'gp-dc-startscreen.jpg', 'gp-dc-stats-mini.png', 'gp-dc-stats.png', 'gp-details-ww-purchase.png', 'gp-devconsole-home.png', 'gp-device.png', 'gp-e-value.png', 'gp-ecom-0.png', 'gp-edu-ads-iab.png', 'gp-edu-apps-n7.jpg', 'gp-edu-hero14.jpg', 'gp-edu-monetize.png', 'gp-edu-optin-console.jpg', 'gp-edu-optin.png', 'gp-edu-process.png', 'gp-edu-quality.png', 'gp-engage-0.jpg', 'gp-engage-5.jpg', 'gp-engage-6.jpg', 'gp-engage-9.jpg', 'gp-engage-share-plus.png', 'gp-engage-smule.jpg', 'gp-expand-2.jpg', 'gp-expand-4.jpg', 'gp-expand-5.jpg', 'gp-freemium-0.jpg', 'gp-freemium-1.jpg', 'gp-launch-checklist-1.png', 'gp-linking-ex-crop.png', 'gp-listing-0.jpg', 'gp-listing-1.png', 'gp-listing-2.jpg', 'gp-listing-3.jpg', 'gp-listing-4.jpg', 'gp-localization-trans-0.png', 'gp-optimize-analytics.png', 'gp-optimize-speed.png', 'gp-optimize.png', 'gp-optimizing-chat-bubbles.png', 'gp-optimizing-image-4.jpg', 'gp-payments-1.png', 'gp-premium-0.png', 'gp-rating-web.png', 'gp-start-button.png', 'gp-start-wallet-icon.png', 'gp-subscription-0.jpg', 'gp-supported-dev-requirements.png', 'gp-tablet-quality-4.jpg', 'gp-tablet-quality-5.jpg', 'gp-tablets-full-feature-set.png', 'gp-your-user-0.jpg', 'gp-your-user-2.jpg', 'gpfe-developer.png', 'gpfe-educator.png', 'gpfe-start-0.jpg', 'gradient_drawable.png', 'hierarchyviewer-layout.png', 'hierarchyviewer-pixelperfect.png', 'home-marquee.jpg', 'iab-thumb.png', 'jb-accessibility-focus-250.png', 'jb-accessibility-focus.png', 'jb-android-4.1.png', 'jb-android-43.jpg', 'jb-android-43@2x.png', 'jb-appwidgets.png', 'jb-btle.png', 'jb-dev-options-device.png', 'jb-device-2.png', 'jb-devices.png', 'jb-dream-1.png', 'jb-external-display.png', 'jb-gpu-profile-cal-n4.png', 'jb-gpu-profile-clk-n4.png', 'jb-lock-calendar.png', 'jb-nexus10-1.png', 'jb-notif-ex.png', 'jb-notif-ex1.png', 'jb-profiles-create-n713.png', 'jb-profiles-restrictions-n713.png', 'jb-pseudo-locale-zz.png', 'jb-r2l.png', 'jb-rs-chart-gpu.png', 'jb-rs-chart-versions.png', 'jb-rtl-arabic-n4.png', 'jb-rtl-hebrew-n4.png', 'jb-rtl.png', 'jb-systrace.png', 'kk-android-44.png', 'kk-captions-n5.jpg', 'kk-chromium-icon.png', 'kk-contactless-card.png', 'kk-devices.png', 'kk-home.jpg', 'kk-immersive-n5.jpg', 'kk-loudnessEnhancerAnnotated.png', 'kk-meminfo.png', 'kk-print-land-n5.jpg', 'kk-proc-device-detail-n5.jpg', 'kk-proc-device-overview-n5.jpg', 'kk-procstats.png', 'kk-pseudolocale-rtl.png', 'kk-rs-chart-versions.png', 'kk-saf1-n5.jpg', 'kk-saf2-n5.jpg', 'kk-sensors-moves-n5.jpg', 'kk-sensors-runtastic-n5.jpg', 'layoutparams.png', 'layout_bar.png', 'layout_editor.png', 'layout_outline.png', 'licensing_add_library.png', 'licensing_arch.png', 'licensing_device_signin.png', 'licensing_flow.png', 'licensing_package.png', 'licensing_public_key.png', 'licensing_test_response.png', 'linearlayout.png', 'LivePocketGemsTitleCard.png', 'logo_android.gif', 'material.png', 'mediadrm_decryption_sequence.png', 'mediadrm_overview.png', 'mediaplayer_state_diagram.gif', 'mediarecorder_state_diagram.gif', 'nfc_tag_dispatch.png', 'ninepatch_examples.png', 'ninepatch_raw.png', 'notifications_window.png', 'no_scrollview.png', 'options_menu.png', 'padding_margins.png', 'palette.png', 'play-services-diagram.png', 'play_dev.jpg', 'play_dev_sm.png', 'play_tableft.png', 'plus.jpg', 'radio_buttons.png', 'resource-card-android-studio.png', 'robot-tiny.png', 'rs_compute.png', 'rs_graphics.png', 'rs_overview.png', 'sdk-cube.png', 'sdk_manager_packages.png', 'service_lifecycle.png', 'setting_width_and_height.png', 'status_bar.png', 'system-architecture.jpg', 'table_layout.png', 'title-adia-kk.png', 'title-devbytes-kk.jpg', 'toast.png', 'tools-home.png', 'topdev_ann.png', 'tracedump.png', 'traceview_profile.png', 'traceview_timeline.png', 'transparent--bars@2x.png', 'ui-ex-multi-pane.png', 'ui-ex-single-panes.png', 'usb-host-accessory.png', 'video-kiwi.jpg', 'video_thumb_dan.png', 'video_thumb_mike.png', 'viewgroup.png', 'zippy_bullet.gif', 'zippy_closed.gif', 'zippy_open.gif']\n",
        "d:\\android\\android-sdk\\docs\\images\\about ['growth-chart.png']\n",
        "d:\\android\\android-sdk\\docs\\images\\activity_task_design ['ActivityChooser.png', 'ContactNew.png', 'ContactsDialer.png', 'ContactsList.png', 'ContactView.png', 'HomeTaskBasics1a.png', 'HomeTaskBasics1b.png', 'HomeTaskBasics1c.png', 'HomeTaskBasics1d.png', 'HomeTaskBasics1e.png', 'HomeTaskSwitching1a.png', 'HomeTaskSwitching1b.png', 'HomeTaskSwitching1c.png', 'HomeTaskSwitching2.png', 'HomeTaskSwitching3a.png', 'HomeTaskSwitching3b.png', 'HomeTaskSwitching3c.png', 'IntentsDiagram.png', 'PhoneActivitiesDiagram.png', 'ReplacingAnActivity.png', 'ReusingAnActivity1.png', 'ReusingAnActivity2.png']\n",
        "d:\\android\\android-sdk\\docs\\images\\admin ['device-admin-activate-prompt.png', 'device-admin-app.png']\n",
        "d:\\android\\android-sdk\\docs\\images\\android-5.0 ['ActivitySceneTransitionBasic.png', 'ActivitySceneTransitionBasic@2x.png', 'art.png', 'BasicManagedProfile.png', 'BasicManagedProfile@2x.png', 'battery_historian.png', 'battery_historian@2x.png', 'bugs.png', 'hun-example.png', 'hun-example@2x.png', 'JobSchedulerSample.png', 'JobSchedulerSample@2x.png', 'l-dev-prev.png', 'managed_apps_launcher.png', 'managed_apps_launcher@2x.png', 'opt-in.png', 'updates.png']\n",
        "d:\\android\\android-sdk\\docs\\images\\android-5.0\\notifications"
       ]
      },
      {
       "output_type": "stream",
       "stream": "stdout",
       "text": [
        " ['action_combo.png', 'AntiSample1.png', 'AntiSample3.png', 'basic_combo.png', 'ExpandedImage.png', 'expandedtext_combo.png', 'Headsup.png', 'Largelogo.png', 'LockScreen.png', 'MusicPlayback.png', 'notifications_pattern_priority.png', 'ProductIcons.png', 'Productlogos.png', 'ReplyAction.png', 'Stack.png', 'stack_combo.png', 'Summarise_Do.png', 'Summarise_Dont.png', 'Summary_Do.png', 'TimeSensitive.png', 'Triggered.png', 'WearBasic.png']\n",
        "d:\\android\\android-sdk\\docs\\images\\animation ['animation-linear.png', 'animation-nonlinear.png', 'valueanimator.png']\n",
        "d:\\android\\android-sdk\\docs\\images\\appwidgets ['appwidget.png', 'appwidget_collections.png', 'StackWidget.png']\n",
        "d:\\android\\android-sdk\\docs\\images\\brand"
       ]
      },
      {
       "output_type": "stream",
       "stream": "stdout",
       "text": [
        " ['af_generic_rgb_wo_45.png', 'af_generic_rgb_wo_60.png', 'android_logo_no.png', 'Android_Robot_100.png', 'Android_Robot_200.png', 'Android_Robot_500.png', 'ar_generic_rgb_wo_45.png', 'ar_generic_rgb_wo_60.png', 'be_generic_rgb_wo_45.png', 'be_generic_rgb_wo_60.png', 'bg_generic_rgb_wo_45.png', 'bg_generic_rgb_wo_60.png', 'ca_generic_rgb_wo_45.png', 'ca_generic_rgb_wo_60.png', 'cs_generic_rgb_wo_45.png', 'cs_generic_rgb_wo_60.png', 'da_generic_rgb_wo_45.png', 'da_generic_rgb_wo_60.png', 'de_app_rgb_wo_45.png', 'de_app_rgb_wo_60.png', 'de_generic_rgb_wo_45.png', 'de_generic_rgb_wo_60.png', 'el_generic_rgb_wo_45.png', 'el_generic_rgb_wo_60.png', 'en_app_rgb_wo_45.png', 'en_app_rgb_wo_60.png', 'en_generic_rgb_wo_45.png', 'en_generic_rgb_wo_60.png', 'es-419_app_rgb_wo_45.png', 'es-419_app_rgb_wo_60.png', 'es-419_generic_rgb_wo_45.png', 'es-419_generic_rgb_wo_60.png', 'es_app_rgb_wo_45.png', 'es_app_rgb_wo_60.png', 'es_generic_rgb_wo_45.png', 'es_generic_rgb_wo_60.png', 'et_generic_rgb_wo_45.png', 'et_generic_rgb_wo_60.png', 'fa_generic_rgb_wo_45.png', 'fa_generic_rgb_wo_60.png', 'fil_generic_rgb_wo_45.png', 'fil_generic_rgb_wo_60.png', 'fi_generic_rgb_wo_45.png', 'fi_generic_rgb_wo_60.png', 'fr_app_rgb_wo_45.png', 'fr_app_rgb_wo_60.png', 'fr_generic_rgb_wo_45.png', 'fr_generic_rgb_wo_60.png', 'Google_Play_Store_48.png', 'Google_Play_Store_600.png', 'Google_Play_Store_96.png', 'hr_generic_rgb_wo_45.png', 'hr_generic_rgb_wo_60.png', 'hu_generic_rgb_wo_45.png', 'hu_generic_rgb_wo_60.png', 'id-in_generic_rgb_wo_45.png', 'id-in_generic_rgb_wo_60.png', 'it_app_rgb_wo_45.png', 'it_app_rgb_wo_60.png', 'it_generic_rgb_wo_45.png', 'it_generic_rgb_wo_60.png', 'iw-he_generic_rgb_wo_45.png', 'iw-he_generic_rgb_wo_60.png', 'ja_app_rgb_wo_45.png', 'ja_app_rgb_wo_60.png', 'ja_generic_rgb_wo_45.png', 'ja_generic_rgb_wo_60.png', 'ko_app_rgb_wo_45.png', 'ko_app_rgb_wo_60.png', 'ko_generic_rgb_wo_45.png', 'ko_generic_rgb_wo_60.png', 'lt_generic_rgb_wo_45.png', 'lt_generic_rgb_wo_60.png', 'lv_generic_rgb_wo_45.png', 'lv_generic_rgb_wo_60.png', 'mediaplayer.png', 'ms_generic_rgb_wo_45.png', 'ms_generic_rgb_wo_60.png', 'nl_app_rgb_wo_45.png', 'nl_app_rgb_wo_60.png', 'nl_generic_rgb_wo_45.png', 'nl_generic_rgb_wo_60.png', 'no_generic_rgb_wo_45.png', 'no_generic_rgb_wo_60.png', 'pl_generic_rgb_wo_45.png', 'pl_generic_rgb_wo_60.png', 'pt-br_app_rgb_wo_45.png', 'pt-br_app_rgb_wo_60.png', 'pt-br_generic_rgb_wo_45.png', 'pt-br_generic_rgb_wo_60.png', 'pt-pt_app_rgb_wo_45.png', 'pt-pt_app_rgb_wo_60.png', 'pt-pt_generic_rgb_wo_45.png', 'pt-pt_generic_rgb_wo_60.png', 'ro_generic_rgb_wo_45.png', 'ro_generic_rgb_wo_60.png', 'ru_generic_rgb_wo_45.png', 'ru_generic_rgb_wo_60.png', 'sk_generic_rgb_wo_45.png', 'sk_generic_rgb_wo_60.png', 'sl_generic_rgb_wo_45.png', 'sl_generic_rgb_wo_60.png', 'sr_generic_rgb_wo_45.png', 'sr_generic_rgb_wo_60.png', 'sv_generic_rgb_wo_45.png', 'sv_generic_rgb_wo_60.png', 'sw_generic_rgb_wo_45.png', 'sw_generic_rgb_wo_60.png', 'th_generic_rgb_wo_45.png', 'th_generic_rgb_wo_60.png', 'tr_generic_rgb_wo_45.png', 'tr_generic_rgb_wo_60.png', 'uk_generic_rgb_wo_45.png', 'uk_generic_rgb_wo_60.png', 'vi_generic_rgb_wo_45.png', 'vi_generic_rgb_wo_60.png', 'zh-cn_generic_rgb_wo_45.png', 'zh-cn_generic_rgb_wo_60.png', 'zh-hk_generic_rgb_wo_45.png', 'zh-hk_generic_rgb_wo_60.png', 'zh-tw_generic_rgb_wo_45.png', 'zh-tw_generic_rgb_wo_60.png', 'zu_generic_rgb_wo_45.png', 'zu_generic_rgb_wo_60.png']\n",
        "d:\\android\\android-sdk\\docs\\images\\camera2 []\n",
        "d:\\android\\android-sdk\\docs\\images\\camera2\\metadata []\n",
        "d:\\android\\android-sdk\\docs\\images\\camera2\\metadata\\android.colorCorrection.mode ['processing_pipeline.png']\n",
        "d:\\android\\android-sdk\\docs\\images\\camera2\\metadata\\android.statistics.lensShadingMap ['blue_shading.png', 'green_e_shading.png', 'green_o_shading.png', 'inv_shading.png', 'red_shading.png']\n",
        "d:\\android\\android-sdk\\docs\\images\\camera2\\metadata\\android.tonemap.curveRed ['gamma_tonemap.png', 'inverse_tonemap.png', 'linear_tonemap.png', 'srgb_tonemap.png']\n",
        "d:\\android\\android-sdk\\docs\\images\\code_templates ['ba-dropdown.png', 'ba-no-navigation.png', 'ba-tabs.png', 'ba-title-strip.png', 'full-screen-activity.png', 'login-activity.png', 'master-detail-flow.png', 'settings-activity.png']\n",
        "d:\\android\\android-sdk\\docs\\images\\community ['aco1small.png', 'hackathon-gdgaug.jpg', 'kk-hero.jpg', 'kk-hero2.jpg']\n",
        "d:\\android\\android-sdk\\docs\\images\\components ['intent-filters@2x.png']\n",
        "d:\\android\\android-sdk\\docs\\images\\develop ['app_components.png', 'auth-code.png', 'connectivity.png', 'marquee-play.png', 'resources.png']\n",
        "d:\\android\\android-sdk\\docs\\images\\developing"
       ]
      },
      {
       "output_type": "stream",
       "stream": "stdout",
       "text": [
        " ['adt-props-isLib.png', 'adt-props-libRef.png', 'avd-dialog.png', 'ddms-network.png', 'developing_overview.png', 'hv_device_window.png', 'hv_pixelperfect.png', 'hv_treeview_screenshot.png', 'hv_view_hierarchy_window.png', 'intellijidea_android_ide.png', 'lib-migration-0.png', 'lib-migration-1.png', 'lib-migration-2.png', 'sdk-usb-driver.png']\n",
        "d:\\android\\android-sdk\\docs\\images\\distribute ['concrete-pbc-gpgames.jpg', 'console-apps.png', 'console-reports.png', 'console-settings.png', 'feature-market.png', 'feature-monetize.png', 'feature-register.png', 'glu-ew-gpgames.jpg', 'hichat-n5-port.jpg', 'indian-rummy-n4-land.jpg', 'instapaper.png', 'marquee-play.png', 'mint.png', 'rememberthemilk.png', 'tinyvillage.png', 'vector-unit-rt-gpgames.jpg', 'zombie-ragdoll-n5-land.jpg']\n",
        "d:\\android\\android-sdk\\docs\\images\\efficient-downloads ['DDMS.png', 'graphs.png', 'mobile_radio_state_machine.png']\n",
        "d:\\android\\android-sdk\\docs\\images\\exoplayer ['adaptive-streaming.png', 'frameworksamplesource.png', 'object-model.png']\n",
        "d:\\android\\android-sdk\\docs\\images\\fundamentals ['diagram_backstack.png', 'diagram_backstack_singletask_multiactivity.png', 'diagram_multiple_instances.png', 'diagram_multitasking.png', 'fragments.png', 'restore_instance.png', 'service_binding_tree_lifecycle.png']\n",
        "d:\\android\\android-sdk\\docs\\images\\gcm ['CCS-ack.png', 'gcm-api-access.png', 'gcm-api-key.png', 'GCM-arch.png', 'gcm-avd-first-msg.png', 'gcm-avd-home-auto-reg.png', 'gcm-config-server-key.png', 'gcm-create-api-proj.png', 'gcm-demo-homepage-appengine.png', 'gcm-demo-homepage.png', 'gcm-device-reg.png', 'gcm-logo.png', 'gcm-sent-server.png']\n",
        "d:\\android\\android-sdk\\docs\\images\\gltracer"
       ]
      },
      {
       "output_type": "stream",
       "stream": "stdout",
       "text": [
        " ['dialog-trace.png', 'icon-capture.png', 'icon-load-trace.png']\n",
        "d:\\android\\android-sdk\\docs\\images\\google ['analytics.png', 'cloud-platform.png', 'datastore-logo.png', 'game_services.png', 'gcm-cloud.png', 'gcs-small.png', 'gcs.png', 'gms.png', 'google-mobile-ads.png', 'google-services.png', 'GoogleApiClient.png', 'GoogleApiClient@2x.png', 'googlecast.png', 'gps-ads.png', 'gps-drive.png', 'gps-googleplus.png', 'gps-location.png', 'gps-maps.png', 'gps-play_games_logo.png', 'gps-plus-signin-hero.jpg', 'gps-puzzle.png', 'gps-wallet-instant.png', 'gps.png', 'iab-99c.png', 'maps-pin.png', 'maps-v2-trulia-n7.png', 'plus-logo.png', 'plus-one.png', 'wallet.png']\n",
        "d:\\android\\android-sdk\\docs\\images\\home"
       ]
      },
      {
       "output_type": "stream",
       "stream": "stdout",
       "text": [
        " ['android-design.png', 'android-jellybean.png', 'auto-wordmark.png', 'auto.png', 'aw_dac.png', 'design.png', 'design_elements_landing.png', 'developers_live.png', 'google-io.png', 'google-play.png', 'hh-hero.png', 'ics-android.png', 'io-extended-2013.png', 'io-gdl-2013.png', 'io-logo-2013-alt.png', 'io-logo-2013.png', 'io-logo.png', 'io-videos-2013.png', 'kk-hero.jpg', 'kk-hero.png', 'market-intl.png', 'market_icon.png', 'play_logo.png', 'tv-wordmark.png', 'tv.png', 'wear-wordmark.png', 'wear.png']\n",
        "d:\\android\\android-sdk\\docs\\images\\icon_design"
       ]
      },
      {
       "output_type": "stream",
       "stream": "stdout",
       "text": [
        " ['action_bar_examples.png', 'action_bar_holo_dark_style.png', 'action_bar_holo_light_style.png', 'dialog_icon.png', 'dialog_light.png', 'do_dont.png', 'do_dont_menuicons.png', 'do_dont_statusicons.png', 'do_dont_tabicons.png', 'IconGraphic_AccentColor.png', 'IconGraphic_Colors.png', 'IconGraphic_DosDonts.png', 'IconGraphic_Icons.png', 'IconGraphic_Icons_i.png', 'IconGraphic_Materials.png', 'IconGraphic_OpticalSize_l.png', 'IconGraphic_OpticalSize_ldpi.png', 'IconGraphic_OpticalSize_s.png', 'IconGraphic_Shadow_HVGA.png', 'IconGraphic_Shadow_WVGA.png', 'icon_guidelines_logo.png', 'ic_launcher_alarmclock.png', 'ic_launcher_browser.png', 'ic_launcher_calculator.png', 'ic_launcher_calendar.png', 'ic_launcher_camera.png', 'ic_launcher_contacts.png', 'ic_launcher_email.png', 'ic_launcher_email_generic.png', 'ic_launcher_gallery.png', 'ic_launcher_generic_application.png', 'ic_launcher_google_talk.png', 'ic_launcher_IM.png', 'ic_launcher_maps.png', 'ic_launcher_marketplace.png', 'ic_launcher_musicplayer_2.png', 'ic_launcher_phone_dialer.png', 'ic_launcher_settings.png', 'ic_launcher_sms_mms.png', 'ic_launcher_video_camera.png', 'ic_launcher_voicedial.png', 'ic_launcher_voicesearch.png', 'ic_launcher_youtube.png', 'ic_menu_add.png', 'ic_menu_archive.png', 'ic_menu_attachment.png', 'ic_menu_back.png', 'ic_menu_call.png', 'ic_menu_camera.png', 'ic_menu_camera_video_view.png', 'ic_menu_close_clear_cancel.png', 'ic_menu_compass.png', 'ic_menu_delete.png', 'ic_menu_directions.png', 'ic_menu_edit.png', 'ic_menu_favorite.png', 'ic_menu_forward.png', 'ic_menu_gallery.png', 'ic_menu_goto.png', 'ic_menu_help.png', 'ic_menu_home.png', 'ic_menu_info_details.png', 'ic_menu_mapmode.png', 'ic_menu_mark.png', 'ic_menu_more.png', 'ic_menu_mylocation.png', 'ic_menu_play_clip.png', 'ic_menu_preferences.png', 'ic_menu_recent_history.png', 'ic_menu_refresh.png', 'ic_menu_rotate.png', 'ic_menu_save.png', 'ic_menu_search.png', 'ic_menu_send.png', 'ic_menu_share.png', 'ic_menu_shuffle.png', 'ic_menu_upload.png', 'ic_menu_view.png', 'ic_menu_zoom.png', 'launcher_dodont_clock.png', 'launcher_dodont_custom.png', 'launcher_dodont_custom_2.png', 'launcher_dodont_settings.png', 'launcher_examples.png', 'launcher_light.png', 'launcher_palette_black.png', 'launcher_palette_dark.png', 'launcher_palette_gradient_dark.png', 'launcher_palette_gradient_light.png', 'launcher_palette_gradient_medium.png', 'launcher_palette_light.png', 'launcher_palette_medium.png', 'launcher_palette_white.png', 'launcher_size_hdpi.png', 'launcher_size_ldpi.png', 'launcher_size_mdpi.png', 'launcher_structure.png', 'launcher_style.png', 'listview_icon.png', 'listview_icon_details.png', 'menu_light.png', 'menu_palette_black.png', 'menu_palette_fill.png', 'menu_palette_gradient_medium.png', 'menu_palette_white.png', 'menu_size_hdpi.png', 'menu_size_ldpi.png', 'menu_size_mdpi.png', 'menu_standard.png', 'menu_structure.png', 'menu_style.png', 'statusbar_light.png', 'statusbar_palette_black.png', 'statusbar_palette_fill.png', 'statusbar_palette_grey.png', 'statusbar_palette_white.png', 'statusbar_size_hdpi.png', 'statusbar_size_ldpi.png', 'statusbar_size_mdpi.png', 'statusbar_standard.png', 'statusbar_structure.png', 'statusbar_style.png', 'status_bar_honeycomb_dimming.png', 'status_bar_honeycomb_examples.png', 'status_bar_honeycomb_style.png', 'stat_notify_alarm.png', 'stat_notify_calendar.png', 'stat_notify_chat.png', 'stat_notify_disk_full.png', 'stat_notify_email.png', 'stat_notify_email_generic.png', 'stat_notify_missed_call.png', 'stat_notify_musicplayer.png', 'stat_notify_sms.png', 'stat_notify_sync_anim0.png', 'stat_notify_sync_error.png', 'stat_notify_voicemail.png', 'stat_notify_wifi_in_range.png', 'stat_sys_battery_100.png', 'stat_sys_battery_empty.png', 'stat_sys_data_bluetooth.png', 'stat_sys_data_bluetooth_connected.png', 'stat_sys_data_connected_3g.png', 'stat_sys_data_connected_e.png', 'stat_sys_data_connected_g.png', 'stat_sys_data_usb.png', 'stat_sys_gps_on.png', 'stat_sys_install_complete.png', 'stat_sys_phone_call.png', 'stat_sys_phone_call_forward.png', 'stat_sys_phone_call_on_hold.png', 'stat_sys_ringer_silent_old.png', 'stat_sys_ringer_vibrate.png', 'stat_sys_r_signal_4.png', 'stat_sys_signal_4.png', 'stat_sys_signal_flightmode.png', 'stat_sys_signal_null.png', 'stat_sys_speakerphone.png', 'stat_sys_warning.png', 'stat_sys_wifi_signal_4.png', 'stat_sys_wifi_unavailable.png', 'tab_icon_selected.png', 'tab_icon_unselected.png', 'tab_palette_selected_fill.png', 'tab_selected_light.png', 'tab_size_hdpi.png', 'tab_size_ldpi.png', 'tab_size_mdpi.png', 'tab_standard.png', 'tab_style_selected.png', 'tab_style_unselected.png', 'tab_unselected_light.png']\n",
        "d:\\android\\android-sdk\\docs\\images\\in-app-billing ['billing_add.png', 'billing_app_key.png', 'billing_list_form_2.png', 'billing_product_list.png']\n",
        "d:\\android\\android-sdk\\docs\\images\\in-app-billing\\v3 ['billing_subscription_v3.png', 'iab_v3_checkout_flow.png', 'iab_v3_consumption_flow.png', 'iab_v3_flow.png', 'iab_v3_purchase_flow.png']\n",
        "d:\\android\\android-sdk\\docs\\images\\jet ['clip_marker.png', 'event_marker.png', 'jc_audition_wnd.png', 'jc_event_wnd.png', 'jc_main_wnd.png', 'jc_moveseg_wnd.png', 'jc_open_dlg.png', 'jc_repseg_wnd.png', 'jc_rep_wnd.png', 'jc_seg_wnd.png', 'linear_music.png', 'music_game.png', 'nonlinear_music.png', 'sync_muteunmute.png']\n",
        "d:\\android\\android-sdk\\docs\\images\\location"
       ]
      },
      {
       "output_type": "stream",
       "stream": "stdout",
       "text": [
        " ['content-tagging.png', 'getting-location.png', 'where-to-go.png']\n",
        "d:\\android\\android-sdk\\docs\\images\\market ['version-codes.png']\n",
        "d:\\android\\android-sdk\\docs\\images\\mediarouter ['media-route-provider-framework.png', 'mediarouter-actionbar.png', 'mediarouter-framework.png', 'mediarouter-selector-ui.png']\n",
        "d:\\android\\android-sdk\\docs\\images\\menu_design ['ContextMenuDiagram.png', 'ContextMenuViewContactDiagram.png', 'MenuDiagram.png', 'TaskFlowDiagram.png', 'TextFieldContextMenuDiagram.png']\n",
        "d:\\android\\android-sdk\\docs\\images\\nfc ['dual-mode.png', 'dual-mode@2x.png', 'host-based-card.png', 'host-based-card@2x.png', 'protocol-stack.png', 'protocol-stack@2x.png', 'secure-element.png', 'secure-element@2x.png']\n",
        "d:\\android\\android-sdk\\docs\\images\\opengl ['ccw-square.png', 'ccw-winding.png', 'coordinates.png', 'ogl-triangle-projected.png', 'ogl-triangle-touch.png', 'ogl-triangle.png']\n",
        "d:\\android\\android-sdk\\docs\\images\\practices ['actionbar-phone-splitaction.png', 'actionbar-phone-splitaction@2x.png', 'actionbar-phone-tablet.png']\n",
        "d:\\android\\android-sdk\\docs\\images\\preview_hc ['actionbar.png', 'fragments_layout.png']\n",
        "d:\\android\\android-sdk\\docs\\images\\providers"
       ]
      },
      {
       "output_type": "stream",
       "stream": "stdout",
       "text": [
        " ['ContactsDataFlow.png', 'contacts_structure.png', 'contacts_tables.png', 'datamodel.png', 'data_columns.png', 'storage_dataflow.png', 'storage_datamodel.png', 'storage_photos.png', 'storage_picker.png']\n",
        "d:\\android\\android-sdk\\docs\\images\\publishing ['publishing_android_market.png', 'publishing_overview.png', 'publishing_overview_prep.png', 'publishing_preparing.png', 'publishing_unknown_sources_sm.png', 'publishing_via_email.png']\n",
        "d:\\android\\android-sdk\\docs\\images\\resources ['arrow.png', 'clip.png', 'layers.png', 'res-selection-flowchart.png', 'resource_devices_diagram1.png', 'resource_devices_diagram2.png', 'right-arrow.png']\n",
        "d:\\android\\android-sdk\\docs\\images\\screens_support ['avd-density.png', 'avd-start.png', 'avds-config.png', 'compat-mode-on.png', 'compat-stretch-thumb.png', 'compat-stretch.png', 'compat-toggle.png', 'compat-zoom-thumb.png', 'compat-zoom.png', 'density-test-bad.png', 'density-test-good.png', 'dip.png', 'icon-density-example.png', 'scale-test.png', 'screens-densities.png', 'screens-ranges.png']\n",
        "d:\\android\\android-sdk\\docs\\images\\search ['search-suggest-custom.png', 'search-suggest-recent-queries.png', 'search-ui.png']\n",
        "d:\\android\\android-sdk\\docs\\images\\systrace ['display-rhythm.png', 'process-rhythm.png', 'report.png', 'systrace-button.png']\n",
        "d:\\android\\android-sdk\\docs\\images\\testing ['android_test_framework.png', 'eclipse_new_android_project_complete_callouts.png', 'eclipse_new_android_testproject_complete_callouts.png', 'eclipse_test_results.png', 'eclipse_test_run_failure.png', 'hwtest_create_test_class_menu_callouts.png', 'hwtest_junit_success.png', 'hwtest_new_test_class_dialog_complete_callouts.png', 'hwtest_new_test_project_dialog_complete_callouts.png', 'hwtest_new_test_project_menu.png', 'hwtest_runas_menu_callouts.png', 'spinnertest_junit_panel.png', 'spinnertest_junit_panel_failtrace_callouts.png', 'spinnertest_junit_panel_fail_callouts.png', 'spinnertest_junit_success.png', 'spinnertest_new_class_callouts.png', 'spinnertest_runas_menu_callouts.png', 'spinner_create_test_class_callouts.png', 'test_framework.png', 'UIAutomatorViewer.png']\n",
        "d:\\android\\android-sdk\\docs\\images\\tools"
       ]
      },
      {
       "output_type": "stream",
       "stream": "stdout",
       "text": [
        " ['as-allocstart.png', 'as-allocstop.png', 'as-alloctrack.png', 'as-android.png', 'as-breakpointline.png', 'as-breakpointswindow.png', 'as-buildvariants.png', 'as-camera-icon.png', 'as-capture.png', 'as-currentproc.png', 'as-ddmslog.png', 'as-debugbutton.png', 'as-debugdevices.png', 'as-debugview.png', 'as-debugwindowbutton.png', 'as-demoflavordirs.png', 'as-devicecapture.png', 'as-error.png', 'as-evalexpbutton.png', 'as-fr-device.png', 'as-fr-icon.png', 'as-frag-ex.png', 'as-gradlebutton.png', 'as-gradleconsole.png', 'as-gradlepanel.png', 'as-gradlesync.png', 'as-grid-layout.png', 'as-i18n-icon.png', 'as-launchavdm.png', 'as-mainscreen.png', 'as-monitorbutton.png', 'as-preview-chrome.png', 'as-preview-icon.png', 'as-preview-nochrome.png', 'as-record.png', 'as-restart.png', 'as-resumeprogrambutton.png', 'as-showdevview.png', 'as-stepintobutton.png', 'as-stepoutbutton.png', 'as-stepoverbutton.png', 'as-theme-db.png', 'as-theme-icon.png', 'as-variablesview.png', 'as-varviewbutton.png', 'as-viewbreakbutton.png', 'avd-manager-studio.png', 'avd_manager.png', 'clipbounds-normal@2x.png', 'clipbounds@2x.png', 'dev-options-inmilk.png', 'eclipse-new.png', 'eclipse-run.png', 'laptop-studio.png', 'lint.png', 'lint_output.png', 'mat-histogram@2x.png', 'monitor-hprof@2x.png', 'monitor-studio.png', 'monitor-tracker@2x.png', 'monitor-vmheap@2x.png', 'new_adt_project.png', 'ninepatch_opticalbounds@2x.png', 'opticalbounds-normal@2x.png', 'opticalbounds@2x.png', 'project-layout.png', 'projectview01.png', 'projectview03.png', 'sdk-manager-studio.png', 'sdk-manager-support-libs.png', 'sdk_manager.png', 'signadt3.png', 'signadt4.png', 'signadt5.png', 'signstudio1.png', 'signstudio10.png', 'signstudio11.png', 'signstudio2.png', 'signstudio3.png', 'studio_error_eventlog.png', 'sync-project.png', 'wizard2.png', 'wizard3.png', 'wizard4.png', 'wizard5.png', 'wizard6.png', 'wizard7.png']\n",
        "d:\\android\\android-sdk\\docs\\images\\training"
       ]
      },
      {
       "output_type": "stream",
       "stream": "stdout",
       "text": [
        " ['ads-close-to-button.png', 'ads-cover-content.png', 'ads-eclipse-build-path.png', 'ads-top-banner.png', 'app-navigation-ancestral-navigate-back.png', 'app-navigation-ancestral-navigate-up.png', 'app-navigation-descendant-lateral-buttons.png', 'app-navigation-descendant-lateral-children.png', 'app-navigation-descendant-lateral-desc.png', 'app-navigation-descendant-lateral-lists.png', 'app-navigation-descendant-lateral-paging-companion.png', 'app-navigation-descendant-lateral-paging.png', 'app-navigation-descendant-lateral-tabs.png', 'app-navigation-multiple-sizes-multipane-bad.png', 'app-navigation-multiple-sizes-multipane-good.png', 'app-navigation-multiple-sizes-multipane-screen-map.png', 'app-navigation-multiple-sizes-strategy-collapse.png', 'app-navigation-multiple-sizes-strategy-show-hide.png', 'app-navigation-multiple-sizes-strategy-stack.png', 'app-navigation-multiple-sizes-strategy-stretch.png', 'app-navigation-screen-planning-erd.png', 'app-navigation-screen-planning-exhaustive-map.png', 'app-navigation-wireframing-map-example-phone.png', 'app-navigation-wireframing-map-example-tablet-alt.png', 'app-navigation-wireframing-map-example-tablet.png', 'app-navigation-wireframing-wires-phone.png', 'app-navigation-wireframing-wires-tablet.png', 'backward-compatible-inputmanager.png', 'backward-compatible-ui-classes-eclair.png', 'backward-compatible-ui-classes-honeycomb.png', 'backward-compatible-ui-classes.png', 'backward-compatible-ui-gb.png', 'backward-compatible-ui-ics.png', 'basic-SDK-manager.png', 'basic-simple-screen-mock.png', 'button.png', 'buttons_stretched.png', 'button_with_marks.png', 'cool-places.png', 'device-mgmt-activate-device-admin.png', 'game-controller-profiles.png', 'hierarchy-layouttimes.png', 'hierarchy-linearlayout.png', 'hierarchy-relativelayout.png', 'imm-states.png', 'imm-sticky.png', 'implementing-navigation-up.png', 'import-progress.png', 'layout-hvga.png', 'layout-listitem.png', 'lesson2_MyFirstTestActivityTest_result.png', 'lint_icon.png', 'low_profile_hide2x.png', 'low_profile_show2x.png', 'navigation-bar.png', 'notifications-bigview.png', 'notifications-normalview.png', 'oauth_dance.png', 'panoramio-grid.png', 'relativelayout1.png', 'relativelayout2.png', 'status-bar.png', 'status_bar_hide.png', 'status_bar_show.png', 'system-ui.png', 'training-prof.png', 'volley-request.png']\n",
        "d:\\android\\android-sdk\\docs\\images\\training\\basics ['actionbar-actions.png', 'actionbar-basic.png', 'actionbar-overlay@2x.png', 'actionbar-theme-custom-tabs@2x.png', 'actionbar-theme-custom@2x.png', 'actionbar-theme-dark-solid@2x.png', 'actionbar-theme-dark@2x.png', 'actionbar-theme-light-darkactionbar@2x.png', 'actionbar-theme-light-solid@2x.png', 'actionbar-theme-light@2x.png', 'basic-lifecycle-create.png', 'basic-lifecycle-paused.png', 'basic-lifecycle-savestate.png', 'basic-lifecycle-stopped.png', 'basic-lifecycle.png', 'fragments-screen-mock.png', 'intent-chooser.png', 'intents-choice.png', 'network-settings1.png', 'network-settings2.png', 'sdk-manager.png']\n",
        "d:\\android\\android-sdk\\docs\\images\\training\\firstapp ['adt-firstapp-setup.png', 'adt-new-activity.png', 'edittext_gravity.png', 'edittext_wrap.png', 'firstapp.png']\n",
        "d:\\android\\android-sdk\\docs\\images\\training\\input ['ime_autocorrect.png', 'ime_password.png']\n",
        "d:\\android\\android-sdk\\docs\\images\\training\\sharing ['share-text-screenshot.png']\n",
        "d:\\android\\android-sdk\\docs\\images\\ui"
       ]
      },
      {
       "output_type": "stream",
       "stream": "stdout",
       "text": [
        " ['actionbar-actionview.png', 'actionbar-dropdown.png', 'actionbar-dropdown@2x.png', 'actionbar-item-withtext.png', 'actionbar-logo.png', 'actionbar-navigate-back.png', 'actionbar-navigate-up.png', 'actionbar-searchview.png', 'actionbar-searchview@2x.png', 'actionbar-shareaction.png', 'actionbar-shareaction@2x.png', 'actionbar-splitaction.png', 'actionbar-splitaction@2x.png', 'actionbar-tabs-stacked.png', 'actionbar-tabs-stacked@2x.png', 'actionbar-tabs.png', 'actionbar-tabs@2x.png', 'actionbar-up.png', 'actionbar.png', 'actionbar@2x.png', 'button-types.png', 'buttons-holo.png', 'checkboxes.png', 'dialogs.png', 'dialogs_regions.png', 'dialog_buttons.png', 'dialog_checkboxes.png', 'dialog_custom.png', 'dialog_list.png', 'edittext-actionlabel.png', 'edittext-actionsend.png', 'edittext-autocomplete.png', 'edittext-email.png', 'edittext-noextract.png', 'edittext-phone.png', 'edittext-text-next.png', 'edittext-text.png', 'edittext.png', 'gridlayout-small.png', 'gridlayout.png', 'gridview-small.png', 'gridview.png', 'linearlayout-small.png', 'linearlayout.png', 'listview-small.png', 'listview.png', 'menu-context.png', 'pickers.png', 'popupmenu.png', 'radiobuttons.png', 'relativelayout-small.png', 'relativelayout.png', 'sample-linearlayout.png', 'sample-relativelayout.png', 'spinner.png', 'switch.png', 'tabs-small.png', 'tabs.png', 'togglebutton.png', 'ui-controls.png', 'ui_index.png', 'webview-small.png', 'webview.png']\n",
        "d:\\android\\android-sdk\\docs\\images\\ui\\clipboard ['copy_paste_framework.png']\n",
        "d:\\android\\android-sdk\\docs\\images\\ui\\notifications ['activity_indicator.png', 'bigpicture_notification.png', 'bigpicture_notification_callouts.png', 'bigtext_notification.png', 'bigtext_notification_callouts.png', 'custom_message.png', 'iconic_notification.png', 'inbox_notification.png', 'inbox_notification_callouts.png', 'normal_notification.png', 'normal_notification_callouts.png', 'notifications_window.png', 'progress_bar_summary.png', 'progress_indicator_1.png', 'progress_indicator_2.png', 'status_bar.png', 'updated_notification.png']\n",
        "d:\\android\\android-sdk\\docs\\images\\ui\\settings ['settings-headers-handset.png', 'settings-headers-tablet.png', 'settings-subscreen.png', 'settings-titles.png', 'settings.png']\n",
        "d:\\android\\android-sdk\\docs\\images\\webapps"
       ]
      },
      {
       "output_type": "stream",
       "stream": "stdout",
       "text": [
        " ['compare-default.png', 'compare-initialscale-devicedpi.png', 'compare-initialscale.png', 'compare-width-devicedpi-css.png', 'compare-width400.png', 'web-viewport-320@2x.png', 'web-viewport-default@2x.png', 'web-viewport-devicewidth@2x.png', 'webapps.png']\n",
        "d:\\android\\android-sdk\\docs\\images\\widget_design"
       ]
      },
      {
       "output_type": "stream",
       "stream": "stdout",
       "text": [
        " ['music_example.png', 'music_example_layouts.png', 'music_example_redline.png', 'music_example_stretched.png', 'widget_examples.png', 'widget_template_excerpts.png', 'widget_terms.png']\n",
        "d:\\android\\android-sdk\\docs\\out []\n",
        "d:\\android\\android-sdk\\docs\\out\\target []\n",
        "d:\\android\\android-sdk\\docs\\out\\target\\common []\n",
        "d:\\android\\android-sdk\\docs\\out\\target\\common\\docs ['offline-sdk-docs-todo.html']\n",
        "d:\\android\\android-sdk\\docs\\preview"
       ]
      },
      {
       "output_type": "stream",
       "stream": "stdout",
       "text": [
        " ['api-overview.html', 'index.html', 'license.html', 'notifications.html', 'preview_toc.html', 'reference.html', 'samples.html', 'setup-sdk.html', 'support.html']\n",
        "d:\\android\\android-sdk\\docs\\preview\\images"
       ]
      },
      {
       "output_type": "stream",
       "stream": "stdout",
       "text": [
        " ['ActivitySceneTransitionBasic.png', 'ActivitySceneTransitionBasic@2x.png', 'art.png', 'BasicManagedProfile.png', 'BasicManagedProfile@2x.png', 'battery_historian.png', 'battery_historian@2x.png', 'bugs.png', 'hun-example.png', 'hun-example@2x.png', 'JobSchedulerSample.png', 'JobSchedulerSample@2x.png', 'l-dev-prev.png', 'managed_apps_launcher.png', 'managed_apps_launcher@2x.png', 'opt-in.png', 'updates.png']\n"
       ]
      },
      {
       "output_type": "stream",
       "stream": "stdout",
       "text": [
        "d:\\android\\android-sdk\\docs\\preview\\images\\notifications ['action_combo.png', 'AntiSample1.png', 'AntiSample3.png', 'basic_combo.png', 'ExpandedImage.png', 'expandedtext_combo.png', 'Headsup.png', 'Largelogo.png', 'LockScreen.png', 'MusicPlayback.png', 'notifications_pattern_priority.png', 'ProductIcons.png', 'Productlogos.png', 'ReplyAction.png', 'Stack.png', 'stack_combo.png', 'Summarise_Do.png', 'Summarise_Dont.png', 'Summary_Do.png', 'TimeSensitive.png', 'Triggered.png', 'WearBasic.png']\n",
        "d:\\android\\android-sdk\\docs\\preview\\material ['animations.html', 'compatibility.html', 'get-started.html', 'index.html', 'theme.html', 'ui-widgets.html', 'views-shadows.html']\n",
        "d:\\android\\android-sdk\\docs\\preview\\material\\images ['card_travel.png', 'list_mail.png', 'MaterialDark.png', 'MaterialLight.png', 'RecyclerView.png', 'SceneTransition.png', 'ThemeColors.png']\n",
        "d:\\android\\android-sdk\\docs\\preview\\material\\videos ['ContactsAnim.mp4', 'ContactsAnim.ogv', 'ContactsAnim.webm']\n",
        "d:\\android\\android-sdk\\docs\\preview\\tv ['index.html']\n",
        "d:\\android\\android-sdk\\docs\\preview\\tv\\adt-1 ['index.html', 'regulatory.html', 'safety.html']\n",
        "d:\\android\\android-sdk\\docs\\preview\\tv\\images ['android-tv-remote.png', 'home-recommendations.png', 'tif-overview.png']\n",
        "d:\\android\\android-sdk\\docs\\preview\\tv\\publish ['index.html']\n",
        "d:\\android\\android-sdk\\docs\\preview\\tv\\tif ['index.html']\n",
        "d:\\android\\android-sdk\\docs\\preview\\tv\\ui ['index.html']\n",
        "d:\\android\\android-sdk\\docs\\reference"
       ]
      },
      {
       "output_type": "stream",
       "stream": "stdout",
       "text": [
        " ['classes.html', 'gcm-packages.html', 'gcm_lists.js', 'gms-packages.html', 'gms_lists.js', 'hierarchy.html', 'index.html', 'jd_lists.js', 'lists.js', 'package-list', 'packages.html']\n",
        "d:\\android\\android-sdk\\docs\\reference\\android"
       ]
      },
      {
       "output_type": "stream",
       "stream": "stdout",
       "text": [
        " ['Manifest.html', 'Manifest.permission.html', 'Manifest.permission_group.html', 'package-summary.html', 'R.anim.html', 'R.animator.html', 'R.array.html', 'R.attr.html', 'R.bool.html', 'R.color.html', 'R.dimen.html', 'R.drawable.html', 'R.fraction.html', 'R.html', 'R.id.html', 'R.integer.html', 'R.interpolator.html', 'R.layout.html', 'R.menu.html', 'R.mipmap.html', 'R.plurals.html', 'R.raw.html', 'R.string.html', 'R.style.html', 'R.styleable.html', 'R.transition.html', 'R.xml.html']\n",
        "d:\\android\\android-sdk\\docs\\reference\\android\\accessibilityservice ['AccessibilityService.html', 'AccessibilityServiceInfo.html', 'package-summary.html']\n",
        "d:\\android\\android-sdk\\docs\\reference\\android\\accounts ['AbstractAccountAuthenticator.html', 'Account.html', 'AccountAuthenticatorActivity.html', 'AccountAuthenticatorResponse.html', 'AccountManager.html', 'AccountManagerCallback.html', 'AccountManagerFuture.html', 'AccountsException.html', 'AuthenticatorDescription.html', 'AuthenticatorException.html', 'NetworkErrorException.html', 'OnAccountsUpdateListener.html', 'OperationCanceledException.html', 'package-summary.html']\n",
        "d:\\android\\android-sdk\\docs\\reference\\android\\animation"
       ]
      },
      {
       "output_type": "stream",
       "stream": "stdout",
       "text": [
        " ['Animator.AnimatorListener.html', 'Animator.AnimatorPauseListener.html', 'Animator.html', 'AnimatorInflater.html', 'AnimatorListenerAdapter.html', 'AnimatorSet.Builder.html', 'AnimatorSet.html', 'ArgbEvaluator.html', 'BidirectionalTypeConverter.html', 'FloatArrayEvaluator.html', 'FloatEvaluator.html', 'IntArrayEvaluator.html', 'IntEvaluator.html', 'Keyframe.html', 'LayoutTransition.html', 'LayoutTransition.TransitionListener.html', 'ObjectAnimator.html', 'package-summary.html', 'PointFEvaluator.html', 'PropertyValuesHolder.html', 'RectEvaluator.html', 'StateListAnimator.html', 'TimeAnimator.html', 'TimeAnimator.TimeListener.html', 'TimeInterpolator.html', 'TypeConverter.html', 'TypeEvaluator.html', 'ValueAnimator.AnimatorUpdateListener.html', 'ValueAnimator.html']\n",
        "d:\\android\\android-sdk\\docs\\reference\\android\\annotation ['package-summary.html', 'SuppressLint.html', 'TargetApi.html']\n",
        "d:\\android\\android-sdk\\docs\\reference\\android\\app"
       ]
      },
      {
       "output_type": "stream",
       "stream": "stdout",
       "text": [
        " ['ActionBar.html', 'ActionBar.LayoutParams.html', 'ActionBar.OnMenuVisibilityListener.html', 'ActionBar.OnNavigationListener.html', 'ActionBar.Tab.html', 'ActionBar.TabListener.html', 'Activity.html', 'ActivityGroup.html', 'ActivityManager.AppTask.html', 'ActivityManager.html', 'ActivityManager.MemoryInfo.html', 'ActivityManager.ProcessErrorStateInfo.html', 'ActivityManager.RecentTaskInfo.html', 'ActivityManager.RunningAppProcessInfo.html', 'ActivityManager.RunningServiceInfo.html', 'ActivityManager.RunningTaskInfo.html', 'ActivityManager.TaskDescription.html', 'ActivityOptions.html', 'AlarmManager.AlarmClockInfo.html', 'AlarmManager.html', 'AlertDialog.Builder.html', 'AlertDialog.html', 'AliasActivity.html', 'Application.ActivityLifecycleCallbacks.html', 'Application.html', 'Application.OnProvideAssistDataListener.html', 'ApplicationErrorReport.AnrInfo.html', 'ApplicationErrorReport.BatteryInfo.html', 'ApplicationErrorReport.CrashInfo.html', 'ApplicationErrorReport.html', 'ApplicationErrorReport.RunningServiceInfo.html', 'AppOpsManager.html', 'AppOpsManager.OnOpChangedListener.html', 'DatePickerDialog.html', 'DatePickerDialog.OnDateSetListener.html', 'Dialog.html', 'DialogFragment.html', 'DownloadManager.html', 'DownloadManager.Query.html', 'DownloadManager.Request.html', 'ExpandableListActivity.html', 'Fragment.html', 'Fragment.InstantiationException.html', 'Fragment.SavedState.html', 'FragmentBreadCrumbs.html', 'FragmentBreadCrumbs.OnBreadCrumbClickListener.html', 'FragmentManager.BackStackEntry.html', 'FragmentManager.html', 'FragmentManager.OnBackStackChangedListener.html', 'FragmentTransaction.html', 'Instrumentation.ActivityMonitor.html', 'Instrumentation.ActivityResult.html', 'Instrumentation.html', 'IntentService.html', 'KeyguardManager.html', 'KeyguardManager.KeyguardLock.html', 'KeyguardManager.OnKeyguardExitResult.html', 'LauncherActivity.html', 'LauncherActivity.IconResizer.html', 'LauncherActivity.ListItem.html', 'ListActivity.html', 'ListFragment.html', 'LoaderManager.html', 'LoaderManager.LoaderCallbacks.html', 'LocalActivityManager.html', 'MediaRouteActionProvider.html', 'MediaRouteButton.html', 'NativeActivity.html', 'Notification.Action.Builder.html', 'Notification.Action.Extender.html', 'Notification.Action.html', 'Notification.Action.WearableExtender.html', 'Notification.BigPictureStyle.html', 'Notification.BigTextStyle.html', 'Notification.Builder.html', 'Notification.Extender.html', 'Notification.html', 'Notification.InboxStyle.html', 'Notification.MediaStyle.html', 'Notification.Style.html', 'Notification.WearableExtender.html', 'NotificationManager.html', 'package-summary.html', 'PendingIntent.CanceledException.html', 'PendingIntent.html', 'PendingIntent.OnFinished.html', 'Presentation.html', 'ProgressDialog.html', 'RemoteInput.Builder.html', 'RemoteInput.html', 'SearchableInfo.html', 'SearchManager.html', 'SearchManager.OnCancelListener.html', 'SearchManager.OnDismissListener.html', 'Service.html', 'SharedElementCallback.html', 'TabActivity.html', 'TaskStackBuilder.html', 'TimePickerDialog.html', 'TimePickerDialog.OnTimeSetListener.html', 'UiAutomation.AccessibilityEventFilter.html', 'UiAutomation.html', 'UiAutomation.OnAccessibilityEventListener.html', 'UiModeManager.html', 'WallpaperInfo.html', 'WallpaperManager.html']\n",
        "d:\\android\\android-sdk\\docs\\reference\\android\\app\\admin ['DeviceAdminInfo.html', 'DeviceAdminReceiver.html', 'DevicePolicyManager.html', 'package-summary.html']\n",
        "d:\\android\\android-sdk\\docs\\reference\\android\\app\\backup ['BackupAgent.html', 'BackupAgentHelper.html', 'BackupDataInput.html', 'BackupDataInputStream.html', 'BackupDataOutput.html', 'BackupHelper.html', 'BackupManager.html', 'FileBackupHelper.html', 'FullBackupDataOutput.html', 'package-summary.html', 'RestoreObserver.html', 'SharedPreferencesBackupHelper.html']\n",
        "d:\\android\\android-sdk\\docs\\reference\\android\\app\\job ['JobInfo.Builder.html', 'JobInfo.html', 'JobParameters.html', 'JobScheduler.html', 'JobService.html', 'package-summary.html']\n",
        "d:\\android\\android-sdk\\docs\\reference\\android\\app\\usage ['ConfigurationStats.html', 'package-summary.html', 'UsageEvents.Event.html', 'UsageEvents.html', 'UsageStats.html', 'UsageStatsManager.html']\n",
        "d:\\android\\android-sdk\\docs\\reference\\android\\appwidget ['AppWidgetHost.html', 'AppWidgetHostView.html', 'AppWidgetManager.html', 'AppWidgetProvider.html', 'AppWidgetProviderInfo.html', 'package-summary.html']\n",
        "d:\\android\\android-sdk\\docs\\reference\\android\\bluetooth ['BluetoothA2dp.html', 'BluetoothAdapter.html', 'BluetoothAdapter.LeScanCallback.html', 'BluetoothAssignedNumbers.html', 'BluetoothClass.Device.html', 'BluetoothClass.Device.Major.html', 'BluetoothClass.html', 'BluetoothClass.Service.html', 'BluetoothDevice.html', 'BluetoothGatt.html', 'BluetoothGattCallback.html', 'BluetoothGattCharacteristic.html', 'BluetoothGattDescriptor.html', 'BluetoothGattServer.html', 'BluetoothGattServerCallback.html', 'BluetoothGattService.html', 'BluetoothHeadset.html', 'BluetoothHealth.html', 'BluetoothHealthAppConfiguration.html', 'BluetoothHealthCallback.html', 'BluetoothManager.html', 'BluetoothProfile.html', 'BluetoothProfile.ServiceListener.html', 'BluetoothServerSocket.html', 'BluetoothSocket.html', 'package-summary.html']\n",
        "d:\\android\\android-sdk\\docs\\reference\\android\\bluetooth\\le ['AdvertiseCallback.html', 'AdvertiseData.Builder.html', 'AdvertiseData.html', 'AdvertiseSettings.Builder.html', 'AdvertiseSettings.html', 'BluetoothLeAdvertiser.html', 'BluetoothLeScanner.html', 'package-summary.html', 'ScanCallback.html', 'ScanFilter.Builder.html', 'ScanFilter.html', 'ScanRecord.html', 'ScanResult.html', 'ScanSettings.Builder.html', 'ScanSettings.html']\n",
        "d:\\android\\android-sdk\\docs\\reference\\android\\content"
       ]
      },
      {
       "output_type": "stream",
       "stream": "stdout",
       "text": [
        " ['AbstractThreadedSyncAdapter.html', 'ActivityNotFoundException.html', 'AsyncQueryHandler.html', 'AsyncQueryHandler.WorkerArgs.html', 'AsyncQueryHandler.WorkerHandler.html', 'AsyncTaskLoader.html', 'BroadcastReceiver.html', 'BroadcastReceiver.PendingResult.html', 'ClipboardManager.html', 'ClipboardManager.OnPrimaryClipChangedListener.html', 'ClipData.html', 'ClipData.Item.html', 'ClipDescription.html', 'ComponentCallbacks.html', 'ComponentCallbacks2.html', 'ComponentName.html', 'ContentProvider.html', 'ContentProvider.PipeDataWriter.html', 'ContentProviderClient.html', 'ContentProviderOperation.Builder.html', 'ContentProviderOperation.html', 'ContentProviderResult.html', 'ContentQueryMap.html', 'ContentResolver.html', 'ContentUris.html', 'ContentValues.html', 'Context.html', 'ContextWrapper.html', 'CursorLoader.html', 'DialogInterface.html', 'DialogInterface.OnCancelListener.html', 'DialogInterface.OnClickListener.html', 'DialogInterface.OnDismissListener.html', 'DialogInterface.OnKeyListener.html', 'DialogInterface.OnMultiChoiceClickListener.html', 'DialogInterface.OnShowListener.html', 'Entity.html', 'Entity.NamedContentValues.html', 'EntityIterator.html', 'Intent.FilterComparison.html', 'Intent.html', 'Intent.ShortcutIconResource.html', 'IntentFilter.AuthorityEntry.html', 'IntentFilter.html', 'IntentFilter.MalformedMimeTypeException.html', 'IntentSender.html', 'IntentSender.OnFinished.html', 'IntentSender.SendIntentException.html', 'Loader.ForceLoadContentObserver.html', 'Loader.html', 'Loader.OnLoadCanceledListener.html', 'Loader.OnLoadCompleteListener.html', 'MutableContextWrapper.html', 'OperationApplicationException.html', 'package-summary.html', 'PeriodicSync.html', 'ReceiverCallNotAllowedException.html', 'RestrictionEntry.html', 'RestrictionsManager.html', 'SearchRecentSuggestionsProvider.html', 'ServiceConnection.html', 'SharedPreferences.Editor.html', 'SharedPreferences.html', 'SharedPreferences.OnSharedPreferenceChangeListener.html', 'SyncAdapterType.html', 'SyncContext.html', 'SyncInfo.html', 'SyncRequest.Builder.html', 'SyncRequest.html', 'SyncResult.html', 'SyncStats.html', 'SyncStatusObserver.html', 'UriMatcher.html', 'UriPermission.html']\n",
        "d:\\android\\android-sdk\\docs\\reference\\android\\content\\pm ['ActivityInfo.html', 'ApplicationInfo.DisplayNameComparator.html', 'ApplicationInfo.html', 'ComponentInfo.html', 'ConfigurationInfo.html', 'FeatureGroupInfo.html', 'FeatureInfo.html', 'InstrumentationInfo.html', 'LabeledIntent.html', 'LauncherActivityInfo.html', 'LauncherApps.Callback.html', 'LauncherApps.html', 'package-summary.html', 'PackageInfo.html', 'PackageInstaller.html', 'PackageInstaller.Session.html', 'PackageInstaller.SessionCallback.html', 'PackageInstaller.SessionInfo.html', 'PackageInstaller.SessionParams.html', 'PackageItemInfo.DisplayNameComparator.html', 'PackageItemInfo.html', 'PackageManager.html', 'PackageManager.NameNotFoundException.html', 'PackageStats.html', 'PathPermission.html', 'PermissionGroupInfo.html', 'PermissionInfo.html', 'ProviderInfo.html', 'ResolveInfo.DisplayNameComparator.html', 'ResolveInfo.html', 'ServiceInfo.html', 'Signature.html']\n",
        "d:\\android\\android-sdk\\docs\\reference\\android\\content\\res"
       ]
      },
      {
       "output_type": "stream",
       "stream": "stdout",
       "text": [
        " ['AssetFileDescriptor.AutoCloseInputStream.html', 'AssetFileDescriptor.AutoCloseOutputStream.html', 'AssetFileDescriptor.html', 'AssetManager.AssetInputStream.html', 'AssetManager.html', 'ColorStateList.html', 'Configuration.html', 'ObbInfo.html', 'ObbScanner.html', 'package-summary.html', 'Resources.html', 'Resources.NotFoundException.html', 'Resources.Theme.html', 'TypedArray.html', 'XmlResourceParser.html']\n",
        "d:\\android\\android-sdk\\docs\\reference\\android\\database ['AbstractCursor.html', 'AbstractCursor.SelfContentObserver.html', 'AbstractWindowedCursor.html', 'CharArrayBuffer.html', 'ContentObservable.html', 'ContentObserver.html', 'CrossProcessCursor.html', 'CrossProcessCursorWrapper.html', 'Cursor.html', 'CursorIndexOutOfBoundsException.html', 'CursorJoiner.html', 'CursorJoiner.Result.html', 'CursorWindow.html', 'CursorWrapper.html', 'DatabaseErrorHandler.html', 'DatabaseUtils.html', 'DatabaseUtils.InsertHelper.html', 'DataSetObservable.html', 'DataSetObserver.html', 'DefaultDatabaseErrorHandler.html', 'MatrixCursor.html', 'MatrixCursor.RowBuilder.html', 'MergeCursor.html', 'Observable.html', 'package-summary.html', 'SQLException.html', 'StaleDataException.html']\n",
        "d:\\android\\android-sdk\\docs\\reference\\android\\database\\sqlite ['package-summary.html', 'SQLiteAbortException.html', 'SQLiteAccessPermException.html', 'SQLiteBindOrColumnIndexOutOfRangeException.html', 'SQLiteBlobTooBigException.html', 'SQLiteCantOpenDatabaseException.html', 'SQLiteClosable.html', 'SQLiteConstraintException.html', 'SQLiteCursor.html', 'SQLiteCursorDriver.html', 'SQLiteDatabase.CursorFactory.html', 'SQLiteDatabase.html', 'SQLiteDatabaseCorruptException.html', 'SQLiteDatabaseLockedException.html', 'SQLiteDatatypeMismatchException.html', 'SQLiteDiskIOException.html', 'SQLiteDoneException.html', 'SQLiteException.html', 'SQLiteFullException.html', 'SQLiteMisuseException.html', 'SQLiteOpenHelper.html', 'SQLiteOutOfMemoryException.html', 'SQLiteProgram.html', 'SQLiteQuery.html', 'SQLiteQueryBuilder.html', 'SQLiteReadOnlyDatabaseException.html', 'SQLiteStatement.html', 'SQLiteTableLockedException.html', 'SQLiteTransactionListener.html']\n",
        "d:\\android\\android-sdk\\docs\\reference\\android\\drm"
       ]
      },
      {
       "output_type": "stream",
       "stream": "stdout",
       "text": [
        " ['DrmConvertedStatus.html', 'DrmErrorEvent.html', 'DrmEvent.html', 'DrmInfo.html', 'DrmInfoEvent.html', 'DrmInfoRequest.html', 'DrmInfoStatus.html', 'DrmManagerClient.html', 'DrmManagerClient.OnErrorListener.html', 'DrmManagerClient.OnEventListener.html', 'DrmManagerClient.OnInfoListener.html', 'DrmRights.html', 'DrmStore.Action.html', 'DrmStore.ConstraintsColumns.html', 'DrmStore.DrmObjectType.html', 'DrmStore.html', 'DrmStore.Playback.html', 'DrmStore.RightsStatus.html', 'DrmSupportInfo.html', 'DrmUtils.ExtendedMetadataParser.html', 'DrmUtils.html', 'package-summary.html', 'ProcessedData.html']\n",
        "d:\\android\\android-sdk\\docs\\reference\\android\\gesture ['Gesture.html', 'GestureLibraries.html', 'GestureLibrary.html', 'GestureOverlayView.html', 'GestureOverlayView.OnGestureListener.html', 'GestureOverlayView.OnGesturePerformedListener.html', 'GestureOverlayView.OnGesturingListener.html', 'GesturePoint.html', 'GestureStore.html', 'GestureStroke.html', 'GestureUtils.html', 'OrientedBoundingBox.html', 'package-summary.html', 'Prediction.html']\n",
        "d:\\android\\android-sdk\\docs\\reference\\android\\graphics"
       ]
      },
      {
       "output_type": "stream",
       "stream": "stdout",
       "text": [
        " ['AvoidXfermode.html', 'AvoidXfermode.Mode.html', 'Bitmap.CompressFormat.html', 'Bitmap.Config.html', 'Bitmap.html', 'BitmapFactory.html', 'BitmapFactory.Options.html', 'BitmapRegionDecoder.html', 'BitmapShader.html', 'BlurMaskFilter.Blur.html', 'BlurMaskFilter.html', 'Camera.html', 'Canvas.EdgeType.html', 'Canvas.html', 'Canvas.VertexMode.html', 'Color.html', 'ColorFilter.html', 'ColorMatrix.html', 'ColorMatrixColorFilter.html', 'ComposePathEffect.html', 'ComposeShader.html', 'CornerPathEffect.html', 'DashPathEffect.html', 'DiscretePathEffect.html', 'DrawFilter.html', 'EmbossMaskFilter.html', 'ImageFormat.html', 'Interpolator.html', 'Interpolator.Result.html', 'LayerRasterizer.html', 'LightingColorFilter.html', 'LinearGradient.html', 'MaskFilter.html', 'Matrix.html', 'Matrix.ScaleToFit.html', 'Movie.html', 'NinePatch.html', 'Outline.html', 'package-summary.html', 'Paint.Align.html', 'Paint.Cap.html', 'Paint.FontMetrics.html', 'Paint.FontMetricsInt.html', 'Paint.html', 'Paint.Join.html', 'Paint.Style.html', 'PaintFlagsDrawFilter.html', 'Path.Direction.html', 'Path.FillType.html', 'Path.html', 'Path.Op.html', 'PathDashPathEffect.html', 'PathDashPathEffect.Style.html', 'PathEffect.html', 'PathMeasure.html', 'Picture.html', 'PixelFormat.html', 'PixelXorXfermode.html', 'Point.html', 'PointF.html', 'PorterDuff.html', 'PorterDuff.Mode.html', 'PorterDuffColorFilter.html', 'PorterDuffXfermode.html', 'RadialGradient.html', 'Rasterizer.html', 'Rect.html', 'RectF.html', 'Region.html', 'Region.Op.html', 'RegionIterator.html', 'Shader.html', 'Shader.TileMode.html', 'SumPathEffect.html', 'SurfaceTexture.html', 'SurfaceTexture.OnFrameAvailableListener.html', 'SurfaceTexture.OutOfResourcesException.html', 'SweepGradient.html', 'Typeface.html', 'Xfermode.html', 'YuvImage.html']\n",
        "d:\\android\\android-sdk\\docs\\reference\\android\\graphics\\drawable ['Animatable.html', 'AnimatedStateListDrawable.html', 'AnimatedVectorDrawable.html', 'AnimationDrawable.html', 'BitmapDrawable.html', 'ClipDrawable.html', 'ColorDrawable.html', 'Drawable.Callback.html', 'Drawable.ConstantState.html', 'Drawable.html', 'DrawableContainer.DrawableContainerState.html', 'DrawableContainer.html', 'GradientDrawable.html', 'GradientDrawable.Orientation.html', 'InsetDrawable.html', 'LayerDrawable.html', 'LevelListDrawable.html', 'NinePatchDrawable.html', 'package-summary.html', 'PaintDrawable.html', 'PictureDrawable.html', 'RippleDrawable.html', 'RotateDrawable.html', 'ScaleDrawable.html', 'ShapeDrawable.html', 'ShapeDrawable.ShaderFactory.html', 'StateListDrawable.html', 'TransitionDrawable.html', 'VectorDrawable.html']\n",
        "d:\\android\\android-sdk\\docs\\reference\\android\\graphics\\drawable\\shapes ['ArcShape.html', 'OvalShape.html', 'package-summary.html', 'PathShape.html', 'RectShape.html', 'RoundRectShape.html', 'Shape.html']\n",
        "d:\\android\\android-sdk\\docs\\reference\\android\\graphics\\pdf ['package-summary.html', 'PdfDocument.html', 'PdfDocument.Page.html', 'PdfDocument.PageInfo.Builder.html', 'PdfDocument.PageInfo.html', 'PdfRenderer.html', 'PdfRenderer.Page.html']\n",
        "d:\\android\\android-sdk\\docs\\reference\\android\\hardware ['Camera.Area.html', 'Camera.AutoFocusCallback.html', 'Camera.AutoFocusMoveCallback.html', 'Camera.CameraInfo.html', 'Camera.ErrorCallback.html', 'Camera.Face.html', 'Camera.FaceDetectionListener.html', 'Camera.html', 'Camera.OnZoomChangeListener.html', 'Camera.Parameters.html', 'Camera.PictureCallback.html', 'Camera.PreviewCallback.html', 'Camera.ShutterCallback.html', 'Camera.Size.html', 'ConsumerIrManager.CarrierFrequencyRange.html', 'ConsumerIrManager.html', 'GeomagneticField.html', 'package-summary.html', 'Sensor.html', 'SensorEvent.html', 'SensorEventListener.html', 'SensorEventListener2.html', 'SensorListener.html', 'SensorManager.html', 'TriggerEvent.html', 'TriggerEventListener.html']\n",
        "d:\\android\\android-sdk\\docs\\reference\\android\\hardware\\camera2 ['CameraAccessException.html', 'CameraCaptureSession.CaptureCallback.html', 'CameraCaptureSession.html', 'CameraCaptureSession.StateCallback.html', 'CameraCharacteristics.html', 'CameraCharacteristics.Key.html', 'CameraDevice.html', 'CameraDevice.StateCallback.html', 'CameraManager.AvailabilityCallback.html', 'CameraManager.html', 'CameraMetadata.html', 'CaptureFailure.html', 'CaptureRequest.Builder.html', 'CaptureRequest.html', 'CaptureRequest.Key.html', 'CaptureResult.html', 'CaptureResult.Key.html', 'DngCreator.html', 'package-summary.html', 'TotalCaptureResult.html']\n",
        "d:\\android\\android-sdk\\docs\\reference\\android\\hardware\\camera2\\params ['BlackLevelPattern.html', 'ColorSpaceTransform.html', 'Face.html', 'LensShadingMap.html', 'MeteringRectangle.html', 'package-summary.html', 'RggbChannelVector.html', 'StreamConfigurationMap.html', 'TonemapCurve.html']\n",
        "d:\\android\\android-sdk\\docs\\reference\\android\\hardware\\display ['DisplayManager.DisplayListener.html', 'DisplayManager.html', 'package-summary.html', 'VirtualDisplay.Callback.html', 'VirtualDisplay.html']\n",
        "d:\\android\\android-sdk\\docs\\reference\\android\\hardware\\input"
       ]
      },
      {
       "output_type": "stream",
       "stream": "stdout",
       "text": [
        " ['InputManager.html', 'InputManager.InputDeviceListener.html', 'package-summary.html']\n",
        "d:\\android\\android-sdk\\docs\\reference\\android\\hardware\\usb ['package-summary.html', 'UsbAccessory.html', 'UsbConfiguration.html', 'UsbConstants.html', 'UsbDevice.html', 'UsbDeviceConnection.html', 'UsbEndpoint.html', 'UsbInterface.html', 'UsbManager.html', 'UsbRequest.html']\n",
        "d:\\android\\android-sdk\\docs\\reference\\android\\inputmethodservice ['AbstractInputMethodService.AbstractInputMethodImpl.html', 'AbstractInputMethodService.AbstractInputMethodSessionImpl.html', 'AbstractInputMethodService.html', 'ExtractEditText.html', 'InputMethodService.html', 'InputMethodService.InputMethodImpl.html', 'InputMethodService.InputMethodSessionImpl.html', 'InputMethodService.Insets.html', 'Keyboard.html', 'Keyboard.Key.html', 'Keyboard.Row.html', 'KeyboardView.html', 'KeyboardView.OnKeyboardActionListener.html', 'package-summary.html']\n",
        "d:\\android\\android-sdk\\docs\\reference\\android\\location ['Address.html', 'Criteria.html', 'Geocoder.html', 'GpsSatellite.html', 'GpsStatus.html', 'GpsStatus.Listener.html', 'GpsStatus.NmeaListener.html', 'Location.html', 'LocationListener.html', 'LocationManager.html', 'LocationProvider.html', 'package-summary.html', 'SettingInjectorService.html']\n",
        "d:\\android\\android-sdk\\docs\\reference\\android\\media"
       ]
      },
      {
       "output_type": "stream",
       "stream": "stdout",
       "text": [
        " ['AsyncPlayer.html', 'AudioAttributes.Builder.html', 'AudioAttributes.html', 'AudioFormat.Builder.html', 'AudioFormat.html', 'AudioManager.html', 'AudioManager.OnAudioFocusChangeListener.html', 'AudioRecord.html', 'AudioRecord.OnRecordPositionUpdateListener.html', 'AudioTimestamp.html', 'AudioTrack.html', 'AudioTrack.OnPlaybackPositionUpdateListener.html', 'CamcorderProfile.html', 'CameraProfile.html', 'DeniedByServerException.html', 'ExifInterface.html', 'FaceDetector.Face.html', 'FaceDetector.html', 'Image.html', 'Image.Plane.html', 'ImageReader.html', 'ImageReader.OnImageAvailableListener.html', 'JetPlayer.html', 'JetPlayer.OnJetEventListener.html', 'MediaActionSound.html', 'MediaCodec.BufferInfo.html', 'MediaCodec.Callback.html', 'MediaCodec.CodecException.html', 'MediaCodec.CryptoException.html', 'MediaCodec.CryptoInfo.html', 'MediaCodec.html', 'MediaCodecInfo.AudioCapabilities.html', 'MediaCodecInfo.CodecCapabilities.html', 'MediaCodecInfo.CodecProfileLevel.html', 'MediaCodecInfo.EncoderCapabilities.html', 'MediaCodecInfo.html', 'MediaCodecInfo.VideoCapabilities.html', 'MediaCodecList.html', 'MediaCrypto.html', 'MediaCryptoException.html', 'MediaDescription.Builder.html', 'MediaDescription.html', 'MediaDrm.CryptoSession.html', 'MediaDrm.html', 'MediaDrm.KeyRequest.html', 'MediaDrm.MediaDrmStateException.html', 'MediaDrm.OnEventListener.html', 'MediaDrm.ProvisionRequest.html', 'MediaDrmException.html', 'MediaExtractor.html', 'MediaFormat.html', 'MediaMetadata.Builder.html', 'MediaMetadata.html', 'MediaMetadataEditor.html', 'MediaMetadataRetriever.html', 'MediaMuxer.html', 'MediaMuxer.OutputFormat.html', 'MediaPlayer.html', 'MediaPlayer.OnBufferingUpdateListener.html', 'MediaPlayer.OnCompletionListener.html', 'MediaPlayer.OnErrorListener.html', 'MediaPlayer.OnInfoListener.html', 'MediaPlayer.OnPreparedListener.html', 'MediaPlayer.OnSeekCompleteListener.html', 'MediaPlayer.OnTimedTextListener.html', 'MediaPlayer.OnVideoSizeChangedListener.html', 'MediaPlayer.TrackInfo.html', 'MediaRecorder.AudioEncoder.html', 'MediaRecorder.AudioSource.html', 'MediaRecorder.html', 'MediaRecorder.OnErrorListener.html', 'MediaRecorder.OnInfoListener.html', 'MediaRecorder.OutputFormat.html', 'MediaRecorder.VideoEncoder.html', 'MediaRecorder.VideoSource.html', 'MediaRouter.Callback.html', 'MediaRouter.html', 'MediaRouter.RouteCategory.html', 'MediaRouter.RouteGroup.html', 'MediaRouter.RouteInfo.html', 'MediaRouter.SimpleCallback.html', 'MediaRouter.UserRouteInfo.html', 'MediaRouter.VolumeCallback.html', 'MediaScannerConnection.html', 'MediaScannerConnection.MediaScannerConnectionClient.html', 'MediaScannerConnection.OnScanCompletedListener.html', 'MediaSyncEvent.html', 'NotProvisionedException.html', 'package-summary.html', 'Rating.html', 'RemoteControlClient.html', 'RemoteControlClient.MetadataEditor.html', 'RemoteControlClient.OnGetPlaybackPositionListener.html', 'RemoteControlClient.OnMetadataUpdateListener.html', 'RemoteControlClient.OnPlaybackPositionUpdateListener.html', 'RemoteController.html', 'RemoteController.MetadataEditor.html', 'RemoteController.OnClientUpdateListener.html', 'ResourceBusyException.html', 'Ringtone.html', 'RingtoneManager.html', 'SoundPool.Builder.html', 'SoundPool.html', 'SoundPool.OnLoadCompleteListener.html', 'ThumbnailUtils.html', 'TimedText.html', 'ToneGenerator.html', 'UnsupportedSchemeException.html', 'VolumeProvider.html']\n",
        "d:\\android\\android-sdk\\docs\\reference\\android\\media\\audiofx ['AcousticEchoCanceler.html', 'AudioEffect.Descriptor.html', 'AudioEffect.html', 'AudioEffect.OnControlStatusChangeListener.html', 'AudioEffect.OnEnableStatusChangeListener.html', 'AutomaticGainControl.html', 'BassBoost.html', 'BassBoost.OnParameterChangeListener.html', 'BassBoost.Settings.html', 'EnvironmentalReverb.html', 'EnvironmentalReverb.OnParameterChangeListener.html', 'EnvironmentalReverb.Settings.html', 'Equalizer.html', 'Equalizer.OnParameterChangeListener.html', 'Equalizer.Settings.html', 'LoudnessEnhancer.html', 'NoiseSuppressor.html', 'package-summary.html', 'PresetReverb.html', 'PresetReverb.OnParameterChangeListener.html', 'PresetReverb.Settings.html', 'Virtualizer.html', 'Virtualizer.OnParameterChangeListener.html', 'Virtualizer.Settings.html', 'Visualizer.html', 'Visualizer.MeasurementPeakRms.html', 'Visualizer.OnDataCaptureListener.html']\n",
        "d:\\android\\android-sdk\\docs\\reference\\android\\media\\browse ['MediaBrowser.ConnectionCallback.html', 'MediaBrowser.html', 'MediaBrowser.MediaItem.html', 'MediaBrowser.SubscriptionCallback.html', 'package-summary.html']\n",
        "d:\\android\\android-sdk\\docs\\reference\\android\\media\\effect ['Effect.html', 'EffectContext.html', 'EffectFactory.html', 'EffectUpdateListener.html', 'package-summary.html']\n",
        "d:\\android\\android-sdk\\docs\\reference\\android\\media\\projection ['MediaProjection.Callback.html', 'MediaProjection.html', 'MediaProjectionManager.html', 'package-summary.html']\n",
        "d:\\android\\android-sdk\\docs\\reference\\android\\media\\session ['MediaController.Callback.html', 'MediaController.html', 'MediaController.PlaybackInfo.html', 'MediaController.TransportControls.html', 'MediaSession.Callback.html', 'MediaSession.html', 'MediaSession.QueueItem.html', 'MediaSession.Token.html', 'MediaSessionManager.html', 'MediaSessionManager.OnActiveSessionsChangedListener.html', 'package-summary.html', 'PlaybackState.Builder.html', 'PlaybackState.CustomAction.Builder.html', 'PlaybackState.CustomAction.html', 'PlaybackState.html']\n",
        "d:\\android\\android-sdk\\docs\\reference\\android\\media\\tv"
       ]
      },
      {
       "output_type": "stream",
       "stream": "stdout",
       "text": [
        " ['package-summary.html', 'TvContentRating.html', 'TvContract.BaseTvColumns.html', 'TvContract.Channels.html', 'TvContract.Channels.Logo.html', 'TvContract.html', 'TvContract.Programs.Genres.html', 'TvContract.Programs.html', 'TvInputInfo.html', 'TvInputManager.html', 'TvInputManager.TvInputCallback.html', 'TvInputService.HardwareSession.html', 'TvInputService.html', 'TvInputService.Session.html', 'TvTrackInfo.Builder.html', 'TvTrackInfo.html', 'TvView.html', 'TvView.OnUnhandledInputEventListener.html', 'TvView.TvInputCallback.html']\n",
        "d:\\android\\android-sdk\\docs\\reference\\android\\mtp ['MtpConstants.html', 'MtpDevice.html', 'MtpDeviceInfo.html', 'MtpObjectInfo.html', 'MtpStorageInfo.html', 'package-summary.html']\n",
        "d:\\android\\android-sdk\\docs\\reference\\android\\net"
       ]
      },
      {
       "output_type": "stream",
       "stream": "stdout",
       "text": [
        " ['ConnectivityManager.html', 'ConnectivityManager.NetworkCallback.html', 'ConnectivityManager.OnNetworkActiveListener.html', 'Credentials.html', 'DhcpInfo.html', 'IpPrefix.html', 'LinkAddress.html', 'LinkProperties.html', 'LocalServerSocket.html', 'LocalSocket.html', 'LocalSocketAddress.html', 'LocalSocketAddress.Namespace.html', 'MailTo.html', 'Network.html', 'NetworkCapabilities.html', 'NetworkInfo.DetailedState.html', 'NetworkInfo.html', 'NetworkInfo.State.html', 'NetworkRequest.Builder.html', 'NetworkRequest.html', 'package-summary.html', 'ParseException.html', 'Proxy.html', 'ProxyInfo.html', 'PskKeyManager.html', 'RouteInfo.html', 'SSLCertificateSocketFactory.html', 'SSLSessionCache.html', 'TrafficStats.html', 'Uri.Builder.html', 'Uri.html', 'UrlQuerySanitizer.html', 'UrlQuerySanitizer.IllegalCharacterValueSanitizer.html', 'UrlQuerySanitizer.ParameterValuePair.html', 'UrlQuerySanitizer.ValueSanitizer.html', 'VpnService.Builder.html', 'VpnService.html']\n",
        "d:\\android\\android-sdk\\docs\\reference\\android\\net\\http ['AndroidHttpClient.html', 'HttpResponseCache.html', 'package-summary.html', 'SslCertificate.DName.html', 'SslCertificate.html', 'SslError.html', 'X509TrustManagerExtensions.html']\n",
        "d:\\android\\android-sdk\\docs\\reference\\android\\net\\nsd ['NsdManager.DiscoveryListener.html', 'NsdManager.html', 'NsdManager.RegistrationListener.html', 'NsdManager.ResolveListener.html', 'NsdServiceInfo.html', 'package-summary.html']\n",
        "d:\\android\\android-sdk\\docs\\reference\\android\\net\\rtp ['AudioCodec.html', 'AudioGroup.html', 'AudioStream.html', 'package-summary.html', 'RtpStream.html']\n",
        "d:\\android\\android-sdk\\docs\\reference\\android\\net\\sip ['package-summary.html', 'SipAudioCall.html', 'SipAudioCall.Listener.html', 'SipErrorCode.html', 'SipException.html', 'SipManager.html', 'SipProfile.Builder.html', 'SipProfile.html', 'SipRegistrationListener.html', 'SipSession.html', 'SipSession.Listener.html', 'SipSession.State.html']\n",
        "d:\\android\\android-sdk\\docs\\reference\\android\\net\\wifi ['package-summary.html', 'ScanResult.html', 'SupplicantState.html', 'WifiConfiguration.AuthAlgorithm.html', 'WifiConfiguration.GroupCipher.html', 'WifiConfiguration.html', 'WifiConfiguration.KeyMgmt.html', 'WifiConfiguration.PairwiseCipher.html', 'WifiConfiguration.Protocol.html', 'WifiConfiguration.Status.html', 'WifiEnterpriseConfig.Eap.html', 'WifiEnterpriseConfig.html', 'WifiEnterpriseConfig.Phase2.html', 'WifiInfo.html', 'WifiManager.html', 'WifiManager.MulticastLock.html', 'WifiManager.WifiLock.html', 'WifiManager.WpsCallback.html', 'WpsInfo.html']\n",
        "d:\\android\\android-sdk\\docs\\reference\\android\\net\\wifi\\p2p ['package-summary.html', 'WifiP2pConfig.html', 'WifiP2pDevice.html', 'WifiP2pDeviceList.html', 'WifiP2pGroup.html', 'WifiP2pInfo.html', 'WifiP2pManager.ActionListener.html', 'WifiP2pManager.Channel.html', 'WifiP2pManager.ChannelListener.html', 'WifiP2pManager.ConnectionInfoListener.html', 'WifiP2pManager.DnsSdServiceResponseListener.html', 'WifiP2pManager.DnsSdTxtRecordListener.html', 'WifiP2pManager.GroupInfoListener.html', 'WifiP2pManager.html', 'WifiP2pManager.PeerListListener.html', 'WifiP2pManager.ServiceResponseListener.html', 'WifiP2pManager.UpnpServiceResponseListener.html']\n",
        "d:\\android\\android-sdk\\docs\\reference\\android\\net\\wifi\\p2p\\nsd"
       ]
      },
      {
       "output_type": "stream",
       "stream": "stdout",
       "text": [
        " ['package-summary.html', 'WifiP2pDnsSdServiceInfo.html', 'WifiP2pDnsSdServiceRequest.html', 'WifiP2pServiceInfo.html', 'WifiP2pServiceRequest.html', 'WifiP2pUpnpServiceInfo.html', 'WifiP2pUpnpServiceRequest.html']\n",
        "d:\\android\\android-sdk\\docs\\reference\\android\\nfc ['FormatException.html', 'NdefMessage.html', 'NdefRecord.html', 'NfcAdapter.CreateBeamUrisCallback.html', 'NfcAdapter.CreateNdefMessageCallback.html', 'NfcAdapter.html', 'NfcAdapter.OnNdefPushCompleteCallback.html', 'NfcAdapter.ReaderCallback.html', 'NfcEvent.html', 'NfcManager.html', 'package-summary.html', 'Tag.html', 'TagLostException.html']\n",
        "d:\\android\\android-sdk\\docs\\reference\\android\\nfc\\cardemulation ['CardEmulation.html', 'HostApduService.html', 'OffHostApduService.html', 'package-summary.html']\n",
        "d:\\android\\android-sdk\\docs\\reference\\android\\nfc\\tech ['IsoDep.html', 'MifareClassic.html', 'MifareUltralight.html', 'Ndef.html', 'NdefFormatable.html', 'NfcA.html', 'NfcB.html', 'NfcBarcode.html', 'NfcF.html', 'NfcV.html', 'package-summary.html', 'TagTechnology.html']\n",
        "d:\\android\\android-sdk\\docs\\reference\\android\\opengl"
       ]
      },
      {
       "output_type": "stream",
       "stream": "stdout",
       "text": [
        " ['EGL14.html', 'EGLConfig.html', 'EGLContext.html', 'EGLDisplay.html', 'EGLExt.html', 'EGLObjectHandle.html', 'EGLSurface.html', 'ETC1.html', 'ETC1Util.ETC1Texture.html', 'ETC1Util.html', 'GLDebugHelper.html', 'GLES10.html', 'GLES10Ext.html', 'GLES11.html', 'GLES11Ext.html', 'GLES20.html', 'GLES30.html', 'GLES31.html', 'GLES31Ext.DebugProcKHR.html', 'GLES31Ext.html', 'GLException.html', 'GLSurfaceView.EGLConfigChooser.html', 'GLSurfaceView.EGLContextFactory.html', 'GLSurfaceView.EGLWindowSurfaceFactory.html', 'GLSurfaceView.GLWrapper.html', 'GLSurfaceView.html', 'GLSurfaceView.Renderer.html', 'GLU.html', 'GLUtils.html', 'Matrix.html', 'package-summary.html', 'Visibility.html']\n",
        "d:\\android\\android-sdk\\docs\\reference\\android\\os ['AsyncTask.html', 'AsyncTask.Status.html', 'BadParcelableException.html', 'BaseBundle.html', 'BatteryManager.html', 'Binder.html', 'Build.html', 'Build.VERSION.html', 'Build.VERSION_CODES.html', 'Bundle.html', 'CancellationSignal.html', 'CancellationSignal.OnCancelListener.html', 'ConditionVariable.html', 'CountDownTimer.html', 'DeadObjectException.html', 'Debug.html', 'Debug.InstructionCount.html', 'Debug.MemoryInfo.html', 'DropBoxManager.Entry.html', 'DropBoxManager.html', 'Environment.html', 'FileObserver.html', 'Handler.Callback.html', 'Handler.html', 'HandlerThread.html', 'IBinder.DeathRecipient.html', 'IBinder.html', 'IInterface.html', 'Looper.html', 'MemoryFile.html', 'Message.html', 'MessageQueue.html', 'MessageQueue.IdleHandler.html', 'Messenger.html', 'NetworkOnMainThreadException.html', 'OperationCanceledException.html', 'package-summary.html', 'Parcel.html', 'Parcelable.ClassLoaderCreator.html', 'Parcelable.Creator.html', 'Parcelable.html', 'ParcelFileDescriptor.AutoCloseInputStream.html', 'ParcelFileDescriptor.AutoCloseOutputStream.html', 'ParcelFileDescriptor.FileDescriptorDetachedException.html', 'ParcelFileDescriptor.html', 'ParcelFileDescriptor.OnCloseListener.html', 'ParcelFormatException.html', 'ParcelUuid.html', 'PatternMatcher.html', 'PersistableBundle.html', 'PowerManager.html', 'PowerManager.WakeLock.html', 'Process.html', 'RecoverySystem.html', 'RecoverySystem.ProgressListener.html', 'RemoteCallbackList.html', 'RemoteException.html', 'ResultReceiver.html', 'StatFs.html', 'StrictMode.html', 'StrictMode.ThreadPolicy.Builder.html', 'StrictMode.ThreadPolicy.html', 'StrictMode.VmPolicy.Builder.html', 'StrictMode.VmPolicy.html', 'SystemClock.html', 'TokenWatcher.html', 'Trace.html', 'TransactionTooLargeException.html', 'UserHandle.html', 'UserManager.html', 'Vibrator.html', 'WorkSource.html']\n",
        "d:\\android\\android-sdk\\docs\\reference\\android\\os\\storage ['OnObbStateChangeListener.html', 'package-summary.html', 'StorageManager.html']\n",
        "d:\\android\\android-sdk\\docs\\reference\\android\\preference"
       ]
      },
      {
       "output_type": "stream",
       "stream": "stdout",
       "text": [
        " ['CheckBoxPreference.html', 'DialogPreference.html', 'EditTextPreference.html', 'ListPreference.html', 'MultiSelectListPreference.html', 'package-summary.html', 'Preference.BaseSavedState.html', 'Preference.html', 'Preference.OnPreferenceChangeListener.html', 'Preference.OnPreferenceClickListener.html', 'PreferenceActivity.Header.html', 'PreferenceActivity.html', 'PreferenceCategory.html', 'PreferenceFragment.html', 'PreferenceFragment.OnPreferenceStartFragmentCallback.html', 'PreferenceGroup.html', 'PreferenceManager.html', 'PreferenceManager.OnActivityDestroyListener.html', 'PreferenceManager.OnActivityResultListener.html', 'PreferenceManager.OnActivityStopListener.html', 'PreferenceScreen.html', 'RingtonePreference.html', 'SwitchPreference.html', 'TwoStatePreference.html']\n",
        "d:\\android\\android-sdk\\docs\\reference\\android\\preview []\n",
        "d:\\android\\android-sdk\\docs\\reference\\android\\preview\\support ['package-summary.html']\n",
        "d:\\android\\android-sdk\\docs\\reference\\android\\preview\\support\\v4 []\n",
        "d:\\android\\android-sdk\\docs\\reference\\android\\preview\\support\\v4\\app ['NotificationManagerCompat.html']\n",
        "d:\\android\\android-sdk\\docs\\reference\\android\\preview\\support\\wearable []\n",
        "d:\\android\\android-sdk\\docs\\reference\\android\\preview\\support\\wearable\\notifications ['RemoteInput.Builder.html', 'RemoteInput.html', 'WearableNotifications.Action.Builder.html', 'WearableNotifications.Action.html', 'WearableNotifications.Builder.html', 'WearableNotifications.html']\n",
        "d:\\android\\android-sdk\\docs\\reference\\android\\print"
       ]
      },
      {
       "output_type": "stream",
       "stream": "stdout",
       "text": [
        " ['package-summary.html', 'PageRange.html', 'PrintAttributes.Builder.html', 'PrintAttributes.html', 'PrintAttributes.Margins.html', 'PrintAttributes.MediaSize.html', 'PrintAttributes.Resolution.html', 'PrintDocumentAdapter.html', 'PrintDocumentAdapter.LayoutResultCallback.html', 'PrintDocumentAdapter.WriteResultCallback.html', 'PrintDocumentInfo.Builder.html', 'PrintDocumentInfo.html', 'PrinterCapabilitiesInfo.Builder.html', 'PrinterCapabilitiesInfo.html', 'PrinterId.html', 'PrinterInfo.Builder.html', 'PrinterInfo.html', 'PrintJob.html', 'PrintJobId.html', 'PrintJobInfo.Builder.html', 'PrintJobInfo.html', 'PrintManager.html']\n",
        "d:\\android\\android-sdk\\docs\\reference\\android\\print\\pdf ['package-summary.html', 'PrintedPdfDocument.html']\n",
        "d:\\android\\android-sdk\\docs\\reference\\android\\printservice ['package-summary.html', 'PrintDocument.html', 'PrinterDiscoverySession.html', 'PrintJob.html', 'PrintService.html']\n",
        "d:\\android\\android-sdk\\docs\\reference\\android\\provider"
       ]
      },
      {
       "output_type": "stream",
       "stream": "stdout",
       "text": [
        " ['AlarmClock.html', 'BaseColumns.html', 'Browser.BookmarkColumns.html', 'Browser.html', 'Browser.SearchColumns.html', 'CalendarContract.Attendees.html', 'CalendarContract.AttendeesColumns.html', 'CalendarContract.CalendarAlerts.html', 'CalendarContract.CalendarAlertsColumns.html', 'CalendarContract.CalendarCache.html', 'CalendarContract.CalendarCacheColumns.html', 'CalendarContract.CalendarColumns.html', 'CalendarContract.CalendarEntity.html', 'CalendarContract.Calendars.html', 'CalendarContract.CalendarSyncColumns.html', 'CalendarContract.Colors.html', 'CalendarContract.ColorsColumns.html', 'CalendarContract.EventDays.html', 'CalendarContract.EventDaysColumns.html', 'CalendarContract.Events.html', 'CalendarContract.EventsColumns.html', 'CalendarContract.EventsEntity.html', 'CalendarContract.ExtendedProperties.html', 'CalendarContract.ExtendedPropertiesColumns.html', 'CalendarContract.html', 'CalendarContract.Instances.html', 'CalendarContract.Reminders.html', 'CalendarContract.RemindersColumns.html', 'CalendarContract.SyncColumns.html', 'CalendarContract.SyncState.html', 'CallLog.Calls.html', 'CallLog.html', 'Contacts.ContactMethods.html', 'Contacts.ContactMethodsColumns.html', 'Contacts.Extensions.html', 'Contacts.ExtensionsColumns.html', 'Contacts.GroupMembership.html', 'Contacts.Groups.html', 'Contacts.GroupsColumns.html', 'Contacts.html', 'Contacts.Intents.html', 'Contacts.Intents.Insert.html', 'Contacts.Intents.UI.html', 'Contacts.OrganizationColumns.html', 'Contacts.Organizations.html', 'Contacts.People.ContactMethods.html', 'Contacts.People.Extensions.html', 'Contacts.People.html', 'Contacts.People.Phones.html', 'Contacts.PeopleColumns.html', 'Contacts.Phones.html', 'Contacts.PhonesColumns.html', 'Contacts.Photos.html', 'Contacts.PhotosColumns.html', 'Contacts.PresenceColumns.html', 'Contacts.Settings.html', 'Contacts.SettingsColumns.html', 'ContactsContract.AggregationExceptions.html', 'ContactsContract.BaseSyncColumns.html', 'ContactsContract.CommonDataKinds.BaseTypes.html', 'ContactsContract.CommonDataKinds.Callable.html', 'ContactsContract.CommonDataKinds.CommonColumns.html', 'ContactsContract.CommonDataKinds.Contactables.html', 'ContactsContract.CommonDataKinds.Email.html', 'ContactsContract.CommonDataKinds.Event.html', 'ContactsContract.CommonDataKinds.GroupMembership.html', 'ContactsContract.CommonDataKinds.html', 'ContactsContract.CommonDataKinds.Identity.html', 'ContactsContract.CommonDataKinds.Im.html', 'ContactsContract.CommonDataKinds.Nickname.html', 'ContactsContract.CommonDataKinds.Note.html', 'ContactsContract.CommonDataKinds.Organization.html', 'ContactsContract.CommonDataKinds.Phone.html', 'ContactsContract.CommonDataKinds.Photo.html', 'ContactsContract.CommonDataKinds.Relation.html', 'ContactsContract.CommonDataKinds.SipAddress.html', 'ContactsContract.CommonDataKinds.StructuredName.html', 'ContactsContract.CommonDataKinds.StructuredPostal.html', 'ContactsContract.CommonDataKinds.Website.html', 'ContactsContract.ContactNameColumns.html', 'ContactsContract.ContactOptionsColumns.html', 'ContactsContract.Contacts.AggregationSuggestions.html', 'ContactsContract.Contacts.Data.html', 'ContactsContract.Contacts.Entity.html', 'ContactsContract.Contacts.html', 'ContactsContract.Contacts.Photo.html', 'ContactsContract.Contacts.StreamItems.html', 'ContactsContract.ContactsColumns.html', 'ContactsContract.ContactStatusColumns.html', 'ContactsContract.Data.html', 'ContactsContract.DataColumns.html', 'ContactsContract.DataColumnsWithJoins.html', 'ContactsContract.DataUsageFeedback.html', 'ContactsContract.DataUsageStatColumns.html', 'ContactsContract.DeletedContacts.html', 'ContactsContract.DeletedContactsColumns.html', 'ContactsContract.Directory.html', 'ContactsContract.DisplayNameSources.html', 'ContactsContract.DisplayPhoto.html', 'ContactsContract.FullNameStyle.html', 'ContactsContract.Groups.html', 'ContactsContract.GroupsColumns.html', 'ContactsContract.html', 'ContactsContract.Intents.html', 'ContactsContract.Intents.Insert.html', 'ContactsContract.PhoneLookup.html', 'ContactsContract.PhoneLookupColumns.html', 'ContactsContract.PhoneticNameStyle.html', 'ContactsContract.PinnedPositions.html', 'ContactsContract.Presence.html', 'ContactsContract.PresenceColumns.html', 'ContactsContract.Profile.html', 'ContactsContract.ProfileSyncState.html', 'ContactsContract.QuickContact.html', 'ContactsContract.RawContacts.Data.html', 'ContactsContract.RawContacts.DisplayPhoto.html', 'ContactsContract.RawContacts.Entity.html', 'ContactsContract.RawContacts.html', 'ContactsContract.RawContacts.StreamItems.html', 'ContactsContract.RawContactsColumns.html', 'ContactsContract.RawContactsEntity.html', 'ContactsContract.SearchSnippets.html', 'ContactsContract.Settings.html', 'ContactsContract.SettingsColumns.html', 'ContactsContract.StatusColumns.html', 'ContactsContract.StatusUpdates.html', 'ContactsContract.StreamItemPhotos.html', 'ContactsContract.StreamItemPhotosColumns.html', 'ContactsContract.StreamItems.html', 'ContactsContract.StreamItems.StreamItemPhotos.html', 'ContactsContract.StreamItemsColumns.html', 'ContactsContract.SyncColumns.html', 'ContactsContract.SyncState.html', 'DocumentsContract.Document.html', 'DocumentsContract.html', 'DocumentsContract.Root.html', 'DocumentsProvider.html', 'LiveFolders.html', 'MediaStore.Audio.AlbumColumns.html', 'MediaStore.Audio.Albums.html', 'MediaStore.Audio.ArtistColumns.html', 'MediaStore.Audio.Artists.Albums.html', 'MediaStore.Audio.Artists.html', 'MediaStore.Audio.AudioColumns.html', 'MediaStore.Audio.Genres.html', 'MediaStore.Audio.Genres.Members.html', 'MediaStore.Audio.GenresColumns.html', 'MediaStore.Audio.html', 'MediaStore.Audio.Media.html', 'MediaStore.Audio.Playlists.html', 'MediaStore.Audio.Playlists.Members.html', 'MediaStore.Audio.PlaylistsColumns.html', 'MediaStore.Audio.Radio.html', 'MediaStore.Files.FileColumns.html', 'MediaStore.Files.html', 'MediaStore.html', 'MediaStore.Images.html', 'MediaStore.Images.ImageColumns.html', 'MediaStore.Images.Media.html', 'MediaStore.Images.Thumbnails.html', 'MediaStore.MediaColumns.html', 'MediaStore.Video.html', 'MediaStore.Video.Media.html', 'MediaStore.Video.Thumbnails.html', 'MediaStore.Video.VideoColumns.html', 'OpenableColumns.html', 'package-summary.html', 'SearchRecentSuggestions.html', 'Settings.Global.html', 'Settings.html', 'Settings.NameValueTable.html', 'Settings.Secure.html', 'Settings.SettingNotFoundException.html', 'Settings.System.html', 'SyncStateContract.Columns.html', 'SyncStateContract.Constants.html', 'SyncStateContract.Helpers.html', 'SyncStateContract.html', 'Telephony.BaseMmsColumns.html', 'Telephony.CanonicalAddressesColumns.html', 'Telephony.Carriers.html', 'Telephony.html', 'Telephony.Mms.Addr.html', 'Telephony.Mms.Draft.html', 'Telephony.Mms.html', 'Telephony.Mms.Inbox.html', 'Telephony.Mms.Intents.html', 'Telephony.Mms.Outbox.html', 'Telephony.Mms.Part.html', 'Telephony.Mms.Rate.html', 'Telephony.Mms.Sent.html', 'Telephony.MmsSms.html', 'Telephony.MmsSms.PendingMessages.html', 'Telephony.Sms.Conversations.html', 'Telephony.Sms.Draft.html', 'Telephony.Sms.html', 'Telephony.Sms.Inbox.html', 'Telephony.Sms.Intents.html', 'Telephony.Sms.Outbox.html', 'Telephony.Sms.Sent.html', 'Telephony.TextBasedSmsColumns.html', 'Telephony.Threads.html', 'Telephony.ThreadsColumns.html', 'UserDictionary.html', 'UserDictionary.Words.html', 'VoicemailContract.html', 'VoicemailContract.Status.html', 'VoicemailContract.Voicemails.html']\n",
        "d:\\android\\android-sdk\\docs\\reference\\android\\renderscript ['Allocation.html', 'Allocation.MipmapControl.html', 'Allocation.OnBufferAvailableListener.html', 'AllocationAdapter.html', 'BaseObj.html', 'Byte2.html', 'Byte3.html', 'Byte4.html', 'Double2.html', 'Double3.html', 'Double4.html', 'Element.Builder.html', 'Element.DataKind.html', 'Element.DataType.html', 'Element.html', 'FieldPacker.html', 'Float2.html', 'Float3.html', 'Float4.html', 'Int2.html', 'Int3.html', 'Int4.html', 'Long2.html', 'Long3.html', 'Long4.html', 'Matrix2f.html', 'Matrix3f.html', 'Matrix4f.html', 'package-summary.html', 'RenderScript.ContextType.html', 'RenderScript.html', 'RenderScript.Priority.html', 'RenderScript.RSErrorHandler.html', 'RenderScript.RSMessageHandler.html', 'RSDriverException.html', 'RSIllegalArgumentException.html', 'RSInvalidStateException.html', 'RSRuntimeException.html', 'Sampler.Builder.html', 'Sampler.html', 'Sampler.Value.html', 'Script.Builder.html', 'Script.FieldBase.html', 'Script.FieldID.html', 'Script.html', 'Script.KernelID.html', 'Script.LaunchOptions.html', 'ScriptC.html', 'ScriptGroup.Builder.html', 'ScriptGroup.html', 'ScriptIntrinsic.html', 'ScriptIntrinsic3DLUT.html', 'ScriptIntrinsicBlend.html', 'ScriptIntrinsicBlur.html', 'ScriptIntrinsicColorMatrix.html', 'ScriptIntrinsicConvolve3x3.html', 'ScriptIntrinsicConvolve5x5.html', 'ScriptIntrinsicHistogram.html', 'ScriptIntrinsicLUT.html', 'ScriptIntrinsicResize.html', 'ScriptIntrinsicYuvToRGB.html', 'Short2.html', 'Short3.html', 'Short4.html', 'Type.Builder.html', 'Type.CubemapFace.html', 'Type.html']\n",
        "d:\\android\\android-sdk\\docs\\reference\\android\\sax"
       ]
      },
      {
       "output_type": "stream",
       "stream": "stdout",
       "text": [
        " ['Element.html', 'ElementListener.html', 'EndElementListener.html', 'EndTextElementListener.html', 'package-summary.html', 'RootElement.html', 'StartElementListener.html', 'TextElementListener.html']\n",
        "d:\\android\\android-sdk\\docs\\reference\\android\\security ['KeyChain.html', 'KeyChainAliasCallback.html', 'KeyChainException.html', 'KeyPairGeneratorSpec.Builder.html', 'KeyPairGeneratorSpec.html', 'KeyStoreParameter.Builder.html', 'KeyStoreParameter.html', 'package-summary.html']\n",
        "d:\\android\\android-sdk\\docs\\reference\\android\\service []\n",
        "d:\\android\\android-sdk\\docs\\reference\\android\\service\\dreams ['DreamService.html', 'package-summary.html']\n",
        "d:\\android\\android-sdk\\docs\\reference\\android\\service\\media ['MediaBrowserService.BrowserRoot.html', 'MediaBrowserService.html', 'MediaBrowserService.Result.html', 'package-summary.html']\n",
        "d:\\android\\android-sdk\\docs\\reference\\android\\service\\notification ['NotificationListenerService.html', 'NotificationListenerService.Ranking.html', 'NotificationListenerService.RankingMap.html', 'package-summary.html', 'StatusBarNotification.html']\n",
        "d:\\android\\android-sdk\\docs\\reference\\android\\service\\restrictions ['package-summary.html', 'RestrictionsReceiver.html']\n",
        "d:\\android\\android-sdk\\docs\\reference\\android\\service\\textservice ['package-summary.html', 'SpellCheckerService.html', 'SpellCheckerService.Session.html']\n",
        "d:\\android\\android-sdk\\docs\\reference\\android\\service\\voice ['AlwaysOnHotwordDetector.Callback.html', 'AlwaysOnHotwordDetector.EventPayload.html', 'AlwaysOnHotwordDetector.html', 'package-summary.html', 'VoiceInteractionService.html', 'VoiceInteractionSession.html', 'VoiceInteractionSessionService.html']\n",
        "d:\\android\\android-sdk\\docs\\reference\\android\\service\\wallpaper ['package-summary.html', 'WallpaperService.Engine.html', 'WallpaperService.html']\n",
        "d:\\android\\android-sdk\\docs\\reference\\android\\speech"
       ]
      },
      {
       "output_type": "stream",
       "stream": "stdout",
       "text": [
        " ['package-summary.html', 'RecognitionListener.html', 'RecognitionService.Callback.html', 'RecognitionService.html', 'RecognizerIntent.html', 'RecognizerResultsIntent.html', 'SpeechRecognizer.html']\n",
        "d:\\android\\android-sdk\\docs\\reference\\android\\speech\\tts ['package-summary.html', 'SynthesisCallback.html', 'SynthesisRequest.html', 'TextToSpeech.Engine.html', 'TextToSpeech.EngineInfo.html', 'TextToSpeech.html', 'TextToSpeech.OnInitListener.html', 'TextToSpeech.OnUtteranceCompletedListener.html', 'TextToSpeechService.html', 'UtteranceProgressListener.html', 'Voice.html']\n",
        "d:\\android\\android-sdk\\docs\\reference\\android\\support []\n",
        "d:\\android\\android-sdk\\docs\\reference\\android\\support\\annotation"
       ]
      },
      {
       "output_type": "stream",
       "stream": "stdout",
       "text": [
        " ['AnimatorRes.html', 'AnimRes.html', 'AnyRes.html', 'ArrayRes.html', 'AttrRes.html', 'BoolRes.html', 'ColorRes.html', 'DimenRes.html', 'DrawableRes.html', 'FractionRes.html', 'IdRes.html', 'IntDef.html', 'IntegerRes.html', 'InterpolatorRes.html', 'LayoutRes.html', 'MenuRes.html', 'NonNull.html', 'Nullable.html', 'package-summary.html', 'PluralsRes.html', 'RawRes.html', 'StringDef.html', 'StringRes.html', 'StyleableRes.html', 'StyleRes.html', 'XmlRes.html']\n",
        "d:\\android\\android-sdk\\docs\\reference\\android\\support\\multidex ['MultiDex.html', 'MultiDexApplication.html', 'package-summary.html']\n",
        "d:\\android\\android-sdk\\docs\\reference\\android\\support\\v13 []\n",
        "d:\\android\\android-sdk\\docs\\reference\\android\\support\\v13\\app ['FragmentCompat.html', 'FragmentPagerAdapter.html', 'FragmentStatePagerAdapter.html', 'FragmentTabHost.html', 'package-summary.html']\n",
        "d:\\android\\android-sdk\\docs\\reference\\android\\support\\v17 []\n",
        "d:\\android\\android-sdk\\docs\\reference\\android\\support\\v17\\leanback ['package-summary.html', 'R.animator.html', 'R.attr.html', 'R.color.html', 'R.dimen.html', 'R.drawable.html', 'R.fraction.html', 'R.html', 'R.id.html', 'R.integer.html', 'R.layout.html', 'R.raw.html', 'R.string.html', 'R.style.html', 'R.styleable.html', 'R.transition.html']\n",
        "d:\\android\\android-sdk\\docs\\reference\\android\\support\\v17\\leanback\\app ['BackgroundManager.html', 'BrowseFragment.BrowseTransitionListener.html', 'BrowseFragment.html', 'DetailsFragment.html', 'ErrorFragment.html', 'HeadersFragment.html', 'package-summary.html', 'PlaybackOverlayFragment.html', 'PlaybackOverlayFragment.OnFadeCompleteListener.html', 'RowsFragment.html', 'SearchFragment.html', 'SearchFragment.SearchResultProvider.html', 'VerticalGridFragment.html']\n",
        "d:\\android\\android-sdk\\docs\\reference\\android\\support\\v17\\leanback\\database ['CursorMapper.html', 'package-summary.html']\n",
        "d:\\android\\android-sdk\\docs\\reference\\android\\support\\v17\\leanback\\graphics ['ColorFilterCache.html', 'ColorFilterDimmer.html', 'ColorOverlayDimmer.html', 'package-summary.html']\n",
        "d:\\android\\android-sdk\\docs\\reference\\android\\support\\v17\\leanback\\widget"
       ]
      },
      {
       "output_type": "stream",
       "stream": "stdout",
       "text": [
        " ['AbstractDetailsDescriptionPresenter.html', 'AbstractDetailsDescriptionPresenter.ViewHolder.html', 'Action.html', 'ArrayObjectAdapter.html', 'BaseCardView.html', 'BaseCardView.LayoutParams.html', 'ClassPresenterSelector.html', 'ControlButtonPresenterSelector.html', 'CursorObjectAdapter.html', 'DetailsOverviewRow.html', 'DetailsOverviewRowPresenter.html', 'DetailsOverviewRowPresenter.ViewHolder.html', 'FocusHighlight.html', 'FocusHighlightHelper.html', 'HeaderItem.html', 'HorizontalGridView.html', 'HorizontalHoverCardSwitcher.html', 'ImageCardView.html', 'ItemBridgeAdapter.AdapterListener.html', 'ItemBridgeAdapter.html', 'ItemBridgeAdapter.ViewHolder.html', 'ItemBridgeAdapter.Wrapper.html', 'ListRow.html', 'ListRowHoverCardView.html', 'ListRowPresenter.html', 'ListRowPresenter.ViewHolder.html', 'ListRowView.html', 'ObjectAdapter.DataObserver.html', 'ObjectAdapter.html', 'OnActionClickedListener.html', 'OnChildSelectedListener.html', 'OnItemClickedListener.html', 'OnItemSelectedListener.html', 'OnItemViewClickedListener.html', 'OnItemViewSelectedListener.html', 'package-summary.html', 'PlaybackControlsRow.ClosedCaptioningAction.html', 'PlaybackControlsRow.FastForwardAction.html', 'PlaybackControlsRow.HighQualityAction.html', 'PlaybackControlsRow.html', 'PlaybackControlsRow.MoreActions.html', 'PlaybackControlsRow.MultiAction.html', 'PlaybackControlsRow.PlayPauseAction.html', 'PlaybackControlsRow.RepeatAction.html', 'PlaybackControlsRow.RewindAction.html', 'PlaybackControlsRow.ShuffleAction.html', 'PlaybackControlsRow.SkipNextAction.html', 'PlaybackControlsRow.SkipPreviousAction.html', 'PlaybackControlsRow.ThumbsAction.html', 'PlaybackControlsRow.ThumbsDownAction.html', 'PlaybackControlsRow.ThumbsUpAction.html', 'PlaybackControlsRowPresenter.html', 'PlaybackControlsRowPresenter.ViewHolder.html', 'Presenter.html', 'Presenter.ViewHolder.html', 'PresenterSelector.html', 'PresenterSwitcher.html', 'Row.html', 'RowHeaderPresenter.html', 'RowHeaderPresenter.ViewHolder.html', 'RowHeaderView.html', 'RowPresenter.html', 'RowPresenter.ViewHolder.html', 'SearchBar.html', 'SearchBar.SearchBarListener.html', 'SearchEditText.html', 'SearchEditText.OnKeyboardDismissListener.html', 'SearchOrbView.Colors.html', 'SearchOrbView.html', 'ShadowOverlayContainer.html', 'SinglePresenterSelector.html', 'SpeechOrbView.html', 'SpeechRecognitionCallback.html', 'VerticalGridPresenter.html', 'VerticalGridPresenter.ViewHolder.html', 'VerticalGridView.html']\n",
        "d:\\android\\android-sdk\\docs\\reference\\android\\support\\v4 []\n",
        "d:\\android\\android-sdk\\docs\\reference\\android\\support\\v4\\accessibilityservice"
       ]
      },
      {
       "output_type": "stream",
       "stream": "stdout",
       "text": [
        " ['AccessibilityServiceInfoCompat.html', 'package-summary.html']\n",
        "d:\\android\\android-sdk\\docs\\reference\\android\\support\\v4\\app ['ActionBarDrawerToggle.Delegate.html', 'ActionBarDrawerToggle.DelegateProvider.html', 'ActionBarDrawerToggle.html', 'ActivityCompat.html', 'ActivityManagerCompat.html', 'ActivityOptionsCompat.html', 'DialogFragment.html', 'Fragment.html', 'Fragment.InstantiationException.html', 'Fragment.SavedState.html', 'FragmentActivity.html', 'FragmentManager.BackStackEntry.html', 'FragmentManager.html', 'FragmentManager.OnBackStackChangedListener.html', 'FragmentPagerAdapter.html', 'FragmentStatePagerAdapter.html', 'FragmentTabHost.html', 'FragmentTransaction.html', 'ListFragment.html', 'LoaderManager.html', 'LoaderManager.LoaderCallbacks.html', 'NavUtils.html', 'NotificationCompat.Action.Builder.html', 'NotificationCompat.Action.Extender.html', 'NotificationCompat.Action.html', 'NotificationCompat.Action.WearableExtender.html', 'NotificationCompat.BigPictureStyle.html', 'NotificationCompat.BigTextStyle.html', 'NotificationCompat.Builder.html', 'NotificationCompat.Extender.html', 'NotificationCompat.html', 'NotificationCompat.InboxStyle.html', 'NotificationCompat.Style.html', 'NotificationCompat.WearableExtender.html', 'NotificationCompatExtras.html', 'NotificationCompatSideChannelService.html', 'NotificationManagerCompat.html', 'package-summary.html', 'RemoteInput.Builder.html', 'RemoteInput.html', 'ServiceCompat.html', 'ShareCompat.html', 'ShareCompat.IntentBuilder.html', 'ShareCompat.IntentReader.html', 'SharedElementCallback.html', 'TaskStackBuilder.html', 'TaskStackBuilder.SupportParentable.html']\n",
        "d:\\android\\android-sdk\\docs\\reference\\android\\support\\v4\\content ['AsyncTaskLoader.html', 'ContextCompat.html', 'CursorLoader.html', 'FileProvider.html', 'IntentCompat.html', 'Loader.ForceLoadContentObserver.html', 'Loader.html', 'Loader.OnLoadCompleteListener.html', 'LocalBroadcastManager.html', 'package-summary.html', 'WakefulBroadcastReceiver.html']\n",
        "d:\\android\\android-sdk\\docs\\reference\\android\\support\\v4\\content\\pm ['ActivityInfoCompat.html', 'package-summary.html']\n",
        "d:\\android\\android-sdk\\docs\\reference\\android\\support\\v4\\content\\res ['package-summary.html', 'ResourcesCompat.html']\n",
        "d:\\android\\android-sdk\\docs\\reference\\android\\support\\v4\\database ['DatabaseUtilsCompat.html', 'package-summary.html']\n",
        "d:\\android\\android-sdk\\docs\\reference\\android\\support\\v4\\graphics ['BitmapCompat.html', 'package-summary.html']\n",
        "d:\\android\\android-sdk\\docs\\reference\\android\\support\\v4\\graphics\\drawable ['DrawableCompat.html', 'package-summary.html', 'RoundedBitmapDrawable.html', 'RoundedBitmapDrawableFactory.html']\n",
        "d:\\android\\android-sdk\\docs\\reference\\android\\support\\v4\\hardware []\n",
        "d:\\android\\android-sdk\\docs\\reference\\android\\support\\v4\\hardware\\display ['DisplayManagerCompat.html', 'package-summary.html']\n",
        "d:\\android\\android-sdk\\docs\\reference\\android\\support\\v4\\media ['MediaMetadataCompat.Builder.html', 'MediaMetadataCompat.html', 'package-summary.html', 'RatingCompat.html', 'TransportController.html', 'TransportMediator.html', 'TransportPerformer.html', 'TransportStateListener.html', 'VolumeProviderCompat.Callback.html', 'VolumeProviderCompat.html']\n",
        "d:\\android\\android-sdk\\docs\\reference\\android\\support\\v4\\media\\session ['MediaControllerCompat.Callback.html', 'MediaControllerCompat.html', 'MediaControllerCompat.PlaybackInfo.html', 'MediaControllerCompat.TransportControls.html', 'MediaSessionCompat.Callback.html', 'MediaSessionCompat.html', 'MediaSessionCompat.Token.html', 'package-summary.html', 'PlaybackStateCompat.Builder.html', 'PlaybackStateCompat.html']\n",
        "d:\\android\\android-sdk\\docs\\reference\\android\\support\\v4\\net ['ConnectivityManagerCompat.html', 'package-summary.html', 'TrafficStatsCompat.html']\n",
        "d:\\android\\android-sdk\\docs\\reference\\android\\support\\v4\\os ['AsyncTaskCompat.html', 'EnvironmentCompat.html', 'package-summary.html', 'ParcelableCompat.html', 'ParcelableCompatCreatorCallbacks.html']\n",
        "d:\\android\\android-sdk\\docs\\reference\\android\\support\\v4\\print ['package-summary.html', 'PrintHelper.html', 'PrintHelper.OnPrintFinishCallback.html']\n",
        "d:\\android\\android-sdk\\docs\\reference\\android\\support\\v4\\provider ['DocumentFile.html', 'package-summary.html']\n",
        "d:\\android\\android-sdk\\docs\\reference\\android\\support\\v4\\text ['BidiFormatter.Builder.html', 'BidiFormatter.html', 'ICUCompat.html', 'package-summary.html', 'TextDirectionHeuristicCompat.html', 'TextDirectionHeuristicsCompat.html', 'TextUtilsCompat.html']\n",
        "d:\\android\\android-sdk\\docs\\reference\\android\\support\\v4\\util ['ArrayMap.html', 'AtomicFile.html', 'CircularArray.html', 'LongSparseArray.html', 'LruCache.html', 'package-summary.html', 'Pair.html', 'Pools.html', 'Pools.Pool.html', 'Pools.SimplePool.html', 'Pools.SynchronizedPool.html', 'SimpleArrayMap.html', 'SparseArrayCompat.html']\n",
        "d:\\android\\android-sdk\\docs\\reference\\android\\support\\v4\\view"
       ]
      },
      {
       "output_type": "stream",
       "stream": "stdout",
       "text": [
        " ['AccessibilityDelegateCompat.html', 'ActionProvider.html', 'ActionProvider.VisibilityListener.html', 'GestureDetectorCompat.html', 'GravityCompat.html', 'KeyEventCompat.html', 'MarginLayoutParamsCompat.html', 'MenuCompat.html', 'MenuItemCompat.html', 'MenuItemCompat.OnActionExpandListener.html', 'MotionEventCompat.html', 'OnApplyWindowInsetsListener.html', 'package-summary.html', 'PagerAdapter.html', 'PagerTabStrip.html', 'PagerTitleStrip.html', 'ScaleGestureDetectorCompat.html', 'VelocityTrackerCompat.html', 'ViewCompat.html', 'ViewCompatKitKat.html', 'ViewConfigurationCompat.html', 'ViewGroupCompat.html', 'ViewPager.html', 'ViewPager.LayoutParams.html', 'ViewPager.OnPageChangeListener.html', 'ViewPager.PageTransformer.html', 'ViewPager.SavedState.html', 'ViewPager.SimpleOnPageChangeListener.html', 'ViewParentCompat.html', 'ViewParentCompatICS.html', 'ViewPropertyAnimatorCompat.html', 'ViewPropertyAnimatorListener.html', 'ViewPropertyAnimatorListenerAdapter.html', 'ViewPropertyAnimatorUpdateListener.html', 'WindowCompat.html', 'WindowInsetsCompat.html']\n",
        "d:\\android\\android-sdk\\docs\\reference\\android\\support\\v4\\view\\accessibility ['AccessibilityEventCompat.html', 'AccessibilityManagerCompat.AccessibilityStateChangeListenerCompat.html', 'AccessibilityManagerCompat.html', 'AccessibilityNodeInfoCompat.AccessibilityActionCompat.html', 'AccessibilityNodeInfoCompat.CollectionInfoCompat.html', 'AccessibilityNodeInfoCompat.CollectionItemInfoCompat.html', 'AccessibilityNodeInfoCompat.html', 'AccessibilityNodeInfoCompat.RangeInfoCompat.html', 'AccessibilityNodeProviderCompat.html', 'AccessibilityRecordCompat.html', 'package-summary.html']\n",
        "d:\\android\\android-sdk\\docs\\reference\\android\\support\\v4\\widget ['AutoScrollHelper.html', 'ContentLoadingProgressBar.html', 'CursorAdapter.html', 'DonutScrollerCompatTest.html', 'DrawerLayout.DrawerListener.html', 'DrawerLayout.html', 'DrawerLayout.LayoutParams.html', 'DrawerLayout.SavedState.html', 'DrawerLayout.SimpleDrawerListener.html', 'EdgeEffectCompat.html', 'ExploreByTouchHelper.html', 'GingerbreadScrollerCompatTest.html', 'IcsScrollerCompatTest.html', 'ListPopupWindowCompat.html', 'ListViewAutoScrollHelper.html', 'package-summary.html', 'PopupMenuCompat.html', 'PopupWindowCompat.html', 'ResourceCursorAdapter.html', 'ScrollerCompat.html', 'ScrollerCompatTestBase.html', 'SearchViewCompat.html', 'SearchViewCompat.OnCloseListenerCompat.html', 'SearchViewCompat.OnQueryTextListenerCompat.html', 'SimpleCursorAdapter.CursorToStringConverter.html', 'SimpleCursorAdapter.html', 'SimpleCursorAdapter.ViewBinder.html', 'SlidingPaneLayout.html', 'SlidingPaneLayout.LayoutParams.html', 'SlidingPaneLayout.PanelSlideListener.html', 'SlidingPaneLayout.SimplePanelSlideListener.html', 'SwipeRefreshLayout.html', 'SwipeRefreshLayout.OnRefreshListener.html', 'ViewDragHelper.Callback.html', 'ViewDragHelper.html']\n",
        "d:\\android\\android-sdk\\docs\\reference\\android\\support\\v7 []\n",
        "d:\\android\\android-sdk\\docs\\reference\\android\\support\\v7\\app"
       ]
      },
      {
       "output_type": "stream",
       "stream": "stdout",
       "text": [
        " ['ActionBar.html', 'ActionBar.LayoutParams.html', 'ActionBar.OnMenuVisibilityListener.html', 'ActionBar.OnNavigationListener.html', 'ActionBar.Tab.html', 'ActionBar.TabListener.html', 'ActionBarActivity.html', 'ActionBarDrawerToggle.Delegate.html', 'ActionBarDrawerToggle.DelegateProvider.html', 'ActionBarDrawerToggle.html', 'MediaRouteActionProvider.html', 'MediaRouteButton.html', 'MediaRouteChooserDialog.html', 'MediaRouteChooserDialogFragment.html', 'MediaRouteControllerDialog.html', 'MediaRouteControllerDialogFragment.html', 'MediaRouteDialogFactory.html', 'MediaRouteDiscoveryFragment.html', 'package-summary.html']\n",
        "d:\\android\\android-sdk\\docs\\reference\\android\\support\\v7\\appcompat ['package-summary.html', 'R.anim.html', 'R.attr.html', 'R.bool.html', 'R.color.html', 'R.dimen.html', 'R.drawable.html', 'R.html', 'R.id.html', 'R.integer.html', 'R.layout.html', 'R.string.html', 'R.style.html', 'R.styleable.html']\n",
        "d:\\android\\android-sdk\\docs\\reference\\android\\support\\v7\\cardview ['package-summary.html', 'R.attr.html', 'R.color.html', 'R.dimen.html', 'R.html', 'R.style.html', 'R.styleable.html']\n",
        "d:\\android\\android-sdk\\docs\\reference\\android\\support\\v7\\graphics ['package-summary.html', 'Palette.html', 'Palette.PaletteAsyncListener.html', 'Palette.Swatch.html']\n",
        "d:\\android\\android-sdk\\docs\\reference\\android\\support\\v7\\gridlayout ['package-summary.html', 'R.attr.html', 'R.dimen.html', 'R.html', 'R.id.html', 'R.styleable.html']\n",
        "d:\\android\\android-sdk\\docs\\reference\\android\\support\\v7\\media ['MediaControlIntent.html', 'MediaItemMetadata.html', 'MediaItemStatus.Builder.html', 'MediaItemStatus.html', 'MediaRouteDescriptor.Builder.html', 'MediaRouteDescriptor.html', 'MediaRouteDiscoveryRequest.html', 'MediaRouteProvider.Callback.html', 'MediaRouteProvider.html', 'MediaRouteProvider.ProviderMetadata.html', 'MediaRouteProvider.RouteController.html', 'MediaRouteProviderDescriptor.Builder.html', 'MediaRouteProviderDescriptor.html', 'MediaRouteProviderService.html', 'MediaRouter.Callback.html', 'MediaRouter.ControlRequestCallback.html', 'MediaRouter.html', 'MediaRouter.ProviderInfo.html', 'MediaRouter.RouteInfo.html', 'MediaRouteSelector.Builder.html', 'MediaRouteSelector.html', 'MediaSessionStatus.Builder.html', 'MediaSessionStatus.html', 'package-summary.html', 'RemotePlaybackClient.ActionCallback.html', 'RemotePlaybackClient.html', 'RemotePlaybackClient.ItemActionCallback.html', 'RemotePlaybackClient.SessionActionCallback.html', 'RemotePlaybackClient.StatusCallback.html']\n",
        "d:\\android\\android-sdk\\docs\\reference\\android\\support\\v7\\mediarouter"
       ]
      },
      {
       "output_type": "stream",
       "stream": "stdout",
       "text": [
        " ['package-summary.html', 'R.anim.html', 'R.attr.html', 'R.bool.html', 'R.color.html', 'R.dimen.html', 'R.drawable.html', 'R.html', 'R.id.html', 'R.integer.html', 'R.layout.html', 'R.string.html', 'R.style.html', 'R.styleable.html']\n",
        "d:\\android\\android-sdk\\docs\\reference\\android\\support\\v7\\view ['ActionMode.Callback.html', 'ActionMode.html', 'CollapsibleActionView.html', 'package-summary.html']\n",
        "d:\\android\\android-sdk\\docs\\reference\\android\\support\\v7\\widget ['ActionMenuView.html', 'ActionMenuView.LayoutParams.html', 'ActionMenuView.OnMenuItemClickListener.html', 'AdapterHelperTest.html', 'BaseRecyclerViewInstrumentationTest.html', 'BucketTest.html', 'CardView.html', 'DefaultItemAnimator.html', 'DefaultItemAnimatorTest.html', 'GridLayout.Alignment.html', 'GridLayout.html', 'GridLayout.LayoutParams.html', 'GridLayout.Spec.html', 'GridLayoutManager.DefaultSpanSizeLookup.html', 'GridLayoutManager.html', 'GridLayoutManager.LayoutParams.html', 'GridLayoutManager.SpanSizeLookup.html', 'GridLayoutManagerTest.html', 'LinearLayoutCompat.html', 'LinearLayoutCompat.LayoutParams.html', 'LinearLayoutManager.html', 'LinearLayoutManager.LayoutChunkResult.html', 'LinearLayoutManagerTest.html', 'LinearSmoothScroller.html', 'ListPopupWindow.html', 'OpReorderTest.html', 'OrientationHelper.html', 'package-summary.html', 'PopupMenu.html', 'PopupMenu.OnDismissListener.html', 'PopupMenu.OnMenuItemClickListener.html', 'RecyclerView.Adapter.html', 'RecyclerView.AdapterDataObserver.html', 'RecyclerView.html', 'RecyclerView.ItemAnimator.html', 'RecyclerView.ItemAnimator.ItemAnimatorFinishedListener.html', 'RecyclerView.ItemDecoration.html', 'RecyclerView.LayoutManager.html', 'RecyclerView.LayoutParams.html', 'RecyclerView.OnItemTouchListener.html', 'RecyclerView.OnScrollListener.html', 'RecyclerView.RecycledViewPool.html', 'RecyclerView.Recycler.html', 'RecyclerView.RecyclerListener.html', 'RecyclerView.SmoothScroller.Action.html', 'RecyclerView.SmoothScroller.html', 'RecyclerView.State.html', 'RecyclerView.ViewCacheExtension.html', 'RecyclerView.ViewHolder.html', 'RecyclerViewAccessibilityDelegate.html', 'RecyclerViewAccessibilityTest.html', 'RecyclerViewAnimationsTest.html', 'RecyclerViewBasicTest.html', 'RecyclerViewLayoutTest.html', 'SearchView.html', 'SearchView.OnCloseListener.html', 'SearchView.OnQueryTextListener.html', 'SearchView.OnSuggestionListener.html', 'ShareActionProvider.html', 'ShareActionProvider.OnShareTargetSelectedListener.html', 'Space.html', 'StaggeredGridLayoutManager.html', 'StaggeredGridLayoutManager.LayoutParams.html', 'StaggeredGridLayoutManagerTest.html', 'SwitchCompat.html', 'TestActivity.html', 'Toolbar.html', 'Toolbar.LayoutParams.html', 'Toolbar.OnMenuItemClickListener.html']\n",
        "d:\\android\\android-sdk\\docs\\reference\\android\\support\\v8 []\n",
        "d:\\android\\android-sdk\\docs\\reference\\android\\support\\v8\\renderscript"
       ]
      },
      {
       "output_type": "stream",
       "stream": "stdout",
       "text": [
        " ['Allocation.html', 'Allocation.MipmapControl.html', 'BaseObj.html', 'Byte2.html', 'Byte3.html', 'Byte4.html', 'Double2.html', 'Double3.html', 'Double4.html', 'Element.Builder.html', 'Element.DataKind.html', 'Element.DataType.html', 'Element.html', 'FieldPacker.html', 'FieldPackerThunker.html', 'Float2.html', 'Float3.html', 'Float4.html', 'Int2.html', 'Int3.html', 'Int4.html', 'Long2.html', 'Long3.html', 'Long4.html', 'Matrix2f.html', 'Matrix3f.html', 'Matrix4f.html', 'package-summary.html', 'RenderScript.ContextType.html', 'RenderScript.html', 'RenderScript.Priority.html', 'RenderScript.RSErrorHandler.html', 'RenderScript.RSMessageHandler.html', 'RSDriverException.html', 'RSIllegalArgumentException.html', 'RSInvalidStateException.html', 'RSRuntimeException.html', 'Sampler.Builder.html', 'Sampler.html', 'Sampler.Value.html', 'Script.Builder.html', 'Script.FieldBase.html', 'Script.FieldID.html', 'Script.html', 'Script.KernelID.html', 'Script.LaunchOptions.html', 'ScriptC.html', 'ScriptGroup.Builder.html', 'ScriptGroup.html', 'ScriptIntrinsic.html', 'ScriptIntrinsicBlend.html', 'ScriptIntrinsicBlur.html', 'ScriptIntrinsicColorMatrix.html', 'ScriptIntrinsicConvolve3x3.html', 'ScriptIntrinsicConvolve5x5.html', 'ScriptIntrinsicLUT.html', 'ScriptIntrinsicYuvToRGB.html', 'Short2.html', 'Short3.html', 'Short4.html', 'Type.Builder.html', 'Type.CubemapFace.html', 'Type.html']\n",
        "d:\\android\\android-sdk\\docs\\reference\\android\\system ['ErrnoException.html', 'Os.html', 'OsConstants.html', 'package-summary.html', 'StructPollfd.html', 'StructStat.html', 'StructStatVfs.html', 'StructUtsname.html']\n",
        "d:\\android\\android-sdk\\docs\\reference\\android\\telecom ['package-summary.html', 'TelecomManager.html']\n",
        "d:\\android\\android-sdk\\docs\\reference\\android\\telephony"
       ]
      },
      {
       "output_type": "stream",
       "stream": "stdout",
       "text": [
        " ['CellIdentityCdma.html', 'CellIdentityGsm.html', 'CellIdentityLte.html', 'CellIdentityWcdma.html', 'CellInfo.html', 'CellInfoCdma.html', 'CellInfoGsm.html', 'CellInfoLte.html', 'CellInfoWcdma.html', 'CellLocation.html', 'CellSignalStrength.html', 'CellSignalStrengthCdma.html', 'CellSignalStrengthGsm.html', 'CellSignalStrengthLte.html', 'CellSignalStrengthWcdma.html', 'IccOpenLogicalChannelResponse.html', 'NeighboringCellInfo.html', 'package-summary.html', 'PhoneNumberFormattingTextWatcher.html', 'PhoneNumberUtils.html', 'PhoneStateListener.html', 'ServiceState.html', 'SignalStrength.html', 'SmsManager.html', 'SmsMessage.html', 'SmsMessage.MessageClass.html', 'SmsMessage.SubmitPdu.html', 'TelephonyManager.html']\n",
        "d:\\android\\android-sdk\\docs\\reference\\android\\telephony\\cdma ['CdmaCellLocation.html', 'package-summary.html']\n",
        "d:\\android\\android-sdk\\docs\\reference\\android\\telephony\\gsm ['GsmCellLocation.html', 'package-summary.html', 'SmsManager.html', 'SmsMessage.html', 'SmsMessage.MessageClass.html', 'SmsMessage.SubmitPdu.html']\n",
        "d:\\android\\android-sdk\\docs\\reference\\android\\test ['ActivityInstrumentationTestCase.html', 'ActivityInstrumentationTestCase2.html', 'ActivityTestCase.html', 'ActivityUnitTestCase.html', 'AndroidTestCase.html', 'AndroidTestRunner.html', 'ApplicationTestCase.html', 'AssertionFailedError.html', 'ComparisonFailure.html', 'FlakyTest.html', 'InstrumentationTestCase.html', 'InstrumentationTestRunner.html', 'InstrumentationTestSuite.html', 'IsolatedContext.html', 'LoaderTestCase.html', 'MoreAsserts.html', 'package-summary.html', 'PerformanceTestCase.html', 'PerformanceTestCase.Intermediates.html', 'ProviderTestCase.html', 'ProviderTestCase2.html', 'RenamingDelegatingContext.html', 'ServiceTestCase.html', 'SingleLaunchActivityTestCase.html', 'SyncBaseInstrumentation.html', 'TestSuiteProvider.html', 'TouchUtils.html', 'UiThreadTest.html', 'ViewAsserts.html']\n",
        "d:\\android\\android-sdk\\docs\\reference\\android\\test\\mock ['MockApplication.html', 'MockContentProvider.html', 'MockContentResolver.html', 'MockContext.html', 'MockCursor.html', 'MockDialogInterface.html', 'MockPackageManager.html', 'MockResources.html', 'package-summary.html']\n",
        "d:\\android\\android-sdk\\docs\\reference\\android\\test\\suitebuilder ['package-summary.html', 'TestMethod.html', 'TestSuiteBuilder.FailedToCreateTests.html', 'TestSuiteBuilder.html']\n",
        "d:\\android\\android-sdk\\docs\\reference\\android\\test\\suitebuilder\\annotation ['LargeTest.html', 'MediumTest.html', 'package-summary.html', 'SmallTest.html', 'Smoke.html', 'Suppress.html']\n",
        "d:\\android\\android-sdk\\docs\\reference\\android\\text"
       ]
      },
      {
       "output_type": "stream",
       "stream": "stdout",
       "text": [
        " ['AlteredCharSequence.html', 'AndroidCharacter.html', 'Annotation.html', 'AutoText.html', 'BidiFormatter.Builder.html', 'BidiFormatter.html', 'BoringLayout.html', 'BoringLayout.Metrics.html', 'ClipboardManager.html', 'DynamicLayout.html', 'Editable.Factory.html', 'Editable.html', 'GetChars.html', 'Html.html', 'Html.ImageGetter.html', 'Html.TagHandler.html', 'InputFilter.AllCaps.html', 'InputFilter.html', 'InputFilter.LengthFilter.html', 'InputType.html', 'Layout.Alignment.html', 'Layout.Directions.html', 'Layout.html', 'LoginFilter.html', 'LoginFilter.PasswordFilterGMail.html', 'LoginFilter.UsernameFilterGeneric.html', 'LoginFilter.UsernameFilterGMail.html', 'NoCopySpan.Concrete.html', 'NoCopySpan.html', 'package-summary.html', 'ParcelableSpan.html', 'Selection.html', 'Spannable.Factory.html', 'Spannable.html', 'SpannableString.html', 'SpannableStringBuilder.html', 'Spanned.html', 'SpannedString.html', 'SpanWatcher.html', 'StaticLayout.html', 'TextDirectionHeuristic.html', 'TextDirectionHeuristics.html', 'TextPaint.html', 'TextUtils.EllipsizeCallback.html', 'TextUtils.html', 'TextUtils.SimpleStringSplitter.html', 'TextUtils.StringSplitter.html', 'TextUtils.TruncateAt.html', 'TextWatcher.html']\n",
        "d:\\android\\android-sdk\\docs\\reference\\android\\text\\format ['DateFormat.html', 'DateUtils.html', 'Formatter.html', 'package-summary.html', 'Time.html']\n",
        "d:\\android\\android-sdk\\docs\\reference\\android\\text\\method ['ArrowKeyMovementMethod.html', 'BaseKeyListener.html', 'BaseMovementMethod.html', 'CharacterPickerDialog.html', 'DateKeyListener.html', 'DateTimeKeyListener.html', 'DialerKeyListener.html', 'DigitsKeyListener.html', 'HideReturnsTransformationMethod.html', 'KeyListener.html', 'LinkMovementMethod.html', 'MetaKeyKeyListener.html', 'MovementMethod.html', 'MultiTapKeyListener.html', 'NumberKeyListener.html', 'package-summary.html', 'PasswordTransformationMethod.html', 'QwertyKeyListener.html', 'ReplacementTransformationMethod.html', 'ScrollingMovementMethod.html', 'SingleLineTransformationMethod.html', 'TextKeyListener.Capitalize.html', 'TextKeyListener.html', 'TimeKeyListener.html', 'Touch.html', 'TransformationMethod.html']\n",
        "d:\\android\\android-sdk\\docs\\reference\\android\\text\\style ['AbsoluteSizeSpan.html', 'AlignmentSpan.html', 'AlignmentSpan.Standard.html', 'BackgroundColorSpan.html', 'BulletSpan.html', 'CharacterStyle.html', 'ClickableSpan.html', 'DrawableMarginSpan.html', 'DynamicDrawableSpan.html', 'EasyEditSpan.html', 'ForegroundColorSpan.html', 'IconMarginSpan.html', 'ImageSpan.html', 'LeadingMarginSpan.html', 'LeadingMarginSpan.LeadingMarginSpan2.html', 'LeadingMarginSpan.Standard.html', 'LineBackgroundSpan.html', 'LineHeightSpan.html', 'LineHeightSpan.WithDensity.html', 'LocaleSpan.html', 'MaskFilterSpan.html', 'MetricAffectingSpan.html', 'package-summary.html', 'ParagraphStyle.html', 'QuoteSpan.html', 'RasterizerSpan.html', 'RelativeSizeSpan.html', 'ReplacementSpan.html', 'ScaleXSpan.html', 'StrikethroughSpan.html', 'StyleSpan.html', 'SubscriptSpan.html', 'SuggestionSpan.html', 'SuperscriptSpan.html', 'TabStopSpan.html', 'TabStopSpan.Standard.html', 'TextAppearanceSpan.html', 'TtsSpan.Builder.html', 'TtsSpan.CardinalBuilder.html', 'TtsSpan.DateBuilder.html', 'TtsSpan.DecimalBuilder.html', 'TtsSpan.DigitsBuilder.html', 'TtsSpan.ElectronicBuilder.html', 'TtsSpan.FractionBuilder.html', 'TtsSpan.html', 'TtsSpan.MeasureBuilder.html', 'TtsSpan.MoneyBuilder.html', 'TtsSpan.OrdinalBuilder.html', 'TtsSpan.SemioticClassBuilder.html', 'TtsSpan.TelephoneBuilder.html', 'TtsSpan.TextBuilder.html', 'TtsSpan.TimeBuilder.html', 'TtsSpan.VerbatimBuilder.html', 'TypefaceSpan.html', 'UnderlineSpan.html', 'UpdateAppearance.html', 'UpdateLayout.html', 'URLSpan.html', 'WrapTogetherSpan.html']\n",
        "d:\\android\\android-sdk\\docs\\reference\\android\\text\\util"
       ]
      },
      {
       "output_type": "stream",
       "stream": "stdout",
       "text": [
        " ['Linkify.html', 'Linkify.MatchFilter.html', 'Linkify.TransformFilter.html', 'package-summary.html', 'Rfc822Token.html', 'Rfc822Tokenizer.html']\n",
        "d:\\android\\android-sdk\\docs\\reference\\android\\transition ['ArcMotion.html', 'AutoTransition.html', 'ChangeBounds.html', 'ChangeClipBounds.html', 'ChangeImageTransform.html', 'ChangeTransform.html', 'CircularPropagation.html', 'Explode.html', 'Fade.html', 'package-summary.html', 'PathMotion.html', 'PatternPathMotion.html', 'Scene.html', 'SidePropagation.html', 'Slide.html', 'Transition.EpicenterCallback.html', 'Transition.html', 'Transition.TransitionListener.html', 'TransitionInflater.html', 'TransitionManager.html', 'TransitionPropagation.html', 'TransitionSet.html', 'TransitionValues.html', 'Visibility.html', 'VisibilityPropagation.html']\n",
        "d:\\android\\android-sdk\\docs\\reference\\android\\util ['AndroidException.html', 'AndroidRuntimeException.html', 'ArrayMap.html', 'AtomicFile.html', 'AttributeSet.html', 'Base64.html', 'Base64DataException.html', 'Base64InputStream.html', 'Base64OutputStream.html', 'Config.html', 'DebugUtils.html', 'DisplayMetrics.html', 'EventLog.Event.html', 'EventLog.html', 'EventLogTags.Description.html', 'EventLogTags.html', 'FloatMath.html', 'JsonReader.html', 'JsonToken.html', 'JsonWriter.html', 'LayoutDirection.html', 'Log.html', 'LogPrinter.html', 'LongSparseArray.html', 'LruCache.html', 'MalformedJsonException.html', 'MonthDisplayHelper.html', 'MutableBoolean.html', 'MutableByte.html', 'MutableChar.html', 'MutableDouble.html', 'MutableFloat.html', 'MutableInt.html', 'MutableLong.html', 'MutableShort.html', 'NoSuchPropertyException.html', 'package-summary.html', 'Pair.html', 'Patterns.html', 'Printer.html', 'PrintStreamPrinter.html', 'PrintWriterPrinter.html', 'Property.html', 'Range.html', 'Rational.html', 'Size.html', 'SizeF.html', 'SparseArray.html', 'SparseBooleanArray.html', 'SparseIntArray.html', 'SparseLongArray.html', 'StateSet.html', 'StringBuilderPrinter.html', 'TimeFormatException.html', 'TimeUtils.html', 'TimingLogger.html', 'TypedValue.html', 'Xml.Encoding.html', 'Xml.html']\n",
        "d:\\android\\android-sdk\\docs\\reference\\android\\view"
       ]
      },
      {
       "output_type": "stream",
       "stream": "stdout",
       "text": [
        " ['AbsSavedState.html', 'ActionMode.Callback.html', 'ActionMode.html', 'ActionProvider.html', 'ActionProvider.VisibilityListener.html', 'Choreographer.FrameCallback.html', 'Choreographer.html', 'CollapsibleActionView.html', 'ContextMenu.ContextMenuInfo.html', 'ContextMenu.html', 'ContextThemeWrapper.html', 'Display.html', 'DragEvent.html', 'FocusFinder.html', 'FrameStats.html', 'GestureDetector.html', 'GestureDetector.OnDoubleTapListener.html', 'GestureDetector.OnGestureListener.html', 'GestureDetector.SimpleOnGestureListener.html', 'Gravity.html', 'HapticFeedbackConstants.html', 'InflateException.html', 'InputDevice.html', 'InputDevice.MotionRange.html', 'InputEvent.html', 'InputQueue.Callback.html', 'InputQueue.html', 'KeyCharacterMap.html', 'KeyCharacterMap.KeyData.html', 'KeyCharacterMap.UnavailableException.html', 'KeyEvent.Callback.html', 'KeyEvent.DispatcherState.html', 'KeyEvent.html', 'LayoutInflater.Factory.html', 'LayoutInflater.Factory2.html', 'LayoutInflater.Filter.html', 'LayoutInflater.html', 'Menu.html', 'MenuInflater.html', 'MenuItem.html', 'MenuItem.OnActionExpandListener.html', 'MenuItem.OnMenuItemClickListener.html', 'MotionEvent.html', 'MotionEvent.PointerCoords.html', 'MotionEvent.PointerProperties.html', 'OrientationEventListener.html', 'OrientationListener.html', 'package-summary.html', 'ScaleGestureDetector.html', 'ScaleGestureDetector.OnScaleGestureListener.html', 'ScaleGestureDetector.SimpleOnScaleGestureListener.html', 'SoundEffectConstants.html', 'SubMenu.html', 'Surface.html', 'Surface.OutOfResourcesException.html', 'SurfaceHolder.BadSurfaceTypeException.html', 'SurfaceHolder.Callback.html', 'SurfaceHolder.Callback2.html', 'SurfaceHolder.html', 'SurfaceView.html', 'TextureView.html', 'TextureView.SurfaceTextureListener.html', 'TouchDelegate.html', 'VelocityTracker.html', 'View.AccessibilityDelegate.html', 'View.BaseSavedState.html', 'View.DragShadowBuilder.html', 'View.html', 'View.MeasureSpec.html', 'View.OnApplyWindowInsetsListener.html', 'View.OnAttachStateChangeListener.html', 'View.OnClickListener.html', 'View.OnCreateContextMenuListener.html', 'View.OnDragListener.html', 'View.OnFocusChangeListener.html', 'View.OnGenericMotionListener.html', 'View.OnHoverListener.html', 'View.OnKeyListener.html', 'View.OnLayoutChangeListener.html', 'View.OnLongClickListener.html', 'View.OnSystemUiVisibilityChangeListener.html', 'View.OnTouchListener.html', 'ViewAnimationUtils.html', 'ViewConfiguration.html', 'ViewDebug.CapturedViewProperty.html', 'ViewDebug.ExportedProperty.html', 'ViewDebug.FlagToString.html', 'ViewDebug.HierarchyTraceType.html', 'ViewDebug.html', 'ViewDebug.IntToString.html', 'ViewDebug.RecyclerTraceType.html', 'ViewGroup.html', 'ViewGroup.LayoutParams.html', 'ViewGroup.MarginLayoutParams.html', 'ViewGroup.OnHierarchyChangeListener.html', 'ViewGroupOverlay.html', 'ViewManager.html', 'ViewOutlineProvider.html', 'ViewOverlay.html', 'ViewParent.html', 'ViewPropertyAnimator.html', 'ViewStub.html', 'ViewStub.OnInflateListener.html', 'ViewTreeObserver.html', 'ViewTreeObserver.OnDrawListener.html', 'ViewTreeObserver.OnGlobalFocusChangeListener.html', 'ViewTreeObserver.OnGlobalLayoutListener.html', 'ViewTreeObserver.OnPreDrawListener.html', 'ViewTreeObserver.OnScrollChangedListener.html', 'ViewTreeObserver.OnTouchModeChangeListener.html', 'ViewTreeObserver.OnWindowAttachListener.html', 'ViewTreeObserver.OnWindowFocusChangeListener.html', 'Window.Callback.html', 'Window.html', 'WindowAnimationFrameStats.html', 'WindowContentFrameStats.html', 'WindowId.FocusObserver.html', 'WindowId.html', 'WindowInsets.html', 'WindowManager.BadTokenException.html', 'WindowManager.html', 'WindowManager.InvalidDisplayException.html', 'WindowManager.LayoutParams.html']\n",
        "d:\\android\\android-sdk\\docs\\reference\\android\\view\\accessibility ['AccessibilityEvent.html', 'AccessibilityEventSource.html', 'AccessibilityManager.AccessibilityStateChangeListener.html', 'AccessibilityManager.html', 'AccessibilityManager.TouchExplorationStateChangeListener.html', 'AccessibilityNodeInfo.AccessibilityAction.html', 'AccessibilityNodeInfo.CollectionInfo.html', 'AccessibilityNodeInfo.CollectionItemInfo.html', 'AccessibilityNodeInfo.html', 'AccessibilityNodeInfo.RangeInfo.html', 'AccessibilityNodeProvider.html', 'AccessibilityRecord.html', 'AccessibilityWindowInfo.html', 'CaptioningManager.CaptioningChangeListener.html', 'CaptioningManager.CaptionStyle.html', 'CaptioningManager.html', 'package-summary.html']\n",
        "d:\\android\\android-sdk\\docs\\reference\\android\\view\\animation ['AccelerateDecelerateInterpolator.html', 'AccelerateInterpolator.html', 'AlphaAnimation.html', 'Animation.AnimationListener.html', 'Animation.Description.html', 'Animation.html', 'AnimationSet.html', 'AnimationUtils.html', 'AnticipateInterpolator.html', 'AnticipateOvershootInterpolator.html', 'BounceInterpolator.html', 'CycleInterpolator.html', 'DecelerateInterpolator.html', 'GridLayoutAnimationController.AnimationParameters.html', 'GridLayoutAnimationController.html', 'Interpolator.html', 'LayoutAnimationController.AnimationParameters.html', 'LayoutAnimationController.html', 'LinearInterpolator.html', 'OvershootInterpolator.html', 'package-summary.html', 'PathInterpolator.html', 'RotateAnimation.html', 'ScaleAnimation.html', 'Transformation.html', 'TranslateAnimation.html']\n",
        "d:\\android\\android-sdk\\docs\\reference\\android\\view\\inputmethod ['BaseInputConnection.html', 'CompletionInfo.html', 'CorrectionInfo.html', 'CursorAnchorInfo.Builder.html', 'CursorAnchorInfo.html', 'EditorInfo.html', 'ExtractedText.html', 'ExtractedTextRequest.html', 'InputBinding.html', 'InputConnection.html', 'InputConnectionWrapper.html', 'InputMethod.html', 'InputMethod.SessionCallback.html', 'InputMethodInfo.html', 'InputMethodManager.html', 'InputMethodSession.EventCallback.html', 'InputMethodSession.html', 'InputMethodSubtype.html', 'InputMethodSubtype.InputMethodSubtypeBuilder.html', 'package-summary.html']\n",
        "d:\\android\\android-sdk\\docs\\reference\\android\\view\\textservice"
       ]
      },
      {
       "output_type": "stream",
       "stream": "stdout",
       "text": [
        " ['package-summary.html', 'SentenceSuggestionsInfo.html', 'SpellCheckerInfo.html', 'SpellCheckerSession.html', 'SpellCheckerSession.SpellCheckerSessionListener.html', 'SpellCheckerSubtype.html', 'SuggestionsInfo.html', 'TextInfo.html', 'TextServicesManager.html']\n",
        "d:\\android\\android-sdk\\docs\\reference\\android\\webkit ['ClientCertRequest.html', 'ConsoleMessage.html', 'ConsoleMessage.MessageLevel.html', 'CookieManager.html', 'CookieSyncManager.html', 'DateSorter.html', 'DownloadListener.html', 'GeolocationPermissions.Callback.html', 'GeolocationPermissions.html', 'HttpAuthHandler.html', 'JavascriptInterface.html', 'JsPromptResult.html', 'JsResult.html', 'MimeTypeMap.html', 'package-summary.html', 'PermissionRequest.html', 'PluginStub.html', 'SslErrorHandler.html', 'URLUtil.html', 'ValueCallback.html', 'WebBackForwardList.html', 'WebChromeClient.CustomViewCallback.html', 'WebChromeClient.FileChooserParams.html', 'WebChromeClient.html', 'WebHistoryItem.html', 'WebIconDatabase.html', 'WebIconDatabase.IconListener.html', 'WebResourceRequest.html', 'WebResourceResponse.html', 'WebSettings.html', 'WebSettings.LayoutAlgorithm.html', 'WebSettings.PluginState.html', 'WebSettings.RenderPriority.html', 'WebSettings.TextSize.html', 'WebSettings.ZoomDensity.html', 'WebStorage.html', 'WebStorage.Origin.html', 'WebStorage.QuotaUpdater.html', 'WebView.FindListener.html', 'WebView.HitTestResult.html', 'WebView.html', 'WebView.PictureListener.html', 'WebView.WebViewTransport.html', 'WebViewClient.html', 'WebViewDatabase.html', 'WebViewFragment.html']\n",
        "d:\\android\\android-sdk\\docs\\reference\\android\\widget"
       ]
      },
      {
       "output_type": "stream",
       "stream": "stdout",
       "text": [
        " ['AbsListView.html', 'AbsListView.LayoutParams.html', 'AbsListView.MultiChoiceModeListener.html', 'AbsListView.OnScrollListener.html', 'AbsListView.RecyclerListener.html', 'AbsListView.SelectionBoundsAdjuster.html', 'AbsoluteLayout.html', 'AbsoluteLayout.LayoutParams.html', 'AbsSeekBar.html', 'AbsSpinner.html', 'ActionMenuView.html', 'ActionMenuView.LayoutParams.html', 'ActionMenuView.OnMenuItemClickListener.html', 'Adapter.html', 'AdapterView.AdapterContextMenuInfo.html', 'AdapterView.html', 'AdapterView.OnItemClickListener.html', 'AdapterView.OnItemLongClickListener.html', 'AdapterView.OnItemSelectedListener.html', 'AdapterViewAnimator.html', 'AdapterViewFlipper.html', 'Advanceable.html', 'AlphabetIndexer.html', 'AnalogClock.html', 'ArrayAdapter.html', 'AutoCompleteTextView.html', 'AutoCompleteTextView.OnDismissListener.html', 'AutoCompleteTextView.Validator.html', 'BaseAdapter.html', 'BaseExpandableListAdapter.html', 'Button.html', 'CalendarView.html', 'CalendarView.OnDateChangeListener.html', 'Checkable.html', 'CheckBox.html', 'CheckedTextView.html', 'Chronometer.html', 'Chronometer.OnChronometerTickListener.html', 'CompoundButton.html', 'CompoundButton.OnCheckedChangeListener.html', 'CursorAdapter.html', 'CursorTreeAdapter.html', 'DatePicker.html', 'DatePicker.OnDateChangedListener.html', 'DialerFilter.html', 'DigitalClock.html', 'EdgeEffect.html', 'EditText.html', 'ExpandableListAdapter.html', 'ExpandableListView.ExpandableListContextMenuInfo.html', 'ExpandableListView.html', 'ExpandableListView.OnChildClickListener.html', 'ExpandableListView.OnGroupClickListener.html', 'ExpandableListView.OnGroupCollapseListener.html', 'ExpandableListView.OnGroupExpandListener.html', 'Filter.FilterListener.html', 'Filter.FilterResults.html', 'Filter.html', 'Filterable.html', 'FilterQueryProvider.html', 'FrameLayout.html', 'FrameLayout.LayoutParams.html', 'Gallery.html', 'Gallery.LayoutParams.html', 'GridLayout.Alignment.html', 'GridLayout.html', 'GridLayout.LayoutParams.html', 'GridLayout.Spec.html', 'GridView.html', 'HeaderViewListAdapter.html', 'HeterogeneousExpandableList.html', 'HorizontalScrollView.html', 'ImageButton.html', 'ImageSwitcher.html', 'ImageView.html', 'ImageView.ScaleType.html', 'LinearLayout.html', 'LinearLayout.LayoutParams.html', 'ListAdapter.html', 'ListPopupWindow.html', 'ListView.FixedViewInfo.html', 'ListView.html', 'MediaController.html', 'MediaController.MediaPlayerControl.html', 'MultiAutoCompleteTextView.CommaTokenizer.html', 'MultiAutoCompleteTextView.html', 'MultiAutoCompleteTextView.Tokenizer.html', 'NumberPicker.Formatter.html', 'NumberPicker.html', 'NumberPicker.OnScrollListener.html', 'NumberPicker.OnValueChangeListener.html', 'OverScroller.html', 'package-summary.html', 'PopupMenu.html', 'PopupMenu.OnDismissListener.html', 'PopupMenu.OnMenuItemClickListener.html', 'PopupWindow.html', 'PopupWindow.OnDismissListener.html', 'ProgressBar.html', 'QuickContactBadge.html', 'RadioButton.html', 'RadioGroup.html', 'RadioGroup.LayoutParams.html', 'RadioGroup.OnCheckedChangeListener.html', 'RatingBar.html', 'RatingBar.OnRatingBarChangeListener.html', 'RelativeLayout.html', 'RelativeLayout.LayoutParams.html', 'RemoteViews.ActionException.html', 'RemoteViews.html', 'RemoteViews.RemoteView.html', 'RemoteViewsService.html', 'RemoteViewsService.RemoteViewsFactory.html', 'ResourceCursorAdapter.html', 'ResourceCursorTreeAdapter.html', 'Scroller.html', 'ScrollView.html', 'SearchView.html', 'SearchView.OnCloseListener.html', 'SearchView.OnQueryTextListener.html', 'SearchView.OnSuggestionListener.html', 'SectionIndexer.html', 'SeekBar.html', 'SeekBar.OnSeekBarChangeListener.html', 'ShareActionProvider.html', 'ShareActionProvider.OnShareTargetSelectedListener.html', 'SimpleAdapter.html', 'SimpleAdapter.ViewBinder.html', 'SimpleCursorAdapter.CursorToStringConverter.html', 'SimpleCursorAdapter.html', 'SimpleCursorAdapter.ViewBinder.html', 'SimpleCursorTreeAdapter.html', 'SimpleCursorTreeAdapter.ViewBinder.html', 'SimpleExpandableListAdapter.html', 'SlidingDrawer.html', 'SlidingDrawer.OnDrawerCloseListener.html', 'SlidingDrawer.OnDrawerOpenListener.html', 'SlidingDrawer.OnDrawerScrollListener.html', 'Space.html', 'Spinner.html', 'SpinnerAdapter.html', 'StackView.html', 'Switch.html', 'TabHost.html', 'TabHost.OnTabChangeListener.html', 'TabHost.TabContentFactory.html', 'TabHost.TabSpec.html', 'TableLayout.html', 'TableLayout.LayoutParams.html', 'TableRow.html', 'TableRow.LayoutParams.html', 'TabWidget.html', 'TextClock.html', 'TextSwitcher.html', 'TextView.BufferType.html', 'TextView.html', 'TextView.OnEditorActionListener.html', 'TextView.SavedState.html', 'TimePicker.html', 'TimePicker.OnTimeChangedListener.html', 'Toast.html', 'ToggleButton.html', 'Toolbar.html', 'Toolbar.LayoutParams.html', 'Toolbar.OnMenuItemClickListener.html', 'TwoLineListItem.html', 'VideoView.html', 'ViewAnimator.html', 'ViewFlipper.html', 'ViewSwitcher.html', 'ViewSwitcher.ViewFactory.html', 'WrapperListAdapter.html', 'ZoomButton.html', 'ZoomButtonsController.html', 'ZoomButtonsController.OnZoomListener.html', 'ZoomControls.html']\n",
        "d:\\android\\android-sdk\\docs\\reference\\com []\n",
        "d:\\android\\android-sdk\\docs\\reference\\com\\android []\n",
        "d:\\android\\android-sdk\\docs\\reference\\com\\android\\internal []\n",
        "d:\\android\\android-sdk\\docs\\reference\\com\\android\\internal\\backup ['package-summary.html']\n",
        "d:\\android\\android-sdk\\docs\\reference\\com\\android\\internal\\os ['package-summary.html']\n",
        "d:\\android\\android-sdk\\docs\\reference\\com\\android\\internal\\statusbar ['package-summary.html']\n",
        "d:\\android\\android-sdk\\docs\\reference\\com\\android\\internal\\widget ['package-summary.html']\n",
        "d:\\android\\android-sdk\\docs\\reference\\com\\android\\test []\n",
        "d:\\android\\android-sdk\\docs\\reference\\com\\android\\test\\runner ['MultiDexTestRunner.html', 'package-summary.html']\n",
        "d:\\android\\android-sdk\\docs\\reference\\com\\google []\n",
        "d:\\android\\android-sdk\\docs\\reference\\com\\google\\android []\n",
        "d:\\android\\android-sdk\\docs\\reference\\com\\google\\android\\gcm"
       ]
      },
      {
       "output_type": "stream",
       "stream": "stdout",
       "text": [
        " ['GCMBaseIntentService.html', 'GCMBroadcastReceiver.html', 'GCMConstants.html', 'GCMRegistrar.html', 'package-summary.html']\n",
        "d:\\android\\android-sdk\\docs\\reference\\com\\google\\android\\gcm\\server ['Constants.html', 'InvalidRequestException.html', 'Message.Builder.html', 'Message.html', 'MulticastResult.Builder.html', 'MulticastResult.html', 'package-summary.html', 'Result.Builder.html', 'Result.html', 'Sender.html']\n",
        "d:\\android\\android-sdk\\docs\\reference\\com\\google\\android\\gms ['package-summary.html', 'R.attr.html', 'R.color.html', 'R.drawable.html', 'R.html', 'R.id.html', 'R.integer.html', 'R.string.html', 'R.style.html', 'R.styleable.html']\n",
        "d:\\android\\android-sdk\\docs\\reference\\com\\google\\android\\gms\\actions"
       ]
      },
      {
       "output_type": "stream",
       "stream": "stdout",
       "text": [
        " ['package-summary.html', 'ReserveIntents.html', 'SearchIntents.html']\n",
        "d:\\android\\android-sdk\\docs\\reference\\com\\google\\android\\gms\\ads ['AdListener.html', 'AdRequest.Builder.html', 'AdRequest.html', 'AdSize.html', 'AdView.html', 'InterstitialAd.html', 'package-summary.html']\n",
        "d:\\android\\android-sdk\\docs\\reference\\com\\google\\android\\gms\\ads\\doubleclick ['AppEventListener.html', 'package-summary.html', 'PublisherAdRequest.Builder.html', 'PublisherAdRequest.html', 'PublisherAdView.html', 'PublisherInterstitialAd.html']\n",
        "d:\\android\\android-sdk\\docs\\reference\\com\\google\\android\\gms\\ads\\identifier ['AdvertisingIdClient.html', 'AdvertisingIdClient.Info.html', 'package-summary.html']\n",
        "d:\\android\\android-sdk\\docs\\reference\\com\\google\\android\\gms\\ads\\mediation ['MediationAdapter.html', 'MediationAdRequest.html', 'MediationBannerAdapter.html', 'MediationBannerListener.html', 'MediationInterstitialAdapter.html', 'MediationInterstitialListener.html', 'NetworkExtras.html', 'package-summary.html']\n",
        "d:\\android\\android-sdk\\docs\\reference\\com\\google\\android\\gms\\ads\\mediation\\admob ['AdMobExtras.html', 'package-summary.html']\n",
        "d:\\android\\android-sdk\\docs\\reference\\com\\google\\android\\gms\\ads\\mediation\\customevent"
       ]
      },
      {
       "output_type": "stream",
       "stream": "stdout",
       "text": [
        " ['CustomEvent.html', 'CustomEventBanner.html', 'CustomEventBannerListener.html', 'CustomEventExtras.html', 'CustomEventInterstitial.html', 'CustomEventInterstitialListener.html', 'CustomEventListener.html', 'package-summary.html']\n",
        "d:\\android\\android-sdk\\docs\\reference\\com\\google\\android\\gms\\ads\\purchase ['InAppPurchase.html', 'InAppPurchaseListener.html', 'InAppPurchaseResult.html', 'package-summary.html', 'PlayStorePurchaseListener.html']\n",
        "d:\\android\\android-sdk\\docs\\reference\\com\\google\\android\\gms\\ads\\search ['package-summary.html', 'SearchAdRequest.Builder.html', 'SearchAdRequest.html', 'SearchAdView.html']\n",
        "d:\\android\\android-sdk\\docs\\reference\\com\\google\\android\\gms\\analytics ['CampaignTrackingReceiver.html', 'CampaignTrackingService.html', 'ExceptionParser.html', 'ExceptionReporter.html', 'GoogleAnalytics.html', 'HitBuilders.AppViewBuilder.html', 'HitBuilders.EventBuilder.html', 'HitBuilders.ExceptionBuilder.html', 'HitBuilders.HitBuilder.html', 'HitBuilders.html', 'HitBuilders.ItemBuilder.html', 'HitBuilders.ScreenViewBuilder.html', 'HitBuilders.SocialBuilder.html', 'HitBuilders.TimingBuilder.html', 'HitBuilders.TransactionBuilder.html', 'Logger.html', 'Logger.LogLevel.html', 'package-summary.html', 'StandardExceptionParser.html', 'Tracker.html']\n",
        "d:\\android\\android-sdk\\docs\\reference\\com\\google\\android\\gms\\analytics\\ecommerce ['package-summary.html', 'Product.html', 'ProductAction.html', 'Promotion.html']\n",
        "d:\\android\\android-sdk\\docs\\reference\\com\\google\\android\\gms\\appindexing ['AppIndex.html', 'AppIndexApi.AppIndexingLink.html', 'AppIndexApi.html', 'package-summary.html']\n",
        "d:\\android\\android-sdk\\docs\\reference\\com\\google\\android\\gms\\appstate"
       ]
      },
      {
       "output_type": "stream",
       "stream": "stdout",
       "text": [
        " ['AppState.html', 'AppStateBuffer.html', 'AppStateManager.html', 'AppStateManager.StateConflictResult.html', 'AppStateManager.StateDeletedResult.html', 'AppStateManager.StateListResult.html', 'AppStateManager.StateLoadedResult.html', 'AppStateManager.StateResult.html', 'AppStateStatusCodes.html', 'package-summary.html']\n",
        "d:\\android\\android-sdk\\docs\\reference\\com\\google\\android\\gms\\auth ['AccountChangeEvent.html', 'AccountChangeEventsRequest.html', 'AccountChangeEventsResponse.html', 'GoogleAuthException.html', 'GoogleAuthUtil.html', 'GooglePlayServicesAvailabilityException.html', 'package-summary.html', 'UserRecoverableAuthException.html', 'UserRecoverableNotifiedException.html']\n",
        "d:\\android\\android-sdk\\docs\\reference\\com\\google\\android\\gms\\auth\\api ['GoogleAuthApiClientImpl.html', 'GoogleAuthApiException.html', 'GoogleAuthApiRequest.html', 'GoogleAuthApiResponse.html', 'IGoogleAuthApiCallbacks.html', 'IGoogleAuthApiCallbacks.Stub.html', 'IGoogleAuthService.html', 'IGoogleAuthService.Stub.html', 'package-summary.html']\n",
        "d:\\android\\android-sdk\\docs\\reference\\com\\google\\android\\gms\\cast ['ApplicationMetadata.html', 'Cast.ApplicationConnectionResult.html', 'Cast.CastApi.html', 'Cast.CastOptions.Builder.html', 'Cast.CastOptions.html', 'Cast.html', 'Cast.Listener.html', 'Cast.MessageReceivedCallback.html', 'CastDevice.html', 'CastMediaControlIntent.html', 'CastStatusCodes.html', 'LaunchOptions.Builder.html', 'LaunchOptions.html', 'MediaInfo.Builder.html', 'MediaInfo.html', 'MediaMetadata.html', 'MediaStatus.html', 'MediaTrack.Builder.html', 'MediaTrack.html', 'package-summary.html', 'RemoteMediaPlayer.html', 'RemoteMediaPlayer.MediaChannelResult.html', 'RemoteMediaPlayer.OnMetadataUpdatedListener.html', 'RemoteMediaPlayer.OnStatusUpdatedListener.html', 'TextTrackStyle.html']\n",
        "d:\\android\\android-sdk\\docs\\reference\\com\\google\\android\\gms\\common ['AccountPicker.html', 'ConnectionResult.html', 'ErrorDialogFragment.html', 'GooglePlayServicesClient.ConnectionCallbacks.html', 'GooglePlayServicesClient.html', 'GooglePlayServicesClient.OnConnectionFailedListener.html', 'GooglePlayServicesNotAvailableException.html', 'GooglePlayServicesRepairableException.html', 'GooglePlayServicesUtil.html', 'package-summary.html', 'Scopes.html', 'SignInButton.html', 'SupportErrorDialogFragment.html', 'UserRecoverableException.html']\n",
        "d:\\android\\android-sdk\\docs\\reference\\com\\google\\android\\gms\\common\\annotation ['KeepName.html', 'package-summary.html']\n",
        "d:\\android\\android-sdk\\docs\\reference\\com\\google\\android\\gms\\common\\api"
       ]
      },
      {
       "output_type": "stream",
       "stream": "stdout",
       "text": [
        " ['Api.ApiOptions.HasOptions.html', 'Api.ApiOptions.html', 'Api.ApiOptions.NoOptions.html', 'Api.ApiOptions.NotRequiredOptions.html', 'Api.ApiOptions.Optional.html', 'Api.html', 'Batch.Builder.html', 'Batch.html', 'BatchResult.html', 'BatchResultToken.html', 'CommonStatusCodes.html', 'GoogleApiClient.Builder.html', 'GoogleApiClient.ConnectionCallbacks.html', 'GoogleApiClient.html', 'GoogleApiClient.OnConnectionFailedListener.html', 'package-summary.html', 'PendingResult.html', 'Releasable.html', 'Result.html', 'ResultCallback.html', 'Scope.html', 'Status.html']\n",
        "d:\\android\\android-sdk\\docs\\reference\\com\\google\\android\\gms\\common\\data ['DataBuffer.html', 'DataBufferUtils.html', 'Freezable.html', 'FreezableUtils.html', 'package-summary.html']\n",
        "d:\\android\\android-sdk\\docs\\reference\\com\\google\\android\\gms\\common\\images"
       ]
      },
      {
       "output_type": "stream",
       "stream": "stdout",
       "text": [
        " ['ImageManager.html', 'ImageManager.OnImageLoadedListener.html', 'package-summary.html', 'WebImage.html']\n",
        "d:\\android\\android-sdk\\docs\\reference\\com\\google\\android\\gms\\drive ['Contents.html', 'CreateFileActivityBuilder.html', 'Drive.html', 'DriveApi.ContentsResult.html', 'DriveApi.DriveContentsResult.html', 'DriveApi.DriveIdResult.html', 'DriveApi.html', 'DriveApi.MetadataBufferResult.html', 'DriveContents.html', 'DriveFile.DownloadProgressListener.html', 'DriveFile.html', 'DriveFolder.DriveFileResult.html', 'DriveFolder.DriveFolderResult.html', 'DriveFolder.html', 'DriveId.html', 'DriveResource.html', 'DriveResource.MetadataResult.html', 'DriveStatusCodes.html', 'ExecutionOptions.Builder.html', 'ExecutionOptions.html', 'Metadata.html', 'MetadataBuffer.html', 'MetadataChangeSet.Builder.html', 'MetadataChangeSet.html', 'OpenFileActivityBuilder.html', 'package-summary.html']\n",
        "d:\\android\\android-sdk\\docs\\reference\\com\\google\\android\\gms\\drive\\events ['ChangeEvent.html', 'ChangeListener.html', 'CompletionEvent.html', 'CompletionListener.html', 'DriveEvent.html', 'DriveEvent.Listener.html', 'DriveEventService.html', 'package-summary.html', 'ResourceEvent.html']\n",
        "d:\\android\\android-sdk\\docs\\reference\\com\\google\\android\\gms\\drive\\metadata"
       ]
      },
      {
       "output_type": "stream",
       "stream": "stdout",
       "text": [
        " ['MetadataField.html', 'package-summary.html', 'SearchableCollectionMetadataField.html', 'SearchableMetadataField.html', 'SearchableOrderedMetadataField.html', 'SortableMetadataField.html']\n",
        "d:\\android\\android-sdk\\docs\\reference\\com\\google\\android\\gms\\drive\\query ['Filter.html', 'Filters.html', 'package-summary.html', 'Query.Builder.html', 'Query.html', 'SearchableField.html', 'SortableField.html', 'SortOrder.Builder.html', 'SortOrder.html']\n",
        "d:\\android\\android-sdk\\docs\\reference\\com\\google\\android\\gms\\drive\\widget ['DataBufferAdapter.html', 'package-summary.html']\n",
        "d:\\android\\android-sdk\\docs\\reference\\com\\google\\android\\gms\\fitness ['BleApi.html', 'ConfigApi.html', 'Fitness.html', 'FitnessActivities.html', 'FitnessIntents.html', 'FitnessScopes.html', 'FitnessStatusCodes.html', 'HistoryApi.html', 'package-summary.html', 'RecordingApi.html', 'SensorsApi.html', 'SessionsApi.html', 'ViewDataIntentBuilder.html', 'ViewSessionIntentBuilder.html']\n",
        "d:\\android\\android-sdk\\docs\\reference\\com\\google\\android\\gms\\fitness\\data ['AggregateDataTypes.html', 'BleDevice.html', 'Bucket.html', 'DataPoint.html', 'DataSet.html', 'DataSource.Builder.html', 'DataSource.html', 'DataType.html', 'DataTypes.html', 'Device.html', 'Field.html', 'Fields.html', 'package-summary.html', 'Session.Builder.html', 'Session.html', 'Subscription.html', 'Value.html']\n",
        "d:\\android\\android-sdk\\docs\\reference\\com\\google\\android\\gms\\fitness\\request"
       ]
      },
      {
       "output_type": "stream",
       "stream": "stdout",
       "text": [
        " ['BleScanCallback.html', 'DataDeleteRequest.Builder.html', 'DataDeleteRequest.html', 'DataInsertRequest.Builder.html', 'DataInsertRequest.html', 'DataReadRequest.Builder.html', 'DataReadRequest.html', 'DataSourceListener.html', 'DataSourcesRequest.Builder.html', 'DataSourcesRequest.html', 'DataTypeCreateRequest.Builder.html', 'DataTypeCreateRequest.html', 'package-summary.html', 'SensorRequest.Builder.html', 'SensorRequest.html', 'SessionInsertRequest.Builder.html', 'SessionInsertRequest.html', 'SessionReadRequest.Builder.html', 'SessionReadRequest.html', 'StartBleScanRequest.Builder.html', 'StartBleScanRequest.html', 'UnclaimBleDeviceRequest.html']\n",
        "d:\\android\\android-sdk\\docs\\reference\\com\\google\\android\\gms\\fitness\\result ['BleDevicesResult.html', 'DataReadResult.html', 'DataSourcesResult.html', 'DataTypeResult.html', 'ListSubscriptionsResult.html', 'package-summary.html', 'SessionReadResult.html', 'SessionStopResult.html']\n",
        "d:\\android\\android-sdk\\docs\\reference\\com\\google\\android\\gms\\fitness\\service ['FitnessSensorService.html', 'FitnessSensorServiceRequest.html', 'package-summary.html', 'SensorEventDispatcher.html']\n",
        "d:\\android\\android-sdk\\docs\\reference\\com\\google\\android\\gms\\games"
       ]
      },
      {
       "output_type": "stream",
       "stream": "stdout",
       "text": [
        " ['Game.html', 'GameBuffer.html', 'GameEntity.html', 'Games.GamesOptions.Builder.html', 'Games.GamesOptions.html', 'Games.html', 'GamesActivityResultCodes.html', 'GamesMetadata.html', 'GamesMetadata.LoadGamesResult.html', 'GamesStatusCodes.html', 'Notifications.html', 'package-summary.html', 'PageDirection.html', 'Player.html', 'PlayerBuffer.html', 'PlayerEntity.html', 'PlayerLevel.html', 'PlayerLevelInfo.html', 'Players.html', 'Players.LoadPlayersResult.html', 'Players.LoadProfileSettingsResult.html']\n",
        "d:\\android\\android-sdk\\docs\\reference\\com\\google\\android\\gms\\games\\achievement ['Achievement.html', 'AchievementBuffer.html', 'AchievementEntity.html', 'Achievements.html', 'Achievements.LoadAchievementsResult.html', 'Achievements.UpdateAchievementResult.html', 'package-summary.html']\n",
        "d:\\android\\android-sdk\\docs\\reference\\com\\google\\android\\gms\\games\\event ['Event.html', 'EventBuffer.html', 'EventEntity.html', 'Events.html', 'Events.LoadEventsResult.html', 'package-summary.html']\n",
        "d:\\android\\android-sdk\\docs\\reference\\com\\google\\android\\gms\\games\\leaderboard ['Leaderboard.html', 'LeaderboardBuffer.html', 'Leaderboards.html', 'Leaderboards.LeaderboardMetadataResult.html', 'Leaderboards.LoadPlayerScoreResult.html', 'Leaderboards.LoadScoresResult.html', 'Leaderboards.SubmitScoreResult.html', 'LeaderboardScore.html', 'LeaderboardScoreBuffer.html', 'LeaderboardVariant.html', 'package-summary.html', 'ScoreSubmissionData.html', 'ScoreSubmissionData.Result.html']\n",
        "d:\\android\\android-sdk\\docs\\reference\\com\\google\\android\\gms\\games\\multiplayer"
       ]
      },
      {
       "output_type": "stream",
       "stream": "stdout",
       "text": [
        " ['Invitation.html', 'InvitationBuffer.html', 'InvitationEntity.html', 'Invitations.html', 'Invitations.LoadInvitationsResult.html', 'Multiplayer.html', 'OnInvitationReceivedListener.html', 'package-summary.html', 'Participant.html', 'ParticipantBuffer.html', 'ParticipantEntity.html', 'ParticipantResult.html', 'ParticipantUtils.html', 'Participatable.html']\n",
        "d:\\android\\android-sdk\\docs\\reference\\com\\google\\android\\gms\\games\\multiplayer\\realtime ['package-summary.html', 'RealTimeMessage.html', 'RealTimeMessageReceivedListener.html', 'RealTimeMultiplayer.html', 'RealTimeMultiplayer.ReliableMessageSentCallback.html', 'RealTimeSocket.html', 'Room.html', 'RoomConfig.Builder.html', 'RoomConfig.html', 'RoomEntity.html', 'RoomStatusUpdateListener.html', 'RoomUpdateListener.html']\n",
        "d:\\android\\android-sdk\\docs\\reference\\com\\google\\android\\gms\\games\\multiplayer\\turnbased ['LoadMatchesResponse.html', 'OnTurnBasedMatchUpdateReceivedListener.html', 'package-summary.html', 'TurnBasedMatch.html', 'TurnBasedMatchBuffer.html', 'TurnBasedMatchConfig.Builder.html', 'TurnBasedMatchConfig.html', 'TurnBasedMatchEntity.html', 'TurnBasedMultiplayer.CancelMatchResult.html', 'TurnBasedMultiplayer.html', 'TurnBasedMultiplayer.InitiateMatchResult.html', 'TurnBasedMultiplayer.LeaveMatchResult.html', 'TurnBasedMultiplayer.LoadMatchesResult.html', 'TurnBasedMultiplayer.LoadMatchResult.html', 'TurnBasedMultiplayer.UpdateMatchResult.html']\n",
        "d:\\android\\android-sdk\\docs\\reference\\com\\google\\android\\gms\\games\\quest ['Milestone.html', 'MilestoneBuffer.html', 'MilestoneEntity.html', 'package-summary.html', 'Quest.html', 'QuestBuffer.html', 'QuestEntity.html', 'Quests.AcceptQuestResult.html', 'Quests.ClaimMilestoneResult.html', 'Quests.html', 'Quests.LoadQuestsResult.html', 'QuestUpdateListener.html']\n",
        "d:\\android\\android-sdk\\docs\\reference\\com\\google\\android\\gms\\games\\request"
       ]
      },
      {
       "output_type": "stream",
       "stream": "stdout",
       "text": [
        " ['GameRequest.html', 'GameRequestBuffer.html', 'GameRequestEntity.html', 'OnRequestReceivedListener.html', 'package-summary.html', 'Requests.html', 'Requests.LoadRequestsResult.html', 'Requests.UpdateRequestsResult.html']\n",
        "d:\\android\\android-sdk\\docs\\reference\\com\\google\\android\\gms\\games\\snapshot ['package-summary.html', 'Snapshot.html', 'SnapshotContents.html', 'SnapshotEntity.html', 'SnapshotMetadata.html', 'SnapshotMetadataBuffer.html', 'SnapshotMetadataChange.Builder.html', 'SnapshotMetadataChange.html', 'SnapshotMetadataEntity.html', 'Snapshots.CommitSnapshotResult.html', 'Snapshots.DeleteSnapshotResult.html', 'Snapshots.html', 'Snapshots.LoadSnapshotsResult.html', 'Snapshots.OpenSnapshotResult.html']\n",
        "d:\\android\\android-sdk\\docs\\reference\\com\\google\\android\\gms\\gcm ['GoogleCloudMessaging.html', 'package-summary.html', 'Task.html']\n",
        "d:\\android\\android-sdk\\docs\\reference\\com\\google\\android\\gms\\identity []\n",
        "d:\\android\\android-sdk\\docs\\reference\\com\\google\\android\\gms\\identity\\intents ['Address.AddressOptions.html', 'Address.html', 'AddressConstants.ErrorCodes.html', 'AddressConstants.Extras.html', 'AddressConstants.html', 'AddressConstants.ResultCodes.html', 'AddressConstants.Themes.html', 'package-summary.html', 'UserAddressRequest.Builder.html', 'UserAddressRequest.html']\n",
        "d:\\android\\android-sdk\\docs\\reference\\com\\google\\android\\gms\\identity\\intents\\model ['CountrySpecification.html', 'package-summary.html', 'UserAddress.html']\n",
        "d:\\android\\android-sdk\\docs\\reference\\com\\google\\android\\gms\\location"
       ]
      },
      {
       "output_type": "stream",
       "stream": "stdout",
       "text": [
        " ['ActivityRecognition.html', 'ActivityRecognitionApi.html', 'ActivityRecognitionClient.html', 'ActivityRecognitionResult.html', 'DetectedActivity.html', 'FusedLocationProviderApi.html', 'Geofence.Builder.html', 'Geofence.html', 'GeofenceStatusCodes.html', 'GeofencingApi.html', 'GeofencingEvent.html', 'LocationClient.html', 'LocationClient.OnAddGeofencesResultListener.html', 'LocationClient.OnRemoveGeofencesResultListener.html', 'LocationListener.html', 'LocationRequest.html', 'LocationServices.html', 'LocationStatusCodes.html', 'package-summary.html']\n",
        "d:\\android\\android-sdk\\docs\\reference\\com\\google\\android\\gms\\maps ['CameraUpdate.html', 'CameraUpdateFactory.html', 'GoogleMap.CancelableCallback.html', 'GoogleMap.html', 'GoogleMap.InfoWindowAdapter.html', 'GoogleMap.OnCameraChangeListener.html', 'GoogleMap.OnIndoorStateChangeListener.html', 'GoogleMap.OnInfoWindowClickListener.html', 'GoogleMap.OnMapClickListener.html', 'GoogleMap.OnMapLoadedCallback.html', 'GoogleMap.OnMapLongClickListener.html', 'GoogleMap.OnMarkerClickListener.html', 'GoogleMap.OnMarkerDragListener.html', 'GoogleMap.OnMyLocationButtonClickListener.html', 'GoogleMap.OnMyLocationChangeListener.html', 'GoogleMap.SnapshotReadyCallback.html', 'GoogleMapOptions.html', 'LocationSource.html', 'LocationSource.OnLocationChangedListener.html', 'MapFragment.html', 'MapsInitializer.html', 'MapView.html', 'package-summary.html', 'Projection.html', 'StreetViewPanorama.html', 'StreetViewPanorama.OnStreetViewPanoramaCameraChangeListener.html', 'StreetViewPanorama.OnStreetViewPanoramaChangeListener.html', 'StreetViewPanorama.OnStreetViewPanoramaClickListener.html', 'StreetViewPanoramaFragment.html', 'StreetViewPanoramaOptions.html', 'StreetViewPanoramaView.html', 'SupportMapFragment.html', 'SupportStreetViewPanoramaFragment.html', 'UiSettings.html']\n",
        "d:\\android\\android-sdk\\docs\\reference\\com\\google\\android\\gms\\maps\\model ['BitmapDescriptor.html', 'BitmapDescriptorFactory.html', 'CameraPosition.Builder.html', 'CameraPosition.html', 'Circle.html', 'CircleOptions.html', 'GroundOverlay.html', 'GroundOverlayOptions.html', 'IndoorBuilding.html', 'IndoorLevel.html', 'LatLng.html', 'LatLngBounds.Builder.html', 'LatLngBounds.html', 'Marker.html', 'MarkerOptions.html', 'package-summary.html', 'Polygon.html', 'PolygonOptions.html', 'Polyline.html', 'PolylineOptions.html', 'RuntimeRemoteException.html', 'StreetViewPanoramaCamera.Builder.html', 'StreetViewPanoramaCamera.html', 'StreetViewPanoramaLink.html', 'StreetViewPanoramaLocation.html', 'StreetViewPanoramaOrientation.Builder.html', 'StreetViewPanoramaOrientation.html', 'Tile.html', 'TileOverlay.html', 'TileOverlayOptions.html', 'TileProvider.html', 'UrlTileProvider.html', 'VisibleRegion.html']\n",
        "d:\\android\\android-sdk\\docs\\reference\\com\\google\\android\\gms\\panorama"
       ]
      },
      {
       "output_type": "stream",
       "stream": "stdout",
       "text": [
        " ['package-summary.html', 'Panorama.html', 'PanoramaApi.html', 'PanoramaApi.PanoramaResult.html']\n",
        "d:\\android\\android-sdk\\docs\\reference\\com\\google\\android\\gms\\plus ['Account.html', 'Moments.html', 'Moments.LoadMomentsResult.html', 'package-summary.html', 'People.html', 'People.LoadPeopleResult.html', 'People.OrderBy.html', 'Plus.html', 'Plus.PlusOptions.Builder.html', 'Plus.PlusOptions.html', 'PlusClient.Builder.html', 'PlusClient.html', 'PlusClient.OnAccessRevokedListener.html', 'PlusClient.OnMomentsLoadedListener.html', 'PlusClient.OnPeopleLoadedListener.html', 'PlusClient.OrderBy.html', 'PlusOneButton.DefaultOnPlusOneClickListener.html', 'PlusOneButton.html', 'PlusOneButton.OnPlusOneClickListener.html', 'PlusOneDummyView.html', 'PlusShare.Builder.html', 'PlusShare.html']\n",
        "d:\\android\\android-sdk\\docs\\reference\\com\\google\\android\\gms\\plus\\model []\n",
        "d:\\android\\android-sdk\\docs\\reference\\com\\google\\android\\gms\\plus\\model\\moments ['ItemScope.Builder.html', 'ItemScope.html', 'Moment.Builder.html', 'Moment.html', 'MomentBuffer.html', 'package-summary.html']\n",
        "d:\\android\\android-sdk\\docs\\reference\\com\\google\\android\\gms\\plus\\model\\people"
       ]
      },
      {
       "output_type": "stream",
       "stream": "stdout",
       "text": [
        " ['package-summary.html', 'Person.AgeRange.html', 'Person.Cover.CoverInfo.html', 'Person.Cover.CoverPhoto.html', 'Person.Cover.html', 'Person.Cover.Layout.html', 'Person.Gender.html', 'Person.html', 'Person.Image.html', 'Person.Name.html', 'Person.ObjectType.html', 'Person.Organizations.html', 'Person.Organizations.Type.html', 'Person.PlacesLived.html', 'Person.RelationshipStatus.html', 'Person.Urls.html', 'Person.Urls.Type.html', 'PersonBuffer.html']\n",
        "d:\\android\\android-sdk\\docs\\reference\\com\\google\\android\\gms\\security ['package-summary.html', 'ProviderInstaller.html', 'ProviderInstaller.ProviderInstallListener.html']\n",
        "d:\\android\\android-sdk\\docs\\reference\\com\\google\\android\\gms\\tagmanager ['Container.FunctionCallMacroCallback.html', 'Container.FunctionCallTagCallback.html', 'Container.html', 'ContainerHolder.ContainerAvailableListener.html', 'ContainerHolder.html', 'DataLayer.html', 'InstallReferrerReceiver.html', 'InstallReferrerService.html', 'package-summary.html', 'PreviewActivity.html', 'TagManager.html']\n",
        "d:\\android\\android-sdk\\docs\\reference\\com\\google\\android\\gms\\wallet ['Address.html', 'Cart.Builder.html', 'Cart.html', 'CountrySpecification.html', 'EnableWalletOptimizationReceiver.html', 'FullWallet.html', 'FullWalletRequest.Builder.html', 'FullWalletRequest.html', 'InstrumentInfo.html', 'LineItem.Builder.html', 'LineItem.html', 'LineItem.Role.html', 'LoyaltyWalletObject.html', 'MaskedWallet.Builder.html', 'MaskedWallet.html', 'MaskedWalletRequest.Builder.html', 'MaskedWalletRequest.html', 'NotifyTransactionStatusRequest.Builder.html', 'NotifyTransactionStatusRequest.html', 'NotifyTransactionStatusRequest.Status.Error.html', 'NotifyTransactionStatusRequest.Status.html', 'OfferWalletObject.html', 'package-summary.html', 'Payments.html', 'ProxyCard.html', 'Wallet.html', 'Wallet.WalletOptions.Builder.html', 'Wallet.WalletOptions.html', 'WalletConstants.html']\n",
        "d:\\android\\android-sdk\\docs\\reference\\com\\google\\android\\gms\\wallet\\fragment"
       ]
      },
      {
       "output_type": "stream",
       "stream": "stdout",
       "text": [
        " ['BuyButtonAppearance.html', 'BuyButtonText.html', 'Dimension.html', 'package-summary.html', 'SupportWalletFragment.html', 'SupportWalletFragment.OnStateChangedListener.html', 'WalletFragment.html', 'WalletFragment.OnStateChangedListener.html', 'WalletFragmentInitParams.Builder.html', 'WalletFragmentInitParams.html', 'WalletFragmentMode.html', 'WalletFragmentOptions.Builder.html', 'WalletFragmentOptions.html', 'WalletFragmentState.html', 'WalletFragmentStyle.html', 'WalletLogoImageType.html']\n",
        "d:\\android\\android-sdk\\docs\\reference\\com\\google\\android\\gms\\wearable ['Asset.html', 'DataApi.DataItemResult.html', 'DataApi.DataListener.html', 'DataApi.DeleteDataItemsResult.html', 'DataApi.GetFdForAssetResult.html', 'DataApi.html', 'DataEvent.html', 'DataEventBuffer.html', 'DataItem.html', 'DataItemAsset.html', 'DataItemBuffer.html', 'DataMap.html', 'DataMapItem.html', 'MessageApi.html', 'MessageApi.MessageListener.html', 'MessageApi.SendMessageResult.html', 'MessageEvent.html', 'Node.html', 'NodeApi.GetConnectedNodesResult.html', 'NodeApi.GetLocalNodeResult.html', 'NodeApi.html', 'NodeApi.NodeListener.html', 'package-summary.html', 'PutDataMapRequest.html', 'PutDataRequest.html', 'Wearable.html', 'Wearable.WearableOptions.Builder.html', 'Wearable.WearableOptions.html', 'WearableListenerService.html', 'WearableStatusCodes.html']\n",
        "d:\\android\\android-sdk\\docs\\reference\\dalvik []\n",
        "d:\\android\\android-sdk\\docs\\reference\\dalvik\\annotation"
       ]
      },
      {
       "output_type": "stream",
       "stream": "stdout",
       "text": [
        " ['package-summary.html', 'TestTarget.html', 'TestTargetClass.html']\n",
        "d:\\android\\android-sdk\\docs\\reference\\dalvik\\bytecode ['OpcodeInfo.html', 'Opcodes.html', 'package-summary.html']\n",
        "d:\\android\\android-sdk\\docs\\reference\\dalvik\\system ['BaseDexClassLoader.html', 'DexClassLoader.html', 'DexFile.html', 'package-summary.html', 'PathClassLoader.html']\n",
        "d:\\android\\android-sdk\\docs\\reference\\java"
       ]
      },
      {
       "output_type": "stream",
       "stream": "stdout",
       "text": [
        " []\n",
        "d:\\android\\android-sdk\\docs\\reference\\java\\awt []\n",
        "d:\\android\\android-sdk\\docs\\reference\\java\\awt\\font ['NumericShaper.html', 'package-summary.html', 'TextAttribute.html']\n",
        "d:\\android\\android-sdk\\docs\\reference\\java\\beans ['IndexedPropertyChangeEvent.html', 'package-summary.html', 'PropertyChangeEvent.html', 'PropertyChangeListener.html', 'PropertyChangeListenerProxy.html', 'PropertyChangeSupport.html']\n",
        "d:\\android\\android-sdk\\docs\\reference\\java\\io ['BufferedInputStream.html', 'BufferedOutputStream.html', 'BufferedReader.html', 'BufferedWriter.html', 'ByteArrayInputStream.html', 'ByteArrayOutputStream.html', 'CharArrayReader.html', 'CharArrayWriter.html', 'CharConversionException.html', 'Closeable.html', 'Console.html', 'DataInput.html', 'DataInputStream.html', 'DataOutput.html', 'DataOutputStream.html', 'EOFException.html', 'Externalizable.html', 'File.html', 'FileDescriptor.html', 'FileFilter.html', 'FileInputStream.html', 'FilenameFilter.html', 'FileNotFoundException.html', 'FileOutputStream.html', 'FilePermission.html', 'FileReader.html', 'FileWriter.html', 'FilterInputStream.html', 'FilterOutputStream.html', 'FilterReader.html', 'FilterWriter.html', 'Flushable.html', 'InputStream.html', 'InputStreamReader.html', 'InterruptedIOException.html', 'InvalidClassException.html', 'InvalidObjectException.html', 'IOError.html', 'IOException.html', 'LineNumberInputStream.html', 'LineNumberReader.html', 'NotActiveException.html', 'NotSerializableException.html', 'ObjectInput.html', 'ObjectInputStream.GetField.html', 'ObjectInputStream.html', 'ObjectInputValidation.html', 'ObjectOutput.html', 'ObjectOutputStream.html', 'ObjectOutputStream.PutField.html', 'ObjectStreamClass.html', 'ObjectStreamConstants.html', 'ObjectStreamException.html', 'ObjectStreamField.html', 'OptionalDataException.html', 'OutputStream.html', 'OutputStreamWriter.html', 'package-summary.html', 'PipedInputStream.html', 'PipedOutputStream.html', 'PipedReader.html', 'PipedWriter.html', 'PrintStream.html', 'PrintWriter.html', 'PushbackInputStream.html', 'PushbackReader.html', 'RandomAccessFile.html', 'Reader.html', 'SequenceInputStream.html', 'Serializable.html', 'SerializablePermission.html', 'StreamCorruptedException.html', 'StreamTokenizer.html', 'StringBufferInputStream.html', 'StringReader.html', 'StringWriter.html', 'SyncFailedException.html', 'UnsupportedEncodingException.html', 'UTFDataFormatException.html', 'WriteAbortedException.html', 'Writer.html']\n",
        "d:\\android\\android-sdk\\docs\\reference\\java\\lang"
       ]
      },
      {
       "output_type": "stream",
       "stream": "stdout",
       "text": [
        " ['AbstractMethodError.html', 'Appendable.html', 'ArithmeticException.html', 'ArrayIndexOutOfBoundsException.html', 'ArrayStoreException.html', 'AssertionError.html', 'AutoCloseable.html', 'Boolean.html', 'Byte.html', 'Character.html', 'Character.Subset.html', 'Character.UnicodeBlock.html', 'CharSequence.html', 'Class.html', 'ClassCastException.html', 'ClassCircularityError.html', 'ClassFormatError.html', 'ClassLoader.html', 'ClassNotFoundException.html', 'Cloneable.html', 'CloneNotSupportedException.html', 'Comparable.html', 'Compiler.html', 'Deprecated.html', 'Double.html', 'Enum.html', 'EnumConstantNotPresentException.html', 'Error.html', 'Exception.html', 'ExceptionInInitializerError.html', 'Float.html', 'IllegalAccessError.html', 'IllegalAccessException.html', 'IllegalArgumentException.html', 'IllegalMonitorStateException.html', 'IllegalStateException.html', 'IllegalThreadStateException.html', 'IncompatibleClassChangeError.html', 'IndexOutOfBoundsException.html', 'InheritableThreadLocal.html', 'InstantiationError.html', 'InstantiationException.html', 'Integer.html', 'InternalError.html', 'InterruptedException.html', 'Iterable.html', 'LinkageError.html', 'Long.html', 'Math.html', 'NegativeArraySizeException.html', 'NoClassDefFoundError.html', 'NoSuchFieldError.html', 'NoSuchFieldException.html', 'NoSuchMethodError.html', 'NoSuchMethodException.html', 'NullPointerException.html', 'Number.html', 'NumberFormatException.html', 'Object.html', 'OutOfMemoryError.html', 'Override.html', 'package-summary.html', 'Package.html', 'Process.html', 'ProcessBuilder.html', 'Readable.html', 'ReflectiveOperationException.html', 'Runnable.html', 'Runtime.html', 'RuntimeException.html', 'RuntimePermission.html', 'SafeVarargs.html', 'SecurityException.html', 'SecurityManager.html', 'Short.html', 'StackOverflowError.html', 'StackTraceElement.html', 'StrictMath.html', 'String.html', 'StringBuffer.html', 'StringBuilder.html', 'StringIndexOutOfBoundsException.html', 'SuppressWarnings.html', 'System.html', 'Thread.html', 'Thread.State.html', 'Thread.UncaughtExceptionHandler.html', 'ThreadDeath.html', 'ThreadGroup.html', 'ThreadLocal.html', 'Throwable.html', 'TypeNotPresentException.html', 'UnknownError.html', 'UnsatisfiedLinkError.html', 'UnsupportedClassVersionError.html', 'UnsupportedOperationException.html', 'VerifyError.html', 'VirtualMachineError.html', 'Void.html']\n",
        "d:\\android\\android-sdk\\docs\\reference\\java\\lang\\annotation ['Annotation.html', 'AnnotationFormatError.html', 'AnnotationTypeMismatchException.html', 'Documented.html', 'ElementType.html', 'IncompleteAnnotationException.html', 'Inherited.html', 'package-summary.html', 'Retention.html', 'RetentionPolicy.html', 'Target.html']\n",
        "d:\\android\\android-sdk\\docs\\reference\\java\\lang\\ref ['package-summary.html', 'PhantomReference.html', 'Reference.html', 'ReferenceQueue.html', 'SoftReference.html', 'WeakReference.html']\n",
        "d:\\android\\android-sdk\\docs\\reference\\java\\lang\\reflect ['AccessibleObject.html', 'AnnotatedElement.html', 'Array.html', 'Constructor.html', 'Field.html', 'GenericArrayType.html', 'GenericDeclaration.html', 'GenericSignatureFormatError.html', 'InvocationHandler.html', 'InvocationTargetException.html', 'MalformedParameterizedTypeException.html', 'Member.html', 'Method.html', 'Modifier.html', 'package-summary.html', 'ParameterizedType.html', 'Proxy.html', 'ReflectPermission.html', 'Type.html', 'TypeVariable.html', 'UndeclaredThrowableException.html', 'WildcardType.html']\n",
        "d:\\android\\android-sdk\\docs\\reference\\java\\math ['BigDecimal.html', 'BigInteger.html', 'MathContext.html', 'package-summary.html', 'RoundingMode.html']\n",
        "d:\\android\\android-sdk\\docs\\reference\\java\\net"
       ]
      },
      {
       "output_type": "stream",
       "stream": "stdout",
       "text": [
        " ['Authenticator.html', 'Authenticator.RequestorType.html', 'BindException.html', 'CacheRequest.html', 'CacheResponse.html', 'ConnectException.html', 'ContentHandler.html', 'ContentHandlerFactory.html', 'CookieHandler.html', 'CookieManager.html', 'CookiePolicy.html', 'CookieStore.html', 'DatagramPacket.html', 'DatagramSocket.html', 'DatagramSocketImpl.html', 'DatagramSocketImplFactory.html', 'FileNameMap.html', 'HttpCookie.html', 'HttpRetryException.html', 'HttpURLConnection.html', 'IDN.html', 'Inet4Address.html', 'Inet6Address.html', 'InetAddress.html', 'InetSocketAddress.html', 'InterfaceAddress.html', 'JarURLConnection.html', 'MalformedURLException.html', 'MulticastSocket.html', 'NetPermission.html', 'NetworkInterface.html', 'NoRouteToHostException.html', 'package-summary.html', 'PasswordAuthentication.html', 'PortUnreachableException.html', 'ProtocolException.html', 'Proxy.html', 'Proxy.Type.html', 'ProxySelector.html', 'ResponseCache.html', 'SecureCacheResponse.html', 'ServerSocket.html', 'Socket.html', 'SocketAddress.html', 'SocketException.html', 'SocketImpl.html', 'SocketImplFactory.html', 'SocketOptions.html', 'SocketPermission.html', 'SocketTimeoutException.html', 'UnknownHostException.html', 'UnknownServiceException.html', 'URI.html', 'URISyntaxException.html', 'URL.html', 'URLClassLoader.html', 'URLConnection.html', 'URLDecoder.html', 'URLEncoder.html', 'URLStreamHandler.html', 'URLStreamHandlerFactory.html']\n",
        "d:\\android\\android-sdk\\docs\\reference\\java\\nio"
       ]
      },
      {
       "output_type": "stream",
       "stream": "stdout",
       "text": [
        " ['Buffer.html', 'BufferOverflowException.html', 'BufferUnderflowException.html', 'ByteBuffer.html', 'ByteOrder.html', 'CharBuffer.html', 'DoubleBuffer.html', 'FloatBuffer.html', 'IntBuffer.html', 'InvalidMarkException.html', 'LongBuffer.html', 'MappedByteBuffer.html', 'package-summary.html', 'ReadOnlyBufferException.html', 'ShortBuffer.html']\n",
        "d:\\android\\android-sdk\\docs\\reference\\java\\nio\\channels ['AlreadyConnectedException.html', 'AsynchronousCloseException.html', 'ByteChannel.html', 'CancelledKeyException.html', 'Channel.html', 'Channels.html', 'ClosedByInterruptException.html', 'ClosedChannelException.html', 'ClosedSelectorException.html', 'ConnectionPendingException.html', 'DatagramChannel.html', 'FileChannel.html', 'FileChannel.MapMode.html', 'FileLock.html', 'FileLockInterruptionException.html', 'GatheringByteChannel.html', 'IllegalBlockingModeException.html', 'IllegalSelectorException.html', 'InterruptibleChannel.html', 'NoConnectionPendingException.html', 'NonReadableChannelException.html', 'NonWritableChannelException.html', 'NotYetBoundException.html', 'NotYetConnectedException.html', 'OverlappingFileLockException.html', 'package-summary.html', 'Pipe.html', 'Pipe.SinkChannel.html', 'Pipe.SourceChannel.html', 'ReadableByteChannel.html', 'ScatteringByteChannel.html', 'SelectableChannel.html', 'SelectionKey.html', 'Selector.html', 'ServerSocketChannel.html', 'SocketChannel.html', 'UnresolvedAddressException.html', 'UnsupportedAddressTypeException.html', 'WritableByteChannel.html']\n",
        "d:\\android\\android-sdk\\docs\\reference\\java\\nio\\channels\\spi ['AbstractInterruptibleChannel.html', 'AbstractSelectableChannel.html', 'AbstractSelectionKey.html', 'AbstractSelector.html', 'package-summary.html', 'SelectorProvider.html']\n",
        "d:\\android\\android-sdk\\docs\\reference\\java\\nio\\charset ['CharacterCodingException.html', 'Charset.html', 'CharsetDecoder.html', 'CharsetEncoder.html', 'CoderMalfunctionError.html', 'CoderResult.html', 'CodingErrorAction.html', 'IllegalCharsetNameException.html', 'MalformedInputException.html', 'package-summary.html', 'StandardCharsets.html', 'UnmappableCharacterException.html', 'UnsupportedCharsetException.html']\n",
        "d:\\android\\android-sdk\\docs\\reference\\java\\nio\\charset\\spi ['CharsetProvider.html', 'package-summary.html']\n",
        "d:\\android\\android-sdk\\docs\\reference\\java\\security ['AccessControlContext.html', 'AccessControlException.html', 'AccessController.html', 'AlgorithmParameterGenerator.html', 'AlgorithmParameterGeneratorSpi.html', 'AlgorithmParameters.html', 'AlgorithmParametersSpi.html', 'AllPermission.html', 'AuthProvider.html', 'BasicPermission.html', 'Certificate.html', 'CodeSigner.html', 'CodeSource.html', 'DigestException.html', 'DigestInputStream.html', 'DigestOutputStream.html', 'DomainCombiner.html', 'GeneralSecurityException.html', 'Guard.html', 'GuardedObject.html', 'Identity.html', 'IdentityScope.html', 'InvalidAlgorithmParameterException.html', 'InvalidKeyException.html', 'InvalidParameterException.html', 'Key.html', 'KeyException.html', 'KeyFactory.html', 'KeyFactorySpi.html', 'KeyManagementException.html', 'KeyPair.html', 'KeyPairGenerator.html', 'KeyPairGeneratorSpi.html', 'KeyRep.html', 'KeyRep.Type.html', 'KeyStore.Builder.html', 'KeyStore.CallbackHandlerProtection.html', 'KeyStore.Entry.html', 'KeyStore.html', 'KeyStore.LoadStoreParameter.html', 'KeyStore.PasswordProtection.html', 'KeyStore.PrivateKeyEntry.html', 'KeyStore.ProtectionParameter.html', 'KeyStore.SecretKeyEntry.html', 'KeyStore.TrustedCertificateEntry.html', 'KeyStoreException.html', 'KeyStoreSpi.html', 'MessageDigest.html', 'MessageDigestSpi.html', 'NoSuchAlgorithmException.html', 'NoSuchProviderException.html', 'package-summary.html', 'Permission.html', 'PermissionCollection.html', 'Permissions.html', 'Policy.html', 'Policy.Parameters.html', 'PolicySpi.html', 'Principal.html', 'PrivateKey.html', 'PrivilegedAction.html', 'PrivilegedActionException.html', 'PrivilegedExceptionAction.html', 'ProtectionDomain.html', 'Provider.html', 'Provider.Service.html', 'ProviderException.html', 'PublicKey.html', 'SecureClassLoader.html', 'SecureRandom.html', 'SecureRandomSpi.html', 'Security.html', 'SecurityPermission.html', 'Signature.html', 'SignatureException.html', 'SignatureSpi.html', 'SignedObject.html', 'Signer.html', 'Timestamp.html', 'UnrecoverableEntryException.html', 'UnrecoverableKeyException.html', 'UnresolvedPermission.html']\n",
        "d:\\android\\android-sdk\\docs\\reference\\java\\security\\acl"
       ]
      },
      {
       "output_type": "stream",
       "stream": "stdout",
       "text": [
        " ['Acl.html', 'AclEntry.html', 'AclNotFoundException.html', 'Group.html', 'LastOwnerException.html', 'NotOwnerException.html', 'Owner.html', 'package-summary.html', 'Permission.html']\n",
        "d:\\android\\android-sdk\\docs\\reference\\java\\security\\cert ['Certificate.CertificateRep.html', 'Certificate.html', 'CertificateEncodingException.html', 'CertificateException.html', 'CertificateExpiredException.html', 'CertificateFactory.html', 'CertificateFactorySpi.html', 'CertificateNotYetValidException.html', 'CertificateParsingException.html', 'CertPath.CertPathRep.html', 'CertPath.html', 'CertPathBuilder.html', 'CertPathBuilderException.html', 'CertPathBuilderResult.html', 'CertPathBuilderSpi.html', 'CertPathParameters.html', 'CertPathValidator.html', 'CertPathValidatorException.html', 'CertPathValidatorResult.html', 'CertPathValidatorSpi.html', 'CertSelector.html', 'CertStore.html', 'CertStoreException.html', 'CertStoreParameters.html', 'CertStoreSpi.html', 'CollectionCertStoreParameters.html', 'CRL.html', 'CRLException.html', 'CRLSelector.html', 'LDAPCertStoreParameters.html', 'package-summary.html', 'PKIXBuilderParameters.html', 'PKIXCertPathBuilderResult.html', 'PKIXCertPathChecker.html', 'PKIXCertPathValidatorResult.html', 'PKIXParameters.html', 'PolicyNode.html', 'PolicyQualifierInfo.html', 'TrustAnchor.html', 'X509Certificate.html', 'X509CertSelector.html', 'X509CRL.html', 'X509CRLEntry.html', 'X509CRLSelector.html', 'X509Extension.html']\n",
        "d:\\android\\android-sdk\\docs\\reference\\java\\security\\interfaces ['DSAKey.html', 'DSAKeyPairGenerator.html', 'DSAParams.html', 'DSAPrivateKey.html', 'DSAPublicKey.html', 'ECKey.html', 'ECPrivateKey.html', 'ECPublicKey.html', 'package-summary.html', 'RSAKey.html', 'RSAMultiPrimePrivateCrtKey.html', 'RSAPrivateCrtKey.html', 'RSAPrivateKey.html', 'RSAPublicKey.html']\n",
        "d:\\android\\android-sdk\\docs\\reference\\java\\security\\spec ['AlgorithmParameterSpec.html', 'DSAParameterSpec.html', 'DSAPrivateKeySpec.html', 'DSAPublicKeySpec.html', 'ECField.html', 'ECFieldF2m.html', 'ECFieldFp.html', 'ECGenParameterSpec.html', 'ECParameterSpec.html', 'ECPoint.html', 'ECPrivateKeySpec.html', 'ECPublicKeySpec.html', 'EllipticCurve.html', 'EncodedKeySpec.html', 'InvalidKeySpecException.html', 'InvalidParameterSpecException.html', 'KeySpec.html', 'MGF1ParameterSpec.html', 'package-summary.html', 'PKCS8EncodedKeySpec.html', 'PSSParameterSpec.html', 'RSAKeyGenParameterSpec.html', 'RSAMultiPrimePrivateCrtKeySpec.html', 'RSAOtherPrimeInfo.html', 'RSAPrivateCrtKeySpec.html', 'RSAPrivateKeySpec.html', 'RSAPublicKeySpec.html', 'X509EncodedKeySpec.html']\n",
        "d:\\android\\android-sdk\\docs\\reference\\java\\sql"
       ]
      },
      {
       "output_type": "stream",
       "stream": "stdout",
       "text": [
        " ['Array.html', 'BatchUpdateException.html', 'Blob.html', 'CallableStatement.html', 'ClientInfoStatus.html', 'Clob.html', 'Connection.html', 'DatabaseMetaData.html', 'DataTruncation.html', 'Date.html', 'Driver.html', 'DriverManager.html', 'DriverPropertyInfo.html', 'NClob.html', 'package-summary.html', 'ParameterMetaData.html', 'PreparedStatement.html', 'Ref.html', 'ResultSet.html', 'ResultSetMetaData.html', 'RowId.html', 'RowIdLifetime.html', 'Savepoint.html', 'SQLClientInfoException.html', 'SQLData.html', 'SQLDataException.html', 'SQLException.html', 'SQLFeatureNotSupportedException.html', 'SQLInput.html', 'SQLIntegrityConstraintViolationException.html', 'SQLInvalidAuthorizationSpecException.html', 'SQLNonTransientConnectionException.html', 'SQLNonTransientException.html', 'SQLOutput.html', 'SQLPermission.html', 'SQLRecoverableException.html', 'SQLSyntaxErrorException.html', 'SQLTimeoutException.html', 'SQLTransactionRollbackException.html', 'SQLTransientConnectionException.html', 'SQLTransientException.html', 'SQLWarning.html', 'SQLXML.html', 'Statement.html', 'Struct.html', 'Time.html', 'Timestamp.html', 'Types.html', 'Wrapper.html']\n",
        "d:\\android\\android-sdk\\docs\\reference\\java\\text ['Annotation.html', 'AttributedCharacterIterator.Attribute.html', 'AttributedCharacterIterator.html', 'AttributedString.html', 'Bidi.html', 'BreakIterator.html', 'CharacterIterator.html', 'ChoiceFormat.html', 'CollationElementIterator.html', 'CollationKey.html', 'Collator.html', 'DateFormat.Field.html', 'DateFormat.html', 'DateFormatSymbols.html', 'DecimalFormat.html', 'DecimalFormatSymbols.html', 'FieldPosition.html', 'Format.Field.html', 'Format.html', 'MessageFormat.Field.html', 'MessageFormat.html', 'Normalizer.Form.html', 'Normalizer.html', 'NumberFormat.Field.html', 'NumberFormat.html', 'package-summary.html', 'ParseException.html', 'ParsePosition.html', 'RuleBasedCollator.html', 'SimpleDateFormat.html', 'StringCharacterIterator.html']\n",
        "d:\\android\\android-sdk\\docs\\reference\\java\\util"
       ]
      },
      {
       "output_type": "stream",
       "stream": "stdout",
       "text": [
        " ['AbstractCollection.html', 'AbstractList.html', 'AbstractMap.html', 'AbstractMap.SimpleEntry.html', 'AbstractMap.SimpleImmutableEntry.html', 'AbstractQueue.html', 'AbstractSequentialList.html', 'AbstractSet.html', 'ArrayDeque.html', 'ArrayList.html', 'Arrays.html', 'BitSet.html', 'Calendar.html', 'Collection.html', 'Collections.html', 'Comparator.html', 'ConcurrentModificationException.html', 'Currency.html', 'Date.html', 'Deque.html', 'Dictionary.html', 'DuplicateFormatFlagsException.html', 'EmptyStackException.html', 'Enumeration.html', 'EnumMap.html', 'EnumSet.html', 'EventListener.html', 'EventListenerProxy.html', 'EventObject.html', 'FormatFlagsConversionMismatchException.html', 'Formattable.html', 'FormattableFlags.html', 'Formatter.BigDecimalLayoutForm.html', 'Formatter.html', 'FormatterClosedException.html', 'GregorianCalendar.html', 'HashMap.html', 'HashSet.html', 'Hashtable.html', 'IdentityHashMap.html', 'IllegalFormatCodePointException.html', 'IllegalFormatConversionException.html', 'IllegalFormatException.html', 'IllegalFormatFlagsException.html', 'IllegalFormatPrecisionException.html', 'IllegalFormatWidthException.html', 'IllformedLocaleException.html', 'InputMismatchException.html', 'InvalidPropertiesFormatException.html', 'Iterator.html', 'LinkedHashMap.html', 'LinkedHashSet.html', 'LinkedList.html', 'List.html', 'ListIterator.html', 'ListResourceBundle.html', 'Locale.Builder.html', 'Locale.html', 'Map.Entry.html', 'Map.html', 'MissingFormatArgumentException.html', 'MissingFormatWidthException.html', 'MissingResourceException.html', 'NavigableMap.html', 'NavigableSet.html', 'NoSuchElementException.html', 'Objects.html', 'Observable.html', 'Observer.html', 'package-summary.html', 'PriorityQueue.html', 'Properties.html', 'PropertyPermission.html', 'PropertyResourceBundle.html', 'Queue.html', 'Random.html', 'RandomAccess.html', 'ResourceBundle.Control.html', 'ResourceBundle.html', 'Scanner.html', 'ServiceConfigurationError.html', 'ServiceLoader.html', 'Set.html', 'SimpleTimeZone.html', 'SortedMap.html', 'SortedSet.html', 'Stack.html', 'StringTokenizer.html', 'Timer.html', 'TimerTask.html', 'TimeZone.html', 'TooManyListenersException.html', 'TreeMap.html', 'TreeSet.html', 'UnknownFormatConversionException.html', 'UnknownFormatFlagsException.html', 'UUID.html', 'Vector.html', 'WeakHashMap.html']\n",
        "d:\\android\\android-sdk\\docs\\reference\\java\\util\\concurrent ['AbstractExecutorService.html', 'ArrayBlockingQueue.html', 'BlockingDeque.html', 'BlockingQueue.html', 'BrokenBarrierException.html', 'Callable.html', 'CancellationException.html', 'CompletionService.html', 'ConcurrentHashMap.html', 'ConcurrentLinkedDeque.html', 'ConcurrentLinkedQueue.html', 'ConcurrentMap.html', 'ConcurrentNavigableMap.html', 'ConcurrentSkipListMap.html', 'ConcurrentSkipListSet.html', 'CopyOnWriteArrayList.html', 'CopyOnWriteArraySet.html', 'CountDownLatch.html', 'CyclicBarrier.html', 'Delayed.html', 'DelayQueue.html', 'Exchanger.html', 'ExecutionException.html', 'Executor.html', 'ExecutorCompletionService.html', 'Executors.html', 'ExecutorService.html', 'ForkJoinPool.ForkJoinWorkerThreadFactory.html', 'ForkJoinPool.html', 'ForkJoinPool.ManagedBlocker.html', 'ForkJoinTask.html', 'ForkJoinWorkerThread.html', 'Future.html', 'FutureTask.html', 'LinkedBlockingDeque.html', 'LinkedBlockingQueue.html', 'LinkedTransferQueue.html', 'package-summary.html', 'Phaser.html', 'PriorityBlockingQueue.html', 'RecursiveAction.html', 'RecursiveTask.html', 'RejectedExecutionException.html', 'RejectedExecutionHandler.html', 'RunnableFuture.html', 'RunnableScheduledFuture.html', 'ScheduledExecutorService.html', 'ScheduledFuture.html', 'ScheduledThreadPoolExecutor.html', 'Semaphore.html', 'SynchronousQueue.html', 'ThreadFactory.html', 'ThreadLocalRandom.html', 'ThreadPoolExecutor.AbortPolicy.html', 'ThreadPoolExecutor.CallerRunsPolicy.html', 'ThreadPoolExecutor.DiscardOldestPolicy.html', 'ThreadPoolExecutor.DiscardPolicy.html', 'ThreadPoolExecutor.html', 'TimeoutException.html', 'TimeUnit.html', 'TransferQueue.html']\n",
        "d:\\android\\android-sdk\\docs\\reference\\java\\util\\concurrent\\atomic ['AtomicBoolean.html', 'AtomicInteger.html', 'AtomicIntegerArray.html', 'AtomicIntegerFieldUpdater.html', 'AtomicLong.html', 'AtomicLongArray.html', 'AtomicLongFieldUpdater.html', 'AtomicMarkableReference.html', 'AtomicReference.html', 'AtomicReferenceArray.html', 'AtomicReferenceFieldUpdater.html', 'AtomicStampedReference.html', 'package-summary.html']\n",
        "d:\\android\\android-sdk\\docs\\reference\\java\\util\\concurrent\\locks ['AbstractOwnableSynchronizer.html', 'AbstractQueuedLongSynchronizer.ConditionObject.html', 'AbstractQueuedLongSynchronizer.html', 'AbstractQueuedSynchronizer.ConditionObject.html', 'AbstractQueuedSynchronizer.html', 'Condition.html', 'Lock.html', 'LockSupport.html', 'package-summary.html', 'ReadWriteLock.html', 'ReentrantLock.html', 'ReentrantReadWriteLock.html', 'ReentrantReadWriteLock.ReadLock.html', 'ReentrantReadWriteLock.WriteLock.html']\n",
        "d:\\android\\android-sdk\\docs\\reference\\java\\util\\jar ['Attributes.html', 'Attributes.Name.html', 'JarEntry.html', 'JarException.html', 'JarFile.html', 'JarInputStream.html', 'JarOutputStream.html', 'Manifest.html', 'Pack200.html', 'Pack200.Packer.html', 'Pack200.Unpacker.html', 'package-summary.html']\n",
        "d:\\android\\android-sdk\\docs\\reference\\java\\util\\logging"
       ]
      },
      {
       "output_type": "stream",
       "stream": "stdout",
       "text": [
        " ['ConsoleHandler.html', 'ErrorManager.html', 'FileHandler.html', 'Filter.html', 'Formatter.html', 'Handler.html', 'Level.html', 'Logger.html', 'LoggingMXBean.html', 'LoggingPermission.html', 'LogManager.html', 'LogRecord.html', 'MemoryHandler.html', 'package-summary.html', 'SimpleFormatter.html', 'SocketHandler.html', 'StreamHandler.html', 'XMLFormatter.html']\n",
        "d:\\android\\android-sdk\\docs\\reference\\java\\util\\prefs ['AbstractPreferences.html', 'BackingStoreException.html', 'InvalidPreferencesFormatException.html', 'NodeChangeEvent.html', 'NodeChangeListener.html', 'package-summary.html', 'PreferenceChangeEvent.html', 'PreferenceChangeListener.html', 'Preferences.html', 'PreferencesFactory.html']\n",
        "d:\\android\\android-sdk\\docs\\reference\\java\\util\\regex ['Matcher.html', 'MatchResult.html', 'package-summary.html', 'Pattern.html', 'PatternSyntaxException.html']\n",
        "d:\\android\\android-sdk\\docs\\reference\\java\\util\\zip ['Adler32.html', 'CheckedInputStream.html', 'CheckedOutputStream.html', 'Checksum.html', 'CRC32.html', 'DataFormatException.html', 'Deflater.html', 'DeflaterInputStream.html', 'DeflaterOutputStream.html', 'GZIPInputStream.html', 'GZIPOutputStream.html', 'Inflater.html', 'InflaterInputStream.html', 'InflaterOutputStream.html', 'package-summary.html', 'ZipEntry.html', 'ZipError.html', 'ZipException.html', 'ZipFile.html', 'ZipInputStream.html', 'ZipOutputStream.html']\n",
        "d:\\android\\android-sdk\\docs\\reference\\javax []\n",
        "d:\\android\\android-sdk\\docs\\reference\\javax\\crypto"
       ]
      },
      {
       "output_type": "stream",
       "stream": "stdout",
       "text": [
        " ['AEADBadTagException.html', 'BadPaddingException.html', 'Cipher.html', 'CipherInputStream.html', 'CipherOutputStream.html', 'CipherSpi.html', 'EncryptedPrivateKeyInfo.html', 'ExemptionMechanism.html', 'ExemptionMechanismException.html', 'ExemptionMechanismSpi.html', 'IllegalBlockSizeException.html', 'KeyAgreement.html', 'KeyAgreementSpi.html', 'KeyGenerator.html', 'KeyGeneratorSpi.html', 'Mac.html', 'MacSpi.html', 'NoSuchPaddingException.html', 'NullCipher.html', 'package-summary.html', 'SealedObject.html', 'SecretKey.html', 'SecretKeyFactory.html', 'SecretKeyFactorySpi.html', 'ShortBufferException.html']\n",
        "d:\\android\\android-sdk\\docs\\reference\\javax\\crypto\\interfaces ['DHKey.html', 'DHPrivateKey.html', 'DHPublicKey.html', 'package-summary.html', 'PBEKey.html']\n",
        "d:\\android\\android-sdk\\docs\\reference\\javax\\crypto\\spec ['DESedeKeySpec.html', 'DESKeySpec.html', 'DHGenParameterSpec.html', 'DHParameterSpec.html', 'DHPrivateKeySpec.html', 'DHPublicKeySpec.html', 'GCMParameterSpec.html', 'IvParameterSpec.html', 'OAEPParameterSpec.html', 'package-summary.html', 'PBEKeySpec.html', 'PBEParameterSpec.html', 'PSource.html', 'PSource.PSpecified.html', 'RC2ParameterSpec.html', 'RC5ParameterSpec.html', 'SecretKeySpec.html']\n",
        "d:\\android\\android-sdk\\docs\\reference\\javax\\microedition []\n",
        "d:\\android\\android-sdk\\docs\\reference\\javax\\microedition\\khronos []\n",
        "d:\\android\\android-sdk\\docs\\reference\\javax\\microedition\\khronos\\egl ['EGL.html', 'EGL10.html', 'EGL11.html', 'EGLConfig.html', 'EGLContext.html', 'EGLDisplay.html', 'EGLSurface.html', 'package-summary.html']\n",
        "d:\\android\\android-sdk\\docs\\reference\\javax\\microedition\\khronos\\opengles ['GL.html', 'GL10.html', 'GL10Ext.html', 'GL11.html', 'GL11Ext.html', 'GL11ExtensionPack.html', 'package-summary.html']\n",
        "d:\\android\\android-sdk\\docs\\reference\\javax\\net ['package-summary.html', 'ServerSocketFactory.html', 'SocketFactory.html']\n",
        "d:\\android\\android-sdk\\docs\\reference\\javax\\net\\ssl"
       ]
      },
      {
       "output_type": "stream",
       "stream": "stdout",
       "text": [
        " ['CertPathTrustManagerParameters.html', 'HandshakeCompletedEvent.html', 'HandshakeCompletedListener.html', 'HostnameVerifier.html', 'HttpsURLConnection.html', 'KeyManager.html', 'KeyManagerFactory.html', 'KeyManagerFactorySpi.html', 'KeyStoreBuilderParameters.html', 'ManagerFactoryParameters.html', 'package-summary.html', 'SSLContext.html', 'SSLContextSpi.html', 'SSLEngine.html', 'SSLEngineResult.HandshakeStatus.html', 'SSLEngineResult.html', 'SSLEngineResult.Status.html', 'SSLException.html', 'SSLHandshakeException.html', 'SSLKeyException.html', 'SSLParameters.html', 'SSLPeerUnverifiedException.html', 'SSLPermission.html', 'SSLProtocolException.html', 'SSLServerSocket.html', 'SSLServerSocketFactory.html', 'SSLSession.html', 'SSLSessionBindingEvent.html', 'SSLSessionBindingListener.html', 'SSLSessionContext.html', 'SSLSocket.html', 'SSLSocketFactory.html', 'TrustManager.html', 'TrustManagerFactory.html', 'TrustManagerFactorySpi.html', 'X509ExtendedKeyManager.html', 'X509KeyManager.html', 'X509TrustManager.html']\n",
        "d:\\android\\android-sdk\\docs\\reference\\javax\\security []\n",
        "d:\\android\\android-sdk\\docs\\reference\\javax\\security\\auth ['AuthPermission.html', 'Destroyable.html', 'DestroyFailedException.html', 'package-summary.html', 'PrivateCredentialPermission.html', 'Subject.html', 'SubjectDomainCombiner.html']\n",
        "d:\\android\\android-sdk\\docs\\reference\\javax\\security\\auth\\callback ['Callback.html', 'CallbackHandler.html', 'package-summary.html', 'PasswordCallback.html', 'UnsupportedCallbackException.html']\n",
        "d:\\android\\android-sdk\\docs\\reference\\javax\\security\\auth\\login ['LoginException.html', 'package-summary.html']\n",
        "d:\\android\\android-sdk\\docs\\reference\\javax\\security\\auth\\x500 ['package-summary.html', 'X500Principal.html']\n",
        "d:\\android\\android-sdk\\docs\\reference\\javax\\security\\cert ['Certificate.html', 'CertificateEncodingException.html', 'CertificateException.html', 'CertificateExpiredException.html', 'CertificateNotYetValidException.html', 'CertificateParsingException.html', 'package-summary.html', 'X509Certificate.html']\n",
        "d:\\android\\android-sdk\\docs\\reference\\javax\\sql"
       ]
      },
      {
       "output_type": "stream",
       "stream": "stdout",
       "text": [
        " ['CommonDataSource.html', 'ConnectionEvent.html', 'ConnectionEventListener.html', 'ConnectionPoolDataSource.html', 'DataSource.html', 'package-summary.html', 'PooledConnection.html', 'RowSet.html', 'RowSetEvent.html', 'RowSetInternal.html', 'RowSetListener.html', 'RowSetMetaData.html', 'RowSetReader.html', 'RowSetWriter.html', 'StatementEvent.html', 'StatementEventListener.html']\n",
        "d:\\android\\android-sdk\\docs\\reference\\javax\\xml ['package-summary.html', 'XMLConstants.html']\n",
        "d:\\android\\android-sdk\\docs\\reference\\javax\\xml\\datatype ['DatatypeConfigurationException.html', 'DatatypeConstants.Field.html', 'DatatypeConstants.html', 'DatatypeFactory.html', 'Duration.html', 'package-summary.html', 'XMLGregorianCalendar.html']\n",
        "d:\\android\\android-sdk\\docs\\reference\\javax\\xml\\namespace ['NamespaceContext.html', 'package-summary.html', 'QName.html']\n",
        "d:\\android\\android-sdk\\docs\\reference\\javax\\xml\\parsers ['DocumentBuilder.html', 'DocumentBuilderFactory.html', 'FactoryConfigurationError.html', 'package-summary.html', 'ParserConfigurationException.html', 'SAXParser.html', 'SAXParserFactory.html']\n",
        "d:\\android\\android-sdk\\docs\\reference\\javax\\xml\\transform"
       ]
      },
      {
       "output_type": "stream",
       "stream": "stdout",
       "text": [
        " ['ErrorListener.html', 'OutputKeys.html', 'package-summary.html', 'Result.html', 'Source.html', 'SourceLocator.html', 'Templates.html', 'Transformer.html', 'TransformerConfigurationException.html', 'TransformerException.html', 'TransformerFactory.html', 'TransformerFactoryConfigurationError.html', 'URIResolver.html']\n",
        "d:\\android\\android-sdk\\docs\\reference\\javax\\xml\\transform\\dom ['DOMLocator.html', 'DOMResult.html', 'DOMSource.html', 'package-summary.html']\n",
        "d:\\android\\android-sdk\\docs\\reference\\javax\\xml\\transform\\sax ['package-summary.html', 'SAXResult.html', 'SAXSource.html', 'SAXTransformerFactory.html', 'TemplatesHandler.html', 'TransformerHandler.html']\n",
        "d:\\android\\android-sdk\\docs\\reference\\javax\\xml\\transform\\stream ['package-summary.html', 'StreamResult.html', 'StreamSource.html']\n",
        "d:\\android\\android-sdk\\docs\\reference\\javax\\xml\\validation ['package-summary.html', 'Schema.html', 'SchemaFactory.html', 'SchemaFactoryLoader.html', 'TypeInfoProvider.html', 'Validator.html', 'ValidatorHandler.html']\n",
        "d:\\android\\android-sdk\\docs\\reference\\javax\\xml\\xpath ['package-summary.html', 'XPath.html', 'XPathConstants.html', 'XPathException.html', 'XPathExpression.html', 'XPathExpressionException.html', 'XPathFactory.html', 'XPathFactoryConfigurationException.html', 'XPathFunction.html', 'XPathFunctionException.html', 'XPathFunctionResolver.html', 'XPathVariableResolver.html']\n",
        "d:\\android\\android-sdk\\docs\\reference\\junit []\n",
        "d:\\android\\android-sdk\\docs\\reference\\junit\\framework ['Assert.html', 'AssertionFailedError.html', 'ComparisonFailure.html', 'package-summary.html', 'Protectable.html', 'Test.html', 'TestCase.html', 'TestFailure.html', 'TestListener.html', 'TestResult.html', 'TestSuite.html']\n",
        "d:\\android\\android-sdk\\docs\\reference\\junit\\runner"
       ]
      },
      {
       "output_type": "stream",
       "stream": "stdout",
       "text": [
        " ['BaseTestRunner.html', 'package-summary.html', 'TestSuiteLoader.html', 'Version.html']\n",
        "d:\\android\\android-sdk\\docs\\reference\\org []\n",
        "d:\\android\\android-sdk\\docs\\reference\\org\\apache []\n",
        "d:\\android\\android-sdk\\docs\\reference\\org\\apache\\http"
       ]
      },
      {
       "output_type": "stream",
       "stream": "stdout",
       "text": [
        " ['ConnectionClosedException.html', 'ConnectionReuseStrategy.html', 'FormattedHeader.html', 'Header.html', 'HeaderElement.html', 'HeaderElementIterator.html', 'HeaderIterator.html', 'HttpClientConnection.html', 'HttpConnection.html', 'HttpConnectionMetrics.html', 'HttpEntity.html', 'HttpEntityEnclosingRequest.html', 'HttpException.html', 'HttpHost.html', 'HttpInetConnection.html', 'HttpMessage.html', 'HttpRequest.html', 'HttpRequestFactory.html', 'HttpRequestInterceptor.html', 'HttpResponse.html', 'HttpResponseFactory.html', 'HttpResponseInterceptor.html', 'HttpServerConnection.html', 'HttpStatus.html', 'HttpVersion.html', 'MalformedChunkCodingException.html', 'MethodNotSupportedException.html', 'NameValuePair.html', 'NoHttpResponseException.html', 'package-summary.html', 'ParseException.html', 'ProtocolException.html', 'ProtocolVersion.html', 'ReasonPhraseCatalog.html', 'RequestLine.html', 'StatusLine.html', 'TokenIterator.html', 'UnsupportedHttpVersionException.html']\n",
        "d:\\android\\android-sdk\\docs\\reference\\org\\apache\\http\\auth ['AUTH.html', 'AuthenticationException.html', 'AuthScheme.html', 'AuthSchemeFactory.html', 'AuthSchemeRegistry.html', 'AuthScope.html', 'AuthState.html', 'BasicUserPrincipal.html', 'Credentials.html', 'InvalidCredentialsException.html', 'MalformedChallengeException.html', 'NTCredentials.html', 'NTUserPrincipal.html', 'package-summary.html', 'UsernamePasswordCredentials.html']\n",
        "d:\\android\\android-sdk\\docs\\reference\\org\\apache\\http\\auth\\params ['AuthParamBean.html', 'AuthParams.html', 'AuthPNames.html', 'package-summary.html']\n",
        "d:\\android\\android-sdk\\docs\\reference\\org\\apache\\http\\client ['AuthenticationHandler.html', 'CircularRedirectException.html', 'ClientProtocolException.html', 'CookieStore.html', 'CredentialsProvider.html', 'HttpClient.html', 'HttpRequestRetryHandler.html', 'HttpResponseException.html', 'NonRepeatableRequestException.html', 'package-summary.html', 'RedirectException.html', 'RedirectHandler.html', 'RequestDirector.html', 'ResponseHandler.html', 'UserTokenHandler.html']\n",
        "d:\\android\\android-sdk\\docs\\reference\\org\\apache\\http\\client\\entity ['package-summary.html', 'UrlEncodedFormEntity.html']\n",
        "d:\\android\\android-sdk\\docs\\reference\\org\\apache\\http\\client\\methods"
       ]
      },
      {
       "output_type": "stream",
       "stream": "stdout",
       "text": [
        " ['AbortableHttpRequest.html', 'HttpDelete.html', 'HttpEntityEnclosingRequestBase.html', 'HttpGet.html', 'HttpHead.html', 'HttpOptions.html', 'HttpPost.html', 'HttpPut.html', 'HttpRequestBase.html', 'HttpTrace.html', 'HttpUriRequest.html', 'package-summary.html']\n",
        "d:\\android\\android-sdk\\docs\\reference\\org\\apache\\http\\client\\params ['AllClientPNames.html', 'AuthPolicy.html', 'ClientParamBean.html', 'ClientPNames.html', 'CookiePolicy.html', 'HttpClientParams.html', 'package-summary.html']\n",
        "d:\\android\\android-sdk\\docs\\reference\\org\\apache\\http\\client\\protocol ['ClientContext.html', 'ClientContextConfigurer.html', 'package-summary.html', 'RequestAddCookies.html', 'RequestDefaultHeaders.html', 'RequestProxyAuthentication.html', 'RequestTargetAuthentication.html', 'ResponseProcessCookies.html']\n",
        "d:\\android\\android-sdk\\docs\\reference\\org\\apache\\http\\client\\utils ['CloneUtils.html', 'package-summary.html', 'URIUtils.html', 'URLEncodedUtils.html']\n",
        "d:\\android\\android-sdk\\docs\\reference\\org\\apache\\http\\conn ['BasicEofSensorWatcher.html', 'BasicManagedEntity.html', 'ClientConnectionManager.html', 'ClientConnectionManagerFactory.html', 'ClientConnectionOperator.html', 'ClientConnectionRequest.html', 'ConnectionKeepAliveStrategy.html', 'ConnectionPoolTimeoutException.html', 'ConnectionReleaseTrigger.html', 'ConnectTimeoutException.html', 'EofSensorInputStream.html', 'EofSensorWatcher.html', 'HttpHostConnectException.html', 'ManagedClientConnection.html', 'MultihomePlainSocketFactory.html', 'OperatedClientConnection.html', 'package-summary.html']\n",
        "d:\\android\\android-sdk\\docs\\reference\\org\\apache\\http\\conn\\params ['ConnConnectionParamBean.html', 'ConnConnectionPNames.html', 'ConnManagerParamBean.html', 'ConnManagerParams.html', 'ConnManagerPNames.html', 'ConnPerRoute.html', 'ConnPerRouteBean.html', 'ConnRouteParamBean.html', 'ConnRouteParams.html', 'ConnRoutePNames.html', 'package-summary.html']\n",
        "d:\\android\\android-sdk\\docs\\reference\\org\\apache\\http\\conn\\routing ['BasicRouteDirector.html', 'HttpRoute.html', 'HttpRouteDirector.html', 'HttpRoutePlanner.html', 'package-summary.html', 'RouteInfo.html', 'RouteInfo.LayerType.html', 'RouteInfo.TunnelType.html', 'RouteTracker.html']\n",
        "d:\\android\\android-sdk\\docs\\reference\\org\\apache\\http\\conn\\scheme ['HostNameResolver.html', 'LayeredSocketFactory.html', 'package-summary.html', 'PlainSocketFactory.html', 'Scheme.html', 'SchemeRegistry.html', 'SocketFactory.html']\n",
        "d:\\android\\android-sdk\\docs\\reference\\org\\apache\\http\\conn\\ssl ['AbstractVerifier.html', 'AllowAllHostnameVerifier.html', 'BrowserCompatHostnameVerifier.html', 'package-summary.html', 'SSLSocketFactory.html', 'StrictHostnameVerifier.html', 'X509HostnameVerifier.html']\n",
        "d:\\android\\android-sdk\\docs\\reference\\org\\apache\\http\\conn\\util ['InetAddressUtils.html', 'package-summary.html']\n",
        "d:\\android\\android-sdk\\docs\\reference\\org\\apache\\http\\cookie ['ClientCookie.html', 'Cookie.html', 'CookieAttributeHandler.html', 'CookieIdentityComparator.html', 'CookieOrigin.html', 'CookiePathComparator.html', 'CookieSpec.html', 'CookieSpecFactory.html', 'CookieSpecRegistry.html', 'MalformedCookieException.html', 'package-summary.html', 'SetCookie.html', 'SetCookie2.html', 'SM.html']\n",
        "d:\\android\\android-sdk\\docs\\reference\\org\\apache\\http\\cookie\\params ['CookieSpecParamBean.html', 'CookieSpecPNames.html', 'package-summary.html']\n",
        "d:\\android\\android-sdk\\docs\\reference\\org\\apache\\http\\entity ['AbstractHttpEntity.html', 'BasicHttpEntity.html', 'BufferedHttpEntity.html', 'ByteArrayEntity.html', 'ContentLengthStrategy.html', 'ContentProducer.html', 'EntityTemplate.html', 'FileEntity.html', 'HttpEntityWrapper.html', 'InputStreamEntity.html', 'package-summary.html', 'SerializableEntity.html', 'StringEntity.html']\n",
        "d:\\android\\android-sdk\\docs\\reference\\org\\apache\\http\\impl ['AbstractHttpClientConnection.html', 'AbstractHttpServerConnection.html', 'DefaultConnectionReuseStrategy.html', 'DefaultHttpClientConnection.html', 'DefaultHttpRequestFactory.html', 'DefaultHttpResponseFactory.html', 'DefaultHttpServerConnection.html', 'EnglishReasonPhraseCatalog.html', 'HttpConnectionMetricsImpl.html', 'NoConnectionReuseStrategy.html', 'package-summary.html', 'SocketHttpClientConnection.html', 'SocketHttpServerConnection.html']\n",
        "d:\\android\\android-sdk\\docs\\reference\\org\\apache\\http\\impl\\auth ['AuthSchemeBase.html', 'BasicScheme.html', 'BasicSchemeFactory.html', 'DigestScheme.html', 'DigestSchemeFactory.html', 'NTLMEngine.html', 'NTLMEngineException.html', 'NTLMScheme.html', 'package-summary.html', 'RFC2617Scheme.html', 'UnsupportedDigestAlgorithmException.html']\n",
        "d:\\android\\android-sdk\\docs\\reference\\org\\apache\\http\\impl\\client"
       ]
      },
      {
       "output_type": "stream",
       "stream": "stdout",
       "text": [
        " ['AbstractAuthenticationHandler.html', 'AbstractHttpClient.html', 'BasicCookieStore.html', 'BasicCredentialsProvider.html', 'BasicResponseHandler.html', 'ClientParamsStack.html', 'DefaultConnectionKeepAliveStrategy.html', 'DefaultHttpClient.html', 'DefaultHttpRequestRetryHandler.html', 'DefaultProxyAuthenticationHandler.html', 'DefaultRedirectHandler.html', 'DefaultRequestDirector.html', 'DefaultTargetAuthenticationHandler.html', 'DefaultUserTokenHandler.html', 'EntityEnclosingRequestWrapper.html', 'package-summary.html', 'RedirectLocations.html', 'RequestWrapper.html', 'RoutedRequest.html', 'TunnelRefusedException.html']\n",
        "d:\\android\\android-sdk\\docs\\reference\\org\\apache\\http\\impl\\conn ['AbstractClientConnAdapter.html', 'AbstractPooledConnAdapter.html', 'AbstractPoolEntry.html', 'DefaultClientConnection.html', 'DefaultClientConnectionOperator.html', 'DefaultHttpRoutePlanner.html', 'DefaultResponseParser.html', 'IdleConnectionHandler.html', 'LoggingSessionInputBuffer.html', 'LoggingSessionOutputBuffer.html', 'package-summary.html', 'ProxySelectorRoutePlanner.html', 'SingleClientConnManager.ConnAdapter.html', 'SingleClientConnManager.html', 'SingleClientConnManager.PoolEntry.html', 'Wire.html']\n",
        "d:\\android\\android-sdk\\docs\\reference\\org\\apache\\http\\impl\\conn\\tsccm ['AbstractConnPool.html', 'BasicPooledConnAdapter.html', 'BasicPoolEntry.html', 'BasicPoolEntryRef.html', 'ConnPoolByRoute.html', 'package-summary.html', 'PoolEntryRequest.html', 'RefQueueHandler.html', 'RefQueueWorker.html', 'RouteSpecificPool.html', 'ThreadSafeClientConnManager.html', 'WaitingThread.html', 'WaitingThreadAborter.html']\n",
        "d:\\android\\android-sdk\\docs\\reference\\org\\apache\\http\\impl\\cookie ['AbstractCookieAttributeHandler.html', 'AbstractCookieSpec.html', 'BasicClientCookie.html', 'BasicClientCookie2.html', 'BasicCommentHandler.html', 'BasicDomainHandler.html', 'BasicExpiresHandler.html', 'BasicMaxAgeHandler.html', 'BasicPathHandler.html', 'BasicSecureHandler.html', 'BestMatchSpec.html', 'BestMatchSpecFactory.html', 'BrowserCompatSpec.html', 'BrowserCompatSpecFactory.html', 'CookieSpecBase.html', 'DateParseException.html', 'DateUtils.html', 'NetscapeDomainHandler.html', 'NetscapeDraftHeaderParser.html', 'NetscapeDraftSpec.html', 'NetscapeDraftSpecFactory.html', 'package-summary.html', 'RFC2109DomainHandler.html', 'RFC2109Spec.html', 'RFC2109SpecFactory.html', 'RFC2109VersionHandler.html', 'RFC2965CommentUrlAttributeHandler.html', 'RFC2965DiscardAttributeHandler.html', 'RFC2965DomainAttributeHandler.html', 'RFC2965PortAttributeHandler.html', 'RFC2965Spec.html', 'RFC2965SpecFactory.html', 'RFC2965VersionAttributeHandler.html']\n",
        "d:\\android\\android-sdk\\docs\\reference\\org\\apache\\http\\impl\\entity ['EntityDeserializer.html', 'EntitySerializer.html', 'LaxContentLengthStrategy.html', 'package-summary.html', 'StrictContentLengthStrategy.html']\n",
        "d:\\android\\android-sdk\\docs\\reference\\org\\apache\\http\\impl\\io ['AbstractMessageParser.html', 'AbstractMessageWriter.html', 'AbstractSessionInputBuffer.html', 'AbstractSessionOutputBuffer.html', 'ChunkedInputStream.html', 'ChunkedOutputStream.html', 'ContentLengthInputStream.html', 'ContentLengthOutputStream.html', 'HttpRequestParser.html', 'HttpRequestWriter.html', 'HttpResponseParser.html', 'HttpResponseWriter.html', 'HttpTransportMetricsImpl.html', 'IdentityInputStream.html', 'IdentityOutputStream.html', 'package-summary.html', 'SocketInputBuffer.html', 'SocketOutputBuffer.html']\n",
        "d:\\android\\android-sdk\\docs\\reference\\org\\apache\\http\\io"
       ]
      },
      {
       "output_type": "stream",
       "stream": "stdout",
       "text": [
        " ['HttpMessageParser.html', 'HttpMessageWriter.html', 'HttpTransportMetrics.html', 'package-summary.html', 'SessionInputBuffer.html', 'SessionOutputBuffer.html']\n",
        "d:\\android\\android-sdk\\docs\\reference\\org\\apache\\http\\message ['AbstractHttpMessage.html', 'BasicHeader.html', 'BasicHeaderElement.html', 'BasicHeaderElementIterator.html', 'BasicHeaderIterator.html', 'BasicHeaderValueFormatter.html', 'BasicHeaderValueParser.html', 'BasicHttpEntityEnclosingRequest.html', 'BasicHttpRequest.html', 'BasicHttpResponse.html', 'BasicLineFormatter.html', 'BasicLineParser.html', 'BasicListHeaderIterator.html', 'BasicNameValuePair.html', 'BasicRequestLine.html', 'BasicStatusLine.html', 'BasicTokenIterator.html', 'BufferedHeader.html', 'HeaderGroup.html', 'HeaderValueFormatter.html', 'HeaderValueParser.html', 'LineFormatter.html', 'LineParser.html', 'package-summary.html', 'ParserCursor.html']\n",
        "d:\\android\\android-sdk\\docs\\reference\\org\\apache\\http\\params ['AbstractHttpParams.html', 'BasicHttpParams.html', 'CoreConnectionPNames.html', 'CoreProtocolPNames.html', 'DefaultedHttpParams.html', 'HttpAbstractParamBean.html', 'HttpConnectionParamBean.html', 'HttpConnectionParams.html', 'HttpParams.html', 'HttpProtocolParamBean.html', 'HttpProtocolParams.html', 'package-summary.html']\n",
        "d:\\android\\android-sdk\\docs\\reference\\org\\apache\\http\\protocol ['BasicHttpContext.html', 'BasicHttpProcessor.html', 'DefaultedHttpContext.html', 'ExecutionContext.html', 'HTTP.html', 'HttpContext.html', 'HttpDateGenerator.html', 'HttpExpectationVerifier.html', 'HttpProcessor.html', 'HttpRequestExecutor.html', 'HttpRequestHandler.html', 'HttpRequestHandlerRegistry.html', 'HttpRequestHandlerResolver.html', 'HttpRequestInterceptorList.html', 'HttpResponseInterceptorList.html', 'HttpService.html', 'package-summary.html', 'RequestConnControl.html', 'RequestContent.html', 'RequestDate.html', 'RequestExpectContinue.html', 'RequestTargetHost.html', 'RequestUserAgent.html', 'ResponseConnControl.html', 'ResponseContent.html', 'ResponseDate.html', 'ResponseServer.html', 'SyncBasicHttpContext.html', 'UriPatternMatcher.html']\n",
        "d:\\android\\android-sdk\\docs\\reference\\org\\apache\\http\\util ['ByteArrayBuffer.html', 'CharArrayBuffer.html', 'EncodingUtils.html', 'EntityUtils.html', 'ExceptionUtils.html', 'LangUtils.html', 'package-summary.html', 'VersionInfo.html']\n",
        "d:\\android\\android-sdk\\docs\\reference\\org\\json ['JSONArray.html', 'JSONException.html', 'JSONObject.html', 'JSONStringer.html', 'JSONTokener.html', 'package-summary.html']\n",
        "d:\\android\\android-sdk\\docs\\reference\\org\\w3c []\n",
        "d:\\android\\android-sdk\\docs\\reference\\org\\w3c\\dom"
       ]
      },
      {
       "output_type": "stream",
       "stream": "stdout",
       "text": [
        " ['Attr.html', 'CDATASection.html', 'CharacterData.html', 'Comment.html', 'Document.html', 'DocumentFragment.html', 'DocumentType.html', 'DOMConfiguration.html', 'DOMError.html', 'DOMErrorHandler.html', 'DOMException.html', 'DOMImplementation.html', 'DOMImplementationList.html', 'DOMImplementationSource.html', 'DOMLocator.html', 'DOMStringList.html', 'Element.html', 'Entity.html', 'EntityReference.html', 'NamedNodeMap.html', 'NameList.html', 'Node.html', 'NodeList.html', 'Notation.html', 'package-summary.html', 'ProcessingInstruction.html', 'Text.html', 'TypeInfo.html', 'UserDataHandler.html']\n",
        "d:\\android\\android-sdk\\docs\\reference\\org\\w3c\\dom\\ls ['DOMImplementationLS.html', 'LSException.html', 'LSInput.html', 'LSOutput.html', 'LSParser.html', 'LSParserFilter.html', 'LSResourceResolver.html', 'LSSerializer.html', 'package-summary.html']\n",
        "d:\\android\\android-sdk\\docs\\reference\\org\\xml []\n",
        "d:\\android\\android-sdk\\docs\\reference\\org\\xml\\sax ['AttributeList.html', 'Attributes.html', 'ContentHandler.html', 'DocumentHandler.html', 'DTDHandler.html', 'EntityResolver.html', 'ErrorHandler.html', 'HandlerBase.html', 'InputSource.html', 'Locator.html', 'package-summary.html', 'Parser.html', 'SAXException.html', 'SAXNotRecognizedException.html', 'SAXNotSupportedException.html', 'SAXParseException.html', 'XMLFilter.html', 'XMLReader.html']\n",
        "d:\\android\\android-sdk\\docs\\reference\\org\\xml\\sax\\ext"
       ]
      },
      {
       "output_type": "stream",
       "stream": "stdout",
       "text": [
        " ['Attributes2.html', 'Attributes2Impl.html', 'DeclHandler.html', 'DefaultHandler2.html', 'EntityResolver2.html', 'LexicalHandler.html', 'Locator2.html', 'Locator2Impl.html', 'package-summary.html']\n",
        "d:\\android\\android-sdk\\docs\\reference\\org\\xml\\sax\\helpers ['AttributeListImpl.html', 'AttributesImpl.html', 'DefaultHandler.html', 'LocatorImpl.html', 'NamespaceSupport.html', 'package-summary.html', 'ParserAdapter.html', 'ParserFactory.html', 'XMLFilterImpl.html', 'XMLReaderAdapter.html', 'XMLReaderFactory.html']\n",
        "d:\\android\\android-sdk\\docs\\reference\\org\\xmlpull []\n",
        "d:\\android\\android-sdk\\docs\\reference\\org\\xmlpull\\v1 ['package-summary.html', 'XmlPullParser.html', 'XmlPullParserException.html', 'XmlPullParserFactory.html', 'XmlSerializer.html']\n",
        "d:\\android\\android-sdk\\docs\\reference\\org\\xmlpull\\v1\\sax2 ['Driver.html', 'package-summary.html']\n",
        "d:\\android\\android-sdk\\docs\\reference\\renderscript"
       ]
      },
      {
       "output_type": "stream",
       "stream": "stdout",
       "text": [
        " ['annotated.html', 'doxygen.css', 'globals.html', 'globals_enum.html', 'globals_func.html', 'globals_type.html', 'index.html', 'rs__allocation_8rsh.html', 'rs__allocation_8rsh_source.html', 'rs__atomic_8rsh.html', 'rs__atomic_8rsh_source.html', 'rs__cl_8rsh.html', 'rs__cl_8rsh_source.html', 'rs__core_8rsh.html', 'rs__core_8rsh_source.html', 'rs__debug_8rsh.html', 'rs__debug_8rsh_source.html', 'rs__element_8rsh.html', 'rs__element_8rsh_source.html', 'rs__graphics_8rsh.html', 'rs__graphics_8rsh_source.html', 'rs__math_8rsh.html', 'rs__math_8rsh_source.html', 'rs__matrix_8rsh.html', 'rs__matrix_8rsh_source.html', 'rs__mesh_8rsh.html', 'rs__mesh_8rsh_source.html', 'rs__object_8rsh.html', 'rs__object_8rsh_source.html', 'rs__program_8rsh.html', 'rs__program_8rsh_source.html', 'rs__quaternion_8rsh.html', 'rs__quaternion_8rsh_source.html', 'rs__sampler_8rsh.html', 'rs__sampler_8rsh_source.html', 'rs__time_8rsh.html', 'rs__time_8rsh_source.html', 'rs__types_8rsh.html', 'rs__types_8rsh_source.html', 'structrs__allocation.html', 'structrs__element.html', 'structrs__font.html', 'structrs__matrix2x2.html', 'structrs__matrix3x3.html', 'structrs__matrix4x4.html', 'structrs__mesh.html', 'structrs__path.html', 'structrs__program__fragment.html', 'structrs__program__raster.html', 'structrs__program__store.html', 'structrs__program__vertex.html', 'structrs__sampler.html', 'structrs__script.html', 'structrs__script__call.html', 'structrs__tm.html', 'structrs__type.html', 'tabs.css', 'tab_a.png', 'tab_b.png', 'tab_h.png', 'tab_s.png']\n",
        "d:\\android\\android-sdk\\docs\\resources []\n",
        "d:\\android\\android-sdk\\docs\\resources\\articles []\n",
        "d:\\android\\android-sdk\\docs\\resources\\articles\\images ['inputmethod_composing_text_1.png', 'inputmethod_composing_text_2.png', 'inputmethod_composing_text_3.png', 'inputmethod_lifecycle_image.png', 'inputmethod_numeric_type_screenshot.png', 'inputmethod_subtype_notification.png', 'inputmethod_subtype_preferences.png', 'inputmethod_subtype_settings.png', 'inputmethod_text_type_screenshot.png', 'spellcheck_client_flow.png', 'spellcheck_lifecycle.png', 'textview_spellcheck_screenshot_1.png', 'textview_spellcheck_screenshot_2.png']\n",
        "d:\\android\\android-sdk\\docs\\resources\\images ['ActionBarCompat1.png', 'ActionBarCompat2.png', 'BluetoothChat1.png', 'BluetoothChat2.png', 'BluetoothHDP.png', 'BusinessCard1.png', 'BusinessCard2.png', 'ContactManager1.png', 'ContactManager2.png', 'CubeLiveWallpaper1.png', 'CubeLiveWallpaper3.png', 'hcgallery-phone1.png', 'hcgallery-phone2.png', 'hcgallery.png', 'HomeSample.png', 'JetBoy.png', 'KeyChainDemo1.png', 'KeyChainDemo2.png', 'KeyChainDemo3.png', 'KeyChainDemo4.png', 'MultiResolution.png', 'NewsReader.png', 'NfcDemo.png', 'randommusicplayer.png', 'SampleSyncAdapter1.png', 'SampleSyncAdapter2.png', 'SampleSyncAdapter3.png', 'sample_lunarlander.png', 'sample_note.png', 'sample_notepad.png', 'sample_notepadtest_junit.png', 'SearchableDictionary1.png', 'SearchableDictionary2.png', 'SipDemo.png', 'Snake.png', 'SoftKeyboard.png', 'SpinnerTest1.png', 'SpinnerTest2.png', 'StackWidget.png', 'TicTacToeLib.png', 'TicTacToeMain.png', 'VoicemailProviderDemo.png', 'vpn-confirmation.png', 'WeatherListWidget.png', 'WifiDirect.png', 'Wiktionary.png', 'WiktionarySimple.png', 'XmlPhotosAdapter.png', 'XmlRssReader.png']\n",
        "d:\\android\\android-sdk\\docs\\samples ['background.html', 'connectivity.html', 'content.html', 'index.html', 'input.html', 'media.html', 'renderscript.html', 'samples_toc.html', 'security.html', 'sensors.html', 'testing.html', 'ui.html', 'views.html']\n",
        "d:\\android\\android-sdk\\docs\\samples\\images ['ActionBarCompat1.png', 'ActionBarCompat2.png', 'ActivitySceneTransitionBasic.png', 'ActivitySceneTransitionBasic@2x.png', 'BasicManagedProfile.png', 'BasicManagedProfile@2x.png', 'JobSchedulerSample.png', 'JobSchedulerSample@2x.png']\n",
        "d:\\android\\android-sdk\\docs\\samples\\new ['index.html']\n",
        "d:\\android\\android-sdk\\docs\\sdk"
       ]
      },
      {
       "output_type": "stream",
       "stream": "stdout",
       "text": [
        " ['download.html', 'exploring.html', 'index.html', 'older_releases.html', 'OLD_RELEASENOTES.html', 'RELEASENOTES.html', 'terms.html', 'terms_body.html', 'win-usb.html']\n",
        "d:\\android\\android-sdk\\docs\\sdk\\1.0_r1 ['index.html', 'installing.html', 'requirements.html']\n",
        "d:\\android\\android-sdk\\docs\\sdk\\1.0_r2 ['index.html', 'installing.html', 'requirements.html']\n",
        "d:\\android\\android-sdk\\docs\\sdk\\1.1_r1 ['index.html', 'installing.html', 'requirements.html']\n",
        "d:\\android\\android-sdk\\docs\\sdk\\1.5_r1 ['index.html', 'installing.html', 'requirements.html']\n",
        "d:\\android\\android-sdk\\docs\\sdk\\1.5_r2 ['index.html', 'installing.html', 'requirements.html']\n",
        "d:\\android\\android-sdk\\docs\\sdk\\1.5_r3 ['index.html', 'installing.html', 'requirements.html']\n",
        "d:\\android\\android-sdk\\docs\\sdk\\1.6_r1"
       ]
      },
      {
       "output_type": "stream",
       "stream": "stdout",
       "text": [
        " ['index.html', 'installing.html', 'requirements.html']\n",
        "d:\\android\\android-sdk\\docs\\sdk\\api_diff"
       ]
      },
      {
       "output_type": "stream",
       "stream": "stdout",
       "text": [
        " []\n",
        "d:\\android\\android-sdk\\docs\\sdk\\api_diff\\10 ['changes.html', 'stylesheet-jdiff.css']\n",
        "d:\\android\\android-sdk\\docs\\sdk\\api_diff\\10\\changes ['alldiffs_index_additions.html', 'alldiffs_index_all.html', 'alldiffs_index_changes.html', 'alldiffs_index_removals.html', 'android.bluetooth.BluetoothAdapter.html', 'android.bluetooth.BluetoothDevice.html', 'android.content.Context.html', 'android.graphics.BitmapFactory.Options.html', 'android.media.MediaRecorder.AudioEncoder.html', 'android.media.MediaRecorder.OutputFormat.html', 'android.nfc.NfcAdapter.html', 'android.os.Build.VERSION_CODES.html', 'android.test.mock.MockPackageManager.html', 'changes-summary.html', 'classes_index_additions.html', 'classes_index_all.html', 'classes_index_changes.html', 'classes_index_removals.html', 'constructors_index_additions.html', 'constructors_index_all.html', 'constructors_index_changes.html', 'constructors_index_removals.html', 'fields_index_additions.html', 'fields_index_all.html', 'fields_index_changes.html', 'fields_index_removals.html', 'jdiff_help.html', 'jdiff_statistics.html', 'jdiff_topleftframe.html', 'methods_index_additions.html', 'methods_index_all.html', 'methods_index_changes.html', 'methods_index_removals.html', 'packages_index_additions.html', 'packages_index_all.html', 'packages_index_changes.html', 'packages_index_removals.html', 'pkg_android.bluetooth.html', 'pkg_android.content.html', 'pkg_android.graphics.html', 'pkg_android.media.html', 'pkg_android.nfc.html', 'pkg_android.os.html', 'pkg_android.speech.html', 'pkg_android.test.mock.html']\n",
        "d:\\android\\android-sdk\\docs\\sdk\\api_diff\\11 ['changes.html', 'stylesheet-jdiff.css']\n",
        "d:\\android\\android-sdk\\docs\\sdk\\api_diff\\11\\changes"
       ]
      },
      {
       "output_type": "stream",
       "stream": "stdout",
       "text": [
        " ['alldiffs_index_additions.html', 'alldiffs_index_all.html', 'alldiffs_index_changes.html', 'alldiffs_index_removals.html', 'android.accounts.AccountManager.html', 'android.accounts.AuthenticatorDescription.html', 'android.app.Activity.html', 'android.app.ActivityManager.html', 'android.app.ActivityManager.RecentTaskInfo.html', 'android.app.admin.DeviceAdminInfo.html', 'android.app.admin.DeviceAdminReceiver.html', 'android.app.admin.DevicePolicyManager.html', 'android.app.AlertDialog.Builder.html', 'android.app.AlertDialog.html', 'android.app.DatePickerDialog.html', 'android.app.Dialog.html', 'android.app.DownloadManager.html', 'android.app.DownloadManager.Request.html', 'android.app.Notification.html', 'android.app.PendingIntent.html', 'android.app.ProgressDialog.html', 'android.app.SearchManager.html', 'android.app.Service.html', 'android.app.WallpaperManager.html', 'android.appwidget.AppWidgetHost.html', 'android.appwidget.AppWidgetManager.html', 'android.appwidget.AppWidgetProviderInfo.html', 'android.bluetooth.BluetoothAdapter.html', 'android.content.AbstractThreadedSyncAdapter.html', 'android.content.BroadcastReceiver.html', 'android.content.ContentProvider.html', 'android.content.ContentProviderClient.html', 'android.content.ContentResolver.html', 'android.content.ContentValues.html', 'android.content.Context.html', 'android.content.ContextWrapper.html', 'android.content.Intent.html', 'android.content.pm.ActivityInfo.html', 'android.content.pm.ApplicationInfo.html', 'android.content.pm.ComponentInfo.html', 'android.content.pm.PackageManager.html', 'android.content.pm.PackageStats.html', 'android.content.res.Configuration.html', 'android.content.SharedPreferences.Editor.html', 'android.content.SharedPreferences.html', 'android.content.SyncAdapterType.html', 'android.content.SyncInfo.html', 'android.database.AbstractCursor.html', 'android.database.AbstractWindowedCursor.html', 'android.database.Cursor.html', 'android.database.CursorWindow.html', 'android.database.CursorWrapper.html', 'android.database.DatabaseUtils.html', 'android.database.sqlite.SQLiteCursor.html', 'android.database.sqlite.SQLiteDatabase.html', 'android.database.sqlite.SQLiteOpenHelper.html', 'android.database.sqlite.SQLiteProgram.html', 'android.database.sqlite.SQLiteQueryBuilder.html', 'android.database.sqlite.SQLiteStatement.html', 'android.graphics.BitmapFactory.Options.html', 'android.graphics.Canvas.html', 'android.graphics.drawable.ColorDrawable.html', 'android.graphics.drawable.Drawable.html', 'android.graphics.drawable.DrawableContainer.DrawableContainerState.html', 'android.graphics.drawable.DrawableContainer.html', 'android.graphics.drawable.LayerDrawable.html', 'android.hardware.Camera.html', 'android.hardware.Camera.Parameters.html', 'android.hardware.SensorManager.html', 'android.inputmethodservice.InputMethodService.html', 'android.inputmethodservice.InputMethodService.InputMethodImpl.html', 'android.inputmethodservice.InputMethodService.Insets.html', 'android.inputmethodservice.Keyboard.html', 'android.Manifest.permission.html', 'android.media.AudioManager.html', 'android.media.CamcorderProfile.html', 'android.media.ExifInterface.html', 'android.media.MediaRecorder.AudioSource.html', 'android.media.MediaRecorder.html', 'android.net.Proxy.html', 'android.net.Uri.Builder.html', 'android.net.Uri.html', 'android.opengl.GLSurfaceView.html', 'android.os.AsyncTask.html', 'android.os.BatteryManager.html', 'android.os.Build.VERSION_CODES.html', 'android.os.Bundle.html', 'android.os.Debug.html', 'android.os.DropBoxManager.html', 'android.os.Environment.html', 'android.os.StrictMode.html', 'android.os.StrictMode.ThreadPolicy.Builder.html', 'android.os.StrictMode.VmPolicy.Builder.html', 'android.os.Vibrator.html', 'android.preference.Preference.html', 'android.preference.PreferenceActivity.html', 'android.provider.AlarmClock.html', 'android.provider.Browser.SearchColumns.html', 'android.provider.ContactsContract.CommonDataKinds.Email.html', 'android.provider.ContactsContract.CommonDataKinds.Relation.html', 'android.provider.ContactsContract.Contacts.AggregationSuggestions.html', 'android.provider.ContactsContract.Contacts.html', 'android.provider.ContactsContract.Contacts.Photo.html', 'android.provider.ContactsContract.ContactsColumns.html', 'android.provider.ContactsContract.ContactStatusColumns.html', 'android.provider.ContactsContract.DataColumns.html', 'android.provider.ContactsContract.DataColumnsWithJoins.html', 'android.provider.ContactsContract.GroupsColumns.html', 'android.provider.ContactsContract.html', 'android.provider.ContactsContract.Intents.Insert.html', 'android.provider.ContactsContract.RawContacts.html', 'android.provider.ContactsContract.RawContactsColumns.html', 'android.provider.ContactsContract.StatusColumns.html', 'android.provider.MediaStore.Audio.Genres.html', 'android.provider.Settings.html', 'android.provider.Settings.Secure.html', 'android.provider.Settings.System.html', 'android.R.attr.html', 'android.R.dimen.html', 'android.R.drawable.html', 'android.R.id.html', 'android.R.layout.html', 'android.R.string.html', 'android.R.style.html', 'android.speech.RecognizerIntent.html', 'android.speech.tts.TextToSpeech.Engine.html', 'android.telephony.TelephonyManager.html', 'android.test.mock.MockContext.html', 'android.test.mock.MockCursor.html', 'android.test.mock.MockPackageManager.html', 'android.text.ClipboardManager.html', 'android.text.format.Time.html', 'android.text.InputType.html', 'android.text.method.ArrowKeyMovementMethod.html', 'android.text.method.BaseKeyListener.html', 'android.text.method.QwertyKeyListener.html', 'android.text.method.ScrollingMovementMethod.html', 'android.text.SpannableStringBuilder.html', 'android.util.AndroidException.html', 'android.util.AndroidRuntimeException.html', 'android.util.Patterns.html', 'android.util.SparseArray.html', 'android.util.StateSet.html', 'android.view.animation.Animation.html', 'android.view.animation.Interpolator.html', 'android.view.inputmethod.BaseInputConnection.html', 'android.view.inputmethod.EditorInfo.html', 'android.view.inputmethod.InputConnection.html', 'android.view.inputmethod.InputConnectionWrapper.html', 'android.view.inputmethod.InputMethod.html', 'android.view.inputmethod.InputMethodInfo.html', 'android.view.inputmethod.InputMethodManager.html', 'android.view.KeyCharacterMap.html', 'android.view.KeyCharacterMap.KeyData.html', 'android.view.KeyEvent.html', 'android.view.LayoutInflater.html', 'android.view.MenuItem.html', 'android.view.MotionEvent.html', 'android.view.ScaleGestureDetector.html', 'android.view.Surface.html', 'android.view.SurfaceHolder.html', 'android.view.View.html', 'android.view.ViewGroup.html', 'android.view.ViewParent.html', 'android.view.Window.Callback.html', 'android.view.Window.html', 'android.view.WindowManager.LayoutParams.html', 'android.webkit.CacheManager.CacheResult.html', 'android.webkit.CacheManager.html', 'android.webkit.WebSettings.html', 'android.webkit.WebView.html', 'android.webkit.WebViewClient.html', 'android.widget.AbsListView.html', 'android.widget.ArrayAdapter.html', 'android.widget.CursorAdapter.html', 'android.widget.DatePicker.html', 'android.widget.GridView.html', 'android.widget.ImageView.html', 'android.widget.LinearLayout.html', 'android.widget.ListView.html', 'android.widget.OverScroller.html', 'android.widget.PopupWindow.html', 'android.widget.QuickContactBadge.html', 'android.widget.RemoteViews.html', 'android.widget.ResourceCursorAdapter.html', 'android.widget.Scroller.html', 'android.widget.SimpleCursorAdapter.html', 'android.widget.Spinner.html', 'android.widget.TabWidget.html', 'android.widget.TextView.html', 'changes-summary.html', 'classes_index_additions.html', 'classes_index_all.html', 'classes_index_changes.html', 'classes_index_removals.html', 'constructors_index_additions.html', 'constructors_index_all.html', 'constructors_index_changes.html', 'constructors_index_removals.html', 'dalvik.bytecode.Opcodes.html', 'fields_index_additions.html', 'fields_index_all.html', 'fields_index_changes.html', 'fields_index_removals.html', 'java.lang.Character.UnicodeBlock.html', 'java.lang.Object.html', 'java.util.Deque.html', 'java.util.Locale.html', 'java.util.NavigableMap.html', 'java.util.NavigableSet.html', 'java.util.Queue.html', 'java.util.ResourceBundle.Control.html', 'java.util.ResourceBundle.html', 'jdiff_help.html', 'jdiff_statistics.html', 'jdiff_topleftframe.html', 'methods_index_additions.html', 'methods_index_all.html', 'methods_index_changes.html', 'methods_index_removals.html', 'packages_index_additions.html', 'packages_index_all.html', 'packages_index_changes.html', 'packages_index_removals.html', 'pkg_android.accounts.html', 'pkg_android.app.admin.html', 'pkg_android.app.html', 'pkg_android.appwidget.html', 'pkg_android.bluetooth.html', 'pkg_android.content.html', 'pkg_android.content.pm.html', 'pkg_android.content.res.html', 'pkg_android.database.html', 'pkg_android.database.sqlite.html', 'pkg_android.graphics.drawable.html', 'pkg_android.graphics.html', 'pkg_android.hardware.html', 'pkg_android.html', 'pkg_android.inputmethodservice.html', 'pkg_android.media.html', 'pkg_android.net.html', 'pkg_android.opengl.html', 'pkg_android.os.html', 'pkg_android.preference.html', 'pkg_android.provider.html', 'pkg_android.speech.html', 'pkg_android.speech.tts.html', 'pkg_android.telephony.html', 'pkg_android.test.html', 'pkg_android.test.mock.html', 'pkg_android.text.format.html', 'pkg_android.text.html', 'pkg_android.text.method.html', 'pkg_android.util.html', 'pkg_android.view.animation.html', 'pkg_android.view.html', 'pkg_android.view.inputmethod.html', 'pkg_android.webkit.html', 'pkg_android.widget.html', 'pkg_dalvik.bytecode.html', 'pkg_java.lang.html', 'pkg_java.util.html']\n",
        "d:\\android\\android-sdk\\docs\\sdk\\api_diff\\12 ['changes.html', 'missingSinces.txt', 'stylesheet-jdiff.css', 'user_comments_for_11_to_12.xml']\n",
        "d:\\android\\android-sdk\\docs\\sdk\\api_diff\\12\\changes ['alldiffs_index_additions.html', 'alldiffs_index_all.html', 'alldiffs_index_changes.html', 'alldiffs_index_removals.html', 'android.animation.ValueAnimator.html', 'android.app.Activity.html', 'android.app.ActivityManager.html', 'android.app.ActivityManager.RecentTaskInfo.html', 'android.app.Dialog.html', 'android.app.DialogFragment.html', 'android.app.DownloadManager.html', 'android.app.DownloadManager.Request.html', 'android.app.Fragment.html', 'android.app.FragmentBreadCrumbs.html', 'android.app.SearchManager.html', 'android.appwidget.AppWidgetProviderInfo.html', 'android.content.Context.html', 'android.content.Intent.html', 'android.content.pm.ApplicationInfo.html', 'android.content.pm.PackageManager.html', 'android.drm.DrmErrorEvent.html', 'android.drm.DrmEvent.html', 'android.drm.DrmInfoEvent.html', 'android.drm.DrmManagerClient.OnEventListener.html', 'android.graphics.Bitmap.html', 'android.graphics.Camera.html', 'android.hardware.Camera.html', 'android.net.http.SslCertificate.html', 'android.net.sip.SipProfile.Builder.html', 'android.net.sip.SipProfile.html', 'android.net.TrafficStats.html', 'android.net.wifi.WifiManager.html', 'android.os.Build.VERSION_CODES.html', 'android.os.Bundle.html', 'android.os.ParcelFileDescriptor.html', 'android.provider.Browser.html', 'android.provider.MediaStore.html', 'android.R.attr.html', 'android.text.format.Formatter.html', 'android.text.method.BaseMovementMethod.html', 'android.text.method.MovementMethod.html', 'android.text.SpannableStringBuilder.html', 'android.util.Config.html', 'android.util.DebugUtils.html', 'android.util.EventLog.html', 'android.util.StateSet.html', 'android.util.TimeUtils.html', 'android.util.Xml.html', 'android.view.animation.Animation.html', 'android.view.InputDevice.html', 'android.view.InputDevice.MotionRange.html', 'android.view.InputEvent.html', 'android.view.inputmethod.InputMethodSubtype.html', 'android.view.KeyEvent.html', 'android.view.MotionEvent.html', 'android.view.MotionEvent.PointerCoords.html', 'android.view.View.html', 'android.view.ViewConfiguration.html', 'android.view.Window.Callback.html', 'android.view.Window.html', 'android.webkit.CookieManager.html', 'android.webkit.WebHistoryItem.html', 'android.webkit.WebSettings.html', 'android.webkit.WebSettings.LayoutAlgorithm.html', 'android.webkit.WebView.html', 'android.webkit.WebView.PictureListener.html', 'android.webkit.WebViewClient.html', 'android.widget.DatePicker.html', 'android.widget.RemoteViews.html', 'changes-summary.html', 'classes_index_additions.html', 'classes_index_all.html', 'classes_index_changes.html', 'classes_index_removals.html', 'constructors_index_additions.html', 'constructors_index_all.html', 'constructors_index_changes.html', 'constructors_index_removals.html', 'fields_index_additions.html', 'fields_index_all.html', 'fields_index_changes.html', 'fields_index_removals.html', 'jdiff_help.html', 'jdiff_statistics.html', 'jdiff_topleftframe.html', 'methods_index_additions.html', 'methods_index_all.html', 'methods_index_changes.html', 'methods_index_removals.html', 'packages_index_additions.html', 'packages_index_all.html', 'packages_index_changes.html', 'packages_index_removals.html', 'pkg_android.animation.html', 'pkg_android.app.html', 'pkg_android.appwidget.html', 'pkg_android.content.html', 'pkg_android.content.pm.html', 'pkg_android.drm.html', 'pkg_android.graphics.html', 'pkg_android.hardware.html', 'pkg_android.html', 'pkg_android.net.html', 'pkg_android.net.http.html', 'pkg_android.net.sip.html', 'pkg_android.net.wifi.html', 'pkg_android.os.html', 'pkg_android.provider.html', 'pkg_android.text.format.html', 'pkg_android.text.html', 'pkg_android.text.method.html', 'pkg_android.util.html', 'pkg_android.view.animation.html', 'pkg_android.view.html', 'pkg_android.view.inputmethod.html', 'pkg_android.webkit.html', 'pkg_android.widget.html']\n",
        "d:\\android\\android-sdk\\docs\\sdk\\api_diff\\13 ['changes.html', 'stylesheet-jdiff.css']\n",
        "d:\\android\\android-sdk\\docs\\sdk\\api_diff\\13\\changes"
       ]
      },
      {
       "output_type": "stream",
       "stream": "stdout",
       "text": [
        " ['alldiffs_index_additions.html', 'alldiffs_index_all.html', 'alldiffs_index_changes.html', 'alldiffs_index_removals.html', 'android.app.Activity.html', 'android.app.ActivityGroup.html', 'android.app.Fragment.html', 'android.app.FragmentManager.html', 'android.app.FragmentTransaction.html', 'android.app.KeyguardManager.html', 'android.app.KeyguardManager.KeyguardLock.html', 'android.app.LocalActivityManager.html', 'android.app.TabActivity.html', 'android.content.pm.ActivityInfo.html', 'android.content.pm.ApplicationInfo.html', 'android.content.pm.PackageManager.html', 'android.content.res.Configuration.html', 'android.graphics.Point.html', 'android.graphics.PointF.html', 'android.hardware.usb.UsbDeviceConnection.html', 'android.Manifest.permission.html', 'android.net.ConnectivityManager.html', 'android.os.Binder.html', 'android.os.Build.VERSION_CODES.html', 'android.os.IBinder.html', 'android.os.ParcelFileDescriptor.html', 'android.os.PowerManager.html', 'android.R.attr.html', 'android.R.style.html', 'android.telephony.TelephonyManager.html', 'android.util.DisplayMetrics.html', 'android.view.Display.html', 'android.view.KeyEvent.html', 'changes-summary.html', 'classes_index_additions.html', 'classes_index_all.html', 'classes_index_changes.html', 'classes_index_removals.html', 'constructors_index_additions.html', 'constructors_index_all.html', 'constructors_index_changes.html', 'constructors_index_removals.html', 'fields_index_additions.html', 'fields_index_all.html', 'fields_index_changes.html', 'fields_index_removals.html', 'jdiff_help.html', 'jdiff_statistics.html', 'jdiff_topleftframe.html', 'methods_index_additions.html', 'methods_index_all.html', 'methods_index_changes.html', 'methods_index_removals.html', 'packages_index_additions.html', 'packages_index_all.html', 'packages_index_changes.html', 'packages_index_removals.html', 'pkg_android.app.html', 'pkg_android.content.pm.html', 'pkg_android.content.res.html', 'pkg_android.graphics.html', 'pkg_android.hardware.usb.html', 'pkg_android.html', 'pkg_android.net.html', 'pkg_android.os.html', 'pkg_android.telephony.html', 'pkg_android.util.html', 'pkg_android.view.html']\n",
        "d:\\android\\android-sdk\\docs\\sdk\\api_diff\\14 ['changes.html', 'stylesheet-jdiff.css']\n",
        "d:\\android\\android-sdk\\docs\\sdk\\api_diff\\14\\changes"
       ]
      },
      {
       "output_type": "stream",
       "stream": "stdout",
       "text": [
        " ['alldiffs_index_additions.html', 'alldiffs_index_all.html', 'alldiffs_index_changes.html', 'alldiffs_index_removals.html', 'android.accessibilityservice.AccessibilityService.html', 'android.accessibilityservice.AccessibilityServiceInfo.html', 'android.accounts.AccountManager.html', 'android.animation.Animator.html', 'android.animation.FloatEvaluator.html', 'android.animation.IntEvaluator.html', 'android.animation.LayoutTransition.html', 'android.animation.ObjectAnimator.html', 'android.animation.PropertyValuesHolder.html', 'android.animation.TypeEvaluator.html', 'android.app.ActionBar.html', 'android.app.ActionBar.Tab.html', 'android.app.Activity.html', 'android.app.admin.DeviceAdminInfo.html', 'android.app.admin.DevicePolicyManager.html', 'android.app.AlertDialog.html', 'android.app.Application.html', 'android.app.backup.BackupAgent.html', 'android.app.Fragment.html', 'android.app.FragmentManager.BackStackEntry.html', 'android.app.FragmentManager.html', 'android.app.Notification.Builder.html', 'android.app.PendingIntent.html', 'android.app.SearchManager.html', 'android.app.Service.html', 'android.app.WallpaperManager.html', 'android.appwidget.AppWidgetProviderInfo.html', 'android.bluetooth.BluetoothAdapter.html', 'android.bluetooth.BluetoothProfile.html', 'android.bluetooth.BluetoothSocket.html', 'android.content.ContentProvider.html', 'android.content.Context.html', 'android.content.Intent.html', 'android.content.IntentSender.html', 'android.content.pm.ActivityInfo.html', 'android.content.pm.ApplicationInfo.html', 'android.content.pm.PackageManager.html', 'android.content.pm.PackageStats.html', 'android.content.pm.ServiceInfo.html', 'android.content.SyncAdapterType.html', 'android.database.sqlite.SQLiteOpenHelper.html', 'android.database.sqlite.SQLiteQueryBuilder.html', 'android.graphics.Canvas.html', 'android.graphics.Paint.html', 'android.graphics.RectF.html', 'android.graphics.SurfaceTexture.html', 'android.hardware.Camera.html', 'android.hardware.Camera.Parameters.html', 'android.hardware.Sensor.html', 'android.inputmethodservice.InputMethodService.html', 'android.inputmethodservice.InputMethodService.InputMethodSessionImpl.html', 'android.Manifest.permission.html', 'android.media.AudioManager.html', 'android.media.MediaMetadataRetriever.html', 'android.media.MediaPlayer.html', 'android.media.MediaRecorder.html', 'android.net.ConnectivityManager.html', 'android.net.http.SslError.html', 'android.net.SSLCertificateSocketFactory.html', 'android.net.TrafficStats.html', 'android.net.wifi.WifiManager.html', 'android.nfc.NdefRecord.html', 'android.nfc.NfcAdapter.html', 'android.nfc.tech.IsoDep.html', 'android.nfc.tech.MifareClassic.html', 'android.nfc.tech.MifareUltralight.html', 'android.nfc.tech.NfcA.html', 'android.nfc.tech.NfcB.html', 'android.nfc.tech.NfcF.html', 'android.nfc.tech.NfcV.html', 'android.opengl.GLUtils.html', 'android.opengl.Matrix.html', 'android.os.Build.html', 'android.os.Build.VERSION_CODES.html', 'android.os.Debug.html', 'android.os.Debug.MemoryInfo.html', 'android.os.Handler.html', 'android.os.Looper.html', 'android.os.ParcelFileDescriptor.html', 'android.os.Process.html', 'android.os.RecoverySystem.html', 'android.preference.CheckBoxPreference.html', 'android.preference.Preference.html', 'android.preference.PreferenceActivity.html', 'android.provider.CallLog.Calls.html', 'android.provider.ContactsContract.CommonDataKinds.Photo.html', 'android.provider.ContactsContract.Contacts.html', 'android.provider.ContactsContract.Contacts.Photo.html', 'android.provider.ContactsContract.ContactsColumns.html', 'android.provider.ContactsContract.GroupsColumns.html', 'android.provider.ContactsContract.html', 'android.provider.ContactsContract.Intents.html', 'android.provider.ContactsContract.RawContactsColumns.html', 'android.provider.ContactsContract.RawContactsEntity.html', 'android.provider.ContactsContract.SettingsColumns.html', 'android.provider.ContactsContract.StatusUpdates.html', 'android.provider.LiveFolders.html', 'android.provider.MediaStore.Audio.AudioColumns.html', 'android.provider.Settings.html', 'android.provider.Settings.Secure.html', 'android.provider.Settings.System.html', 'android.R.attr.html', 'android.R.color.html', 'android.R.integer.html', 'android.R.string.html', 'android.R.style.html', 'android.renderscript.Allocation.html', 'android.renderscript.AllocationAdapter.html', 'android.renderscript.BaseObj.html', 'android.renderscript.Byte2.html', 'android.renderscript.Byte3.html', 'android.renderscript.Byte4.html', 'android.renderscript.Element.html', 'android.renderscript.FieldPacker.html', 'android.renderscript.Int2.html', 'android.renderscript.Int3.html', 'android.renderscript.Int4.html', 'android.renderscript.Long2.html', 'android.renderscript.Long3.html', 'android.renderscript.Long4.html', 'android.renderscript.RenderScriptGL.html', 'android.renderscript.Script.html', 'android.renderscript.Short2.html', 'android.renderscript.Short3.html', 'android.renderscript.Short4.html', 'android.service.wallpaper.WallpaperService.Engine.html', 'android.speech.RecognizerIntent.html', 'android.speech.SpeechRecognizer.html', 'android.speech.tts.TextToSpeech.Engine.html', 'android.speech.tts.TextToSpeech.html', 'android.test.mock.MockPackageManager.html', 'android.text.Layout.html', 'android.util.Config.html', 'android.util.Patterns.html', 'android.util.SparseArray.html', 'android.util.SparseBooleanArray.html', 'android.util.SparseIntArray.html', 'android.view.accessibility.AccessibilityEvent.html', 'android.view.accessibility.AccessibilityManager.html', 'android.view.ActionMode.html', 'android.view.Gravity.html', 'android.view.InputDevice.html', 'android.view.inputmethod.InputMethodManager.html', 'android.view.inputmethod.InputMethodSession.html', 'android.view.inputmethod.InputMethodSubtype.html', 'android.view.KeyEvent.html', 'android.view.MenuItem.html', 'android.view.MotionEvent.html', 'android.view.Surface.html', 'android.view.View.html', 'android.view.ViewConfiguration.html', 'android.view.ViewGroup.html', 'android.view.ViewParent.html', 'android.view.ViewPropertyAnimator.html', 'android.view.Window.html', 'android.view.WindowManager.LayoutParams.html', 'android.webkit.WebChromeClient.html', 'android.webkit.WebSettings.html', 'android.webkit.WebSettings.TextSize.html', 'android.webkit.WebView.HitTestResult.html', 'android.widget.AbsListView.html', 'android.widget.AdapterViewAnimator.html', 'android.widget.ExpandableListView.html', 'android.widget.FrameLayout.html', 'android.widget.LinearLayout.html', 'android.widget.OverScroller.html', 'android.widget.PopupMenu.html', 'android.widget.RemoteViews.html', 'android.widget.Scroller.html', 'android.widget.SearchView.html', 'android.widget.StackView.html', 'android.widget.TextView.html', 'changes-summary.html', 'classes_index_additions.html', 'classes_index_all.html', 'classes_index_changes.html', 'classes_index_removals.html', 'constructors_index_additions.html', 'constructors_index_all.html', 'constructors_index_changes.html', 'constructors_index_removals.html', 'dalvik.annotation.TestTarget.html', 'dalvik.annotation.TestTargetClass.html', 'dalvik.system.DexClassLoader.html', 'dalvik.system.PathClassLoader.html', 'fields_index_additions.html', 'fields_index_all.html', 'fields_index_changes.html', 'fields_index_removals.html', 'java.io.FilePermission.html', 'java.io.ObjectInputStream.html', 'java.io.ObjectOutputStream.html', 'java.lang.Class.html', 'java.lang.ref.ReferenceQueue.html', 'java.lang.reflect.AccessibleObject.html', 'java.lang.reflect.Constructor.html', 'java.lang.reflect.Field.html', 'java.lang.reflect.Method.html', 'java.net.SocketPermission.html', 'java.security.AllPermission.html', 'java.security.BasicPermission.html', 'java.security.Permission.html', 'java.security.UnresolvedPermission.html', 'java.util.logging.Handler.html', 'javax.security.auth.PrivateCredentialPermission.html', 'jdiff_help.html', 'jdiff_statistics.html', 'jdiff_topleftframe.html', 'methods_index_additions.html', 'methods_index_all.html', 'methods_index_changes.html', 'methods_index_removals.html', 'packages_index_additions.html', 'packages_index_all.html', 'packages_index_changes.html', 'packages_index_removals.html', 'pkg_android.accessibilityservice.html', 'pkg_android.accounts.html', 'pkg_android.animation.html', 'pkg_android.app.admin.html', 'pkg_android.app.backup.html', 'pkg_android.app.html', 'pkg_android.appwidget.html', 'pkg_android.bluetooth.html', 'pkg_android.content.html', 'pkg_android.content.pm.html', 'pkg_android.database.sqlite.html', 'pkg_android.graphics.html', 'pkg_android.hardware.html', 'pkg_android.html', 'pkg_android.inputmethodservice.html', 'pkg_android.media.html', 'pkg_android.net.html', 'pkg_android.net.http.html', 'pkg_android.net.wifi.html', 'pkg_android.nfc.html', 'pkg_android.nfc.tech.html', 'pkg_android.opengl.html', 'pkg_android.os.html', 'pkg_android.preference.html', 'pkg_android.provider.html', 'pkg_android.renderscript.html', 'pkg_android.service.wallpaper.html', 'pkg_android.speech.html', 'pkg_android.speech.tts.html', 'pkg_android.test.mock.html', 'pkg_android.text.html', 'pkg_android.text.style.html', 'pkg_android.util.html', 'pkg_android.view.accessibility.html', 'pkg_android.view.html', 'pkg_android.view.inputmethod.html', 'pkg_android.webkit.html', 'pkg_android.widget.html', 'pkg_dalvik.annotation.html', 'pkg_dalvik.system.html', 'pkg_java.io.html', 'pkg_java.lang.html', 'pkg_java.lang.ref.html', 'pkg_java.lang.reflect.html', 'pkg_java.net.html', 'pkg_java.security.html', 'pkg_java.util.logging.html', 'pkg_javax.security.auth.html']\n",
        "d:\\android\\android-sdk\\docs\\sdk\\api_diff\\15 ['changes.html', 'stylesheet-jdiff.css']\n",
        "d:\\android\\android-sdk\\docs\\sdk\\api_diff\\15\\changes ['alldiffs_index_additions.html', 'alldiffs_index_all.html', 'alldiffs_index_changes.html', 'alldiffs_index_removals.html', 'android.app.Fragment.html', 'android.appwidget.AppWidgetHostView.html', 'android.bluetooth.BluetoothDevice.html', 'android.content.Context.html', 'android.content.Intent.html', 'android.database.CursorWindow.html', 'android.graphics.SurfaceTexture.html', 'android.hardware.Camera.Parameters.html', 'android.Manifest.permission.html', 'android.media.CamcorderProfile.html', 'android.media.MediaMetadataRetriever.html', 'android.opengl.GLES11Ext.html', 'android.os.Build.VERSION_CODES.html', 'android.os.IBinder.html', 'android.os.RemoteException.html', 'android.provider.CalendarContract.AttendeesColumns.html', 'android.provider.CalendarContract.CalendarColumns.html', 'android.provider.CalendarContract.EventsColumns.html', 'android.provider.MediaStore.html', 'android.provider.Settings.Secure.html', 'android.service.textservice.SpellCheckerService.Session.html', 'android.service.wallpaper.WallpaperService.Engine.html', 'android.speech.tts.TextToSpeech.Engine.html', 'android.speech.tts.TextToSpeech.html', 'android.speech.tts.TextToSpeechService.html', 'android.text.style.SuggestionSpan.html', 'android.view.accessibility.AccessibilityRecord.html', 'android.view.KeyEvent.html', 'android.view.textservice.SpellCheckerSession.html', 'android.view.textservice.SuggestionsInfo.html', 'android.view.View.html', 'android.webkit.WebSettings.html', 'android.webkit.WebSettings.LayoutAlgorithm.html', 'android.widget.RemoteViews.html', 'changes-summary.html', 'classes_index_additions.html', 'classes_index_all.html', 'classes_index_changes.html', 'classes_index_removals.html', 'constructors_index_additions.html', 'constructors_index_all.html', 'constructors_index_changes.html', 'constructors_index_removals.html', 'fields_index_additions.html', 'fields_index_all.html', 'fields_index_changes.html', 'fields_index_removals.html', 'jdiff_help.html', 'jdiff_statistics.html', 'jdiff_topleftframe.html', 'methods_index_additions.html', 'methods_index_all.html', 'methods_index_changes.html', 'methods_index_removals.html', 'packages_index_additions.html', 'packages_index_all.html', 'packages_index_changes.html', 'packages_index_removals.html', 'pkg_android.app.html', 'pkg_android.appwidget.html', 'pkg_android.bluetooth.html', 'pkg_android.content.html', 'pkg_android.database.html', 'pkg_android.graphics.html', 'pkg_android.hardware.html', 'pkg_android.html', 'pkg_android.media.html', 'pkg_android.opengl.html', 'pkg_android.os.html', 'pkg_android.provider.html', 'pkg_android.service.textservice.html', 'pkg_android.service.wallpaper.html', 'pkg_android.speech.tts.html', 'pkg_android.text.style.html', 'pkg_android.view.accessibility.html', 'pkg_android.view.html', 'pkg_android.view.textservice.html', 'pkg_android.webkit.html', 'pkg_android.widget.html']\n",
        "d:\\android\\android-sdk\\docs\\sdk\\api_diff\\16"
       ]
      },
      {
       "output_type": "stream",
       "stream": "stdout",
       "text": [
        " ['changes.html', 'missingSinces.txt', 'stylesheet-jdiff.css', 'user_comments_for_15_to_16.xml']\n",
        "d:\\android\\android-sdk\\docs\\sdk\\api_diff\\16\\changes"
       ]
      },
      {
       "output_type": "stream",
       "stream": "stdout",
       "text": [
        " ['alldiffs_index_additions.html', 'alldiffs_index_all.html', 'alldiffs_index_changes.html', 'alldiffs_index_removals.html', 'android.accessibilityservice.AccessibilityService.html', 'android.accessibilityservice.AccessibilityServiceInfo.html', 'android.animation.LayoutTransition.html', 'android.app.Activity.html', 'android.app.ActivityManager.html', 'android.app.ActivityManager.MemoryInfo.html', 'android.app.ActivityManager.RunningAppProcessInfo.html', 'android.app.DownloadManager.Request.html', 'android.app.Fragment.html', 'android.app.KeyguardManager.html', 'android.app.Notification.Builder.html', 'android.app.Notification.html', 'android.app.PendingIntent.html', 'android.app.SearchManager.html', 'android.app.WallpaperManager.html', 'android.appwidget.AppWidgetHostView.html', 'android.appwidget.AppWidgetManager.html', 'android.appwidget.AppWidgetProvider.html', 'android.bluetooth.BluetoothAdapter.html', 'android.content.AsyncTaskLoader.html', 'android.content.ClipData.html', 'android.content.ClipData.Item.html', 'android.content.ClipDescription.html', 'android.content.ComponentCallbacks2.html', 'android.content.ContentProvider.html', 'android.content.ContentProviderClient.html', 'android.content.ContentResolver.html', 'android.content.Context.html', 'android.content.ContextWrapper.html', 'android.content.Intent.html', 'android.content.Loader.html', 'android.content.pm.ActivityInfo.html', 'android.content.pm.PackageInfo.html', 'android.content.pm.PackageManager.html', 'android.content.pm.PermissionInfo.html', 'android.content.pm.ServiceInfo.html', 'android.content.res.Configuration.html', 'android.content.res.Resources.html', 'android.database.AbstractCursor.html', 'android.database.ContentObservable.html', 'android.database.ContentObserver.html', 'android.database.Cursor.html', 'android.database.CursorWindow.html', 'android.database.SQLException.html', 'android.database.sqlite.SQLiteClosable.html', 'android.database.sqlite.SQLiteDatabase.html', 'android.database.sqlite.SQLiteException.html', 'android.database.sqlite.SQLiteOpenHelper.html', 'android.database.sqlite.SQLiteProgram.html', 'android.database.sqlite.SQLiteQuery.html', 'android.database.sqlite.SQLiteQueryBuilder.html', 'android.database.sqlite.SQLiteStatement.html', 'android.drm.DrmManagerClient.html', 'android.drm.DrmStore.Action.html', 'android.drm.DrmStore.DrmObjectType.html', 'android.drm.DrmStore.html', 'android.drm.DrmStore.Playback.html', 'android.drm.DrmStore.RightsStatus.html', 'android.drm.DrmSupportInfo.html', 'android.graphics.AvoidXfermode.html', 'android.graphics.Camera.html', 'android.graphics.Canvas.html', 'android.graphics.drawable.GradientDrawable.html', 'android.graphics.Paint.html', 'android.graphics.PixelFormat.html', 'android.graphics.PixelXorXfermode.html', 'android.graphics.SurfaceTexture.html', 'android.hardware.Camera.html', 'android.hardware.SensorManager.html', 'android.Manifest.permission.html', 'android.media.audiofx.Visualizer.html', 'android.media.AudioManager.html', 'android.media.AudioRecord.html', 'android.media.MediaPlayer.html', 'android.media.MediaRecorder.AudioEncoder.html', 'android.media.MediaRecorder.html', 'android.media.MediaRecorder.OutputFormat.html', 'android.media.ToneGenerator.html', 'android.net.ConnectivityManager.html', 'android.net.SSLCertificateSocketFactory.html', 'android.net.Uri.html', 'android.net.wifi.p2p.WifiP2pManager.html', 'android.nfc.FormatException.html', 'android.nfc.NdefMessage.html', 'android.nfc.NdefRecord.html', 'android.nfc.NfcAdapter.html', 'android.nfc.tech.IsoDep.html', 'android.os.Build.VERSION_CODES.html', 'android.os.ParcelFileDescriptor.html', 'android.os.Process.html', 'android.os.StrictMode.VmPolicy.Builder.html', 'android.os.TokenWatcher.html', 'android.os.Vibrator.html', 'android.provider.CalendarContract.AttendeesColumns.html', 'android.provider.CalendarContract.EventsColumns.html', 'android.provider.CalendarContract.html', 'android.provider.CalendarContract.RemindersColumns.html', 'android.provider.ContactsContract.CommonDataKinds.Phone.html', 'android.provider.ContactsContract.Contacts.html', 'android.provider.ContactsContract.DataUsageFeedback.html', 'android.provider.ContactsContract.PhoneLookupColumns.html', 'android.provider.MediaStore.MediaColumns.html', 'android.provider.Settings.html', 'android.provider.Settings.Secure.html', 'android.provider.Settings.System.html', 'android.provider.UserDictionary.Words.html', 'android.R.attr.html', 'android.R.style.html', 'android.renderscript.Allocation.html', 'android.renderscript.Element.html', 'android.renderscript.FileA3D.EntryType.html', 'android.renderscript.FileA3D.html', 'android.renderscript.FileA3D.IndexEntry.html', 'android.renderscript.Font.html', 'android.renderscript.Font.Style.html', 'android.renderscript.Mesh.AllocationBuilder.html', 'android.renderscript.Mesh.Builder.html', 'android.renderscript.Mesh.html', 'android.renderscript.Mesh.Primitive.html', 'android.renderscript.Mesh.TriangleMeshBuilder.html', 'android.renderscript.Program.BaseProgramBuilder.html', 'android.renderscript.Program.html', 'android.renderscript.ProgramFragment.Builder.html', 'android.renderscript.ProgramFragment.html', 'android.renderscript.ProgramFragmentFixedFunction.Builder.EnvMode.html', 'android.renderscript.ProgramFragmentFixedFunction.Builder.Format.html', 'android.renderscript.ProgramFragmentFixedFunction.Builder.html', 'android.renderscript.ProgramFragmentFixedFunction.html', 'android.renderscript.ProgramRaster.Builder.html', 'android.renderscript.ProgramRaster.CullMode.html', 'android.renderscript.ProgramRaster.html', 'android.renderscript.ProgramStore.html', 'android.renderscript.ProgramVertex.Builder.html', 'android.renderscript.ProgramVertex.html', 'android.renderscript.ProgramVertexFixedFunction.Builder.html', 'android.renderscript.ProgramVertexFixedFunction.Constants.html', 'android.renderscript.ProgramVertexFixedFunction.html', 'android.renderscript.RenderScriptGL.html', 'android.renderscript.RenderScriptGL.SurfaceConfig.html', 'android.renderscript.RSSurfaceView.html', 'android.renderscript.RSTextureView.html', 'android.renderscript.Sampler.html', 'android.renderscript.Script.html', 'android.security.KeyChain.html', 'android.service.textservice.SpellCheckerService.Session.html', 'android.speech.RecognizerIntent.html', 'android.test.AssertionFailedError.html', 'android.test.ComparisonFailure.html', 'android.test.InstrumentationTestSuite.html', 'android.test.mock.MockContext.html', 'android.text.Html.html', 'android.util.DisplayMetrics.html', 'android.view.accessibility.AccessibilityEvent.html', 'android.view.accessibility.AccessibilityNodeInfo.html', 'android.view.accessibility.AccessibilityRecord.html', 'android.view.ActionMode.html', 'android.view.ActionProvider.html', 'android.view.Display.html', 'android.view.Gravity.html', 'android.view.InputDevice.html', 'android.view.InputEvent.html', 'android.view.inputmethod.EditorInfo.html', 'android.view.inputmethod.InputMethodManager.html', 'android.view.KeyCharacterMap.html', 'android.view.KeyEvent.html', 'android.view.textservice.SpellCheckerSession.html', 'android.view.textservice.SpellCheckerSession.SpellCheckerSessionListener.html', 'android.view.textservice.SpellCheckerSubtype.html', 'android.view.TextureView.html', 'android.view.View.AccessibilityDelegate.html', 'android.view.View.html', 'android.view.ViewDebug.HierarchyTraceType.html', 'android.view.ViewDebug.html', 'android.view.ViewDebug.RecyclerTraceType.html', 'android.view.ViewGroup.html', 'android.view.ViewParent.html', 'android.view.ViewPropertyAnimator.html', 'android.view.ViewStub.html', 'android.view.ViewTreeObserver.html', 'android.webkit.CookieManager.html', 'android.webkit.GeolocationPermissions.html', 'android.webkit.JsResult.html', 'android.webkit.WebIconDatabase.html', 'android.webkit.WebSettings.html', 'android.webkit.WebStorage.html', 'android.webkit.WebView.HitTestResult.html', 'android.webkit.WebView.html', 'android.widget.AbsSeekBar.html', 'android.widget.AdapterViewAnimator.html', 'android.widget.AdapterViewFlipper.html', 'android.widget.AutoCompleteTextView.html', 'android.widget.CalendarView.html', 'android.widget.CheckedTextView.html', 'android.widget.FrameLayout.html', 'android.widget.Gallery.html', 'android.widget.GridLayout.html', 'android.widget.GridView.html', 'android.widget.ImageView.html', 'android.widget.LinearLayout.html', 'android.widget.RelativeLayout.html', 'android.widget.RemoteViews.html', 'android.widget.SearchView.html', 'android.widget.Spinner.html', 'android.widget.Switch.html', 'android.widget.TextView.html', 'changes-summary.html', 'classes_index_additions.html', 'classes_index_all.html', 'classes_index_changes.html', 'classes_index_removals.html', 'constructors_index_additions.html', 'constructors_index_all.html', 'constructors_index_changes.html', 'constructors_index_removals.html', 'fields_index_additions.html', 'fields_index_all.html', 'fields_index_changes.html', 'fields_index_removals.html', 'jdiff_help.html', 'jdiff_statistics.html', 'jdiff_topleftframe.html', 'junit.framework.Assert.html', 'junit.framework.AssertionFailedError.html', 'junit.framework.ComparisonFailure.html', 'junit.framework.TestResult.html', 'junit.framework.TestSuite.html', 'junit.runner.BaseTestRunner.html', 'methods_index_additions.html', 'methods_index_all.html', 'methods_index_changes.html', 'methods_index_removals.html', 'packages_index_additions.html', 'packages_index_all.html', 'packages_index_changes.html', 'packages_index_removals.html', 'pkg_android.accessibilityservice.html', 'pkg_android.animation.html', 'pkg_android.app.html', 'pkg_android.appwidget.html', 'pkg_android.bluetooth.html', 'pkg_android.content.html', 'pkg_android.content.pm.html', 'pkg_android.content.res.html', 'pkg_android.database.html', 'pkg_android.database.sqlite.html', 'pkg_android.drm.html', 'pkg_android.graphics.drawable.html', 'pkg_android.graphics.html', 'pkg_android.hardware.html', 'pkg_android.html', 'pkg_android.media.audiofx.html', 'pkg_android.media.html', 'pkg_android.net.html', 'pkg_android.net.wifi.p2p.html', 'pkg_android.nfc.html', 'pkg_android.nfc.tech.html', 'pkg_android.os.html', 'pkg_android.provider.html', 'pkg_android.renderscript.html', 'pkg_android.security.html', 'pkg_android.service.textservice.html', 'pkg_android.speech.html', 'pkg_android.test.html', 'pkg_android.test.mock.html', 'pkg_android.text.html', 'pkg_android.util.html', 'pkg_android.view.accessibility.html', 'pkg_android.view.html', 'pkg_android.view.inputmethod.html', 'pkg_android.view.textservice.html', 'pkg_android.webkit.html', 'pkg_android.widget.html', 'pkg_junit.framework.html', 'pkg_junit.runner.html']\n",
        "d:\\android\\android-sdk\\docs\\sdk\\api_diff\\17 ['changes.html', 'missingSinces.txt', 'stylesheet-jdiff.css', 'user_comments_for_16_to_17.xml']\n",
        "d:\\android\\android-sdk\\docs\\sdk\\api_diff\\17\\changes"
       ]
      },
      {
       "output_type": "stream",
       "stream": "stdout",
       "text": [
        " ['alldiffs_index_additions.html', 'alldiffs_index_all.html', 'alldiffs_index_changes.html', 'alldiffs_index_removals.html', 'android.accessibilityservice.AccessibilityService.html', 'android.accessibilityservice.AccessibilityServiceInfo.html', 'android.app.Activity.html', 'android.app.admin.DeviceAdminInfo.html', 'android.app.admin.DevicePolicyManager.html', 'android.app.AlertDialog.Builder.html', 'android.app.Fragment.html', 'android.app.FragmentManager.html', 'android.app.Notification.Builder.html', 'android.app.PendingIntent.html', 'android.app.WallpaperManager.html', 'android.appwidget.AppWidgetHost.html', 'android.appwidget.AppWidgetManager.html', 'android.appwidget.AppWidgetProviderInfo.html', 'android.bluetooth.BluetoothA2dp.html', 'android.content.ContentProviderClient.html', 'android.content.Context.html', 'android.content.ContextWrapper.html', 'android.content.Intent.html', 'android.content.IntentSender.html', 'android.content.pm.ActivityInfo.html', 'android.content.pm.ApplicationInfo.html', 'android.content.pm.PackageManager.html', 'android.content.pm.PermissionGroupInfo.html', 'android.content.pm.PermissionInfo.html', 'android.content.pm.ProviderInfo.html', 'android.content.pm.ResolveInfo.html', 'android.content.pm.ServiceInfo.html', 'android.content.res.Configuration.html', 'android.database.DatabaseUtils.InsertHelper.html', 'android.graphics.Bitmap.html', 'android.graphics.Paint.html', 'android.hardware.Camera.CameraInfo.html', 'android.hardware.Camera.html', 'android.hardware.Camera.Parameters.html', 'android.hardware.Sensor.html', 'android.inputmethodservice.AbstractInputMethodService.AbstractInputMethodSessionImpl.html', 'android.inputmethodservice.AbstractInputMethodService.html', 'android.inputmethodservice.InputMethodService.html', 'android.location.Location.html', 'android.location.LocationProvider.html', 'android.Manifest.permission_group.html', 'android.media.AudioManager.html', 'android.media.MediaMetadataRetriever.html', 'android.media.MediaPlayer.html', 'android.media.MediaRecorder.html', 'android.media.MediaRouter.Callback.html', 'android.media.MediaRouter.html', 'android.media.MediaRouter.RouteInfo.html', 'android.net.ConnectivityManager.html', 'android.net.LocalSocket.html', 'android.net.SSLCertificateSocketFactory.html', 'android.net.wifi.ScanResult.html', 'android.opengl.GLES20.html', 'android.os.BatteryManager.html', 'android.os.Binder.html', 'android.os.Build.VERSION_CODES.html', 'android.os.PowerManager.html', 'android.os.PowerManager.WakeLock.html', 'android.os.Process.html', 'android.os.RemoteCallbackList.html', 'android.os.SystemClock.html', 'android.provider.CalendarContract.CalendarColumns.html', 'android.provider.CalendarContract.EventsColumns.html', 'android.provider.CallLog.Calls.html', 'android.provider.MediaStore.html', 'android.provider.Settings.Secure.html', 'android.provider.Settings.System.html', 'android.R.attr.html', 'android.R.style.html', 'android.renderscript.Script.html', 'android.telephony.cdma.CdmaCellLocation.html', 'android.telephony.PhoneStateListener.html', 'android.telephony.TelephonyManager.html', 'android.test.mock.MockContext.html', 'android.test.mock.MockPackageManager.html', 'android.text.format.DateFormat.html', 'android.text.format.DateUtils.html', 'android.text.TextUtils.html', 'android.util.DisplayMetrics.html', 'android.util.FloatMath.html', 'android.util.LruCache.html', 'android.view.accessibility.AccessibilityEvent.html', 'android.view.accessibility.AccessibilityNodeInfo.html', 'android.view.ContextThemeWrapper.html', 'android.view.Display.html', 'android.view.Gravity.html', 'android.view.inputmethod.InputMethodSession.html', 'android.view.inputmethod.InputMethodSubtype.html', 'android.view.Surface.html', 'android.view.SurfaceView.html', 'android.view.View.html', 'android.view.ViewGroup.LayoutParams.html', 'android.view.ViewGroup.MarginLayoutParams.html', 'android.view.WindowManager.LayoutParams.html', 'android.webkit.WebChromeClient.html', 'android.webkit.WebHistoryItem.html', 'android.webkit.WebSettings.html', 'android.webkit.WebView.html', 'android.webkit.WebViewDatabase.html', 'android.widget.AutoCompleteTextView.html', 'android.widget.CheckedTextView.html', 'android.widget.DigitalClock.html', 'android.widget.RelativeLayout.html', 'android.widget.RelativeLayout.LayoutParams.html', 'android.widget.RemoteViews.html', 'android.widget.SlidingDrawer.html', 'android.widget.TextView.html', 'android.widget.TwoLineListItem.html', 'android.widget.VideoView.html', 'android.widget.ViewAnimator.html', 'changes-summary.html', 'classes_index_additions.html', 'classes_index_all.html', 'classes_index_changes.html', 'classes_index_removals.html', 'constructors_index_additions.html', 'constructors_index_all.html', 'constructors_index_changes.html', 'constructors_index_removals.html', 'fields_index_additions.html', 'fields_index_all.html', 'fields_index_changes.html', 'fields_index_removals.html', 'jdiff_help.html', 'jdiff_statistics.html', 'jdiff_topleftframe.html', 'methods_index_additions.html', 'methods_index_all.html', 'methods_index_changes.html', 'methods_index_removals.html', 'packages_index_additions.html', 'packages_index_all.html', 'packages_index_changes.html', 'packages_index_removals.html', 'pkg_android.accessibilityservice.html', 'pkg_android.app.admin.html', 'pkg_android.app.html', 'pkg_android.appwidget.html', 'pkg_android.bluetooth.html', 'pkg_android.content.html', 'pkg_android.content.pm.html', 'pkg_android.content.res.html', 'pkg_android.database.html', 'pkg_android.graphics.html', 'pkg_android.hardware.html', 'pkg_android.html', 'pkg_android.inputmethodservice.html', 'pkg_android.location.html', 'pkg_android.media.html', 'pkg_android.net.html', 'pkg_android.net.http.html', 'pkg_android.net.wifi.html', 'pkg_android.nfc.tech.html', 'pkg_android.opengl.html', 'pkg_android.os.html', 'pkg_android.provider.html', 'pkg_android.renderscript.html', 'pkg_android.telephony.cdma.html', 'pkg_android.telephony.html', 'pkg_android.test.mock.html', 'pkg_android.text.format.html', 'pkg_android.text.html', 'pkg_android.text.style.html', 'pkg_android.util.html', 'pkg_android.view.accessibility.html', 'pkg_android.view.html', 'pkg_android.view.inputmethod.html', 'pkg_android.webkit.html', 'pkg_android.widget.html']\n",
        "d:\\android\\android-sdk\\docs\\sdk\\api_diff\\18 ['changes.html', 'stylesheet-jdiff.css']\n",
        "d:\\android\\android-sdk\\docs\\sdk\\api_diff\\18\\changes"
       ]
      },
      {
       "output_type": "stream",
       "stream": "stdout",
       "text": [
        " ['alldiffs_index_additions.html', 'alldiffs_index_all.html', 'alldiffs_index_changes.html', 'alldiffs_index_removals.html', 'android.accessibilityservice.AccessibilityService.html', 'android.accessibilityservice.AccessibilityServiceInfo.html', 'android.accounts.AbstractAccountAuthenticator.html', 'android.accounts.AccountManager.html', 'android.animation.Animator.html', 'android.animation.ObjectAnimator.html', 'android.animation.ValueAnimator.html', 'android.app.ActionBar.html', 'android.app.Activity.html', 'android.app.admin.DevicePolicyManager.html', 'android.app.Application.html', 'android.app.Instrumentation.html', 'android.bluetooth.BluetoothAdapter.html', 'android.bluetooth.BluetoothDevice.html', 'android.bluetooth.BluetoothProfile.html', 'android.content.ContentProvider.html', 'android.content.Context.html', 'android.content.Intent.html', 'android.content.Loader.html', 'android.content.pm.ActivityInfo.html', 'android.content.pm.PackageManager.html', 'android.graphics.drawable.BitmapDrawable.html', 'android.graphics.Paint.html', 'android.graphics.Picture.html', 'android.hardware.Sensor.html', 'android.hardware.SensorManager.html', 'android.hardware.usb.UsbDeviceConnection.html', 'android.location.Location.html', 'android.Manifest.permission.html', 'android.Manifest.permission_group.html', 'android.media.audiofx.AudioEffect.html', 'android.media.AudioManager.html', 'android.media.MediaCodec.html', 'android.media.MediaCodecInfo.CodecCapabilities.html', 'android.media.MediaCodecInfo.CodecProfileLevel.html', 'android.media.MediaExtractor.html', 'android.media.MediaRouter.html', 'android.media.MediaRouter.RouteInfo.html', 'android.media.MediaRouter.UserRouteInfo.html', 'android.media.RemoteControlClient.html', 'android.net.ConnectivityManager.html', 'android.net.DhcpInfo.html', 'android.net.TrafficStats.html', 'android.net.wifi.p2p.WifiP2pDeviceList.html', 'android.net.wifi.p2p.WifiP2pManager.html', 'android.net.wifi.WifiConfiguration.html', 'android.net.wifi.WifiManager.html', 'android.nfc.NfcAdapter.html', 'android.opengl.GLES20.html', 'android.os.Build.VERSION_CODES.html', 'android.os.Bundle.html', 'android.os.Debug.html', 'android.os.HandlerThread.html', 'android.os.Looper.html', 'android.os.MessageQueue.html', 'android.os.Process.html', 'android.os.StatFs.html', 'android.os.StrictMode.VmPolicy.Builder.html', 'android.os.UserManager.html', 'android.provider.CalendarContract.SyncColumns.html', 'android.provider.ContactsContract.ContactsColumns.html', 'android.provider.ContactsContract.Data.html', 'android.provider.ContactsContract.DataColumnsWithJoins.html', 'android.provider.ContactsContract.Intents.html', 'android.provider.Settings.html', 'android.R.attr.html', 'android.R.style.html', 'android.renderscript.Allocation.html', 'android.renderscript.FieldPacker.html', 'android.renderscript.RenderScript.html', 'android.renderscript.Sampler.html', 'android.renderscript.Script.html', 'android.renderscript.Type.Builder.html', 'android.renderscript.Type.html', 'android.security.KeyChain.html', 'android.speech.tts.TextToSpeech.Engine.html', 'android.speech.tts.TextToSpeech.html', 'android.speech.tts.TextToSpeech.OnUtteranceCompletedListener.html', 'android.telephony.CellIdentityGsm.html', 'android.telephony.TelephonyManager.html', 'android.test.InstrumentationTestRunner.html', 'android.test.mock.MockContentResolver.html', 'android.test.mock.MockPackageManager.html', 'android.text.format.DateFormat.html', 'android.text.style.EasyEditSpan.html', 'android.util.DisplayMetrics.html', 'android.view.accessibility.AccessibilityNodeInfo.html', 'android.view.InputDevice.html', 'android.view.InputDevice.MotionRange.html', 'android.view.InputEvent.html', 'android.view.KeyEvent.html', 'android.view.View.html', 'android.view.ViewGroup.html', 'android.view.ViewPropertyAnimator.html', 'android.view.ViewTreeObserver.html', 'android.view.WindowManager.LayoutParams.html', 'android.webkit.WebChromeClient.html', 'android.webkit.WebIconDatabase.html', 'android.webkit.WebIconDatabase.IconListener.html', 'android.webkit.WebSettings.html', 'android.webkit.WebStorage.html', 'android.webkit.WebView.html', 'android.webkit.WebViewDatabase.html', 'android.widget.ExpandableListView.html', 'android.widget.MediaController.MediaPlayerControl.html', 'android.widget.QuickContactBadge.html', 'android.widget.TextClock.html', 'android.widget.VideoView.html', 'changes-summary.html', 'classes_index_additions.html', 'classes_index_all.html', 'classes_index_changes.html', 'classes_index_removals.html', 'constructors_index_additions.html', 'constructors_index_all.html', 'constructors_index_changes.html', 'constructors_index_removals.html', 'fields_index_additions.html', 'fields_index_all.html', 'fields_index_changes.html', 'fields_index_removals.html', 'jdiff_help.html', 'jdiff_statistics.html', 'jdiff_topleftframe.html', 'methods_index_additions.html', 'methods_index_all.html', 'methods_index_changes.html', 'methods_index_removals.html', 'packages_index_additions.html', 'packages_index_all.html', 'packages_index_changes.html', 'packages_index_removals.html', 'pkg_android.accessibilityservice.html', 'pkg_android.accounts.html', 'pkg_android.animation.html', 'pkg_android.app.admin.html', 'pkg_android.app.html', 'pkg_android.bluetooth.html', 'pkg_android.content.html', 'pkg_android.content.pm.html', 'pkg_android.graphics.drawable.html', 'pkg_android.graphics.html', 'pkg_android.hardware.html', 'pkg_android.hardware.usb.html', 'pkg_android.html', 'pkg_android.location.html', 'pkg_android.media.audiofx.html', 'pkg_android.media.html', 'pkg_android.net.html', 'pkg_android.net.wifi.html', 'pkg_android.net.wifi.p2p.html', 'pkg_android.nfc.html', 'pkg_android.opengl.html', 'pkg_android.os.html', 'pkg_android.provider.html', 'pkg_android.renderscript.html', 'pkg_android.security.html', 'pkg_android.speech.tts.html', 'pkg_android.telephony.html', 'pkg_android.test.html', 'pkg_android.test.mock.html', 'pkg_android.text.format.html', 'pkg_android.text.html', 'pkg_android.text.style.html', 'pkg_android.util.html', 'pkg_android.view.accessibility.html', 'pkg_android.view.html', 'pkg_android.webkit.html', 'pkg_android.widget.html']\n",
        "d:\\android\\android-sdk\\docs\\sdk\\api_diff\\19 ['changes.html', 'stylesheet-jdiff.css']\n",
        "d:\\android\\android-sdk\\docs\\sdk\\api_diff\\19\\changes"
       ]
      },
      {
       "output_type": "stream",
       "stream": "stdout",
       "text": [
        " ['alldiffs_index_additions.html', 'alldiffs_index_all.html', 'alldiffs_index_changes.html', 'alldiffs_index_removals.html', 'android.animation.Animator.html', 'android.animation.AnimatorListenerAdapter.html', 'android.app.Activity.html', 'android.app.ActivityManager.html', 'android.app.AlarmManager.html', 'android.app.Notification.BigPictureStyle.html', 'android.app.Notification.BigTextStyle.html', 'android.app.Notification.Builder.html', 'android.app.Notification.html', 'android.app.Notification.InboxStyle.html', 'android.app.Notification.Style.html', 'android.app.WallpaperManager.html', 'android.bluetooth.BluetoothAssignedNumbers.html', 'android.bluetooth.BluetoothDevice.html', 'android.bluetooth.BluetoothGatt.html', 'android.bluetooth.BluetoothHeadset.html', 'android.content.ContentProvider.html', 'android.content.ContentProviderClient.html', 'android.content.ContentResolver.html', 'android.content.Context.html', 'android.content.ContextWrapper.html', 'android.content.Intent.html', 'android.content.IntentFilter.html', 'android.content.pm.ComponentInfo.html', 'android.content.pm.PackageManager.html', 'android.content.pm.ProviderInfo.html', 'android.content.pm.ResolveInfo.html', 'android.content.res.AssetFileDescriptor.html', 'android.content.res.Configuration.html', 'android.content.res.XmlResourceParser.html', 'android.database.Cursor.html', 'android.database.CursorWrapper.html', 'android.database.MatrixCursor.RowBuilder.html', 'android.graphics.Bitmap.html', 'android.graphics.BitmapFactory.Options.html', 'android.graphics.drawable.BitmapDrawable.html', 'android.graphics.drawable.ColorDrawable.html', 'android.graphics.drawable.Drawable.html', 'android.graphics.drawable.DrawableContainer.DrawableContainerState.html', 'android.graphics.drawable.InsetDrawable.html', 'android.graphics.ImageFormat.html', 'android.graphics.NinePatch.html', 'android.graphics.Paint.html', 'android.graphics.Path.html', 'android.graphics.PixelFormat.html', 'android.graphics.SurfaceTexture.html', 'android.graphics.SurfaceTexture.OutOfResourcesException.html', 'android.hardware.display.DisplayManager.html', 'android.hardware.Sensor.html', 'android.hardware.SensorManager.html', 'android.location.LocationManager.html', 'android.Manifest.permission.html', 'android.media.audiofx.AudioEffect.html', 'android.media.audiofx.Visualizer.html', 'android.media.AudioManager.html', 'android.media.AudioTrack.html', 'android.media.MediaCodec.CryptoException.html', 'android.media.MediaCodec.html', 'android.media.MediaCodecInfo.CodecCapabilities.html', 'android.media.MediaDrm.html', 'android.media.MediaFormat.html', 'android.media.MediaMuxer.html', 'android.media.MediaPlayer.html', 'android.media.MediaPlayer.TrackInfo.html', 'android.media.MediaRecorder.AudioSource.html', 'android.media.RemoteControlClient.html', 'android.media.RemoteControlClient.MetadataEditor.html', 'android.media.RingtoneManager.html', 'android.net.DhcpInfo.html', 'android.net.LocalSocket.html', 'android.net.wifi.WifiManager.html', 'android.nfc.NfcAdapter.html', 'android.opengl.Matrix.html', 'android.os.Build.VERSION_CODES.html', 'android.os.Debug.MemoryInfo.html', 'android.os.Environment.html', 'android.os.ParcelFileDescriptor.html', 'android.os.UserManager.html', 'android.preference.Preference.html', 'android.preference.PreferenceActivity.html', 'android.provider.AlarmClock.html', 'android.provider.CallLog.Calls.html', 'android.provider.Settings.html', 'android.provider.Settings.Secure.html', 'android.R.attr.html', 'android.R.style.html', 'android.renderscript.Allocation.html', 'android.renderscript.Element.html', 'android.renderscript.ScriptIntrinsicColorMatrix.html', 'android.security.KeyPairGeneratorSpec.Builder.html', 'android.security.KeyPairGeneratorSpec.html', 'android.speech.tts.SynthesisRequest.html', 'android.telephony.TelephonyManager.html', 'android.test.mock.MockContext.html', 'android.test.mock.MockCursor.html', 'android.test.mock.MockPackageManager.html', 'android.text.method.MetaKeyKeyListener.html', 'android.util.DisplayMetrics.html', 'android.util.SparseArray.html', 'android.view.accessibility.AccessibilityEvent.html', 'android.view.accessibility.AccessibilityManager.html', 'android.view.accessibility.AccessibilityNodeInfo.html', 'android.view.accessibility.AccessibilityNodeProvider.html', 'android.view.Display.html', 'android.view.InputDevice.html', 'android.view.inputmethod.InputMethodManager.html', 'android.view.inputmethod.InputMethodSubtype.html', 'android.view.KeyEvent.html', 'android.view.MotionEvent.html', 'android.view.ScaleGestureDetector.html', 'android.view.Surface.OutOfResourcesException.html', 'android.view.View.html', 'android.view.ViewGroup.html', 'android.view.ViewParent.html', 'android.view.ViewPropertyAnimator.html', 'android.view.Window.html', 'android.view.WindowManager.LayoutParams.html', 'android.webkit.WebChromeClient.html', 'android.webkit.WebSettings.html', 'android.webkit.WebStorage.QuotaUpdater.html', 'android.webkit.WebView.html', 'android.widget.AbsListView.html', 'android.widget.FrameLayout.LayoutParams.html', 'android.widget.LinearLayout.LayoutParams.html', 'android.widget.ListPopupWindow.html', 'android.widget.ListView.html', 'android.widget.PopupMenu.html', 'android.widget.PopupWindow.html', 'android.widget.RelativeLayout.LayoutParams.html', 'android.widget.VideoView.html', 'changes-summary.html', 'classes_index_additions.html', 'classes_index_all.html', 'classes_index_changes.html', 'classes_index_removals.html', 'constructors_index_additions.html', 'constructors_index_all.html', 'constructors_index_changes.html', 'constructors_index_removals.html', 'fields_index_additions.html', 'fields_index_all.html', 'fields_index_changes.html', 'fields_index_removals.html', 'java.io.Closeable.html', 'java.io.FileInputStream.html', 'java.io.FileOutputStream.html', 'java.io.ObjectInput.html', 'java.io.ObjectOutput.html', 'java.lang.AssertionError.html', 'java.lang.Boolean.html', 'java.lang.Byte.html', 'java.lang.Character.html', 'java.lang.Character.UnicodeBlock.html', 'java.lang.ClassNotFoundException.html', 'java.lang.IllegalAccessException.html', 'java.lang.InstantiationException.html', 'java.lang.Integer.html', 'java.lang.LinkageError.html', 'java.lang.Long.html', 'java.lang.NoSuchFieldException.html', 'java.lang.NoSuchMethodException.html', 'java.lang.reflect.InvocationTargetException.html', 'java.lang.reflect.Modifier.html', 'java.lang.Short.html', 'java.lang.System.html', 'java.lang.Throwable.html', 'java.net.DatagramSocket.html', 'java.net.HttpURLConnection.html', 'java.net.InetAddress.html', 'java.net.InetSocketAddress.html', 'java.net.NetworkInterface.html', 'java.net.ServerSocket.html', 'java.net.Socket.html', 'java.nio.channels.FileLock.html', 'java.nio.channels.Selector.html', 'java.nio.CharBuffer.html', 'java.sql.Connection.html', 'java.sql.ResultSet.html', 'java.sql.Statement.html', 'java.util.BitSet.html', 'java.util.Collections.html', 'java.util.ConcurrentModificationException.html', 'java.util.Currency.html', 'java.util.logging.Logger.html', 'java.util.Scanner.html', 'java.util.zip.Deflater.html', 'java.util.zip.DeflaterOutputStream.html', 'java.util.zip.GZIPOutputStream.html', 'java.util.zip.ZipFile.html', 'javax.crypto.Cipher.html', 'javax.crypto.CipherSpi.html', 'jdiff_help.html', 'jdiff_statistics.html', 'jdiff_topleftframe.html', 'methods_index_additions.html', 'methods_index_all.html', 'methods_index_changes.html', 'methods_index_removals.html', 'org.json.JSONArray.html', 'org.json.JSONObject.html', 'packages_index_additions.html', 'packages_index_all.html', 'packages_index_changes.html', 'packages_index_removals.html', 'pkg_android.animation.html', 'pkg_android.app.html', 'pkg_android.bluetooth.html', 'pkg_android.content.html', 'pkg_android.content.pm.html', 'pkg_android.content.res.html', 'pkg_android.database.html', 'pkg_android.graphics.drawable.html', 'pkg_android.graphics.html', 'pkg_android.hardware.display.html', 'pkg_android.hardware.html', 'pkg_android.html', 'pkg_android.location.html', 'pkg_android.media.audiofx.html', 'pkg_android.media.html', 'pkg_android.net.html', 'pkg_android.net.wifi.html', 'pkg_android.nfc.html', 'pkg_android.opengl.html', 'pkg_android.os.html', 'pkg_android.preference.html', 'pkg_android.provider.html', 'pkg_android.renderscript.html', 'pkg_android.security.html', 'pkg_android.speech.tts.html', 'pkg_android.telephony.html', 'pkg_android.test.mock.html', 'pkg_android.text.method.html', 'pkg_android.util.html', 'pkg_android.view.accessibility.html', 'pkg_android.view.html', 'pkg_android.view.inputmethod.html', 'pkg_android.webkit.html', 'pkg_android.widget.html', 'pkg_java.io.html', 'pkg_java.lang.html', 'pkg_java.lang.reflect.html', 'pkg_java.net.html', 'pkg_java.nio.channels.html', 'pkg_java.nio.charset.html', 'pkg_java.nio.html', 'pkg_java.sql.html', 'pkg_java.util.html', 'pkg_java.util.logging.html', 'pkg_java.util.zip.html', 'pkg_javax.crypto.html', 'pkg_javax.crypto.spec.html', 'pkg_org.json.html']\n",
        "d:\\android\\android-sdk\\docs\\sdk\\api_diff\\20 ['changes.html', 'missingSinces.txt', 'stylesheet-jdiff.css', 'user_comments_for_19_to_20.xml']\n",
        "d:\\android\\android-sdk\\docs\\sdk\\api_diff\\20\\changes"
       ]
      },
      {
       "output_type": "stream",
       "stream": "stdout",
       "text": [
        " ['alldiffs_index_additions.html', 'alldiffs_index_all.html', 'alldiffs_index_changes.html', 'alldiffs_index_removals.html', 'android.app.Notification.Action.html', 'android.app.Notification.Builder.html', 'android.app.Notification.html', 'android.content.pm.ComponentInfo.html', 'android.content.pm.PackageItemInfo.html', 'android.content.pm.PackageManager.html', 'android.content.res.Configuration.html', 'android.hardware.display.DisplayManager.html', 'android.hardware.display.VirtualDisplay.html', 'android.hardware.Sensor.html', 'android.hardware.SensorManager.html', 'android.Manifest.permission.html', 'android.os.Build.VERSION_CODES.html', 'android.os.PowerManager.html', 'android.R.attr.html', 'android.service.notification.StatusBarNotification.html', 'android.test.mock.MockPackageManager.html', 'android.util.TypedValue.html', 'android.view.Display.html', 'android.view.KeyEvent.html', 'android.view.View.html', 'android.view.ViewConfiguration.html', 'android.view.Window.html', 'android.view.WindowManager.LayoutParams.html', 'changes-summary.html', 'classes_index_additions.html', 'classes_index_all.html', 'classes_index_changes.html', 'classes_index_removals.html', 'constructors_index_additions.html', 'constructors_index_all.html', 'constructors_index_changes.html', 'constructors_index_removals.html', 'fields_index_additions.html', 'fields_index_all.html', 'fields_index_changes.html', 'fields_index_removals.html', 'jdiff_help.html', 'jdiff_statistics.html', 'jdiff_topleftframe.html', 'methods_index_additions.html', 'methods_index_all.html', 'methods_index_changes.html', 'methods_index_removals.html', 'org.json.JSONObject.html', 'packages_index_additions.html', 'packages_index_all.html', 'packages_index_changes.html', 'packages_index_removals.html', 'pkg_android.app.html', 'pkg_android.content.pm.html', 'pkg_android.content.res.html', 'pkg_android.hardware.display.html', 'pkg_android.hardware.html', 'pkg_android.html', 'pkg_android.os.html', 'pkg_android.renderscript.html', 'pkg_android.service.notification.html', 'pkg_android.test.mock.html', 'pkg_android.util.html', 'pkg_android.view.html', 'pkg_org.json.html']\n",
        "d:\\android\\android-sdk\\docs\\sdk\\api_diff\\21 ['changes.html', 'missingSinces.txt', 'stylesheet-jdiff.css', 'user_comments_for_20_to_21.xml']\n",
        "d:\\android\\android-sdk\\docs\\sdk\\api_diff\\21\\changes"
       ]
      },
      {
       "output_type": "stream",
       "stream": "stdout",
       "text": [
        " ['alldiffs_index_additions.html', 'alldiffs_index_all.html', 'alldiffs_index_changes.html', 'alldiffs_index_removals.html', 'android.accessibilityservice.AccessibilityService.html', 'android.accessibilityservice.AccessibilityServiceInfo.html', 'android.accounts.AccountManager.html', 'android.animation.AnimatorInflater.html', 'android.animation.ObjectAnimator.html', 'android.animation.PropertyValuesHolder.html', 'android.animation.RectEvaluator.html', 'android.animation.ValueAnimator.html', 'android.app.ActionBar.html', 'android.app.ActionBar.OnNavigationListener.html', 'android.app.ActionBar.Tab.html', 'android.app.ActionBar.TabListener.html', 'android.app.Activity.html', 'android.app.ActivityManager.html', 'android.app.ActivityManager.RecentTaskInfo.html', 'android.app.ActivityManager.RunningAppProcessInfo.html', 'android.app.ActivityOptions.html', 'android.app.admin.DeviceAdminReceiver.html', 'android.app.admin.DevicePolicyManager.html', 'android.app.AlarmManager.html', 'android.app.AlertDialog.Builder.html', 'android.app.AppOpsManager.html', 'android.app.backup.BackupAgent.html', 'android.app.Dialog.html', 'android.app.Fragment.html', 'android.app.FragmentBreadCrumbs.html', 'android.app.FragmentTransaction.html', 'android.app.Instrumentation.html', 'android.app.KeyguardManager.html', 'android.app.MediaRouteButton.html', 'android.app.Notification.Builder.html', 'android.app.Notification.html', 'android.app.SearchManager.html', 'android.app.UiAutomation.html', 'android.app.UiModeManager.html', 'android.appwidget.AppWidgetHost.html', 'android.appwidget.AppWidgetManager.html', 'android.appwidget.AppWidgetProvider.html', 'android.appwidget.AppWidgetProviderInfo.html', 'android.bluetooth.BluetoothAdapter.html', 'android.bluetooth.BluetoothGatt.html', 'android.bluetooth.BluetoothGattCallback.html', 'android.bluetooth.BluetoothGattServerCallback.html', 'android.content.ContentResolver.html', 'android.content.Context.html', 'android.content.ContextWrapper.html', 'android.content.Intent.html', 'android.content.pm.ActivityInfo.html', 'android.content.pm.ApplicationInfo.html', 'android.content.pm.InstrumentationInfo.html', 'android.content.pm.PackageInfo.html', 'android.content.pm.PackageManager.html', 'android.content.pm.PermissionInfo.html', 'android.content.res.AssetManager.AssetInputStream.html', 'android.content.res.AssetManager.html', 'android.content.res.ColorStateList.html', 'android.content.res.Resources.html', 'android.content.res.Resources.Theme.html', 'android.content.res.TypedArray.html', 'android.content.RestrictionEntry.html', 'android.gesture.GestureOverlayView.html', 'android.graphics.BitmapFactory.Options.html', 'android.graphics.Canvas.html', 'android.graphics.drawable.Drawable.ConstantState.html', 'android.graphics.drawable.Drawable.html', 'android.graphics.drawable.GradientDrawable.html', 'android.graphics.drawable.LayerDrawable.html', 'android.graphics.drawable.RotateDrawable.html', 'android.graphics.drawable.shapes.Shape.html', 'android.graphics.ImageFormat.html', 'android.graphics.LayerRasterizer.html', 'android.graphics.Matrix.html', 'android.graphics.Paint.html', 'android.graphics.Path.html', 'android.graphics.Rasterizer.html', 'android.graphics.SurfaceTexture.html', 'android.hardware.Camera.Area.html', 'android.hardware.Camera.AutoFocusCallback.html', 'android.hardware.Camera.AutoFocusMoveCallback.html', 'android.hardware.Camera.CameraInfo.html', 'android.hardware.Camera.ErrorCallback.html', 'android.hardware.Camera.Face.html', 'android.hardware.Camera.FaceDetectionListener.html', 'android.hardware.Camera.html', 'android.hardware.Camera.OnZoomChangeListener.html', 'android.hardware.Camera.Parameters.html', 'android.hardware.Camera.PictureCallback.html', 'android.hardware.Camera.PreviewCallback.html', 'android.hardware.Camera.ShutterCallback.html', 'android.hardware.Camera.Size.html', 'android.hardware.display.DisplayManager.html', 'android.hardware.display.VirtualDisplay.html', 'android.hardware.Sensor.html', 'android.hardware.SensorManager.html', 'android.hardware.usb.UsbDevice.html', 'android.hardware.usb.UsbDeviceConnection.html', 'android.hardware.usb.UsbInterface.html', 'android.inputmethodservice.ExtractEditText.html', 'android.inputmethodservice.InputMethodService.html', 'android.inputmethodservice.InputMethodService.InputMethodSessionImpl.html', 'android.inputmethodservice.KeyboardView.html', 'android.location.SettingInjectorService.html', 'android.Manifest.permission.html', 'android.media.AudioFormat.html', 'android.media.audiofx.Virtualizer.html', 'android.media.AudioManager.html', 'android.media.AudioTrack.html', 'android.media.CamcorderProfile.html', 'android.media.Image.html', 'android.media.MediaCodec.CryptoException.html', 'android.media.MediaCodec.html', 'android.media.MediaCodecInfo.CodecCapabilities.html', 'android.media.MediaCodecInfo.CodecProfileLevel.html', 'android.media.MediaCodecList.html', 'android.media.MediaDrm.html', 'android.media.MediaFormat.html', 'android.media.MediaMetadataEditor.html', 'android.media.MediaMuxer.OutputFormat.html', 'android.media.MediaPlayer.html', 'android.media.MediaPlayer.TrackInfo.html', 'android.media.MediaRecorder.AudioEncoder.html', 'android.media.MediaRecorder.html', 'android.media.MediaRecorder.OutputFormat.html', 'android.media.MediaRecorder.VideoEncoder.html', 'android.media.MediaRecorder.VideoSource.html', 'android.media.Rating.html', 'android.media.RemoteControlClient.html', 'android.media.RemoteControlClient.MetadataEditor.html', 'android.media.RemoteController.html', 'android.media.Ringtone.html', 'android.media.SoundPool.html', 'android.net.ConnectivityManager.html', 'android.net.http.X509TrustManagerExtensions.html', 'android.net.nsd.NsdServiceInfo.html', 'android.net.Proxy.html', 'android.net.VpnService.Builder.html', 'android.net.wifi.WifiConfiguration.html', 'android.net.wifi.WifiEnterpriseConfig.Eap.html', 'android.net.wifi.WifiInfo.html', 'android.net.wifi.WifiManager.html', 'android.net.wifi.WpsInfo.html', 'android.nfc.cardemulation.CardEmulation.html', 'android.nfc.NdefRecord.html', 'android.nfc.NfcAdapter.html', 'android.opengl.EGLObjectHandle.html', 'android.opengl.GLES20.html', 'android.os.BatteryManager.html', 'android.os.Build.html', 'android.os.Build.VERSION_CODES.html', 'android.os.Bundle.html', 'android.os.Debug.html', 'android.os.Environment.html', 'android.os.Message.html', 'android.os.Parcel.html', 'android.os.PowerManager.html', 'android.os.PowerManager.WakeLock.html', 'android.os.UserManager.html', 'android.os.Vibrator.html', 'android.preference.CheckBoxPreference.html', 'android.preference.DialogPreference.html', 'android.preference.EditTextPreference.html', 'android.preference.ListPreference.html', 'android.preference.MultiSelectListPreference.html', 'android.preference.Preference.html', 'android.preference.PreferenceCategory.html', 'android.preference.PreferenceGroup.html', 'android.preference.RingtonePreference.html', 'android.preference.SwitchPreference.html', 'android.preference.TwoStatePreference.html', 'android.printservice.PrintService.html', 'android.provider.CallLog.Calls.html', 'android.provider.ContactsContract.CommonDataKinds.Contactables.html', 'android.provider.ContactsContract.CommonDataKinds.Email.html', 'android.provider.ContactsContract.CommonDataKinds.Event.html', 'android.provider.ContactsContract.CommonDataKinds.GroupMembership.html', 'android.provider.ContactsContract.CommonDataKinds.Identity.html', 'android.provider.ContactsContract.CommonDataKinds.Im.html', 'android.provider.ContactsContract.CommonDataKinds.Nickname.html', 'android.provider.ContactsContract.CommonDataKinds.Note.html', 'android.provider.ContactsContract.CommonDataKinds.Organization.html', 'android.provider.ContactsContract.CommonDataKinds.Phone.html', 'android.provider.ContactsContract.CommonDataKinds.Photo.html', 'android.provider.ContactsContract.CommonDataKinds.Relation.html', 'android.provider.ContactsContract.CommonDataKinds.SipAddress.html', 'android.provider.ContactsContract.CommonDataKinds.StructuredName.html', 'android.provider.ContactsContract.CommonDataKinds.StructuredPostal.html', 'android.provider.ContactsContract.CommonDataKinds.Website.html', 'android.provider.ContactsContract.ContactOptionsColumns.html', 'android.provider.ContactsContract.Contacts.Entity.html', 'android.provider.ContactsContract.Contacts.html', 'android.provider.ContactsContract.Contacts.StreamItems.html', 'android.provider.ContactsContract.ContactsColumns.html', 'android.provider.ContactsContract.Data.html', 'android.provider.ContactsContract.DataColumns.html', 'android.provider.ContactsContract.GroupsColumns.html', 'android.provider.ContactsContract.html', 'android.provider.ContactsContract.PhoneLookup.html', 'android.provider.ContactsContract.QuickContact.html', 'android.provider.ContactsContract.RawContacts.StreamItems.html', 'android.provider.ContactsContract.RawContactsColumns.html', 'android.provider.ContactsContract.StreamItemPhotos.html', 'android.provider.ContactsContract.StreamItemPhotosColumns.html', 'android.provider.ContactsContract.StreamItems.html', 'android.provider.ContactsContract.StreamItems.StreamItemPhotos.html', 'android.provider.ContactsContract.StreamItemsColumns.html', 'android.provider.DocumentsContract.Document.html', 'android.provider.DocumentsContract.html', 'android.provider.DocumentsContract.Root.html', 'android.provider.DocumentsProvider.html', 'android.provider.MediaStore.Audio.Media.html', 'android.provider.MediaStore.html', 'android.provider.Settings.Global.html', 'android.provider.Settings.html', 'android.provider.Settings.Secure.html', 'android.provider.Settings.System.html', 'android.provider.Telephony.BaseMmsColumns.html', 'android.provider.Telephony.TextBasedSmsColumns.html', 'android.provider.Telephony.ThreadsColumns.html', 'android.provider.VoicemailContract.Voicemails.html', 'android.R.attr.html', 'android.R.id.html', 'android.R.interpolator.html', 'android.R.style.html', 'android.renderscript.Allocation.html', 'android.renderscript.RenderScript.html', 'android.renderscript.ScriptC.html', 'android.renderscript.ScriptIntrinsic3DLUT.html', 'android.renderscript.ScriptIntrinsicBlend.html', 'android.renderscript.ScriptIntrinsicBlur.html', 'android.renderscript.ScriptIntrinsicColorMatrix.html', 'android.renderscript.ScriptIntrinsicConvolve3x3.html', 'android.renderscript.ScriptIntrinsicConvolve5x5.html', 'android.renderscript.ScriptIntrinsicHistogram.html', 'android.renderscript.ScriptIntrinsicLUT.html', 'android.renderscript.Type.html', 'android.service.dreams.DreamService.html', 'android.service.notification.NotificationListenerService.html', 'android.service.notification.StatusBarNotification.html', 'android.service.wallpaper.WallpaperService.Engine.html', 'android.speech.tts.SynthesisCallback.html', 'android.speech.tts.SynthesisRequest.html', 'android.speech.tts.TextToSpeech.Engine.html', 'android.speech.tts.TextToSpeech.html', 'android.speech.tts.TextToSpeechService.html', 'android.speech.tts.UtteranceProgressListener.html', 'android.telephony.PhoneNumberFormattingTextWatcher.html', 'android.telephony.PhoneNumberUtils.html', 'android.telephony.SmsManager.html', 'android.telephony.TelephonyManager.html', 'android.test.mock.MockContext.html', 'android.test.mock.MockPackageManager.html', 'android.text.InputFilter.LengthFilter.html', 'android.text.SpannableStringBuilder.html', 'android.transition.AutoTransition.html', 'android.transition.ChangeBounds.html', 'android.transition.Fade.html', 'android.transition.Scene.html', 'android.transition.Transition.html', 'android.transition.TransitionSet.html', 'android.transition.Visibility.html', 'android.util.ArrayMap.html', 'android.util.DisplayMetrics.html', 'android.util.LruCache.html', 'android.util.Patterns.html', 'android.view.accessibility.AccessibilityEvent.html', 'android.view.accessibility.AccessibilityNodeInfo.CollectionInfo.html', 'android.view.accessibility.AccessibilityNodeInfo.CollectionItemInfo.html', 'android.view.accessibility.AccessibilityNodeInfo.html', 'android.view.accessibility.AccessibilityNodeProvider.html', 'android.view.accessibility.CaptioningManager.CaptionStyle.html', 'android.view.Display.html', 'android.view.HapticFeedbackConstants.html', 'android.view.InputDevice.html', 'android.view.inputmethod.BaseInputConnection.html', 'android.view.inputmethod.InputConnection.html', 'android.view.inputmethod.InputConnectionWrapper.html', 'android.view.inputmethod.InputMethodManager.html', 'android.view.inputmethod.InputMethodSession.html', 'android.view.KeyEvent.html', 'android.view.MotionEvent.html', 'android.view.SurfaceView.html', 'android.view.textservice.TextInfo.html', 'android.view.TextureView.html', 'android.view.View.html', 'android.view.ViewGroup.html', 'android.view.ViewParent.html', 'android.view.ViewPropertyAnimator.html', 'android.view.ViewStub.html', 'android.view.Window.html', 'android.view.WindowInsets.html', 'android.view.WindowManager.LayoutParams.html', 'android.webkit.CookieManager.html', 'android.webkit.CookieSyncManager.html', 'android.webkit.WebChromeClient.html', 'android.webkit.WebResourceResponse.html', 'android.webkit.WebSettings.html', 'android.webkit.WebSyncManager.html', 'android.webkit.WebView.html', 'android.webkit.WebViewClient.html', 'android.widget.AbsListView.html', 'android.widget.AbsoluteLayout.html', 'android.widget.AbsSeekBar.html', 'android.widget.AbsSpinner.html', 'android.widget.AdapterView.html', 'android.widget.AdapterViewAnimator.html', 'android.widget.AdapterViewFlipper.html', 'android.widget.AnalogClock.html', 'android.widget.AutoCompleteTextView.html', 'android.widget.Button.html', 'android.widget.CalendarView.html', 'android.widget.CheckBox.html', 'android.widget.CheckedTextView.html', 'android.widget.Chronometer.html', 'android.widget.CompoundButton.html', 'android.widget.DatePicker.html', 'android.widget.EdgeEffect.html', 'android.widget.EditText.html', 'android.widget.ExpandableListView.html', 'android.widget.FrameLayout.html', 'android.widget.Gallery.html', 'android.widget.GridLayout.html', 'android.widget.GridView.html', 'android.widget.HorizontalScrollView.html', 'android.widget.ImageButton.html', 'android.widget.ImageView.html', 'android.widget.LinearLayout.html', 'android.widget.ListView.html', 'android.widget.MultiAutoCompleteTextView.html', 'android.widget.NumberPicker.html', 'android.widget.PopupWindow.html', 'android.widget.ProgressBar.html', 'android.widget.QuickContactBadge.html', 'android.widget.RadioButton.html', 'android.widget.RatingBar.html', 'android.widget.RelativeLayout.html', 'android.widget.ScrollView.html', 'android.widget.SearchView.html', 'android.widget.SeekBar.html', 'android.widget.SlidingDrawer.html', 'android.widget.Space.html', 'android.widget.Spinner.html', 'android.widget.StackView.html', 'android.widget.Switch.html', 'android.widget.TabHost.html', 'android.widget.TabWidget.html', 'android.widget.TextClock.html', 'android.widget.TextView.html', 'android.widget.TimePicker.html', 'android.widget.ToggleButton.html', 'android.widget.TwoLineListItem.html', 'android.widget.VideoView.html', 'android.widget.ZoomButton.html', 'changes-summary.html', 'classes_index_additions.html', 'classes_index_all.html', 'classes_index_changes.html', 'classes_index_removals.html', 'constructors_index_additions.html', 'constructors_index_all.html', 'constructors_index_changes.html', 'constructors_index_removals.html', 'fields_index_additions.html', 'fields_index_all.html', 'fields_index_changes.html', 'fields_index_removals.html', 'java.util.concurrent.locks.AbstractQueuedLongSynchronizer.html', 'java.util.concurrent.locks.AbstractQueuedSynchronizer.html', 'java.util.concurrent.ScheduledThreadPoolExecutor.html', 'java.util.Locale.html', 'java.util.zip.ZipEntry.html', 'java.util.zip.ZipFile.html', 'java.util.zip.ZipInputStream.html', 'java.util.zip.ZipOutputStream.html', 'jdiff_help.html', 'jdiff_statistics.html', 'jdiff_topleftframe.html', 'methods_index_additions.html', 'methods_index_all.html', 'methods_index_changes.html', 'methods_index_removals.html', 'packages_index_additions.html', 'packages_index_all.html', 'packages_index_changes.html', 'packages_index_removals.html', 'pkg_android.accessibilityservice.html', 'pkg_android.accounts.html', 'pkg_android.animation.html', 'pkg_android.app.admin.html', 'pkg_android.app.backup.html', 'pkg_android.app.html', 'pkg_android.appwidget.html', 'pkg_android.bluetooth.html', 'pkg_android.content.html', 'pkg_android.content.pm.html', 'pkg_android.content.res.html', 'pkg_android.gesture.html', 'pkg_android.graphics.drawable.html', 'pkg_android.graphics.drawable.shapes.html', 'pkg_android.graphics.html', 'pkg_android.graphics.pdf.html', 'pkg_android.hardware.display.html', 'pkg_android.hardware.html', 'pkg_android.hardware.usb.html', 'pkg_android.html', 'pkg_android.inputmethodservice.html', 'pkg_android.location.html', 'pkg_android.media.audiofx.html', 'pkg_android.media.html', 'pkg_android.net.html', 'pkg_android.net.http.html', 'pkg_android.net.nsd.html', 'pkg_android.net.wifi.html', 'pkg_android.nfc.cardemulation.html', 'pkg_android.nfc.html', 'pkg_android.opengl.html', 'pkg_android.os.html', 'pkg_android.preference.html', 'pkg_android.printservice.html', 'pkg_android.provider.html', 'pkg_android.renderscript.html', 'pkg_android.service.dreams.html', 'pkg_android.service.notification.html', 'pkg_android.service.wallpaper.html', 'pkg_android.speech.tts.html', 'pkg_android.telephony.html', 'pkg_android.test.mock.html', 'pkg_android.text.html', 'pkg_android.text.style.html', 'pkg_android.transition.html', 'pkg_android.util.html', 'pkg_android.view.accessibility.html', 'pkg_android.view.animation.html', 'pkg_android.view.html', 'pkg_android.view.inputmethod.html', 'pkg_android.view.textservice.html', 'pkg_android.webkit.html', 'pkg_android.widget.html', 'pkg_java.util.concurrent.html', 'pkg_java.util.concurrent.locks.html', 'pkg_java.util.html', 'pkg_java.util.zip.html']\n",
        "d:\\android\\android-sdk\\docs\\sdk\\api_diff\\3"
       ]
      },
      {
       "output_type": "stream",
       "stream": "stdout",
       "text": [
        " ['changes.html', 'missingSinces.txt', 'stylesheet-jdiff.css', 'user_comments_for_2_to_3.xml']\n",
        "d:\\android\\android-sdk\\docs\\sdk\\api_diff\\3\\changes"
       ]
      },
      {
       "output_type": "stream",
       "stream": "stdout",
       "text": [
        " ['alldiffs_index_additions.html', 'alldiffs_index_all.html', 'alldiffs_index_changes.html', 'alldiffs_index_removals.html', 'android.app.Activity.html', 'android.app.ActivityManager.html', 'android.app.AlarmManager.html', 'android.app.AlertDialog.html', 'android.app.Instrumentation.html', 'android.app.LauncherActivity.html', 'android.app.PendingIntent.html', 'android.content.BroadcastReceiver.html', 'android.content.ContentProvider.html', 'android.content.ContentResolver.html', 'android.content.Context.html', 'android.content.DialogInterface.html', 'android.content.Intent.html', 'android.content.pm.ActivityInfo.html', 'android.content.pm.PackageInfo.html', 'android.content.pm.PackageManager.html', 'android.content.res.AssetFileDescriptor.html', 'android.content.res.Configuration.html', 'android.content.res.Resources.html', 'android.content.res.TypedArray.html', 'android.database.Cursor.html', 'android.database.CursorWrapper.html', 'android.database.DatabaseUtils.html', 'android.database.sqlite.SQLiteDatabase.html', 'android.graphics.Bitmap.html', 'android.graphics.Canvas.html', 'android.graphics.drawable.Drawable.html', 'android.graphics.drawable.RotateDrawable.html', 'android.graphics.drawable.ScaleDrawable.html', 'android.graphics.drawable.shapes.Shape.html', 'android.graphics.drawable.TransitionDrawable.html', 'android.graphics.Rect.html', 'android.graphics.RectF.html', 'android.hardware.Camera.html', 'android.hardware.SensorListener.html', 'android.hardware.SensorManager.html', 'android.location.Location.html', 'android.location.LocationManager.html', 'android.Manifest.permission.html', 'android.media.AudioManager.html', 'android.media.MediaPlayer.html', 'android.media.MediaRecorder.html', 'android.media.MediaRecorder.OutputFormat.html', 'android.media.RingtoneManager.html', 'android.media.SoundPool.html', 'android.net.ConnectivityManager.html', 'android.net.NetworkInfo.html', 'android.net.wifi.WifiManager.html', 'android.os.Binder.html', 'android.os.Build.html', 'android.os.Debug.html', 'android.os.Environment.html', 'android.os.Handler.html', 'android.os.IBinder.html', 'android.os.Looper.html', 'android.os.Parcel.html', 'android.os.ParcelFileDescriptor.html', 'android.preference.DialogPreference.html', 'android.provider.Browser.html', 'android.provider.Contacts.Intents.html', 'android.provider.Contacts.Intents.Insert.html', 'android.provider.Contacts.PeopleColumns.html', 'android.provider.MediaStore.Audio.AlbumColumns.html', 'android.provider.MediaStore.Audio.Media.html', 'android.provider.MediaStore.html', 'android.provider.MediaStore.Images.Media.html', 'android.provider.MediaStore.Video.html', 'android.provider.MediaStore.Video.VideoColumns.html', 'android.provider.Settings.html', 'android.provider.Settings.System.html', 'android.R.attr.html', 'android.R.drawable.html', 'android.R.id.html', 'android.R.string.html', 'android.R.style.html', 'android.telephony.gsm.SmsMessage.html', 'android.telephony.PhoneNumberUtils.html', 'android.telephony.TelephonyManager.html', 'android.test.ActivityInstrumentationTestCase.html', 'android.test.InstrumentationTestCase.html', 'android.test.mock.MockPackageManager.html', 'android.test.ProviderTestCase.html', 'android.test.suitebuilder.TestMethod.html', 'android.test.TouchUtils.html', 'android.text.Annotation.html', 'android.text.AutoText.html', 'android.text.method.ArrowKeyMovementMethod.html', 'android.text.method.BaseKeyListener.html', 'android.text.method.DateKeyListener.html', 'android.text.method.DateTimeKeyListener.html', 'android.text.method.DialerKeyListener.html', 'android.text.method.DigitsKeyListener.html', 'android.text.method.KeyListener.html', 'android.text.method.MetaKeyKeyListener.html', 'android.text.method.MovementMethod.html', 'android.text.method.MultiTapKeyListener.html', 'android.text.method.QwertyKeyListener.html', 'android.text.method.ScrollingMovementMethod.html', 'android.text.method.TextKeyListener.html', 'android.text.method.TimeKeyListener.html', 'android.text.method.Touch.html', 'android.text.Spanned.html', 'android.text.SpanWatcher.html', 'android.text.style.AbsoluteSizeSpan.html', 'android.text.style.AlignmentSpan.Standard.html', 'android.text.style.BackgroundColorSpan.html', 'android.text.style.BulletSpan.html', 'android.text.style.ClickableSpan.html', 'android.text.style.DynamicDrawableSpan.html', 'android.text.style.ForegroundColorSpan.html', 'android.text.style.ImageSpan.html', 'android.text.style.LeadingMarginSpan.Standard.html', 'android.text.style.MaskFilterSpan.html', 'android.text.style.QuoteSpan.html', 'android.text.style.RasterizerSpan.html', 'android.text.style.RelativeSizeSpan.html', 'android.text.style.ScaleXSpan.html', 'android.text.style.StrikethroughSpan.html', 'android.text.style.StyleSpan.html', 'android.text.style.SubscriptSpan.html', 'android.text.style.SuperscriptSpan.html', 'android.text.style.TextAppearanceSpan.html', 'android.text.style.TypefaceSpan.html', 'android.text.style.UnderlineSpan.html', 'android.text.style.UpdateLayout.html', 'android.text.style.URLSpan.html', 'android.text.TextUtils.html', 'android.text.TextWatcher.html', 'android.util.SparseIntArray.html', 'android.util.TimeUtils.html', 'android.view.animation.Animation.html', 'android.view.animation.Transformation.html', 'android.view.GestureDetector.html', 'android.view.GestureDetector.SimpleOnGestureListener.html', 'android.view.Gravity.html', 'android.view.KeyCharacterMap.html', 'android.view.KeyEvent.html', 'android.view.Menu.html', 'android.view.MotionEvent.html', 'android.view.OrientationListener.html', 'android.view.View.html', 'android.view.ViewConfiguration.html', 'android.view.ViewDebug.html', 'android.view.ViewGroup.html', 'android.view.ViewParent.html', 'android.view.ViewTreeObserver.html', 'android.view.Window.html', 'android.view.WindowManager.LayoutParams.html', 'android.webkit.UrlInterceptHandler.html', 'android.webkit.UrlInterceptRegistry.html', 'android.webkit.URLUtil.html', 'android.webkit.WebHistoryItem.html', 'android.webkit.WebSettings.html', 'android.webkit.WebView.html', 'android.widget.AbsListView.html', 'android.widget.AbsoluteLayout.html', 'android.widget.AbsSeekBar.html', 'android.widget.ArrayAdapter.html', 'android.widget.AutoCompleteTextView.html', 'android.widget.Chronometer.html', 'android.widget.CursorAdapter.html', 'android.widget.GridView.html', 'android.widget.ListView.html', 'android.widget.PopupWindow.html', 'android.widget.PopupWindow.OnDismissListener.html', 'android.widget.ProgressBar.html', 'android.widget.RemoteViews.ActionException.html', 'android.widget.RemoteViews.html', 'android.widget.ResourceCursorAdapter.html', 'android.widget.Scroller.html', 'android.widget.SimpleCursorAdapter.html', 'android.widget.TextView.html', 'changes-summary.html', 'classes_index_additions.html', 'classes_index_all.html', 'classes_index_changes.html', 'classes_index_removals.html', 'constructors_index_additions.html', 'constructors_index_all.html', 'constructors_index_changes.html', 'constructors_index_removals.html', 'dalvik.system.DexFile.html', 'dalvik.system.VMDebug.html', 'dalvik.system.Zygote.html', 'fields_index_additions.html', 'fields_index_all.html', 'fields_index_changes.html', 'fields_index_removals.html', 'java.lang.Character.UnicodeBlock.html', 'java.lang.Class.html', 'java.util.jar.Pack200.Packer.html', 'java.util.jar.Pack200.Unpacker.html', 'java.util.logging.Level.html', 'java.util.logging.LogManager.html', 'jdiff_help.html', 'jdiff_statistics.html', 'jdiff_topleftframe.html', 'methods_index_additions.html', 'methods_index_all.html', 'methods_index_changes.html', 'methods_index_removals.html', 'packages_index_additions.html', 'packages_index_all.html', 'packages_index_changes.html', 'packages_index_removals.html', 'pkg_android.app.html', 'pkg_android.content.html', 'pkg_android.content.pm.html', 'pkg_android.content.res.html', 'pkg_android.database.html', 'pkg_android.database.sqlite.html', 'pkg_android.graphics.drawable.html', 'pkg_android.graphics.drawable.shapes.html', 'pkg_android.graphics.html', 'pkg_android.hardware.html', 'pkg_android.html', 'pkg_android.location.html', 'pkg_android.media.html', 'pkg_android.net.html', 'pkg_android.net.wifi.html', 'pkg_android.opengl.html', 'pkg_android.os.html', 'pkg_android.preference.html', 'pkg_android.provider.html', 'pkg_android.telephony.gsm.html', 'pkg_android.telephony.html', 'pkg_android.test.html', 'pkg_android.test.mock.html', 'pkg_android.test.suitebuilder.html', 'pkg_android.text.html', 'pkg_android.text.method.html', 'pkg_android.text.style.html', 'pkg_android.util.html', 'pkg_android.view.animation.html', 'pkg_android.view.html', 'pkg_android.webkit.html', 'pkg_android.widget.html', 'pkg_dalvik.system.html', 'pkg_java.lang.html', 'pkg_java.util.jar.html', 'pkg_java.util.logging.html']\n",
        "d:\\android\\android-sdk\\docs\\sdk\\api_diff\\4 ['changes.html', 'missingSinces.txt', 'stylesheet-jdiff.css', 'user_comments_for_3_to_4.xml']\n",
        "d:\\android\\android-sdk\\docs\\sdk\\api_diff\\4\\changes"
       ]
      },
      {
       "output_type": "stream",
       "stream": "stdout",
       "text": [
        " ['alldiffs_index_additions.html', 'alldiffs_index_all.html', 'alldiffs_index_changes.html', 'alldiffs_index_removals.html', 'android.app.Activity.html', 'android.app.Dialog.html', 'android.app.LauncherActivity.html', 'android.app.LauncherActivity.ListItem.html', 'android.app.PendingIntent.html', 'android.app.SearchManager.html', 'android.content.ComponentName.html', 'android.content.ContentProvider.html', 'android.content.Context.html', 'android.content.ContextWrapper.html', 'android.content.Intent.html', 'android.content.pm.ActivityInfo.html', 'android.content.pm.ApplicationInfo.html', 'android.content.pm.ConfigurationInfo.html', 'android.content.pm.PackageManager.html', 'android.content.pm.ProviderInfo.html', 'android.content.res.Configuration.html', 'android.graphics.Bitmap.html', 'android.graphics.BitmapFactory.html', 'android.graphics.BitmapFactory.Options.html', 'android.graphics.Canvas.html', 'android.graphics.drawable.AnimationDrawable.html', 'android.graphics.drawable.BitmapDrawable.html', 'android.graphics.drawable.Drawable.html', 'android.graphics.drawable.NinePatchDrawable.html', 'android.graphics.NinePatch.html', 'android.graphics.Typeface.html', 'android.hardware.SensorManager.html', 'android.inputmethodservice.KeyboardView.html', 'android.location.Address.html', 'android.Manifest.permission.html', 'android.Manifest.permission_group.html', 'android.media.AudioManager.html', 'android.media.MediaRecorder.AudioSource.html', 'android.media.MediaRecorder.html', 'android.media.ToneGenerator.html', 'android.net.wifi.WifiManager.html', 'android.os.Build.html', 'android.os.Build.VERSION.html', 'android.os.RemoteCallbackList.html', 'android.provider.MediaStore.Audio.Genres.Members.html', 'android.provider.MediaStore.Audio.Media.html', 'android.provider.Settings.Secure.html', 'android.provider.Settings.System.html', 'android.R.anim.html', 'android.R.attr.html', 'android.R.drawable.html', 'android.R.style.html', 'android.telephony.gsm.SmsManager.html', 'android.telephony.gsm.SmsMessage.html', 'android.telephony.gsm.SmsMessage.MessageClass.html', 'android.telephony.gsm.SmsMessage.SubmitPdu.html', 'android.telephony.TelephonyManager.html', 'android.test.AndroidTestCase.html', 'android.test.mock.MockContext.html', 'android.test.mock.MockPackageManager.html', 'android.text.style.ImageSpan.html', 'android.util.Config.html', 'android.util.DisplayMetrics.html', 'android.util.TypedValue.html', 'android.view.Surface.html', 'android.view.VelocityTracker.html', 'android.view.View.html', 'android.view.ViewConfiguration.html', 'android.view.Window.Callback.html', 'android.widget.AutoCompleteTextView.html', 'android.widget.CheckedTextView.html', 'android.widget.ListView.html', 'android.widget.PopupWindow.html', 'android.widget.TabHost.TabSpec.html', 'android.widget.TabWidget.html', 'changes-summary.html', 'classes_index_additions.html', 'classes_index_all.html', 'classes_index_changes.html', 'classes_index_removals.html', 'constructors_index_additions.html', 'constructors_index_all.html', 'constructors_index_changes.html', 'constructors_index_removals.html', 'fields_index_additions.html', 'fields_index_all.html', 'fields_index_changes.html', 'fields_index_removals.html', 'java.util.concurrent.locks.AbstractQueuedSynchronizer.html', 'java.util.concurrent.TimeUnit.html', 'jdiff_help.html', 'jdiff_statistics.html', 'jdiff_topleftframe.html', 'methods_index_additions.html', 'methods_index_all.html', 'methods_index_changes.html', 'methods_index_removals.html', 'packages_index_additions.html', 'packages_index_all.html', 'packages_index_changes.html', 'packages_index_removals.html', 'pkg_android.app.html', 'pkg_android.content.html', 'pkg_android.content.pm.html', 'pkg_android.content.res.html', 'pkg_android.graphics.drawable.html', 'pkg_android.graphics.html', 'pkg_android.hardware.html', 'pkg_android.html', 'pkg_android.inputmethodservice.html', 'pkg_android.location.html', 'pkg_android.media.html', 'pkg_android.net.wifi.html', 'pkg_android.opengl.html', 'pkg_android.os.html', 'pkg_android.provider.html', 'pkg_android.telephony.gsm.html', 'pkg_android.telephony.html', 'pkg_android.test.html', 'pkg_android.test.mock.html', 'pkg_android.text.style.html', 'pkg_android.util.html', 'pkg_android.view.animation.html', 'pkg_android.view.html', 'pkg_android.widget.html', 'pkg_java.util.concurrent.html', 'pkg_java.util.concurrent.locks.html']\n",
        "d:\\android\\android-sdk\\docs\\sdk\\api_diff\\5 ['changes.html', 'missingSinces.txt', 'stylesheet-jdiff.css', 'user_comments_for_4_to_5.xml']\n",
        "d:\\android\\android-sdk\\docs\\sdk\\api_diff\\5\\changes"
       ]
      },
      {
       "output_type": "stream",
       "stream": "stdout",
       "text": [
        " ['alldiffs_index_additions.html', 'alldiffs_index_all.html', 'alldiffs_index_changes.html', 'alldiffs_index_removals.html', 'android.app.Activity.html', 'android.app.ActivityManager.html', 'android.app.ActivityManager.RunningAppProcessInfo.html', 'android.app.ActivityManager.RunningServiceInfo.html', 'android.app.Dialog.html', 'android.app.IntentService.html', 'android.app.LauncherActivity.html', 'android.app.Notification.html', 'android.app.NotificationManager.html', 'android.app.SearchManager.html', 'android.app.Service.html', 'android.content.BroadcastReceiver.html', 'android.content.ContentProvider.html', 'android.content.ContentResolver.html', 'android.content.Context.html', 'android.content.ContextWrapper.html', 'android.content.Intent.html', 'android.content.pm.ActivityInfo.html', 'android.content.pm.PackageInfo.html', 'android.content.pm.PackageManager.html', 'android.content.pm.ProviderInfo.html', 'android.content.pm.ResolveInfo.html', 'android.content.pm.ServiceInfo.html', 'android.content.res.Configuration.html', 'android.database.AbstractWindowedCursor.html', 'android.database.CursorWindow.html', 'android.database.DatabaseUtils.html', 'android.database.sqlite.SQLiteDatabase.html', 'android.graphics.drawable.BitmapDrawable.html', 'android.graphics.drawable.Drawable.ConstantState.html', 'android.graphics.drawable.Drawable.html', 'android.graphics.PixelFormat.html', 'android.hardware.Camera.html', 'android.hardware.Camera.Parameters.html', 'android.inputmethodservice.AbstractInputMethodService.html', 'android.inputmethodservice.InputMethodService.html', 'android.location.LocationManager.html', 'android.Manifest.permission.html', 'android.media.AudioFormat.html', 'android.media.AudioManager.html', 'android.media.MediaPlayer.html', 'android.media.ToneGenerator.html', 'android.opengl.GLSurfaceView.html', 'android.os.BatteryManager.html', 'android.os.Build.VERSION_CODES.html', 'android.os.Debug.MemoryInfo.html', 'android.os.HandlerThread.html', 'android.provider.Contacts.ContactMethods.html', 'android.provider.Contacts.ContactMethodsColumns.html', 'android.provider.Contacts.Extensions.html', 'android.provider.Contacts.ExtensionsColumns.html', 'android.provider.Contacts.GroupMembership.html', 'android.provider.Contacts.Groups.html', 'android.provider.Contacts.GroupsColumns.html', 'android.provider.Contacts.html', 'android.provider.Contacts.Intents.html', 'android.provider.Contacts.Intents.Insert.html', 'android.provider.Contacts.Intents.UI.html', 'android.provider.Contacts.OrganizationColumns.html', 'android.provider.Contacts.Organizations.html', 'android.provider.Contacts.People.ContactMethods.html', 'android.provider.Contacts.People.Extensions.html', 'android.provider.Contacts.People.html', 'android.provider.Contacts.People.Phones.html', 'android.provider.Contacts.PeopleColumns.html', 'android.provider.Contacts.Phones.html', 'android.provider.Contacts.PhonesColumns.html', 'android.provider.Contacts.Photos.html', 'android.provider.Contacts.PhotosColumns.html', 'android.provider.Contacts.PresenceColumns.html', 'android.provider.Contacts.Settings.html', 'android.provider.Contacts.SettingsColumns.html', 'android.provider.MediaStore.Images.Thumbnails.html', 'android.provider.Settings.html', 'android.provider.Settings.System.html', 'android.R.attr.html', 'android.R.drawable.html', 'android.R.style.html', 'android.telephony.NeighboringCellInfo.html', 'android.telephony.PhoneNumberUtils.html', 'android.telephony.PhoneStateListener.html', 'android.telephony.TelephonyManager.html', 'android.test.AndroidTestRunner.html', 'android.test.InstrumentationTestCase.html', 'android.test.mock.MockContext.html', 'android.test.mock.MockPackageManager.html', 'android.text.format.DateUtils.html', 'android.text.format.Formatter.html', 'android.text.InputType.html', 'android.text.style.AbsoluteSizeSpan.html', 'android.text.TextPaint.html', 'android.view.animation.Animation.html', 'android.view.HapticFeedbackConstants.html', 'android.view.KeyEvent.Callback.html', 'android.view.KeyEvent.html', 'android.view.MotionEvent.html', 'android.view.Surface.html', 'android.view.SurfaceHolder.html', 'android.view.SurfaceView.html', 'android.view.View.html', 'android.view.ViewConfiguration.html', 'android.view.ViewGroup.html', 'android.view.Window.Callback.html', 'android.view.WindowManager.LayoutParams.html', 'android.webkit.CallbackProxy.html', 'android.webkit.Plugin.html', 'android.webkit.PluginData.html', 'android.webkit.PluginList.html', 'android.webkit.UrlInterceptHandler.html', 'android.webkit.UrlInterceptRegistry.html', 'android.webkit.WebChromeClient.html', 'android.webkit.WebSettings.html', 'android.webkit.WebView.html', 'android.webkit.WebViewClient.html', 'android.widget.AutoCompleteTextView.html', 'android.widget.MediaController.MediaPlayerControl.html', 'android.widget.SimpleCursorTreeAdapter.html', 'android.widget.VideoView.html', 'changes-summary.html', 'classes_index_additions.html', 'classes_index_all.html', 'classes_index_changes.html', 'classes_index_removals.html', 'constructors_index_additions.html', 'constructors_index_all.html', 'constructors_index_changes.html', 'constructors_index_removals.html', 'dalvik.system.AllocationLimitError.html', 'dalvik.system.PotentialDeadlockError.html', 'dalvik.system.StaleDexCacheError.html', 'dalvik.system.TemporaryDirectory.html', 'dalvik.system.TouchDex.html', 'dalvik.system.VMDebug.html', 'dalvik.system.VMRuntime.html', 'dalvik.system.VMStack.html', 'dalvik.system.Zygote.html', 'fields_index_additions.html', 'fields_index_all.html', 'fields_index_changes.html', 'fields_index_removals.html', 'java.util.concurrent.BlockingQueue.html', 'jdiff_help.html', 'jdiff_statistics.html', 'jdiff_topleftframe.html', 'methods_index_additions.html', 'methods_index_all.html', 'methods_index_changes.html', 'methods_index_removals.html', 'packages_index_additions.html', 'packages_index_all.html', 'packages_index_changes.html', 'packages_index_removals.html', 'pkg_android.app.html', 'pkg_android.content.html', 'pkg_android.content.pm.html', 'pkg_android.content.res.html', 'pkg_android.database.html', 'pkg_android.database.sqlite.html', 'pkg_android.graphics.drawable.html', 'pkg_android.graphics.html', 'pkg_android.hardware.html', 'pkg_android.html', 'pkg_android.inputmethodservice.html', 'pkg_android.location.html', 'pkg_android.media.html', 'pkg_android.opengl.html', 'pkg_android.os.html', 'pkg_android.provider.html', 'pkg_android.telephony.html', 'pkg_android.test.html', 'pkg_android.test.mock.html', 'pkg_android.text.format.html', 'pkg_android.text.html', 'pkg_android.text.style.html', 'pkg_android.util.html', 'pkg_android.view.animation.html', 'pkg_android.view.html', 'pkg_android.webkit.html', 'pkg_android.widget.html', 'pkg_dalvik.system.html', 'pkg_java.util.concurrent.html', 'pkg_java.util.concurrent.locks.html']\n",
        "d:\\android\\android-sdk\\docs\\sdk\\api_diff\\6 ['changes.html', 'missingSinces.txt', 'stylesheet-jdiff.css', 'user_comments_for_5_to_6.xml']\n",
        "d:\\android\\android-sdk\\docs\\sdk\\api_diff\\6\\changes ['alldiffs_index_additions.html', 'alldiffs_index_all.html', 'alldiffs_index_changes.html', 'alldiffs_index_removals.html', 'android.accounts.AbstractAccountAuthenticator.html', 'android.os.Build.VERSION_CODES.html', 'android.R.attr.html', 'android.view.WindowManager.LayoutParams.html', 'changes-summary.html', 'classes_index_additions.html', 'classes_index_all.html', 'classes_index_changes.html', 'classes_index_removals.html', 'constructors_index_additions.html', 'constructors_index_all.html', 'constructors_index_changes.html', 'constructors_index_removals.html', 'fields_index_additions.html', 'fields_index_all.html', 'fields_index_changes.html', 'fields_index_removals.html', 'jdiff_help.html', 'jdiff_statistics.html', 'jdiff_topleftframe.html', 'methods_index_additions.html', 'methods_index_all.html', 'methods_index_changes.html', 'methods_index_removals.html', 'packages_index_additions.html', 'packages_index_all.html', 'packages_index_changes.html', 'packages_index_removals.html', 'pkg_android.accounts.html', 'pkg_android.html', 'pkg_android.os.html', 'pkg_android.view.html']\n",
        "d:\\android\\android-sdk\\docs\\sdk\\api_diff\\7"
       ]
      },
      {
       "output_type": "stream",
       "stream": "stdout",
       "text": [
        " ['changes.html', 'missingSinces.txt', 'stylesheet-jdiff.css', 'user_comments_for_6_to_7.xml']\n",
        "d:\\android\\android-sdk\\docs\\sdk\\api_diff\\7\\changes ['alldiffs_index_additions.html', 'alldiffs_index_all.html', 'alldiffs_index_changes.html', 'alldiffs_index_removals.html', 'android.app.WallpaperManager.html', 'android.content.Intent.html', 'android.content.pm.PackageManager.html', 'android.graphics.Rect.html', 'android.Manifest.permission.html', 'android.media.MediaRecorder.AudioSource.html', 'android.os.Build.VERSION_CODES.html', 'android.os.PowerManager.html', 'android.R.attr.html', 'android.telephony.NeighboringCellInfo.html', 'android.telephony.PhoneStateListener.html', 'android.view.View.html', 'android.view.ViewGroup.html', 'android.webkit.CacheManager.CacheResult.html', 'android.webkit.GeolocationPermissions.html', 'android.webkit.WebChromeClient.html', 'android.webkit.WebSettings.html', 'android.webkit.WebStorage.html', 'android.webkit.WebView.html', 'android.widget.RemoteViews.html', 'android.widget.ViewFlipper.html', 'changes-summary.html', 'classes_index_additions.html', 'classes_index_all.html', 'classes_index_changes.html', 'classes_index_removals.html', 'constructors_index_additions.html', 'constructors_index_all.html', 'constructors_index_changes.html', 'constructors_index_removals.html', 'fields_index_additions.html', 'fields_index_all.html', 'fields_index_changes.html', 'fields_index_removals.html', 'jdiff_help.html', 'jdiff_statistics.html', 'jdiff_topleftframe.html', 'methods_index_additions.html', 'methods_index_all.html', 'methods_index_changes.html', 'methods_index_removals.html', 'packages_index_additions.html', 'packages_index_all.html', 'packages_index_changes.html', 'packages_index_removals.html', 'pkg_android.app.html', 'pkg_android.content.html', 'pkg_android.content.pm.html', 'pkg_android.graphics.html', 'pkg_android.html', 'pkg_android.media.html', 'pkg_android.os.html', 'pkg_android.telephony.html', 'pkg_android.view.html', 'pkg_android.webkit.html', 'pkg_android.widget.html']\n",
        "d:\\android\\android-sdk\\docs\\sdk\\api_diff\\8"
       ]
      },
      {
       "output_type": "stream",
       "stream": "stdout",
       "text": [
        " ['changes.html', 'missingSinces.txt', 'stylesheet-jdiff.css', 'user_comments_for_7_to_8.xml']\n",
        "d:\\android\\android-sdk\\docs\\sdk\\api_diff\\8\\changes"
       ]
      },
      {
       "output_type": "stream",
       "stream": "stdout",
       "text": [
        " ['alldiffs_index_additions.html', 'alldiffs_index_all.html', 'alldiffs_index_changes.html', 'alldiffs_index_removals.html', 'android.accounts.AccountManager.html', 'android.app.Activity.html', 'android.app.ActivityManager.html', 'android.app.ActivityManager.ProcessErrorStateInfo.html', 'android.app.AlarmManager.html', 'android.app.Dialog.html', 'android.app.SearchManager.html', 'android.content.AbstractThreadedSyncAdapter.html', 'android.content.ComponentName.html', 'android.content.ContentResolver.html', 'android.content.Context.html', 'android.content.ContextWrapper.html', 'android.content.Intent.html', 'android.content.pm.ActivityInfo.html', 'android.content.pm.ApplicationInfo.html', 'android.content.pm.ComponentInfo.html', 'android.content.pm.PackageManager.html', 'android.content.res.Configuration.html', 'android.content.SyncResult.html', 'android.database.DatabaseUtils.html', 'android.database.sqlite.SQLiteDatabase.html', 'android.database.sqlite.SQLiteProgram.html', 'android.gesture.Gesture.html', 'android.gesture.GesturePoint.html', 'android.gesture.GestureStroke.html', 'android.graphics.PixelFormat.html', 'android.hardware.Camera.html', 'android.hardware.Camera.Parameters.html', 'android.hardware.Sensor.html', 'android.location.LocationManager.html', 'android.Manifest.permission.html', 'android.media.AudioManager.html', 'android.media.ExifInterface.html', 'android.media.MediaRecorder.html', 'android.media.MediaScannerConnection.html', 'android.media.MediaScannerConnection.MediaScannerConnectionClient.html', 'android.media.SoundPool.html', 'android.net.ConnectivityManager.html', 'android.net.http.SslCertificate.html', 'android.net.SSLCertificateSocketFactory.html', 'android.opengl.GLSurfaceView.html', 'android.opengl.Matrix.html', 'android.os.Build.html', 'android.os.Build.VERSION_CODES.html', 'android.os.Bundle.html', 'android.os.Debug.html', 'android.os.Environment.html', 'android.os.PowerManager.html', 'android.provider.Browser.html', 'android.provider.CallLog.Calls.html', 'android.provider.Contacts.PresenceColumns.html', 'android.provider.ContactsContract.Groups.html', 'android.provider.ContactsContract.RawContacts.html', 'android.provider.ContactsContract.StatusColumns.html', 'android.provider.MediaStore.Audio.AudioColumns.html', 'android.provider.MediaStore.Audio.Playlists.Members.html', 'android.provider.MediaStore.html', 'android.provider.MediaStore.Images.Thumbnails.html', 'android.provider.MediaStore.Video.Thumbnails.html', 'android.provider.Settings.html', 'android.provider.Settings.Secure.html', 'android.provider.Settings.System.html', 'android.R.anim.html', 'android.R.attr.html', 'android.R.id.html', 'android.speech.RecognizerIntent.html', 'android.speech.tts.TextToSpeech.Engine.html', 'android.speech.tts.TextToSpeech.html', 'android.telephony.TelephonyManager.html', 'android.test.ActivityInstrumentationTestCase2.html', 'android.test.mock.MockContext.html', 'android.test.mock.MockPackageManager.html', 'android.text.AndroidCharacter.html', 'android.text.util.Rfc822Tokenizer.html', 'android.util.EventLogTags.html', 'android.util.Log.html', 'android.view.animation.Animation.html', 'android.view.Display.html', 'android.view.GestureDetector.html', 'android.view.HapticFeedbackConstants.html', 'android.view.MotionEvent.html', 'android.view.VelocityTracker.html', 'android.view.View.html', 'android.view.ViewConfiguration.html', 'android.view.ViewGroup.LayoutParams.html', 'android.view.WindowManager.LayoutParams.html', 'android.webkit.CacheManager.html', 'android.webkit.JsResult.html', 'android.webkit.WebChromeClient.html', 'android.webkit.WebSettings.html', 'android.webkit.WebView.html', 'android.webkit.WebViewClient.html', 'android.widget.AbsListView.html', 'android.widget.BaseExpandableListAdapter.html', 'android.widget.ImageView.html', 'android.widget.ListView.html', 'android.widget.RemoteViews.html', 'android.widget.TabWidget.html', 'android.widget.VideoView.html', 'changes-summary.html', 'classes_index_additions.html', 'classes_index_all.html', 'classes_index_changes.html', 'classes_index_removals.html', 'constructors_index_additions.html', 'constructors_index_all.html', 'constructors_index_changes.html', 'constructors_index_removals.html', 'dalvik.bytecode.Opcodes.html', 'dalvik.system.VMDebug.html', 'dalvik.system.Zygote.html', 'fields_index_additions.html', 'fields_index_all.html', 'fields_index_changes.html', 'fields_index_removals.html', 'java.net.DatagramSocketImpl.html', 'java.nio.charset.Charset.html', 'java.util.ArrayList.html', 'java.util.HashMap.html', 'java.util.regex.Matcher.html', 'java.util.regex.Pattern.html', 'javax.xml.parsers.DocumentBuilder.html', 'javax.xml.parsers.DocumentBuilderFactory.html', 'javax.xml.parsers.SAXParser.html', 'javax.xml.parsers.SAXParserFactory.html', 'javax.xml.XMLConstants.html', 'jdiff_help.html', 'jdiff_statistics.html', 'jdiff_topleftframe.html', 'methods_index_additions.html', 'methods_index_all.html', 'methods_index_changes.html', 'methods_index_removals.html', 'org.w3c.dom.Attr.html', 'org.w3c.dom.Document.html', 'org.w3c.dom.DOMException.html', 'org.w3c.dom.DOMImplementation.html', 'org.w3c.dom.Element.html', 'org.w3c.dom.Entity.html', 'org.w3c.dom.NamedNodeMap.html', 'org.w3c.dom.Node.html', 'org.w3c.dom.Text.html', 'packages_index_additions.html', 'packages_index_all.html', 'packages_index_changes.html', 'packages_index_removals.html', 'pkg_android.accounts.html', 'pkg_android.app.html', 'pkg_android.content.html', 'pkg_android.content.pm.html', 'pkg_android.content.res.html', 'pkg_android.database.html', 'pkg_android.database.sqlite.html', 'pkg_android.gesture.html', 'pkg_android.graphics.html', 'pkg_android.hardware.html', 'pkg_android.html', 'pkg_android.location.html', 'pkg_android.media.html', 'pkg_android.net.html', 'pkg_android.net.http.html', 'pkg_android.opengl.html', 'pkg_android.os.html', 'pkg_android.provider.html', 'pkg_android.speech.html', 'pkg_android.speech.tts.html', 'pkg_android.telephony.html', 'pkg_android.test.html', 'pkg_android.test.mock.html', 'pkg_android.text.html', 'pkg_android.text.style.html', 'pkg_android.text.util.html', 'pkg_android.util.html', 'pkg_android.view.animation.html', 'pkg_android.view.html', 'pkg_android.webkit.html', 'pkg_android.widget.html', 'pkg_dalvik.bytecode.html', 'pkg_dalvik.system.html', 'pkg_java.net.html', 'pkg_java.nio.charset.html', 'pkg_java.util.html', 'pkg_java.util.regex.html', 'pkg_javax.xml.html', 'pkg_javax.xml.parsers.html', 'pkg_org.w3c.dom.html']\n",
        "d:\\android\\android-sdk\\docs\\sdk\\api_diff\\9 ['changes.html', 'stylesheet-jdiff.css', 'user_comments_for_8_to_9.xml']\n",
        "d:\\android\\android-sdk\\docs\\sdk\\api_diff\\9\\changes"
       ]
      },
      {
       "output_type": "stream",
       "stream": "stdout",
       "text": [
        " ['alldiffs_index_additions.html', 'alldiffs_index_all.html', 'alldiffs_index_changes.html', 'alldiffs_index_removals.html', 'android.app.Activity.html', 'android.app.ActivityManager.RunningAppProcessInfo.html', 'android.app.admin.DevicePolicyManager.html', 'android.app.Notification.html', 'android.content.AbstractThreadedSyncAdapter.html', 'android.content.Context.html', 'android.content.IntentSender.html', 'android.content.pm.ActivityInfo.html', 'android.content.pm.ApplicationInfo.html', 'android.content.pm.PackageInfo.html', 'android.content.pm.PackageItemInfo.html', 'android.content.pm.PackageManager.html', 'android.content.res.Configuration.html', 'android.content.SharedPreferences.Editor.html', 'android.graphics.ImageFormat.html', 'android.hardware.Camera.html', 'android.hardware.Camera.Parameters.html', 'android.hardware.Sensor.html', 'android.hardware.SensorManager.html', 'android.location.Criteria.html', 'android.location.Geocoder.html', 'android.location.LocationManager.html', 'android.Manifest.permission.html', 'android.media.AudioTrack.html', 'android.media.CamcorderProfile.html', 'android.media.CameraProfile.html', 'android.media.ExifInterface.html', 'android.media.MediaPlayer.html', 'android.media.MediaRecorder.html', 'android.net.wifi.WifiManager.WifiLock.html', 'android.opengl.GLES20.html', 'android.os.Build.html', 'android.os.Build.VERSION_CODES.html', 'android.os.DropBoxManager.Entry.html', 'android.os.Environment.html', 'android.os.ParcelFileDescriptor.html', 'android.os.PowerManager.WakeLock.html', 'android.provider.ContactsContract.CommonDataKinds.Nickname.html', 'android.provider.MediaStore.html', 'android.provider.Settings.html', 'android.R.attr.html', 'android.R.drawable.html', 'android.R.style.html', 'android.service.wallpaper.WallpaperService.Engine.html', 'android.telephony.gsm.GsmCellLocation.html', 'android.telephony.TelephonyManager.html', 'android.test.mock.MockPackageManager.html', 'android.text.format.DateUtils.html', 'android.util.DisplayMetrics.html', 'android.view.inputmethod.BaseInputConnection.html', 'android.view.inputmethod.InputConnection.html', 'android.view.inputmethod.InputConnectionWrapper.html', 'android.view.KeyEvent.html', 'android.view.MotionEvent.html', 'android.view.View.html', 'android.view.ViewConfiguration.html', 'android.view.Window.html', 'android.webkit.WebSettings.html', 'android.widget.ListView.html', 'android.widget.RemoteViews.html', 'changes-summary.html', 'classes_index_additions.html', 'classes_index_all.html', 'classes_index_changes.html', 'classes_index_removals.html', 'constructors_index_additions.html', 'constructors_index_all.html', 'constructors_index_changes.html', 'constructors_index_removals.html', 'dalvik.bytecode.Opcodes.html', 'dalvik.system.PathClassLoader.html', 'fields_index_additions.html', 'fields_index_all.html', 'fields_index_changes.html', 'fields_index_removals.html', 'java.awt.font.TextAttribute.html', 'java.io.File.html', 'java.io.IOException.html', 'java.io.ObjectStreamClass.html', 'java.io.PipedInputStream.html', 'java.io.PipedReader.html', 'java.io.PrintStream.html', 'java.io.PrintWriter.html', 'java.lang.Class.html', 'java.lang.Double.html', 'java.lang.Enum.html', 'java.lang.Float.html', 'java.lang.Math.html', 'java.lang.Package.html', 'java.lang.reflect.Array.html', 'java.lang.reflect.Member.html', 'java.lang.StrictMath.html', 'java.lang.String.html', 'java.lang.System.html', 'java.net.NetworkInterface.html', 'java.net.SocketImpl.html', 'java.nio.Buffer.html', 'java.security.AccessController.html', 'java.security.Policy.html', 'java.security.UnrecoverableKeyException.html', 'java.sql.Array.html', 'java.sql.BatchUpdateException.html', 'java.sql.Blob.html', 'java.sql.CallableStatement.html', 'java.sql.Clob.html', 'java.sql.Connection.html', 'java.sql.DatabaseMetaData.html', 'java.sql.DataTruncation.html', 'java.sql.ParameterMetaData.html', 'java.sql.PreparedStatement.html', 'java.sql.ResultSet.html', 'java.sql.ResultSetMetaData.html', 'java.sql.SQLException.html', 'java.sql.SQLInput.html', 'java.sql.SQLOutput.html', 'java.sql.SQLWarning.html', 'java.sql.Statement.html', 'java.sql.Types.html', 'java.text.BreakIterator.html', 'java.text.CollationKey.html', 'java.text.DateFormatSymbols.html', 'java.text.DecimalFormatSymbols.html', 'java.text.Format.html', 'java.text.NumberFormat.html', 'java.util.Arrays.html', 'java.util.Calendar.html', 'java.util.Collections.html', 'java.util.concurrent.AbstractExecutorService.html', 'java.util.concurrent.atomic.AtomicBoolean.html', 'java.util.concurrent.atomic.AtomicInteger.html', 'java.util.concurrent.atomic.AtomicIntegerArray.html', 'java.util.concurrent.atomic.AtomicIntegerFieldUpdater.html', 'java.util.concurrent.atomic.AtomicLong.html', 'java.util.concurrent.atomic.AtomicLongArray.html', 'java.util.concurrent.atomic.AtomicLongFieldUpdater.html', 'java.util.concurrent.atomic.AtomicReference.html', 'java.util.concurrent.atomic.AtomicReferenceArray.html', 'java.util.concurrent.atomic.AtomicReferenceFieldUpdater.html', 'java.util.concurrent.ConcurrentHashMap.html', 'java.util.concurrent.Executors.html', 'java.util.concurrent.ExecutorService.html', 'java.util.concurrent.FutureTask.html', 'java.util.concurrent.locks.AbstractOwnableSynchronizer.html', 'java.util.concurrent.locks.LockSupport.html', 'java.util.concurrent.locks.ReentrantReadWriteLock.html', 'java.util.concurrent.locks.ReentrantReadWriteLock.WriteLock.html', 'java.util.concurrent.ScheduledThreadPoolExecutor.html', 'java.util.concurrent.ThreadPoolExecutor.html', 'java.util.concurrent.TimeUnit.html', 'java.util.LinkedList.html', 'java.util.Locale.html', 'java.util.logging.Logger.html', 'java.util.Properties.html', 'java.util.PropertyResourceBundle.html', 'java.util.ResourceBundle.html', 'java.util.Scanner.html', 'java.util.TreeMap.html', 'java.util.TreeSet.html', 'javax.net.ssl.HandshakeCompletedEvent.html', 'javax.net.ssl.KeyStoreBuilderParameters.html', 'javax.net.ssl.SSLContext.html', 'javax.net.ssl.SSLContextSpi.html', 'javax.net.ssl.SSLEngine.html', 'javax.net.ssl.SSLSessionBindingEvent.html', 'javax.net.ssl.SSLSessionContext.html', 'javax.net.ssl.SSLSocket.html', 'javax.security.auth.Subject.html', 'javax.security.auth.x500.X500Principal.html', 'javax.sql.ConnectionPoolDataSource.html', 'javax.sql.DataSource.html', 'javax.sql.PooledConnection.html', 'javax.sql.RowSet.html', 'javax.xml.datatype.DatatypeFactory.html', 'javax.xml.parsers.DocumentBuilderFactory.html', 'javax.xml.parsers.SAXParserFactory.html', 'javax.xml.transform.TransformerFactory.html', 'javax.xml.validation.SchemaFactory.html', 'jdiff_help.html', 'jdiff_statistics.html', 'jdiff_topleftframe.html', 'methods_index_additions.html', 'methods_index_all.html', 'methods_index_changes.html', 'methods_index_removals.html', 'org.apache.http.protocol.HTTP.html', 'packages_index_additions.html', 'packages_index_all.html', 'packages_index_changes.html', 'packages_index_removals.html', 'pkg_android.app.admin.html', 'pkg_android.app.html', 'pkg_android.content.html', 'pkg_android.content.pm.html', 'pkg_android.content.res.html', 'pkg_android.graphics.html', 'pkg_android.hardware.html', 'pkg_android.html', 'pkg_android.location.html', 'pkg_android.media.html', 'pkg_android.net.wifi.html', 'pkg_android.opengl.html', 'pkg_android.os.html', 'pkg_android.provider.html', 'pkg_android.service.wallpaper.html', 'pkg_android.telephony.gsm.html', 'pkg_android.telephony.html', 'pkg_android.test.mock.html', 'pkg_android.text.format.html', 'pkg_android.util.html', 'pkg_android.view.html', 'pkg_android.view.inputmethod.html', 'pkg_android.webkit.html', 'pkg_android.widget.html', 'pkg_dalvik.bytecode.html', 'pkg_dalvik.system.html', 'pkg_java.awt.font.html', 'pkg_java.io.html', 'pkg_java.lang.html', 'pkg_java.lang.reflect.html', 'pkg_java.net.html', 'pkg_java.nio.html', 'pkg_java.security.html', 'pkg_java.sql.html', 'pkg_java.text.html', 'pkg_java.util.concurrent.atomic.html', 'pkg_java.util.concurrent.html', 'pkg_java.util.concurrent.locks.html', 'pkg_java.util.html', 'pkg_java.util.logging.html', 'pkg_java.util.zip.html', 'pkg_javax.net.ssl.html', 'pkg_javax.security.auth.html', 'pkg_javax.security.auth.x500.html', 'pkg_javax.sql.html', 'pkg_javax.xml.datatype.html', 'pkg_javax.xml.parsers.html', 'pkg_javax.xml.transform.html', 'pkg_javax.xml.validation.html', 'pkg_org.apache.http.protocol.html']\n",
        "d:\\android\\android-sdk\\docs\\sdk\\api_diff\\preview-21 ['changes.html', 'missingSinces.txt', 'stylesheet-jdiff.css', 'user_comments_for_l-preview_to_21.xml']\n",
        "d:\\android\\android-sdk\\docs\\sdk\\api_diff\\preview-21\\changes"
       ]
      },
      {
       "output_type": "stream",
       "stream": "stdout",
       "text": [
        " ['alldiffs_index_additions.html', 'alldiffs_index_all.html', 'alldiffs_index_changes.html', 'alldiffs_index_removals.html', 'android.accessibilityservice.AccessibilityService.html', 'android.accounts.AccountManager.html', 'android.app.ActionBar.html', 'android.app.ActionBar.LayoutParams.html', 'android.app.Activity.html', 'android.app.ActivityManager.AppTask.html', 'android.app.ActivityManager.html', 'android.app.ActivityManager.RecentTaskInfo.html', 'android.app.ActivityManager.RunningAppProcessInfo.html', 'android.app.ActivityOptions.html', 'android.app.admin.DeviceAdminReceiver.html', 'android.app.admin.DevicePolicyManager.html', 'android.app.AlarmManager.html', 'android.app.AppOpsManager.html', 'android.app.backup.BackupAgent.html', 'android.app.Fragment.html', 'android.app.FragmentTransaction.html', 'android.app.job.JobInfo.Builder.html', 'android.app.job.JobInfo.html', 'android.app.job.JobParameters.html', 'android.app.KeyguardManager.html', 'android.app.Notification.Builder.html', 'android.app.Notification.html', 'android.app.Notification.MediaStyle.html', 'android.app.UiModeManager.html', 'android.appwidget.AppWidgetHost.html', 'android.appwidget.AppWidgetManager.html', 'android.appwidget.AppWidgetProviderInfo.html', 'android.bluetooth.BluetoothAdapter.html', 'android.bluetooth.BluetoothGatt.html', 'android.bluetooth.BluetoothGattCallback.html', 'android.bluetooth.BluetoothGattServerCallback.html', 'android.bluetooth.le.AdvertiseCallback.html', 'android.bluetooth.le.AdvertiseSettings.Builder.html', 'android.bluetooth.le.AdvertiseSettings.html', 'android.bluetooth.le.BluetoothLeAdvertiser.html', 'android.bluetooth.le.BluetoothLeScanner.html', 'android.bluetooth.le.ScanCallback.html', 'android.bluetooth.le.ScanFilter.Builder.html', 'android.bluetooth.le.ScanFilter.html', 'android.bluetooth.le.ScanRecord.html', 'android.bluetooth.le.ScanResult.html', 'android.bluetooth.le.ScanSettings.Builder.html', 'android.bluetooth.le.ScanSettings.html', 'android.content.ContentResolver.html', 'android.content.Context.html', 'android.content.ContextWrapper.html', 'android.content.Intent.html', 'android.content.pm.ActivityInfo.html', 'android.content.pm.ApplicationInfo.html', 'android.content.pm.InstrumentationInfo.html', 'android.content.pm.LauncherApps.html', 'android.content.pm.PackageInfo.html', 'android.content.pm.PackageManager.html', 'android.content.pm.PermissionInfo.html', 'android.content.res.AssetManager.html', 'android.content.res.TypedArray.html', 'android.content.RestrictionEntry.html', 'android.graphics.BitmapFactory.Options.html', 'android.graphics.Canvas.html', 'android.graphics.ColorMatrixColorFilter.html', 'android.graphics.drawable.AnimatedStateListDrawable.html', 'android.graphics.drawable.Drawable.html', 'android.graphics.drawable.RippleDrawable.html', 'android.graphics.drawable.shapes.Shape.html', 'android.graphics.ImageFormat.html', 'android.graphics.LightingColorFilter.html', 'android.graphics.Outline.html', 'android.graphics.Paint.html', 'android.graphics.Path.html', 'android.graphics.PorterDuffColorFilter.html', 'android.hardware.Camera.Area.html', 'android.hardware.Camera.AutoFocusCallback.html', 'android.hardware.Camera.AutoFocusMoveCallback.html', 'android.hardware.Camera.CameraInfo.html', 'android.hardware.Camera.ErrorCallback.html', 'android.hardware.Camera.Face.html', 'android.hardware.Camera.FaceDetectionListener.html', 'android.hardware.Camera.html', 'android.hardware.Camera.OnZoomChangeListener.html', 'android.hardware.Camera.Parameters.html', 'android.hardware.Camera.PictureCallback.html', 'android.hardware.Camera.PreviewCallback.html', 'android.hardware.Camera.ShutterCallback.html', 'android.hardware.Camera.Size.html', 'android.hardware.camera2.CameraCaptureSession.html', 'android.hardware.camera2.CameraCharacteristics.html', 'android.hardware.camera2.CameraDevice.html', 'android.hardware.camera2.CameraManager.html', 'android.hardware.camera2.CameraMetadata.html', 'android.hardware.camera2.CaptureFailure.html', 'android.hardware.camera2.CaptureRequest.html', 'android.hardware.camera2.CaptureResult.html', 'android.hardware.camera2.DngCreator.html', 'android.hardware.camera2.params.StreamConfigurationMap.html', 'android.hardware.display.DisplayManager.html', 'android.hardware.display.VirtualDisplay.html', 'android.hardware.Sensor.html', 'android.hardware.SensorManager.html', 'android.inputmethodservice.InputMethodService.html', 'android.location.SettingInjectorService.html', 'android.Manifest.permission.html', 'android.media.AudioFormat.html', 'android.media.audiofx.Virtualizer.html', 'android.media.AudioManager.html', 'android.media.AudioTrack.html', 'android.media.CamcorderProfile.html', 'android.media.Image.html', 'android.media.MediaCodec.CryptoException.html', 'android.media.MediaCodec.html', 'android.media.MediaCodecInfo.CodecCapabilities.html', 'android.media.MediaCodecInfo.CodecProfileLevel.html', 'android.media.MediaCodecList.html', 'android.media.MediaDrm.html', 'android.media.MediaFormat.html', 'android.media.MediaMetadata.Builder.html', 'android.media.MediaMetadata.html', 'android.media.MediaMetadataEditor.html', 'android.media.MediaPlayer.html', 'android.media.MediaPlayer.TrackInfo.html', 'android.media.MediaRecorder.AudioEncoder.html', 'android.media.MediaRecorder.html', 'android.media.MediaRecorder.OutputFormat.html', 'android.media.MediaRecorder.VideoEncoder.html', 'android.media.RemoteControlClient.html', 'android.media.RemoteControlClient.MetadataEditor.html', 'android.media.RemoteController.html', 'android.media.Ringtone.html', 'android.media.session.MediaController.Callback.html', 'android.media.session.MediaController.html', 'android.media.session.MediaController.TransportControls.html', 'android.media.session.MediaSession.Callback.html', 'android.media.session.MediaSession.html', 'android.media.session.MediaSessionManager.html', 'android.media.session.PlaybackState.html', 'android.media.SoundPool.html', 'android.media.tv.TvContract.Channels.html', 'android.media.tv.TvContract.html', 'android.media.tv.TvContract.Programs.Genres.html', 'android.media.tv.TvContract.Programs.html', 'android.media.tv.TvInputInfo.html', 'android.media.tv.TvInputManager.html', 'android.media.tv.TvInputService.html', 'android.media.tv.TvInputService.Session.html', 'android.media.tv.TvView.html', 'android.net.ConnectivityManager.html', 'android.net.LinkAddress.html', 'android.net.Network.html', 'android.net.NetworkCapabilities.html', 'android.net.NetworkRequest.Builder.html', 'android.net.ProxyInfo.html', 'android.net.VpnService.Builder.html', 'android.net.wifi.WifiConfiguration.html', 'android.net.wifi.WifiManager.html', 'android.net.wifi.WpsInfo.html', 'android.nfc.cardemulation.CardEmulation.html', 'android.os.Build.html', 'android.os.Build.VERSION_CODES.html', 'android.os.Bundle.html', 'android.os.Message.html', 'android.os.Parcel.html', 'android.os.PowerManager.html', 'android.os.PowerManager.WakeLock.html', 'android.os.UserManager.html', 'android.os.Vibrator.html', 'android.printservice.PrintService.html', 'android.provider.CallLog.Calls.html', 'android.provider.ContactsContract.CommonDataKinds.Callable.html', 'android.provider.ContactsContract.CommonDataKinds.Contactables.html', 'android.provider.ContactsContract.CommonDataKinds.Email.html', 'android.provider.ContactsContract.CommonDataKinds.Event.html', 'android.provider.ContactsContract.CommonDataKinds.GroupMembership.html', 'android.provider.ContactsContract.CommonDataKinds.Identity.html', 'android.provider.ContactsContract.CommonDataKinds.Im.html', 'android.provider.ContactsContract.CommonDataKinds.Nickname.html', 'android.provider.ContactsContract.CommonDataKinds.Note.html', 'android.provider.ContactsContract.CommonDataKinds.Organization.html', 'android.provider.ContactsContract.CommonDataKinds.Phone.html', 'android.provider.ContactsContract.CommonDataKinds.Photo.html', 'android.provider.ContactsContract.CommonDataKinds.Relation.html', 'android.provider.ContactsContract.CommonDataKinds.SipAddress.html', 'android.provider.ContactsContract.CommonDataKinds.StructuredName.html', 'android.provider.ContactsContract.CommonDataKinds.StructuredPostal.html', 'android.provider.ContactsContract.CommonDataKinds.Website.html', 'android.provider.ContactsContract.ContactOptionsColumns.html', 'android.provider.ContactsContract.Contacts.Entity.html', 'android.provider.ContactsContract.Contacts.html', 'android.provider.ContactsContract.Contacts.StreamItems.html', 'android.provider.ContactsContract.ContactsColumns.html', 'android.provider.ContactsContract.Data.html', 'android.provider.ContactsContract.DataColumns.html', 'android.provider.ContactsContract.GroupsColumns.html', 'android.provider.ContactsContract.html', 'android.provider.ContactsContract.PhoneLookup.html', 'android.provider.ContactsContract.QuickContact.html', 'android.provider.ContactsContract.RawContacts.StreamItems.html', 'android.provider.ContactsContract.RawContactsColumns.html', 'android.provider.ContactsContract.StreamItemPhotos.html', 'android.provider.ContactsContract.StreamItemPhotosColumns.html', 'android.provider.ContactsContract.StreamItems.html', 'android.provider.ContactsContract.StreamItems.StreamItemPhotos.html', 'android.provider.ContactsContract.StreamItemsColumns.html', 'android.provider.MediaStore.Audio.Radio.html', 'android.provider.Settings.html', 'android.provider.Settings.Secure.html', 'android.provider.Settings.System.html', 'android.provider.Telephony.BaseMmsColumns.html', 'android.provider.Telephony.TextBasedSmsColumns.html', 'android.provider.Telephony.ThreadsColumns.html', 'android.provider.VoicemailContract.Voicemails.html', 'android.R.attr.html', 'android.R.dimen.html', 'android.R.id.html', 'android.R.interpolator.html', 'android.R.style.html', 'android.R.transition.html', 'android.renderscript.ScriptC.html', 'android.service.dreams.DreamService.html', 'android.service.notification.NotificationListenerService.html', 'android.service.notification.NotificationListenerService.Ranking.html', 'android.service.notification.NotificationListenerService.RankingMap.html', 'android.service.notification.StatusBarNotification.html', 'android.service.voice.VoiceInteractionService.html', 'android.service.voice.VoiceInteractionSession.html', 'android.service.wallpaper.WallpaperService.Engine.html', 'android.speech.tts.SynthesisCallback.html', 'android.speech.tts.SynthesisRequest.html', 'android.speech.tts.TextToSpeech.Engine.html', 'android.speech.tts.TextToSpeech.html', 'android.speech.tts.TextToSpeechService.html', 'android.speech.tts.UtteranceProgressListener.html', 'android.system.OsConstants.html', 'android.telephony.SmsManager.html', 'android.telephony.TelephonyManager.html', 'android.test.mock.MockContext.html', 'android.test.mock.MockPackageManager.html', 'android.text.InputFilter.LengthFilter.html', 'android.text.SpannableStringBuilder.html', 'android.transition.AutoTransition.html', 'android.transition.ChangeBounds.html', 'android.transition.ChangeClipBounds.html', 'android.transition.ChangeTransform.html', 'android.transition.Explode.html', 'android.transition.Fade.html', 'android.transition.Slide.html', 'android.transition.Transition.html', 'android.transition.TransitionSet.html', 'android.transition.Visibility.html', 'android.util.ArrayMap.html', 'android.util.DisplayMetrics.html', 'android.util.Range.html', 'android.util.Rational.html', 'android.util.Size.html', 'android.util.SizeF.html', 'android.view.accessibility.AccessibilityNodeInfo.html', 'android.view.accessibility.AccessibilityWindowInfo.html', 'android.view.Display.html', 'android.view.FrameStats.html', 'android.view.inputmethod.BaseInputConnection.html', 'android.view.inputmethod.CursorAnchorInfo.Builder.html', 'android.view.inputmethod.CursorAnchorInfo.html', 'android.view.inputmethod.InputConnection.html', 'android.view.inputmethod.InputConnectionWrapper.html', 'android.view.inputmethod.InputMethodManager.html', 'android.view.KeyEvent.html', 'android.view.MotionEvent.html', 'android.view.textservice.TextInfo.html', 'android.view.View.html', 'android.view.ViewAnimationUtils.html', 'android.view.ViewGroup.html', 'android.view.ViewParent.html', 'android.view.Window.html', 'android.view.WindowInsets.html', 'android.view.WindowManager.LayoutParams.html', 'android.webkit.CookieManager.html', 'android.webkit.CookieSyncManager.html', 'android.webkit.PermissionRequest.html', 'android.webkit.WebChromeClient.html', 'android.webkit.WebResourceResponse.html', 'android.webkit.WebSyncManager.html', 'android.webkit.WebView.html', 'android.webkit.WebViewClient.html', 'android.widget.AbsListView.html', 'android.widget.AbsSeekBar.html', 'android.widget.ActionMenuView.html', 'android.widget.CheckedTextView.html', 'android.widget.CompoundButton.html', 'android.widget.DatePicker.html', 'android.widget.EdgeEffect.html', 'android.widget.FrameLayout.html', 'android.widget.GridLayout.html', 'android.widget.ImageView.html', 'android.widget.PopupWindow.html', 'android.widget.ProgressBar.html', 'android.widget.Switch.html', 'android.widget.TextView.html', 'android.widget.Toolbar.html', 'android.widget.VideoView.html', 'changes-summary.html', 'classes_index_additions.html', 'classes_index_all.html', 'classes_index_changes.html', 'classes_index_removals.html', 'constructors_index_additions.html', 'constructors_index_all.html', 'constructors_index_changes.html', 'constructors_index_removals.html', 'fields_index_additions.html', 'fields_index_all.html', 'fields_index_changes.html', 'fields_index_removals.html', 'java.util.concurrent.locks.AbstractQueuedLongSynchronizer.html', 'java.util.concurrent.locks.AbstractQueuedSynchronizer.html', 'java.util.concurrent.ScheduledThreadPoolExecutor.html', 'java.util.Locale.html', 'jdiff_help.html', 'jdiff_statistics.html', 'jdiff_topleftframe.html', 'methods_index_additions.html', 'methods_index_all.html', 'methods_index_changes.html', 'methods_index_removals.html', 'packages_index_additions.html', 'packages_index_all.html', 'packages_index_changes.html', 'packages_index_removals.html', 'pkg_android.accessibilityservice.html', 'pkg_android.accounts.html', 'pkg_android.app.admin.html', 'pkg_android.app.backup.html', 'pkg_android.app.html', 'pkg_android.app.job.html', 'pkg_android.appwidget.html', 'pkg_android.bluetooth.html', 'pkg_android.bluetooth.le.html', 'pkg_android.content.html', 'pkg_android.content.pm.html', 'pkg_android.content.res.html', 'pkg_android.graphics.drawable.html', 'pkg_android.graphics.drawable.shapes.html', 'pkg_android.graphics.html', 'pkg_android.hardware.camera2.html', 'pkg_android.hardware.camera2.params.html', 'pkg_android.hardware.display.html', 'pkg_android.hardware.html', 'pkg_android.html', 'pkg_android.inputmethodservice.html', 'pkg_android.location.html', 'pkg_android.media.audiofx.html', 'pkg_android.media.html', 'pkg_android.media.session.html', 'pkg_android.media.tv.html', 'pkg_android.net.html', 'pkg_android.net.wifi.html', 'pkg_android.nfc.cardemulation.html', 'pkg_android.os.html', 'pkg_android.printservice.html', 'pkg_android.provider.html', 'pkg_android.renderscript.html', 'pkg_android.service.dreams.html', 'pkg_android.service.notification.html', 'pkg_android.service.voice.html', 'pkg_android.service.wallpaper.html', 'pkg_android.speech.tts.html', 'pkg_android.system.html', 'pkg_android.telephony.html', 'pkg_android.test.mock.html', 'pkg_android.text.html', 'pkg_android.text.style.html', 'pkg_android.transition.html', 'pkg_android.util.html', 'pkg_android.view.accessibility.html', 'pkg_android.view.html', 'pkg_android.view.inputmethod.html', 'pkg_android.view.textservice.html', 'pkg_android.webkit.html', 'pkg_android.widget.html', 'pkg_java.util.concurrent.html', 'pkg_java.util.concurrent.locks.html', 'pkg_java.util.html']\n",
        "d:\\android\\android-sdk\\docs\\sdk\\images ['battery.png', 'camera.png', 'donut_small_bg.png', 'market.png', 'search.png']\n",
        "d:\\android\\android-sdk\\docs\\sdk\\images\\2.0"
       ]
      },
      {
       "output_type": "stream",
       "stream": "stdout",
       "text": [
        " ['camera-modes.png', 'email-inbox.png', 'mms-search.png', 'multiple-accounts.png', 'quick-connect.png']\n",
        "d:\\android\\android-sdk\\docs\\sdk\\images\\2.2 ['22browser.png', '22exchange.png', '22gallery.png', '22home.png', '22hotspot.png', '22keyboard.png', 'jit-graph.png']\n",
        "d:\\android\\android-sdk\\docs\\sdk\\images\\2.3 ['ffc.png', 'home-menu.png', 'home-plain.png', 'nfc.png', 'onetouch.png', 'power.png', 'running.png', 'selection.png', 'sipcall.png']\n",
        "d:\\android\\android-sdk\\docs\\sdk\\images\\3.0 ['browser.png', 'browser_full.png', 'camera.png', 'camera_full.png', 'contacts.png', 'contacts_full.png', 'copy.png', 'copy_full.png', 'homescreen_cust_port.png', 'homescreen_cust_port_full.png', 'home_hero1.png', 'home_hero1_full.png', 'mail_drag.png', 'mail_drag_full.png', 'tasks.png', 'tasks_full.png', 'widgets.png']\n",
        "d:\\android\\android-sdk\\docs\\sdk\\images\\3.1 ['controls.png', 'home.png', 'home_full.png', 'resizeable.png', 'tasks.png']\n",
        "d:\\android\\android-sdk\\docs\\sdk\\images\\4.0"
       ]
      },
      {
       "output_type": "stream",
       "stream": "stdout",
       "text": [
        " ['allapps-lg.png', 'allapps.png', 'bbench.png', 'beam-lg.png', 'beam-maps-lg.png', 'beam-maps.png', 'beam.png', 'browser-lg.png', 'browser-tabs-lg.png', 'browser-tabs.png', 'browser.png', 'calendar-widget-lg.png', 'calendar-widget.png', 'camera-lg.png', 'camera.png', 'contact-call-lg.png', 'contact-call.png', 'contact-connect-lg.png', 'contact-connect.png', 'contact-email-lg.png', 'contact-email.png', 'contact-faves-lg.png', 'contact-faves.png', 'face-unlock-lg.png', 'face-unlock.png', 'gallery-edit-lg.png', 'gallery-edit.png', 'gallery-share-lg.png', 'gallery-share.png', 'gallery-widget.png', 'home-lg.png', 'home.png', 'live-effects.png', 'lock-camera-lg.png', 'lock-camera.png', 'lock-lg.png', 'lock.png', 'quick-responses-lg.png', 'quick-responses.png', 'screenshot-lg.png', 'screenshot.png', 'tasks-lg.png', 'tasks.png', 'text-replace-lg.png', 'text-replace.png', 'tts-lg.png', 'tts.png', 'usage-all-lg.png', 'usage-all.png', 'usage-maps-lg.png', 'usage-maps.png']\n",
        "d:\\android\\android-sdk\\docs\\sdk\\installing ['adding-packages.html', 'bundle.html', 'create-project.html', 'index.html', 'installing-adt.html', 'migrate.html', 'studio-androidview.html', 'studio-build.html', 'studio-debug.html', 'studio-layout.html', 'studio-tips.html', 'studio.html']\n",
        "d:\\android\\android-sdk\\docs\\shareables ['README.txt']\n",
        "d:\\android\\android-sdk\\docs\\tools"
       ]
      },
      {
       "output_type": "stream",
       "stream": "stdout",
       "text": [
        " ['device.html', 'index.html', 'tools_toc.html', 'workflow.html']\n",
        "d:\\android\\android-sdk\\docs\\tools\\adk ['adk.html', 'adk2.html', 'index.html']\n",
        "d:\\android\\android-sdk\\docs\\tools\\building ['building-cmdline.html', 'building-eclipse.html', 'index.html']\n",
        "d:\\android\\android-sdk\\docs\\tools\\debugging"
       ]
      },
      {
       "output_type": "stream",
       "stream": "stdout",
       "text": [
        " ['ddms.html', 'debugging-devtools.html', 'debugging-log.html', 'debugging-memory.html', 'debugging-projects-cmdline.html', 'debugging-projects.html', 'debugging-tracing.html', 'debugging-ui.html', 'improving-w-lint.html', 'index.html', 'systrace.html']\n",
        "d:\\android\\android-sdk\\docs\\tools\\devices ['emulator.html', 'index.html', 'managing-avds-cmdline.html', 'managing-avds.html']\n",
        "d:\\android\\android-sdk\\docs\\tools\\extras ['index.html', 'oem-usb.html']\n",
        "d:\\android\\android-sdk\\docs\\tools\\help ['adb.html', 'adt.html', 'android.html', 'avd-manager.html', 'bmgr.html', 'ddms.html', 'dmtracedump.html', 'draw9patch.html', 'emulator.html', 'etc1tool.html', 'gltracer.html', 'hierarchy-viewer.html', 'hprof-conv.html', 'index.html', 'jobb.html', 'layoutopt.html', 'lint.html', 'logcat.html', 'mksdcard.html', 'monitor.html', 'monkey.html', 'MonkeyDevice.html', 'MonkeyImage.html', 'MonkeyRunner.html', 'monkeyrunner_concepts.html', 'proguard.html', 'sdk-manager.html', 'sqlite3.html', 'systrace.html', 'traceview.html', 'zipalign.html']\n",
        "d:\\android\\android-sdk\\docs\\tools\\help\\uiautomator ['Configurator.html', 'IAutomationSupport.html', 'index.html', 'UiAutomatorTestCase.html', 'UiCollection.html', 'UiDevice.html', 'UiObject.html', 'UiObjectNotFoundException.html', 'UiScrollable.html', 'UiSelector.html', 'UiWatcher.html']\n",
        "d:\\android\\android-sdk\\docs\\tools\\projects ['index.html', 'projects-cmdline.html', 'projects-eclipse.html', 'templates.html']\n",
        "d:\\android\\android-sdk\\docs\\tools\\publishing ['app-signing.html', 'preparing.html', 'publishing_overview.html', 'versioning.html']\n",
        "d:\\android\\android-sdk\\docs\\tools\\revisions ['build-tools.html', 'index.html', 'platforms.html']\n",
        "d:\\android\\android-sdk\\docs\\tools\\sdk ['eclipse-adt.html', 'tools-notes.html']\n",
        "d:\\android\\android-sdk\\docs\\tools\\sdk\\ndk ['index.html']\n",
        "d:\\android\\android-sdk\\docs\\tools\\sdk\\ndk\\1.5_r1 ['index.html']\n",
        "d:\\android\\android-sdk\\docs\\tools\\sdk\\ndk\\1.6_r1 ['index.html']\n",
        "d:\\android\\android-sdk\\docs\\tools\\sdk\\preview ['features.html', 'index.html', 'installing.html', 'requirements.html', 'upgrading.html']\n",
        "d:\\android\\android-sdk\\docs\\tools\\support-library ['features.html', 'index.html', 'setup.html']\n",
        "d:\\android\\android-sdk\\docs\\tools\\testing ['activity_test.html', 'activity_testing.html', 'contentprovider_testing.html', 'index.html', 'service_testing.html', 'testing_accessibility.html', 'testing_android.html', 'testing_eclipse.html', 'testing_otheride.html', 'testing_ui.html', 'what_to_test.html']\n",
        "d:\\android\\android-sdk\\docs\\tools\\workflow ['index.html']\n",
        "d:\\android\\android-sdk\\docs\\training"
       ]
      },
      {
       "output_type": "stream",
       "stream": "stdout",
       "text": [
        " ['advanced.html', 'best-background.html', 'best-performance.html', 'best-security.html', 'best-ui.html', 'best-user-input.html', 'best-ux.html', 'building-connectivity.html', 'building-content-sharing.html', 'building-graphics.html', 'building-multimedia.html', 'building-userinfo.html', 'building-wearables.html', 'distribute.html', 'index.html', 'testing.html', 'training_toc.html']\n",
        "d:\\android\\android-sdk\\docs\\training\\accessibility ['accessible-app.html', 'index.html', 'service.html']\n",
        "d:\\android\\android-sdk\\docs\\training\\activity-testing ['activity-basic-testing.html', 'activity-functional-testing.html', 'activity-ui-testing.html', 'activity-unit-testing.html', 'index.html', 'preparing-activity-testing.html']\n",
        "d:\\android\\android-sdk\\docs\\training\\animation ['anim_card_flip.mp4', 'anim_card_flip.ogv', 'anim_card_flip.webm', 'anim_crossfade.mp4', 'anim_crossfade.ogv', 'anim_crossfade.webm', 'anim_layout_changes.mp4', 'anim_layout_changes.ogv', 'anim_layout_changes.webm', 'anim_page_transformer_depth.mp4', 'anim_page_transformer_depth.ogv', 'anim_page_transformer_depth.webm', 'anim_page_transformer_zoomout.mp4', 'anim_page_transformer_zoomout.ogv', 'anim_page_transformer_zoomout.webm', 'anim_screenslide.mp4', 'anim_screenslide.ogv', 'anim_screenslide.webm', 'anim_zoom.mp4', 'anim_zoom.ogv', 'anim_zoom.webm', 'cardflip.html', 'crossfade.html', 'index.html', 'layout.html', 'screen-slide.html', 'zoom.html']\n",
        "d:\\android\\android-sdk\\docs\\training\\app-indexing ['deep-linking.html', 'enabling-app-indexing.html', 'index.html']\n",
        "d:\\android\\android-sdk\\docs\\training\\articles"
       ]
      },
      {
       "output_type": "stream",
       "stream": "stdout",
       "text": [
        " ['keystore.html', 'memory.html', 'perf-anr.html', 'perf-jni.html', 'perf-tips.html', 'security-gms-provider.html', 'security-ssl.html', 'security-tips.html', 'smp.html']\n",
        "d:\\android\\android-sdk\\docs\\training\\backward-compatible-ui ['abstracting.html', 'index.html', 'new-implementation.html', 'older-implementation.html', 'using-component.html']\n",
        "d:\\android\\android-sdk\\docs\\training\\basics []\n",
        "d:\\android\\android-sdk\\docs\\training\\basics\\actionbar ['adding-buttons.html', 'index.html', 'overlaying.html', 'setting-up.html', 'styling.html']\n",
        "d:\\android\\android-sdk\\docs\\training\\basics\\activity-lifecycle"
       ]
      },
      {
       "output_type": "stream",
       "stream": "stdout",
       "text": [
        " ['index.html', 'pausing.html', 'recreating.html', 'starting.html', 'stopping.html']\n",
        "d:\\android\\android-sdk\\docs\\training\\basics\\data-storage ['databases.html', 'files.html', 'index.html', 'shared-preferences.html']\n",
        "d:\\android\\android-sdk\\docs\\training\\basics\\firstapp ['building-ui.html', 'creating-project.html', 'index.html', 'running-app.html', 'starting-activity.html']\n",
        "d:\\android\\android-sdk\\docs\\training\\basics\\fragments ['communicating.html', 'creating.html', 'fragment-ui.html', 'index.html', 'support-lib.html']\n",
        "d:\\android\\android-sdk\\docs\\training\\basics\\intents ['filters.html', 'index.html', 'result.html', 'sending.html']\n",
        "d:\\android\\android-sdk\\docs\\training\\basics\\network-ops ['connecting.html', 'index.html', 'managing.html', 'xml.html']\n",
        "d:\\android\\android-sdk\\docs\\training\\basics\\supporting-devices"
       ]
      },
      {
       "output_type": "stream",
       "stream": "stdout",
       "text": [
        " ['index.html', 'languages.html', 'platforms.html', 'screens.html']\n",
        "d:\\android\\android-sdk\\docs\\training\\beam-files ['index.html', 'receive-files.html', 'send-files.html']\n",
        "d:\\android\\android-sdk\\docs\\training\\camera ['cameradirect.html', 'index.html', 'photobasics.html', 'videobasics.html']\n",
        "d:\\android\\android-sdk\\docs\\training\\cloudsave ['conflict-res.html']\n",
        "d:\\android\\android-sdk\\docs\\training\\cloudsync ['backupapi.html', 'gcm.html', 'index.html']\n",
        "d:\\android\\android-sdk\\docs\\training\\connect-devices-wirelessly ['index.html', 'nsd-wifi-direct.html', 'nsd.html', 'wifi-direct.html']\n",
        "d:\\android\\android-sdk\\docs\\training\\contacts-provider"
       ]
      },
      {
       "output_type": "stream",
       "stream": "stdout",
       "text": [
        " ['display-contact-badge.html', 'index.html', 'modify-data.html', 'retrieve-details.html', 'retrieve-names.html']\n",
        "d:\\android\\android-sdk\\docs\\training\\custom-views ['create-view.html', 'custom-drawing.html', 'index.html', 'making-interactive.html', 'optimizing-view.html']\n",
        "d:\\android\\android-sdk\\docs\\training\\design-navigation"
       ]
      },
      {
       "output_type": "stream",
       "stream": "stdout",
       "text": [
        " ['ancestral-temporal.html', 'descendant-lateral.html', 'example-wireframe-device-template.svg', 'example-wireframe-phone.svg', 'example-wireframe-tablet.svg', 'index.html', 'multiple-sizes.html', 'screen-planning.html', 'wireframing.html']\n",
        "d:\\android\\android-sdk\\docs\\training\\displaying-bitmaps ['cache-bitmap.html', 'display-bitmap.html', 'index.html', 'load-bitmap.html', 'manage-memory.html', 'process-bitmap.html']\n",
        "d:\\android\\android-sdk\\docs\\training\\efficient-downloads ['connectivity_patterns.html', 'efficient-network-access.html', 'index.html', 'redundant_redundant.html', 'regular_updates.html']\n",
        "d:\\android\\android-sdk\\docs\\training\\enterprise ['device-management-policy.html', 'index.html']\n",
        "d:\\android\\android-sdk\\docs\\training\\game-controllers ['compatibility.html', 'controller-input.html', 'index.html', 'multiple-controllers.html']\n",
        "d:\\android\\android-sdk\\docs\\training\\gestures"
       ]
      },
      {
       "output_type": "stream",
       "stream": "stdout",
       "text": [
        " ['detector.html', 'index.html', 'movement.html', 'multi.html', 'scale.html', 'scroll.html', 'viewgroup.html']\n",
        "d:\\android\\android-sdk\\docs\\training\\graphics []\n",
        "d:\\android\\android-sdk\\docs\\training\\graphics\\opengl ['draw.html', 'environment.html', 'index.html', 'motion.html', 'projection.html', 'shapes.html', 'touch.html']\n",
        "d:\\android\\android-sdk\\docs\\training\\id-auth ['authenticate.html', 'custom_auth.html', 'identify.html', 'index.html']\n",
        "d:\\android\\android-sdk\\docs\\training\\implementing-navigation ['ancestral.html', 'descendant.html', 'index.html', 'lateral.html', 'nav-drawer.html', 'temporal.html']\n",
        "d:\\android\\android-sdk\\docs\\training\\improving-layouts ['index.html', 'loading-ondemand.html', 'optimizing-layout.html', 'reusing-layouts.html', 'smooth-scrolling.html']\n",
        "d:\\android\\android-sdk\\docs\\training\\in-app-billing"
       ]
      },
      {
       "output_type": "stream",
       "stream": "stdout",
       "text": [
        " ['index.html', 'list-iab-products.html', 'preparing-iab-app.html', 'purchase-iab-products.html', 'test-iab-app.html']\n",
        "d:\\android\\android-sdk\\docs\\training\\keyboard-input ['commands.html', 'index.html', 'navigation.html', 'style.html', 'visibility.html']\n",
        "d:\\android\\android-sdk\\docs\\training\\load-data-background ['handle-results.html', 'index.html', 'setup-loader.html']\n",
        "d:\\android\\android-sdk\\docs\\training\\location"
       ]
      },
      {
       "output_type": "stream",
       "stream": "stdout",
       "text": [
        " ['activity-recognition.html', 'display-address.html', 'geofencing.html', 'index.html', 'location-testing.html', 'receive-location-updates.html', 'retrieve-current.html']\n",
        "d:\\android\\android-sdk\\docs\\training\\managing-audio ['audio-focus.html', 'audio-output.html', 'index.html', 'volume-playback.html']\n",
        "d:\\android\\android-sdk\\docs\\training\\monetization ['ads-and-ux.html', 'index.html']\n",
        "d:\\android\\android-sdk\\docs\\training\\monitoring-device-state ['battery-monitoring.html', 'connectivity-monitoring.html', 'docking-monitoring.html', 'index.html', 'manifest-receivers.html']\n",
        "d:\\android\\android-sdk\\docs\\training\\multiple-apks ['api.html', 'index.html', 'multiple.html', 'screensize.html', 'texture.html']\n",
        "d:\\android\\android-sdk\\docs\\training\\multiple-threads ['communicate-ui.html', 'create-threadpool.html', 'define-runnable.html', 'index.html', 'run-code.html']\n",
        "d:\\android\\android-sdk\\docs\\training\\multiscreen ['adaptui.html', 'index.html', 'screendensities.html', 'screensizes.html']\n",
        "d:\\android\\android-sdk\\docs\\training\\notepad ['index.html', 'notepad-ex1.html', 'notepad-ex2.html', 'notepad-ex3.html', 'notepad-extra-credit.html', 'notepad-index.html']\n",
        "d:\\android\\android-sdk\\docs\\training\\notepad\\codelab ['NotepadCodeLab.zip']\n",
        "d:\\android\\android-sdk\\docs\\training\\notify-user"
       ]
      },
      {
       "output_type": "stream",
       "stream": "stdout",
       "text": [
        " ['build-notification.html', 'display-progress.html', 'expanded.html', 'index.html', 'managing.html', 'navigation.html']\n",
        "d:\\android\\android-sdk\\docs\\training\\printing ['custom-docs.html', 'html-docs.html', 'index.html', 'photos.html']\n",
        "d:\\android\\android-sdk\\docs\\training\\run-background-service ['create-service.html', 'index.html', 'report-status.html', 'send-request.html']\n",
        "d:\\android\\android-sdk\\docs\\training\\scheduling ['alarms.html', 'index.html', 'wakelock.html']\n",
        "d:\\android\\android-sdk\\docs\\training\\search ['backward-compat.html', 'index.html', 'search.html', 'setup.html']\n",
        "d:\\android\\android-sdk\\docs\\training\\secure-file-sharing"
       ]
      },
      {
       "output_type": "stream",
       "stream": "stdout",
       "text": [
        " ['index.html', 'request-file.html', 'retrieve-info.html', 'setup-sharing.html', 'share-file.html']\n",
        "d:\\android\\android-sdk\\docs\\training\\sharing ['index.html', 'receive.html', 'send.html', 'shareaction.html']\n",
        "d:\\android\\android-sdk\\docs\\training\\sync-adapters"
       ]
      },
      {
       "output_type": "stream",
       "stream": "stdout",
       "text": [
        " ['creating-authenticator.html', 'creating-stub-provider.html', 'creating-sync-adapter.html', 'index.html', 'running-sync-adapter.html']\n",
        "d:\\android\\android-sdk\\docs\\training\\system-ui ['dim.html', 'immersive.html', 'index.html', 'navigation.html', 'status.html', 'visibility.html']\n",
        "d:\\android\\android-sdk\\docs\\training\\tv ['index.html']\n",
        "d:\\android\\android-sdk\\docs\\training\\tv\\discovery"
       ]
      },
      {
       "output_type": "stream",
       "stream": "stdout",
       "text": [
        " ['in-app-search.html', 'index.html', 'recommendations.html']\n",
        "d:\\android\\android-sdk\\docs\\training\\tv\\games ['index.html']\n",
        "d:\\android\\android-sdk\\docs\\training\\tv\\playback ['browse.html', 'details.html', 'index.html']\n",
        "d:\\android\\android-sdk\\docs\\training\\tv\\start ['hardware.html', 'index.html', 'layouts.html', 'navigation.html', 'start.html']\n",
        "d:\\android\\android-sdk\\docs\\training\\volley ['index.html', 'request-custom.html', 'request.html', 'requestqueue.html', 'simple.html']\n",
        "d:\\android\\android-sdk\\docs\\training\\wearables []\n",
        "d:\\android\\android-sdk\\docs\\training\\wearables\\apps ['bt-debugging.html', 'creating.html', 'index.html', 'layouts.html', 'packaging.html', 'voice.html']\n",
        "d:\\android\\android-sdk\\docs\\training\\wearables\\data-layer"
       ]
      },
      {
       "output_type": "stream",
       "stream": "stdout",
       "text": [
        " ['accessing.html', 'assets.html', 'data-items.html', 'events.html', 'index.html', 'messages.html']\n",
        "d:\\android\\android-sdk\\docs\\training\\wearables\\notifications ['creating.html', 'index.html', 'pages.html', 'stacks.html', 'voice-input.html']\n",
        "d:\\android\\android-sdk\\docs\\training\\wearables\\ui ['2d-picker.html', 'cards.html', 'confirm.html', 'exit.html', 'index.html', 'layouts.html', 'lists.html']\n",
        "d:\\android\\android-sdk\\docs\\tv ['index.html']\n",
        "d:\\android\\android-sdk\\docs\\tv\\images ['atv-framed.png', 'components.png', 'hero.jpg', 'recommendations.png', 'search.png']\n",
        "d:\\android\\android-sdk\\docs\\wear"
       ]
      },
      {
       "output_type": "stream",
       "stream": "stdout",
       "text": [
        " ['index.html', 'wear_toc.html']\n",
        "d:\\android\\android-sdk\\docs\\wear\\design ['index.html', 'user-interface.html']\n",
        "d:\\android\\android-sdk\\docs\\wear\\images ['01_notifications.png', '01_uilib.png', '02_notifications.png', '02_uilib.png', '03_actions.png', '03_uilib.png', '04_images.png', '04_uilib.png', '05_images.png', '05_uilib.png', '06_images.png', '06_uilib.png', '07_appicons.png', '07_uilib.png', '08_pages.png', '08_uilib.png', '09_pages.png', '09_uilib.png', '10_pages.png', '11_bundles_A.png', '11_bundles_B.png', '12_voicereply.png', '13_voicereply.png', '14_circle_voicereply.png', 'android-wear.png', 'blogger.png', 'carrot.png', 'circle_badge_B.png', 'circle_email.png', 'circle_email_action.png', 'circle_message2_reply.png', 'circle_voice_A.png', 'circle_voice_B.png', 'close.png', 'hero.jpg', 'laptop-bridge.png', 'more_bottom.png', 'more_mid.png', 'more_top.png', 'notifications.png', 'notification_phone@2x.png', 'notif_summary_framed.png', 'steps.png', 'voice-23.png', 'voicecommands.png']\n",
        "d:\\android\\android-sdk\\docs\\wear\\images\\features ['apps.png', 'notifications.png', 'send-data.png', 'voice.png']\n",
        "d:\\android\\android-sdk\\docs\\wear\\images\\partners ['asus.png', 'broadcom.png', 'fossil.png', 'htc.png', 'intel.png', 'lg.png', 'mediatek.png', 'mips.png', 'motorola.png', 'qualcomm.png', 'samsung.png', 'sony.png']\n",
        "d:\\android\\android-sdk\\docs\\wear\\images\\screens ['05_images.png', '08_pages.png', '11_stack_B.png', '13_voicereply_02.png', '14_circle_voicereply.png', 'bezel.png', 'circle_message2.png', 'circle_voice_B.png', 'cuecard.gif', 'fitness-24.png', 'pages.ogv', 'pages_animated.gif', 'reservation_animated.gif', 'stream.gif', 'voice_02.png', 'yoga.gif']\n",
        "d:\\android\\android-sdk\\extras"
       ]
      },
      {
       "output_type": "stream",
       "stream": "stdout",
       "text": [
        " []\n",
        "d:\\android\\android-sdk\\extras\\android []\n",
        "d:\\android\\android-sdk\\extras\\android\\support"
       ]
      },
      {
       "output_type": "stream",
       "stream": "stdout",
       "text": [
        " ['NOTICE.txt', 'README.txt', 'source.properties']\n",
        "d:\\android\\android-sdk\\extras\\android\\support\\annotations ['android-support-annotations.jar']\n",
        "d:\\android\\android-sdk\\extras\\android\\support\\multidex []\n",
        "d:\\android\\android-sdk\\extras\\android\\support\\multidex\\instrumentation ['.classpath', '.project', 'AndroidManifest.xml', 'project.properties', 'README.txt']\n",
        "d:\\android\\android-sdk\\extras\\android\\support\\multidex\\instrumentation\\libs ['android-support-multidex-instrumentation.jar', 'android-support-multidex.jar']\n",
        "d:\\android\\android-sdk\\extras\\android\\support\\multidex\\instrumentation\\res ['.readme']\n",
        "d:\\android\\android-sdk\\extras\\android\\support\\multidex\\instrumentation\\src ['.readme']\n",
        "d:\\android\\android-sdk\\extras\\android\\support\\multidex\\library ['.classpath', '.project', 'AndroidManifest.xml', 'project.properties', 'README.txt']\n",
        "d:\\android\\android-sdk\\extras\\android\\support\\multidex\\library\\libs ['android-support-multidex.jar']\n",
        "d:\\android\\android-sdk\\extras\\android\\support\\multidex\\library\\res ['.readme']\n",
        "d:\\android\\android-sdk\\extras\\android\\support\\multidex\\library\\src ['.readme']\n",
        "d:\\android\\android-sdk\\extras\\android\\support\\samples []\n",
        "d:\\android\\android-sdk\\extras\\android\\support\\samples\\Support13Demos ['AndroidManifest.xml']\n",
        "d:\\android\\android-sdk\\extras\\android\\support\\samples\\Support13Demos\\res []\n",
        "d:\\android\\android-sdk\\extras\\android\\support\\samples\\Support13Demos\\res\\drawable-hdpi ['alert_dialog_icon.png', 'app_sample_code.png']\n",
        "d:\\android\\android-sdk\\extras\\android\\support\\samples\\Support13Demos\\res\\drawable-mdpi ['alert_dialog_icon.png', 'app_sample_code.png']\n",
        "d:\\android\\android-sdk\\extras\\android\\support\\samples\\Support13Demos\\res\\layout"
       ]
      },
      {
       "output_type": "stream",
       "stream": "stdout",
       "text": [
        " ['counting.xml', 'fragment_pager.xml', 'fragment_pager_list.xml', 'simple_list_item_checkable_1.xml']\n",
        "d:\\android\\android-sdk\\extras\\android\\support\\samples\\Support13Demos\\res\\values ['colors.xml', 'strings.xml']\n",
        "d:\\android\\android-sdk\\extras\\android\\support\\samples\\Support13Demos\\src []\n",
        "d:\\android\\android-sdk\\extras\\android\\support\\samples\\Support13Demos\\src\\com []\n",
        "d:\\android\\android-sdk\\extras\\android\\support\\samples\\Support13Demos\\src\\com\\example []\n",
        "d:\\android\\android-sdk\\extras\\android\\support\\samples\\Support13Demos\\src\\com\\example\\android []\n",
        "d:\\android\\android-sdk\\extras\\android\\support\\samples\\Support13Demos\\src\\com\\example\\android\\supportv13 ['Cheeses.java', 'Shakespeare.java', 'Support13Demos.java']\n",
        "d:\\android\\android-sdk\\extras\\android\\support\\samples\\Support13Demos\\src\\com\\example\\android\\supportv13\\app ['ActionBarTabsPager.java', 'CountingFragment.java', 'CursorFragment.java', 'FragmentNestingPagerSupport.java', 'FragmentNestingStatePagerSupport.java', 'FragmentPagerSupport.java', 'FragmentStatePagerSupport.java', 'FragmentTabsFragment.java']\n",
        "d:\\android\\android-sdk\\extras\\android\\support\\samples\\Support13Demos\\src\\com\\example\\android\\supportv13\\view ['CheckableFrameLayout.java']\n",
        "d:\\android\\android-sdk\\extras\\android\\support\\samples\\Support4Demos"
       ]
      },
      {
       "output_type": "stream",
       "stream": "stdout",
       "text": [
        " ['AndroidManifest.xml']\n",
        "d:\\android\\android-sdk\\extras\\android\\support\\samples\\Support4Demos\\res []\n",
        "d:\\android\\android-sdk\\extras\\android\\support\\samples\\Support4Demos\\res\\anim ['decelerate_quint.xml', 'fragment_slide_left_enter.xml', 'fragment_slide_left_exit.xml', 'fragment_slide_right_enter.xml', 'fragment_slide_right_exit.xml']\n",
        "d:\\android\\android-sdk\\extras\\android\\support\\samples\\Support4Demos\\res\\drawable ['ic_drawer.xml']\n",
        "d:\\android\\android-sdk\\extras\\android\\support\\samples\\Support4Demos\\res\\drawable-hdpi ['alert_dialog_icon.png', 'app_sample_code.png', 'drawer_shadow.9.png', 'ic_drawer_am.png', 'refresh.png']\n",
        "d:\\android\\android-sdk\\extras\\android\\support\\samples\\Support4Demos\\res\\drawable-mdpi"
       ]
      },
      {
       "output_type": "stream",
       "stream": "stdout",
       "text": [
        " ['alert_dialog_icon.png', 'app_sample_code.png', 'drawer_shadow.9.png', 'ic_drawer_am.png', 'refresh.png']\n",
        "d:\\android\\android-sdk\\extras\\android\\support\\samples\\Support4Demos\\res\\drawable-xhdpi ['drawer_shadow.9.png', 'ic_drawer_am.png', 'refresh.png']\n",
        "d:\\android\\android-sdk\\extras\\android\\support\\samples\\Support4Demos\\res\\layout ['accessibility_delegate.xml', 'accessibility_manager.xml', 'bidiformater_support.xml', 'content_loading_progressbar.xml', 'drawer_layout.xml', 'explore_by_touch_helper.xml', 'file_provider_example.xml', 'fragment_arguments_support.xml', 'fragment_context_menu.xml', 'fragment_dialog.xml', 'fragment_dialog_or_activity.xml', 'fragment_hide_show_support.xml', 'fragment_layout_support.xml', 'fragment_menu.xml', 'fragment_pager.xml', 'fragment_pager_list.xml', 'fragment_retain_instance.xml', 'fragment_stack.xml', 'fragment_tabs.xml', 'fragment_tabs_pager.xml', 'hello_world.xml', 'labeled_text_edit.xml', 'list_item_icon_text.xml', 'local_service_broadcaster.xml', 'media_controller.xml', 'receive_result.xml', 'send_result.xml', 'sharing_receiver_support.xml', 'sharing_support.xml', 'simple_list_item_checkable_1.xml', 'sliding_pane_layout.xml', 'swipe_refresh_widget_sample.xml', 'videoview.xml', 'wakeful_alarm_controller.xml']\n",
        "d:\\android\\android-sdk\\extras\\android\\support\\samples\\Support4Demos\\res\\layout-land ['fragment_arguments_support.xml', 'fragment_layout_support.xml']\n",
        "d:\\android\\android-sdk\\extras\\android\\support\\samples\\Support4Demos\\res\\menu ['shortcuts.xml', 'swipe_refresh_menu.xml']\n",
        "d:\\android\\android-sdk\\extras\\android\\support\\samples\\Support4Demos\\res\\raw ['videoviewdemo.mp4']\n",
        "d:\\android\\android-sdk\\extras\\android\\support\\samples\\Support4Demos\\res\\values ['attrs.xml', 'colors.xml', 'strings.xml', 'styles.xml']\n",
        "d:\\android\\android-sdk\\extras\\android\\support\\samples\\Support4Demos\\res\\values-v11 ['styles.xml']\n",
        "d:\\android\\android-sdk\\extras\\android\\support\\samples\\Support4Demos\\res\\xml ['my_paths.xml']\n",
        "d:\\android\\android-sdk\\extras\\android\\support\\samples\\Support4Demos\\src []\n",
        "d:\\android\\android-sdk\\extras\\android\\support\\samples\\Support4Demos\\src\\com []\n",
        "d:\\android\\android-sdk\\extras\\android\\support\\samples\\Support4Demos\\src\\com\\example []\n",
        "d:\\android\\android-sdk\\extras\\android\\support\\samples\\Support4Demos\\src\\com\\example\\android []\n",
        "d:\\android\\android-sdk\\extras\\android\\support\\samples\\Support4Demos\\src\\com\\example\\android\\supportv4 ['Cheeses.java', 'Shakespeare.java', 'Support4Demos.java']\n",
        "d:\\android\\android-sdk\\extras\\android\\support\\samples\\Support4Demos\\src\\com\\example\\android\\supportv4\\accessibility ['AccessibilityDelegateSupportActivity.java', 'AccessibilityManagerSupportActivity.java']\n",
        "d:\\android\\android-sdk\\extras\\android\\support\\samples\\Support4Demos\\src\\com\\example\\android\\supportv4\\app"
       ]
      },
      {
       "output_type": "stream",
       "stream": "stdout",
       "text": [
        " ['FragmentAlertDialogSupport.java', 'FragmentArgumentsSupport.java', 'FragmentContextMenuSupport.java', 'FragmentCustomAnimationSupport.java', 'FragmentDialogOrActivitySupport.java', 'FragmentDialogSupport.java', 'FragmentHideShowSupport.java', 'FragmentLayoutSupport.java', 'FragmentListArraySupport.java', 'FragmentMenuFragmentSupport.java', 'FragmentMenuSupport.java', 'FragmentNestingTabsSupport.java', 'FragmentPagerSupport.java', 'FragmentReceiveResultSupport.java', 'FragmentRetainInstanceSupport.java', 'FragmentStackFragmentSupport.java', 'FragmentStackSupport.java', 'FragmentStatePagerSupport.java', 'FragmentTabs.java', 'FragmentTabsFragmentSupport.java', 'FragmentTabsPager.java', 'LoaderCursorSupport.java', 'LoaderCustomSupport.java', 'LoaderRetainedSupport.java', 'LoaderThrottleSupport.java', 'SendResult.java', 'SharingReceiverSupport.java', 'SharingSupport.java']\n",
        "d:\\android\\android-sdk\\extras\\android\\support\\samples\\Support4Demos\\src\\com\\example\\android\\supportv4\\content ['FileProviderExample.java', 'LocalServiceBroadcaster.java', 'SharingSupportProvider.java', 'SimpleWakefulController.java', 'SimpleWakefulReceiver.java', 'SimpleWakefulService.java']\n",
        "d:\\android\\android-sdk\\extras\\android\\support\\samples\\Support4Demos\\src\\com\\example\\android\\supportv4\\media ['MediaController.java', 'TransportControllerActivity.java']\n",
        "d:\\android\\android-sdk\\extras\\android\\support\\samples\\Support4Demos\\src\\com\\example\\android\\supportv4\\text ['BidiFormatterSupport.java']\n",
        "d:\\android\\android-sdk\\extras\\android\\support\\samples\\Support4Demos\\src\\com\\example\\android\\supportv4\\view ['CheckableFrameLayout.java']\n",
        "d:\\android\\android-sdk\\extras\\android\\support\\samples\\Support4Demos\\src\\com\\example\\android\\supportv4\\widget ['ContentLoadingProgressBarActivity.java', 'DrawerLayoutActivity.java', 'ExploreByTouchHelperActivity.java', 'SlidingPaneLayoutActivity.java', 'SwipeRefreshLayoutActivity.java']\n",
        "d:\\android\\android-sdk\\extras\\android\\support\\samples\\Support7Demos ['AndroidManifest.xml']\n",
        "d:\\android\\android-sdk\\extras\\android\\support\\samples\\Support7Demos\\res"
       ]
      },
      {
       "output_type": "stream",
       "stream": "stdout",
       "text": [
        " []\n",
        "d:\\android\\android-sdk\\extras\\android\\support\\samples\\Support7Demos\\res\\drawable-hdpi ['apidemo_androidlogo.png', 'app_sample_code.png', 'ic_launcher_settings.png', 'ic_media_pause.png', 'ic_media_play.png', 'ic_media_stop.png', 'ic_menu_add.png', 'ic_menu_delete.png']\n",
        "d:\\android\\android-sdk\\extras\\android\\support\\samples\\Support7Demos\\res\\drawable-mdpi ['apidemo_androidlogo.png', 'app_sample_code.png', 'ic_launcher_settings.png', 'ic_media_pause.png', 'ic_media_play.png', 'ic_media_stop.png', 'ic_menu_add.png', 'ic_menu_delete.png']\n",
        "d:\\android\\android-sdk\\extras\\android\\support\\samples\\Support7Demos\\res\\layout ['action_bar_display_options.xml', 'action_bar_display_options_custom.xml', 'action_bar_drawer_layout.xml', 'action_bar_fragment_menu.xml', 'action_bar_settings_action_provider.xml', 'action_bar_tabs.xml', 'action_bar_tab_content.xml', 'activity_base_layout_manager.xml', 'activity_card_view.xml', 'animated_recycler_view.xml', 'grid_layout_1.xml', 'grid_layout_2.xml', 'media_item.xml', 'overlay_display_window.xml', 'palette_activity_detail.xml', 'palette_grid_item.xml', 'palette_list_item.xml', 'sample_media_controller.xml', 'sample_media_router.xml', 'sample_media_router_presentation.xml', 'selectable_item.xml']\n",
        "d:\\android\\android-sdk\\extras\\android\\support\\samples\\Support7Demos\\res\\layout-land ['grid_layout_2.xml']\n",
        "d:\\android\\android-sdk\\extras\\android\\support\\samples\\Support7Demos\\res\\menu ['actions.xml', 'action_bar_settings_action_provider.xml', 'display_options_actions.xml', 'sample_media_router_menu.xml', 'sample_palette_actions.xml']\n",
        "d:\\android\\android-sdk\\extras\\android\\support\\samples\\Support7Demos\\res\\values ['arrays.xml', 'colors.xml', 'dimens.xml', 'strings.xml']\n",
        "d:\\android\\android-sdk\\extras\\android\\support\\samples\\Support7Demos\\src []\n",
        "d:\\android\\android-sdk\\extras\\android\\support\\samples\\Support7Demos\\src\\com []\n",
        "d:\\android\\android-sdk\\extras\\android\\support\\samples\\Support7Demos\\src\\com\\example []\n",
        "d:\\android\\android-sdk\\extras\\android\\support\\samples\\Support7Demos\\src\\com\\example\\android []\n",
        "d:\\android\\android-sdk\\extras\\android\\support\\samples\\Support7Demos\\src\\com\\example\\android\\supportv7"
       ]
      },
      {
       "output_type": "stream",
       "stream": "stdout",
       "text": [
        " ['Cheeses.java', 'Shakespeare.java', 'Support7Demos.java']\n",
        "d:\\android\\android-sdk\\extras\\android\\support\\samples\\Support7Demos\\src\\com\\example\\android\\supportv7\\app ['ActionBarDisplayOptions.java', 'ActionBarFragmentMenu.java', 'ActionBarMechanics.java', 'ActionBarSettingsActionProviderActivity.java', 'ActionBarTabs.java', 'ActionBarUsage.java', 'ActionBarWithDrawerLayout.java']\n",
        "d:\\android\\android-sdk\\extras\\android\\support\\samples\\Support7Demos\\src\\com\\example\\android\\supportv7\\graphics ['ImageLoader.java', 'PaletteActivity.java', 'PaletteDetailActivity.java']\n",
        "d:\\android\\android-sdk\\extras\\android\\support\\samples\\Support7Demos\\src\\com\\example\\android\\supportv7\\media ['LocalPlayer.java', 'OverlayDisplayWindow.java', 'Player.java', 'PlaylistItem.java', 'RemotePlayer.java', 'SampleMediaButtonReceiver.java', 'SampleMediaRouteControllerDialog.java', 'SampleMediaRouteProvider.java', 'SampleMediaRouteProviderService.java', 'SampleMediaRouterActivity.java', 'SessionManager.java']\n",
        "d:\\android\\android-sdk\\extras\\android\\support\\samples\\Support7Demos\\src\\com\\example\\android\\supportv7\\view ['CardViewActivity.java', 'GridLayout1.java', 'GridLayout2.java', 'GridLayout3.java']\n",
        "d:\\android\\android-sdk\\extras\\android\\support\\samples\\Support7Demos\\src\\com\\example\\android\\supportv7\\widget"
       ]
      },
      {
       "output_type": "stream",
       "stream": "stdout",
       "text": [
        " ['AnimatedRecyclerView.java', 'BaseLayoutManagerActivity.java', 'GridLayoutManagerActivity.java', 'LinearLayoutManagerActivity.java', 'RecyclerViewActivity.java']\n",
        "d:\\android\\android-sdk\\extras\\android\\support\\samples\\Support7Demos\\src\\com\\example\\android\\supportv7\\widget\\adapter ['SimpleStringAdapter.java']\n",
        "d:\\android\\android-sdk\\extras\\android\\support\\samples\\Support7Demos\\src\\com\\example\\android\\supportv7\\widget\\decorator ['DividerItemDecoration.java']\n",
        "d:\\android\\android-sdk\\extras\\android\\support\\samples\\SupportAppNavigation ['AndroidManifest.xml']\n",
        "d:\\android\\android-sdk\\extras\\android\\support\\samples\\SupportAppNavigation\\res []\n",
        "d:\\android\\android-sdk\\extras\\android\\support\\samples\\SupportAppNavigation\\res\\layout ['content_category.xml', 'content_view.xml', 'interstitial_message.xml', 'notifications.xml', 'outside_task.xml', 'peer.xml', 'simple_up.xml', 'view_from_other_task.xml']\n",
        "d:\\android\\android-sdk\\extras\\android\\support\\samples\\SupportAppNavigation\\res\\values ['ids.xml', 'strings.xml', 'styles.xml', 'themes.xml']\n",
        "d:\\android\\android-sdk\\extras\\android\\support\\samples\\SupportAppNavigation\\res\\values-v11 ['styles.xml', 'themes.xml']\n",
        "d:\\android\\android-sdk\\extras\\android\\support\\samples\\SupportAppNavigation\\res\\values-v14 ['themes.xml']\n",
        "d:\\android\\android-sdk\\extras\\android\\support\\samples\\SupportAppNavigation\\src []\n",
        "d:\\android\\android-sdk\\extras\\android\\support\\samples\\SupportAppNavigation\\src\\com []\n",
        "d:\\android\\android-sdk\\extras\\android\\support\\samples\\SupportAppNavigation\\src\\com\\example []\n",
        "d:\\android\\android-sdk\\extras\\android\\support\\samples\\SupportAppNavigation\\src\\com\\example\\android []\n",
        "d:\\android\\android-sdk\\extras\\android\\support\\samples\\SupportAppNavigation\\src\\com\\example\\android\\support []\n",
        "d:\\android\\android-sdk\\extras\\android\\support\\samples\\SupportAppNavigation\\src\\com\\example\\android\\support\\appnavigation []\n",
        "d:\\android\\android-sdk\\extras\\android\\support\\samples\\SupportAppNavigation\\src\\com\\example\\android\\support\\appnavigation\\app"
       ]
      },
      {
       "output_type": "stream",
       "stream": "stdout",
       "text": [
        " ['ActionBarCompat.java', 'AppNavHomeActivity.java', 'ContentCategoryActivity.java', 'ContentViewActivity.java', 'InterstitialMessageActivity.java', 'NotificationsActivity.java', 'OutsideTaskActivity.java', 'PeerActivity.java', 'SimpleUpActivity.java', 'ViewFromOtherTaskActivity.java']\n",
        "d:\\android\\android-sdk\\extras\\android\\support\\v13 ['android-support-v13.jar']\n",
        "d:\\android\\android-sdk\\extras\\android\\support\\v13\\src ['AndroidManifest.xml', 'build.gradle']\n",
        "d:\\android\\android-sdk\\extras\\android\\support\\v13\\src\\ics []\n",
        "d:\\android\\android-sdk\\extras\\android\\support\\v13\\src\\ics\\android []\n",
        "d:\\android\\android-sdk\\extras\\android\\support\\v13\\src\\ics\\android\\support []\n",
        "d:\\android\\android-sdk\\extras\\android\\support\\v13\\src\\ics\\android\\support\\v13 []\n",
        "d:\\android\\android-sdk\\extras\\android\\support\\v13\\src\\ics\\android\\support\\v13\\app ['FragmentCompatICS.java']\n",
        "d:\\android\\android-sdk\\extras\\android\\support\\v13\\src\\ics-mr1 []\n",
        "d:\\android\\android-sdk\\extras\\android\\support\\v13\\src\\ics-mr1\\android []\n",
        "d:\\android\\android-sdk\\extras\\android\\support\\v13\\src\\ics-mr1\\android\\support []\n",
        "d:\\android\\android-sdk\\extras\\android\\support\\v13\\src\\ics-mr1\\android\\support\\v13 []\n",
        "d:\\android\\android-sdk\\extras\\android\\support\\v13\\src\\ics-mr1\\android\\support\\v13\\app ['FragmentCompatICSMR1.java']\n",
        "d:\\android\\android-sdk\\extras\\android\\support\\v13\\src\\java []\n",
        "d:\\android\\android-sdk\\extras\\android\\support\\v13\\src\\java\\android []\n",
        "d:\\android\\android-sdk\\extras\\android\\support\\v13\\src\\java\\android\\support []\n",
        "d:\\android\\android-sdk\\extras\\android\\support\\v13\\src\\java\\android\\support\\v13 []\n",
        "d:\\android\\android-sdk\\extras\\android\\support\\v13\\src\\java\\android\\support\\v13\\app ['FragmentCompat.java', 'FragmentPagerAdapter.java', 'FragmentStatePagerAdapter.java', 'FragmentTabHost.java', 'package.html']\n",
        "d:\\android\\android-sdk\\extras\\android\\support\\v17 []\n",
        "d:\\android\\android-sdk\\extras\\android\\support\\v17\\leanback ['.classpath', '.project', 'AndroidManifest.xml', 'project.properties', 'README.txt']\n",
        "d:\\android\\android-sdk\\extras\\android\\support\\v17\\leanback\\libs ['android-support-v17-leanback.jar']\n",
        "d:\\android\\android-sdk\\extras\\android\\support\\v17\\leanback\\res"
       ]
      },
      {
       "output_type": "stream",
       "stream": "stdout",
       "text": [
        " []\n",
        "d:\\android\\android-sdk\\extras\\android\\support\\v17\\leanback\\res\\animator ['lb_playback_bg_fade_in.xml', 'lb_playback_bg_fade_out.xml', 'lb_playback_controls_fade_in.xml', 'lb_playback_controls_fade_out.xml', 'lb_playback_description_fade_in.xml', 'lb_playback_description_fade_out.xml', 'lb_playback_rows_fade_in.xml', 'lb_playback_rows_fade_out.xml']\n",
        "d:\\android\\android-sdk\\extras\\android\\support\\v17\\leanback\\res\\animator-v21 ['lb_playback_bg_fade_in.xml', 'lb_playback_bg_fade_out.xml', 'lb_playback_description_fade_out.xml']\n",
        "d:\\android\\android-sdk\\extras\\android\\support\\v17\\leanback\\res\\drawable ['lb_background.xml', 'lb_card_foreground.xml', 'lb_control_button_primary.xml', 'lb_control_button_secondary.xml', 'lb_headers_right_fading.xml', 'lb_playback_progress_bar.xml', 'lb_rounded_rect_bg.xml', 'lb_search_orb.xml', 'lb_speech_orb.xml']\n",
        "d:\\android\\android-sdk\\extras\\android\\support\\v17\\leanback\\res\\drawable-hdpi ['lb_action_bg_focused.9.png', 'lb_card_shadow_focused.9.png', 'lb_card_shadow_normal.9.png', 'lb_ic_actions_right_arrow.png', 'lb_ic_in_app_search.png', 'lb_ic_sad_cloud.png', 'lb_ic_search_mic.png', 'lb_ic_search_mic_out.png', 'lb_in_app_search_bg.9.png', 'lb_in_app_search_shadow_focused.9.png', 'lb_in_app_search_shadow_normal.9.png']\n",
        "d:\\android\\android-sdk\\extras\\android\\support\\v17\\leanback\\res\\drawable-mdpi ['lb_action_bg_focused.9.png', 'lb_card_shadow_focused.9.png', 'lb_card_shadow_normal.9.png', 'lb_ic_actions_right_arrow.png', 'lb_ic_in_app_search.png', 'lb_ic_sad_cloud.png', 'lb_ic_search_mic.png', 'lb_ic_search_mic_out.png', 'lb_in_app_search_bg.9.png', 'lb_in_app_search_shadow_focused.9.png', 'lb_in_app_search_shadow_normal.9.png']\n",
        "d:\\android\\android-sdk\\extras\\android\\support\\v17\\leanback\\res\\drawable-v21 ['lb_action_bg.xml', 'lb_card_foreground.xml', 'lb_control_button_primary.xml', 'lb_control_button_secondary.xml']\n",
        "d:\\android\\android-sdk\\extras\\android\\support\\v17\\leanback\\res\\drawable-xhdpi"
       ]
      },
      {
       "output_type": "stream",
       "stream": "stdout",
       "text": [
        " ['lb_action_bg_focused.9.png', 'lb_card_shadow_focused.9.png', 'lb_card_shadow_normal.9.png', 'lb_ic_actions_right_arrow.png', 'lb_ic_card_info_text_fade.png', 'lb_ic_cc.png', 'lb_ic_fast_forward.png', 'lb_ic_fast_rewind.png', 'lb_ic_hq.png', 'lb_ic_in_app_search.png', 'lb_ic_loop.png', 'lb_ic_loop_one.png', 'lb_ic_more.png', 'lb_ic_pause.png', 'lb_ic_play.png', 'lb_ic_playback_loop.png', 'lb_ic_replay.png', 'lb_ic_sad_cloud.png', 'lb_ic_search_mic.png', 'lb_ic_search_mic_out.png', 'lb_ic_shuffle.png', 'lb_ic_skip_next.png', 'lb_ic_skip_previous.png', 'lb_ic_stop.png', 'lb_ic_thumb_down.png', 'lb_ic_thumb_down_outline.png', 'lb_ic_thumb_up.png', 'lb_ic_thumb_up_outline.png', 'lb_in_app_search_bg.9.png', 'lb_in_app_search_shadow_focused.9.png', 'lb_in_app_search_shadow_normal.9.png', 'lb_text_dot_one.png', 'lb_text_dot_one_small.png', 'lb_text_dot_two.png', 'lb_text_dot_two_small.png']\n",
        "d:\\android\\android-sdk\\extras\\android\\support\\v17\\leanback\\res\\drawable-xxhdpi ['lb_action_bg_focused.9.png', 'lb_card_shadow_focused.9.png', 'lb_card_shadow_normal.9.png', 'lb_ic_actions_right_arrow.png', 'lb_ic_in_app_search.png', 'lb_ic_sad_cloud.png', 'lb_ic_search_mic.png', 'lb_ic_search_mic_out.png', 'lb_in_app_search_bg.9.png', 'lb_in_app_search_shadow_focused.9.png', 'lb_in_app_search_shadow_normal.9.png']\n",
        "d:\\android\\android-sdk\\extras\\android\\support\\v17\\leanback\\res\\layout ['lb_action_1_line.xml', 'lb_action_2_lines.xml', 'lb_background_window.xml', 'lb_browse_fragment.xml', 'lb_browse_title.xml', 'lb_card_color_overlay.xml', 'lb_control_bar.xml', 'lb_control_button_primary.xml', 'lb_control_button_secondary.xml', 'lb_details_description.xml', 'lb_details_fragment.xml', 'lb_details_overview.xml', 'lb_error_fragment.xml', 'lb_header.xml', 'lb_headers_fragment.xml', 'lb_image_card_view.xml', 'lb_list_row.xml', 'lb_list_row_hovercard.xml', 'lb_playback_controls.xml', 'lb_playback_controls_row.xml', 'lb_rows_fragment.xml', 'lb_row_container.xml', 'lb_row_header.xml', 'lb_search_bar.xml', 'lb_search_fragment.xml', 'lb_search_orb.xml', 'lb_shadow.xml', 'lb_speech_orb.xml', 'lb_title_view.xml', 'lb_vertical_grid.xml', 'lb_vertical_grid_fragment.xml']\n",
        "d:\\android\\android-sdk\\extras\\android\\support\\v17\\leanback\\res\\raw ['lb_voice_failure.ogg', 'lb_voice_no_input.ogg', 'lb_voice_open.ogg', 'lb_voice_success.ogg']\n",
        "d:\\android\\android-sdk\\extras\\android\\support\\v17\\leanback\\res\\transition-v21 ['lb_enter_transition.xml', 'lb_return_transition.xml', 'lb_shared_element_enter_transition.xml', 'lb_shared_element_return_transition.xml']\n",
        "d:\\android\\android-sdk\\extras\\android\\support\\v17\\leanback\\res\\values ['attrs.xml', 'colors.xml', 'dimens.xml', 'ids.xml', 'integers.xml', 'strings.xml', 'styles.xml', 'themes.xml']\n",
        "d:\\android\\android-sdk\\extras\\android\\support\\v17\\leanback\\res\\values-af ['strings.xml']\n",
        "d:\\android\\android-sdk\\extras\\android\\support\\v17\\leanback\\res\\values-am ['strings.xml']\n",
        "d:\\android\\android-sdk\\extras\\android\\support\\v17\\leanback\\res\\values-ar ['strings.xml']\n",
        "d:\\android\\android-sdk\\extras\\android\\support\\v17\\leanback\\res\\values-bg ['strings.xml']\n",
        "d:\\android\\android-sdk\\extras\\android\\support\\v17\\leanback\\res\\values-bn-rBD ['strings.xml']\n",
        "d:\\android\\android-sdk\\extras\\android\\support\\v17\\leanback\\res\\values-ca ['strings.xml']\n",
        "d:\\android\\android-sdk\\extras\\android\\support\\v17\\leanback\\res\\values-cs ['strings.xml']\n",
        "d:\\android\\android-sdk\\extras\\android\\support\\v17\\leanback\\res\\values-da ['strings.xml']\n",
        "d:\\android\\android-sdk\\extras\\android\\support\\v17\\leanback\\res\\values-de ['strings.xml']\n",
        "d:\\android\\android-sdk\\extras\\android\\support\\v17\\leanback\\res\\values-el ['strings.xml']\n",
        "d:\\android\\android-sdk\\extras\\android\\support\\v17\\leanback\\res\\values-en-rGB ['strings.xml']\n",
        "d:\\android\\android-sdk\\extras\\android\\support\\v17\\leanback\\res\\values-en-rIN ['strings.xml']\n",
        "d:\\android\\android-sdk\\extras\\android\\support\\v17\\leanback\\res\\values-es ['strings.xml']\n",
        "d:\\android\\android-sdk\\extras\\android\\support\\v17\\leanback\\res\\values-es-rUS ['strings.xml']\n",
        "d:\\android\\android-sdk\\extras\\android\\support\\v17\\leanback\\res\\values-et-rEE ['strings.xml']\n",
        "d:\\android\\android-sdk\\extras\\android\\support\\v17\\leanback\\res\\values-eu-rES ['strings.xml']\n",
        "d:\\android\\android-sdk\\extras\\android\\support\\v17\\leanback\\res\\values-fa ['strings.xml']\n",
        "d:\\android\\android-sdk\\extras\\android\\support\\v17\\leanback\\res\\values-fi ['strings.xml']\n",
        "d:\\android\\android-sdk\\extras\\android\\support\\v17\\leanback\\res\\values-fr ['strings.xml']\n",
        "d:\\android\\android-sdk\\extras\\android\\support\\v17\\leanback\\res\\values-fr-rCA ['strings.xml']\n",
        "d:\\android\\android-sdk\\extras\\android\\support\\v17\\leanback\\res\\values-gl-rES ['strings.xml']\n",
        "d:\\android\\android-sdk\\extras\\android\\support\\v17\\leanback\\res\\values-hi ['strings.xml']\n",
        "d:\\android\\android-sdk\\extras\\android\\support\\v17\\leanback\\res\\values-hr ['strings.xml']\n",
        "d:\\android\\android-sdk\\extras\\android\\support\\v17\\leanback\\res\\values-hu ['strings.xml']\n",
        "d:\\android\\android-sdk\\extras\\android\\support\\v17\\leanback\\res\\values-hy-rAM ['strings.xml']\n",
        "d:\\android\\android-sdk\\extras\\android\\support\\v17\\leanback\\res\\values-in ['strings.xml']\n",
        "d:\\android\\android-sdk\\extras\\android\\support\\v17\\leanback\\res\\values-is-rIS ['strings.xml']\n",
        "d:\\android\\android-sdk\\extras\\android\\support\\v17\\leanback\\res\\values-it ['strings.xml']\n",
        "d:\\android\\android-sdk\\extras\\android\\support\\v17\\leanback\\res\\values-iw ['strings.xml']\n",
        "d:\\android\\android-sdk\\extras\\android\\support\\v17\\leanback\\res\\values-ja ['strings.xml']\n",
        "d:\\android\\android-sdk\\extras\\android\\support\\v17\\leanback\\res\\values-ka-rGE ['strings.xml']\n",
        "d:\\android\\android-sdk\\extras\\android\\support\\v17\\leanback\\res\\values-kk-rKZ ['strings.xml']\n",
        "d:\\android\\android-sdk\\extras\\android\\support\\v17\\leanback\\res\\values-km-rKH ['strings.xml']\n",
        "d:\\android\\android-sdk\\extras\\android\\support\\v17\\leanback\\res\\values-kn-rIN ['strings.xml']\n",
        "d:\\android\\android-sdk\\extras\\android\\support\\v17\\leanback\\res\\values-ko ['strings.xml']\n",
        "d:\\android\\android-sdk\\extras\\android\\support\\v17\\leanback\\res\\values-ky-rKG ['strings.xml']\n",
        "d:\\android\\android-sdk\\extras\\android\\support\\v17\\leanback\\res\\values-lo-rLA ['strings.xml']\n",
        "d:\\android\\android-sdk\\extras\\android\\support\\v17\\leanback\\res\\values-lt ['strings.xml']\n",
        "d:\\android\\android-sdk\\extras\\android\\support\\v17\\leanback\\res\\values-lv ['strings.xml']\n",
        "d:\\android\\android-sdk\\extras\\android\\support\\v17\\leanback\\res\\values-mk-rMK ['strings.xml']\n",
        "d:\\android\\android-sdk\\extras\\android\\support\\v17\\leanback\\res\\values-ml-rIN ['strings.xml']\n",
        "d:\\android\\android-sdk\\extras\\android\\support\\v17\\leanback\\res\\values-mn-rMN ['strings.xml']\n",
        "d:\\android\\android-sdk\\extras\\android\\support\\v17\\leanback\\res\\values-mr-rIN ['strings.xml']\n",
        "d:\\android\\android-sdk\\extras\\android\\support\\v17\\leanback\\res\\values-ms-rMY ['strings.xml']\n",
        "d:\\android\\android-sdk\\extras\\android\\support\\v17\\leanback\\res\\values-my-rMM ['strings.xml']\n",
        "d:\\android\\android-sdk\\extras\\android\\support\\v17\\leanback\\res\\values-nb ['strings.xml']\n",
        "d:\\android\\android-sdk\\extras\\android\\support\\v17\\leanback\\res\\values-ne-rNP ['strings.xml']\n",
        "d:\\android\\android-sdk\\extras\\android\\support\\v17\\leanback\\res\\values-nl ['strings.xml']\n",
        "d:\\android\\android-sdk\\extras\\android\\support\\v17\\leanback\\res\\values-pl ['strings.xml']\n",
        "d:\\android\\android-sdk\\extras\\android\\support\\v17\\leanback\\res\\values-pt ['strings.xml']\n",
        "d:\\android\\android-sdk\\extras\\android\\support\\v17\\leanback\\res\\values-pt-rPT ['strings.xml']\n",
        "d:\\android\\android-sdk\\extras\\android\\support\\v17\\leanback\\res\\values-ro ['strings.xml']\n",
        "d:\\android\\android-sdk\\extras\\android\\support\\v17\\leanback\\res\\values-ru ['strings.xml']\n",
        "d:\\android\\android-sdk\\extras\\android\\support\\v17\\leanback\\res\\values-si-rLK ['strings.xml']\n",
        "d:\\android\\android-sdk\\extras\\android\\support\\v17\\leanback\\res\\values-sk ['strings.xml']\n",
        "d:\\android\\android-sdk\\extras\\android\\support\\v17\\leanback\\res\\values-sl ['strings.xml']\n",
        "d:\\android\\android-sdk\\extras\\android\\support\\v17\\leanback\\res\\values-sr ['strings.xml']\n",
        "d:\\android\\android-sdk\\extras\\android\\support\\v17\\leanback\\res\\values-sv ['strings.xml']\n",
        "d:\\android\\android-sdk\\extras\\android\\support\\v17\\leanback\\res\\values-sw ['strings.xml']\n",
        "d:\\android\\android-sdk\\extras\\android\\support\\v17\\leanback\\res\\values-ta-rIN ['strings.xml']\n",
        "d:\\android\\android-sdk\\extras\\android\\support\\v17\\leanback\\res\\values-te-rIN ['strings.xml']\n",
        "d:\\android\\android-sdk\\extras\\android\\support\\v17\\leanback\\res\\values-th ['strings.xml']\n",
        "d:\\android\\android-sdk\\extras\\android\\support\\v17\\leanback\\res\\values-tl ['strings.xml']\n",
        "d:\\android\\android-sdk\\extras\\android\\support\\v17\\leanback\\res\\values-tr ['strings.xml']\n",
        "d:\\android\\android-sdk\\extras\\android\\support\\v17\\leanback\\res\\values-uk ['strings.xml']\n",
        "d:\\android\\android-sdk\\extras\\android\\support\\v17\\leanback\\res\\values-ur-rPK ['strings.xml']\n",
        "d:\\android\\android-sdk\\extras\\android\\support\\v17\\leanback\\res\\values-uz-rUZ ['strings.xml']\n",
        "d:\\android\\android-sdk\\extras\\android\\support\\v17\\leanback\\res\\values-v19 ['themes.xml']\n",
        "d:\\android\\android-sdk\\extras\\android\\support\\v17\\leanback\\res\\values-v21 ['styles.xml', 'themes.xml']\n",
        "d:\\android\\android-sdk\\extras\\android\\support\\v17\\leanback\\res\\values-vi ['strings.xml']\n",
        "d:\\android\\android-sdk\\extras\\android\\support\\v17\\leanback\\res\\values-zh-rCN ['strings.xml']\n",
        "d:\\android\\android-sdk\\extras\\android\\support\\v17\\leanback\\res\\values-zh-rHK ['strings.xml']\n",
        "d:\\android\\android-sdk\\extras\\android\\support\\v17\\leanback\\res\\values-zh-rTW ['strings.xml']\n",
        "d:\\android\\android-sdk\\extras\\android\\support\\v17\\leanback\\res\\values-zu ['strings.xml']\n",
        "d:\\android\\android-sdk\\extras\\android\\support\\v17\\leanback\\src ['.readme']\n",
        "d:\\android\\android-sdk\\extras\\android\\support\\v4 ['android-support-v4.jar']\n",
        "d:\\android\\android-sdk\\extras\\android\\support\\v4\\src"
       ]
      },
      {
       "output_type": "stream",
       "stream": "stdout",
       "text": [
        " ['AndroidManifest.xml', 'build.gradle']\n",
        "d:\\android\\android-sdk\\extras\\android\\support\\v4\\src\\api20 []\n",
        "d:\\android\\android-sdk\\extras\\android\\support\\v4\\src\\api20\\android []\n",
        "d:\\android\\android-sdk\\extras\\android\\support\\v4\\src\\api20\\android\\support []\n",
        "d:\\android\\android-sdk\\extras\\android\\support\\v4\\src\\api20\\android\\support\\v4 []\n",
        "d:\\android\\android-sdk\\extras\\android\\support\\v4\\src\\api20\\android\\support\\v4\\app ['NotificationCompatApi20.java', 'RemoteInputCompatApi20.java']\n",
        "d:\\android\\android-sdk\\extras\\android\\support\\v4\\src\\api21 []\n",
        "d:\\android\\android-sdk\\extras\\android\\support\\v4\\src\\api21\\android []\n",
        "d:\\android\\android-sdk\\extras\\android\\support\\v4\\src\\api21\\android\\support []\n",
        "d:\\android\\android-sdk\\extras\\android\\support\\v4\\src\\api21\\android\\support\\v4 []\n",
        "d:\\android\\android-sdk\\extras\\android\\support\\v4\\src\\api21\\android\\support\\v4\\app ['ActivityCompat21.java', 'ActivityOptionsCompat21.java', 'FragmentTransitionCompat21.java', 'NotificationCompatApi21.java']\n",
        "d:\\android\\android-sdk\\extras\\android\\support\\v4\\src\\api21\\android\\support\\v4\\content ['ContextCompatApi21.java']\n",
        "d:\\android\\android-sdk\\extras\\android\\support\\v4\\src\\api21\\android\\support\\v4\\content\\res ['ResourcesCompatApi21.java']\n",
        "d:\\android\\android-sdk\\extras\\android\\support\\v4\\src\\api21\\android\\support\\v4\\graphics []\n",
        "d:\\android\\android-sdk\\extras\\android\\support\\v4\\src\\api21\\android\\support\\v4\\graphics\\drawable ['DrawableCompatL.java', 'RoundedBitmapDrawable21.java']\n",
        "d:\\android\\android-sdk\\extras\\android\\support\\v4\\src\\api21\\android\\support\\v4\\media ['MediaMetadataCompatApi21.java', 'RatingCompatApi21.java', 'VolumeProviderCompatApi21.java']\n",
        "d:\\android\\android-sdk\\extras\\android\\support\\v4\\src\\api21\\android\\support\\v4\\media\\session"
       ]
      },
      {
       "output_type": "stream",
       "stream": "stdout",
       "text": [
        " ['MediaControllerCompatApi21.java', 'MediaSessionCompatApi21.java', 'PlaybackStateCompatApi21.java']\n",
        "d:\\android\\android-sdk\\extras\\android\\support\\v4\\src\\api21\\android\\support\\v4\\provider ['DocumentsContractApi21.java']\n",
        "d:\\android\\android-sdk\\extras\\android\\support\\v4\\src\\api21\\android\\support\\v4\\view ['ViewCompatApi21.java', 'ViewGroupCompatApi21.java', 'WindowInsetsCompatApi21.java']\n",
        "d:\\android\\android-sdk\\extras\\android\\support\\v4\\src\\api21\\android\\support\\v4\\view\\accessibility ['AccessibilityNodeInfoCompatApi21.java']\n",
        "d:\\android\\android-sdk\\extras\\android\\support\\v4\\src\\api21\\android\\support\\v4\\widget ['DrawerLayoutCompatApi21.java', 'DrawerLayoutImpl.java']\n",
        "d:\\android\\android-sdk\\extras\\android\\support\\v4\\src\\donut []\n",
        "d:\\android\\android-sdk\\extras\\android\\support\\v4\\src\\donut\\android []\n",
        "d:\\android\\android-sdk\\extras\\android\\support\\v4\\src\\donut\\android\\support []\n",
        "d:\\android\\android-sdk\\extras\\android\\support\\v4\\src\\donut\\android\\support\\v4 []\n",
        "d:\\android\\android-sdk\\extras\\android\\support\\v4\\src\\donut\\android\\support\\v4\\app ['NotificationCompatBase.java', 'RemoteInputCompatBase.java']\n",
        "d:\\android\\android-sdk\\extras\\android\\support\\v4\\src\\donut\\android\\support\\v4\\graphics []\n",
        "d:\\android\\android-sdk\\extras\\android\\support\\v4\\src\\donut\\android\\support\\v4\\graphics\\drawable ['RoundedBitmapDrawable.java']\n",
        "d:\\android\\android-sdk\\extras\\android\\support\\v4\\src\\donut\\android\\support\\v4\\view ['OnApplyWindowInsetsListener.java', 'WindowInsetsCompat.java']\n",
        "d:\\android\\android-sdk\\extras\\android\\support\\v4\\src\\eclair []\n",
        "d:\\android\\android-sdk\\extras\\android\\support\\v4\\src\\eclair\\android []\n",
        "d:\\android\\android-sdk\\extras\\android\\support\\v4\\src\\eclair\\android\\support []\n",
        "d:\\android\\android-sdk\\extras\\android\\support\\v4\\src\\eclair\\android\\support\\v4 []\n",
        "d:\\android\\android-sdk\\extras\\android\\support\\v4\\src\\eclair\\android\\support\\v4\\app ['NotificationManagerCompatEclair.java']\n",
        "d:\\android\\android-sdk\\extras\\android\\support\\v4\\src\\eclair\\android\\support\\v4\\view ['KeyEventCompatEclair.java', 'MotionEventCompatEclair.java']\n",
        "d:\\android\\android-sdk\\extras\\android\\support\\v4\\src\\eclair-mr1 []\n",
        "d:\\android\\android-sdk\\extras\\android\\support\\v4\\src\\eclair-mr1\\android []\n",
        "d:\\android\\android-sdk\\extras\\android\\support\\v4\\src\\eclair-mr1\\android\\support []\n",
        "d:\\android\\android-sdk\\extras\\android\\support\\v4\\src\\eclair-mr1\\android\\support\\v4 []\n",
        "d:\\android\\android-sdk\\extras\\android\\support\\v4\\src\\eclair-mr1\\android\\support\\v4\\view ['ViewCompatEclairMr1.java']\n",
        "d:\\android\\android-sdk\\extras\\android\\support\\v4\\src\\froyo []\n",
        "d:\\android\\android-sdk\\extras\\android\\support\\v4\\src\\froyo\\android []\n",
        "d:\\android\\android-sdk\\extras\\android\\support\\v4\\src\\froyo\\android\\support []\n",
        "d:\\android\\android-sdk\\extras\\android\\support\\v4\\src\\froyo\\android\\support\\v4 []\n",
        "d:\\android\\android-sdk\\extras\\android\\support\\v4\\src\\froyo\\android\\support\\v4\\content ['ContextCompatFroyo.java']\n",
        "d:\\android\\android-sdk\\extras\\android\\support\\v4\\src\\froyo\\android\\support\\v4\\view ['ViewConfigurationCompatFroyo.java']\n",
        "d:\\android\\android-sdk\\extras\\android\\support\\v4\\src\\gingerbread []\n",
        "d:\\android\\android-sdk\\extras\\android\\support\\v4\\src\\gingerbread\\android []\n",
        "d:\\android\\android-sdk\\extras\\android\\support\\v4\\src\\gingerbread\\android\\support []\n",
        "d:\\android\\android-sdk\\extras\\android\\support\\v4\\src\\gingerbread\\android\\support\\v4 []\n",
        "d:\\android\\android-sdk\\extras\\android\\support\\v4\\src\\gingerbread\\android\\support\\v4\\app ['NotificationCompatGingerbread.java']\n",
        "d:\\android\\android-sdk\\extras\\android\\support\\v4\\src\\gingerbread\\android\\support\\v4\\net ['ConnectivityManagerCompatGingerbread.java']\n",
        "d:\\android\\android-sdk\\extras\\android\\support\\v4\\src\\gingerbread\\android\\support\\v4\\view ['ViewCompatGingerbread.java']\n",
        "d:\\android\\android-sdk\\extras\\android\\support\\v4\\src\\gingerbread\\android\\support\\v4\\widget ['ScrollerCompatGingerbread.java']\n",
        "d:\\android\\android-sdk\\extras\\android\\support\\v4\\src\\honeycomb []\n",
        "d:\\android\\android-sdk\\extras\\android\\support\\v4\\src\\honeycomb\\android []\n",
        "d:\\android\\android-sdk\\extras\\android\\support\\v4\\src\\honeycomb\\android\\support []\n",
        "d:\\android\\android-sdk\\extras\\android\\support\\v4\\src\\honeycomb\\android\\support\\v4 []\n",
        "d:\\android\\android-sdk\\extras\\android\\support\\v4\\src\\honeycomb\\android\\support\\v4\\app ['ActionBarDrawerToggleHoneycomb.java', 'ActivityCompatHoneycomb.java', 'NotificationBuilderWithBuilderAccessor.java', 'NotificationCompatHoneycomb.java', 'TaskStackBuilderHoneycomb.java']\n",
        "d:\\android\\android-sdk\\extras\\android\\support\\v4\\src\\honeycomb\\android\\support\\v4\\content ['ContextCompatHoneycomb.java', 'IntentCompatHoneycomb.java']\n",
        "d:\\android\\android-sdk\\extras\\android\\support\\v4\\src\\honeycomb\\android\\support\\v4\\graphics []\n",
        "d:\\android\\android-sdk\\extras\\android\\support\\v4\\src\\honeycomb\\android\\support\\v4\\graphics\\drawable ['DrawableCompatHoneycomb.java']\n",
        "d:\\android\\android-sdk\\extras\\android\\support\\v4\\src\\honeycomb\\android\\support\\v4\\os ['AsyncTaskCompatHoneycomb.java']\n",
        "d:\\android\\android-sdk\\extras\\android\\support\\v4\\src\\honeycomb\\android\\support\\v4\\view ['KeyEventCompatHoneycomb.java', 'MenuItemCompatHoneycomb.java', 'VelocityTrackerCompatHoneycomb.java', 'ViewCompatHC.java', 'ViewGroupCompatHC.java']\n",
        "d:\\android\\android-sdk\\extras\\android\\support\\v4\\src\\honeycomb\\android\\support\\v4\\widget ['SearchViewCompatHoneycomb.java']\n",
        "d:\\android\\android-sdk\\extras\\android\\support\\v4\\src\\honeycomb_mr1 []\n",
        "d:\\android\\android-sdk\\extras\\android\\support\\v4\\src\\honeycomb_mr1\\android"
       ]
      },
      {
       "output_type": "stream",
       "stream": "stdout",
       "text": [
        " []\n",
        "d:\\android\\android-sdk\\extras\\android\\support\\v4\\src\\honeycomb_mr1\\android\\support []\n",
        "d:\\android\\android-sdk\\extras\\android\\support\\v4\\src\\honeycomb_mr1\\android\\support\\v4 []\n",
        "d:\\android\\android-sdk\\extras\\android\\support\\v4\\src\\honeycomb_mr1\\android\\support\\v4\\graphics ['BitmapCompatHoneycombMr1.java']\n",
        "d:\\android\\android-sdk\\extras\\android\\support\\v4\\src\\honeycomb_mr2 []\n",
        "d:\\android\\android-sdk\\extras\\android\\support\\v4\\src\\honeycomb_mr2\\android []\n",
        "d:\\android\\android-sdk\\extras\\android\\support\\v4\\src\\honeycomb_mr2\\android\\support []\n",
        "d:\\android\\android-sdk\\extras\\android\\support\\v4\\src\\honeycomb_mr2\\android\\support\\v4 []\n",
        "d:\\android\\android-sdk\\extras\\android\\support\\v4\\src\\honeycomb_mr2\\android\\support\\v4\\net ['ConnectivityManagerCompatHoneycombMR2.java']\n",
        "d:\\android\\android-sdk\\extras\\android\\support\\v4\\src\\honeycomb_mr2\\android\\support\\v4\\os ['ParcelableCompatCreatorCallbacks.java', 'ParcelableCompatHoneycombMR2.java']\n",
        "d:\\android\\android-sdk\\extras\\android\\support\\v4\\src\\ics []\n",
        "d:\\android\\android-sdk\\extras\\android\\support\\v4\\src\\ics\\android []\n",
        "d:\\android\\android-sdk\\extras\\android\\support\\v4\\src\\ics\\android\\support []\n",
        "d:\\android\\android-sdk\\extras\\android\\support\\v4\\src\\ics\\android\\support\\v4 []\n",
        "d:\\android\\android-sdk\\extras\\android\\support\\v4\\src\\ics\\android\\support\\v4\\accessibilityservice ['AccessibilityServiceInfoCompatIcs.java']\n",
        "d:\\android\\android-sdk\\extras\\android\\support\\v4\\src\\ics\\android\\support\\v4\\app ['NotificationCompatIceCreamSandwich.java', 'NotificationManagerCompatIceCreamSandwich.java', 'ShareCompatICS.java']\n",
        "d:\\android\\android-sdk\\extras\\android\\support\\v4\\src\\ics\\android\\support\\v4\\net ['TrafficStatsCompatIcs.java']\n",
        "d:\\android\\android-sdk\\extras\\android\\support\\v4\\src\\ics\\android\\support\\v4\\speech []\n",
        "d:\\android\\android-sdk\\extras\\android\\support\\v4\\src\\ics\\android\\support\\v4\\speech\\tts ['TextToSpeechICS.java']\n",
        "d:\\android\\android-sdk\\extras\\android\\support\\v4\\src\\ics\\android\\support\\v4\\text ['ICUCompatIcs.java']\n",
        "d:\\android\\android-sdk\\extras\\android\\support\\v4\\src\\ics\\android\\support\\v4\\view ['AccessibilityDelegateCompatIcs.java', 'MenuItemCompatIcs.java', 'PagerTitleStripIcs.java', 'ViewCompatICS.java', 'ViewConfigurationCompatICS.java', 'ViewGroupCompatIcs.java', 'ViewParentCompatICS.java', 'ViewPropertyAnimatorCompatICS.java', 'ViewPropertyAnimatorListener.java', 'ViewPropertyAnimatorUpdateListener.java']\n",
        "d:\\android\\android-sdk\\extras\\android\\support\\v4\\src\\ics\\android\\support\\v4\\view\\accessibility ['AccessibilityEventCompatIcs.java', 'AccessibilityManagerCompatIcs.java', 'AccessibilityNodeInfoCompatIcs.java', 'AccessibilityRecordCompatIcs.java']\n",
        "d:\\android\\android-sdk\\extras\\android\\support\\v4\\src\\ics\\android\\support\\v4\\widget ['EdgeEffectCompatIcs.java', 'ScrollerCompatIcs.java', 'SearchViewCompatIcs.java']\n",
        "d:\\android\\android-sdk\\extras\\android\\support\\v4\\src\\ics-mr1 []\n",
        "d:\\android\\android-sdk\\extras\\android\\support\\v4\\src\\ics-mr1\\android []\n",
        "d:\\android\\android-sdk\\extras\\android\\support\\v4\\src\\ics-mr1\\android\\support []\n",
        "d:\\android\\android-sdk\\extras\\android\\support\\v4\\src\\ics-mr1\\android\\support\\v4 []\n",
        "d:\\android\\android-sdk\\extras\\android\\support\\v4\\src\\ics-mr1\\android\\support\\v4\\content ['IntentCompatIcsMr1.java']\n",
        "d:\\android\\android-sdk\\extras\\android\\support\\v4\\src\\ics-mr1\\android\\support\\v4\\speech []\n",
        "d:\\android\\android-sdk\\extras\\android\\support\\v4\\src\\ics-mr1\\android\\support\\v4\\speech\\tts ['TextToSpeechICSMR1.java']\n",
        "d:\\android\\android-sdk\\extras\\android\\support\\v4\\src\\ics-mr1\\android\\support\\v4\\view []\n",
        "d:\\android\\android-sdk\\extras\\android\\support\\v4\\src\\ics-mr1\\android\\support\\v4\\view\\accessibility ['AccessibilityRecordCompatIcsMr1.java']\n",
        "d:\\android\\android-sdk\\extras\\android\\support\\v4\\src\\java []\n",
        "d:\\android\\android-sdk\\extras\\android\\support\\v4\\src\\java\\android []\n",
        "d:\\android\\android-sdk\\extras\\android\\support\\v4\\src\\java\\android\\support []\n",
        "d:\\android\\android-sdk\\extras\\android\\support\\v4\\src\\java\\android\\support\\v4"
       ]
      },
      {
       "output_type": "stream",
       "stream": "stdout",
       "text": [
        " []\n",
        "d:\\android\\android-sdk\\extras\\android\\support\\v4\\src\\java\\android\\support\\v4\\accessibilityservice ['AccessibilityServiceInfoCompat.java', 'package.html']\n",
        "d:\\android\\android-sdk\\extras\\android\\support\\v4\\src\\java\\android\\support\\v4\\app ['ActionBarDrawerToggle.java', 'ActivityCompat.java', 'ActivityManagerCompat.java', 'ActivityOptionsCompat.java', 'BackStackRecord.java', 'DialogFragment.java', 'Fragment.java', 'FragmentActivity.java', 'FragmentManager.java', 'FragmentPagerAdapter.java', 'FragmentStatePagerAdapter.java', 'FragmentTabHost.java', 'FragmentTransaction.java', 'INotificationSideChannel.aidl', 'ListFragment.java', 'LoaderManager.java', 'NavUtils.java', 'NoSaveStateFrameLayout.java', 'NotificationCompat.java', 'NotificationCompatExtras.java', 'NotificationCompatSideChannelService.java', 'NotificationManagerCompat.java', 'package.html', 'RemoteInput.java', 'ServiceCompat.java', 'ShareCompat.java', 'SharedElementCallback.java', 'SuperNotCalledException.java', 'TaskStackBuilder.java']\n",
        "d:\\android\\android-sdk\\extras\\android\\support\\v4\\src\\java\\android\\support\\v4\\content ['AsyncTaskLoader.java', 'ContextCompat.java', 'CursorLoader.java', 'FileProvider.java', 'IntentCompat.java', 'Loader.java', 'LocalBroadcastManager.java', 'ModernAsyncTask.java', 'package.html', 'WakefulBroadcastReceiver.java']\n",
        "d:\\android\\android-sdk\\extras\\android\\support\\v4\\src\\java\\android\\support\\v4\\content\\pm ['ActivityInfoCompat.java', 'package.html']\n",
        "d:\\android\\android-sdk\\extras\\android\\support\\v4\\src\\java\\android\\support\\v4\\content\\res ['ResourcesCompat.java']\n",
        "d:\\android\\android-sdk\\extras\\android\\support\\v4\\src\\java\\android\\support\\v4\\database ['DatabaseUtilsCompat.java', 'package.html']\n",
        "d:\\android\\android-sdk\\extras\\android\\support\\v4\\src\\java\\android\\support\\v4\\graphics ['BitmapCompat.java']\n",
        "d:\\android\\android-sdk\\extras\\android\\support\\v4\\src\\java\\android\\support\\v4\\graphics\\drawable ['DrawableCompat.java', 'RoundedBitmapDrawableFactory.java']\n",
        "d:\\android\\android-sdk\\extras\\android\\support\\v4\\src\\java\\android\\support\\v4\\hardware []\n",
        "d:\\android\\android-sdk\\extras\\android\\support\\v4\\src\\java\\android\\support\\v4\\hardware\\display ['DisplayManagerCompat.java']\n",
        "d:\\android\\android-sdk\\extras\\android\\support\\v4\\src\\java\\android\\support\\v4\\internal []\n",
        "d:\\android\\android-sdk\\extras\\android\\support\\v4\\src\\java\\android\\support\\v4\\internal\\view ['SupportMenu.java', 'SupportMenuItem.java', 'SupportSubMenu.java']\n",
        "d:\\android\\android-sdk\\extras\\android\\support\\v4\\src\\java\\android\\support\\v4\\media"
       ]
      },
      {
       "output_type": "stream",
       "stream": "stdout",
       "text": [
        " ['MediaMetadataCompat.java', 'RatingCompat.java', 'TransportController.java', 'TransportMediator.java', 'TransportPerformer.java', 'TransportStateListener.java', 'VolumeProviderCompat.java']\n",
        "d:\\android\\android-sdk\\extras\\android\\support\\v4\\src\\java\\android\\support\\v4\\media\\session ['MediaControllerCompat.java', 'MediaSessionCompat.java', 'PlaybackStateCompat.java']\n",
        "d:\\android\\android-sdk\\extras\\android\\support\\v4\\src\\java\\android\\support\\v4\\net ['ConnectivityManagerCompat.java', 'TrafficStatsCompat.java']\n",
        "d:\\android\\android-sdk\\extras\\android\\support\\v4\\src\\java\\android\\support\\v4\\os ['AsyncTaskCompat.java', 'EnvironmentCompat.java', 'package.html', 'ParcelableCompat.java']\n",
        "d:\\android\\android-sdk\\extras\\android\\support\\v4\\src\\java\\android\\support\\v4\\print ['PrintHelper.java']\n",
        "d:\\android\\android-sdk\\extras\\android\\support\\v4\\src\\java\\android\\support\\v4\\provider ['DocumentFile.java', 'RawDocumentFile.java', 'SingleDocumentFile.java', 'TreeDocumentFile.java']\n",
        "d:\\android\\android-sdk\\extras\\android\\support\\v4\\src\\java\\android\\support\\v4\\text"
       ]
      },
      {
       "output_type": "stream",
       "stream": "stdout",
       "text": [
        " ['BidiFormatter.java', 'ICUCompat.java', 'TextDirectionHeuristicCompat.java', 'TextDirectionHeuristicsCompat.java', 'TextUtilsCompat.java']\n",
        "d:\\android\\android-sdk\\extras\\android\\support\\v4\\src\\java\\android\\support\\v4\\util ['ArrayMap.java', 'AtomicFile.java', 'CircularArray.java', 'ContainerHelpers.java', 'DebugUtils.java', 'LogWriter.java', 'LongSparseArray.java', 'LruCache.java', 'MapCollections.java', 'package.html', 'Pair.java', 'Pools.java', 'SimpleArrayMap.java', 'SparseArrayCompat.java', 'TimeUtils.java']\n",
        "d:\\android\\android-sdk\\extras\\android\\support\\v4\\src\\java\\android\\support\\v4\\view"
       ]
      },
      {
       "output_type": "stream",
       "stream": "stdout",
       "text": [
        " ['AccessibilityDelegateCompat.java', 'ActionProvider.java', 'GestureDetectorCompat.java', 'GravityCompat.java', 'KeyEventCompat.java', 'MarginLayoutParamsCompat.java', 'MenuCompat.java', 'MenuItemCompat.java', 'MotionEventCompat.java', 'package.html', 'PagerAdapter.java', 'PagerTabStrip.java', 'PagerTitleStrip.java', 'ScaleGestureDetectorCompat.java', 'VelocityTrackerCompat.java', 'ViewCompat.java', 'ViewConfigurationCompat.java', 'ViewGroupCompat.java', 'ViewPager.java', 'ViewParentCompat.java', 'ViewPropertyAnimatorCompat.java', 'ViewPropertyAnimatorListenerAdapter.java', 'WindowCompat.java']\n",
        "d:\\android\\android-sdk\\extras\\android\\support\\v4\\src\\java\\android\\support\\v4\\view\\accessibility ['AccessibilityEventCompat.java', 'AccessibilityManagerCompat.java', 'AccessibilityNodeInfoCompat.java', 'AccessibilityNodeProviderCompat.java', 'AccessibilityRecordCompat.java', 'package.html']\n",
        "d:\\android\\android-sdk\\extras\\android\\support\\v4\\src\\java\\android\\support\\v4\\widget"
       ]
      },
      {
       "output_type": "stream",
       "stream": "stdout",
       "text": [
        " ['AutoScrollHelper.java', 'BakedBezierInterpolator.java', 'CircleImageView.java', 'ContentLoadingProgressBar.java', 'CursorAdapter.java', 'CursorFilter.java', 'DrawerLayout.java', 'EdgeEffectCompat.java', 'ExploreByTouchHelper.java', 'ListPopupWindowCompat.java', 'ListViewAutoScrollHelper.java', 'MaterialProgressDrawable.java', 'package.html', 'PopupMenuCompat.java', 'PopupWindowCompat.java', 'ResourceCursorAdapter.java', 'ScrollerCompat.java', 'SearchViewCompat.java', 'SimpleCursorAdapter.java', 'SlidingPaneLayout.java', 'SwipeProgressBar.java', 'SwipeRefreshLayout.java', 'ViewDragHelper.java']\n",
        "d:\\android\\android-sdk\\extras\\android\\support\\v4\\src\\jellybean []\n",
        "d:\\android\\android-sdk\\extras\\android\\support\\v4\\src\\jellybean\\android []\n",
        "d:\\android\\android-sdk\\extras\\android\\support\\v4\\src\\jellybean\\android\\support []\n",
        "d:\\android\\android-sdk\\extras\\android\\support\\v4\\src\\jellybean\\android\\support\\v4 []\n",
        "d:\\android\\android-sdk\\extras\\android\\support\\v4\\src\\jellybean\\android\\support\\v4\\app ['ActivityCompatJB.java', 'ActivityOptionsCompatJB.java', 'BundleUtil.java', 'NavUtilsJB.java', 'NotificationBuilderWithActions.java', 'NotificationCompatJellybean.java', 'RemoteInputCompatJellybean.java', 'ShareCompatJB.java', 'TaskStackBuilderJellybean.java']\n",
        "d:\\android\\android-sdk\\extras\\android\\support\\v4\\src\\jellybean\\android\\support\\v4\\content ['ContextCompatJellybean.java']\n",
        "d:\\android\\android-sdk\\extras\\android\\support\\v4\\src\\jellybean\\android\\support\\v4\\media []\n",
        "d:\\android\\android-sdk\\extras\\android\\support\\v4\\src\\jellybean\\android\\support\\v4\\media\\routing ['MediaRouterJellybean.java']\n",
        "d:\\android\\android-sdk\\extras\\android\\support\\v4\\src\\jellybean\\android\\support\\v4\\net ['ConnectivityManagerCompatJellyBean.java']\n",
        "d:\\android\\android-sdk\\extras\\android\\support\\v4\\src\\jellybean\\android\\support\\v4\\view"
       ]
      },
      {
       "output_type": "stream",
       "stream": "stdout",
       "text": [
        " ['AccessibilityDelegateCompatJellyBean.java', 'ViewCompatJB.java', 'ViewPropertyAnimatorCompatJB.java']\n",
        "d:\\android\\android-sdk\\extras\\android\\support\\v4\\src\\jellybean\\android\\support\\v4\\view\\accessibility ['AccessibilityNodeInfoCompatJellyBean.java', 'AccessibilityNodeProviderCompatJellyBean.java', 'AccessibilityRecordCompatJellyBean.java']\n",
        "d:\\android\\android-sdk\\extras\\android\\support\\v4\\src\\jellybean-mr1 []\n",
        "d:\\android\\android-sdk\\extras\\android\\support\\v4\\src\\jellybean-mr1\\android []\n",
        "d:\\android\\android-sdk\\extras\\android\\support\\v4\\src\\jellybean-mr1\\android\\support []\n",
        "d:\\android\\android-sdk\\extras\\android\\support\\v4\\src\\jellybean-mr1\\android\\support\\v4 []\n",
        "d:\\android\\android-sdk\\extras\\android\\support\\v4\\src\\jellybean-mr1\\android\\support\\v4\\hardware []\n",
        "d:\\android\\android-sdk\\extras\\android\\support\\v4\\src\\jellybean-mr1\\android\\support\\v4\\hardware\\display ['DisplayManagerJellybeanMr1.java']\n",
        "d:\\android\\android-sdk\\extras\\android\\support\\v4\\src\\jellybean-mr1\\android\\support\\v4\\media []\n",
        "d:\\android\\android-sdk\\extras\\android\\support\\v4\\src\\jellybean-mr1\\android\\support\\v4\\media\\routing ['MediaRouterJellybeanMr1.java']\n",
        "d:\\android\\android-sdk\\extras\\android\\support\\v4\\src\\jellybean-mr1\\android\\support\\v4\\view ['GravityCompatJellybeanMr1.java', 'MarginLayoutParamsCompatJellybeanMr1.java', 'ViewCompatJellybeanMr1.java']\n",
        "d:\\android\\android-sdk\\extras\\android\\support\\v4\\src\\jellybean-mr2 []\n",
        "d:\\android\\android-sdk\\extras\\android\\support\\v4\\src\\jellybean-mr2\\android []\n",
        "d:\\android\\android-sdk\\extras\\android\\support\\v4\\src\\jellybean-mr2\\android\\support []\n",
        "d:\\android\\android-sdk\\extras\\android\\support\\v4\\src\\jellybean-mr2\\android\\support\\v4 []\n",
        "d:\\android\\android-sdk\\extras\\android\\support\\v4\\src\\jellybean-mr2\\android\\support\\v4\\accessibilityservice ['AccessibilityServiceInfoCompatJellyBeanMr2.java']\n",
        "d:\\android\\android-sdk\\extras\\android\\support\\v4\\src\\jellybean-mr2\\android\\support\\v4\\app ['ActionBarDrawerToggleJellybeanMR2.java']\n",
        "d:\\android\\android-sdk\\extras\\android\\support\\v4\\src\\jellybean-mr2\\android\\support\\v4\\graphics ['BitmapCompatJellybeanMR2.java']\n",
        "d:\\android\\android-sdk\\extras\\android\\support\\v4\\src\\jellybean-mr2\\android\\support\\v4\\media ['TransportMediatorCallback.java', 'TransportMediatorJellybeanMR2.java']\n",
        "d:\\android\\android-sdk\\extras\\android\\support\\v4\\src\\jellybean-mr2\\android\\support\\v4\\media\\routing ['MediaRouterJellybeanMr2.java']\n",
        "d:\\android\\android-sdk\\extras\\android\\support\\v4\\src\\jellybean-mr2\\android\\support\\v4\\view ['ViewGroupCompatJellybeanMR2.java', 'ViewPropertyAnimatorCompatJellybeanMr2.java']\n",
        "d:\\android\\android-sdk\\extras\\android\\support\\v4\\src\\jellybean-mr2\\android\\support\\v4\\view\\accessibility ['AccessibilityNodeInfoCompatJellybeanMr2.java']\n",
        "d:\\android\\android-sdk\\extras\\android\\support\\v4\\src\\kitkat []\n",
        "d:\\android\\android-sdk\\extras\\android\\support\\v4\\src\\kitkat\\android []\n",
        "d:\\android\\android-sdk\\extras\\android\\support\\v4\\src\\kitkat\\android\\support []\n",
        "d:\\android\\android-sdk\\extras\\android\\support\\v4\\src\\kitkat\\android\\support\\v4 []\n",
        "d:\\android\\android-sdk\\extras\\android\\support\\v4\\src\\kitkat\\android\\support\\v4\\app ['ActivityManagerCompatKitKat.java', 'NotificationCompatKitKat.java']\n",
        "d:\\android\\android-sdk\\extras\\android\\support\\v4\\src\\kitkat\\android\\support\\v4\\content ['ContextCompatKitKat.java']\n",
        "d:\\android\\android-sdk\\extras\\android\\support\\v4\\src\\kitkat\\android\\support\\v4\\graphics ['BitmapCompatKitKat.java']\n",
        "d:\\android\\android-sdk\\extras\\android\\support\\v4\\src\\kitkat\\android\\support\\v4\\graphics\\drawable ['DrawableCompatKitKat.java']\n",
        "d:\\android\\android-sdk\\extras\\android\\support\\v4\\src\\kitkat\\android\\support\\v4\\os ['EnvironmentCompatKitKat.java']\n",
        "d:\\android\\android-sdk\\extras\\android\\support\\v4\\src\\kitkat\\android\\support\\v4\\print ['PrintHelperKitkat.java']\n",
        "d:\\android\\android-sdk\\extras\\android\\support\\v4\\src\\kitkat\\android\\support\\v4\\provider ['DocumentsContractApi19.java']\n",
        "d:\\android\\android-sdk\\extras\\android\\support\\v4\\src\\kitkat\\android\\support\\v4\\view ['ScaleGestureDetectorCompatKitKat.java', 'ViewCompatKitKat.java', 'ViewPropertyAnimatorCompatKK.java']\n",
        "d:\\android\\android-sdk\\extras\\android\\support\\v4\\src\\kitkat\\android\\support\\v4\\view\\accessibility ['AccessibilityNodeInfoCompatKitKat.java', 'AccessibilityNodeProviderCompatKitKat.java']\n",
        "d:\\android\\android-sdk\\extras\\android\\support\\v4\\src\\kitkat\\android\\support\\v4\\widget ['ListPopupWindowCompatKitKat.java', 'PopupMenuCompatKitKat.java', 'PopupWindowCompatKitKat.java']\n",
        "d:\\android\\android-sdk\\extras\\android\\support\\v4\\src\\tests []\n",
        "d:\\android\\android-sdk\\extras\\android\\support\\v4\\src\\tests\\java []\n",
        "d:\\android\\android-sdk\\extras\\android\\support\\v4\\src\\tests\\java\\android []\n",
        "d:\\android\\android-sdk\\extras\\android\\support\\v4\\src\\tests\\java\\android\\support []\n",
        "d:\\android\\android-sdk\\extras\\android\\support\\v4\\src\\tests\\java\\android\\support\\v4 []\n",
        "d:\\android\\android-sdk\\extras\\android\\support\\v4\\src\\tests\\java\\android\\support\\v4\\text ['BidiFormatterTest.java']\n",
        "d:\\android\\android-sdk\\extras\\android\\support\\v4\\src\\tests\\java\\android\\support\\v4\\widget"
       ]
      },
      {
       "output_type": "stream",
       "stream": "stdout",
       "text": [
        " ['DonutScrollerCompatTest.java', 'GingerbreadScrollerCompatTest.java', 'IcsScrollerCompatTest.java', 'ScrollerCompatTestBase.java']\n",
        "d:\\android\\android-sdk\\extras\\android\\support\\v7 []\n",
        "d:\\android\\android-sdk\\extras\\android\\support\\v7\\appcompat"
       ]
      },
      {
       "output_type": "stream",
       "stream": "stdout",
       "text": [
        " ['.classpath', '.project', 'AndroidManifest.xml', 'project.properties', 'README.txt']\n",
        "d:\\android\\android-sdk\\extras\\android\\support\\v7\\appcompat\\libs ['android-support-v4.jar', 'android-support-v7-appcompat.jar']\n",
        "d:\\android\\android-sdk\\extras\\android\\support\\v7\\appcompat\\res []\n",
        "d:\\android\\android-sdk\\extras\\android\\support\\v7\\appcompat\\res\\anim"
       ]
      },
      {
       "output_type": "stream",
       "stream": "stdout",
       "text": [
        " ['abc_fade_in.xml', 'abc_fade_out.xml', 'abc_slide_in_bottom.xml', 'abc_slide_in_top.xml', 'abc_slide_out_bottom.xml', 'abc_slide_out_top.xml']\n",
        "d:\\android\\android-sdk\\extras\\android\\support\\v7\\appcompat\\res\\color ['abc_background_cache_hint_selector_material_dark.xml', 'abc_background_cache_hint_selector_material_light.xml', 'abc_primary_text_disable_only_material_dark.xml', 'abc_primary_text_disable_only_material_light.xml', 'abc_primary_text_material_dark.xml', 'abc_primary_text_material_light.xml', 'abc_search_url_text.xml', 'abc_secondary_text_material_dark.xml', 'abc_secondary_text_material_light.xml']\n",
        "d:\\android\\android-sdk\\extras\\android\\support\\v7\\appcompat\\res\\drawable ['abc_btn_check_material.xml', 'abc_btn_radio_material.xml', 'abc_cab_background_internal_bg.xml', 'abc_cab_background_top_material.xml', 'abc_edit_text_material.xml', 'abc_item_background_holo_dark.xml', 'abc_item_background_holo_light.xml', 'abc_list_selector_background_transition_holo_dark.xml', 'abc_list_selector_background_transition_holo_light.xml', 'abc_list_selector_holo_dark.xml', 'abc_list_selector_holo_light.xml', 'abc_switch_thumb_material.xml', 'abc_tab_indicator_material.xml', 'abc_textfield_search_material.xml']\n",
        "d:\\android\\android-sdk\\extras\\android\\support\\v7\\appcompat\\res\\drawable-hdpi ['abc_ab_share_pack_holo_dark.9.png', 'abc_ab_share_pack_holo_light.9.png', 'abc_btn_check_to_on_mtrl_000.png', 'abc_btn_check_to_on_mtrl_015.png', 'abc_btn_radio_to_on_mtrl_000.png', 'abc_btn_radio_to_on_mtrl_015.png', 'abc_btn_switch_to_on_mtrl_00001.9.png', 'abc_btn_switch_to_on_mtrl_00012.9.png', 'abc_cab_background_top_mtrl_alpha.9.png', 'abc_ic_ab_back_mtrl_am_alpha.png', 'abc_ic_clear_mtrl_alpha.png', 'abc_ic_commit_search_api_mtrl_alpha.png', 'abc_ic_go_search_api_mtrl_alpha.png', 'abc_ic_menu_copy_mtrl_am_alpha.png', 'abc_ic_menu_cut_mtrl_alpha.png', 'abc_ic_menu_moreoverflow_mtrl_alpha.png', 'abc_ic_menu_paste_mtrl_am_alpha.png', 'abc_ic_menu_selectall_mtrl_alpha.png', 'abc_ic_menu_share_mtrl_alpha.png', 'abc_ic_search_api_mtrl_alpha.png', 'abc_ic_voice_search_api_mtrl_alpha.png', 'abc_list_divider_mtrl_alpha.9.png', 'abc_list_focused_holo.9.png', 'abc_list_longpressed_holo.9.png', 'abc_list_pressed_holo_dark.9.png', 'abc_list_pressed_holo_light.9.png', 'abc_list_selector_disabled_holo_dark.9.png', 'abc_list_selector_disabled_holo_light.9.png', 'abc_menu_hardkey_panel_mtrl_mult.9.png', 'abc_popup_background_mtrl_mult.9.png', 'abc_spinner_mtrl_am_alpha.9.png', 'abc_switch_track_mtrl_alpha.9.png', 'abc_tab_indicator_mtrl_alpha.9.png', 'abc_textfield_activated_mtrl_alpha.9.png', 'abc_textfield_default_mtrl_alpha.9.png', 'abc_textfield_search_activated_mtrl_alpha.9.png', 'abc_textfield_search_default_mtrl_alpha.9.png']\n",
        "d:\\android\\android-sdk\\extras\\android\\support\\v7\\appcompat\\res\\drawable-ldrtl-hdpi ['abc_ic_ab_back_mtrl_am_alpha.png', 'abc_ic_menu_copy_mtrl_am_alpha.png', 'abc_ic_menu_cut_mtrl_alpha.png', 'abc_spinner_mtrl_am_alpha.9.png']\n",
        "d:\\android\\android-sdk\\extras\\android\\support\\v7\\appcompat\\res\\drawable-ldrtl-mdpi ['abc_ic_ab_back_mtrl_am_alpha.png', 'abc_ic_menu_copy_mtrl_am_alpha.png', 'abc_ic_menu_cut_mtrl_alpha.png', 'abc_spinner_mtrl_am_alpha.9.png']\n",
        "d:\\android\\android-sdk\\extras\\android\\support\\v7\\appcompat\\res\\drawable-ldrtl-xhdpi ['abc_ic_ab_back_mtrl_am_alpha.png', 'abc_ic_menu_copy_mtrl_am_alpha.png', 'abc_ic_menu_cut_mtrl_alpha.png', 'abc_spinner_mtrl_am_alpha.9.png']\n",
        "d:\\android\\android-sdk\\extras\\android\\support\\v7\\appcompat\\res\\drawable-ldrtl-xxhdpi ['abc_ic_ab_back_mtrl_am_alpha.png', 'abc_ic_menu_copy_mtrl_am_alpha.png', 'abc_ic_menu_cut_mtrl_alpha.png', 'abc_spinner_mtrl_am_alpha.9.png']\n",
        "d:\\android\\android-sdk\\extras\\android\\support\\v7\\appcompat\\res\\drawable-ldrtl-xxxhdpi ['abc_ic_ab_back_mtrl_am_alpha.png', 'abc_ic_menu_copy_mtrl_am_alpha.png', 'abc_ic_menu_cut_mtrl_alpha.png', 'abc_spinner_mtrl_am_alpha.9.png']\n",
        "d:\\android\\android-sdk\\extras\\android\\support\\v7\\appcompat\\res\\drawable-mdpi ['abc_ab_share_pack_holo_dark.9.png', 'abc_ab_share_pack_holo_light.9.png', 'abc_btn_check_to_on_mtrl_000.png', 'abc_btn_check_to_on_mtrl_015.png', 'abc_btn_radio_to_on_mtrl_000.png', 'abc_btn_radio_to_on_mtrl_015.png', 'abc_btn_switch_to_on_mtrl_00001.9.png', 'abc_btn_switch_to_on_mtrl_00012.9.png', 'abc_cab_background_top_mtrl_alpha.9.png', 'abc_ic_ab_back_mtrl_am_alpha.png', 'abc_ic_clear_mtrl_alpha.png', 'abc_ic_commit_search_api_mtrl_alpha.png', 'abc_ic_go_search_api_mtrl_alpha.png', 'abc_ic_menu_copy_mtrl_am_alpha.png', 'abc_ic_menu_cut_mtrl_alpha.png', 'abc_ic_menu_moreoverflow_mtrl_alpha.png', 'abc_ic_menu_paste_mtrl_am_alpha.png', 'abc_ic_menu_selectall_mtrl_alpha.png', 'abc_ic_menu_share_mtrl_alpha.png', 'abc_ic_search_api_mtrl_alpha.png', 'abc_ic_voice_search_api_mtrl_alpha.png', 'abc_list_divider_mtrl_alpha.9.png', 'abc_list_focused_holo.9.png', 'abc_list_longpressed_holo.9.png', 'abc_list_pressed_holo_dark.9.png', 'abc_list_pressed_holo_light.9.png', 'abc_list_selector_disabled_holo_dark.9.png', 'abc_list_selector_disabled_holo_light.9.png', 'abc_menu_hardkey_panel_mtrl_mult.9.png', 'abc_popup_background_mtrl_mult.9.png', 'abc_spinner_mtrl_am_alpha.9.png', 'abc_switch_track_mtrl_alpha.9.png', 'abc_tab_indicator_mtrl_alpha.9.png', 'abc_textfield_activated_mtrl_alpha.9.png', 'abc_textfield_default_mtrl_alpha.9.png', 'abc_textfield_search_activated_mtrl_alpha.9.png', 'abc_textfield_search_default_mtrl_alpha.9.png']\n",
        "d:\\android\\android-sdk\\extras\\android\\support\\v7\\appcompat\\res\\drawable-xhdpi ['abc_ab_share_pack_holo_dark.9.png', 'abc_ab_share_pack_holo_light.9.png', 'abc_btn_check_to_on_mtrl_000.png', 'abc_btn_check_to_on_mtrl_015.png', 'abc_btn_radio_to_on_mtrl_000.png', 'abc_btn_radio_to_on_mtrl_015.png', 'abc_btn_switch_to_on_mtrl_00001.9.png', 'abc_btn_switch_to_on_mtrl_00012.9.png', 'abc_cab_background_top_mtrl_alpha.9.png', 'abc_ic_ab_back_mtrl_am_alpha.png', 'abc_ic_clear_mtrl_alpha.png', 'abc_ic_commit_search_api_mtrl_alpha.png', 'abc_ic_go_search_api_mtrl_alpha.png', 'abc_ic_menu_copy_mtrl_am_alpha.png', 'abc_ic_menu_cut_mtrl_alpha.png', 'abc_ic_menu_moreoverflow_mtrl_alpha.png', 'abc_ic_menu_paste_mtrl_am_alpha.png', 'abc_ic_menu_selectall_mtrl_alpha.png', 'abc_ic_menu_share_mtrl_alpha.png', 'abc_ic_search_api_mtrl_alpha.png', 'abc_ic_voice_search_api_mtrl_alpha.png', 'abc_list_divider_mtrl_alpha.9.png', 'abc_list_focused_holo.9.png', 'abc_list_longpressed_holo.9.png', 'abc_list_pressed_holo_dark.9.png', 'abc_list_pressed_holo_light.9.png', 'abc_list_selector_disabled_holo_dark.9.png', 'abc_list_selector_disabled_holo_light.9.png', 'abc_menu_hardkey_panel_mtrl_mult.9.png', 'abc_popup_background_mtrl_mult.9.png', 'abc_spinner_mtrl_am_alpha.9.png', 'abc_switch_track_mtrl_alpha.9.png', 'abc_tab_indicator_mtrl_alpha.9.png', 'abc_textfield_activated_mtrl_alpha.9.png', 'abc_textfield_default_mtrl_alpha.9.png', 'abc_textfield_search_activated_mtrl_alpha.9.png', 'abc_textfield_search_default_mtrl_alpha.9.png']\n",
        "d:\\android\\android-sdk\\extras\\android\\support\\v7\\appcompat\\res\\drawable-xxhdpi"
       ]
      },
      {
       "output_type": "stream",
       "stream": "stdout",
       "text": [
        " ['abc_ab_share_pack_holo_dark.9.png', 'abc_ab_share_pack_holo_light.9.png', 'abc_btn_check_to_on_mtrl_000.png', 'abc_btn_check_to_on_mtrl_015.png', 'abc_btn_radio_to_on_mtrl_000.png', 'abc_btn_radio_to_on_mtrl_015.png', 'abc_btn_switch_to_on_mtrl_00001.9.png', 'abc_btn_switch_to_on_mtrl_00012.9.png', 'abc_cab_background_top_mtrl_alpha.9.png', 'abc_ic_ab_back_mtrl_am_alpha.png', 'abc_ic_clear_mtrl_alpha.png', 'abc_ic_commit_search_api_mtrl_alpha.png', 'abc_ic_go_search_api_mtrl_alpha.png', 'abc_ic_menu_copy_mtrl_am_alpha.png', 'abc_ic_menu_cut_mtrl_alpha.png', 'abc_ic_menu_moreoverflow_mtrl_alpha.png', 'abc_ic_menu_paste_mtrl_am_alpha.png', 'abc_ic_menu_selectall_mtrl_alpha.png', 'abc_ic_menu_share_mtrl_alpha.png', 'abc_ic_search_api_mtrl_alpha.png', 'abc_ic_voice_search_api_mtrl_alpha.png', 'abc_list_divider_mtrl_alpha.9.png', 'abc_list_focused_holo.9.png', 'abc_list_longpressed_holo.9.png', 'abc_list_pressed_holo_dark.9.png', 'abc_list_pressed_holo_light.9.png', 'abc_list_selector_disabled_holo_dark.9.png', 'abc_list_selector_disabled_holo_light.9.png', 'abc_menu_hardkey_panel_mtrl_mult.9.png', 'abc_popup_background_mtrl_mult.9.png', 'abc_spinner_mtrl_am_alpha.9.png', 'abc_switch_track_mtrl_alpha.9.png', 'abc_tab_indicator_mtrl_alpha.9.png', 'abc_textfield_activated_mtrl_alpha.9.png', 'abc_textfield_default_mtrl_alpha.9.png', 'abc_textfield_search_activated_mtrl_alpha.9.png', 'abc_textfield_search_default_mtrl_alpha.9.png']\n",
        "d:\\android\\android-sdk\\extras\\android\\support\\v7\\appcompat\\res\\drawable-xxxhdpi ['abc_btn_check_to_on_mtrl_000.png', 'abc_btn_check_to_on_mtrl_015.png', 'abc_btn_radio_to_on_mtrl_000.png', 'abc_btn_radio_to_on_mtrl_015.png', 'abc_btn_switch_to_on_mtrl_00001.9.png', 'abc_btn_switch_to_on_mtrl_00012.9.png', 'abc_ic_ab_back_mtrl_am_alpha.png', 'abc_ic_clear_mtrl_alpha.png', 'abc_ic_menu_copy_mtrl_am_alpha.png', 'abc_ic_menu_cut_mtrl_alpha.png', 'abc_ic_menu_moreoverflow_mtrl_alpha.png', 'abc_ic_menu_paste_mtrl_am_alpha.png', 'abc_ic_menu_selectall_mtrl_alpha.png', 'abc_ic_search_api_mtrl_alpha.png', 'abc_ic_voice_search_api_mtrl_alpha.png', 'abc_spinner_mtrl_am_alpha.9.png', 'abc_switch_track_mtrl_alpha.9.png', 'abc_tab_indicator_mtrl_alpha.9.png']\n",
        "d:\\android\\android-sdk\\extras\\android\\support\\v7\\appcompat\\res\\layout"
       ]
      },
      {
       "output_type": "stream",
       "stream": "stdout",
       "text": [
        " ['abc_action_bar_title_item.xml', 'abc_action_bar_up_container.xml', 'abc_action_bar_view_list_nav_layout.xml', 'abc_action_menu_item_layout.xml', 'abc_action_menu_layout.xml', 'abc_action_mode_bar.xml', 'abc_action_mode_close_item_material.xml', 'abc_activity_chooser_view.xml', 'abc_activity_chooser_view_include.xml', 'abc_activity_chooser_view_list_item.xml', 'abc_expanded_menu_layout.xml', 'abc_list_menu_item_checkbox.xml', 'abc_list_menu_item_icon.xml', 'abc_list_menu_item_layout.xml', 'abc_list_menu_item_radio.xml', 'abc_popup_menu_item_layout.xml', 'abc_screen_content_include.xml', 'abc_screen_simple.xml', 'abc_screen_simple_overlay_action_mode.xml', 'abc_screen_toolbar.xml', 'abc_search_dropdown_item_icons_2line.xml', 'abc_search_view.xml', 'abc_simple_dropdown_hint.xml', 'support_simple_spinner_dropdown_item.xml']\n",
        "d:\\android\\android-sdk\\extras\\android\\support\\v7\\appcompat\\res\\layout-v11 ['abc_screen_content_include.xml']\n",
        "d:\\android\\android-sdk\\extras\\android\\support\\v7\\appcompat\\res\\values ['attrs.xml', 'bools.xml', 'colors.xml', 'colors_material.xml', 'config.xml', 'dimens.xml', 'dimens_material.xml', 'ids.xml', 'strings.xml', 'styles.xml', 'styles_base.xml', 'styles_base_text.xml', 'styles_rtl.xml', 'themes.xml', 'themes_base.xml']\n",
        "d:\\android\\android-sdk\\extras\\android\\support\\v7\\appcompat\\res\\values-af ['strings.xml']\n",
        "d:\\android\\android-sdk\\extras\\android\\support\\v7\\appcompat\\res\\values-am ['strings.xml']\n",
        "d:\\android\\android-sdk\\extras\\android\\support\\v7\\appcompat\\res\\values-ar ['strings.xml']\n",
        "d:\\android\\android-sdk\\extras\\android\\support\\v7\\appcompat\\res\\values-bg ['strings.xml']\n",
        "d:\\android\\android-sdk\\extras\\android\\support\\v7\\appcompat\\res\\values-bn-rBD ['strings.xml']\n",
        "d:\\android\\android-sdk\\extras\\android\\support\\v7\\appcompat\\res\\values-ca ['strings.xml']\n",
        "d:\\android\\android-sdk\\extras\\android\\support\\v7\\appcompat\\res\\values-cs ['strings.xml']\n",
        "d:\\android\\android-sdk\\extras\\android\\support\\v7\\appcompat\\res\\values-da ['strings.xml']\n",
        "d:\\android\\android-sdk\\extras\\android\\support\\v7\\appcompat\\res\\values-de ['strings.xml']\n",
        "d:\\android\\android-sdk\\extras\\android\\support\\v7\\appcompat\\res\\values-el ['strings.xml']\n",
        "d:\\android\\android-sdk\\extras\\android\\support\\v7\\appcompat\\res\\values-en-rGB ['strings.xml']\n",
        "d:\\android\\android-sdk\\extras\\android\\support\\v7\\appcompat\\res\\values-en-rIN ['strings.xml']\n",
        "d:\\android\\android-sdk\\extras\\android\\support\\v7\\appcompat\\res\\values-es ['strings.xml']\n",
        "d:\\android\\android-sdk\\extras\\android\\support\\v7\\appcompat\\res\\values-es-rUS ['strings.xml']\n",
        "d:\\android\\android-sdk\\extras\\android\\support\\v7\\appcompat\\res\\values-et-rEE ['strings.xml']\n",
        "d:\\android\\android-sdk\\extras\\android\\support\\v7\\appcompat\\res\\values-eu-rES ['strings.xml']\n",
        "d:\\android\\android-sdk\\extras\\android\\support\\v7\\appcompat\\res\\values-fa ['strings.xml']\n",
        "d:\\android\\android-sdk\\extras\\android\\support\\v7\\appcompat\\res\\values-fi ['strings.xml']\n",
        "d:\\android\\android-sdk\\extras\\android\\support\\v7\\appcompat\\res\\values-fr ['strings.xml']\n",
        "d:\\android\\android-sdk\\extras\\android\\support\\v7\\appcompat\\res\\values-fr-rCA ['strings.xml']\n",
        "d:\\android\\android-sdk\\extras\\android\\support\\v7\\appcompat\\res\\values-gl-rES ['strings.xml']\n",
        "d:\\android\\android-sdk\\extras\\android\\support\\v7\\appcompat\\res\\values-hi ['strings.xml']\n",
        "d:\\android\\android-sdk\\extras\\android\\support\\v7\\appcompat\\res\\values-hr ['strings.xml']\n",
        "d:\\android\\android-sdk\\extras\\android\\support\\v7\\appcompat\\res\\values-hu ['strings.xml']\n",
        "d:\\android\\android-sdk\\extras\\android\\support\\v7\\appcompat\\res\\values-hy-rAM ['strings.xml']\n",
        "d:\\android\\android-sdk\\extras\\android\\support\\v7\\appcompat\\res\\values-in ['strings.xml']\n",
        "d:\\android\\android-sdk\\extras\\android\\support\\v7\\appcompat\\res\\values-is-rIS ['strings.xml']\n",
        "d:\\android\\android-sdk\\extras\\android\\support\\v7\\appcompat\\res\\values-it ['strings.xml']\n",
        "d:\\android\\android-sdk\\extras\\android\\support\\v7\\appcompat\\res\\values-iw ['strings.xml']\n",
        "d:\\android\\android-sdk\\extras\\android\\support\\v7\\appcompat\\res\\values-ja ['strings.xml']\n",
        "d:\\android\\android-sdk\\extras\\android\\support\\v7\\appcompat\\res\\values-ka-rGE ['strings.xml']\n",
        "d:\\android\\android-sdk\\extras\\android\\support\\v7\\appcompat\\res\\values-kk-rKZ ['strings.xml']\n",
        "d:\\android\\android-sdk\\extras\\android\\support\\v7\\appcompat\\res\\values-km-rKH ['strings.xml']\n",
        "d:\\android\\android-sdk\\extras\\android\\support\\v7\\appcompat\\res\\values-kn-rIN ['strings.xml']\n",
        "d:\\android\\android-sdk\\extras\\android\\support\\v7\\appcompat\\res\\values-ko ['strings.xml']\n",
        "d:\\android\\android-sdk\\extras\\android\\support\\v7\\appcompat\\res\\values-ky-rKG ['strings.xml']\n",
        "d:\\android\\android-sdk\\extras\\android\\support\\v7\\appcompat\\res\\values-land ['bools.xml', 'config.xml', 'dimens.xml', 'dimens_material.xml']\n",
        "d:\\android\\android-sdk\\extras\\android\\support\\v7\\appcompat\\res\\values-large ['bools.xml', 'config.xml', 'dimens.xml', 'themes_base.xml']\n",
        "d:\\android\\android-sdk\\extras\\android\\support\\v7\\appcompat\\res\\values-lo-rLA ['strings.xml']\n",
        "d:\\android\\android-sdk\\extras\\android\\support\\v7\\appcompat\\res\\values-lt ['strings.xml']\n",
        "d:\\android\\android-sdk\\extras\\android\\support\\v7\\appcompat\\res\\values-lv ['strings.xml']\n",
        "d:\\android\\android-sdk\\extras\\android\\support\\v7\\appcompat\\res\\values-mk-rMK ['strings.xml']\n",
        "d:\\android\\android-sdk\\extras\\android\\support\\v7\\appcompat\\res\\values-ml-rIN ['strings.xml']\n",
        "d:\\android\\android-sdk\\extras\\android\\support\\v7\\appcompat\\res\\values-mn-rMN ['strings.xml']\n",
        "d:\\android\\android-sdk\\extras\\android\\support\\v7\\appcompat\\res\\values-mr-rIN ['strings.xml']\n",
        "d:\\android\\android-sdk\\extras\\android\\support\\v7\\appcompat\\res\\values-ms-rMY ['strings.xml']\n",
        "d:\\android\\android-sdk\\extras\\android\\support\\v7\\appcompat\\res\\values-my-rMM ['strings.xml']\n",
        "d:\\android\\android-sdk\\extras\\android\\support\\v7\\appcompat\\res\\values-nb ['strings.xml']\n",
        "d:\\android\\android-sdk\\extras\\android\\support\\v7\\appcompat\\res\\values-ne-rNP ['strings.xml']\n",
        "d:\\android\\android-sdk\\extras\\android\\support\\v7\\appcompat\\res\\values-nl ['strings.xml']\n",
        "d:\\android\\android-sdk\\extras\\android\\support\\v7\\appcompat\\res\\values-pl ['strings.xml']\n",
        "d:\\android\\android-sdk\\extras\\android\\support\\v7\\appcompat\\res\\values-port ['bools.xml']\n",
        "d:\\android\\android-sdk\\extras\\android\\support\\v7\\appcompat\\res\\values-pt ['strings.xml']\n",
        "d:\\android\\android-sdk\\extras\\android\\support\\v7\\appcompat\\res\\values-pt-rPT ['strings.xml']\n",
        "d:\\android\\android-sdk\\extras\\android\\support\\v7\\appcompat\\res\\values-ro ['strings.xml']\n",
        "d:\\android\\android-sdk\\extras\\android\\support\\v7\\appcompat\\res\\values-ru ['strings.xml']\n",
        "d:\\android\\android-sdk\\extras\\android\\support\\v7\\appcompat\\res\\values-si-rLK ['strings.xml']\n",
        "d:\\android\\android-sdk\\extras\\android\\support\\v7\\appcompat\\res\\values-sk ['strings.xml']\n",
        "d:\\android\\android-sdk\\extras\\android\\support\\v7\\appcompat\\res\\values-sl ['strings.xml']\n",
        "d:\\android\\android-sdk\\extras\\android\\support\\v7\\appcompat\\res\\values-sr ['strings.xml']\n",
        "d:\\android\\android-sdk\\extras\\android\\support\\v7\\appcompat\\res\\values-sv ['strings.xml']\n",
        "d:\\android\\android-sdk\\extras\\android\\support\\v7\\appcompat\\res\\values-sw ['strings.xml']\n",
        "d:\\android\\android-sdk\\extras\\android\\support\\v7\\appcompat\\res\\values-sw600dp ['config.xml', 'dimens.xml']\n",
        "d:\\android\\android-sdk\\extras\\android\\support\\v7\\appcompat\\res\\values-ta-rIN ['strings.xml']\n",
        "d:\\android\\android-sdk\\extras\\android\\support\\v7\\appcompat\\res\\values-te-rIN ['strings.xml']\n",
        "d:\\android\\android-sdk\\extras\\android\\support\\v7\\appcompat\\res\\values-th ['strings.xml']\n",
        "d:\\android\\android-sdk\\extras\\android\\support\\v7\\appcompat\\res\\values-tl ['strings.xml']\n",
        "d:\\android\\android-sdk\\extras\\android\\support\\v7\\appcompat\\res\\values-tr ['strings.xml']\n",
        "d:\\android\\android-sdk\\extras\\android\\support\\v7\\appcompat\\res\\values-uk ['strings.xml']\n",
        "d:\\android\\android-sdk\\extras\\android\\support\\v7\\appcompat\\res\\values-ur-rPK ['strings.xml']\n",
        "d:\\android\\android-sdk\\extras\\android\\support\\v7\\appcompat\\res\\values-uz-rUZ ['strings.xml']\n",
        "d:\\android\\android-sdk\\extras\\android\\support\\v7\\appcompat\\res\\values-v11 ['styles_base.xml', 'styles_base_text.xml', 'themes_base.xml']\n",
        "d:\\android\\android-sdk\\extras\\android\\support\\v7\\appcompat\\res\\values-v14 ['themes_base.xml']\n",
        "d:\\android\\android-sdk\\extras\\android\\support\\v7\\appcompat\\res\\values-v17 ['styles_rtl.xml']\n",
        "d:\\android\\android-sdk\\extras\\android\\support\\v7\\appcompat\\res\\values-v21"
       ]
      },
      {
       "output_type": "stream",
       "stream": "stdout",
       "text": [
        " ['styles_base.xml', 'styles_base_text.xml', 'themes_base.xml']\n",
        "d:\\android\\android-sdk\\extras\\android\\support\\v7\\appcompat\\res\\values-vi ['strings.xml']\n",
        "d:\\android\\android-sdk\\extras\\android\\support\\v7\\appcompat\\res\\values-w360dp ['dimens.xml']\n",
        "d:\\android\\android-sdk\\extras\\android\\support\\v7\\appcompat\\res\\values-w480dp ['bools.xml', 'config.xml']\n",
        "d:\\android\\android-sdk\\extras\\android\\support\\v7\\appcompat\\res\\values-w500dp ['dimens.xml']\n",
        "d:\\android\\android-sdk\\extras\\android\\support\\v7\\appcompat\\res\\values-w600dp ['dimens.xml']\n",
        "d:\\android\\android-sdk\\extras\\android\\support\\v7\\appcompat\\res\\values-w720dp ['bools.xml']\n",
        "d:\\android\\android-sdk\\extras\\android\\support\\v7\\appcompat\\res\\values-xlarge ['bools.xml', 'dimens.xml']\n",
        "d:\\android\\android-sdk\\extras\\android\\support\\v7\\appcompat\\res\\values-xlarge-land ['dimens.xml']\n",
        "d:\\android\\android-sdk\\extras\\android\\support\\v7\\appcompat\\res\\values-zh-rCN ['strings.xml']\n",
        "d:\\android\\android-sdk\\extras\\android\\support\\v7\\appcompat\\res\\values-zh-rHK ['strings.xml']\n",
        "d:\\android\\android-sdk\\extras\\android\\support\\v7\\appcompat\\res\\values-zh-rTW ['strings.xml']\n",
        "d:\\android\\android-sdk\\extras\\android\\support\\v7\\appcompat\\res\\values-zu ['strings.xml']\n",
        "d:\\android\\android-sdk\\extras\\android\\support\\v7\\appcompat\\src ['.readme']\n",
        "d:\\android\\android-sdk\\extras\\android\\support\\v7\\cardview ['AndroidManifest.xml']\n",
        "d:\\android\\android-sdk\\extras\\android\\support\\v7\\cardview\\libs ['android-support-v7-cardview.jar']\n",
        "d:\\android\\android-sdk\\extras\\android\\support\\v7\\cardview\\res []\n",
        "d:\\android\\android-sdk\\extras\\android\\support\\v7\\cardview\\res\\values ['attrs.xml', 'colors.xml', 'dimens.xml', 'styles.xml']\n",
        "d:\\android\\android-sdk\\extras\\android\\support\\v7\\cardview\\src ['.readme']\n",
        "d:\\android\\android-sdk\\extras\\android\\support\\v7\\gridlayout ['.classpath', '.project', 'AndroidManifest.xml', 'project.properties', 'README.txt']\n",
        "d:\\android\\android-sdk\\extras\\android\\support\\v7\\gridlayout\\libs ['android-support-v7-gridlayout.jar']\n",
        "d:\\android\\android-sdk\\extras\\android\\support\\v7\\gridlayout\\res []\n",
        "d:\\android\\android-sdk\\extras\\android\\support\\v7\\gridlayout\\res\\values ['attrs.xml', 'dimens.xml']\n",
        "d:\\android\\android-sdk\\extras\\android\\support\\v7\\gridlayout\\src ['.readme']\n",
        "d:\\android\\android-sdk\\extras\\android\\support\\v7\\mediarouter ['.classpath', '.project', 'AndroidManifest.xml', 'project.properties', 'README.txt']\n",
        "d:\\android\\android-sdk\\extras\\android\\support\\v7\\mediarouter\\libs ['android-support-v7-mediarouter.jar']\n",
        "d:\\android\\android-sdk\\extras\\android\\support\\v7\\mediarouter\\res"
       ]
      },
      {
       "output_type": "stream",
       "stream": "stdout",
       "text": [
        " []\n",
        "d:\\android\\android-sdk\\extras\\android\\support\\v7\\mediarouter\\res\\drawable ['mr_ic_media_route_connecting_holo_dark.xml', 'mr_ic_media_route_connecting_holo_light.xml', 'mr_ic_media_route_holo_dark.xml', 'mr_ic_media_route_holo_light.xml']\n",
        "d:\\android\\android-sdk\\extras\\android\\support\\v7\\mediarouter\\res\\drawable-hdpi ['mr_ic_audio_vol.png', 'mr_ic_media_route_disabled_holo_dark.png', 'mr_ic_media_route_disabled_holo_light.png', 'mr_ic_media_route_off_holo_dark.png', 'mr_ic_media_route_off_holo_light.png', 'mr_ic_media_route_on_0_holo_dark.png', 'mr_ic_media_route_on_0_holo_light.png', 'mr_ic_media_route_on_1_holo_dark.png', 'mr_ic_media_route_on_1_holo_light.png', 'mr_ic_media_route_on_2_holo_dark.png', 'mr_ic_media_route_on_2_holo_light.png', 'mr_ic_media_route_on_holo_dark.png', 'mr_ic_media_route_on_holo_light.png']\n",
        "d:\\android\\android-sdk\\extras\\android\\support\\v7\\mediarouter\\res\\drawable-mdpi ['mr_ic_audio_vol.png', 'mr_ic_media_route_disabled_holo_dark.png', 'mr_ic_media_route_disabled_holo_light.png', 'mr_ic_media_route_off_holo_dark.png', 'mr_ic_media_route_off_holo_light.png', 'mr_ic_media_route_on_0_holo_dark.png', 'mr_ic_media_route_on_0_holo_light.png', 'mr_ic_media_route_on_1_holo_dark.png', 'mr_ic_media_route_on_1_holo_light.png', 'mr_ic_media_route_on_2_holo_dark.png', 'mr_ic_media_route_on_2_holo_light.png', 'mr_ic_media_route_on_holo_dark.png', 'mr_ic_media_route_on_holo_light.png']\n",
        "d:\\android\\android-sdk\\extras\\android\\support\\v7\\mediarouter\\res\\drawable-xhdpi ['mr_ic_audio_vol.png', 'mr_ic_media_route_disabled_holo_dark.png', 'mr_ic_media_route_disabled_holo_light.png', 'mr_ic_media_route_off_holo_dark.png', 'mr_ic_media_route_off_holo_light.png', 'mr_ic_media_route_on_0_holo_dark.png', 'mr_ic_media_route_on_0_holo_light.png', 'mr_ic_media_route_on_1_holo_dark.png', 'mr_ic_media_route_on_1_holo_light.png', 'mr_ic_media_route_on_2_holo_dark.png', 'mr_ic_media_route_on_2_holo_light.png', 'mr_ic_media_route_on_holo_dark.png', 'mr_ic_media_route_on_holo_light.png']\n",
        "d:\\android\\android-sdk\\extras\\android\\support\\v7\\mediarouter\\res\\drawable-xxhdpi ['mr_ic_audio_vol.png', 'mr_ic_media_route_disabled_holo_dark.png', 'mr_ic_media_route_disabled_holo_light.png', 'mr_ic_media_route_off_holo_dark.png', 'mr_ic_media_route_off_holo_light.png', 'mr_ic_media_route_on_0_holo_dark.png', 'mr_ic_media_route_on_0_holo_light.png', 'mr_ic_media_route_on_1_holo_dark.png', 'mr_ic_media_route_on_1_holo_light.png', 'mr_ic_media_route_on_2_holo_dark.png', 'mr_ic_media_route_on_2_holo_light.png', 'mr_ic_media_route_on_holo_dark.png', 'mr_ic_media_route_on_holo_light.png']\n",
        "d:\\android\\android-sdk\\extras\\android\\support\\v7\\mediarouter\\res\\layout ['mr_media_route_chooser_dialog.xml', 'mr_media_route_controller_dialog.xml', 'mr_media_route_list_item.xml']\n",
        "d:\\android\\android-sdk\\extras\\android\\support\\v7\\mediarouter\\res\\layout-v11 ['mr_media_route_controller_dialog.xml']\n",
        "d:\\android\\android-sdk\\extras\\android\\support\\v7\\mediarouter\\res\\layout-v17 ['mr_media_route_list_item.xml']\n",
        "d:\\android\\android-sdk\\extras\\android\\support\\v7\\mediarouter\\res\\values ['attrs.xml', 'strings.xml', 'styles.xml', 'themes.xml']\n",
        "d:\\android\\android-sdk\\extras\\android\\support\\v7\\mediarouter\\res\\values-af ['strings.xml']\n",
        "d:\\android\\android-sdk\\extras\\android\\support\\v7\\mediarouter\\res\\values-am ['strings.xml']\n",
        "d:\\android\\android-sdk\\extras\\android\\support\\v7\\mediarouter\\res\\values-ar ['strings.xml']\n",
        "d:\\android\\android-sdk\\extras\\android\\support\\v7\\mediarouter\\res\\values-bg ['strings.xml']\n",
        "d:\\android\\android-sdk\\extras\\android\\support\\v7\\mediarouter\\res\\values-bn-rBD ['strings.xml']\n",
        "d:\\android\\android-sdk\\extras\\android\\support\\v7\\mediarouter\\res\\values-ca ['strings.xml']\n",
        "d:\\android\\android-sdk\\extras\\android\\support\\v7\\mediarouter\\res\\values-cs ['strings.xml']\n",
        "d:\\android\\android-sdk\\extras\\android\\support\\v7\\mediarouter\\res\\values-da ['strings.xml']\n",
        "d:\\android\\android-sdk\\extras\\android\\support\\v7\\mediarouter\\res\\values-de ['strings.xml']\n",
        "d:\\android\\android-sdk\\extras\\android\\support\\v7\\mediarouter\\res\\values-el ['strings.xml']\n",
        "d:\\android\\android-sdk\\extras\\android\\support\\v7\\mediarouter\\res\\values-en-rGB ['strings.xml']\n",
        "d:\\android\\android-sdk\\extras\\android\\support\\v7\\mediarouter\\res\\values-en-rIN ['strings.xml']\n",
        "d:\\android\\android-sdk\\extras\\android\\support\\v7\\mediarouter\\res\\values-es ['strings.xml']\n",
        "d:\\android\\android-sdk\\extras\\android\\support\\v7\\mediarouter\\res\\values-es-rUS ['strings.xml']\n",
        "d:\\android\\android-sdk\\extras\\android\\support\\v7\\mediarouter\\res\\values-et-rEE ['strings.xml']\n",
        "d:\\android\\android-sdk\\extras\\android\\support\\v7\\mediarouter\\res\\values-eu-rES ['strings.xml']\n",
        "d:\\android\\android-sdk\\extras\\android\\support\\v7\\mediarouter\\res\\values-fa ['strings.xml']\n",
        "d:\\android\\android-sdk\\extras\\android\\support\\v7\\mediarouter\\res\\values-fi ['strings.xml']\n",
        "d:\\android\\android-sdk\\extras\\android\\support\\v7\\mediarouter\\res\\values-fr ['strings.xml']\n",
        "d:\\android\\android-sdk\\extras\\android\\support\\v7\\mediarouter\\res\\values-fr-rCA ['strings.xml']\n",
        "d:\\android\\android-sdk\\extras\\android\\support\\v7\\mediarouter\\res\\values-gl-rES ['strings.xml']\n",
        "d:\\android\\android-sdk\\extras\\android\\support\\v7\\mediarouter\\res\\values-hi ['strings.xml']\n",
        "d:\\android\\android-sdk\\extras\\android\\support\\v7\\mediarouter\\res\\values-hr ['strings.xml']\n",
        "d:\\android\\android-sdk\\extras\\android\\support\\v7\\mediarouter\\res\\values-hu ['strings.xml']\n",
        "d:\\android\\android-sdk\\extras\\android\\support\\v7\\mediarouter\\res\\values-hy-rAM ['strings.xml']\n",
        "d:\\android\\android-sdk\\extras\\android\\support\\v7\\mediarouter\\res\\values-in ['strings.xml']\n",
        "d:\\android\\android-sdk\\extras\\android\\support\\v7\\mediarouter\\res\\values-is-rIS ['strings.xml']\n",
        "d:\\android\\android-sdk\\extras\\android\\support\\v7\\mediarouter\\res\\values-it ['strings.xml']\n",
        "d:\\android\\android-sdk\\extras\\android\\support\\v7\\mediarouter\\res\\values-iw ['strings.xml']\n",
        "d:\\android\\android-sdk\\extras\\android\\support\\v7\\mediarouter\\res\\values-ja ['strings.xml']\n",
        "d:\\android\\android-sdk\\extras\\android\\support\\v7\\mediarouter\\res\\values-ka-rGE ['strings.xml']\n",
        "d:\\android\\android-sdk\\extras\\android\\support\\v7\\mediarouter\\res\\values-kk-rKZ ['strings.xml']\n",
        "d:\\android\\android-sdk\\extras\\android\\support\\v7\\mediarouter\\res\\values-km-rKH ['strings.xml']\n",
        "d:\\android\\android-sdk\\extras\\android\\support\\v7\\mediarouter\\res\\values-kn-rIN ['strings.xml']\n",
        "d:\\android\\android-sdk\\extras\\android\\support\\v7\\mediarouter\\res\\values-ko ['strings.xml']\n",
        "d:\\android\\android-sdk\\extras\\android\\support\\v7\\mediarouter\\res\\values-ky-rKG ['strings.xml']\n",
        "d:\\android\\android-sdk\\extras\\android\\support\\v7\\mediarouter\\res\\values-lo-rLA ['strings.xml']\n",
        "d:\\android\\android-sdk\\extras\\android\\support\\v7\\mediarouter\\res\\values-lt ['strings.xml']\n",
        "d:\\android\\android-sdk\\extras\\android\\support\\v7\\mediarouter\\res\\values-lv ['strings.xml']\n",
        "d:\\android\\android-sdk\\extras\\android\\support\\v7\\mediarouter\\res\\values-mk-rMK ['strings.xml']\n",
        "d:\\android\\android-sdk\\extras\\android\\support\\v7\\mediarouter\\res\\values-ml-rIN ['strings.xml']\n",
        "d:\\android\\android-sdk\\extras\\android\\support\\v7\\mediarouter\\res\\values-mn-rMN ['strings.xml']\n",
        "d:\\android\\android-sdk\\extras\\android\\support\\v7\\mediarouter\\res\\values-mr-rIN ['strings.xml']\n",
        "d:\\android\\android-sdk\\extras\\android\\support\\v7\\mediarouter\\res\\values-ms-rMY ['strings.xml']\n",
        "d:\\android\\android-sdk\\extras\\android\\support\\v7\\mediarouter\\res\\values-my-rMM ['strings.xml']\n",
        "d:\\android\\android-sdk\\extras\\android\\support\\v7\\mediarouter\\res\\values-nb ['strings.xml']\n",
        "d:\\android\\android-sdk\\extras\\android\\support\\v7\\mediarouter\\res\\values-ne-rNP ['strings.xml']\n",
        "d:\\android\\android-sdk\\extras\\android\\support\\v7\\mediarouter\\res\\values-nl ['strings.xml']\n",
        "d:\\android\\android-sdk\\extras\\android\\support\\v7\\mediarouter\\res\\values-pl ['strings.xml']\n",
        "d:\\android\\android-sdk\\extras\\android\\support\\v7\\mediarouter\\res\\values-pt ['strings.xml']\n",
        "d:\\android\\android-sdk\\extras\\android\\support\\v7\\mediarouter\\res\\values-pt-rPT ['strings.xml']\n",
        "d:\\android\\android-sdk\\extras\\android\\support\\v7\\mediarouter\\res\\values-ro ['strings.xml']\n",
        "d:\\android\\android-sdk\\extras\\android\\support\\v7\\mediarouter\\res\\values-ru ['strings.xml']\n",
        "d:\\android\\android-sdk\\extras\\android\\support\\v7\\mediarouter\\res\\values-si-rLK ['strings.xml']\n",
        "d:\\android\\android-sdk\\extras\\android\\support\\v7\\mediarouter\\res\\values-sk ['strings.xml']\n",
        "d:\\android\\android-sdk\\extras\\android\\support\\v7\\mediarouter\\res\\values-sl"
       ]
      },
      {
       "output_type": "stream",
       "stream": "stdout",
       "text": [
        " ['strings.xml']\n",
        "d:\\android\\android-sdk\\extras\\android\\support\\v7\\mediarouter\\res\\values-sr ['strings.xml']\n",
        "d:\\android\\android-sdk\\extras\\android\\support\\v7\\mediarouter\\res\\values-sv ['strings.xml']\n",
        "d:\\android\\android-sdk\\extras\\android\\support\\v7\\mediarouter\\res\\values-sw ['strings.xml']\n",
        "d:\\android\\android-sdk\\extras\\android\\support\\v7\\mediarouter\\res\\values-ta-rIN ['strings.xml']\n",
        "d:\\android\\android-sdk\\extras\\android\\support\\v7\\mediarouter\\res\\values-te-rIN ['strings.xml']\n",
        "d:\\android\\android-sdk\\extras\\android\\support\\v7\\mediarouter\\res\\values-th ['strings.xml']\n",
        "d:\\android\\android-sdk\\extras\\android\\support\\v7\\mediarouter\\res\\values-tl ['strings.xml']\n",
        "d:\\android\\android-sdk\\extras\\android\\support\\v7\\mediarouter\\res\\values-tr ['strings.xml']\n",
        "d:\\android\\android-sdk\\extras\\android\\support\\v7\\mediarouter\\res\\values-uk ['strings.xml']\n",
        "d:\\android\\android-sdk\\extras\\android\\support\\v7\\mediarouter\\res\\values-ur-rPK ['strings.xml']\n",
        "d:\\android\\android-sdk\\extras\\android\\support\\v7\\mediarouter\\res\\values-uz-rUZ ['strings.xml']\n",
        "d:\\android\\android-sdk\\extras\\android\\support\\v7\\mediarouter\\res\\values-vi ['strings.xml']\n",
        "d:\\android\\android-sdk\\extras\\android\\support\\v7\\mediarouter\\res\\values-zh-rCN ['strings.xml']\n",
        "d:\\android\\android-sdk\\extras\\android\\support\\v7\\mediarouter\\res\\values-zh-rHK ['strings.xml']\n",
        "d:\\android\\android-sdk\\extras\\android\\support\\v7\\mediarouter\\res\\values-zh-rTW ['strings.xml']\n",
        "d:\\android\\android-sdk\\extras\\android\\support\\v7\\mediarouter\\res\\values-zu ['strings.xml']\n",
        "d:\\android\\android-sdk\\extras\\android\\support\\v7\\mediarouter\\src ['.readme']\n",
        "d:\\android\\android-sdk\\extras\\android\\support\\v7\\palette ['.classpath', '.project', 'AndroidManifest.xml', 'project.properties', 'README.txt']\n",
        "d:\\android\\android-sdk\\extras\\android\\support\\v7\\palette\\libs ['android-support-v7-palette.jar']\n",
        "d:\\android\\android-sdk\\extras\\android\\support\\v7\\recyclerview ['AndroidManifest.xml', 'README.txt']\n",
        "d:\\android\\android-sdk\\extras\\android\\support\\v7\\recyclerview\\libs ['android-support-v7-recyclerview.jar']\n",
        "d:\\android\\android-sdk\\extras\\google"
       ]
      },
      {
       "output_type": "stream",
       "stream": "stdout",
       "text": [
        " []\n",
        "d:\\android\\android-sdk\\extras\\google\\google_play_services ['source.properties']\n",
        "d:\\android\\android-sdk\\extras\\google\\google_play_services\\docs"
       ]
      },
      {
       "output_type": "stream",
       "stream": "stdout",
       "text": [
        " ['navtree_data.js', 'timestamp.js']\n",
        "d:\\android\\android-sdk\\extras\\google\\google_play_services\\docs\\assets ['android-developer-docs.css', 'customizations.css', 'customizations.js', 'doclava-developer-core.css', 'doclava-developer-docs.css', 'doclava-developer-docs.js', 'doclava-developer-reference.js', 'GPL-LICENSE.txt', 'jquery-history.js', 'jquery-resizable.min.js', 'LICENSE.txt', 'prettify.js', 'search_autocomplete.js', 'style.css', 'triangle-none.gif']\n",
        "d:\\android\\android-sdk\\extras\\google\\google_play_services\\docs\\assets\\css ['default.css', 'fullscreen.css']\n",
        "d:\\android\\android-sdk\\extras\\google\\google_play_services\\docs\\assets\\design ['default.js']\n",
        "d:\\android\\android-sdk\\extras\\google\\google_play_services\\docs\\assets\\images"
       ]
      },
      {
       "output_type": "stream",
       "stream": "stdout",
       "text": [
        " ['android-developers-logo.png', 'android.png', 'android_wrench.png', 'arrow-left-develop.png', 'arrow-left.png', 'arrow-right-develop.png', 'arrow-right.png', 'arrows-up-down.png', 'arrow_bluelink_down.png', 'arrow_bluelink_up.png', 'arrow_left_off.jpg', 'arrow_left_on.jpg', 'arrow_right_off.jpg', 'arrow_right_on.jpg', 'bg_community_leftDiv.jpg', 'bg_fade.jpg', 'bg_gradient.jpg', 'bg_images_sprite.png', 'bg_logo.png', 'blog-default.png', 'body-gradient-tab.png', 'body-gradient.png', 'breadcrumb.png', 'close.png', 'dac_logo.png', 'dac_logo@2x.png', 'developers-logo.png', 'file-generic.png', 'file-image.png', 'file-java.png', 'file-manifest.png', 'file-xml.png', 'folder.png', 'fullscreen.png', 'grad-rule-qv.png', 'hr_gray_main.jpg', 'hr_gray_side.jpg', 'icon_contribute.jpg', 'icon_design.png', 'icon_download.jpg', 'icon_download2.jpg', 'icon_guidelines_logo.png', 'icon_market.jpg', 'icon_more.png', 'icon_play.png', 'icon_robot.jpg', 'icon_search.png', 'icon_world.jpg', 'left_off.jpg', 'left_on.jpg', 'link-out.png', 'locale.png', 'logo_breadcrumbz.jpg', 'more_bottom.png', 'more_check.png', 'more_mid.png', 'more_top.png', 'open_source.png', 'preliminary.png', 'preview.png', 'quicknav_arrow.png', 'quicknav_btn_bg.png', 'resizable-e.gif', 'resizable-e2.gif', 'resizable-eg.gif', 'resizable-s.gif', 'resizable-s2.gif', 'resizable-s2.png', 'resizable-sg.gif', 'resource-article.png', 'resource-big-article.png', 'resource-big-sample.png', 'resource-big-tutorial.png', 'resource-big-video.png', 'resource-card-default-android.jpg', 'resource-sample.png', 'resource-tutorial.png', 'resource-video.png', 'right_off.jpg', 'right_on.jpg', 'sidenav-rule.png', 'slide_1.jpg', 'slide_2.jpg', 'slide_3.jpg', 'slide_large_1.jpg', 'slide_large_2.jpg', 'slide_large_3.jpg', 'slide_off.jpg', 'slide_on.jpg', 'spacer.gif', 'stack-arrow-right.png', 'triangle-closed-small.png', 'triangle-closed.png', 'triangle-opened-small.png', 'triangle-opened.png', 'uiguidelines1.png', 'video-droid.png']\n",
        "d:\\android\\android-sdk\\extras\\google\\google_play_services\\docs\\assets\\images\\home ['adc2_l.png', 'adc2_s.png', 'android_adc.png', 'Android_Dev_Lab_l.png', 'bg_home_announcement.png', 'bg_home_bottom.jpg', 'bg_home_carousel.png', 'bg_home_carousel_board.png', 'bg_home_carousel_wheel.png', 'carousel_buttons_sprite.png', 'devphone-large.png', 'devphone-small.png', 'donut-android.png', 'eclair-android.png', 'froyo-android.png', 'gdc-logo.png', 'GDC2011.png', 'gingerdroid.png', 'google-plus-small.png', 'google-plus.png', 'GTV_icon_large.png', 'GTV_icon_small.png', 'honeycomb-android.png', 'icon-about.png', 'icon-design.png', 'icon-develop.png', 'icon-distribute.png', 'ics-android.png', 'io-large.png', 'IO-logo-2011.png', 'IO-logo.png', 'io-small.png', 'maps-large.png', 'maps-small.png', 'market-large.png', 'market-small.png', 'sdk-large.png', 'sdk-small.png']\n",
        "d:\\android\\android-sdk\\extras\\google\\google_play_services\\docs\\assets\\images\\styles ['callout.png', 'device_galaxynexus_blank_land_span13.png', 'device_galaxynexus_blank_land_span8.png', 'device_galaxynexus_blank_port_span5.png', 'device_galaxynexus_blank_port_span9.png', 'device_nexus4_blank_port_432.png', 'device_nexus5_blank_land_span13.png', 'device_nexus5_blank_port_span5.png', 'device_wear_square.png', 'device_wear_square_small.png', 'disclosure_down.png', 'disclosure_left.png', 'disclosure_right.png', 'disclosure_up.png', 'gototop.png', 'ico_action.png', 'ico_good.png', 'ico_movie_inline.png', 'ico_phone_tablet.png', 'ico_use.png', 'ico_web.png', 'ico_wrong.png', 'notice-designers-video.png', 'notice-designers-video@2x.png', 'notice-designers.png', 'notice-designers@2x.png', 'notice-developers-video.png', 'notice-developers-video@2x.png', 'notice-developers.png', 'notice-developers@2x.png', 'open_new_page.png']\n",
        "d:\\android\\android-sdk\\extras\\google\\google_play_services\\docs\\assets\\js ['android_3p-bundle.js', 'docs.js', 'prettify.js']\n",
        "d:\\android\\android-sdk\\extras\\google\\google_play_services\\docs\\reference ['classes.html', 'hierarchy.html', 'index.html', 'lists.js', 'package-list', 'packages.html']\n",
        "d:\\android\\android-sdk\\extras\\google\\google_play_services\\docs\\reference\\com []\n",
        "d:\\android\\android-sdk\\extras\\google\\google_play_services\\docs\\reference\\com\\google []\n",
        "d:\\android\\android-sdk\\extras\\google\\google_play_services\\docs\\reference\\com\\google\\android []\n",
        "d:\\android\\android-sdk\\extras\\google\\google_play_services\\docs\\reference\\com\\google\\android\\gms"
       ]
      },
      {
       "output_type": "stream",
       "stream": "stdout",
       "text": [
        " ['package-summary.html', 'R.attr.html', 'R.color.html', 'R.drawable.html', 'R.html', 'R.id.html', 'R.integer.html', 'R.string.html', 'R.style.html', 'R.styleable.html']\n",
        "d:\\android\\android-sdk\\extras\\google\\google_play_services\\docs\\reference\\com\\google\\android\\gms\\actions ['package-summary.html', 'ReserveIntents.html', 'SearchIntents.html']\n",
        "d:\\android\\android-sdk\\extras\\google\\google_play_services\\docs\\reference\\com\\google\\android\\gms\\ads ['AdListener.html', 'AdRequest.Builder.html', 'AdRequest.html', 'AdSize.html', 'AdView.html', 'InterstitialAd.html', 'package-summary.html']\n",
        "d:\\android\\android-sdk\\extras\\google\\google_play_services\\docs\\reference\\com\\google\\android\\gms\\ads\\doubleclick ['AppEventListener.html', 'package-summary.html', 'PublisherAdRequest.Builder.html', 'PublisherAdRequest.html', 'PublisherAdView.html', 'PublisherInterstitialAd.html']\n",
        "d:\\android\\android-sdk\\extras\\google\\google_play_services\\docs\\reference\\com\\google\\android\\gms\\ads\\identifier ['AdvertisingIdClient.html', 'AdvertisingIdClient.Info.html', 'package-summary.html']\n",
        "d:\\android\\android-sdk\\extras\\google\\google_play_services\\docs\\reference\\com\\google\\android\\gms\\ads\\mediation ['MediationAdapter.html', 'MediationAdRequest.html', 'MediationBannerAdapter.html', 'MediationBannerListener.html', 'MediationInterstitialAdapter.html', 'MediationInterstitialListener.html', 'NetworkExtras.html', 'package-summary.html']\n",
        "d:\\android\\android-sdk\\extras\\google\\google_play_services\\docs\\reference\\com\\google\\android\\gms\\ads\\mediation\\admob ['AdMobExtras.html', 'package-summary.html']\n",
        "d:\\android\\android-sdk\\extras\\google\\google_play_services\\docs\\reference\\com\\google\\android\\gms\\ads\\mediation\\customevent ['CustomEvent.html', 'CustomEventBanner.html', 'CustomEventBannerListener.html', 'CustomEventExtras.html', 'CustomEventInterstitial.html', 'CustomEventInterstitialListener.html', 'CustomEventListener.html', 'package-summary.html']\n",
        "d:\\android\\android-sdk\\extras\\google\\google_play_services\\docs\\reference\\com\\google\\android\\gms\\ads\\purchase ['InAppPurchase.html', 'InAppPurchaseListener.html', 'InAppPurchaseResult.html', 'package-summary.html', 'PlayStorePurchaseListener.html']\n",
        "d:\\android\\android-sdk\\extras\\google\\google_play_services\\docs\\reference\\com\\google\\android\\gms\\ads\\search ['package-summary.html', 'SearchAdRequest.Builder.html', 'SearchAdRequest.html', 'SearchAdView.html']\n",
        "d:\\android\\android-sdk\\extras\\google\\google_play_services\\docs\\reference\\com\\google\\android\\gms\\analytics"
       ]
      },
      {
       "output_type": "stream",
       "stream": "stdout",
       "text": [
        " ['CampaignTrackingReceiver.html', 'CampaignTrackingService.html', 'ExceptionParser.html', 'ExceptionReporter.html', 'GoogleAnalytics.html', 'HitBuilders.AppViewBuilder.html', 'HitBuilders.EventBuilder.html', 'HitBuilders.ExceptionBuilder.html', 'HitBuilders.HitBuilder.html', 'HitBuilders.html', 'HitBuilders.ItemBuilder.html', 'HitBuilders.ScreenViewBuilder.html', 'HitBuilders.SocialBuilder.html', 'HitBuilders.TimingBuilder.html', 'HitBuilders.TransactionBuilder.html', 'Logger.html', 'Logger.LogLevel.html', 'package-summary.html', 'StandardExceptionParser.html', 'Tracker.html']\n",
        "d:\\android\\android-sdk\\extras\\google\\google_play_services\\docs\\reference\\com\\google\\android\\gms\\analytics\\ecommerce ['package-summary.html', 'Product.html', 'ProductAction.html', 'Promotion.html']\n",
        "d:\\android\\android-sdk\\extras\\google\\google_play_services\\docs\\reference\\com\\google\\android\\gms\\appindexing ['AppIndex.html', 'AppIndexApi.AppIndexingLink.html', 'AppIndexApi.html', 'package-summary.html']\n",
        "d:\\android\\android-sdk\\extras\\google\\google_play_services\\docs\\reference\\com\\google\\android\\gms\\appstate ['AppState.html', 'AppStateBuffer.html', 'AppStateManager.html', 'AppStateManager.StateConflictResult.html', 'AppStateManager.StateDeletedResult.html', 'AppStateManager.StateListResult.html', 'AppStateManager.StateLoadedResult.html', 'AppStateManager.StateResult.html', 'AppStateStatusCodes.html', 'package-summary.html']\n",
        "d:\\android\\android-sdk\\extras\\google\\google_play_services\\docs\\reference\\com\\google\\android\\gms\\auth ['AccountChangeEvent.html', 'AccountChangeEventsRequest.html', 'AccountChangeEventsResponse.html', 'GoogleAuthException.html', 'GoogleAuthUtil.html', 'GooglePlayServicesAvailabilityException.html', 'package-summary.html', 'UserRecoverableAuthException.html', 'UserRecoverableNotifiedException.html']\n",
        "d:\\android\\android-sdk\\extras\\google\\google_play_services\\docs\\reference\\com\\google\\android\\gms\\auth\\api ['GoogleAuthApiClientImpl.html', 'GoogleAuthApiException.html', 'GoogleAuthApiRequest.html', 'GoogleAuthApiResponse.html', 'IGoogleAuthApiCallbacks.html', 'IGoogleAuthApiCallbacks.Stub.html', 'IGoogleAuthService.html', 'IGoogleAuthService.Stub.html', 'package-summary.html']\n",
        "d:\\android\\android-sdk\\extras\\google\\google_play_services\\docs\\reference\\com\\google\\android\\gms\\cast"
       ]
      },
      {
       "output_type": "stream",
       "stream": "stdout",
       "text": [
        " ['ApplicationMetadata.html', 'Cast.ApplicationConnectionResult.html', 'Cast.CastApi.html', 'Cast.CastOptions.Builder.html', 'Cast.CastOptions.html', 'Cast.html', 'Cast.Listener.html', 'Cast.MessageReceivedCallback.html', 'CastDevice.html', 'CastMediaControlIntent.html', 'CastStatusCodes.html', 'LaunchOptions.Builder.html', 'LaunchOptions.html', 'MediaInfo.Builder.html', 'MediaInfo.html', 'MediaMetadata.html', 'MediaStatus.html', 'MediaTrack.Builder.html', 'MediaTrack.html', 'package-summary.html', 'RemoteMediaPlayer.html', 'RemoteMediaPlayer.MediaChannelResult.html', 'RemoteMediaPlayer.OnMetadataUpdatedListener.html', 'RemoteMediaPlayer.OnStatusUpdatedListener.html', 'TextTrackStyle.html']\n",
        "d:\\android\\android-sdk\\extras\\google\\google_play_services\\docs\\reference\\com\\google\\android\\gms\\common ['AccountPicker.html', 'ConnectionResult.html', 'ErrorDialogFragment.html', 'GooglePlayServicesClient.ConnectionCallbacks.html', 'GooglePlayServicesClient.html', 'GooglePlayServicesClient.OnConnectionFailedListener.html', 'GooglePlayServicesNotAvailableException.html', 'GooglePlayServicesRepairableException.html', 'GooglePlayServicesUtil.html', 'package-summary.html', 'Scopes.html', 'SignInButton.html', 'SupportErrorDialogFragment.html', 'UserRecoverableException.html']\n",
        "d:\\android\\android-sdk\\extras\\google\\google_play_services\\docs\\reference\\com\\google\\android\\gms\\common\\annotation ['KeepName.html', 'package-summary.html']\n",
        "d:\\android\\android-sdk\\extras\\google\\google_play_services\\docs\\reference\\com\\google\\android\\gms\\common\\api ['Api.ApiOptions.HasOptions.html', 'Api.ApiOptions.html', 'Api.ApiOptions.NoOptions.html', 'Api.ApiOptions.NotRequiredOptions.html', 'Api.ApiOptions.Optional.html', 'Api.html', 'Batch.Builder.html', 'Batch.html', 'BatchResult.html', 'BatchResultToken.html', 'CommonStatusCodes.html', 'GoogleApiClient.Builder.html', 'GoogleApiClient.ConnectionCallbacks.html', 'GoogleApiClient.html', 'GoogleApiClient.OnConnectionFailedListener.html', 'package-summary.html', 'PendingResult.html', 'Releasable.html', 'Result.html', 'ResultCallback.html', 'Scope.html', 'Status.html']\n",
        "d:\\android\\android-sdk\\extras\\google\\google_play_services\\docs\\reference\\com\\google\\android\\gms\\common\\data ['DataBuffer.html', 'DataBufferUtils.html', 'Freezable.html', 'FreezableUtils.html', 'package-summary.html']\n",
        "d:\\android\\android-sdk\\extras\\google\\google_play_services\\docs\\reference\\com\\google\\android\\gms\\common\\images ['ImageManager.html', 'ImageManager.OnImageLoadedListener.html', 'package-summary.html', 'WebImage.html']\n",
        "d:\\android\\android-sdk\\extras\\google\\google_play_services\\docs\\reference\\com\\google\\android\\gms\\drive"
       ]
      },
      {
       "output_type": "stream",
       "stream": "stdout",
       "text": [
        " ['Contents.html', 'CreateFileActivityBuilder.html', 'Drive.html', 'DriveApi.ContentsResult.html', 'DriveApi.DriveContentsResult.html', 'DriveApi.DriveIdResult.html', 'DriveApi.html', 'DriveApi.MetadataBufferResult.html', 'DriveContents.html', 'DriveFile.DownloadProgressListener.html', 'DriveFile.html', 'DriveFolder.DriveFileResult.html', 'DriveFolder.DriveFolderResult.html', 'DriveFolder.html', 'DriveId.html', 'DriveResource.html', 'DriveResource.MetadataResult.html', 'DriveStatusCodes.html', 'ExecutionOptions.Builder.html', 'ExecutionOptions.html', 'Metadata.html', 'MetadataBuffer.html', 'MetadataChangeSet.Builder.html', 'MetadataChangeSet.html', 'OpenFileActivityBuilder.html', 'package-summary.html']\n",
        "d:\\android\\android-sdk\\extras\\google\\google_play_services\\docs\\reference\\com\\google\\android\\gms\\drive\\events ['ChangeEvent.html', 'ChangeListener.html', 'CompletionEvent.html', 'CompletionListener.html', 'DriveEvent.html', 'DriveEvent.Listener.html', 'DriveEventService.html', 'package-summary.html', 'ResourceEvent.html']\n",
        "d:\\android\\android-sdk\\extras\\google\\google_play_services\\docs\\reference\\com\\google\\android\\gms\\drive\\metadata ['MetadataField.html', 'package-summary.html', 'SearchableCollectionMetadataField.html', 'SearchableMetadataField.html', 'SearchableOrderedMetadataField.html', 'SortableMetadataField.html']\n",
        "d:\\android\\android-sdk\\extras\\google\\google_play_services\\docs\\reference\\com\\google\\android\\gms\\drive\\query ['Filter.html', 'Filters.html', 'package-summary.html', 'Query.Builder.html', 'Query.html', 'SearchableField.html', 'SortableField.html', 'SortOrder.Builder.html', 'SortOrder.html']\n",
        "d:\\android\\android-sdk\\extras\\google\\google_play_services\\docs\\reference\\com\\google\\android\\gms\\drive\\widget ['DataBufferAdapter.html', 'package-summary.html']\n",
        "d:\\android\\android-sdk\\extras\\google\\google_play_services\\docs\\reference\\com\\google\\android\\gms\\fitness ['BleApi.html', 'ConfigApi.html', 'Fitness.html', 'FitnessActivities.html', 'FitnessIntents.html', 'FitnessScopes.html', 'FitnessStatusCodes.html', 'HistoryApi.html', 'package-summary.html', 'RecordingApi.html', 'SensorsApi.html', 'SessionsApi.html', 'ViewDataIntentBuilder.html', 'ViewSessionIntentBuilder.html']\n",
        "d:\\android\\android-sdk\\extras\\google\\google_play_services\\docs\\reference\\com\\google\\android\\gms\\fitness\\data ['AggregateDataTypes.html', 'BleDevice.html', 'Bucket.html', 'DataPoint.html', 'DataSet.html', 'DataSource.Builder.html', 'DataSource.html', 'DataType.html', 'DataTypes.html', 'Device.html', 'Field.html', 'Fields.html', 'package-summary.html', 'Session.Builder.html', 'Session.html', 'Subscription.html', 'Value.html']\n",
        "d:\\android\\android-sdk\\extras\\google\\google_play_services\\docs\\reference\\com\\google\\android\\gms\\fitness\\request ['BleScanCallback.html', 'DataDeleteRequest.Builder.html', 'DataDeleteRequest.html', 'DataInsertRequest.Builder.html', 'DataInsertRequest.html', 'DataReadRequest.Builder.html', 'DataReadRequest.html', 'DataSourceListener.html', 'DataSourcesRequest.Builder.html', 'DataSourcesRequest.html', 'DataTypeCreateRequest.Builder.html', 'DataTypeCreateRequest.html', 'package-summary.html', 'SensorRequest.Builder.html', 'SensorRequest.html', 'SessionInsertRequest.Builder.html', 'SessionInsertRequest.html', 'SessionReadRequest.Builder.html', 'SessionReadRequest.html', 'StartBleScanRequest.Builder.html', 'StartBleScanRequest.html', 'UnclaimBleDeviceRequest.html']\n",
        "d:\\android\\android-sdk\\extras\\google\\google_play_services\\docs\\reference\\com\\google\\android\\gms\\fitness\\result"
       ]
      },
      {
       "output_type": "stream",
       "stream": "stdout",
       "text": [
        " ['BleDevicesResult.html', 'DataReadResult.html', 'DataSourcesResult.html', 'DataTypeResult.html', 'ListSubscriptionsResult.html', 'package-summary.html', 'SessionReadResult.html', 'SessionStopResult.html']\n",
        "d:\\android\\android-sdk\\extras\\google\\google_play_services\\docs\\reference\\com\\google\\android\\gms\\fitness\\service ['FitnessSensorService.html', 'FitnessSensorServiceRequest.html', 'package-summary.html', 'SensorEventDispatcher.html']\n",
        "d:\\android\\android-sdk\\extras\\google\\google_play_services\\docs\\reference\\com\\google\\android\\gms\\games ['Game.html', 'GameBuffer.html', 'GameEntity.html', 'Games.GamesOptions.Builder.html', 'Games.GamesOptions.html', 'Games.html', 'GamesActivityResultCodes.html', 'GamesMetadata.html', 'GamesMetadata.LoadGamesResult.html', 'GamesStatusCodes.html', 'Notifications.html', 'package-summary.html', 'PageDirection.html', 'Player.html', 'PlayerBuffer.html', 'PlayerEntity.html', 'PlayerLevel.html', 'PlayerLevelInfo.html', 'Players.html', 'Players.LoadPlayersResult.html', 'Players.LoadProfileSettingsResult.html']\n",
        "d:\\android\\android-sdk\\extras\\google\\google_play_services\\docs\\reference\\com\\google\\android\\gms\\games\\achievement ['Achievement.html', 'AchievementBuffer.html', 'AchievementEntity.html', 'Achievements.html', 'Achievements.LoadAchievementsResult.html', 'Achievements.UpdateAchievementResult.html', 'package-summary.html']\n",
        "d:\\android\\android-sdk\\extras\\google\\google_play_services\\docs\\reference\\com\\google\\android\\gms\\games\\event ['Event.html', 'EventBuffer.html', 'EventEntity.html', 'Events.html', 'Events.LoadEventsResult.html', 'package-summary.html']\n",
        "d:\\android\\android-sdk\\extras\\google\\google_play_services\\docs\\reference\\com\\google\\android\\gms\\games\\leaderboard ['Leaderboard.html', 'LeaderboardBuffer.html', 'Leaderboards.html', 'Leaderboards.LeaderboardMetadataResult.html', 'Leaderboards.LoadPlayerScoreResult.html', 'Leaderboards.LoadScoresResult.html', 'Leaderboards.SubmitScoreResult.html', 'LeaderboardScore.html', 'LeaderboardScoreBuffer.html', 'LeaderboardVariant.html', 'package-summary.html', 'ScoreSubmissionData.html', 'ScoreSubmissionData.Result.html']\n",
        "d:\\android\\android-sdk\\extras\\google\\google_play_services\\docs\\reference\\com\\google\\android\\gms\\games\\multiplayer ['Invitation.html', 'InvitationBuffer.html', 'InvitationEntity.html', 'Invitations.html', 'Invitations.LoadInvitationsResult.html', 'Multiplayer.html', 'OnInvitationReceivedListener.html', 'package-summary.html', 'Participant.html', 'ParticipantBuffer.html', 'ParticipantEntity.html', 'ParticipantResult.html', 'ParticipantUtils.html', 'Participatable.html']\n",
        "d:\\android\\android-sdk\\extras\\google\\google_play_services\\docs\\reference\\com\\google\\android\\gms\\games\\multiplayer\\realtime"
       ]
      },
      {
       "output_type": "stream",
       "stream": "stdout",
       "text": [
        " ['package-summary.html', 'RealTimeMessage.html', 'RealTimeMessageReceivedListener.html', 'RealTimeMultiplayer.html', 'RealTimeMultiplayer.ReliableMessageSentCallback.html', 'RealTimeSocket.html', 'Room.html', 'RoomConfig.Builder.html', 'RoomConfig.html', 'RoomEntity.html', 'RoomStatusUpdateListener.html', 'RoomUpdateListener.html']\n",
        "d:\\android\\android-sdk\\extras\\google\\google_play_services\\docs\\reference\\com\\google\\android\\gms\\games\\multiplayer\\turnbased ['LoadMatchesResponse.html', 'OnTurnBasedMatchUpdateReceivedListener.html', 'package-summary.html', 'TurnBasedMatch.html', 'TurnBasedMatchBuffer.html', 'TurnBasedMatchConfig.Builder.html', 'TurnBasedMatchConfig.html', 'TurnBasedMatchEntity.html', 'TurnBasedMultiplayer.CancelMatchResult.html', 'TurnBasedMultiplayer.html', 'TurnBasedMultiplayer.InitiateMatchResult.html', 'TurnBasedMultiplayer.LeaveMatchResult.html', 'TurnBasedMultiplayer.LoadMatchesResult.html', 'TurnBasedMultiplayer.LoadMatchResult.html', 'TurnBasedMultiplayer.UpdateMatchResult.html']\n",
        "d:\\android\\android-sdk\\extras\\google\\google_play_services\\docs\\reference\\com\\google\\android\\gms\\games\\quest ['Milestone.html', 'MilestoneBuffer.html', 'MilestoneEntity.html', 'package-summary.html', 'Quest.html', 'QuestBuffer.html', 'QuestEntity.html', 'Quests.AcceptQuestResult.html', 'Quests.ClaimMilestoneResult.html', 'Quests.html', 'Quests.LoadQuestsResult.html', 'QuestUpdateListener.html']\n",
        "d:\\android\\android-sdk\\extras\\google\\google_play_services\\docs\\reference\\com\\google\\android\\gms\\games\\request ['GameRequest.html', 'GameRequestBuffer.html', 'GameRequestEntity.html', 'OnRequestReceivedListener.html', 'package-summary.html', 'Requests.html', 'Requests.LoadRequestsResult.html', 'Requests.UpdateRequestsResult.html']\n",
        "d:\\android\\android-sdk\\extras\\google\\google_play_services\\docs\\reference\\com\\google\\android\\gms\\games\\snapshot ['package-summary.html', 'Snapshot.html', 'SnapshotContents.html', 'SnapshotEntity.html', 'SnapshotMetadata.html', 'SnapshotMetadataBuffer.html', 'SnapshotMetadataChange.Builder.html', 'SnapshotMetadataChange.html', 'SnapshotMetadataEntity.html', 'Snapshots.CommitSnapshotResult.html', 'Snapshots.DeleteSnapshotResult.html', 'Snapshots.html', 'Snapshots.LoadSnapshotsResult.html', 'Snapshots.OpenSnapshotResult.html']\n",
        "d:\\android\\android-sdk\\extras\\google\\google_play_services\\docs\\reference\\com\\google\\android\\gms\\gcm ['GoogleCloudMessaging.html', 'package-summary.html', 'Task.html']\n",
        "d:\\android\\android-sdk\\extras\\google\\google_play_services\\docs\\reference\\com\\google\\android\\gms\\identity []\n",
        "d:\\android\\android-sdk\\extras\\google\\google_play_services\\docs\\reference\\com\\google\\android\\gms\\identity\\intents ['Address.AddressOptions.html', 'Address.html', 'AddressConstants.ErrorCodes.html', 'AddressConstants.Extras.html', 'AddressConstants.html', 'AddressConstants.ResultCodes.html', 'AddressConstants.Themes.html', 'package-summary.html', 'UserAddressRequest.Builder.html', 'UserAddressRequest.html']\n",
        "d:\\android\\android-sdk\\extras\\google\\google_play_services\\docs\\reference\\com\\google\\android\\gms\\identity\\intents\\model ['CountrySpecification.html', 'package-summary.html', 'UserAddress.html']\n",
        "d:\\android\\android-sdk\\extras\\google\\google_play_services\\docs\\reference\\com\\google\\android\\gms\\location ['ActivityRecognition.html', 'ActivityRecognitionApi.html', 'ActivityRecognitionClient.html', 'ActivityRecognitionResult.html', 'DetectedActivity.html', 'FusedLocationProviderApi.html', 'Geofence.Builder.html', 'Geofence.html', 'GeofenceStatusCodes.html', 'GeofencingApi.html', 'GeofencingEvent.html', 'LocationClient.html', 'LocationClient.OnAddGeofencesResultListener.html', 'LocationClient.OnRemoveGeofencesResultListener.html', 'LocationListener.html', 'LocationRequest.html', 'LocationServices.html', 'LocationStatusCodes.html', 'package-summary.html']\n",
        "d:\\android\\android-sdk\\extras\\google\\google_play_services\\docs\\reference\\com\\google\\android\\gms\\maps ['CameraUpdate.html', 'CameraUpdateFactory.html', 'GoogleMap.CancelableCallback.html', 'GoogleMap.html', 'GoogleMap.InfoWindowAdapter.html', 'GoogleMap.OnCameraChangeListener.html', 'GoogleMap.OnIndoorStateChangeListener.html', 'GoogleMap.OnInfoWindowClickListener.html', 'GoogleMap.OnMapClickListener.html', 'GoogleMap.OnMapLoadedCallback.html', 'GoogleMap.OnMapLongClickListener.html', 'GoogleMap.OnMarkerClickListener.html', 'GoogleMap.OnMarkerDragListener.html', 'GoogleMap.OnMyLocationButtonClickListener.html', 'GoogleMap.OnMyLocationChangeListener.html', 'GoogleMap.SnapshotReadyCallback.html', 'GoogleMapOptions.html', 'LocationSource.html', 'LocationSource.OnLocationChangedListener.html', 'MapFragment.html', 'MapsInitializer.html', 'MapView.html', 'package-summary.html', 'Projection.html', 'StreetViewPanorama.html', 'StreetViewPanorama.OnStreetViewPanoramaCameraChangeListener.html', 'StreetViewPanorama.OnStreetViewPanoramaChangeListener.html', 'StreetViewPanorama.OnStreetViewPanoramaClickListener.html', 'StreetViewPanoramaFragment.html', 'StreetViewPanoramaOptions.html', 'StreetViewPanoramaView.html', 'SupportMapFragment.html', 'SupportStreetViewPanoramaFragment.html', 'UiSettings.html']\n",
        "d:\\android\\android-sdk\\extras\\google\\google_play_services\\docs\\reference\\com\\google\\android\\gms\\maps\\model"
       ]
      },
      {
       "output_type": "stream",
       "stream": "stdout",
       "text": [
        " ['BitmapDescriptor.html', 'BitmapDescriptorFactory.html', 'CameraPosition.Builder.html', 'CameraPosition.html', 'Circle.html', 'CircleOptions.html', 'GroundOverlay.html', 'GroundOverlayOptions.html', 'IndoorBuilding.html', 'IndoorLevel.html', 'LatLng.html', 'LatLngBounds.Builder.html', 'LatLngBounds.html', 'Marker.html', 'MarkerOptions.html', 'package-summary.html', 'Polygon.html', 'PolygonOptions.html', 'Polyline.html', 'PolylineOptions.html', 'RuntimeRemoteException.html', 'StreetViewPanoramaCamera.Builder.html', 'StreetViewPanoramaCamera.html', 'StreetViewPanoramaLink.html', 'StreetViewPanoramaLocation.html', 'StreetViewPanoramaOrientation.Builder.html', 'StreetViewPanoramaOrientation.html', 'Tile.html', 'TileOverlay.html', 'TileOverlayOptions.html', 'TileProvider.html', 'UrlTileProvider.html', 'VisibleRegion.html']\n",
        "d:\\android\\android-sdk\\extras\\google\\google_play_services\\docs\\reference\\com\\google\\android\\gms\\panorama ['package-summary.html', 'Panorama.html', 'PanoramaApi.html', 'PanoramaApi.PanoramaResult.html']\n",
        "d:\\android\\android-sdk\\extras\\google\\google_play_services\\docs\\reference\\com\\google\\android\\gms\\plus ['Account.html', 'Moments.html', 'Moments.LoadMomentsResult.html', 'package-summary.html', 'People.html', 'People.LoadPeopleResult.html', 'People.OrderBy.html', 'Plus.html', 'Plus.PlusOptions.Builder.html', 'Plus.PlusOptions.html', 'PlusClient.Builder.html', 'PlusClient.html', 'PlusClient.OnAccessRevokedListener.html', 'PlusClient.OnMomentsLoadedListener.html', 'PlusClient.OnPeopleLoadedListener.html', 'PlusClient.OrderBy.html', 'PlusOneButton.DefaultOnPlusOneClickListener.html', 'PlusOneButton.html', 'PlusOneButton.OnPlusOneClickListener.html', 'PlusOneDummyView.html', 'PlusShare.Builder.html', 'PlusShare.html']\n",
        "d:\\android\\android-sdk\\extras\\google\\google_play_services\\docs\\reference\\com\\google\\android\\gms\\plus\\model []\n",
        "d:\\android\\android-sdk\\extras\\google\\google_play_services\\docs\\reference\\com\\google\\android\\gms\\plus\\model\\moments"
       ]
      },
      {
       "output_type": "stream",
       "stream": "stdout",
       "text": [
        " ['ItemScope.Builder.html', 'ItemScope.html', 'Moment.Builder.html', 'Moment.html', 'MomentBuffer.html', 'package-summary.html']\n",
        "d:\\android\\android-sdk\\extras\\google\\google_play_services\\docs\\reference\\com\\google\\android\\gms\\plus\\model\\people ['package-summary.html', 'Person.AgeRange.html', 'Person.Cover.CoverInfo.html', 'Person.Cover.CoverPhoto.html', 'Person.Cover.html', 'Person.Cover.Layout.html', 'Person.Gender.html', 'Person.html', 'Person.Image.html', 'Person.Name.html', 'Person.ObjectType.html', 'Person.Organizations.html', 'Person.Organizations.Type.html', 'Person.PlacesLived.html', 'Person.RelationshipStatus.html', 'Person.Urls.html', 'Person.Urls.Type.html', 'PersonBuffer.html']\n",
        "d:\\android\\android-sdk\\extras\\google\\google_play_services\\docs\\reference\\com\\google\\android\\gms\\security ['package-summary.html', 'ProviderInstaller.html', 'ProviderInstaller.ProviderInstallListener.html']\n",
        "d:\\android\\android-sdk\\extras\\google\\google_play_services\\docs\\reference\\com\\google\\android\\gms\\tagmanager ['Container.FunctionCallMacroCallback.html', 'Container.FunctionCallTagCallback.html', 'Container.html', 'ContainerHolder.ContainerAvailableListener.html', 'ContainerHolder.html', 'DataLayer.html', 'InstallReferrerReceiver.html', 'InstallReferrerService.html', 'package-summary.html', 'PreviewActivity.html', 'TagManager.html']\n",
        "d:\\android\\android-sdk\\extras\\google\\google_play_services\\docs\\reference\\com\\google\\android\\gms\\wallet ['Address.html', 'Cart.Builder.html', 'Cart.html', 'CountrySpecification.html', 'EnableWalletOptimizationReceiver.html', 'FullWallet.html', 'FullWalletRequest.Builder.html', 'FullWalletRequest.html', 'InstrumentInfo.html', 'LineItem.Builder.html', 'LineItem.html', 'LineItem.Role.html', 'LoyaltyWalletObject.html', 'MaskedWallet.Builder.html', 'MaskedWallet.html', 'MaskedWalletRequest.Builder.html', 'MaskedWalletRequest.html', 'NotifyTransactionStatusRequest.Builder.html', 'NotifyTransactionStatusRequest.html', 'NotifyTransactionStatusRequest.Status.Error.html', 'NotifyTransactionStatusRequest.Status.html', 'OfferWalletObject.html', 'package-summary.html', 'Payments.html', 'ProxyCard.html', 'Wallet.html', 'Wallet.WalletOptions.Builder.html', 'Wallet.WalletOptions.html', 'WalletConstants.html']\n",
        "d:\\android\\android-sdk\\extras\\google\\google_play_services\\docs\\reference\\com\\google\\android\\gms\\wallet\\fragment ['BuyButtonAppearance.html', 'BuyButtonText.html', 'Dimension.html', 'package-summary.html', 'SupportWalletFragment.html', 'SupportWalletFragment.OnStateChangedListener.html', 'WalletFragment.html', 'WalletFragment.OnStateChangedListener.html', 'WalletFragmentInitParams.Builder.html', 'WalletFragmentInitParams.html', 'WalletFragmentMode.html', 'WalletFragmentOptions.Builder.html', 'WalletFragmentOptions.html', 'WalletFragmentState.html', 'WalletFragmentStyle.html', 'WalletLogoImageType.html']\n",
        "d:\\android\\android-sdk\\extras\\google\\google_play_services\\docs\\reference\\com\\google\\android\\gms\\wearable ['Asset.html', 'DataApi.DataItemResult.html', 'DataApi.DataListener.html', 'DataApi.DeleteDataItemsResult.html', 'DataApi.GetFdForAssetResult.html', 'DataApi.html', 'DataEvent.html', 'DataEventBuffer.html', 'DataItem.html', 'DataItemAsset.html', 'DataItemBuffer.html', 'DataMap.html', 'DataMapItem.html', 'MessageApi.html', 'MessageApi.MessageListener.html', 'MessageApi.SendMessageResult.html', 'MessageEvent.html', 'Node.html', 'NodeApi.GetConnectedNodesResult.html', 'NodeApi.GetLocalNodeResult.html', 'NodeApi.html', 'NodeApi.NodeListener.html', 'package-summary.html', 'PutDataMapRequest.html', 'PutDataRequest.html', 'Wearable.html', 'Wearable.WearableOptions.Builder.html', 'Wearable.WearableOptions.html', 'WearableListenerService.html', 'WearableStatusCodes.html']\n",
        "d:\\android\\android-sdk\\extras\\google\\google_play_services\\libproject []\n",
        "d:\\android\\android-sdk\\extras\\google\\google_play_services\\libproject\\google-play-services_lib ['.classpath', 'AndroidManifest.xml', 'proguard.txt', 'project.properties', 'README.txt']\n",
        "d:\\android\\android-sdk\\extras\\google\\google_play_services\\libproject\\google-play-services_lib\\libs ['google-play-services.jar', 'google-play-services.jar.properties']\n",
        "d:\\android\\android-sdk\\extras\\google\\google_play_services\\libproject\\google-play-services_lib\\res"
       ]
      },
      {
       "output_type": "stream",
       "stream": "stdout",
       "text": [
        " []\n",
        "d:\\android\\android-sdk\\extras\\google\\google_play_services\\libproject\\google-play-services_lib\\res\\color ['common_signin_btn_text_dark.xml', 'common_signin_btn_text_light.xml', 'wallet_primary_text_holo_light.xml', 'wallet_secondary_text_holo_dark.xml']\n",
        "d:\\android\\android-sdk\\extras\\google\\google_play_services\\libproject\\google-play-services_lib\\res\\drawable ['common_signin_btn_icon_dark.xml', 'common_signin_btn_icon_light.xml', 'common_signin_btn_text_dark.xml', 'common_signin_btn_text_light.xml']\n",
        "d:\\android\\android-sdk\\extras\\google\\google_play_services\\libproject\\google-play-services_lib\\res\\drawable-hdpi ['common_full_open_on_phone.png', 'common_ic_googleplayservices.png', 'common_signin_btn_icon_disabled_dark.9.png', 'common_signin_btn_icon_disabled_focus_dark.9.png', 'common_signin_btn_icon_disabled_focus_light.9.png', 'common_signin_btn_icon_disabled_light.9.png', 'common_signin_btn_icon_focus_dark.9.png', 'common_signin_btn_icon_focus_light.9.png', 'common_signin_btn_icon_normal_dark.9.png', 'common_signin_btn_icon_normal_light.9.png', 'common_signin_btn_icon_pressed_dark.9.png', 'common_signin_btn_icon_pressed_light.9.png', 'common_signin_btn_text_disabled_dark.9.png', 'common_signin_btn_text_disabled_focus_dark.9.png', 'common_signin_btn_text_disabled_focus_light.9.png', 'common_signin_btn_text_disabled_light.9.png', 'common_signin_btn_text_focus_dark.9.png', 'common_signin_btn_text_focus_light.9.png', 'common_signin_btn_text_normal_dark.9.png', 'common_signin_btn_text_normal_light.9.png', 'common_signin_btn_text_pressed_dark.9.png', 'common_signin_btn_text_pressed_light.9.png', 'ic_plusone_medium_off_client.png', 'ic_plusone_small_off_client.png', 'ic_plusone_standard_off_client.png', 'ic_plusone_tall_off_client.png', 'powered_by_google_dark.png', 'powered_by_google_light.png']\n"
       ]
      },
      {
       "ename": "KeyboardInterrupt",
       "evalue": "",
       "output_type": "pyerr",
       "traceback": [
        "\u001b[1;31m---------------------------------------------------------------------------\u001b[0m\n\u001b[1;31mKeyboardInterrupt\u001b[0m                         Traceback (most recent call last)",
        "\u001b[1;32m<ipython-input-3-711c001146bb>\u001b[0m in \u001b[0;36m<module>\u001b[1;34m()\u001b[0m\n\u001b[1;32m----> 1\u001b[1;33m \u001b[1;32mfor\u001b[0m \u001b[0mcurdir\u001b[0m\u001b[1;33m,\u001b[0m \u001b[0mdirs\u001b[0m\u001b[1;33m,\u001b[0m \u001b[0mfiles\u001b[0m \u001b[1;32min\u001b[0m \u001b[0mos\u001b[0m\u001b[1;33m.\u001b[0m\u001b[0mwalk\u001b[0m\u001b[1;33m(\u001b[0m\u001b[1;34m'd:\\\\'\u001b[0m\u001b[1;33m)\u001b[0m\u001b[1;33m:\u001b[0m\u001b[1;33m\u001b[0m\u001b[0m\n\u001b[0m\u001b[0;32m      2\u001b[0m     \u001b[0mprint\u001b[0m\u001b[1;33m(\u001b[0m\u001b[0mcurdir\u001b[0m\u001b[1;33m,\u001b[0m \u001b[0mfiles\u001b[0m\u001b[1;33m)\u001b[0m\u001b[1;33m\u001b[0m\u001b[0m\n",
        "\u001b[1;32mD:\\Users\\KimJeongGyu\\Anaconda3\\lib\\os.py\u001b[0m in \u001b[0;36mwalk\u001b[1;34m(top, topdown, onerror, followlinks)\u001b[0m\n\u001b[0;32m    375\u001b[0m         \u001b[0mnew_path\u001b[0m \u001b[1;33m=\u001b[0m \u001b[0mjoin\u001b[0m\u001b[1;33m(\u001b[0m\u001b[0mtop\u001b[0m\u001b[1;33m,\u001b[0m \u001b[0mname\u001b[0m\u001b[1;33m)\u001b[0m\u001b[1;33m\u001b[0m\u001b[0m\n\u001b[0;32m    376\u001b[0m         \u001b[1;32mif\u001b[0m \u001b[0mfollowlinks\u001b[0m \u001b[1;32mor\u001b[0m \u001b[1;32mnot\u001b[0m \u001b[0mislink\u001b[0m\u001b[1;33m(\u001b[0m\u001b[0mnew_path\u001b[0m\u001b[1;33m)\u001b[0m\u001b[1;33m:\u001b[0m\u001b[1;33m\u001b[0m\u001b[0m\n\u001b[1;32m--> 377\u001b[1;33m             \u001b[1;32myield\u001b[0m \u001b[1;32mfrom\u001b[0m \u001b[0mwalk\u001b[0m\u001b[1;33m(\u001b[0m\u001b[0mnew_path\u001b[0m\u001b[1;33m,\u001b[0m \u001b[0mtopdown\u001b[0m\u001b[1;33m,\u001b[0m \u001b[0monerror\u001b[0m\u001b[1;33m,\u001b[0m \u001b[0mfollowlinks\u001b[0m\u001b[1;33m)\u001b[0m\u001b[1;33m\u001b[0m\u001b[0m\n\u001b[0m\u001b[0;32m    378\u001b[0m     \u001b[1;32mif\u001b[0m \u001b[1;32mnot\u001b[0m \u001b[0mtopdown\u001b[0m\u001b[1;33m:\u001b[0m\u001b[1;33m\u001b[0m\u001b[0m\n\u001b[0;32m    379\u001b[0m         \u001b[1;32myield\u001b[0m \u001b[0mtop\u001b[0m\u001b[1;33m,\u001b[0m \u001b[0mdirs\u001b[0m\u001b[1;33m,\u001b[0m \u001b[0mnondirs\u001b[0m\u001b[1;33m\u001b[0m\u001b[0m\n",
        "\u001b[1;32mD:\\Users\\KimJeongGyu\\Anaconda3\\lib\\os.py\u001b[0m in \u001b[0;36mwalk\u001b[1;34m(top, topdown, onerror, followlinks)\u001b[0m\n\u001b[0;32m    375\u001b[0m         \u001b[0mnew_path\u001b[0m \u001b[1;33m=\u001b[0m \u001b[0mjoin\u001b[0m\u001b[1;33m(\u001b[0m\u001b[0mtop\u001b[0m\u001b[1;33m,\u001b[0m \u001b[0mname\u001b[0m\u001b[1;33m)\u001b[0m\u001b[1;33m\u001b[0m\u001b[0m\n\u001b[0;32m    376\u001b[0m         \u001b[1;32mif\u001b[0m \u001b[0mfollowlinks\u001b[0m \u001b[1;32mor\u001b[0m \u001b[1;32mnot\u001b[0m \u001b[0mislink\u001b[0m\u001b[1;33m(\u001b[0m\u001b[0mnew_path\u001b[0m\u001b[1;33m)\u001b[0m\u001b[1;33m:\u001b[0m\u001b[1;33m\u001b[0m\u001b[0m\n\u001b[1;32m--> 377\u001b[1;33m             \u001b[1;32myield\u001b[0m \u001b[1;32mfrom\u001b[0m \u001b[0mwalk\u001b[0m\u001b[1;33m(\u001b[0m\u001b[0mnew_path\u001b[0m\u001b[1;33m,\u001b[0m \u001b[0mtopdown\u001b[0m\u001b[1;33m,\u001b[0m \u001b[0monerror\u001b[0m\u001b[1;33m,\u001b[0m \u001b[0mfollowlinks\u001b[0m\u001b[1;33m)\u001b[0m\u001b[1;33m\u001b[0m\u001b[0m\n\u001b[0m\u001b[0;32m    378\u001b[0m     \u001b[1;32mif\u001b[0m \u001b[1;32mnot\u001b[0m \u001b[0mtopdown\u001b[0m\u001b[1;33m:\u001b[0m\u001b[1;33m\u001b[0m\u001b[0m\n\u001b[0;32m    379\u001b[0m         \u001b[1;32myield\u001b[0m \u001b[0mtop\u001b[0m\u001b[1;33m,\u001b[0m \u001b[0mdirs\u001b[0m\u001b[1;33m,\u001b[0m \u001b[0mnondirs\u001b[0m\u001b[1;33m\u001b[0m\u001b[0m\n",
        "\u001b[1;32mD:\\Users\\KimJeongGyu\\Anaconda3\\lib\\os.py\u001b[0m in \u001b[0;36mwalk\u001b[1;34m(top, topdown, onerror, followlinks)\u001b[0m\n\u001b[0;32m    375\u001b[0m         \u001b[0mnew_path\u001b[0m \u001b[1;33m=\u001b[0m \u001b[0mjoin\u001b[0m\u001b[1;33m(\u001b[0m\u001b[0mtop\u001b[0m\u001b[1;33m,\u001b[0m \u001b[0mname\u001b[0m\u001b[1;33m)\u001b[0m\u001b[1;33m\u001b[0m\u001b[0m\n\u001b[0;32m    376\u001b[0m         \u001b[1;32mif\u001b[0m \u001b[0mfollowlinks\u001b[0m \u001b[1;32mor\u001b[0m \u001b[1;32mnot\u001b[0m \u001b[0mislink\u001b[0m\u001b[1;33m(\u001b[0m\u001b[0mnew_path\u001b[0m\u001b[1;33m)\u001b[0m\u001b[1;33m:\u001b[0m\u001b[1;33m\u001b[0m\u001b[0m\n\u001b[1;32m--> 377\u001b[1;33m             \u001b[1;32myield\u001b[0m \u001b[1;32mfrom\u001b[0m \u001b[0mwalk\u001b[0m\u001b[1;33m(\u001b[0m\u001b[0mnew_path\u001b[0m\u001b[1;33m,\u001b[0m \u001b[0mtopdown\u001b[0m\u001b[1;33m,\u001b[0m \u001b[0monerror\u001b[0m\u001b[1;33m,\u001b[0m \u001b[0mfollowlinks\u001b[0m\u001b[1;33m)\u001b[0m\u001b[1;33m\u001b[0m\u001b[0m\n\u001b[0m\u001b[0;32m    378\u001b[0m     \u001b[1;32mif\u001b[0m \u001b[1;32mnot\u001b[0m \u001b[0mtopdown\u001b[0m\u001b[1;33m:\u001b[0m\u001b[1;33m\u001b[0m\u001b[0m\n\u001b[0;32m    379\u001b[0m         \u001b[1;32myield\u001b[0m \u001b[0mtop\u001b[0m\u001b[1;33m,\u001b[0m \u001b[0mdirs\u001b[0m\u001b[1;33m,\u001b[0m \u001b[0mnondirs\u001b[0m\u001b[1;33m\u001b[0m\u001b[0m\n",
        "\u001b[1;32mD:\\Users\\KimJeongGyu\\Anaconda3\\lib\\os.py\u001b[0m in \u001b[0;36mwalk\u001b[1;34m(top, topdown, onerror, followlinks)\u001b[0m\n\u001b[0;32m    375\u001b[0m         \u001b[0mnew_path\u001b[0m \u001b[1;33m=\u001b[0m \u001b[0mjoin\u001b[0m\u001b[1;33m(\u001b[0m\u001b[0mtop\u001b[0m\u001b[1;33m,\u001b[0m \u001b[0mname\u001b[0m\u001b[1;33m)\u001b[0m\u001b[1;33m\u001b[0m\u001b[0m\n\u001b[0;32m    376\u001b[0m         \u001b[1;32mif\u001b[0m \u001b[0mfollowlinks\u001b[0m \u001b[1;32mor\u001b[0m \u001b[1;32mnot\u001b[0m \u001b[0mislink\u001b[0m\u001b[1;33m(\u001b[0m\u001b[0mnew_path\u001b[0m\u001b[1;33m)\u001b[0m\u001b[1;33m:\u001b[0m\u001b[1;33m\u001b[0m\u001b[0m\n\u001b[1;32m--> 377\u001b[1;33m             \u001b[1;32myield\u001b[0m \u001b[1;32mfrom\u001b[0m \u001b[0mwalk\u001b[0m\u001b[1;33m(\u001b[0m\u001b[0mnew_path\u001b[0m\u001b[1;33m,\u001b[0m \u001b[0mtopdown\u001b[0m\u001b[1;33m,\u001b[0m \u001b[0monerror\u001b[0m\u001b[1;33m,\u001b[0m \u001b[0mfollowlinks\u001b[0m\u001b[1;33m)\u001b[0m\u001b[1;33m\u001b[0m\u001b[0m\n\u001b[0m\u001b[0;32m    378\u001b[0m     \u001b[1;32mif\u001b[0m \u001b[1;32mnot\u001b[0m \u001b[0mtopdown\u001b[0m\u001b[1;33m:\u001b[0m\u001b[1;33m\u001b[0m\u001b[0m\n\u001b[0;32m    379\u001b[0m         \u001b[1;32myield\u001b[0m \u001b[0mtop\u001b[0m\u001b[1;33m,\u001b[0m \u001b[0mdirs\u001b[0m\u001b[1;33m,\u001b[0m \u001b[0mnondirs\u001b[0m\u001b[1;33m\u001b[0m\u001b[0m\n",
        "\u001b[1;32mD:\\Users\\KimJeongGyu\\Anaconda3\\lib\\os.py\u001b[0m in \u001b[0;36mwalk\u001b[1;34m(top, topdown, onerror, followlinks)\u001b[0m\n\u001b[0;32m    375\u001b[0m         \u001b[0mnew_path\u001b[0m \u001b[1;33m=\u001b[0m \u001b[0mjoin\u001b[0m\u001b[1;33m(\u001b[0m\u001b[0mtop\u001b[0m\u001b[1;33m,\u001b[0m \u001b[0mname\u001b[0m\u001b[1;33m)\u001b[0m\u001b[1;33m\u001b[0m\u001b[0m\n\u001b[0;32m    376\u001b[0m         \u001b[1;32mif\u001b[0m \u001b[0mfollowlinks\u001b[0m \u001b[1;32mor\u001b[0m \u001b[1;32mnot\u001b[0m \u001b[0mislink\u001b[0m\u001b[1;33m(\u001b[0m\u001b[0mnew_path\u001b[0m\u001b[1;33m)\u001b[0m\u001b[1;33m:\u001b[0m\u001b[1;33m\u001b[0m\u001b[0m\n\u001b[1;32m--> 377\u001b[1;33m             \u001b[1;32myield\u001b[0m \u001b[1;32mfrom\u001b[0m \u001b[0mwalk\u001b[0m\u001b[1;33m(\u001b[0m\u001b[0mnew_path\u001b[0m\u001b[1;33m,\u001b[0m \u001b[0mtopdown\u001b[0m\u001b[1;33m,\u001b[0m \u001b[0monerror\u001b[0m\u001b[1;33m,\u001b[0m \u001b[0mfollowlinks\u001b[0m\u001b[1;33m)\u001b[0m\u001b[1;33m\u001b[0m\u001b[0m\n\u001b[0m\u001b[0;32m    378\u001b[0m     \u001b[1;32mif\u001b[0m \u001b[1;32mnot\u001b[0m \u001b[0mtopdown\u001b[0m\u001b[1;33m:\u001b[0m\u001b[1;33m\u001b[0m\u001b[0m\n\u001b[0;32m    379\u001b[0m         \u001b[1;32myield\u001b[0m \u001b[0mtop\u001b[0m\u001b[1;33m,\u001b[0m \u001b[0mdirs\u001b[0m\u001b[1;33m,\u001b[0m \u001b[0mnondirs\u001b[0m\u001b[1;33m\u001b[0m\u001b[0m\n",
        "\u001b[1;32mD:\\Users\\KimJeongGyu\\Anaconda3\\lib\\os.py\u001b[0m in \u001b[0;36mwalk\u001b[1;34m(top, topdown, onerror, followlinks)\u001b[0m\n\u001b[0;32m    375\u001b[0m         \u001b[0mnew_path\u001b[0m \u001b[1;33m=\u001b[0m \u001b[0mjoin\u001b[0m\u001b[1;33m(\u001b[0m\u001b[0mtop\u001b[0m\u001b[1;33m,\u001b[0m \u001b[0mname\u001b[0m\u001b[1;33m)\u001b[0m\u001b[1;33m\u001b[0m\u001b[0m\n\u001b[0;32m    376\u001b[0m         \u001b[1;32mif\u001b[0m \u001b[0mfollowlinks\u001b[0m \u001b[1;32mor\u001b[0m \u001b[1;32mnot\u001b[0m \u001b[0mislink\u001b[0m\u001b[1;33m(\u001b[0m\u001b[0mnew_path\u001b[0m\u001b[1;33m)\u001b[0m\u001b[1;33m:\u001b[0m\u001b[1;33m\u001b[0m\u001b[0m\n\u001b[1;32m--> 377\u001b[1;33m             \u001b[1;32myield\u001b[0m \u001b[1;32mfrom\u001b[0m \u001b[0mwalk\u001b[0m\u001b[1;33m(\u001b[0m\u001b[0mnew_path\u001b[0m\u001b[1;33m,\u001b[0m \u001b[0mtopdown\u001b[0m\u001b[1;33m,\u001b[0m \u001b[0monerror\u001b[0m\u001b[1;33m,\u001b[0m \u001b[0mfollowlinks\u001b[0m\u001b[1;33m)\u001b[0m\u001b[1;33m\u001b[0m\u001b[0m\n\u001b[0m\u001b[0;32m    378\u001b[0m     \u001b[1;32mif\u001b[0m \u001b[1;32mnot\u001b[0m \u001b[0mtopdown\u001b[0m\u001b[1;33m:\u001b[0m\u001b[1;33m\u001b[0m\u001b[0m\n\u001b[0;32m    379\u001b[0m         \u001b[1;32myield\u001b[0m \u001b[0mtop\u001b[0m\u001b[1;33m,\u001b[0m \u001b[0mdirs\u001b[0m\u001b[1;33m,\u001b[0m \u001b[0mnondirs\u001b[0m\u001b[1;33m\u001b[0m\u001b[0m\n",
        "\u001b[1;32mD:\\Users\\KimJeongGyu\\Anaconda3\\lib\\os.py\u001b[0m in \u001b[0;36mwalk\u001b[1;34m(top, topdown, onerror, followlinks)\u001b[0m\n\u001b[0;32m    375\u001b[0m         \u001b[0mnew_path\u001b[0m \u001b[1;33m=\u001b[0m \u001b[0mjoin\u001b[0m\u001b[1;33m(\u001b[0m\u001b[0mtop\u001b[0m\u001b[1;33m,\u001b[0m \u001b[0mname\u001b[0m\u001b[1;33m)\u001b[0m\u001b[1;33m\u001b[0m\u001b[0m\n\u001b[0;32m    376\u001b[0m         \u001b[1;32mif\u001b[0m \u001b[0mfollowlinks\u001b[0m \u001b[1;32mor\u001b[0m \u001b[1;32mnot\u001b[0m \u001b[0mislink\u001b[0m\u001b[1;33m(\u001b[0m\u001b[0mnew_path\u001b[0m\u001b[1;33m)\u001b[0m\u001b[1;33m:\u001b[0m\u001b[1;33m\u001b[0m\u001b[0m\n\u001b[1;32m--> 377\u001b[1;33m             \u001b[1;32myield\u001b[0m \u001b[1;32mfrom\u001b[0m \u001b[0mwalk\u001b[0m\u001b[1;33m(\u001b[0m\u001b[0mnew_path\u001b[0m\u001b[1;33m,\u001b[0m \u001b[0mtopdown\u001b[0m\u001b[1;33m,\u001b[0m \u001b[0monerror\u001b[0m\u001b[1;33m,\u001b[0m \u001b[0mfollowlinks\u001b[0m\u001b[1;33m)\u001b[0m\u001b[1;33m\u001b[0m\u001b[0m\n\u001b[0m\u001b[0;32m    378\u001b[0m     \u001b[1;32mif\u001b[0m \u001b[1;32mnot\u001b[0m \u001b[0mtopdown\u001b[0m\u001b[1;33m:\u001b[0m\u001b[1;33m\u001b[0m\u001b[0m\n\u001b[0;32m    379\u001b[0m         \u001b[1;32myield\u001b[0m \u001b[0mtop\u001b[0m\u001b[1;33m,\u001b[0m \u001b[0mdirs\u001b[0m\u001b[1;33m,\u001b[0m \u001b[0mnondirs\u001b[0m\u001b[1;33m\u001b[0m\u001b[0m\n",
        "\u001b[1;32mD:\\Users\\KimJeongGyu\\Anaconda3\\lib\\os.py\u001b[0m in \u001b[0;36mwalk\u001b[1;34m(top, topdown, onerror, followlinks)\u001b[0m\n\u001b[0;32m    375\u001b[0m         \u001b[0mnew_path\u001b[0m \u001b[1;33m=\u001b[0m \u001b[0mjoin\u001b[0m\u001b[1;33m(\u001b[0m\u001b[0mtop\u001b[0m\u001b[1;33m,\u001b[0m \u001b[0mname\u001b[0m\u001b[1;33m)\u001b[0m\u001b[1;33m\u001b[0m\u001b[0m\n\u001b[0;32m    376\u001b[0m         \u001b[1;32mif\u001b[0m \u001b[0mfollowlinks\u001b[0m \u001b[1;32mor\u001b[0m \u001b[1;32mnot\u001b[0m \u001b[0mislink\u001b[0m\u001b[1;33m(\u001b[0m\u001b[0mnew_path\u001b[0m\u001b[1;33m)\u001b[0m\u001b[1;33m:\u001b[0m\u001b[1;33m\u001b[0m\u001b[0m\n\u001b[1;32m--> 377\u001b[1;33m             \u001b[1;32myield\u001b[0m \u001b[1;32mfrom\u001b[0m \u001b[0mwalk\u001b[0m\u001b[1;33m(\u001b[0m\u001b[0mnew_path\u001b[0m\u001b[1;33m,\u001b[0m \u001b[0mtopdown\u001b[0m\u001b[1;33m,\u001b[0m \u001b[0monerror\u001b[0m\u001b[1;33m,\u001b[0m \u001b[0mfollowlinks\u001b[0m\u001b[1;33m)\u001b[0m\u001b[1;33m\u001b[0m\u001b[0m\n\u001b[0m\u001b[0;32m    378\u001b[0m     \u001b[1;32mif\u001b[0m \u001b[1;32mnot\u001b[0m \u001b[0mtopdown\u001b[0m\u001b[1;33m:\u001b[0m\u001b[1;33m\u001b[0m\u001b[0m\n\u001b[0;32m    379\u001b[0m         \u001b[1;32myield\u001b[0m \u001b[0mtop\u001b[0m\u001b[1;33m,\u001b[0m \u001b[0mdirs\u001b[0m\u001b[1;33m,\u001b[0m \u001b[0mnondirs\u001b[0m\u001b[1;33m\u001b[0m\u001b[0m\n",
        "\u001b[1;32mD:\\Users\\KimJeongGyu\\Anaconda3\\lib\\os.py\u001b[0m in \u001b[0;36mwalk\u001b[1;34m(top, topdown, onerror, followlinks)\u001b[0m\n\u001b[0;32m    375\u001b[0m         \u001b[0mnew_path\u001b[0m \u001b[1;33m=\u001b[0m \u001b[0mjoin\u001b[0m\u001b[1;33m(\u001b[0m\u001b[0mtop\u001b[0m\u001b[1;33m,\u001b[0m \u001b[0mname\u001b[0m\u001b[1;33m)\u001b[0m\u001b[1;33m\u001b[0m\u001b[0m\n\u001b[0;32m    376\u001b[0m         \u001b[1;32mif\u001b[0m \u001b[0mfollowlinks\u001b[0m \u001b[1;32mor\u001b[0m \u001b[1;32mnot\u001b[0m \u001b[0mislink\u001b[0m\u001b[1;33m(\u001b[0m\u001b[0mnew_path\u001b[0m\u001b[1;33m)\u001b[0m\u001b[1;33m:\u001b[0m\u001b[1;33m\u001b[0m\u001b[0m\n\u001b[1;32m--> 377\u001b[1;33m             \u001b[1;32myield\u001b[0m \u001b[1;32mfrom\u001b[0m \u001b[0mwalk\u001b[0m\u001b[1;33m(\u001b[0m\u001b[0mnew_path\u001b[0m\u001b[1;33m,\u001b[0m \u001b[0mtopdown\u001b[0m\u001b[1;33m,\u001b[0m \u001b[0monerror\u001b[0m\u001b[1;33m,\u001b[0m \u001b[0mfollowlinks\u001b[0m\u001b[1;33m)\u001b[0m\u001b[1;33m\u001b[0m\u001b[0m\n\u001b[0m\u001b[0;32m    378\u001b[0m     \u001b[1;32mif\u001b[0m \u001b[1;32mnot\u001b[0m \u001b[0mtopdown\u001b[0m\u001b[1;33m:\u001b[0m\u001b[1;33m\u001b[0m\u001b[0m\n\u001b[0;32m    379\u001b[0m         \u001b[1;32myield\u001b[0m \u001b[0mtop\u001b[0m\u001b[1;33m,\u001b[0m \u001b[0mdirs\u001b[0m\u001b[1;33m,\u001b[0m \u001b[0mnondirs\u001b[0m\u001b[1;33m\u001b[0m\u001b[0m\n",
        "\u001b[1;32mD:\\Users\\KimJeongGyu\\Anaconda3\\lib\\os.py\u001b[0m in \u001b[0;36mwalk\u001b[1;34m(top, topdown, onerror, followlinks)\u001b[0m\n\u001b[0;32m    357\u001b[0m         \u001b[1;31m# Note that listdir is global in this module due\u001b[0m\u001b[1;33m\u001b[0m\u001b[1;33m\u001b[0m\u001b[0m\n\u001b[0;32m    358\u001b[0m         \u001b[1;31m# to earlier import-*.\u001b[0m\u001b[1;33m\u001b[0m\u001b[1;33m\u001b[0m\u001b[0m\n\u001b[1;32m--> 359\u001b[1;33m         \u001b[0mnames\u001b[0m \u001b[1;33m=\u001b[0m \u001b[0mlistdir\u001b[0m\u001b[1;33m(\u001b[0m\u001b[0mtop\u001b[0m\u001b[1;33m)\u001b[0m\u001b[1;33m\u001b[0m\u001b[0m\n\u001b[0m\u001b[0;32m    360\u001b[0m     \u001b[1;32mexcept\u001b[0m \u001b[0mOSError\u001b[0m \u001b[1;32mas\u001b[0m \u001b[0merr\u001b[0m\u001b[1;33m:\u001b[0m\u001b[1;33m\u001b[0m\u001b[0m\n\u001b[0;32m    361\u001b[0m         \u001b[1;32mif\u001b[0m \u001b[0monerror\u001b[0m \u001b[1;32mis\u001b[0m \u001b[1;32mnot\u001b[0m \u001b[1;32mNone\u001b[0m\u001b[1;33m:\u001b[0m\u001b[1;33m\u001b[0m\u001b[0m\n",
        "\u001b[1;31mKeyboardInterrupt\u001b[0m: "
       ]
      }
     ],
     "prompt_number": 3
    },
    {
     "cell_type": "code",
     "collapsed": false,
     "input": [
      "for curdir, dirs, files in os.walk('d:\\\\'):\n",
      "    for fname in files:\n",
      "        if fname.endswith('.ipynb'):\n",
      "            fpath=os.path.join(curdir,fname)\n",
      "            print (fpath)"
     ],
     "language": "python",
     "metadata": {},
     "outputs": [
      {
       "ename": "KeyboardInterrupt",
       "evalue": "",
       "output_type": "pyerr",
       "traceback": [
        "\u001b[1;31m---------------------------------------------------------------------------\u001b[0m\n\u001b[1;31mKeyboardInterrupt\u001b[0m                         Traceback (most recent call last)",
        "\u001b[1;32m<ipython-input-6-7a5ae437348a>\u001b[0m in \u001b[0;36m<module>\u001b[1;34m()\u001b[0m\n\u001b[1;32m----> 1\u001b[1;33m \u001b[1;32mfor\u001b[0m \u001b[0mcurdir\u001b[0m\u001b[1;33m,\u001b[0m \u001b[0mdirs\u001b[0m\u001b[1;33m,\u001b[0m \u001b[0mfiles\u001b[0m \u001b[1;32min\u001b[0m \u001b[0mos\u001b[0m\u001b[1;33m.\u001b[0m\u001b[0mwalk\u001b[0m\u001b[1;33m(\u001b[0m\u001b[1;34m'd:\\\\'\u001b[0m\u001b[1;33m)\u001b[0m\u001b[1;33m:\u001b[0m\u001b[1;33m\u001b[0m\u001b[0m\n\u001b[0m\u001b[0;32m      2\u001b[0m     \u001b[1;32mfor\u001b[0m \u001b[0mfname\u001b[0m \u001b[1;32min\u001b[0m \u001b[0mfiles\u001b[0m\u001b[1;33m:\u001b[0m\u001b[1;33m\u001b[0m\u001b[0m\n\u001b[0;32m      3\u001b[0m         \u001b[1;32mif\u001b[0m \u001b[0mfname\u001b[0m\u001b[1;33m.\u001b[0m\u001b[0mendswith\u001b[0m\u001b[1;33m(\u001b[0m\u001b[1;34m'.ipynb'\u001b[0m\u001b[1;33m)\u001b[0m\u001b[1;33m:\u001b[0m\u001b[1;33m\u001b[0m\u001b[0m\n\u001b[0;32m      4\u001b[0m             \u001b[0mfpath\u001b[0m\u001b[1;33m=\u001b[0m\u001b[0mos\u001b[0m\u001b[1;33m.\u001b[0m\u001b[0mpath\u001b[0m\u001b[1;33m.\u001b[0m\u001b[0mjoin\u001b[0m\u001b[1;33m(\u001b[0m\u001b[0mcurdir\u001b[0m\u001b[1;33m,\u001b[0m\u001b[0mfname\u001b[0m\u001b[1;33m)\u001b[0m\u001b[1;33m\u001b[0m\u001b[0m\n\u001b[0;32m      5\u001b[0m             \u001b[0mprint\u001b[0m \u001b[1;33m(\u001b[0m\u001b[0mfpath\u001b[0m\u001b[1;33m)\u001b[0m\u001b[1;33m\u001b[0m\u001b[0m\n",
        "\u001b[1;32mD:\\Users\\KimJeongGyu\\Anaconda3\\lib\\os.py\u001b[0m in \u001b[0;36mwalk\u001b[1;34m(top, topdown, onerror, followlinks)\u001b[0m\n\u001b[0;32m    375\u001b[0m         \u001b[0mnew_path\u001b[0m \u001b[1;33m=\u001b[0m \u001b[0mjoin\u001b[0m\u001b[1;33m(\u001b[0m\u001b[0mtop\u001b[0m\u001b[1;33m,\u001b[0m \u001b[0mname\u001b[0m\u001b[1;33m)\u001b[0m\u001b[1;33m\u001b[0m\u001b[0m\n\u001b[0;32m    376\u001b[0m         \u001b[1;32mif\u001b[0m \u001b[0mfollowlinks\u001b[0m \u001b[1;32mor\u001b[0m \u001b[1;32mnot\u001b[0m \u001b[0mislink\u001b[0m\u001b[1;33m(\u001b[0m\u001b[0mnew_path\u001b[0m\u001b[1;33m)\u001b[0m\u001b[1;33m:\u001b[0m\u001b[1;33m\u001b[0m\u001b[0m\n\u001b[1;32m--> 377\u001b[1;33m             \u001b[1;32myield\u001b[0m \u001b[1;32mfrom\u001b[0m \u001b[0mwalk\u001b[0m\u001b[1;33m(\u001b[0m\u001b[0mnew_path\u001b[0m\u001b[1;33m,\u001b[0m \u001b[0mtopdown\u001b[0m\u001b[1;33m,\u001b[0m \u001b[0monerror\u001b[0m\u001b[1;33m,\u001b[0m \u001b[0mfollowlinks\u001b[0m\u001b[1;33m)\u001b[0m\u001b[1;33m\u001b[0m\u001b[0m\n\u001b[0m\u001b[0;32m    378\u001b[0m     \u001b[1;32mif\u001b[0m \u001b[1;32mnot\u001b[0m \u001b[0mtopdown\u001b[0m\u001b[1;33m:\u001b[0m\u001b[1;33m\u001b[0m\u001b[0m\n\u001b[0;32m    379\u001b[0m         \u001b[1;32myield\u001b[0m \u001b[0mtop\u001b[0m\u001b[1;33m,\u001b[0m \u001b[0mdirs\u001b[0m\u001b[1;33m,\u001b[0m \u001b[0mnondirs\u001b[0m\u001b[1;33m\u001b[0m\u001b[0m\n",
        "\u001b[1;32mD:\\Users\\KimJeongGyu\\Anaconda3\\lib\\os.py\u001b[0m in \u001b[0;36mwalk\u001b[1;34m(top, topdown, onerror, followlinks)\u001b[0m\n\u001b[0;32m    375\u001b[0m         \u001b[0mnew_path\u001b[0m \u001b[1;33m=\u001b[0m \u001b[0mjoin\u001b[0m\u001b[1;33m(\u001b[0m\u001b[0mtop\u001b[0m\u001b[1;33m,\u001b[0m \u001b[0mname\u001b[0m\u001b[1;33m)\u001b[0m\u001b[1;33m\u001b[0m\u001b[0m\n\u001b[0;32m    376\u001b[0m         \u001b[1;32mif\u001b[0m \u001b[0mfollowlinks\u001b[0m \u001b[1;32mor\u001b[0m \u001b[1;32mnot\u001b[0m \u001b[0mislink\u001b[0m\u001b[1;33m(\u001b[0m\u001b[0mnew_path\u001b[0m\u001b[1;33m)\u001b[0m\u001b[1;33m:\u001b[0m\u001b[1;33m\u001b[0m\u001b[0m\n\u001b[1;32m--> 377\u001b[1;33m             \u001b[1;32myield\u001b[0m \u001b[1;32mfrom\u001b[0m \u001b[0mwalk\u001b[0m\u001b[1;33m(\u001b[0m\u001b[0mnew_path\u001b[0m\u001b[1;33m,\u001b[0m \u001b[0mtopdown\u001b[0m\u001b[1;33m,\u001b[0m \u001b[0monerror\u001b[0m\u001b[1;33m,\u001b[0m \u001b[0mfollowlinks\u001b[0m\u001b[1;33m)\u001b[0m\u001b[1;33m\u001b[0m\u001b[0m\n\u001b[0m\u001b[0;32m    378\u001b[0m     \u001b[1;32mif\u001b[0m \u001b[1;32mnot\u001b[0m \u001b[0mtopdown\u001b[0m\u001b[1;33m:\u001b[0m\u001b[1;33m\u001b[0m\u001b[0m\n\u001b[0;32m    379\u001b[0m         \u001b[1;32myield\u001b[0m \u001b[0mtop\u001b[0m\u001b[1;33m,\u001b[0m \u001b[0mdirs\u001b[0m\u001b[1;33m,\u001b[0m \u001b[0mnondirs\u001b[0m\u001b[1;33m\u001b[0m\u001b[0m\n",
        "\u001b[1;32mD:\\Users\\KimJeongGyu\\Anaconda3\\lib\\os.py\u001b[0m in \u001b[0;36mwalk\u001b[1;34m(top, topdown, onerror, followlinks)\u001b[0m\n\u001b[0;32m    375\u001b[0m         \u001b[0mnew_path\u001b[0m \u001b[1;33m=\u001b[0m \u001b[0mjoin\u001b[0m\u001b[1;33m(\u001b[0m\u001b[0mtop\u001b[0m\u001b[1;33m,\u001b[0m \u001b[0mname\u001b[0m\u001b[1;33m)\u001b[0m\u001b[1;33m\u001b[0m\u001b[0m\n\u001b[0;32m    376\u001b[0m         \u001b[1;32mif\u001b[0m \u001b[0mfollowlinks\u001b[0m \u001b[1;32mor\u001b[0m \u001b[1;32mnot\u001b[0m \u001b[0mislink\u001b[0m\u001b[1;33m(\u001b[0m\u001b[0mnew_path\u001b[0m\u001b[1;33m)\u001b[0m\u001b[1;33m:\u001b[0m\u001b[1;33m\u001b[0m\u001b[0m\n\u001b[1;32m--> 377\u001b[1;33m             \u001b[1;32myield\u001b[0m \u001b[1;32mfrom\u001b[0m \u001b[0mwalk\u001b[0m\u001b[1;33m(\u001b[0m\u001b[0mnew_path\u001b[0m\u001b[1;33m,\u001b[0m \u001b[0mtopdown\u001b[0m\u001b[1;33m,\u001b[0m \u001b[0monerror\u001b[0m\u001b[1;33m,\u001b[0m \u001b[0mfollowlinks\u001b[0m\u001b[1;33m)\u001b[0m\u001b[1;33m\u001b[0m\u001b[0m\n\u001b[0m\u001b[0;32m    378\u001b[0m     \u001b[1;32mif\u001b[0m \u001b[1;32mnot\u001b[0m \u001b[0mtopdown\u001b[0m\u001b[1;33m:\u001b[0m\u001b[1;33m\u001b[0m\u001b[0m\n\u001b[0;32m    379\u001b[0m         \u001b[1;32myield\u001b[0m \u001b[0mtop\u001b[0m\u001b[1;33m,\u001b[0m \u001b[0mdirs\u001b[0m\u001b[1;33m,\u001b[0m \u001b[0mnondirs\u001b[0m\u001b[1;33m\u001b[0m\u001b[0m\n",
        "\u001b[1;32mD:\\Users\\KimJeongGyu\\Anaconda3\\lib\\os.py\u001b[0m in \u001b[0;36mwalk\u001b[1;34m(top, topdown, onerror, followlinks)\u001b[0m\n\u001b[0;32m    375\u001b[0m         \u001b[0mnew_path\u001b[0m \u001b[1;33m=\u001b[0m \u001b[0mjoin\u001b[0m\u001b[1;33m(\u001b[0m\u001b[0mtop\u001b[0m\u001b[1;33m,\u001b[0m \u001b[0mname\u001b[0m\u001b[1;33m)\u001b[0m\u001b[1;33m\u001b[0m\u001b[0m\n\u001b[0;32m    376\u001b[0m         \u001b[1;32mif\u001b[0m \u001b[0mfollowlinks\u001b[0m \u001b[1;32mor\u001b[0m \u001b[1;32mnot\u001b[0m \u001b[0mislink\u001b[0m\u001b[1;33m(\u001b[0m\u001b[0mnew_path\u001b[0m\u001b[1;33m)\u001b[0m\u001b[1;33m:\u001b[0m\u001b[1;33m\u001b[0m\u001b[0m\n\u001b[1;32m--> 377\u001b[1;33m             \u001b[1;32myield\u001b[0m \u001b[1;32mfrom\u001b[0m \u001b[0mwalk\u001b[0m\u001b[1;33m(\u001b[0m\u001b[0mnew_path\u001b[0m\u001b[1;33m,\u001b[0m \u001b[0mtopdown\u001b[0m\u001b[1;33m,\u001b[0m \u001b[0monerror\u001b[0m\u001b[1;33m,\u001b[0m \u001b[0mfollowlinks\u001b[0m\u001b[1;33m)\u001b[0m\u001b[1;33m\u001b[0m\u001b[0m\n\u001b[0m\u001b[0;32m    378\u001b[0m     \u001b[1;32mif\u001b[0m \u001b[1;32mnot\u001b[0m \u001b[0mtopdown\u001b[0m\u001b[1;33m:\u001b[0m\u001b[1;33m\u001b[0m\u001b[0m\n\u001b[0;32m    379\u001b[0m         \u001b[1;32myield\u001b[0m \u001b[0mtop\u001b[0m\u001b[1;33m,\u001b[0m \u001b[0mdirs\u001b[0m\u001b[1;33m,\u001b[0m \u001b[0mnondirs\u001b[0m\u001b[1;33m\u001b[0m\u001b[0m\n",
        "\u001b[1;32mD:\\Users\\KimJeongGyu\\Anaconda3\\lib\\os.py\u001b[0m in \u001b[0;36mwalk\u001b[1;34m(top, topdown, onerror, followlinks)\u001b[0m\n\u001b[0;32m    375\u001b[0m         \u001b[0mnew_path\u001b[0m \u001b[1;33m=\u001b[0m \u001b[0mjoin\u001b[0m\u001b[1;33m(\u001b[0m\u001b[0mtop\u001b[0m\u001b[1;33m,\u001b[0m \u001b[0mname\u001b[0m\u001b[1;33m)\u001b[0m\u001b[1;33m\u001b[0m\u001b[0m\n\u001b[0;32m    376\u001b[0m         \u001b[1;32mif\u001b[0m \u001b[0mfollowlinks\u001b[0m \u001b[1;32mor\u001b[0m \u001b[1;32mnot\u001b[0m \u001b[0mislink\u001b[0m\u001b[1;33m(\u001b[0m\u001b[0mnew_path\u001b[0m\u001b[1;33m)\u001b[0m\u001b[1;33m:\u001b[0m\u001b[1;33m\u001b[0m\u001b[0m\n\u001b[1;32m--> 377\u001b[1;33m             \u001b[1;32myield\u001b[0m \u001b[1;32mfrom\u001b[0m \u001b[0mwalk\u001b[0m\u001b[1;33m(\u001b[0m\u001b[0mnew_path\u001b[0m\u001b[1;33m,\u001b[0m \u001b[0mtopdown\u001b[0m\u001b[1;33m,\u001b[0m \u001b[0monerror\u001b[0m\u001b[1;33m,\u001b[0m \u001b[0mfollowlinks\u001b[0m\u001b[1;33m)\u001b[0m\u001b[1;33m\u001b[0m\u001b[0m\n\u001b[0m\u001b[0;32m    378\u001b[0m     \u001b[1;32mif\u001b[0m \u001b[1;32mnot\u001b[0m \u001b[0mtopdown\u001b[0m\u001b[1;33m:\u001b[0m\u001b[1;33m\u001b[0m\u001b[0m\n\u001b[0;32m    379\u001b[0m         \u001b[1;32myield\u001b[0m \u001b[0mtop\u001b[0m\u001b[1;33m,\u001b[0m \u001b[0mdirs\u001b[0m\u001b[1;33m,\u001b[0m \u001b[0mnondirs\u001b[0m\u001b[1;33m\u001b[0m\u001b[0m\n",
        "\u001b[1;32mD:\\Users\\KimJeongGyu\\Anaconda3\\lib\\os.py\u001b[0m in \u001b[0;36mwalk\u001b[1;34m(top, topdown, onerror, followlinks)\u001b[0m\n\u001b[0;32m    375\u001b[0m         \u001b[0mnew_path\u001b[0m \u001b[1;33m=\u001b[0m \u001b[0mjoin\u001b[0m\u001b[1;33m(\u001b[0m\u001b[0mtop\u001b[0m\u001b[1;33m,\u001b[0m \u001b[0mname\u001b[0m\u001b[1;33m)\u001b[0m\u001b[1;33m\u001b[0m\u001b[0m\n\u001b[0;32m    376\u001b[0m         \u001b[1;32mif\u001b[0m \u001b[0mfollowlinks\u001b[0m \u001b[1;32mor\u001b[0m \u001b[1;32mnot\u001b[0m \u001b[0mislink\u001b[0m\u001b[1;33m(\u001b[0m\u001b[0mnew_path\u001b[0m\u001b[1;33m)\u001b[0m\u001b[1;33m:\u001b[0m\u001b[1;33m\u001b[0m\u001b[0m\n\u001b[1;32m--> 377\u001b[1;33m             \u001b[1;32myield\u001b[0m \u001b[1;32mfrom\u001b[0m \u001b[0mwalk\u001b[0m\u001b[1;33m(\u001b[0m\u001b[0mnew_path\u001b[0m\u001b[1;33m,\u001b[0m \u001b[0mtopdown\u001b[0m\u001b[1;33m,\u001b[0m \u001b[0monerror\u001b[0m\u001b[1;33m,\u001b[0m \u001b[0mfollowlinks\u001b[0m\u001b[1;33m)\u001b[0m\u001b[1;33m\u001b[0m\u001b[0m\n\u001b[0m\u001b[0;32m    378\u001b[0m     \u001b[1;32mif\u001b[0m \u001b[1;32mnot\u001b[0m \u001b[0mtopdown\u001b[0m\u001b[1;33m:\u001b[0m\u001b[1;33m\u001b[0m\u001b[0m\n\u001b[0;32m    379\u001b[0m         \u001b[1;32myield\u001b[0m \u001b[0mtop\u001b[0m\u001b[1;33m,\u001b[0m \u001b[0mdirs\u001b[0m\u001b[1;33m,\u001b[0m \u001b[0mnondirs\u001b[0m\u001b[1;33m\u001b[0m\u001b[0m\n",
        "\u001b[1;32mD:\\Users\\KimJeongGyu\\Anaconda3\\lib\\os.py\u001b[0m in \u001b[0;36mwalk\u001b[1;34m(top, topdown, onerror, followlinks)\u001b[0m\n\u001b[0;32m    375\u001b[0m         \u001b[0mnew_path\u001b[0m \u001b[1;33m=\u001b[0m \u001b[0mjoin\u001b[0m\u001b[1;33m(\u001b[0m\u001b[0mtop\u001b[0m\u001b[1;33m,\u001b[0m \u001b[0mname\u001b[0m\u001b[1;33m)\u001b[0m\u001b[1;33m\u001b[0m\u001b[0m\n\u001b[0;32m    376\u001b[0m         \u001b[1;32mif\u001b[0m \u001b[0mfollowlinks\u001b[0m \u001b[1;32mor\u001b[0m \u001b[1;32mnot\u001b[0m \u001b[0mislink\u001b[0m\u001b[1;33m(\u001b[0m\u001b[0mnew_path\u001b[0m\u001b[1;33m)\u001b[0m\u001b[1;33m:\u001b[0m\u001b[1;33m\u001b[0m\u001b[0m\n\u001b[1;32m--> 377\u001b[1;33m             \u001b[1;32myield\u001b[0m \u001b[1;32mfrom\u001b[0m \u001b[0mwalk\u001b[0m\u001b[1;33m(\u001b[0m\u001b[0mnew_path\u001b[0m\u001b[1;33m,\u001b[0m \u001b[0mtopdown\u001b[0m\u001b[1;33m,\u001b[0m \u001b[0monerror\u001b[0m\u001b[1;33m,\u001b[0m \u001b[0mfollowlinks\u001b[0m\u001b[1;33m)\u001b[0m\u001b[1;33m\u001b[0m\u001b[0m\n\u001b[0m\u001b[0;32m    378\u001b[0m     \u001b[1;32mif\u001b[0m \u001b[1;32mnot\u001b[0m \u001b[0mtopdown\u001b[0m\u001b[1;33m:\u001b[0m\u001b[1;33m\u001b[0m\u001b[0m\n\u001b[0;32m    379\u001b[0m         \u001b[1;32myield\u001b[0m \u001b[0mtop\u001b[0m\u001b[1;33m,\u001b[0m \u001b[0mdirs\u001b[0m\u001b[1;33m,\u001b[0m \u001b[0mnondirs\u001b[0m\u001b[1;33m\u001b[0m\u001b[0m\n",
        "\u001b[1;32mD:\\Users\\KimJeongGyu\\Anaconda3\\lib\\os.py\u001b[0m in \u001b[0;36mwalk\u001b[1;34m(top, topdown, onerror, followlinks)\u001b[0m\n\u001b[0;32m    375\u001b[0m         \u001b[0mnew_path\u001b[0m \u001b[1;33m=\u001b[0m \u001b[0mjoin\u001b[0m\u001b[1;33m(\u001b[0m\u001b[0mtop\u001b[0m\u001b[1;33m,\u001b[0m \u001b[0mname\u001b[0m\u001b[1;33m)\u001b[0m\u001b[1;33m\u001b[0m\u001b[0m\n\u001b[0;32m    376\u001b[0m         \u001b[1;32mif\u001b[0m \u001b[0mfollowlinks\u001b[0m \u001b[1;32mor\u001b[0m \u001b[1;32mnot\u001b[0m \u001b[0mislink\u001b[0m\u001b[1;33m(\u001b[0m\u001b[0mnew_path\u001b[0m\u001b[1;33m)\u001b[0m\u001b[1;33m:\u001b[0m\u001b[1;33m\u001b[0m\u001b[0m\n\u001b[1;32m--> 377\u001b[1;33m             \u001b[1;32myield\u001b[0m \u001b[1;32mfrom\u001b[0m \u001b[0mwalk\u001b[0m\u001b[1;33m(\u001b[0m\u001b[0mnew_path\u001b[0m\u001b[1;33m,\u001b[0m \u001b[0mtopdown\u001b[0m\u001b[1;33m,\u001b[0m \u001b[0monerror\u001b[0m\u001b[1;33m,\u001b[0m \u001b[0mfollowlinks\u001b[0m\u001b[1;33m)\u001b[0m\u001b[1;33m\u001b[0m\u001b[0m\n\u001b[0m\u001b[0;32m    378\u001b[0m     \u001b[1;32mif\u001b[0m \u001b[1;32mnot\u001b[0m \u001b[0mtopdown\u001b[0m\u001b[1;33m:\u001b[0m\u001b[1;33m\u001b[0m\u001b[0m\n\u001b[0;32m    379\u001b[0m         \u001b[1;32myield\u001b[0m \u001b[0mtop\u001b[0m\u001b[1;33m,\u001b[0m \u001b[0mdirs\u001b[0m\u001b[1;33m,\u001b[0m \u001b[0mnondirs\u001b[0m\u001b[1;33m\u001b[0m\u001b[0m\n",
        "\u001b[1;32mD:\\Users\\KimJeongGyu\\Anaconda3\\lib\\os.py\u001b[0m in \u001b[0;36mwalk\u001b[1;34m(top, topdown, onerror, followlinks)\u001b[0m\n\u001b[0;32m    375\u001b[0m         \u001b[0mnew_path\u001b[0m \u001b[1;33m=\u001b[0m \u001b[0mjoin\u001b[0m\u001b[1;33m(\u001b[0m\u001b[0mtop\u001b[0m\u001b[1;33m,\u001b[0m \u001b[0mname\u001b[0m\u001b[1;33m)\u001b[0m\u001b[1;33m\u001b[0m\u001b[0m\n\u001b[0;32m    376\u001b[0m         \u001b[1;32mif\u001b[0m \u001b[0mfollowlinks\u001b[0m \u001b[1;32mor\u001b[0m \u001b[1;32mnot\u001b[0m \u001b[0mislink\u001b[0m\u001b[1;33m(\u001b[0m\u001b[0mnew_path\u001b[0m\u001b[1;33m)\u001b[0m\u001b[1;33m:\u001b[0m\u001b[1;33m\u001b[0m\u001b[0m\n\u001b[1;32m--> 377\u001b[1;33m             \u001b[1;32myield\u001b[0m \u001b[1;32mfrom\u001b[0m \u001b[0mwalk\u001b[0m\u001b[1;33m(\u001b[0m\u001b[0mnew_path\u001b[0m\u001b[1;33m,\u001b[0m \u001b[0mtopdown\u001b[0m\u001b[1;33m,\u001b[0m \u001b[0monerror\u001b[0m\u001b[1;33m,\u001b[0m \u001b[0mfollowlinks\u001b[0m\u001b[1;33m)\u001b[0m\u001b[1;33m\u001b[0m\u001b[0m\n\u001b[0m\u001b[0;32m    378\u001b[0m     \u001b[1;32mif\u001b[0m \u001b[1;32mnot\u001b[0m \u001b[0mtopdown\u001b[0m\u001b[1;33m:\u001b[0m\u001b[1;33m\u001b[0m\u001b[0m\n\u001b[0;32m    379\u001b[0m         \u001b[1;32myield\u001b[0m \u001b[0mtop\u001b[0m\u001b[1;33m,\u001b[0m \u001b[0mdirs\u001b[0m\u001b[1;33m,\u001b[0m \u001b[0mnondirs\u001b[0m\u001b[1;33m\u001b[0m\u001b[0m\n",
        "\u001b[1;32mD:\\Users\\KimJeongGyu\\Anaconda3\\lib\\os.py\u001b[0m in \u001b[0;36mwalk\u001b[1;34m(top, topdown, onerror, followlinks)\u001b[0m\n\u001b[0;32m    357\u001b[0m         \u001b[1;31m# Note that listdir is global in this module due\u001b[0m\u001b[1;33m\u001b[0m\u001b[1;33m\u001b[0m\u001b[0m\n\u001b[0;32m    358\u001b[0m         \u001b[1;31m# to earlier import-*.\u001b[0m\u001b[1;33m\u001b[0m\u001b[1;33m\u001b[0m\u001b[0m\n\u001b[1;32m--> 359\u001b[1;33m         \u001b[0mnames\u001b[0m \u001b[1;33m=\u001b[0m \u001b[0mlistdir\u001b[0m\u001b[1;33m(\u001b[0m\u001b[0mtop\u001b[0m\u001b[1;33m)\u001b[0m\u001b[1;33m\u001b[0m\u001b[0m\n\u001b[0m\u001b[0;32m    360\u001b[0m     \u001b[1;32mexcept\u001b[0m \u001b[0mOSError\u001b[0m \u001b[1;32mas\u001b[0m \u001b[0merr\u001b[0m\u001b[1;33m:\u001b[0m\u001b[1;33m\u001b[0m\u001b[0m\n\u001b[0;32m    361\u001b[0m         \u001b[1;32mif\u001b[0m \u001b[0monerror\u001b[0m \u001b[1;32mis\u001b[0m \u001b[1;32mnot\u001b[0m \u001b[1;32mNone\u001b[0m\u001b[1;33m:\u001b[0m\u001b[1;33m\u001b[0m\u001b[0m\n",
        "\u001b[1;31mKeyboardInterrupt\u001b[0m: "
       ]
      }
     ],
     "prompt_number": 6
    },
    {
     "cell_type": "code",
     "collapsed": false,
     "input": [
      "#when, python3\n",
      "for curdir, dirs, files in os.walk('G:\\\\'):\n",
      "    for fname in files:\n",
      "        if '\ub514\ub809\ud1a0\ub9ac' in fname:\n",
      "            fpath=os.path.join(curdir,fname)\n",
      "            print (fpath)"
     ],
     "language": "python",
     "metadata": {},
     "outputs": [
      {
       "output_type": "stream",
       "stream": "stdout",
       "text": [
        "G:\\02_\ud30c\uc77c\ub514\ub809\ud1a0\ub9ac.pptx\n"
       ]
      }
     ],
     "prompt_number": 7
    },
    {
     "cell_type": "code",
     "collapsed": false,
     "input": [
      "#when, python2\n",
      "#for curdir, dirs, files in os.walk('G:\\\\'):\n",
      "  #  for fname in files:\n",
      "        # fpath=os.path.join(curdir,fname)\n",
      "    #    if unicode('\ub514\ub809\ud1a0\ub9ac', 'utf-8').encode('cp949') in fpath:\n",
      "        #    print (fpath)"
     ],
     "language": "python",
     "metadata": {},
     "outputs": [],
     "prompt_number": 8
    },
    {
     "cell_type": "code",
     "collapsed": false,
     "input": [
      "for curdir, dirs, files in os.walk('C:\\\\Users\\\\KimJeongGyu\\\\Documents\\\\IPython Notebooks'):\n",
      "    for fname in files:\n",
      "        if fname.endswith('.ipynb'):\n",
      "            fpath=os.path.join(curdir,fname)\n",
      "            s=open(fpath).read()\n",
      "            if 'python' in s:\n",
      "                print (fpath)"
     ],
     "language": "python",
     "metadata": {},
     "outputs": [
      {
       "output_type": "stream",
       "stream": "stdout",
       "text": [
        "C:\\Users\\KimJeongGyu\\Documents\\IPython Notebooks\\02_PythonDataTypes.ipynb\n",
        "C:\\Users\\KimJeongGyu\\Documents\\IPython Notebooks\\10.1week.ipynb\n",
        "C:\\Users\\KimJeongGyu\\Documents\\IPython Notebooks\\10.2week.ipynb\n",
        "C:\\Users\\KimJeongGyu\\Documents\\IPython Notebooks\\10.3week.ipynb\n",
        "C:\\Users\\KimJeongGyu\\Documents\\IPython Notebooks\\11.1week.ipynb\n",
        "C:\\Users\\KimJeongGyu\\Documents\\IPython Notebooks\\140929.ipynb\n",
        "C:\\Users\\KimJeongGyu\\Documents\\IPython Notebooks\\141006.ipynb\n",
        "C:\\Users\\KimJeongGyu\\Documents\\IPython Notebooks\\141013.ipynb\n",
        "C:\\Users\\KimJeongGyu\\Documents\\IPython Notebooks\\141103.ipynb\n",
        "C:\\Users\\KimJeongGyu\\Documents\\IPython Notebooks\\141110.ipynb\n",
        "C:\\Users\\KimJeongGyu\\Documents\\IPython Notebooks\\2014726048_HW#2.ipynb\n",
        "C:\\Users\\KimJeongGyu\\Documents\\IPython Notebooks\\9.3week .ipynb\n",
        "C:\\Users\\KimJeongGyu\\Documents\\IPython Notebooks\\hw#4.ipynb\n",
        "C:\\Users\\KimJeongGyu\\Documents\\IPython Notebooks\\hw#5.ipynb\n",
        "C:\\Users\\KimJeongGyu\\Documents\\IPython Notebooks\\hw#6.ipynb\n",
        "C:\\Users\\KimJeongGyu\\Documents\\IPython Notebooks\\hw3.ipynb\n",
        "C:\\Users\\KimJeongGyu\\Documents\\IPython Notebooks\\Oct_twoseven.ipynb\n",
        "C:\\Users\\KimJeongGyu\\Documents\\IPython Notebooks\\Practice.ipynb\n",
        "C:\\Users\\KimJeongGyu\\Documents\\IPython Notebooks\\Untitled0.ipynb\n",
        "C:\\Users\\KimJeongGyu\\Documents\\IPython Notebooks\\.ipynb_checkpoints\\02_PythonDataTypes-checkpoint.ipynb\n",
        "C:\\Users\\KimJeongGyu\\Documents\\IPython Notebooks\\.ipynb_checkpoints\\10.1week-checkpoint.ipynb\n",
        "C:\\Users\\KimJeongGyu\\Documents\\IPython Notebooks\\.ipynb_checkpoints\\11.1week-checkpoint.ipynb\n",
        "C:\\Users\\KimJeongGyu\\Documents\\IPython Notebooks\\.ipynb_checkpoints\\140929-checkpoint.ipynb"
       ]
      },
      {
       "output_type": "stream",
       "stream": "stdout",
       "text": [
        "\n",
        "C:\\Users\\KimJeongGyu\\Documents\\IPython Notebooks\\.ipynb_checkpoints\\141006-checkpoint.ipynb\n",
        "C:\\Users\\KimJeongGyu\\Documents\\IPython Notebooks\\.ipynb_checkpoints\\141013-checkpoint.ipynb\n",
        "C:\\Users\\KimJeongGyu\\Documents\\IPython Notebooks\\.ipynb_checkpoints\\2014726048_HW#2-checkpoint.ipynb\n",
        "C:\\Users\\KimJeongGyu\\Documents\\IPython Notebooks\\.ipynb_checkpoints\\9.3week -checkpoint.ipynb\n",
        "C:\\Users\\KimJeongGyu\\Documents\\IPython Notebooks\\.ipynb_checkpoints\\hw#4-checkpoint.ipynb\n",
        "C:\\Users\\KimJeongGyu\\Documents\\IPython Notebooks\\.ipynb_checkpoints\\hw#5-checkpoint.ipynb\n",
        "C:\\Users\\KimJeongGyu\\Documents\\IPython Notebooks\\.ipynb_checkpoints\\hw#6-checkpoint.ipynb\n",
        "C:\\Users\\KimJeongGyu\\Documents\\IPython Notebooks\\.ipynb_checkpoints\\hw3-checkpoint.ipynb\n"
       ]
      }
     ],
     "prompt_number": 11
    },
    {
     "cell_type": "markdown",
     "metadata": {},
     "source": [
      "##\uc218\uc815\uc2dc\uac04\ud655\uc778"
     ]
    },
    {
     "cell_type": "code",
     "collapsed": false,
     "input": [
      "os.path.getmtime(r'G:\\\\02_\ud30c\uc77c\ub514\ub809\ud1a0\ub9ac.pptx')"
     ],
     "language": "python",
     "metadata": {},
     "outputs": [
      {
       "metadata": {},
       "output_type": "pyout",
       "prompt_number": 12,
       "text": [
        "1415582700.0418055"
       ]
      }
     ],
     "prompt_number": 12
    },
    {
     "cell_type": "code",
     "collapsed": false,
     "input": [
      "import time\n",
      "time.ctime(1415582700.0418055)"
     ],
     "language": "python",
     "metadata": {},
     "outputs": [
      {
       "metadata": {},
       "output_type": "pyout",
       "prompt_number": 13,
       "text": [
        "'Mon Nov 10 10:25:00 2014'"
       ]
      }
     ],
     "prompt_number": 13
    },
    {
     "cell_type": "code",
     "collapsed": false,
     "input": [
      "time.time()"
     ],
     "language": "python",
     "metadata": {},
     "outputs": [
      {
       "metadata": {},
       "output_type": "pyout",
       "prompt_number": 14,
       "text": [
        "1415585288.590555"
       ]
      }
     ],
     "prompt_number": 14
    },
    {
     "cell_type": "code",
     "collapsed": false,
     "input": [
      "time.ctime()"
     ],
     "language": "python",
     "metadata": {},
     "outputs": [
      {
       "metadata": {},
       "output_type": "pyout",
       "prompt_number": 15,
       "text": [
        "'Mon Nov 10 11:08:25 2014'"
       ]
      }
     ],
     "prompt_number": 15
    },
    {
     "cell_type": "code",
     "collapsed": false,
     "input": [
      "os.getcwd()#\ud604\uc7ac \ub514\ub809\ud1a0\ub9ac\uacbd\ub85c \ud655\uc778\n",
      "#os.chdir('/home')#\ub514\ub809\ud1a0\ub9ac \uacbd\ub85c \ubc14\uafb8\uae30"
     ],
     "language": "python",
     "metadata": {},
     "outputs": [
      {
       "metadata": {},
       "output_type": "pyout",
       "prompt_number": 19,
       "text": [
        "'C:\\\\Users\\\\KimJeongGyu\\\\Documents\\\\IPython Notebooks'"
       ]
      }
     ],
     "prompt_number": 19
    },
    {
     "cell_type": "markdown",
     "metadata": {},
     "source": [
      "##\ub514\ub809\ud1a0\ub9ac\uc0dd\uc131"
     ]
    },
    {
     "cell_type": "code",
     "collapsed": false,
     "input": [
      "import os"
     ],
     "language": "python",
     "metadata": {},
     "outputs": [],
     "prompt_number": 31
    },
    {
     "cell_type": "code",
     "collapsed": false,
     "input": [
      "os.getcwd()"
     ],
     "language": "python",
     "metadata": {},
     "outputs": [
      {
       "metadata": {},
       "output_type": "pyout",
       "prompt_number": 32,
       "text": [
        "'C:\\\\Users\\\\KimJeongGyu\\\\Documents\\\\IPython Notebooks'"
       ]
      }
     ],
     "prompt_number": 32
    },
    {
     "cell_type": "code",
     "collapsed": false,
     "input": [
      "os.mkdir('sad')"
     ],
     "language": "python",
     "metadata": {},
     "outputs": [
      {
       "ename": "FileExistsError",
       "evalue": "[WinError 183] \ud30c\uc77c\uc774 \uc774\ubbf8 \uc788\uc73c\ubbc0\ub85c \ub9cc\ub4e4 \uc218 \uc5c6\uc2b5\ub2c8\ub2e4: 'sad'",
       "output_type": "pyerr",
       "traceback": [
        "\u001b[1;31m---------------------------------------------------------------------------\u001b[0m\n\u001b[1;31mFileExistsError\u001b[0m                           Traceback (most recent call last)",
        "\u001b[1;32m<ipython-input-33-cb8943239455>\u001b[0m in \u001b[0;36m<module>\u001b[1;34m()\u001b[0m\n\u001b[1;32m----> 1\u001b[1;33m \u001b[0mos\u001b[0m\u001b[1;33m.\u001b[0m\u001b[0mmkdir\u001b[0m\u001b[1;33m(\u001b[0m\u001b[1;34m'sad'\u001b[0m\u001b[1;33m)\u001b[0m\u001b[1;33m\u001b[0m\u001b[0m\n\u001b[0m",
        "\u001b[1;31mFileExistsError\u001b[0m: [WinError 183] \ud30c\uc77c\uc774 \uc774\ubbf8 \uc788\uc73c\ubbc0\ub85c \ub9cc\ub4e4 \uc218 \uc5c6\uc2b5\ub2c8\ub2e4: 'sad'"
       ]
      }
     ],
     "prompt_number": 33
    },
    {
     "cell_type": "code",
     "collapsed": false,
     "input": [
      "dirpath='sad'\n",
      "for k in range(10):\n",
      "    fname='AA_{:02d}.txt'.format(k)\n",
      "    fpath=os.path.join(dirpath.fname)\n",
      "    print(fpath)\n",
      "    open(fpath, 'w'),write('testing...')"
     ],
     "language": "python",
     "metadata": {},
     "outputs": [
      {
       "ename": "AttributeError",
       "evalue": "'str' object has no attribute 'fname'",
       "output_type": "pyerr",
       "traceback": [
        "\u001b[1;31m---------------------------------------------------------------------------\u001b[0m\n\u001b[1;31mAttributeError\u001b[0m                            Traceback (most recent call last)",
        "\u001b[1;32m<ipython-input-37-b4bdd00e5af0>\u001b[0m in \u001b[0;36m<module>\u001b[1;34m()\u001b[0m\n\u001b[0;32m      3\u001b[0m     fname='AA_{:02d}.txt'.format(k\n\u001b[0;32m      4\u001b[0m                                  )\n\u001b[1;32m----> 5\u001b[1;33m     \u001b[0mfpath\u001b[0m\u001b[1;33m=\u001b[0m\u001b[0mos\u001b[0m\u001b[1;33m.\u001b[0m\u001b[0mpath\u001b[0m\u001b[1;33m.\u001b[0m\u001b[0mjoin\u001b[0m\u001b[1;33m(\u001b[0m\u001b[0mdirpath\u001b[0m\u001b[1;33m.\u001b[0m\u001b[0mfname\u001b[0m\u001b[1;33m)\u001b[0m\u001b[1;33m\u001b[0m\u001b[0m\n\u001b[0m\u001b[0;32m      6\u001b[0m     \u001b[0mprint\u001b[0m\u001b[1;33m(\u001b[0m\u001b[0mfpath\u001b[0m\u001b[1;33m)\u001b[0m\u001b[1;33m\u001b[0m\u001b[0m\n\u001b[0;32m      7\u001b[0m     \u001b[0mopen\u001b[0m\u001b[1;33m(\u001b[0m\u001b[0mfpath\u001b[0m\u001b[1;33m,\u001b[0m \u001b[1;34m'w'\u001b[0m\u001b[1;33m)\u001b[0m\u001b[1;33m,\u001b[0m\u001b[0mwrite\u001b[0m\u001b[1;33m(\u001b[0m\u001b[1;34m'testing...'\u001b[0m\u001b[1;33m)\u001b[0m\u001b[1;33m\u001b[0m\u001b[0m\n",
        "\u001b[1;31mAttributeError\u001b[0m: 'str' object has no attribute 'fname'"
       ]
      }
     ],
     "prompt_number": 37
    },
    {
     "cell_type": "code",
     "collapsed": false,
     "input": [
      "dirpath='sad'\n",
      "for curdir,dirs,files in os.walk(dirpath):\n",
      "    for fname in sorted(files):\n",
      "        part1,part2=os.path.splitext(fname)\n",
      "        fname2=part1+'_BB'+part2\n",
      "        fpath1=os.path.join(curdir.fname)\n",
      "        fpath2=os.path.join(curdir.fname2)\n",
      "        print(fpath1, '=>',fpath2)\n",
      "        os.rename(fpath1,fpath2)"
     ],
     "language": "python",
     "metadata": {},
     "outputs": [
      {
       "ename": "AttributeError",
       "evalue": "'str' object has no attribute 'fname'",
       "output_type": "pyerr",
       "traceback": [
        "\u001b[1;31m---------------------------------------------------------------------------\u001b[0m\n\u001b[1;31mAttributeError\u001b[0m                            Traceback (most recent call last)",
        "\u001b[1;32m<ipython-input-39-ae97b9620c70>\u001b[0m in \u001b[0;36m<module>\u001b[1;34m()\u001b[0m\n\u001b[0;32m      4\u001b[0m         \u001b[0mpart1\u001b[0m\u001b[1;33m,\u001b[0m\u001b[0mpart2\u001b[0m\u001b[1;33m=\u001b[0m\u001b[0mos\u001b[0m\u001b[1;33m.\u001b[0m\u001b[0mpath\u001b[0m\u001b[1;33m.\u001b[0m\u001b[0msplitext\u001b[0m\u001b[1;33m(\u001b[0m\u001b[0mfname\u001b[0m\u001b[1;33m)\u001b[0m\u001b[1;33m\u001b[0m\u001b[0m\n\u001b[0;32m      5\u001b[0m         \u001b[0mfname2\u001b[0m\u001b[1;33m=\u001b[0m\u001b[0mpart1\u001b[0m\u001b[1;33m+\u001b[0m\u001b[1;34m'_BB'\u001b[0m\u001b[1;33m+\u001b[0m\u001b[0mpart2\u001b[0m\u001b[1;33m\u001b[0m\u001b[0m\n\u001b[1;32m----> 6\u001b[1;33m         \u001b[0mfpath1\u001b[0m\u001b[1;33m=\u001b[0m\u001b[0mos\u001b[0m\u001b[1;33m.\u001b[0m\u001b[0mpath\u001b[0m\u001b[1;33m.\u001b[0m\u001b[0mjoin\u001b[0m\u001b[1;33m(\u001b[0m\u001b[0mcurdir\u001b[0m\u001b[1;33m.\u001b[0m\u001b[0mfname\u001b[0m\u001b[1;33m)\u001b[0m\u001b[1;33m\u001b[0m\u001b[0m\n\u001b[0m\u001b[0;32m      7\u001b[0m         \u001b[0mfpath2\u001b[0m\u001b[1;33m=\u001b[0m\u001b[0mos\u001b[0m\u001b[1;33m.\u001b[0m\u001b[0mpath\u001b[0m\u001b[1;33m.\u001b[0m\u001b[0mjoin\u001b[0m\u001b[1;33m(\u001b[0m\u001b[0mcurdir\u001b[0m\u001b[1;33m.\u001b[0m\u001b[0mfname2\u001b[0m\u001b[1;33m)\u001b[0m\u001b[1;33m\u001b[0m\u001b[0m\n\u001b[0;32m      8\u001b[0m         \u001b[0mprint\u001b[0m\u001b[1;33m(\u001b[0m\u001b[0mfpath1\u001b[0m\u001b[1;33m,\u001b[0m \u001b[1;34m'=>'\u001b[0m\u001b[1;33m,\u001b[0m\u001b[0mfpath2\u001b[0m\u001b[1;33m)\u001b[0m\u001b[1;33m\u001b[0m\u001b[0m\n",
        "\u001b[1;31mAttributeError\u001b[0m: 'str' object has no attribute 'fname'"
       ]
      }
     ],
     "prompt_number": 39
    },
    {
     "cell_type": "code",
     "collapsed": false,
     "input": [
      "dirpath='sad'\n",
      "for curdir,dirs,files in os.walk(dirpath):\n",
      "    for fname in sorted(files):\n",
      "        fpath=os.path.join(curdir.fname)\n",
      "        ws=fpath.split('_')\n",
      "        if int(ws[1])%2==0:\n",
      "            fpath2=os.path.splitext(fpath)[0]+'.bak'\n",
      "            print(fpath, '=>',fpath2)\n",
      "            os.rename(fpath,fpath2)"
     ],
     "language": "python",
     "metadata": {},
     "outputs": [
      {
       "ename": "AttributeError",
       "evalue": "'str' object has no attribute 'fname'",
       "output_type": "pyerr",
       "traceback": [
        "\u001b[1;31m---------------------------------------------------------------------------\u001b[0m\n\u001b[1;31mAttributeError\u001b[0m                            Traceback (most recent call last)",
        "\u001b[1;32m<ipython-input-40-a11ee1dfb996>\u001b[0m in \u001b[0;36m<module>\u001b[1;34m()\u001b[0m\n\u001b[0;32m      4\u001b[0m         \u001b[0mpart1\u001b[0m\u001b[1;33m,\u001b[0m\u001b[0mpart2\u001b[0m\u001b[1;33m=\u001b[0m\u001b[0mos\u001b[0m\u001b[1;33m.\u001b[0m\u001b[0mpath\u001b[0m\u001b[1;33m.\u001b[0m\u001b[0msplitext\u001b[0m\u001b[1;33m(\u001b[0m\u001b[0mfname\u001b[0m\u001b[1;33m)\u001b[0m\u001b[1;33m\u001b[0m\u001b[0m\n\u001b[0;32m      5\u001b[0m         \u001b[0mfname2\u001b[0m\u001b[1;33m=\u001b[0m\u001b[0mpart1\u001b[0m\u001b[1;33m+\u001b[0m\u001b[1;34m'bak'\u001b[0m\u001b[1;33m\u001b[0m\u001b[0m\n\u001b[1;32m----> 6\u001b[1;33m         \u001b[0mfpath1\u001b[0m\u001b[1;33m=\u001b[0m\u001b[0mos\u001b[0m\u001b[1;33m.\u001b[0m\u001b[0mpath\u001b[0m\u001b[1;33m.\u001b[0m\u001b[0mjoin\u001b[0m\u001b[1;33m(\u001b[0m\u001b[0mcurdir\u001b[0m\u001b[1;33m.\u001b[0m\u001b[0mfname\u001b[0m\u001b[1;33m)\u001b[0m\u001b[1;33m\u001b[0m\u001b[0m\n\u001b[0m\u001b[0;32m      7\u001b[0m         \u001b[0mfpath2\u001b[0m\u001b[1;33m=\u001b[0m\u001b[0mos\u001b[0m\u001b[1;33m.\u001b[0m\u001b[0mpath\u001b[0m\u001b[1;33m.\u001b[0m\u001b[0mjoin\u001b[0m\u001b[1;33m(\u001b[0m\u001b[0mcurdir\u001b[0m\u001b[1;33m.\u001b[0m\u001b[0mfname2\u001b[0m\u001b[1;33m)\u001b[0m\u001b[1;33m\u001b[0m\u001b[0m\n\u001b[0;32m      8\u001b[0m         \u001b[0mprint\u001b[0m\u001b[1;33m(\u001b[0m\u001b[0mfpath1\u001b[0m\u001b[1;33m,\u001b[0m \u001b[1;34m'=>'\u001b[0m\u001b[1;33m,\u001b[0m\u001b[0mfpath2\u001b[0m\u001b[1;33m)\u001b[0m\u001b[1;33m\u001b[0m\u001b[0m\n",
        "\u001b[1;31mAttributeError\u001b[0m: 'str' object has no attribute 'fname'"
       ]
      }
     ],
     "prompt_number": 40
    },
    {
     "cell_type": "code",
     "collapsed": false,
     "input": [
      "import shutil\n",
      "dirpath='sad'\n",
      "for curdir,dirs,files in os.walk(dirpath):\n",
      "    for fname in sorted(files):\n",
      "        if '.bak' in fname:\n",
      "            shutil.rmtree('sad')"
     ],
     "language": "python",
     "metadata": {},
     "outputs": [],
     "prompt_number": 41
    },
    {
     "cell_type": "code",
     "collapsed": false,
     "input": [],
     "language": "python",
     "metadata": {},
     "outputs": []
    }
   ],
   "metadata": {}
  }
 ]
}