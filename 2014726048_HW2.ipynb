{
 "metadata": {
  "name": "",
  "signature": "sha256:ddd0d3efaba26de7ed72fb3e9fbf1b17668a28e76e35f8c0e7a3c4367e2ce125"
 },
 "nbformat": 3,
 "nbformat_minor": 0,
 "worksheets": [
  {
   "cells": [
    {
     "cell_type": "markdown",
     "metadata": {},
     "source": [
      "# \ucef4\ud4e8\ud130 \uc5b8\uc5b4 \uacfc\uc81c #2\n",
      "## \ucef4\ud4e8\ud130\uc18c\ud504\ud2b8\uc6e8\uc5b4\ud559\uacfc 1\ud559\ub144 2014726048 \uae40\uc815\uaddc"
     ]
    },
    {
     "cell_type": "markdown",
     "metadata": {},
     "source": [
      "###1. \uc5f0\ubd84\uc218\ub97c \uc774\uc6a9\ud558\uc5ec \u221a2, \u221a3, \u221a5 \uc758 \uac12\uc744 20\uac1c \ud56d\uc73c\ub85c \uacc4\uc0b0\ud558\uc2dc\uc624. \uae00 \uacb0\uacfc\ub97c \ud30c\uc774\uc36c\uc5d0\uc11c \uacc4\uc0b0\ud55c \uacb0\uacfc\uc640 \ube44\uad50\ud574 \ubcf4\uc2dc\uc624."
     ]
    },
    {
     "cell_type": "markdown",
     "metadata": {},
     "source": [
      "#### $\u221a2 = 1.4142135623730950488...$ \uc5f0\ubd84\uc218\ub85c \uadfc\uc0ac\uac12 \uad6c\ud558\uae30\n",
      "#### $ 1 + \\cfrac{1}{2 + \\cfrac{1}{2 + \\cfrac{1}{2 + \\cfrac{1}{2 + \\ddots}}}}$"
     ]
    },
    {
     "cell_type": "code",
     "collapsed": false,
     "input": [
      "from __future__ import division"
     ],
     "language": "python",
     "metadata": {},
     "outputs": [],
     "prompt_number": 3
    },
    {
     "cell_type": "code",
     "collapsed": false,
     "input": [
      "acc=0.0\n",
      "for k in range(20):\n",
      "    acc=1/(2+acc)\n",
      "    \n",
      "    if(k==19):\n",
      "        acc=1+acc\n",
      "print acc"
     ],
     "language": "python",
     "metadata": {},
     "outputs": [
      {
       "output_type": "stream",
       "stream": "stdout",
       "text": [
        "1.41421356237\n"
       ]
      }
     ],
     "prompt_number": 4
    },
    {
     "cell_type": "markdown",
     "metadata": {},
     "source": [
      "#### $\u221a3 = 1.7320508075688772935...$ \uc5f0\ubd84\uc218\ub85c \uadfc\uc0ac\uac12 \uad6c\ud558\uae30\n",
      "#### $1 + \\cfrac{1}{1 + \\cfrac{1}{2 + \\cfrac{1}{1 + \\cfrac{1}{2 + \\cfrac{1}{1 + \\ddots}}}}}$"
     ]
    },
    {
     "cell_type": "code",
     "collapsed": false,
     "input": [
      "acc=0.0\n",
      "for k in range(20):\n",
      "    if(k%2==0):\n",
      "        acc=1/(2+acc)\n",
      "    if(k%2==1):\n",
      "        acc=1/(1+acc)\n",
      "    \n",
      "    if(k==19):\n",
      "        acc=1+acc\n",
      "print acc"
     ],
     "language": "python",
     "metadata": {},
     "outputs": [
      {
       "output_type": "stream",
       "stream": "stdout",
       "text": [
        "1.73205080757\n"
       ]
      }
     ],
     "prompt_number": 5
    },
    {
     "cell_type": "markdown",
     "metadata": {},
     "source": [
      "#### $\u221a5 = 2.23606797749978969...$ \uc5f0\ubd84\uc218\ub85c \uadfc\uc0ac\uac12 \uad6c\ud558\uae30\n",
      "#### $2 + \\cfrac{1}{4 + \\cfrac{1}{4 + \\cfrac{1}{4 + \\cfrac{1}{4 + \\ddots}}}}$"
     ]
    },
    {
     "cell_type": "code",
     "collapsed": false,
     "input": [
      "acc=0.0\n",
      "for k in range(20):\n",
      "    acc=1/(4+acc)\n",
      "    \n",
      "    if(k==19):\n",
      "        acc=2+acc\n",
      "print acc"
     ],
     "language": "python",
     "metadata": {},
     "outputs": [
      {
       "output_type": "stream",
       "stream": "stdout",
       "text": [
        "2.2360679775\n"
       ]
      }
     ],
     "prompt_number": 6
    },
    {
     "cell_type": "markdown",
     "metadata": {},
     "source": [
      "###2. $Nilakantha's Series(\ud639\uc740 Nilakantha method)\uc744 \uc774\uc6a9\ud55c \u03c0 \uac12\uc744 \uacc4\uc0b0\ud558\uc2dc\uc624.$\n",
      "### $Decimal \ud639\uc740 Fraction\uc744 \uc774\uc6a9\ud558\uc5ec \uc624\ucc28\ub97c \uc904\uc774\ub294 \ubc29\ubc95\uc744 \uace0\uc548\ud574\ubcf4\uc2dc\uc624.$\n",
      "#### $ \\pi = 3 + \\frac{4}{2 \\cdot 3 \\cdot 4} - \\frac{4}{4 \\cdot 5 \\cdot 6} + \\frac{4}{6 \\cdot 7 \\cdot 8} - \\frac{4}{8 \\cdot 9 \\cdot 10}+\\dots\\ $\n",
      "#### $ \\pi = 3.1415926535\u2026\u2026 $"
     ]
    },
    {
     "cell_type": "code",
     "collapsed": false,
     "input": [
      "from fractions import  Fraction"
     ],
     "language": "python",
     "metadata": {},
     "outputs": [],
     "prompt_number": 7
    },
    {
     "cell_type": "code",
     "collapsed": false,
     "input": [
      "import numpy as np"
     ],
     "language": "python",
     "metadata": {},
     "outputs": [],
     "prompt_number": 8
    },
    {
     "cell_type": "code",
     "collapsed": false,
     "input": [
      "def Nilakantha_for_pi(end):\n",
      "    sum=3\n",
      "    op = '+'\n",
      "    for n in np.arange(3,end,2):\n",
      "        if (op == '-'):\n",
      "            sum -= float(Fraction(4,(n-1)*n*(n+1)))\n",
      "            op = '+'\n",
      "        else:\n",
      "            sum += float(Fraction(4,(n-1)*n*(n+1)))\n",
      "            op = '-'\n",
      "    return sum"
     ],
     "language": "python",
     "metadata": {},
     "outputs": [],
     "prompt_number": 25
    },
    {
     "cell_type": "code",
     "collapsed": false,
     "input": [
      "end=4500\n",
      "for k in np.arange(0,end+1,25):\n",
      "    print 'when, end number is ', k,':', Nilakantha_for_pi(k)"
     ],
     "language": "python",
     "metadata": {},
     "outputs": [
      {
       "output_type": "stream",
       "stream": "stdout",
       "text": [
        "when, end number is  0 : 3\n",
        "when, end number is  25 : 3.14173609926\n",
        "when, end number is  50 : 3.14157668544\n",
        "when, end number is  75 : 3.14158772254\n",
        "when, end number is  100 : 3.14159465259\n",
        "when, end number is  125 : 3.14159370222\n",
        "when, end number is  150 : 3.14159206113\n",
        "when, end number is  175 : 3.141592274\n",
        "when, end number is  200 : 3.14159290356\n",
        "when, end number is  225 : 3.14159283152\n",
        "when, end number is  250 : 3.1415925256\n",
        "when, end number is  275 : 3.14159255637\n",
        "when, end number is  300 : 3.14159272766\n",
        "when, end number is  325 : 3.14159271239\n",
        "when, end number is  350 : 3.14159260694\n",
        "when, end number is  375 : 3.14159261536\n",
        "when, end number is  400 : 3.14159268484\n",
        "when, end number is  425 : 3.14159267983\n",
        "when, end number is  450 : 3.14159263164\n",
        "when, end number is  475 : 3.14159263481\n",
        "when, end number is  500 : 3.14159266959\n",
        "when, end number is  525 : "
       ]
      },
      {
       "output_type": "stream",
       "stream": "stdout",
       "text": [
        "3.14159266749\n",
        "when, end number is  550 : 3.14159264157\n",
        "when, end number is  575 : 3.14159264301\n",
        "when, end number is  600 : 3.14159266285\n",
        "when, end number is  625 : 3.14159266182\n",
        "when, end number is  650 : 3.14159264631\n",
        "when, end number is  675 : 3.14159264706\n",
        "when, end number is  700 : 3.14159265942\n",
        "when, end number is  725 : 3.14159265886\n",
        "when, end number is  750 : 3.14159264885\n",
        "when, end number is  775 : "
       ]
      },
      {
       "output_type": "stream",
       "stream": "stdout",
       "text": [
        "3.14159264928\n",
        "when, end number is  800 : 3.1415926575\n",
        "when, end number is  825 : 3.14159265716\n",
        "when, end number is  850 : 3.14159265033\n",
        "when, end number is  875 : 3.14159265059\n",
        "when, end number is  900 : 3.14159265633\n",
        "when, end number is  925 : 3.14159265612\n",
        "when, end number is  950 : 3.14159265126\n",
        "when, end number is  975 : "
       ]
      },
      {
       "output_type": "stream",
       "stream": "stdout",
       "text": [
        "3.14159265143\n",
        "when, end number is  1000 : 3.14159265559\n",
        "when, end number is  1025 : 3.14159265545\n",
        "when, end number is  1050 : 3.14159265186\n",
        "when, end number is  1075 : 3.14159265198\n",
        "when, end number is  1100 : 3.14159265509\n",
        "when, end number is  1125 : 3.141592655\n",
        "when, end number is  1150 : "
       ]
      },
      {
       "output_type": "stream",
       "stream": "stdout",
       "text": [
        "3.14159265227\n",
        "when, end number is  1175 : 3.14159265235\n",
        "when, end number is  1200 : 3.14159265475\n",
        "when, end number is  1225 : "
       ]
      },
      {
       "output_type": "stream",
       "stream": "stdout",
       "text": [
        "3.14159265468\n",
        "when, end number is  1250 : 3.14159265257\n",
        "when, end number is  1275 : 3.14159265262\n",
        "when, end number is  1300 : 3.14159265077\n",
        "when, end number is  1325 : 3.14159265071\n",
        "when, end number is  1350 : "
       ]
      },
      {
       "output_type": "stream",
       "stream": "stdout",
       "text": [
        "3.14159265282\n",
        "when, end number is  1375 : 3.1415926529\n",
        "when, end number is  1400 : 3.14159265044\n",
        "when, end number is  1425 : 3.14159265031\n",
        "when, end number is  1450 : 3.14159265333\n",
        "when, end number is  1475 : "
       ]
      },
      {
       "output_type": "stream",
       "stream": "stdout",
       "text": [
        "3.14159265356\n",
        "when, end number is  1500 : 3.14159264955\n",
        "when, end number is  1525 : 3.14159264908\n",
        "when, end number is  1550 : 3.14159265523\n",
        "when, end number is  1575 : "
       ]
      },
      {
       "output_type": "stream",
       "stream": "stdout",
       "text": [
        "3.14159265678\n",
        "when, end number is  1600 : 3.14159264169\n",
        "when, end number is  1625 : 3.14159251724\n",
        "when, end number is  1650 : 3.14159376456\n",
        "when, end number is  1675 : "
       ]
      },
      {
       "output_type": "stream",
       "stream": "stdout",
       "text": [
        "3.14159376964\n",
        "when, end number is  1700 : 3.14159377792\n",
        "when, end number is  1725 : 3.1415937771\n",
        "when, end number is  1750 : 3.14159377281\n",
        "when, end number is  1775 : "
       ]
      },
      {
       "output_type": "stream",
       "stream": "stdout",
       "text": [
        "3.14159377313\n",
        "when, end number is  1800 : 3.14159377599\n",
        "when, end number is  1825 : 3.14159377581\n",
        "when, end number is  1850 : 3.1415937737\n",
        "when, end number is  1875 : "
       ]
      },
      {
       "output_type": "stream",
       "stream": "stdout",
       "text": [
        "3.14159377755\n",
        "when, end number is  1900 : 3.14159377539\n",
        "when, end number is  1925 : 3.14159377519\n",
        "when, end number is  1950 : 3.14159377825\n",
        "when, end number is  1975 : "
       ]
      },
      {
       "output_type": "stream",
       "stream": "stdout",
       "text": [
        "3.14159377878\n",
        "when, end number is  2000 : 3.14159377316\n",
        "when, end number is  2025 : 3.14159376986\n",
        "when, end number is  2050 : "
       ]
      },
      {
       "output_type": "stream",
       "stream": "stdout",
       "text": [
        "3.14159320906\n",
        "when, end number is  2075 : 3.14159327118\n",
        "when, end number is  2100 : 3.14159328019\n",
        "when, end number is  2125 : "
       ]
      },
      {
       "output_type": "stream",
       "stream": "stdout",
       "text": [
        "3.14159327922\n",
        "when, end number is  2150 : 3.14159327572\n",
        "when, end number is  2175 : 3.14159327602\n",
        "when, end number is  2200 : "
       ]
      },
      {
       "output_type": "stream",
       "stream": "stdout",
       "text": [
        "3.14159327818\n",
        "when, end number is  2225 : 3.14159327428\n",
        "when, end number is  2250 : 3.14159327668\n",
        "when, end number is  2275 : "
       ]
      },
      {
       "output_type": "stream",
       "stream": "stdout",
       "text": [
        "3.14159327712\n",
        "when, end number is  2300 : 3.14159327256\n",
        "when, end number is  2325 : 3.14159326935\n",
        "when, end number is  2350 : "
       ]
      },
      {
       "output_type": "stream",
       "stream": "stdout",
       "text": [
        "3.14159279617\n",
        "when, end number is  2375 : 3.14159281304\n",
        "when, end number is  2400 : 3.14159281921\n",
        "when, end number is  2425 : "
       ]
      },
      {
       "output_type": "stream",
       "stream": "stdout",
       "text": [
        "3.14159281855\n",
        "when, end number is  2450 : 3.14159281598\n",
        "when, end number is  2475 : 3.14159281992\n",
        "when, end number is  2500 : "
       ]
      },
      {
       "output_type": "stream",
       "stream": "stdout",
       "text": [
        "3.14159281765\n",
        "when, end number is  2525 : 3.14159281712\n",
        "when, end number is  2550 : 3.14159282228\n",
        "when, end number is  2575 : "
       ]
      },
      {
       "output_type": "stream",
       "stream": "stdout",
       "text": [
        "3.14159283447\n",
        "when, end number is  2600 : 3.14159246549\n",
        "when, end number is  2625 : 3.14159246271\n",
        "when, end number is  2650 : "
       ]
      },
      {
       "output_type": "stream",
       "stream": "stdout",
       "text": [
        "3.14159245906\n",
        "when, end number is  2675 : 3.14159245942\n",
        "when, end number is  2700 : 3.1415924612\n",
        "when, end number is  2725 : "
       ]
      },
      {
       "output_type": "stream",
       "stream": "stdout",
       "text": [
        "3.14159246073\n",
        "when, end number is  2750 : 3.14159246526\n",
        "when, end number is  2775 : 3.14159247742\n",
        "when, end number is  2800 : "
       ]
      },
      {
       "output_type": "stream",
       "stream": "stdout",
       "text": [
        "3.14159211638\n",
        "when, end number is  2825 : 3.14159211411\n",
        "when, end number is  2850 : "
       ]
      },
      {
       "output_type": "stream",
       "stream": "stdout",
       "text": [
        "3.141592111\n",
        "when, end number is  2875 : 3.14159211132\n",
        "when, end number is  2900 : "
       ]
      },
      {
       "output_type": "stream",
       "stream": "stdout",
       "text": [
        "3.14159210889\n",
        "when, end number is  2925 : 3.14159210774\n",
        "when, end number is  2950 : "
       ]
      },
      {
       "output_type": "stream",
       "stream": "stdout",
       "text": [
        "3.14159212971\n",
        "when, end number is  2975 : 3.14159237052\n",
        "when, end number is  3000 : "
       ]
      },
      {
       "output_type": "stream",
       "stream": "stdout",
       "text": [
        "3.14159237588\n",
        "when, end number is  3025 : 3.14159237531\n",
        "when, end number is  3050 : "
       ]
      },
      {
       "output_type": "stream",
       "stream": "stdout",
       "text": [
        "3.14159237357\n",
        "when, end number is  3075 : 3.14159237435\n",
        "when, end number is  3100 : "
       ]
      },
      {
       "output_type": "stream",
       "stream": "stdout",
       "text": [
        "3.14159236516\n",
        "when, end number is  3125 : 3.1415927005\n",
        "when, end number is  3150 : "
       ]
      },
      {
       "output_type": "stream",
       "stream": "stdout",
       "text": [
        "3.14159269413\n",
        "when, end number is  3175 : 3.14159269476\n",
        "when, end number is  3200 : "
       ]
      },
      {
       "output_type": "stream",
       "stream": "stdout",
       "text": [
        "3.14159269269\n",
        "when, end number is  3225 : 3.14159269159\n",
        "when, end number is  3250 : "
       ]
      },
      {
       "output_type": "stream",
       "stream": "stdout",
       "text": [
        "3.14159273775\n",
        "when, end number is  3275 : 3.14164229949\n",
        "when, end number is  3300 : "
       ]
      },
      {
       "output_type": "stream",
       "stream": "stdout",
       "text": [
        "3.14164230348\n",
        "when, end number is  3325 : 3.14164229931\n",
        "when, end number is  3350 : "
       ]
      },
      {
       "output_type": "stream",
       "stream": "stdout",
       "text": [
        "3.14164230223\n",
        "when, end number is  3375 : 3.14164230835\n",
        "when, end number is  3400 : "
       ]
      },
      {
       "output_type": "stream",
       "stream": "stdout",
       "text": [
        "3.14164298363\n",
        "when, end number is  3425 : 3.1416429819\n",
        "when, end number is  3450 : "
       ]
      },
      {
       "output_type": "stream",
       "stream": "stdout",
       "text": [
        "3.14164297976\n",
        "when, end number is  3475 : 3.14164298065\n",
        "when, end number is  3500 : "
       ]
      },
      {
       "output_type": "stream",
       "stream": "stdout",
       "text": [
        "3.14164295563\n",
        "when, end number is  3525 : 3.14164315213\n",
        "when, end number is  3550 : "
       ]
      },
      {
       "output_type": "stream",
       "stream": "stdout",
       "text": [
        "3.14164314855\n",
        "when, end number is  3575 : 3.14164315279\n",
        "when, end number is  3600 : "
       ]
      },
      {
       "output_type": "stream",
       "stream": "stdout",
       "text": [
        "3.14164314815\n",
        "when, end number is  3625 : 3.14164182529\n",
        "when, end number is  3650 : "
       ]
      },
      {
       "output_type": "stream",
       "stream": "stdout",
       "text": [
        "3.14164181821\n",
        "when, end number is  3675 : 3.14164181881\n",
        "when, end number is  3700 : "
       ]
      },
      {
       "output_type": "stream",
       "stream": "stdout",
       "text": [
        "3.14164181554\n",
        "when, end number is  3725 : 3.14164206225\n",
        "when, end number is  3750 : "
       ]
      },
      {
       "output_type": "stream",
       "stream": "stdout",
       "text": [
        "3.14164204356\n",
        "when, end number is  3775 : 3.14164204805\n",
        "when, end number is  3800 : "
       ]
      },
      {
       "output_type": "stream",
       "stream": "stdout",
       "text": [
        "3.14164204502\n",
        "when, end number is  3825 : 3.14164221225\n",
        "when, end number is  3850 : "
       ]
      },
      {
       "output_type": "stream",
       "stream": "stdout",
       "text": [
        "3.14164219033\n",
        "when, end number is  3875 : 3.1416421911\n",
        "when, end number is  3900 : "
       ]
      },
      {
       "output_type": "stream",
       "stream": "stdout",
       "text": [
        "3.14164218763\n",
        "when, end number is  3925 : 3.1416423521\n",
        "when, end number is  3950 : "
       ]
      },
      {
       "output_type": "stream",
       "stream": "stdout",
       "text": [
        "3.14164234406\n",
        "when, end number is  3975 : 3.14164234845\n",
        "when, end number is  4000 : "
       ]
      },
      {
       "output_type": "stream",
       "stream": "stdout",
       "text": [
        "3.1416423426\n",
        "when, end number is  4025 : 3.14164187105\n",
        "when, end number is  4050 : "
       ]
      },
      {
       "output_type": "stream",
       "stream": "stdout",
       "text": [
        "3.14164186734\n",
        "when, end number is  4075 : 3.14164187201\n",
        "when, end number is  4100 : "
       ]
      },
      {
       "output_type": "stream",
       "stream": "stdout",
       "text": [
        "3.14164175479\n",
        "when, end number is  4125 : 3.14164174677\n",
        "when, end number is  4150 : "
       ]
      },
      {
       "output_type": "stream",
       "stream": "stdout",
       "text": [
        "3.1416417448\n",
        "when, end number is  4175 : 3.14164175012\n",
        "when, end number is  4200 : "
       ]
      },
      {
       "output_type": "stream",
       "stream": "stdout",
       "text": [
        "3.14164159961\n",
        "when, end number is  4225 : 3.14164159858\n",
        "when, end number is  4250 : "
       ]
      },
      {
       "output_type": "stream",
       "stream": "stdout",
       "text": [
        "3.14164160325\n",
        "when, end number is  4275 : 3.14164148158\n",
        "when, end number is  4300 : "
       ]
      },
      {
       "output_type": "stream",
       "stream": "stdout",
       "text": [
        "3.14164148509\n",
        "when, end number is  4325 : 3.14164148342\n",
        "when, end number is  4350 : "
       ]
      },
      {
       "output_type": "stream",
       "stream": "stdout",
       "text": [
        "3.14164164494\n",
        "when, end number is  4375 : 3.14164164678\n",
        "when, end number is  4400 : "
       ]
      },
      {
       "output_type": "stream",
       "stream": "stdout",
       "text": [
        "3.14164164683\n",
        "when, end number is  4425 : 3.1416415334\n",
        "when, end number is  4450 : "
       ]
      },
      {
       "output_type": "stream",
       "stream": "stdout",
       "text": [
        "3.14164153333\n",
        "when, end number is  4475 : 3.14164153547\n",
        "when, end number is  4500 : "
       ]
      },
      {
       "output_type": "stream",
       "stream": "stdout",
       "text": [
        "3.14164134588\n"
       ]
      }
     ],
     "prompt_number": 32
    },
    {
     "cell_type": "code",
     "collapsed": false,
     "input": [],
     "language": "python",
     "metadata": {},
     "outputs": []
    }
   ],
   "metadata": {}
  }
 ]
}