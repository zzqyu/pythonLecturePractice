{
 "metadata": {
  "name": "",
  "signature": "sha256:890955dbee5d00c36f544c590a9db249b9d6b398ddc9174e3cd9f431312ce00a"
 },
 "nbformat": 3,
 "nbformat_minor": 0,
 "worksheets": [
  {
   "cells": [
    {
     "cell_type": "markdown",
     "metadata": {},
     "source": [
      "#\ud074\ub798\uc2a4, \uc778\uc2a4\ud134\ud2b8"
     ]
    },
    {
     "cell_type": "code",
     "collapsed": false,
     "input": [
      "class math:\n",
      "    def plus(self,a,b):\n",
      "        return a+b\n",
      "\n",
      "        "
     ],
     "language": "python",
     "metadata": {},
     "outputs": [],
     "prompt_number": 1
    },
    {
     "cell_type": "code",
     "collapsed": false,
     "input": [
      "p1=math()"
     ],
     "language": "python",
     "metadata": {},
     "outputs": [],
     "prompt_number": 2
    },
    {
     "cell_type": "code",
     "collapsed": false,
     "input": [
      "p1.plus(1,2)"
     ],
     "language": "python",
     "metadata": {},
     "outputs": [
      {
       "metadata": {},
       "output_type": "pyout",
       "prompt_number": 3,
       "text": [
        "3"
       ]
      }
     ],
     "prompt_number": 3
    },
    {
     "cell_type": "code",
     "collapsed": false,
     "input": [
      "class math:\n",
      "    def __init__(self,a,giho,b):\n",
      "        self.a=a\n",
      "        self.b=b\n",
      "        self.giho=giho\n",
      "    def plus(self):\n",
      "        if(self.giho=='+'):\n",
      "            return  self.a+ self.b\n",
      "        else:\n",
      "            pass\n",
      "    def minus(self):\n",
      "        if(self.giho=='-'):\n",
      "            return  self.a- self.b\n",
      "        else:\n",
      "            pass\n",
      "    def gop(self):\n",
      "        if(self.giho=='*'):\n",
      "            return  self.a* self.b\n",
      "        else:\n",
      "            pass\n",
      "    def nanu(self):\n",
      "        if(self.giho=='/'):\n",
      "            return  self.a/ self.b\n",
      "        else:\n",
      "            pass\n",
      "\n",
      "math."
     ],
     "language": "python",
     "metadata": {},
     "outputs": [
      {
       "metadata": {},
       "output_type": "pyout",
       "prompt_number": 23,
       "text": [
        "<__main__.math at 0x4a2ecc0>"
       ]
      }
     ],
     "prompt_number": 23
    },
    {
     "cell_type": "code",
     "collapsed": false,
     "input": [
      "math()"
     ],
     "language": "python",
     "metadata": {},
     "outputs": []
    },
    {
     "cell_type": "code",
     "collapsed": false,
     "input": [
      "class MyClass2:\n",
      "    def set(self, v):\n",
      "        self.value = v\n",
      "    def incr(self):\n",
      "        self.set(self.value + 1)\n",
      "    def put(self):\n",
      "        print( self.value)"
     ],
     "language": "python",
     "metadata": {},
     "outputs": [],
     "prompt_number": 5
    },
    {
     "cell_type": "code",
     "collapsed": false,
     "input": [
      "a=MyClass2()\n",
      "\n",
      "a.set(1)\n",
      "a.incr()\n",
      "a.put()"
     ],
     "language": "python",
     "metadata": {},
     "outputs": [
      {
       "output_type": "stream",
       "stream": "stdout",
       "text": [
        "2\n"
       ]
      }
     ],
     "prompt_number": 8
    },
    {
     "cell_type": "code",
     "collapsed": false,
     "input": [
      "from time import time, ctime, sleep\n",
      "class Life:\n",
      "    def __init__(self): # \uc0dd \uc131 \uc790\n",
      "        self.birth = ctime() # \ud604 \uc7ac \uc2dc \uac04\n",
      "        print ('Birthday', self.birth) # \ud604 \uc7ac \uc2dc \uac04 \ucd9c \ub825\n",
      "    def __del__(self): # \uc18c \uba78 \uc790\n",
      "        print ('Deathday', ctime()) # \uc18c \uba78 \uc2dc \uac04 \ucd9c \ub825\n",
      "mylife = Life()\n",
      "print ('Sleeping for 3 sec')\n",
      "sleep(3)"
     ],
     "language": "python",
     "metadata": {},
     "outputs": [
      {
       "output_type": "stream",
       "stream": "stdout",
       "text": [
        "Birthday Sat Dec  6 22:44:06 2014\n",
        "Sleeping for 3 sec\n"
       ]
      }
     ],
     "prompt_number": 11
    },
    {
     "cell_type": "markdown",
     "metadata": {},
     "source": [
      "#\uc0c1\uc18d"
     ]
    },
    {
     "cell_type": "code",
     "collapsed": false,
     "input": [
      "class Person:\n",
      "    def __init__(self, name, phone=None):\n",
      "        self.name = name\n",
      "        self.phone = phone\n",
      "    def display(self):\n",
      "        return '<Person %s %s>' % (self.name, self.phone)\n",
      "class Employee(Person):\n",
      "    def __init__(self, name, phone, position, salary):\n",
      "        Person.__init__(self, name, phone)\n",
      "        self.position = position\n",
      "        self.salary = salary"
     ],
     "language": "python",
     "metadata": {},
     "outputs": [],
     "prompt_number": 12
    },
    {
     "cell_type": "code",
     "collapsed": false,
     "input": [
      "m1 = Employee('\uc190\ucc3d\ud76c', 5564, '\ub300\ub9ac', 200)\n",
      "m2 = Employee('\uae40\uae30\ub3d9', 8546, '\uacfc\uc7a5', 300)\n",
      "print (m1.name, m1.position)\n",
      "print (m2.name, m2.position)"
     ],
     "language": "python",
     "metadata": {},
     "outputs": [
      {
       "output_type": "stream",
       "stream": "stdout",
       "text": [
        "\uc190\ucc3d\ud76c \ub300\ub9ac\n",
        "\uae40\uae30\ub3d9 \uacfc\uc7a5\n"
       ]
      }
     ],
     "prompt_number": 14
    },
    {
     "cell_type": "code",
     "collapsed": false,
     "input": [
      "m3=Person('\uc190\ucc3d\ud76c', 5564)\n",
      "print(m3.display())"
     ],
     "language": "python",
     "metadata": {},
     "outputs": [
      {
       "output_type": "stream",
       "stream": "stdout",
       "text": [
        "<Person \uc190\ucc3d\ud76c 5564>\n"
       ]
      }
     ],
     "prompt_number": 16
    },
    {
     "cell_type": "markdown",
     "metadata": {},
     "source": [
      "#\uc608\uc678"
     ]
    },
    {
     "cell_type": "code",
     "collapsed": false,
     "input": [
      "import sys\n",
      "try:\n",
      "    raise ZeroDivisionError\n",
      "except:\n",
      "    print(sys.exc_info()[1])\n",
      "else:\n",
      "    print('\uc624\ub958 \uc5c6\uc74c')\n",
      "finally:\n",
      "    print(\"\uae40\uc815\uaddc\")"
     ],
     "language": "python",
     "metadata": {},
     "outputs": [
      {
       "output_type": "stream",
       "stream": "stdout",
       "text": [
        "\n",
        "\uae40\uc815\uaddc\n"
       ]
      }
     ],
     "prompt_number": 5
    },
    {
     "cell_type": "markdown",
     "metadata": {},
     "source": [
      "#\ud30c\uc77c, \ub514\ub809\ud1a0\ub9ac \ub2e4\ub8e8\uae30"
     ]
    },
    {
     "cell_type": "code",
     "collapsed": false,
     "input": [
      "import fnmatch\n",
      "a=fnmatch.fnmatch('t.txt', '?.txt')\n",
      "b=fnmatch.fnmatch('a.txt', '[a-c].txt')\n",
      "c=fnmatch.fnmatch('d.txt', '[a-b].txt')\n",
      "print(a,b,c)#\ud30c\uc77c\uba85 \ub9e4\uce6d"
     ],
     "language": "python",
     "metadata": {},
     "outputs": [
      {
       "output_type": "stream",
       "stream": "stdout",
       "text": [
        "True True False\n"
       ]
      }
     ],
     "prompt_number": 10
    },
    {
     "cell_type": "code",
     "collapsed": false,
     "input": [
      "import os\n",
      "a=os.path.basename('C:\\\\Python33\\\\t.txt')\t# \ud30c\uc77c\uba85\ub9cc \ucd94\ucd9c\n",
      "b=os.path.dirname('C:\\\\Python33\\\\t.txt')\t# \ub514\ub809\ud1a0\ub9ac \uacbd\ub85c \ucd94\ucd9c\n",
      "e=os.path.split('C:\\\\Python33\\\\t.txt')# \ub514\ub809\ud1a0\ub9ac /\ud30c\uc77c\uba85 \ubd84\ub9ac\n",
      "print(a,b,e)"
     ],
     "language": "python",
     "metadata": {},
     "outputs": [
      {
       "output_type": "stream",
       "stream": "stdout",
       "text": [
        "t.txt C:\\Python33 ('C:\\\\Python33', 't.txt')\n"
       ]
      }
     ],
     "prompt_number": 16
    },
    {
     "cell_type": "code",
     "collapsed": false,
     "input": [],
     "language": "python",
     "metadata": {},
     "outputs": []
    }
   ],
   "metadata": {}
  }
 ]
}