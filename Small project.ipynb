{
 "metadata": {
  "name": "",
  "signature": "sha256:03b9406da13ee524970a7ae60298459f474b7ad28ae355728a759c5bad98d3e0"
 },
 "nbformat": 3,
 "nbformat_minor": 0,
 "worksheets": [
  {
   "cells": [
    {
     "cell_type": "markdown",
     "metadata": {},
     "source": [
      "-\uc790\ub8cc \ub3d9\uae30\ud654\n",
      "\n",
      "    * \ub450 \ud3f4\ub354\uc758 \ub0b4\uc6a9\uc744 \ube44\uad50\ud558\uace0 \ud3f4\ub354 \uad6c\uc870 \ubc0f \ud30c\uc77c\uc744 \ub3d9\uae30\ud654 \ud55c\ub2e4\n",
      "-\uae30\uc900\n",
      "    * src_dir \u2192 dst_dir\n",
      "    \n",
      "    * \ub514\ub809\ud1a0\ub9ac\ub97c \uc7ac\uadc0\uc801\uc73c\ub85c \ucc98\ub9ac\ud55c\ub2e4\n",
      "    \n",
      "    * dst_*\uc5d0 \ub514\ub809\ud1a0\ub9ac\uac00 \uc5c6\uc73c\uba74 \uc0dd\uc131\ud55c\ub2e4\n",
      "    \n",
      "    * \ud30c\uc77c \uc218\uc815\uc2dc\uac04\uc744 \uae30\uc900\uc73c\ub85c \ubcf5\uc0ac \uc5ec\ubd80\ub97c \uacb0\uc815\ud55c\ub2e4"
     ]
    },
    {
     "cell_type": "code",
     "collapsed": false,
     "input": [
      "import glob#\ud30c\uc77c\ubaa9\ub85d\uc5bb\uae30\n",
      "\n",
      "before=glob.glob('G:\\\\before\\\\*.*')\n",
      "after=glob.glob('G:\\\\after\\\\*.*')\n",
      "print(before, after)"
     ],
     "language": "python",
     "metadata": {},
     "outputs": [
      {
       "output_type": "stream",
       "stream": "stdout",
       "text": [
        "['G:\\\\before\\\\a.txt', 'G:\\\\before\\\\b.txt', 'G:\\\\before\\\\c.txt', 'G:\\\\before\\\\d.txt'] ['G:\\\\after\\\\a.txt', 'G:\\\\after\\\\b.txt', 'G:\\\\after\\\\c.txt']\n"
       ]
      }
     ],
     "prompt_number": 14
    },
    {
     "cell_type": "code",
     "collapsed": false,
     "input": [
      "import os\n",
      "for k in before:\n",
      "    print(os.path.getmtime(k))"
     ],
     "language": "python",
     "metadata": {},
     "outputs": [
      {
       "output_type": "stream",
       "stream": "stdout",
       "text": [
        "1417956983.2119775\n",
        "1417957110.6452029\n",
        "1417957118.5544167\n",
        "1417957163.520926\n"
       ]
      }
     ],
     "prompt_number": 18
    },
    {
     "cell_type": "code",
     "collapsed": false,
     "input": [
      "import shutil\n",
      "def Sync(before, after):\n",
      "    old=glob.glob(before)\n",
      "    new=glob.glob(after)\n",
      "    for k in old:\n",
      "        for i in new:\n",
      "            if(k==i):\n",
      "                if(os.path.getmtime(k)>os.path.getmtime(i)):\n",
      "                    os.remove(i)\n",
      "                    shutil.copyfile(k, i)\n",
      "                    break\n",
      "            if(k != i):\n",
      "                shutil.copyfile(k, i)\n",
      "                break"
     ],
     "language": "python",
     "metadata": {},
     "outputs": [],
     "prompt_number": 39
    },
    {
     "cell_type": "code",
     "collapsed": false,
     "input": [
      "Sync('G:\\\\before\\\\*.*', 'G:\\\\after\\\\*.*')"
     ],
     "language": "python",
     "metadata": {},
     "outputs": [],
     "prompt_number": 40
    },
    {
     "cell_type": "code",
     "collapsed": false,
     "input": [],
     "language": "python",
     "metadata": {},
     "outputs": []
    }
   ],
   "metadata": {}
  }
 ]
}