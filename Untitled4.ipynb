{
 "metadata": {
  "name": "",
  "signature": "sha256:0fe7601e3ea7b1102a285fb6990e056aec2b963c7dfc27d92a2b15d5b7330f87"
 },
 "nbformat": 3,
 "nbformat_minor": 0,
 "worksheets": [
  {
   "cells": [
    {
     "cell_type": "code",
     "collapsed": false,
     "input": [
      "txt1 = open('C:\\\\Users\\\\KimJeongGyu\\\\Desktop\\\\\\BusStopDB1.txt','r',encoding=\"UTF-8\").read()\n",
      "txt1"
     ],
     "language": "python",
     "metadata": {},
     "outputs": []
    }
   ],
   "metadata": {}
  }
 ]
}