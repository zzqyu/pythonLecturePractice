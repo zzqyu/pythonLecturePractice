{
 "metadata": {
  "name": "",
  "signature": "sha256:1fd9c7a182ae4341f444081b8987a6ae7e79263396cc6bdd9977cf660f313ee5"
 },
 "nbformat": 3,
 "nbformat_minor": 0,
 "worksheets": [
  {
   "cells": [
    {
     "cell_type": "markdown",
     "metadata": {},
     "source": [
      "2014726048 \ucef4\ud4e8\ud130\uc18c\ud504\ud2b8\uc6e8\uc5b4\ud559\uacfc 1\ud559\ub144 \uae40\uc815\uaddc"
     ]
    },
    {
     "cell_type": "markdown",
     "metadata": {},
     "source": [
      "#\ube44\uc988\ub124\ub974"
     ]
    },
    {
     "cell_type": "markdown",
     "metadata": {},
     "source": [
      "##\uc554\ud638\ud654"
     ]
    },
    {
     "cell_type": "code",
     "collapsed": false,
     "input": [
      "def encord_vigenere(sentense,keyword):\n",
      "    enc_sentense=''\n",
      "    i=0;\n",
      "    for k in sentense.upper():\n",
      "        if(k==' '):\n",
      "            enc_sentense=enc_sentense+' '\n",
      "        else:\n",
      "            r=(ord(k)-65+ord(keyword[i%4])-65)%26+65\n",
      "            enc_sentense=enc_sentense+chr(r)\n",
      "            i+=1\n",
      "    return enc_sentense\n",
      "sentense1='Talk to the wall'\n",
      "keyword1='LOVE'\n",
      "enc_sentense1=encord_vigenere(sentense1,keyword1)\n",
      "enc_sentense1"
     ],
     "language": "python",
     "metadata": {},
     "outputs": [
      {
       "metadata": {},
       "output_type": "pyout",
       "prompt_number": 32,
       "text": [
        "'EOGO EC OLP KVPW'"
       ]
      }
     ],
     "prompt_number": 32
    },
    {
     "cell_type": "markdown",
     "metadata": {},
     "source": [
      "##\ubcf5\ud638\ud654"
     ]
    },
    {
     "cell_type": "code",
     "collapsed": false,
     "input": [
      "def decord_vigenere(enc_sentense,keyword):\n",
      "    de_sentense=''\n",
      "    i=0;\n",
      "    for k in enc_sentense.upper():\n",
      "        if(k==' '):\n",
      "            de_sentense=de_sentense+' '\n",
      "        else:\n",
      "            r=((ord(k)-65)-(ord(keyword[i%4])-65))%26+65\n",
      "            de_sentense=de_sentense+chr(r)\n",
      "            i+=1\n",
      "    return de_sentense\n",
      "enc_sentense1='EOGO EC OLP KVPW'\n",
      "keyword1='LOVE'\n",
      "de_sentense1=decord_vigenere(enc_sentense1,keyword1)\n",
      "de_sentense1"
     ],
     "language": "python",
     "metadata": {},
     "outputs": [
      {
       "metadata": {},
       "output_type": "pyout",
       "prompt_number": 35,
       "text": [
        "'TALK TO THE WALL'"
       ]
      }
     ],
     "prompt_number": 35
    },
    {
     "cell_type": "markdown",
     "metadata": {},
     "source": [
      "#\uc544\ud540"
     ]
    },
    {
     "cell_type": "markdown",
     "metadata": {},
     "source": [
      "##\uc554\ud638\ud654"
     ]
    },
    {
     "cell_type": "code",
     "collapsed": false,
     "input": [
      "def encord_affine(sentense,a,b):\n",
      "    enc_sentense=''\n",
      "    for k in sentense.upper():\n",
      "        if(k==' '):\n",
      "            enc_sentense=enc_sentense+' '\n",
      "        else:\n",
      "            r=(a*(ord(k)-65)+b)%26\n",
      "            enc_sentense=enc_sentense+chr(r+65)\n",
      "    return enc_sentense\n",
      "encord_affine('A barking dog never bites',3,1)"
     ],
     "language": "python",
     "metadata": {},
     "outputs": [
      {
       "metadata": {},
       "output_type": "pyout",
       "prompt_number": 66,
       "text": [
        "'B EBAFZOT KRT ONMNA EZGND'"
       ]
      }
     ],
     "prompt_number": 66
    },
    {
     "cell_type": "markdown",
     "metadata": {},
     "source": [
      "##\ubcf5\ud638\ud654"
     ]
    },
    {
     "cell_type": "code",
     "collapsed": false,
     "input": [
      "def decord_affine(sentense,a,b):\n",
      "    de_sentense=''\n",
      "    for k in sentense.upper():\n",
      "        if(k==' '):\n",
      "            de_sentense=de_sentense+' '\n",
      "        else:\n",
      "            r=(((ord(k)-65)-b)*9)%26\n",
      "            de_sentense=de_sentense+chr(r+65)\n",
      "    return de_sentense\n",
      "decord_affine('B EBAFZOT KRT ONMNA EZGND',3,1)"
     ],
     "language": "python",
     "metadata": {},
     "outputs": [
      {
       "metadata": {},
       "output_type": "pyout",
       "prompt_number": 69,
       "text": [
        "'A BARKING DOG NEVER BITES'"
       ]
      }
     ],
     "prompt_number": 69
    },
    {
     "cell_type": "code",
     "collapsed": false,
     "input": [],
     "language": "python",
     "metadata": {},
     "outputs": []
    }
   ],
   "metadata": {}
  }
 ]
}