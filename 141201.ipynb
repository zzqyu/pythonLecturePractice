{
 "metadata": {
  "name": "",
  "signature": "sha256:a2df4c265ef123319d5147d0680c42fcbf65a8f7bbf3e0c2be4ed4bcbf22a084"
 },
 "nbformat": 3,
 "nbformat_minor": 0,
 "worksheets": []
}