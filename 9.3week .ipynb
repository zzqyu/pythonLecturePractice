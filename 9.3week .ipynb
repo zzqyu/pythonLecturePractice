{
 "metadata": {
  "name": "",
  "signature": "sha256:9b82e2444028ce1f21a7e6cc5f15fe78c7f420a74e634bd7e9e6b8b558c5704c"
 },
 "nbformat": 3,
 "nbformat_minor": 0,
 "worksheets": [
  {
   "cells": [
    {
     "cell_type": "code",
     "collapsed": false,
     "input": [
      "s='I like python'"
     ],
     "language": "python",
     "metadata": {},
     "outputs": [],
     "prompt_number": 1
    },
    {
     "cell_type": "code",
     "collapsed": false,
     "input": [
      "len (s)"
     ],
     "language": "python",
     "metadata": {},
     "outputs": [
      {
       "metadata": {},
       "output_type": "pyout",
       "prompt_number": 3,
       "text": [
        "13"
       ]
      }
     ],
     "prompt_number": 3
    },
    {
     "cell_type": "code",
     "collapsed": false,
     "input": [
      "s[0:6]"
     ],
     "language": "python",
     "metadata": {},
     "outputs": [
      {
       "metadata": {},
       "output_type": "pyout",
       "prompt_number": 4,
       "text": [
        "'I like'"
       ]
      }
     ],
     "prompt_number": 4
    },
    {
     "cell_type": "code",
     "collapsed": false,
     "input": [
      "s[:6]"
     ],
     "language": "python",
     "metadata": {},
     "outputs": [
      {
       "metadata": {},
       "output_type": "pyout",
       "prompt_number": 5,
       "text": [
        "'I like'"
       ]
      }
     ],
     "prompt_number": 5
    },
    {
     "cell_type": "code",
     "collapsed": false,
     "input": [
      "'like' in s"
     ],
     "language": "python",
     "metadata": {},
     "outputs": [
      {
       "metadata": {},
       "output_type": "pyout",
       "prompt_number": 6,
       "text": [
        "True"
       ]
      }
     ],
     "prompt_number": 6
    },
    {
     "cell_type": "code",
     "collapsed": false,
     "input": [
      "for c in s:\n",
      "    print c"
     ],
     "language": "python",
     "metadata": {},
     "outputs": [
      {
       "output_type": "stream",
       "stream": "stdout",
       "text": [
        "I\n",
        " \n",
        "l\n",
        "i\n",
        "k\n",
        "e\n",
        " \n",
        "p\n",
        "y\n",
        "t\n",
        "h\n",
        "o\n",
        "n\n"
       ]
      }
     ],
     "prompt_number": 11
    },
    {
     "cell_type": "code",
     "collapsed": false,
     "input": [
      "s='l like python. I like swimming.'"
     ],
     "language": "python",
     "metadata": {},
     "outputs": [],
     "prompt_number": 2
    },
    {
     "cell_type": "code",
     "collapsed": false,
     "input": [
      "s.upper()"
     ],
     "language": "python",
     "metadata": {},
     "outputs": [
      {
       "metadata": {},
       "output_type": "pyout",
       "prompt_number": 14,
       "text": [
        "'L LIKE PYTHON. I LIKE SWIMMING.'"
       ]
      }
     ],
     "prompt_number": 14
    },
    {
     "cell_type": "code",
     "collapsed": false,
     "input": [
      "' love '.strip()"
     ],
     "language": "python",
     "metadata": {},
     "outputs": [
      {
       "metadata": {},
       "output_type": "pyout",
       "prompt_number": 15,
       "text": [
        "'love'"
       ]
      }
     ],
     "prompt_number": 15
    },
    {
     "cell_type": "code",
     "collapsed": false,
     "input": [
      "' love '.lstrip(), ' love '.rstrip()"
     ],
     "language": "python",
     "metadata": {},
     "outputs": [
      {
       "metadata": {},
       "output_type": "pyout",
       "prompt_number": 16,
       "text": [
        "('love ', ' love')"
       ]
      }
     ],
     "prompt_number": 16
    },
    {
     "cell_type": "code",
     "collapsed": false,
     "input": [
      "L=s.split()"
     ],
     "language": "python",
     "metadata": {},
     "outputs": [],
     "prompt_number": 3
    },
    {
     "cell_type": "code",
     "collapsed": false,
     "input": [
      "L"
     ],
     "language": "python",
     "metadata": {},
     "outputs": [
      {
       "metadata": {},
       "output_type": "pyout",
       "prompt_number": 21,
       "text": [
        "['l', 'like', 'python.', 'I', 'like', 'swimming.']"
       ]
      }
     ],
     "prompt_number": 21
    },
    {
     "cell_type": "code",
     "collapsed": false,
     "input": [
      "' '.join(L)"
     ],
     "language": "python",
     "metadata": {},
     "outputs": [
      {
       "metadata": {},
       "output_type": "pyout",
       "prompt_number": 6,
       "text": [
        "'l like python. I like swimming.'"
       ]
      }
     ],
     "prompt_number": 6
    },
    {
     "cell_type": "code",
     "collapsed": false,
     "input": [
      "s.replace('like','love')"
     ],
     "language": "python",
     "metadata": {},
     "outputs": [
      {
       "metadata": {},
       "output_type": "pyout",
       "prompt_number": 25,
       "text": [
        "'l love python. I love swimming.'"
       ]
      }
     ],
     "prompt_number": 25
    },
    {
     "cell_type": "code",
     "collapsed": false,
     "input": [
      "s.find('like')"
     ],
     "language": "python",
     "metadata": {},
     "outputs": [
      {
       "metadata": {},
       "output_type": "pyout",
       "prompt_number": 27,
       "text": [
        "2"
       ]
      }
     ],
     "prompt_number": 27
    },
    {
     "cell_type": "code",
     "collapsed": false,
     "input": [
      "s.find('love')"
     ],
     "language": "python",
     "metadata": {},
     "outputs": [
      {
       "metadata": {},
       "output_type": "pyout",
       "prompt_number": 28,
       "text": [
        "-1"
       ]
      }
     ],
     "prompt_number": 28
    },
    {
     "cell_type": "code",
     "collapsed": false,
     "input": [
      "name = '\uae40\uc815\uaddc'\n",
      "phone = '5284'\n",
      "\n",
      "format='\uc774\ub984:%s, \uc804\ud654:%s'"
     ],
     "language": "python",
     "metadata": {},
     "outputs": [],
     "prompt_number": 7
    },
    {
     "cell_type": "code",
     "collapsed": false,
     "input": [
      "format%(name,phone)"
     ],
     "language": "python",
     "metadata": {},
     "outputs": [
      {
       "metadata": {},
       "output_type": "pyout",
       "prompt_number": 8,
       "text": [
        "'\uc774\ub984:\uae40\uc815\uaddc, \uc804\ud654:5284'"
       ]
      }
     ],
     "prompt_number": 8
    },
    {
     "cell_type": "code",
     "collapsed": false,
     "input": [
      "import math \n",
      "\n",
      "step = 0.1\n",
      "x=0.0\n",
      "while x <math.pi*2:\n",
      "    y=math.sin(x)\n",
      "    print x,y\n",
      "    x=x+step"
     ],
     "language": "python",
     "metadata": {},
     "outputs": [
      {
       "output_type": "stream",
       "stream": "stdout",
       "text": [
        "0.0 0.0\n",
        "0.1 0.0998334166468\n",
        "0.2 0.198669330795\n",
        "0.3 0.295520206661\n",
        "0.4 0.389418342309\n",
        "0.5 0.479425538604\n",
        "0.6 0.564642473395\n",
        "0.7 0.644217687238\n",
        "0.8 0.7173560909\n",
        "0.9 0.783326909627\n",
        "1.0 0.841470984808\n",
        "1.1 0.891207360061\n",
        "1.2 0.932039085967\n",
        "1.3 0.963558185417\n",
        "1.4 0.985449729988\n",
        "1.5 0.997494986604\n",
        "1.6 0.999573603042\n",
        "1.7 0.991664810452\n",
        "1.8 0.973847630878\n",
        "1.9 0.946300087687\n",
        "2.0 0.909297426826\n",
        "2.1 0.863209366649\n",
        "2.2 0.80849640382\n",
        "2.3 0.745705212177\n",
        "2.4 0.675463180551\n",
        "2.5 0.598472144104\n",
        "2.6 0.515501371821\n",
        "2.7 0.427379880234\n",
        "2.8 0.334988150156\n",
        "2.9 0.239249329214\n",
        "3.0 0.14112000806\n",
        "3.1 0.0415806624333\n",
        "3.2 -0.0583741434276\n",
        "3.3 -0.157745694143\n",
        "3.4 -0.255541102027\n",
        "3.5 -0.35078322769\n",
        "3.6 -0.442520443295\n",
        "3.7 -0.529836140908\n",
        "3.8 -0.611857890943\n",
        "3.9 -0.687766159184\n",
        "4.0 -0.756802495308\n",
        "4.1 -0.818277111064\n",
        "4.2 -0.871575772414\n",
        "4.3 -0.916165936749\n",
        "4.4 -0.95160207389\n",
        "4.5 -0.977530117665\n",
        "4.6 -0.993691003633\n",
        "4.7 -0.999923257564\n",
        "4.8 -0.996164608836\n",
        "4.9 -0.982452612624\n",
        "5.0 -0.958924274663\n",
        "5.1 -0.925814682328\n",
        "5.2 -0.88345465572\n",
        "5.3 -0.832267442224\n",
        "5.4 -0.772764487556\n",
        "5.5 -0.70554032557\n",
        "5.6 -0.631266637872\n",
        "5.7 -0.550685542598\n",
        "5.8 -0.464602179414\n",
        "5.9 -0.37387666483\n",
        "6.0 -0.279415498199\n",
        "6.1 -0.182162504272\n",
        "6.2 -0.0830894028175\n"
       ]
      }
     ],
     "prompt_number": 35
    },
    {
     "cell_type": "code",
     "collapsed": false,
     "input": [
      "import math \n",
      "\n",
      "step = 0.1\n",
      "x=0.0\n",
      "while x <math.pi*2:\n",
      "    y=math.sin(x)\n",
      "    print 'sin(%.2f)=%8.4f'%(x,y)\n",
      "    x=x+step"
     ],
     "language": "python",
     "metadata": {},
     "outputs": [
      {
       "output_type": "stream",
       "stream": "stdout",
       "text": [
        "sin(0.00)=  0.0000\n",
        "sin(0.10)=  0.0998\n",
        "sin(0.20)=  0.1987\n",
        "sin(0.30)=  0.2955\n",
        "sin(0.40)=  0.3894\n",
        "sin(0.50)=  0.4794\n",
        "sin(0.60)=  0.5646\n",
        "sin(0.70)=  0.6442\n",
        "sin(0.80)=  0.7174\n",
        "sin(0.90)=  0.7833\n",
        "sin(1.00)=  0.8415\n",
        "sin(1.10)=  0.8912\n",
        "sin(1.20)=  0.9320\n",
        "sin(1.30)=  0.9636\n",
        "sin(1.40)=  0.9854\n",
        "sin(1.50)=  0.9975\n",
        "sin(1.60)=  0.9996\n",
        "sin(1.70)=  0.9917\n",
        "sin(1.80)=  0.9738\n",
        "sin(1.90)=  0.9463\n",
        "sin(2.00)=  0.9093\n",
        "sin(2.10)=  0.8632\n",
        "sin(2.20)=  0.8085\n",
        "sin(2.30)=  0.7457\n",
        "sin(2.40)=  0.6755\n",
        "sin(2.50)=  0.5985\n",
        "sin(2.60)=  0.5155\n",
        "sin(2.70)=  0.4274\n",
        "sin(2.80)=  0.3350\n",
        "sin(2.90)=  0.2392\n",
        "sin(3.00)=  0.1411\n",
        "sin(3.10)=  0.0416\n",
        "sin(3.20)= -0.0584\n",
        "sin(3.30)= -0.1577\n",
        "sin(3.40)= -0.2555\n",
        "sin(3.50)= -0.3508\n",
        "sin(3.60)= -0.4425\n",
        "sin(3.70)= -0.5298\n",
        "sin(3.80)= -0.6119\n",
        "sin(3.90)= -0.6878\n",
        "sin(4.00)= -0.7568\n",
        "sin(4.10)= -0.8183\n",
        "sin(4.20)= -0.8716\n",
        "sin(4.30)= -0.9162\n",
        "sin(4.40)= -0.9516\n",
        "sin(4.50)= -0.9775\n",
        "sin(4.60)= -0.9937\n",
        "sin(4.70)= -0.9999\n",
        "sin(4.80)= -0.9962\n",
        "sin(4.90)= -0.9825\n",
        "sin(5.00)= -0.9589\n",
        "sin(5.10)= -0.9258\n",
        "sin(5.20)= -0.8835\n",
        "sin(5.30)= -0.8323\n",
        "sin(5.40)= -0.7728\n",
        "sin(5.50)= -0.7055\n",
        "sin(5.60)= -0.6313\n",
        "sin(5.70)= -0.5507\n",
        "sin(5.80)= -0.4646\n",
        "sin(5.90)= -0.3739\n",
        "sin(6.00)= -0.2794\n",
        "sin(6.10)= -0.1822\n",
        "sin(6.20)= -0.0831\n"
       ]
      }
     ],
     "prompt_number": 38
    },
    {
     "cell_type": "markdown",
     "metadata": {},
     "source": [
      "###python3"
     ]
    },
    {
     "cell_type": "code",
     "collapsed": false,
     "input": [
      "'{} {}'.format(23,2.12145)"
     ],
     "language": "python",
     "metadata": {},
     "outputs": [
      {
       "metadata": {},
       "output_type": "pyout",
       "prompt_number": 40,
       "text": [
        "'23 2.12145'"
       ]
      }
     ],
     "prompt_number": 40
    },
    {
     "cell_type": "code",
     "collapsed": false,
     "input": [
      "L=[1,5,3,7,4,5]\n",
      "'max:{0}, min:{1} {1}'.format(max(L), min(L))"
     ],
     "language": "python",
     "metadata": {},
     "outputs": [
      {
       "metadata": {},
       "output_type": "pyout",
       "prompt_number": 42,
       "text": [
        "'max:7, min:1 1'"
       ]
      }
     ],
     "prompt_number": 42
    },
    {
     "cell_type": "code",
     "collapsed": false,
     "input": [
      "'age:(age) height:(height)'.format(age=49,height=173)"
     ],
     "language": "python",
     "metadata": {},
     "outputs": [
      {
       "metadata": {},
       "output_type": "pyout",
       "prompt_number": 46,
       "text": [
        "'age:(age) height:(height)'"
       ]
      }
     ],
     "prompt_number": 46
    },
    {
     "cell_type": "code",
     "collapsed": false,
     "input": [
      "'{0:b} {0:d} {0:o} {0:x} {0:X} {1:d}{1:,}'.format(13,123456789)"
     ],
     "language": "python",
     "metadata": {},
     "outputs": [
      {
       "metadata": {},
       "output_type": "pyout",
       "prompt_number": 47,
       "text": [
        "'1101 13 15 d D 123456789123,456,789'"
       ]
      }
     ],
     "prompt_number": 47
    },
    {
     "cell_type": "code",
     "collapsed": false,
     "input": [
      "ord('a')"
     ],
     "language": "python",
     "metadata": {},
     "outputs": [
      {
       "metadata": {},
       "output_type": "pyout",
       "prompt_number": 48,
       "text": [
        "97"
       ]
      }
     ],
     "prompt_number": 48
    },
    {
     "cell_type": "code",
     "collapsed": false,
     "input": [
      "chr(97)"
     ],
     "language": "python",
     "metadata": {},
     "outputs": [
      {
       "metadata": {},
       "output_type": "pyout",
       "prompt_number": 49,
       "text": [
        "'a'"
       ]
      }
     ],
     "prompt_number": 49
    },
    {
     "cell_type": "code",
     "collapsed": false,
     "input": [
      "for c in abc:\n",
      "    print c,ord(c)"
     ],
     "language": "python",
     "metadata": {},
     "outputs": [
      {
       "ename": "NameError",
       "evalue": "name 'abc' is not defined",
       "output_type": "pyerr",
       "traceback": [
        "\u001b[1;31m---------------------------------------------------------------------------\u001b[0m\n\u001b[1;31mNameError\u001b[0m                                 Traceback (most recent call last)",
        "\u001b[1;32m<ipython-input-52-fe5d463dc84c>\u001b[0m in \u001b[0;36m<module>\u001b[1;34m()\u001b[0m\n\u001b[1;32m----> 1\u001b[1;33m \u001b[1;32mfor\u001b[0m \u001b[0mc\u001b[0m \u001b[1;32min\u001b[0m \u001b[0mabc\u001b[0m\u001b[1;33m:\u001b[0m\u001b[1;33m\u001b[0m\u001b[0m\n\u001b[0m\u001b[0;32m      2\u001b[0m     \u001b[1;32mprint\u001b[0m \u001b[0mc\u001b[0m\u001b[1;33m,\u001b[0m\u001b[0mord\u001b[0m\u001b[1;33m(\u001b[0m\u001b[0mc\u001b[0m\u001b[1;33m)\u001b[0m\u001b[1;33m\u001b[0m\u001b[0m\n",
        "\u001b[1;31mNameError\u001b[0m: name 'abc' is not defined"
       ]
      }
     ],
     "prompt_number": 52
    },
    {
     "cell_type": "code",
     "collapsed": false,
     "input": [
      "# 2\n",
      "print u'spam \\uB610 Egg'"
     ],
     "language": "python",
     "metadata": {},
     "outputs": [
      {
       "output_type": "stream",
       "stream": "stdout",
       "text": [
        "spam \ub610 Egg\n"
       ]
      }
     ],
     "prompt_number": 53
    },
    {
     "cell_type": "code",
     "collapsed": false,
     "input": [
      "#3\n",
      "'spam \\uB610 Egg'"
     ],
     "language": "python",
     "metadata": {},
     "outputs": [
      {
       "metadata": {},
       "output_type": "pyout",
       "prompt_number": 54,
       "text": [
        "'spam \\\\uB610 Egg'"
       ]
      }
     ],
     "prompt_number": 54
    },
    {
     "cell_type": "code",
     "collapsed": false,
     "input": [
      "unicode('\ud55c\uae00')"
     ],
     "language": "python",
     "metadata": {},
     "outputs": [
      {
       "ename": "UnicodeDecodeError",
       "evalue": "'ascii' codec can't decode byte 0xed in position 0: ordinal not in range(128)",
       "output_type": "pyerr",
       "traceback": [
        "\u001b[1;31m---------------------------------------------------------------------------\u001b[0m\n\u001b[1;31mUnicodeDecodeError\u001b[0m                        Traceback (most recent call last)",
        "\u001b[1;32m<ipython-input-56-5076cf3f98de>\u001b[0m in \u001b[0;36m<module>\u001b[1;34m()\u001b[0m\n\u001b[1;32m----> 1\u001b[1;33m \u001b[0municode\u001b[0m\u001b[1;33m(\u001b[0m\u001b[1;34m'\ud55c\uae00'\u001b[0m\u001b[1;33m)\u001b[0m\u001b[1;33m\u001b[0m\u001b[0m\n\u001b[0m",
        "\u001b[1;31mUnicodeDecodeError\u001b[0m: 'ascii' codec can't decode byte 0xed in position 0: ordinal not in range(128)"
       ]
      }
     ],
     "prompt_number": 56
    },
    {
     "cell_type": "code",
     "collapsed": false,
     "input": [
      "s='\ud55c\uae00\uacfc \uc138\uc885\ub300\uc655'"
     ],
     "language": "python",
     "metadata": {},
     "outputs": [],
     "prompt_number": 57
    },
    {
     "cell_type": "code",
     "collapsed": false,
     "input": [
      "len(s)"
     ],
     "language": "python",
     "metadata": {},
     "outputs": [
      {
       "metadata": {},
       "output_type": "pyout",
       "prompt_number": 59,
       "text": [
        "22"
       ]
      }
     ],
     "prompt_number": 59
    },
    {
     "cell_type": "code",
     "collapsed": false,
     "input": [],
     "language": "python",
     "metadata": {},
     "outputs": []
    }
   ],
   "metadata": {}
  }
 ]
}