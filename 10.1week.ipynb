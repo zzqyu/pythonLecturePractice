{
 "metadata": {
  "name": "",
  "signature": "sha256:be14823e256913a5d4395694e2a543f05eb31311049ee6212712fb0ad8f0019c"
 },
 "nbformat": 3,
 "nbformat_minor": 0,
 "worksheets": [
  {
   "cells": [
    {
     "cell_type": "code",
     "collapsed": false,
     "input": [
      "L=[1,2,3,4,5,6]"
     ],
     "language": "python",
     "metadata": {},
     "outputs": [],
     "prompt_number": 1
    },
    {
     "cell_type": "code",
     "collapsed": false,
     "input": [
      "L[1:5]"
     ],
     "language": "python",
     "metadata": {},
     "outputs": [
      {
       "metadata": {},
       "output_type": "pyout",
       "prompt_number": 2,
       "text": [
        "[2, 3, 4, 5]"
       ]
      }
     ],
     "prompt_number": 2
    },
    {
     "cell_type": "code",
     "collapsed": false,
     "input": [
      "L*2"
     ],
     "language": "python",
     "metadata": {},
     "outputs": [
      {
       "metadata": {},
       "output_type": "pyout",
       "prompt_number": 3,
       "text": [
        "[1, 2, 3, 4, 5, 6, 1, 2, 3, 4, 5, 6]"
       ]
      }
     ],
     "prompt_number": 3
    },
    {
     "cell_type": "code",
     "collapsed": false,
     "input": [
      "L+L"
     ],
     "language": "python",
     "metadata": {},
     "outputs": [
      {
       "metadata": {},
       "output_type": "pyout",
       "prompt_number": 4,
       "text": [
        "[1, 2, 3, 4, 5, 6, 1, 2, 3, 4, 5, 6]"
       ]
      }
     ],
     "prompt_number": 4
    },
    {
     "cell_type": "code",
     "collapsed": false,
     "input": [
      "len(L)"
     ],
     "language": "python",
     "metadata": {},
     "outputs": [
      {
       "metadata": {},
       "output_type": "pyout",
       "prompt_number": 5,
       "text": [
        "6"
       ]
      }
     ],
     "prompt_number": 5
    },
    {
     "cell_type": "code",
     "collapsed": false,
     "input": [
      "3 in L"
     ],
     "language": "python",
     "metadata": {},
     "outputs": [
      {
       "metadata": {},
       "output_type": "pyout",
       "prompt_number": 6,
       "text": [
        "True"
       ]
      }
     ],
     "prompt_number": 6
    },
    {
     "cell_type": "code",
     "collapsed": false,
     "input": [
      "#\uc778\ub371\uc2f1\uacfc \uc2ac\ub77c\uc774\uc2f1 \uc774\uc6a9 \ub9ac\uc2a4\ud2b8\ubcc0\uacbd"
     ],
     "language": "python",
     "metadata": {},
     "outputs": [],
     "prompt_number": 7
    },
    {
     "cell_type": "code",
     "collapsed": false,
     "input": [
      "L"
     ],
     "language": "python",
     "metadata": {},
     "outputs": [
      {
       "metadata": {},
       "output_type": "pyout",
       "prompt_number": 8,
       "text": [
        "[1, 2, 3, 4, 5, 6]"
       ]
      }
     ],
     "prompt_number": 8
    },
    {
     "cell_type": "code",
     "collapsed": false,
     "input": [
      "L[0]=100"
     ],
     "language": "python",
     "metadata": {},
     "outputs": [],
     "prompt_number": 9
    },
    {
     "cell_type": "code",
     "collapsed": false,
     "input": [
      "L"
     ],
     "language": "python",
     "metadata": {},
     "outputs": [
      {
       "metadata": {},
       "output_type": "pyout",
       "prompt_number": 10,
       "text": [
        "[100, 2, 3, 4, 5, 6]"
       ]
      }
     ],
     "prompt_number": 10
    },
    {
     "cell_type": "code",
     "collapsed": false,
     "input": [
      "L[1:3]=[10,20,30]"
     ],
     "language": "python",
     "metadata": {},
     "outputs": [],
     "prompt_number": 11
    },
    {
     "cell_type": "code",
     "collapsed": false,
     "input": [
      "L"
     ],
     "language": "python",
     "metadata": {},
     "outputs": [
      {
       "metadata": {},
       "output_type": "pyout",
       "prompt_number": 12,
       "text": [
        "[100, 10, 20, 30, 4, 5, 6]"
       ]
      }
     ],
     "prompt_number": 12
    },
    {
     "cell_type": "code",
     "collapsed": false,
     "input": [
      "del L[1:3]"
     ],
     "language": "python",
     "metadata": {},
     "outputs": [],
     "prompt_number": 13
    },
    {
     "cell_type": "code",
     "collapsed": false,
     "input": [
      "L"
     ],
     "language": "python",
     "metadata": {},
     "outputs": [
      {
       "metadata": {},
       "output_type": "pyout",
       "prompt_number": 14,
       "text": [
        "[100, 30, 4, 5, 6]"
       ]
      }
     ],
     "prompt_number": 14
    },
    {
     "cell_type": "code",
     "collapsed": false,
     "input": [
      "L[1:1]=[1,2,3] #\uc2ac\ub77c\uc774\uc2a4\uc0bd\uc785\n",
      "L"
     ],
     "language": "python",
     "metadata": {},
     "outputs": [
      {
       "metadata": {},
       "output_type": "pyout",
       "prompt_number": 15,
       "text": [
        "[100, 1, 2, 3, 30, 4, 5, 6]"
       ]
      }
     ],
     "prompt_number": 15
    },
    {
     "cell_type": "code",
     "collapsed": false,
     "input": [
      "#\uc911\ucca9\ub9ac\uc2a4\ud2b8"
     ],
     "language": "python",
     "metadata": {},
     "outputs": [],
     "prompt_number": 16
    },
    {
     "cell_type": "code",
     "collapsed": false,
     "input": [
      "s=[1,2,3]"
     ],
     "language": "python",
     "metadata": {},
     "outputs": [],
     "prompt_number": 17
    },
    {
     "cell_type": "code",
     "collapsed": false,
     "input": [
      "t=['begin',s,'end']"
     ],
     "language": "python",
     "metadata": {},
     "outputs": [],
     "prompt_number": 18
    },
    {
     "cell_type": "code",
     "collapsed": false,
     "input": [
      "t"
     ],
     "language": "python",
     "metadata": {},
     "outputs": [
      {
       "metadata": {},
       "output_type": "pyout",
       "prompt_number": 19,
       "text": [
        "['begin', [1, 2, 3], 'end']"
       ]
      }
     ],
     "prompt_number": 19
    },
    {
     "cell_type": "code",
     "collapsed": false,
     "input": [
      "t[1][1]"
     ],
     "language": "python",
     "metadata": {},
     "outputs": [
      {
       "metadata": {},
       "output_type": "pyout",
       "prompt_number": 20,
       "text": [
        "2"
       ]
      }
     ],
     "prompt_number": 20
    },
    {
     "cell_type": "code",
     "collapsed": false,
     "input": [
      "#\ub9ac\uc2a4\ud2b8\uba54\uc18c\ub4dc"
     ],
     "language": "python",
     "metadata": {},
     "outputs": [],
     "prompt_number": 21
    },
    {
     "cell_type": "code",
     "collapsed": false,
     "input": [
      "L=[2,3,4,5,6]"
     ],
     "language": "python",
     "metadata": {},
     "outputs": [],
     "prompt_number": 23
    },
    {
     "cell_type": "code",
     "collapsed": false,
     "input": [
      "L.append(4)\n",
      "L"
     ],
     "language": "python",
     "metadata": {},
     "outputs": [
      {
       "metadata": {},
       "output_type": "pyout",
       "prompt_number": 25,
       "text": [
        "[2, 3, 4, 5, 6, 4, 4]"
       ]
      }
     ],
     "prompt_number": 25
    },
    {
     "cell_type": "code",
     "collapsed": false,
     "input": [
      "L.insert(0,1)#0\uc704\uce58\uc5d0 1\ub108\uc74c"
     ],
     "language": "python",
     "metadata": {},
     "outputs": [],
     "prompt_number": 27
    },
    {
     "cell_type": "code",
     "collapsed": false,
     "input": [
      "L"
     ],
     "language": "python",
     "metadata": {},
     "outputs": [
      {
       "metadata": {},
       "output_type": "pyout",
       "prompt_number": 29,
       "text": [
        "[1, 1, 2, 3, 4, 5, 6, 4, 4]"
       ]
      }
     ],
     "prompt_number": 29
    },
    {
     "cell_type": "code",
     "collapsed": false,
     "input": [
      "L.sort() #\uc815\ub82c\n",
      "L"
     ],
     "language": "python",
     "metadata": {},
     "outputs": [
      {
       "metadata": {},
       "output_type": "pyout",
       "prompt_number": 31,
       "text": [
        "[1, 1, 2, 3, 4, 4, 4, 5, 6]"
       ]
      }
     ],
     "prompt_number": 31
    },
    {
     "cell_type": "code",
     "collapsed": false,
     "input": [
      "L.reverse()\n",
      "L"
     ],
     "language": "python",
     "metadata": {},
     "outputs": [
      {
       "metadata": {},
       "output_type": "pyout",
       "prompt_number": 34,
       "text": [
        "[6, 5, 4, 4, 4, 3, 2, 1, 1]"
       ]
      }
     ],
     "prompt_number": 34
    },
    {
     "cell_type": "code",
     "collapsed": false,
     "input": [
      "L.remove(4)\n",
      "L"
     ],
     "language": "python",
     "metadata": {},
     "outputs": [
      {
       "metadata": {},
       "output_type": "pyout",
       "prompt_number": 36,
       "text": [
        "[6, 5, 4, 4, 3, 2, 1, 1]"
       ]
      }
     ],
     "prompt_number": 36
    },
    {
     "cell_type": "code",
     "collapsed": false,
     "input": [
      "L.pop()"
     ],
     "language": "python",
     "metadata": {},
     "outputs": [
      {
       "metadata": {},
       "output_type": "pyout",
       "prompt_number": 37,
       "text": [
        "1"
       ]
      }
     ],
     "prompt_number": 37
    },
    {
     "cell_type": "code",
     "collapsed": false,
     "input": [
      "L"
     ],
     "language": "python",
     "metadata": {},
     "outputs": [
      {
       "metadata": {},
       "output_type": "pyout",
       "prompt_number": 38,
       "text": [
        "[6, 5, 4, 4, 3, 2, 1]"
       ]
      }
     ],
     "prompt_number": 38
    },
    {
     "cell_type": "code",
     "collapsed": false,
     "input": [
      "L.pop(0)"
     ],
     "language": "python",
     "metadata": {},
     "outputs": [
      {
       "metadata": {},
       "output_type": "pyout",
       "prompt_number": 39,
       "text": [
        "6"
       ]
      }
     ],
     "prompt_number": 39
    },
    {
     "cell_type": "code",
     "collapsed": false,
     "input": [
      "L"
     ],
     "language": "python",
     "metadata": {},
     "outputs": [
      {
       "metadata": {},
       "output_type": "pyout",
       "prompt_number": 40,
       "text": [
        "[5, 4, 4, 3, 2, 1]"
       ]
      }
     ],
     "prompt_number": 40
    },
    {
     "cell_type": "code",
     "collapsed": false,
     "input": [
      "L.extend([10,20,30])\n",
      "L"
     ],
     "language": "python",
     "metadata": {},
     "outputs": [
      {
       "metadata": {},
       "output_type": "pyout",
       "prompt_number": 41,
       "text": [
        "[5, 4, 4, 3, 2, 1, 10, 20, 30]"
       ]
      }
     ],
     "prompt_number": 41
    },
    {
     "cell_type": "code",
     "collapsed": false,
     "input": [
      "L=[1,2,3,4]\n",
      "L.append(5)\n",
      "L.pop()"
     ],
     "language": "python",
     "metadata": {},
     "outputs": [
      {
       "metadata": {},
       "output_type": "pyout",
       "prompt_number": 42,
       "text": [
        "5"
       ]
      }
     ],
     "prompt_number": 42
    },
    {
     "cell_type": "code",
     "collapsed": false,
     "input": [
      "L=[1,2,3,4]\n",
      "L.append(5)\n",
      "L.pop(0)"
     ],
     "language": "python",
     "metadata": {},
     "outputs": [
      {
       "metadata": {},
       "output_type": "pyout",
       "prompt_number": 43,
       "text": [
        "1"
       ]
      }
     ],
     "prompt_number": 43
    },
    {
     "cell_type": "code",
     "collapsed": false,
     "input": [
      "#\ub9ac\uc2a4\ud2b8\ubc18\ubcf5\ucc38\uc870"
     ],
     "language": "python",
     "metadata": {},
     "outputs": [],
     "prompt_number": 44
    },
    {
     "cell_type": "code",
     "collapsed": false,
     "input": [
      "L=[('\uc77c',1),('\uc774',2),('\uc0bc',3)]"
     ],
     "language": "python",
     "metadata": {},
     "outputs": [],
     "prompt_number": 45
    },
    {
     "cell_type": "code",
     "collapsed": false,
     "input": [
      "for ele in L:\n",
      "    print(ele)"
     ],
     "language": "python",
     "metadata": {},
     "outputs": [
      {
       "output_type": "stream",
       "stream": "stdout",
       "text": [
        "('\uc77c', 1)\n",
        "('\uc774', 2)\n",
        "('\uc0bc', 3)\n"
       ]
      }
     ],
     "prompt_number": 46
    },
    {
     "cell_type": "code",
     "collapsed": false,
     "input": [
      "for i in range(len(L)):\n",
      "    print(L[i])"
     ],
     "language": "python",
     "metadata": {},
     "outputs": [
      {
       "output_type": "stream",
       "stream": "stdout",
       "text": [
        "('\uc77c', 1)\n",
        "('\uc774', 2)\n",
        "('\uc0bc', 3)\n"
       ]
      }
     ],
     "prompt_number": 47
    },
    {
     "cell_type": "code",
     "collapsed": false,
     "input": [
      "for i, ele in enumerate(L):\n",
      "    print(i,ele)"
     ],
     "language": "python",
     "metadata": {},
     "outputs": [
      {
       "output_type": "stream",
       "stream": "stdout",
       "text": [
        "0 ('\uc77c', 1)\n",
        "1 ('\uc774', 2)\n",
        "2 ('\uc0bc', 3)\n"
       ]
      }
     ],
     "prompt_number": 48
    },
    {
     "cell_type": "code",
     "collapsed": false,
     "input": [
      "for k,v in L:\n",
      "    print (k,v)"
     ],
     "language": "python",
     "metadata": {},
     "outputs": [
      {
       "output_type": "stream",
       "stream": "stdout",
       "text": [
        "\uc77c 1\n",
        "\uc774 2\n",
        "\uc0bc 3\n"
       ]
      }
     ],
     "prompt_number": 50
    },
    {
     "cell_type": "code",
     "collapsed": false,
     "input": [
      "#\uc815\ub82c"
     ],
     "language": "python",
     "metadata": {},
     "outputs": [],
     "prompt_number": 51
    },
    {
     "cell_type": "code",
     "collapsed": false,
     "input": [
      "L=[1,5,3,9,8,4,2]"
     ],
     "language": "python",
     "metadata": {},
     "outputs": [],
     "prompt_number": 52
    },
    {
     "cell_type": "code",
     "collapsed": false,
     "input": [
      "sorted(L)"
     ],
     "language": "python",
     "metadata": {},
     "outputs": [
      {
       "metadata": {},
       "output_type": "pyout",
       "prompt_number": 53,
       "text": [
        "[1, 2, 3, 4, 5, 8, 9]"
       ]
      }
     ],
     "prompt_number": 53
    },
    {
     "cell_type": "code",
     "collapsed": false,
     "input": [
      "L"
     ],
     "language": "python",
     "metadata": {},
     "outputs": [
      {
       "metadata": {},
       "output_type": "pyout",
       "prompt_number": 54,
       "text": [
        "[1, 5, 3, 9, 8, 4, 2]"
       ]
      }
     ],
     "prompt_number": 54
    },
    {
     "cell_type": "code",
     "collapsed": false,
     "input": [
      "reversed(L)"
     ],
     "language": "python",
     "metadata": {},
     "outputs": [
      {
       "metadata": {},
       "output_type": "pyout",
       "prompt_number": 55,
       "text": [
        "<list_reverseiterator at 0x4aebe80>"
       ]
      }
     ],
     "prompt_number": 55
    },
    {
     "cell_type": "code",
     "collapsed": false,
     "input": [
      "list(reversed(L))"
     ],
     "language": "python",
     "metadata": {},
     "outputs": [
      {
       "metadata": {},
       "output_type": "pyout",
       "prompt_number": 56,
       "text": [
        "[2, 4, 8, 9, 3, 5, 1]"
       ]
      }
     ],
     "prompt_number": 56
    },
    {
     "cell_type": "code",
     "collapsed": false,
     "input": [
      "L.sort()\n",
      "L"
     ],
     "language": "python",
     "metadata": {},
     "outputs": [
      {
       "metadata": {},
       "output_type": "pyout",
       "prompt_number": 57,
       "text": [
        "[1, 2, 3, 4, 5, 8, 9]"
       ]
      }
     ],
     "prompt_number": 57
    },
    {
     "cell_type": "code",
     "collapsed": false,
     "input": [
      "L.sort(reverse=True)\n",
      "L#\ub0b4\ub9bc\ucc28\uc21c"
     ],
     "language": "python",
     "metadata": {},
     "outputs": [
      {
       "metadata": {},
       "output_type": "pyout",
       "prompt_number": 58,
       "text": [
        "[9, 8, 5, 4, 3, 2, 1]"
       ]
      }
     ],
     "prompt_number": 58
    },
    {
     "cell_type": "code",
     "collapsed": false,
     "input": [
      "L=['123','34','56','2345']"
     ],
     "language": "python",
     "metadata": {},
     "outputs": [],
     "prompt_number": 59
    },
    {
     "cell_type": "code",
     "collapsed": false,
     "input": [
      "sorted(L)#\ubb38\uc790\uc5f4\uc774\ub77c \uc0ac\uc804\uc2dd\uc815\ub82c\uc774\ub428"
     ],
     "language": "python",
     "metadata": {},
     "outputs": [
      {
       "metadata": {},
       "output_type": "pyout",
       "prompt_number": 60,
       "text": [
        "['123', '2345', '34', '56']"
       ]
      }
     ],
     "prompt_number": 60
    },
    {
     "cell_type": "code",
     "collapsed": false,
     "input": [
      "sorted(L,key=int)#\ubb38\uc790\uc5f4\uc744 \uc815\uc218\ud615\uc73c\ub85c \ubc14\uafd4 \uc815\ub82c"
     ],
     "language": "python",
     "metadata": {},
     "outputs": [
      {
       "metadata": {},
       "output_type": "pyout",
       "prompt_number": 62,
       "text": [
        "['34', '56', '123', '2345']"
       ]
      }
     ],
     "prompt_number": 62
    },
    {
     "cell_type": "code",
     "collapsed": false,
     "input": [
      "L.sort(key=int)\n",
      "L"
     ],
     "language": "python",
     "metadata": {},
     "outputs": [
      {
       "metadata": {},
       "output_type": "pyout",
       "prompt_number": 63,
       "text": [
        "['34', '56', '123', '2345']"
       ]
      }
     ],
     "prompt_number": 63
    },
    {
     "cell_type": "code",
     "collapsed": false,
     "input": [
      "L=[('\ud558\ub098',1),('\ub458',2),('\uc14b',3),('\ub137',4)]"
     ],
     "language": "python",
     "metadata": {},
     "outputs": [],
     "prompt_number": 66
    },
    {
     "cell_type": "code",
     "collapsed": false,
     "input": [
      "sorted(L)"
     ],
     "language": "python",
     "metadata": {},
     "outputs": [
      {
       "metadata": {},
       "output_type": "pyout",
       "prompt_number": 67,
       "text": [
        "[('\ub137', 4), ('\ub458', 2), ('\uc14b', 3), ('\ud558\ub098', 1)]"
       ]
      }
     ],
     "prompt_number": 67
    },
    {
     "cell_type": "code",
     "collapsed": false,
     "input": [
      "#\ud29c\ud50c \ub450\ubc88\uc9f8 \ud56d\ubaa9\uc73c\ub85c \uc815\ub82c\n",
      "def mykey(ele):\n",
      "    return ele[1]\n",
      "\n",
      "sorted(L,key=mykey)"
     ],
     "language": "python",
     "metadata": {},
     "outputs": [
      {
       "metadata": {},
       "output_type": "pyout",
       "prompt_number": 68,
       "text": [
        "[('\ud558\ub098', 1), ('\ub458', 2), ('\uc14b', 3), ('\ub137', 4)]"
       ]
      }
     ],
     "prompt_number": 68
    },
    {
     "cell_type": "code",
     "collapsed": false,
     "input": [
      "sorted(L,key=lambda e:e[1])#\ub78c\ub2e4 \ub2e4\uc74c \ub098\uc624\ub294 \uac83\uc774 \ub9ac\ud134 \uac12 \ub78c\ub2e4\ub294 \ud55c\uc904\uc9dc\ub9ac \ud568\uc218"
     ],
     "language": "python",
     "metadata": {},
     "outputs": [
      {
       "metadata": {},
       "output_type": "pyout",
       "prompt_number": 70,
       "text": [
        "[('\ud558\ub098', 1), ('\ub458', 2), ('\uc14b', 3), ('\ub137', 4)]"
       ]
      }
     ],
     "prompt_number": 70
    },
    {
     "cell_type": "code",
     "collapsed": false,
     "input": [
      "#\ud034\uc988 [1,2,3,4,5,6,7,8,9,10]\ub97c 3\uc73c\ub85c \ub098\ub208 \ub098\uba38\uc9c0\ub97c \uae30\uc900\uc73c\ub85c \uc815\ub82c\ud558\uae30"
     ],
     "language": "python",
     "metadata": {},
     "outputs": [],
     "prompt_number": 71
    },
    {
     "cell_type": "code",
     "collapsed": false,
     "input": [
      "L=[1,2,3,4,5,6,7,8,9,10]"
     ],
     "language": "python",
     "metadata": {},
     "outputs": [],
     "prompt_number": 72
    },
    {
     "cell_type": "code",
     "collapsed": false,
     "input": [
      "sorted(L,key=lambda e:e%3)"
     ],
     "language": "python",
     "metadata": {},
     "outputs": [
      {
       "metadata": {},
       "output_type": "pyout",
       "prompt_number": 74,
       "text": [
        "[3, 6, 9, 1, 4, 7, 10, 2, 5, 8]"
       ]
      }
     ],
     "prompt_number": 74
    },
    {
     "cell_type": "code",
     "collapsed": false,
     "input": [
      "#\ub9ac\uc2a4\ud2b8 \ub0b4\uc7a5"
     ],
     "language": "python",
     "metadata": {},
     "outputs": [],
     "prompt_number": 75
    },
    {
     "cell_type": "code",
     "collapsed": false,
     "input": [
      "[k*k for k in range(10)]"
     ],
     "language": "python",
     "metadata": {},
     "outputs": [
      {
       "metadata": {},
       "output_type": "pyout",
       "prompt_number": 76,
       "text": [
        "[0, 1, 4, 9, 16, 25, 36, 49, 64, 81]"
       ]
      }
     ],
     "prompt_number": 76
    },
    {
     "cell_type": "code",
     "collapsed": false,
     "input": [
      "L=[]\n",
      "for k in range(10):\n",
      "    L.append(k*k)\n",
      "L"
     ],
     "language": "python",
     "metadata": {},
     "outputs": [
      {
       "metadata": {},
       "output_type": "pyout",
       "prompt_number": 77,
       "text": [
        "[0, 1, 4, 9, 16, 25, 36, 49, 64, 81]"
       ]
      }
     ],
     "prompt_number": 77
    },
    {
     "cell_type": "code",
     "collapsed": false,
     "input": [
      "[(i,j,i*j) for i in range(2,100,2)\n",
      "             for j in range(3,100,3)\n",
      "                 if (i+j)%7==0]"
     ],
     "language": "python",
     "metadata": {},
     "outputs": [
      {
       "metadata": {},
       "output_type": "pyout",
       "prompt_number": 78,
       "text": [
        "[(2, 12, 24),\n",
        " (2, 33, 66),\n",
        " (2, 54, 108),\n",
        " (2, 75, 150),\n",
        " (2, 96, 192),\n",
        " (4, 3, 12),\n",
        " (4, 24, 96),\n",
        " (4, 45, 180),\n",
        " (4, 66, 264),\n",
        " (4, 87, 348),\n",
        " (6, 15, 90),\n",
        " (6, 36, 216),\n",
        " (6, 57, 342),\n",
        " (6, 78, 468),\n",
        " (6, 99, 594),\n",
        " (8, 6, 48),\n",
        " (8, 27, 216),\n",
        " (8, 48, 384),\n",
        " (8, 69, 552),\n",
        " (8, 90, 720),\n",
        " (10, 18, 180),\n",
        " (10, 39, 390),\n",
        " (10, 60, 600),\n",
        " (10, 81, 810),\n",
        " (12, 9, 108),\n",
        " (12, 30, 360),\n",
        " (12, 51, 612),\n",
        " (12, 72, 864),\n",
        " (12, 93, 1116),\n",
        " (14, 21, 294),\n",
        " (14, 42, 588),\n",
        " (14, 63, 882),\n",
        " (14, 84, 1176),\n",
        " (16, 12, 192),\n",
        " (16, 33, 528),\n",
        " (16, 54, 864),\n",
        " (16, 75, 1200),\n",
        " (16, 96, 1536),\n",
        " (18, 3, 54),\n",
        " (18, 24, 432),\n",
        " (18, 45, 810),\n",
        " (18, 66, 1188),\n",
        " (18, 87, 1566),\n",
        " (20, 15, 300),\n",
        " (20, 36, 720),\n",
        " (20, 57, 1140),\n",
        " (20, 78, 1560),\n",
        " (20, 99, 1980),\n",
        " (22, 6, 132),\n",
        " (22, 27, 594),\n",
        " (22, 48, 1056),\n",
        " (22, 69, 1518),\n",
        " (22, 90, 1980),\n",
        " (24, 18, 432),\n",
        " (24, 39, 936),\n",
        " (24, 60, 1440),\n",
        " (24, 81, 1944),\n",
        " (26, 9, 234),\n",
        " (26, 30, 780),\n",
        " (26, 51, 1326),\n",
        " (26, 72, 1872),\n",
        " (26, 93, 2418),\n",
        " (28, 21, 588),\n",
        " (28, 42, 1176),\n",
        " (28, 63, 1764),\n",
        " (28, 84, 2352),\n",
        " (30, 12, 360),\n",
        " (30, 33, 990),\n",
        " (30, 54, 1620),\n",
        " (30, 75, 2250),\n",
        " (30, 96, 2880),\n",
        " (32, 3, 96),\n",
        " (32, 24, 768),\n",
        " (32, 45, 1440),\n",
        " (32, 66, 2112),\n",
        " (32, 87, 2784),\n",
        " (34, 15, 510),\n",
        " (34, 36, 1224),\n",
        " (34, 57, 1938),\n",
        " (34, 78, 2652),\n",
        " (34, 99, 3366),\n",
        " (36, 6, 216),\n",
        " (36, 27, 972),\n",
        " (36, 48, 1728),\n",
        " (36, 69, 2484),\n",
        " (36, 90, 3240),\n",
        " (38, 18, 684),\n",
        " (38, 39, 1482),\n",
        " (38, 60, 2280),\n",
        " (38, 81, 3078),\n",
        " (40, 9, 360),\n",
        " (40, 30, 1200),\n",
        " (40, 51, 2040),\n",
        " (40, 72, 2880),\n",
        " (40, 93, 3720),\n",
        " (42, 21, 882),\n",
        " (42, 42, 1764),\n",
        " (42, 63, 2646),\n",
        " (42, 84, 3528),\n",
        " (44, 12, 528),\n",
        " (44, 33, 1452),\n",
        " (44, 54, 2376),\n",
        " (44, 75, 3300),\n",
        " (44, 96, 4224),\n",
        " (46, 3, 138),\n",
        " (46, 24, 1104),\n",
        " (46, 45, 2070),\n",
        " (46, 66, 3036),\n",
        " (46, 87, 4002),\n",
        " (48, 15, 720),\n",
        " (48, 36, 1728),\n",
        " (48, 57, 2736),\n",
        " (48, 78, 3744),\n",
        " (48, 99, 4752),\n",
        " (50, 6, 300),\n",
        " (50, 27, 1350),\n",
        " (50, 48, 2400),\n",
        " (50, 69, 3450),\n",
        " (50, 90, 4500),\n",
        " (52, 18, 936),\n",
        " (52, 39, 2028),\n",
        " (52, 60, 3120),\n",
        " (52, 81, 4212),\n",
        " (54, 9, 486),\n",
        " (54, 30, 1620),\n",
        " (54, 51, 2754),\n",
        " (54, 72, 3888),\n",
        " (54, 93, 5022),\n",
        " (56, 21, 1176),\n",
        " (56, 42, 2352),\n",
        " (56, 63, 3528),\n",
        " (56, 84, 4704),\n",
        " (58, 12, 696),\n",
        " (58, 33, 1914),\n",
        " (58, 54, 3132),\n",
        " (58, 75, 4350),\n",
        " (58, 96, 5568),\n",
        " (60, 3, 180),\n",
        " (60, 24, 1440),\n",
        " (60, 45, 2700),\n",
        " (60, 66, 3960),\n",
        " (60, 87, 5220),\n",
        " (62, 15, 930),\n",
        " (62, 36, 2232),\n",
        " (62, 57, 3534),\n",
        " (62, 78, 4836),\n",
        " (62, 99, 6138),\n",
        " (64, 6, 384),\n",
        " (64, 27, 1728),\n",
        " (64, 48, 3072),\n",
        " (64, 69, 4416),\n",
        " (64, 90, 5760),\n",
        " (66, 18, 1188),\n",
        " (66, 39, 2574),\n",
        " (66, 60, 3960),\n",
        " (66, 81, 5346),\n",
        " (68, 9, 612),\n",
        " (68, 30, 2040),\n",
        " (68, 51, 3468),\n",
        " (68, 72, 4896),\n",
        " (68, 93, 6324),\n",
        " (70, 21, 1470),\n",
        " (70, 42, 2940),\n",
        " (70, 63, 4410),\n",
        " (70, 84, 5880),\n",
        " (72, 12, 864),\n",
        " (72, 33, 2376),\n",
        " (72, 54, 3888),\n",
        " (72, 75, 5400),\n",
        " (72, 96, 6912),\n",
        " (74, 3, 222),\n",
        " (74, 24, 1776),\n",
        " (74, 45, 3330),\n",
        " (74, 66, 4884),\n",
        " (74, 87, 6438),\n",
        " (76, 15, 1140),\n",
        " (76, 36, 2736),\n",
        " (76, 57, 4332),\n",
        " (76, 78, 5928),\n",
        " (76, 99, 7524),\n",
        " (78, 6, 468),\n",
        " (78, 27, 2106),\n",
        " (78, 48, 3744),\n",
        " (78, 69, 5382),\n",
        " (78, 90, 7020),\n",
        " (80, 18, 1440),\n",
        " (80, 39, 3120),\n",
        " (80, 60, 4800),\n",
        " (80, 81, 6480),\n",
        " (82, 9, 738),\n",
        " (82, 30, 2460),\n",
        " (82, 51, 4182),\n",
        " (82, 72, 5904),\n",
        " (82, 93, 7626),\n",
        " (84, 21, 1764),\n",
        " (84, 42, 3528),\n",
        " (84, 63, 5292),\n",
        " (84, 84, 7056),\n",
        " (86, 12, 1032),\n",
        " (86, 33, 2838),\n",
        " (86, 54, 4644),\n",
        " (86, 75, 6450),\n",
        " (86, 96, 8256),\n",
        " (88, 3, 264),\n",
        " (88, 24, 2112),\n",
        " (88, 45, 3960),\n",
        " (88, 66, 5808),\n",
        " (88, 87, 7656),\n",
        " (90, 15, 1350),\n",
        " (90, 36, 3240),\n",
        " (90, 57, 5130),\n",
        " (90, 78, 7020),\n",
        " (90, 99, 8910),\n",
        " (92, 6, 552),\n",
        " (92, 27, 2484),\n",
        " (92, 48, 4416),\n",
        " (92, 69, 6348),\n",
        " (92, 90, 8280),\n",
        " (94, 18, 1692),\n",
        " (94, 39, 3666),\n",
        " (94, 60, 5640),\n",
        " (94, 81, 7614),\n",
        " (96, 9, 864),\n",
        " (96, 30, 2880),\n",
        " (96, 51, 4896),\n",
        " (96, 72, 6912),\n",
        " (96, 93, 8928),\n",
        " (98, 21, 2058),\n",
        " (98, 42, 4116),\n",
        " (98, 63, 6174),\n",
        " (98, 84, 8232)]"
       ]
      }
     ],
     "prompt_number": 78
    },
    {
     "cell_type": "code",
     "collapsed": false,
     "input": [
      "#\ud29c\ud50c"
     ],
     "language": "python",
     "metadata": {},
     "outputs": [],
     "prompt_number": 79
    },
    {
     "cell_type": "code",
     "collapsed": false,
     "input": [
      "t=()\n",
      "t=(1,2,3)\n",
      "t=1,2,3\n",
      "r=(1,) #(1)\n",
      "r=1,"
     ],
     "language": "python",
     "metadata": {},
     "outputs": [],
     "prompt_number": 80
    },
    {
     "cell_type": "code",
     "collapsed": false,
     "input": [
      "#\ud328\ud0b9 \uc5b8\ud328\ud0b9"
     ],
     "language": "python",
     "metadata": {},
     "outputs": [],
     "prompt_number": 81
    },
    {
     "cell_type": "code",
     "collapsed": false,
     "input": [
      "t=1,2,'hello'"
     ],
     "language": "python",
     "metadata": {},
     "outputs": [],
     "prompt_number": 82
    },
    {
     "cell_type": "code",
     "collapsed": false,
     "input": [
      "t"
     ],
     "language": "python",
     "metadata": {},
     "outputs": [
      {
       "metadata": {},
       "output_type": "pyout",
       "prompt_number": 83,
       "text": [
        "(1, 2, 'hello')"
       ]
      }
     ],
     "prompt_number": 83
    },
    {
     "cell_type": "code",
     "collapsed": false,
     "input": [
      "x,y,z=t"
     ],
     "language": "python",
     "metadata": {},
     "outputs": [],
     "prompt_number": 85
    },
    {
     "cell_type": "code",
     "collapsed": false,
     "input": [
      "x"
     ],
     "language": "python",
     "metadata": {},
     "outputs": [
      {
       "metadata": {},
       "output_type": "pyout",
       "prompt_number": 86,
       "text": [
        "1"
       ]
      }
     ],
     "prompt_number": 86
    },
    {
     "cell_type": "code",
     "collapsed": false,
     "input": [
      "a,*b=t"
     ],
     "language": "python",
     "metadata": {},
     "outputs": [],
     "prompt_number": 87
    },
    {
     "cell_type": "code",
     "collapsed": false,
     "input": [
      "a,b"
     ],
     "language": "python",
     "metadata": {},
     "outputs": [
      {
       "metadata": {},
       "output_type": "pyout",
       "prompt_number": 88,
       "text": [
        "(1, [2, 'hello'])"
       ]
      }
     ],
     "prompt_number": 88
    },
    {
     "cell_type": "code",
     "collapsed": false,
     "input": [
      "*a,b=t"
     ],
     "language": "python",
     "metadata": {},
     "outputs": [],
     "prompt_number": 89
    },
    {
     "cell_type": "code",
     "collapsed": false,
     "input": [
      "a,b"
     ],
     "language": "python",
     "metadata": {},
     "outputs": [
      {
       "metadata": {},
       "output_type": "pyout",
       "prompt_number": 90,
       "text": [
        "([1, 2], 'hello')"
       ]
      }
     ],
     "prompt_number": 90
    },
    {
     "cell_type": "code",
     "collapsed": false,
     "input": [
      "#x\ud29c\ud50c \u3142\ud56d\ubaa9 \ubcc0\uacbd \ubd88\uac00"
     ],
     "language": "python",
     "metadata": {},
     "outputs": [],
     "prompt_number": 91
    },
    {
     "cell_type": "code",
     "collapsed": false,
     "input": [
      "#\ub9ac\uc2a4\ud2b8-\ud29c\ud50c \uc0c1\ud638 \ubcc0\ud658 \uac00\ub2a5"
     ],
     "language": "python",
     "metadata": {},
     "outputs": [],
     "prompt_number": 92
    },
    {
     "cell_type": "code",
     "collapsed": false,
     "input": [
      "def mysum(*arg):\n",
      "    print(arg)\n",
      "    return 1,2\n",
      "\n",
      "a,b=mysum(1,2,3)"
     ],
     "language": "python",
     "metadata": {},
     "outputs": [
      {
       "output_type": "stream",
       "stream": "stdout",
       "text": [
        "(1, 2, 3)\n"
       ]
      }
     ],
     "prompt_number": 93
    },
    {
     "cell_type": "code",
     "collapsed": false,
     "input": [
      "t=(1,2,3,4,5,6)"
     ],
     "language": "python",
     "metadata": {},
     "outputs": [],
     "prompt_number": 95
    },
    {
     "cell_type": "code",
     "collapsed": false,
     "input": [
      "t.count(1)"
     ],
     "language": "python",
     "metadata": {},
     "outputs": [
      {
       "metadata": {},
       "output_type": "pyout",
       "prompt_number": 96,
       "text": [
        "1"
       ]
      }
     ],
     "prompt_number": 96
    },
    {
     "cell_type": "code",
     "collapsed": false,
     "input": [
      "t.index(1)"
     ],
     "language": "python",
     "metadata": {},
     "outputs": [
      {
       "metadata": {},
       "output_type": "pyout",
       "prompt_number": 97,
       "text": [
        "0"
       ]
      }
     ],
     "prompt_number": 97
    },
    {
     "cell_type": "code",
     "collapsed": false,
     "input": [
      "#\uac00\ubcc0\uc778\uc218\n",
      "def f(*args):\n",
      "    print (args)\n",
      "    \n",
      "f()\n",
      "f(1)\n",
      "f(1,2,30)"
     ],
     "language": "python",
     "metadata": {},
     "outputs": [
      {
       "output_type": "stream",
       "stream": "stdout",
       "text": [
        "()\n",
        "(1,)\n",
        "(1, 2, 30)\n"
       ]
      }
     ],
     "prompt_number": 98
    },
    {
     "cell_type": "code",
     "collapsed": false,
     "input": [
      "def f(a,b,c):\n",
      "    print (a,b,c)\n",
      "args=(1,2,3)\n",
      "f(*args)"
     ],
     "language": "python",
     "metadata": {},
     "outputs": [
      {
       "output_type": "stream",
       "stream": "stdout",
       "text": [
        "1 2 3\n"
       ]
      }
     ],
     "prompt_number": 99
    },
    {
     "cell_type": "code",
     "collapsed": false,
     "input": [
      "#named tuple"
     ],
     "language": "python",
     "metadata": {},
     "outputs": [],
     "prompt_number": 101
    },
    {
     "cell_type": "code",
     "collapsed": false,
     "input": [
      "from collections import namedtuple"
     ],
     "language": "python",
     "metadata": {},
     "outputs": [],
     "prompt_number": 102
    },
    {
     "cell_type": "code",
     "collapsed": false,
     "input": [
      "Point=namedtuple('Point',['x','y'])"
     ],
     "language": "python",
     "metadata": {},
     "outputs": [],
     "prompt_number": 103
    },
    {
     "cell_type": "code",
     "collapsed": false,
     "input": [
      "Point(2,3)"
     ],
     "language": "python",
     "metadata": {},
     "outputs": [
      {
       "metadata": {},
       "output_type": "pyout",
       "prompt_number": 104,
       "text": [
        "Point(x=2, y=3)"
       ]
      }
     ],
     "prompt_number": 104
    },
    {
     "cell_type": "code",
     "collapsed": false,
     "input": [
      "p=Point(2,3)\n",
      "print (p.x,p.y)\n",
      "print (p[0],p[1])"
     ],
     "language": "python",
     "metadata": {},
     "outputs": [
      {
       "output_type": "stream",
       "stream": "stdout",
       "text": [
        "2 3\n",
        "2 3\n"
       ]
      }
     ],
     "prompt_number": 106
    },
    {
     "cell_type": "code",
     "collapsed": false,
     "input": [],
     "language": "python",
     "metadata": {},
     "outputs": []
    }
   ],
   "metadata": {}
  }
 ]
}