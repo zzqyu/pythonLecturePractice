{
 "metadata": {
  "name": "",
  "signature": "sha256:5e6cf7d08ea625d0d9007d762f47a7d28f8df837b4f74baf4773cdb799138616"
 },
 "nbformat": 3,
 "nbformat_minor": 0,
 "worksheets": [
  {
   "cells": [
    {
     "cell_type": "code",
     "collapsed": false,
     "input": [
      "txt=open('D:\\\\a.txt').read()\n",
      "txt"
     ],
     "language": "python",
     "metadata": {},
     "outputs": [
      {
       "metadata": {},
       "output_type": "pyout",
       "prompt_number": 11,
       "text": [
        "'sdaskjdhakjsckxjcjnsjfnksjdvndkjsnvjkcnjks dsdjsajdklsajdsakldjsakc askdjaskldl sjldsfjsdkfjds\\ndsfskdljfskldjflksjkcmklsvmdkljsfkldsmvklxmcd '"
       ]
      }
     ],
     "prompt_number": 11
    },
    {
     "cell_type": "code",
     "collapsed": false,
     "input": [
      "import re"
     ],
     "language": "python",
     "metadata": {},
     "outputs": [],
     "prompt_number": 3
    },
    {
     "cell_type": "code",
     "collapsed": false,
     "input": [
      "re.sub('a','a\\n',txt)"
     ],
     "language": "python",
     "metadata": {},
     "outputs": [
      {
       "metadata": {},
       "output_type": "pyout",
       "prompt_number": 6,
       "text": [
        "'sda\\nskjdha\\nkjsckxjcjnsjfnksjdvndkjsnvjkcnjks dsdjsa\\njdklsa\\njdsa\\nkldjsa\\nkc a\\nskdja\\nskldl sjldsfjsdkfjds\\ndsfskdljfskldjflksjkcmklsvmdkljsfkldsmvklxmcd '"
       ]
      }
     ],
     "prompt_number": 6
    },
    {
     "cell_type": "code",
     "collapsed": false,
     "input": [
      "re.sub('[a-z]',' ',txt)"
     ],
     "language": "python",
     "metadata": {},
     "outputs": [
      {
       "metadata": {},
       "output_type": "pyout",
       "prompt_number": 10,
       "text": [
        "'                                                                                              \\n                                              '"
       ]
      }
     ],
     "prompt_number": 10
    },
    {
     "cell_type": "code",
     "collapsed": false,
     "input": [
      "from collections import Counter"
     ],
     "language": "python",
     "metadata": {},
     "outputs": [],
     "prompt_number": 13
    },
    {
     "cell_type": "code",
     "collapsed": false,
     "input": [
      "cnt=Counter(txt)"
     ],
     "language": "python",
     "metadata": {},
     "outputs": [],
     "prompt_number": 14
    },
    {
     "cell_type": "code",
     "collapsed": false,
     "input": [
      "cnt"
     ],
     "language": "python",
     "metadata": {},
     "outputs": [
      {
       "metadata": {},
       "output_type": "pyout",
       "prompt_number": 15,
       "text": [
        "Counter({'s': 25, 'j': 21, 'k': 21, 'd': 20, 'l': 12, 'a': 8, 'f': 7, 'c': 6, 'n': 5, ' ': 4, 'm': 4, 'v': 4, 'x': 2, '\\n': 1, 'h': 1})"
       ]
      }
     ],
     "prompt_number": 15
    },
    {
     "cell_type": "code",
     "collapsed": false,
     "input": [
      "cnt[1]"
     ],
     "language": "python",
     "metadata": {},
     "outputs": [
      {
       "metadata": {},
       "output_type": "pyout",
       "prompt_number": 16,
       "text": [
        "0"
       ]
      }
     ],
     "prompt_number": 16
    },
    {
     "cell_type": "code",
     "collapsed": false,
     "input": [
      "cnt.items()"
     ],
     "language": "python",
     "metadata": {},
     "outputs": [
      {
       "metadata": {},
       "output_type": "pyout",
       "prompt_number": 17,
       "text": [
        "dict_items([('\\n', 1), ('l', 12), ('j', 21), ('a', 8), (' ', 4), ('m', 4), ('h', 1), ('x', 2), ('s', 25), ('k', 21), ('f', 7), ('v', 4), ('d', 20), ('n', 5), ('c', 6)])"
       ]
      }
     ],
     "prompt_number": 17
    },
    {
     "cell_type": "code",
     "collapsed": false,
     "input": [
      "Item=['0']\n",
      "i=0\n",
      "for k in cnt.items():\n",
      "    if(i==0):\n",
      "        Item[0]=k\n",
      "    else:\n",
      "        Item.extend([k])\n",
      "    i+=1"
     ],
     "language": "python",
     "metadata": {},
     "outputs": [],
     "prompt_number": 18
    },
    {
     "cell_type": "code",
     "collapsed": false,
     "input": [
      "Item"
     ],
     "language": "python",
     "metadata": {},
     "outputs": [
      {
       "metadata": {},
       "output_type": "pyout",
       "prompt_number": 19,
       "text": [
        "[('\\n', 1),\n",
        " ('l', 12),\n",
        " ('j', 21),\n",
        " ('a', 8),\n",
        " (' ', 4),\n",
        " ('m', 4),\n",
        " ('h', 1),\n",
        " ('x', 2),\n",
        " ('s', 25),\n",
        " ('k', 21),\n",
        " ('f', 7),\n",
        " ('v', 4),\n",
        " ('d', 20),\n",
        " ('n', 5),\n",
        " ('c', 6)]"
       ]
      }
     ],
     "prompt_number": 19
    },
    {
     "cell_type": "code",
     "collapsed": false,
     "input": [
      "i"
     ],
     "language": "python",
     "metadata": {},
     "outputs": [
      {
       "metadata": {},
       "output_type": "pyout",
       "prompt_number": 20,
       "text": [
        "15"
       ]
      }
     ],
     "prompt_number": 20
    },
    {
     "cell_type": "code",
     "collapsed": false,
     "input": [
      "len(Item)"
     ],
     "language": "python",
     "metadata": {},
     "outputs": [
      {
       "metadata": {},
       "output_type": "pyout",
       "prompt_number": 21,
       "text": [
        "15"
       ]
      }
     ],
     "prompt_number": 21
    },
    {
     "cell_type": "code",
     "collapsed": false,
     "input": [
      "Item.sort()"
     ],
     "language": "python",
     "metadata": {},
     "outputs": [],
     "prompt_number": 23
    },
    {
     "cell_type": "code",
     "collapsed": false,
     "input": [
      "Item"
     ],
     "language": "python",
     "metadata": {},
     "outputs": [
      {
       "metadata": {},
       "output_type": "pyout",
       "prompt_number": 24,
       "text": [
        "[('\\n', 1),\n",
        " (' ', 4),\n",
        " ('a', 8),\n",
        " ('c', 6),\n",
        " ('d', 20),\n",
        " ('f', 7),\n",
        " ('h', 1),\n",
        " ('j', 21),\n",
        " ('k', 21),\n",
        " ('l', 12),\n",
        " ('m', 4),\n",
        " ('n', 5),\n",
        " ('s', 25),\n",
        " ('v', 4),\n",
        " ('x', 2)]"
       ]
      }
     ],
     "prompt_number": 24
    },
    {
     "cell_type": "code",
     "collapsed": false,
     "input": [
      "Item.sort(key=lambda e:e[1], reverse=False)\n",
      "Item"
     ],
     "language": "python",
     "metadata": {},
     "outputs": [
      {
       "metadata": {},
       "output_type": "pyout",
       "prompt_number": 25,
       "text": [
        "[('\\n', 1),\n",
        " ('h', 1),\n",
        " ('x', 2),\n",
        " (' ', 4),\n",
        " ('m', 4),\n",
        " ('v', 4),\n",
        " ('n', 5),\n",
        " ('c', 6),\n",
        " ('f', 7),\n",
        " ('a', 8),\n",
        " ('l', 12),\n",
        " ('d', 20),\n",
        " ('j', 21),\n",
        " ('k', 21),\n",
        " ('s', 25)]"
       ]
      }
     ],
     "prompt_number": 25
    },
    {
     "cell_type": "code",
     "collapsed": false,
     "input": [
      "Item.sort(key=lambda e:e[1], reverse=True)\n",
      "Item"
     ],
     "language": "python",
     "metadata": {},
     "outputs": [
      {
       "metadata": {},
       "output_type": "pyout",
       "prompt_number": 26,
       "text": [
        "[('s', 25),\n",
        " ('j', 21),\n",
        " ('k', 21),\n",
        " ('d', 20),\n",
        " ('l', 12),\n",
        " ('a', 8),\n",
        " ('f', 7),\n",
        " ('c', 6),\n",
        " ('n', 5),\n",
        " (' ', 4),\n",
        " ('m', 4),\n",
        " ('v', 4),\n",
        " ('x', 2),\n",
        " ('\\n', 1),\n",
        " ('h', 1)]"
       ]
      }
     ],
     "prompt_number": 26
    },
    {
     "cell_type": "code",
     "collapsed": false,
     "input": [
      "txt=open('D:\\\\a.txt').read()"
     ],
     "language": "python",
     "metadata": {},
     "outputs": [],
     "prompt_number": 28
    },
    {
     "cell_type": "code",
     "collapsed": false,
     "input": [
      "txt"
     ],
     "language": "python",
     "metadata": {},
     "outputs": [
      {
       "metadata": {},
       "output_type": "pyout",
       "prompt_number": 29,
       "text": [
        "\"Peter Pan; or, the Boy Who Wouldn't Grow Up or Peter and Wendy is J. M. Barrie's most famous work, in the form of a 1904 play and a 1911 novel. Both versions tell the story of Peter Pan, a mischievous little boy who can fly, and his adventures on the island of Neverland with Wendy Darling and her brothers, the fairy Tinker Bell, the Lost Boys, the Indian princess Tiger Lily, and the pirate Captain Hook. The play and novel were inspired by Barrie's friendship with the Llewelyn Davies family. Barrie continued to revise the play for years after its debut; the novel reflects one version of the story.\\n\\nThe play debuted in London on 27 December 1904 with Nina Boucicault, daughter of playwright Dion Boucicault, in the title role. A Broadway production was mounted in 1905 starring Maude Adams. It was later revived with such actresses as Marilyn Miller and Eva Le Gallienne. The play has since seen adaptation as a pantomime, stage musical, a television special, and several films, including a 1924 silent film, a 1953 animated Disney full-length feature, and a 2003 live action production. The play is now rarely performed in its original form on stage in the United Kingdom, whereas pantomime adaptations are frequently staged around Christmas. In the U.S., the original version has also been supplanted in popularity by the 1954 musical version, which became popular on television.\\n\\nThe novel was first published in 1911 by Hodder & Stoughton in the United Kingdom and Charles Scribner's Sons in the United States. The original book contains a frontispiece and 11 half-tone plates by artist F. D. Bedford (whose illustrations are still in copyright in the EU). The novel was first abridged by May Byron in 1915, with Barrie's permission, and published under the title Peter Pan and Wendy, the first time this form was used. This version was later illustrated by Mabel Lucie Attwell in 1921. The novel is now usually published under that title or simply Peter Pan. The script of the play, which Barrie had continued to revise since its first performance, was published in 1928. In 1929, Barrie gave the copyright of the Peter Pan works to Great Ormond Street Hospital, a children's hospital in London.\""
       ]
      }
     ],
     "prompt_number": 29
    },
    {
     "cell_type": "code",
     "collapsed": false,
     "input": [
      "txt.split(' ')"
     ],
     "language": "python",
     "metadata": {},
     "outputs": [
      {
       "metadata": {},
       "output_type": "pyout",
       "prompt_number": 30,
       "text": [
        "['Peter',\n",
        " 'Pan;',\n",
        " 'or,',\n",
        " 'the',\n",
        " 'Boy',\n",
        " 'Who',\n",
        " \"Wouldn't\",\n",
        " 'Grow',\n",
        " 'Up',\n",
        " 'or',\n",
        " 'Peter',\n",
        " 'and',\n",
        " 'Wendy',\n",
        " 'is',\n",
        " 'J.',\n",
        " 'M.',\n",
        " \"Barrie's\",\n",
        " 'most',\n",
        " 'famous',\n",
        " 'work,',\n",
        " 'in',\n",
        " 'the',\n",
        " 'form',\n",
        " 'of',\n",
        " 'a',\n",
        " '1904',\n",
        " 'play',\n",
        " 'and',\n",
        " 'a',\n",
        " '1911',\n",
        " 'novel.',\n",
        " 'Both',\n",
        " 'versions',\n",
        " 'tell',\n",
        " 'the',\n",
        " 'story',\n",
        " 'of',\n",
        " 'Peter',\n",
        " 'Pan,',\n",
        " 'a',\n",
        " 'mischievous',\n",
        " 'little',\n",
        " 'boy',\n",
        " 'who',\n",
        " 'can',\n",
        " 'fly,',\n",
        " 'and',\n",
        " 'his',\n",
        " 'adventures',\n",
        " 'on',\n",
        " 'the',\n",
        " 'island',\n",
        " 'of',\n",
        " 'Neverland',\n",
        " 'with',\n",
        " 'Wendy',\n",
        " 'Darling',\n",
        " 'and',\n",
        " 'her',\n",
        " 'brothers,',\n",
        " 'the',\n",
        " 'fairy',\n",
        " 'Tinker',\n",
        " 'Bell,',\n",
        " 'the',\n",
        " 'Lost',\n",
        " 'Boys,',\n",
        " 'the',\n",
        " 'Indian',\n",
        " 'princess',\n",
        " 'Tiger',\n",
        " 'Lily,',\n",
        " 'and',\n",
        " 'the',\n",
        " 'pirate',\n",
        " 'Captain',\n",
        " 'Hook.',\n",
        " 'The',\n",
        " 'play',\n",
        " 'and',\n",
        " 'novel',\n",
        " 'were',\n",
        " 'inspired',\n",
        " 'by',\n",
        " \"Barrie's\",\n",
        " 'friendship',\n",
        " 'with',\n",
        " 'the',\n",
        " 'Llewelyn',\n",
        " 'Davies',\n",
        " 'family.',\n",
        " 'Barrie',\n",
        " 'continued',\n",
        " 'to',\n",
        " 'revise',\n",
        " 'the',\n",
        " 'play',\n",
        " 'for',\n",
        " 'years',\n",
        " 'after',\n",
        " 'its',\n",
        " 'debut;',\n",
        " 'the',\n",
        " 'novel',\n",
        " 'reflects',\n",
        " 'one',\n",
        " 'version',\n",
        " 'of',\n",
        " 'the',\n",
        " 'story.\\n\\nThe',\n",
        " 'play',\n",
        " 'debuted',\n",
        " 'in',\n",
        " 'London',\n",
        " 'on',\n",
        " '27',\n",
        " 'December',\n",
        " '1904',\n",
        " 'with',\n",
        " 'Nina',\n",
        " 'Boucicault,',\n",
        " 'daughter',\n",
        " 'of',\n",
        " 'playwright',\n",
        " 'Dion',\n",
        " 'Boucicault,',\n",
        " 'in',\n",
        " 'the',\n",
        " 'title',\n",
        " 'role.',\n",
        " 'A',\n",
        " 'Broadway',\n",
        " 'production',\n",
        " 'was',\n",
        " 'mounted',\n",
        " 'in',\n",
        " '1905',\n",
        " 'starring',\n",
        " 'Maude',\n",
        " 'Adams.',\n",
        " 'It',\n",
        " 'was',\n",
        " 'later',\n",
        " 'revived',\n",
        " 'with',\n",
        " 'such',\n",
        " 'actresses',\n",
        " 'as',\n",
        " 'Marilyn',\n",
        " 'Miller',\n",
        " 'and',\n",
        " 'Eva',\n",
        " 'Le',\n",
        " 'Gallienne.',\n",
        " 'The',\n",
        " 'play',\n",
        " 'has',\n",
        " 'since',\n",
        " 'seen',\n",
        " 'adaptation',\n",
        " 'as',\n",
        " 'a',\n",
        " 'pantomime,',\n",
        " 'stage',\n",
        " 'musical,',\n",
        " 'a',\n",
        " 'television',\n",
        " 'special,',\n",
        " 'and',\n",
        " 'several',\n",
        " 'films,',\n",
        " 'including',\n",
        " 'a',\n",
        " '1924',\n",
        " 'silent',\n",
        " 'film,',\n",
        " 'a',\n",
        " '1953',\n",
        " 'animated',\n",
        " 'Disney',\n",
        " 'full-length',\n",
        " 'feature,',\n",
        " 'and',\n",
        " 'a',\n",
        " '2003',\n",
        " 'live',\n",
        " 'action',\n",
        " 'production.',\n",
        " 'The',\n",
        " 'play',\n",
        " 'is',\n",
        " 'now',\n",
        " 'rarely',\n",
        " 'performed',\n",
        " 'in',\n",
        " 'its',\n",
        " 'original',\n",
        " 'form',\n",
        " 'on',\n",
        " 'stage',\n",
        " 'in',\n",
        " 'the',\n",
        " 'United',\n",
        " 'Kingdom,',\n",
        " 'whereas',\n",
        " 'pantomime',\n",
        " 'adaptations',\n",
        " 'are',\n",
        " 'frequently',\n",
        " 'staged',\n",
        " 'around',\n",
        " 'Christmas.',\n",
        " 'In',\n",
        " 'the',\n",
        " 'U.S.,',\n",
        " 'the',\n",
        " 'original',\n",
        " 'version',\n",
        " 'has',\n",
        " 'also',\n",
        " 'been',\n",
        " 'supplanted',\n",
        " 'in',\n",
        " 'popularity',\n",
        " 'by',\n",
        " 'the',\n",
        " '1954',\n",
        " 'musical',\n",
        " 'version,',\n",
        " 'which',\n",
        " 'became',\n",
        " 'popular',\n",
        " 'on',\n",
        " 'television.\\n\\nThe',\n",
        " 'novel',\n",
        " 'was',\n",
        " 'first',\n",
        " 'published',\n",
        " 'in',\n",
        " '1911',\n",
        " 'by',\n",
        " 'Hodder',\n",
        " '&',\n",
        " 'Stoughton',\n",
        " 'in',\n",
        " 'the',\n",
        " 'United',\n",
        " 'Kingdom',\n",
        " 'and',\n",
        " 'Charles',\n",
        " \"Scribner's\",\n",
        " 'Sons',\n",
        " 'in',\n",
        " 'the',\n",
        " 'United',\n",
        " 'States.',\n",
        " 'The',\n",
        " 'original',\n",
        " 'book',\n",
        " 'contains',\n",
        " 'a',\n",
        " 'frontispiece',\n",
        " 'and',\n",
        " '11',\n",
        " 'half-tone',\n",
        " 'plates',\n",
        " 'by',\n",
        " 'artist',\n",
        " 'F.',\n",
        " 'D.',\n",
        " 'Bedford',\n",
        " '(whose',\n",
        " 'illustrations',\n",
        " 'are',\n",
        " 'still',\n",
        " 'in',\n",
        " 'copyright',\n",
        " 'in',\n",
        " 'the',\n",
        " 'EU).',\n",
        " 'The',\n",
        " 'novel',\n",
        " 'was',\n",
        " 'first',\n",
        " 'abridged',\n",
        " 'by',\n",
        " 'May',\n",
        " 'Byron',\n",
        " 'in',\n",
        " '1915,',\n",
        " 'with',\n",
        " \"Barrie's\",\n",
        " 'permission,',\n",
        " 'and',\n",
        " 'published',\n",
        " 'under',\n",
        " 'the',\n",
        " 'title',\n",
        " 'Peter',\n",
        " 'Pan',\n",
        " 'and',\n",
        " 'Wendy,',\n",
        " 'the',\n",
        " 'first',\n",
        " 'time',\n",
        " 'this',\n",
        " 'form',\n",
        " 'was',\n",
        " 'used.',\n",
        " 'This',\n",
        " 'version',\n",
        " 'was',\n",
        " 'later',\n",
        " 'illustrated',\n",
        " 'by',\n",
        " 'Mabel',\n",
        " 'Lucie',\n",
        " 'Attwell',\n",
        " 'in',\n",
        " '1921.',\n",
        " 'The',\n",
        " 'novel',\n",
        " 'is',\n",
        " 'now',\n",
        " 'usually',\n",
        " 'published',\n",
        " 'under',\n",
        " 'that',\n",
        " 'title',\n",
        " 'or',\n",
        " 'simply',\n",
        " 'Peter',\n",
        " 'Pan.',\n",
        " 'The',\n",
        " 'script',\n",
        " 'of',\n",
        " 'the',\n",
        " 'play,',\n",
        " 'which',\n",
        " 'Barrie',\n",
        " 'had',\n",
        " 'continued',\n",
        " 'to',\n",
        " 'revise',\n",
        " 'since',\n",
        " 'its',\n",
        " 'first',\n",
        " 'performance,',\n",
        " 'was',\n",
        " 'published',\n",
        " 'in',\n",
        " '1928.',\n",
        " 'In',\n",
        " '1929,',\n",
        " 'Barrie',\n",
        " 'gave',\n",
        " 'the',\n",
        " 'copyright',\n",
        " 'of',\n",
        " 'the',\n",
        " 'Peter',\n",
        " 'Pan',\n",
        " 'works',\n",
        " 'to',\n",
        " 'Great',\n",
        " 'Ormond',\n",
        " 'Street',\n",
        " 'Hospital,',\n",
        " 'a',\n",
        " \"children's\",\n",
        " 'hospital',\n",
        " 'in',\n",
        " 'London.']"
       ]
      }
     ],
     "prompt_number": 30
    },
    {
     "cell_type": "code",
     "collapsed": false,
     "input": [
      "txt"
     ],
     "language": "python",
     "metadata": {},
     "outputs": [
      {
       "metadata": {},
       "output_type": "pyout",
       "prompt_number": 31,
       "text": [
        "\"Peter Pan; or, the Boy Who Wouldn't Grow Up or Peter and Wendy is J. M. Barrie's most famous work, in the form of a 1904 play and a 1911 novel. Both versions tell the story of Peter Pan, a mischievous little boy who can fly, and his adventures on the island of Neverland with Wendy Darling and her brothers, the fairy Tinker Bell, the Lost Boys, the Indian princess Tiger Lily, and the pirate Captain Hook. The play and novel were inspired by Barrie's friendship with the Llewelyn Davies family. Barrie continued to revise the play for years after its debut; the novel reflects one version of the story.\\n\\nThe play debuted in London on 27 December 1904 with Nina Boucicault, daughter of playwright Dion Boucicault, in the title role. A Broadway production was mounted in 1905 starring Maude Adams. It was later revived with such actresses as Marilyn Miller and Eva Le Gallienne. The play has since seen adaptation as a pantomime, stage musical, a television special, and several films, including a 1924 silent film, a 1953 animated Disney full-length feature, and a 2003 live action production. The play is now rarely performed in its original form on stage in the United Kingdom, whereas pantomime adaptations are frequently staged around Christmas. In the U.S., the original version has also been supplanted in popularity by the 1954 musical version, which became popular on television.\\n\\nThe novel was first published in 1911 by Hodder & Stoughton in the United Kingdom and Charles Scribner's Sons in the United States. The original book contains a frontispiece and 11 half-tone plates by artist F. D. Bedford (whose illustrations are still in copyright in the EU). The novel was first abridged by May Byron in 1915, with Barrie's permission, and published under the title Peter Pan and Wendy, the first time this form was used. This version was later illustrated by Mabel Lucie Attwell in 1921. The novel is now usually published under that title or simply Peter Pan. The script of the play, which Barrie had continued to revise since its first performance, was published in 1928. In 1929, Barrie gave the copyright of the Peter Pan works to Great Ormond Street Hospital, a children's hospital in London.\""
       ]
      }
     ],
     "prompt_number": 31
    },
    {
     "cell_type": "code",
     "collapsed": false,
     "input": [
      "txt=re.sub('^[a-zA-Z]','',txt)\n",
      "txt"
     ],
     "language": "python",
     "metadata": {},
     "outputs": [
      {
       "metadata": {},
       "output_type": "pyout",
       "prompt_number": 39,
       "text": [
        "\"ter Pan; or, the Boy Who Wouldn't Grow Up or Peter and Wendy is J. M. Barrie's most famous work, in the form of a 1904 play and a 1911 novel. Both versions tell the story of Peter Pan, a mischievous little boy who can fly, and his adventures on the island of Neverland with Wendy Darling and her brothers, the fairy Tinker Bell, the Lost Boys, the Indian princess Tiger Lily, and the pirate Captain Hook. The play and novel were inspired by Barrie's friendship with the Llewelyn Davies family. Barrie continued to revise the play for years after its debut; the novel reflects one version of the story.\\n\\nThe play debuted in London on 27 December 1904 with Nina Boucicault, daughter of playwright Dion Boucicault, in the title role. A Broadway production was mounted in 1905 starring Maude Adams. It was later revived with such actresses as Marilyn Miller and Eva Le Gallienne. The play has since seen adaptation as a pantomime, stage musical, a television special, and several films, including a 1924 silent film, a 1953 animated Disney full-length feature, and a 2003 live action production. The play is now rarely performed in its original form on stage in the United Kingdom, whereas pantomime adaptations are frequently staged around Christmas. In the U.S., the original version has also been supplanted in popularity by the 1954 musical version, which became popular on television.\\n\\nThe novel was first published in 1911 by Hodder & Stoughton in the United Kingdom and Charles Scribner's Sons in the United States. The original book contains a frontispiece and 11 half-tone plates by artist F. D. Bedford (whose illustrations are still in copyright in the EU). The novel was first abridged by May Byron in 1915, with Barrie's permission, and published under the title Peter Pan and Wendy, the first time this form was used. This version was later illustrated by Mabel Lucie Attwell in 1921. The novel is now usually published under that title or simply Peter Pan. The script of the play, which Barrie had continued to revise since its first performance, was published in 1928. In 1929, Barrie gave the copyright of the Peter Pan works to Great Ormond Street Hospital, a children's hospital in London.\""
       ]
      }
     ],
     "prompt_number": 39
    },
    {
     "cell_type": "code",
     "collapsed": false,
     "input": [
      "txt=txt.upper()"
     ],
     "language": "python",
     "metadata": {},
     "outputs": [],
     "prompt_number": 44
    },
    {
     "cell_type": "code",
     "collapsed": false,
     "input": [
      "txt.split(' ')"
     ],
     "language": "python",
     "metadata": {},
     "outputs": [
      {
       "metadata": {},
       "output_type": "pyout",
       "prompt_number": 45,
       "text": [
        "['TER',\n",
        " 'PAN;',\n",
        " 'OR,',\n",
        " 'THE',\n",
        " 'BOY',\n",
        " 'WHO',\n",
        " \"WOULDN'T\",\n",
        " 'GROW',\n",
        " 'UP',\n",
        " 'OR',\n",
        " 'PETER',\n",
        " 'AND',\n",
        " 'WENDY',\n",
        " 'IS',\n",
        " 'J.',\n",
        " 'M.',\n",
        " \"BARRIE'S\",\n",
        " 'MOST',\n",
        " 'FAMOUS',\n",
        " 'WORK,',\n",
        " 'IN',\n",
        " 'THE',\n",
        " 'FORM',\n",
        " 'OF',\n",
        " 'A',\n",
        " '1904',\n",
        " 'PLAY',\n",
        " 'AND',\n",
        " 'A',\n",
        " '1911',\n",
        " 'NOVEL.',\n",
        " 'BOTH',\n",
        " 'VERSIONS',\n",
        " 'TELL',\n",
        " 'THE',\n",
        " 'STORY',\n",
        " 'OF',\n",
        " 'PETER',\n",
        " 'PAN,',\n",
        " 'A',\n",
        " 'MISCHIEVOUS',\n",
        " 'LITTLE',\n",
        " 'BOY',\n",
        " 'WHO',\n",
        " 'CAN',\n",
        " 'FLY,',\n",
        " 'AND',\n",
        " 'HIS',\n",
        " 'ADVENTURES',\n",
        " 'ON',\n",
        " 'THE',\n",
        " 'ISLAND',\n",
        " 'OF',\n",
        " 'NEVERLAND',\n",
        " 'WITH',\n",
        " 'WENDY',\n",
        " 'DARLING',\n",
        " 'AND',\n",
        " 'HER',\n",
        " 'BROTHERS,',\n",
        " 'THE',\n",
        " 'FAIRY',\n",
        " 'TINKER',\n",
        " 'BELL,',\n",
        " 'THE',\n",
        " 'LOST',\n",
        " 'BOYS,',\n",
        " 'THE',\n",
        " 'INDIAN',\n",
        " 'PRINCESS',\n",
        " 'TIGER',\n",
        " 'LILY,',\n",
        " 'AND',\n",
        " 'THE',\n",
        " 'PIRATE',\n",
        " 'CAPTAIN',\n",
        " 'HOOK.',\n",
        " 'THE',\n",
        " 'PLAY',\n",
        " 'AND',\n",
        " 'NOVEL',\n",
        " 'WERE',\n",
        " 'INSPIRED',\n",
        " 'BY',\n",
        " \"BARRIE'S\",\n",
        " 'FRIENDSHIP',\n",
        " 'WITH',\n",
        " 'THE',\n",
        " 'LLEWELYN',\n",
        " 'DAVIES',\n",
        " 'FAMILY.',\n",
        " 'BARRIE',\n",
        " 'CONTINUED',\n",
        " 'TO',\n",
        " 'REVISE',\n",
        " 'THE',\n",
        " 'PLAY',\n",
        " 'FOR',\n",
        " 'YEARS',\n",
        " 'AFTER',\n",
        " 'ITS',\n",
        " 'DEBUT;',\n",
        " 'THE',\n",
        " 'NOVEL',\n",
        " 'REFLECTS',\n",
        " 'ONE',\n",
        " 'VERSION',\n",
        " 'OF',\n",
        " 'THE',\n",
        " 'STORY.\\n\\nTHE',\n",
        " 'PLAY',\n",
        " 'DEBUTED',\n",
        " 'IN',\n",
        " 'LONDON',\n",
        " 'ON',\n",
        " '27',\n",
        " 'DECEMBER',\n",
        " '1904',\n",
        " 'WITH',\n",
        " 'NINA',\n",
        " 'BOUCICAULT,',\n",
        " 'DAUGHTER',\n",
        " 'OF',\n",
        " 'PLAYWRIGHT',\n",
        " 'DION',\n",
        " 'BOUCICAULT,',\n",
        " 'IN',\n",
        " 'THE',\n",
        " 'TITLE',\n",
        " 'ROLE.',\n",
        " 'A',\n",
        " 'BROADWAY',\n",
        " 'PRODUCTION',\n",
        " 'WAS',\n",
        " 'MOUNTED',\n",
        " 'IN',\n",
        " '1905',\n",
        " 'STARRING',\n",
        " 'MAUDE',\n",
        " 'ADAMS.',\n",
        " 'IT',\n",
        " 'WAS',\n",
        " 'LATER',\n",
        " 'REVIVED',\n",
        " 'WITH',\n",
        " 'SUCH',\n",
        " 'ACTRESSES',\n",
        " 'AS',\n",
        " 'MARILYN',\n",
        " 'MILLER',\n",
        " 'AND',\n",
        " 'EVA',\n",
        " 'LE',\n",
        " 'GALLIENNE.',\n",
        " 'THE',\n",
        " 'PLAY',\n",
        " 'HAS',\n",
        " 'SINCE',\n",
        " 'SEEN',\n",
        " 'ADAPTATION',\n",
        " 'AS',\n",
        " 'A',\n",
        " 'PANTOMIME,',\n",
        " 'STAGE',\n",
        " 'MUSICAL,',\n",
        " 'A',\n",
        " 'TELEVISION',\n",
        " 'SPECIAL,',\n",
        " 'AND',\n",
        " 'SEVERAL',\n",
        " 'FILMS,',\n",
        " 'INCLUDING',\n",
        " 'A',\n",
        " '1924',\n",
        " 'SILENT',\n",
        " 'FILM,',\n",
        " 'A',\n",
        " '1953',\n",
        " 'ANIMATED',\n",
        " 'DISNEY',\n",
        " 'FULL-LENGTH',\n",
        " 'FEATURE,',\n",
        " 'AND',\n",
        " 'A',\n",
        " '2003',\n",
        " 'LIVE',\n",
        " 'ACTION',\n",
        " 'PRODUCTION.',\n",
        " 'THE',\n",
        " 'PLAY',\n",
        " 'IS',\n",
        " 'NOW',\n",
        " 'RARELY',\n",
        " 'PERFORMED',\n",
        " 'IN',\n",
        " 'ITS',\n",
        " 'ORIGINAL',\n",
        " 'FORM',\n",
        " 'ON',\n",
        " 'STAGE',\n",
        " 'IN',\n",
        " 'THE',\n",
        " 'UNITED',\n",
        " 'KINGDOM,',\n",
        " 'WHEREAS',\n",
        " 'PANTOMIME',\n",
        " 'ADAPTATIONS',\n",
        " 'ARE',\n",
        " 'FREQUENTLY',\n",
        " 'STAGED',\n",
        " 'AROUND',\n",
        " 'CHRISTMAS.',\n",
        " 'IN',\n",
        " 'THE',\n",
        " 'U.S.,',\n",
        " 'THE',\n",
        " 'ORIGINAL',\n",
        " 'VERSION',\n",
        " 'HAS',\n",
        " 'ALSO',\n",
        " 'BEEN',\n",
        " 'SUPPLANTED',\n",
        " 'IN',\n",
        " 'POPULARITY',\n",
        " 'BY',\n",
        " 'THE',\n",
        " '1954',\n",
        " 'MUSICAL',\n",
        " 'VERSION,',\n",
        " 'WHICH',\n",
        " 'BECAME',\n",
        " 'POPULAR',\n",
        " 'ON',\n",
        " 'TELEVISION.\\n\\nTHE',\n",
        " 'NOVEL',\n",
        " 'WAS',\n",
        " 'FIRST',\n",
        " 'PUBLISHED',\n",
        " 'IN',\n",
        " '1911',\n",
        " 'BY',\n",
        " 'HODDER',\n",
        " '&',\n",
        " 'STOUGHTON',\n",
        " 'IN',\n",
        " 'THE',\n",
        " 'UNITED',\n",
        " 'KINGDOM',\n",
        " 'AND',\n",
        " 'CHARLES',\n",
        " \"SCRIBNER'S\",\n",
        " 'SONS',\n",
        " 'IN',\n",
        " 'THE',\n",
        " 'UNITED',\n",
        " 'STATES.',\n",
        " 'THE',\n",
        " 'ORIGINAL',\n",
        " 'BOOK',\n",
        " 'CONTAINS',\n",
        " 'A',\n",
        " 'FRONTISPIECE',\n",
        " 'AND',\n",
        " '11',\n",
        " 'HALF-TONE',\n",
        " 'PLATES',\n",
        " 'BY',\n",
        " 'ARTIST',\n",
        " 'F.',\n",
        " 'D.',\n",
        " 'BEDFORD',\n",
        " '(WHOSE',\n",
        " 'ILLUSTRATIONS',\n",
        " 'ARE',\n",
        " 'STILL',\n",
        " 'IN',\n",
        " 'COPYRIGHT',\n",
        " 'IN',\n",
        " 'THE',\n",
        " 'EU).',\n",
        " 'THE',\n",
        " 'NOVEL',\n",
        " 'WAS',\n",
        " 'FIRST',\n",
        " 'ABRIDGED',\n",
        " 'BY',\n",
        " 'MAY',\n",
        " 'BYRON',\n",
        " 'IN',\n",
        " '1915,',\n",
        " 'WITH',\n",
        " \"BARRIE'S\",\n",
        " 'PERMISSION,',\n",
        " 'AND',\n",
        " 'PUBLISHED',\n",
        " 'UNDER',\n",
        " 'THE',\n",
        " 'TITLE',\n",
        " 'PETER',\n",
        " 'PAN',\n",
        " 'AND',\n",
        " 'WENDY,',\n",
        " 'THE',\n",
        " 'FIRST',\n",
        " 'TIME',\n",
        " 'THIS',\n",
        " 'FORM',\n",
        " 'WAS',\n",
        " 'USED.',\n",
        " 'THIS',\n",
        " 'VERSION',\n",
        " 'WAS',\n",
        " 'LATER',\n",
        " 'ILLUSTRATED',\n",
        " 'BY',\n",
        " 'MABEL',\n",
        " 'LUCIE',\n",
        " 'ATTWELL',\n",
        " 'IN',\n",
        " '1921.',\n",
        " 'THE',\n",
        " 'NOVEL',\n",
        " 'IS',\n",
        " 'NOW',\n",
        " 'USUALLY',\n",
        " 'PUBLISHED',\n",
        " 'UNDER',\n",
        " 'THAT',\n",
        " 'TITLE',\n",
        " 'OR',\n",
        " 'SIMPLY',\n",
        " 'PETER',\n",
        " 'PAN.',\n",
        " 'THE',\n",
        " 'SCRIPT',\n",
        " 'OF',\n",
        " 'THE',\n",
        " 'PLAY,',\n",
        " 'WHICH',\n",
        " 'BARRIE',\n",
        " 'HAD',\n",
        " 'CONTINUED',\n",
        " 'TO',\n",
        " 'REVISE',\n",
        " 'SINCE',\n",
        " 'ITS',\n",
        " 'FIRST',\n",
        " 'PERFORMANCE,',\n",
        " 'WAS',\n",
        " 'PUBLISHED',\n",
        " 'IN',\n",
        " '1928.',\n",
        " 'IN',\n",
        " '1929,',\n",
        " 'BARRIE',\n",
        " 'GAVE',\n",
        " 'THE',\n",
        " 'COPYRIGHT',\n",
        " 'OF',\n",
        " 'THE',\n",
        " 'PETER',\n",
        " 'PAN',\n",
        " 'WORKS',\n",
        " 'TO',\n",
        " 'GREAT',\n",
        " 'ORMOND',\n",
        " 'STREET',\n",
        " 'HOSPITAL,',\n",
        " 'A',\n",
        " \"CHILDREN'S\",\n",
        " 'HOSPITAL',\n",
        " 'IN',\n",
        " 'LONDON.']"
       ]
      }
     ],
     "prompt_number": 45
    },
    {
     "cell_type": "code",
     "collapsed": false,
     "input": [
      "txt.find('THE')"
     ],
     "language": "python",
     "metadata": {},
     "outputs": [
      {
       "metadata": {},
       "output_type": "pyout",
       "prompt_number": 46,
       "text": [
        "13"
       ]
      }
     ],
     "prompt_number": 46
    },
    {
     "cell_type": "code",
     "collapsed": false,
     "input": [
      "txt=txt.replace('THE','aaaaa')\n",
      "txt"
     ],
     "language": "python",
     "metadata": {},
     "outputs": [
      {
       "metadata": {},
       "output_type": "pyout",
       "prompt_number": 49,
       "text": [
        "\"TER PAN; OR, aaaaa BOY WHO WOULDN'T GROW UP OR PETER AND WENDY IS J. M. BARRIE'S MOST FAMOUS WORK, IN aaaaa FORM OF A 1904 PLAY AND A 1911 NOVEL. BOTH VERSIONS TELL aaaaa STORY OF PETER PAN, A MISCHIEVOUS LITTLE BOY WHO CAN FLY, AND HIS ADVENTURES ON aaaaa ISLAND OF NEVERLAND WITH WENDY DARLING AND HER BROaaaaaRS, aaaaa FAIRY TINKER BELL, aaaaa LOST BOYS, aaaaa INDIAN PRINCESS TIGER LILY, AND aaaaa PIRATE CAPTAIN HOOK. aaaaa PLAY AND NOVEL WERE INSPIRED BY BARRIE'S FRIENDSHIP WITH aaaaa LLEWELYN DAVIES FAMILY. BARRIE CONTINUED TO REVISE aaaaa PLAY FOR YEARS AFTER ITS DEBUT; aaaaa NOVEL REFLECTS ONE VERSION OF aaaaa STORY.\\n\\naaaaa PLAY DEBUTED IN LONDON ON 27 DECEMBER 1904 WITH NINA BOUCICAULT, DAUGHTER OF PLAYWRIGHT DION BOUCICAULT, IN aaaaa TITLE ROLE. A BROADWAY PRODUCTION WAS MOUNTED IN 1905 STARRING MAUDE ADAMS. IT WAS LATER REVIVED WITH SUCH ACTRESSES AS MARILYN MILLER AND EVA LE GALLIENNE. aaaaa PLAY HAS SINCE SEEN ADAPTATION AS A PANTOMIME, STAGE MUSICAL, A TELEVISION SPECIAL, AND SEVERAL FILMS, INCLUDING A 1924 SILENT FILM, A 1953 ANIMATED DISNEY FULL-LENGTH FEATURE, AND A 2003 LIVE ACTION PRODUCTION. aaaaa PLAY IS NOW RARELY PERFORMED IN ITS ORIGINAL FORM ON STAGE IN aaaaa UNITED KINGDOM, WHEREAS PANTOMIME ADAPTATIONS ARE FREQUENTLY STAGED AROUND CHRISTMAS. IN aaaaa U.S., aaaaa ORIGINAL VERSION HAS ALSO BEEN SUPPLANTED IN POPULARITY BY aaaaa 1954 MUSICAL VERSION, WHICH BECAME POPULAR ON TELEVISION.\\n\\naaaaa NOVEL WAS FIRST PUBLISHED IN 1911 BY HODDER & STOUGHTON IN aaaaa UNITED KINGDOM AND CHARLES SCRIBNER'S SONS IN aaaaa UNITED STATES. aaaaa ORIGINAL BOOK CONTAINS A FRONTISPIECE AND 11 HALF-TONE PLATES BY ARTIST F. D. BEDFORD (WHOSE ILLUSTRATIONS ARE STILL IN COPYRIGHT IN aaaaa EU). aaaaa NOVEL WAS FIRST ABRIDGED BY MAY BYRON IN 1915, WITH BARRIE'S PERMISSION, AND PUBLISHED UNDER aaaaa TITLE PETER PAN AND WENDY, aaaaa FIRST TIME THIS FORM WAS USED. THIS VERSION WAS LATER ILLUSTRATED BY MABEL LUCIE ATTWELL IN 1921. aaaaa NOVEL IS NOW USUALLY PUBLISHED UNDER THAT TITLE OR SIMPLY PETER PAN. aaaaa SCRIPT OF aaaaa PLAY, WHICH BARRIE HAD CONTINUED TO REVISE SINCE ITS FIRST PERFORMANCE, WAS PUBLISHED IN 1928. IN 1929, BARRIE GAVE aaaaa COPYRIGHT OF aaaaa PETER PAN WORKS TO GREAT ORMOND STREET HOSPITAL, A CHILDREN'S HOSPITAL IN LONDON.\""
       ]
      }
     ],
     "prompt_number": 49
    },
    {
     "cell_type": "code",
     "collapsed": false,
     "input": [
      "txt=txt.replace('aaaaa','')"
     ],
     "language": "python",
     "metadata": {},
     "outputs": [],
     "prompt_number": 50
    },
    {
     "cell_type": "code",
     "collapsed": false,
     "input": [
      "txt"
     ],
     "language": "python",
     "metadata": {},
     "outputs": [
      {
       "metadata": {},
       "output_type": "pyout",
       "prompt_number": 51,
       "text": [
        "\"TER PAN; OR,  BOY WHO WOULDN'T GROW UP OR PETER AND WENDY IS J. M. BARRIE'S MOST FAMOUS WORK, IN  FORM OF A 1904 PLAY AND A 1911 NOVEL. BOTH VERSIONS TELL  STORY OF PETER PAN, A MISCHIEVOUS LITTLE BOY WHO CAN FLY, AND HIS ADVENTURES ON  ISLAND OF NEVERLAND WITH WENDY DARLING AND HER BRORS,  FAIRY TINKER BELL,  LOST BOYS,  INDIAN PRINCESS TIGER LILY, AND  PIRATE CAPTAIN HOOK.  PLAY AND NOVEL WERE INSPIRED BY BARRIE'S FRIENDSHIP WITH  LLEWELYN DAVIES FAMILY. BARRIE CONTINUED TO REVISE  PLAY FOR YEARS AFTER ITS DEBUT;  NOVEL REFLECTS ONE VERSION OF  STORY.\\n\\n PLAY DEBUTED IN LONDON ON 27 DECEMBER 1904 WITH NINA BOUCICAULT, DAUGHTER OF PLAYWRIGHT DION BOUCICAULT, IN  TITLE ROLE. A BROADWAY PRODUCTION WAS MOUNTED IN 1905 STARRING MAUDE ADAMS. IT WAS LATER REVIVED WITH SUCH ACTRESSES AS MARILYN MILLER AND EVA LE GALLIENNE.  PLAY HAS SINCE SEEN ADAPTATION AS A PANTOMIME, STAGE MUSICAL, A TELEVISION SPECIAL, AND SEVERAL FILMS, INCLUDING A 1924 SILENT FILM, A 1953 ANIMATED DISNEY FULL-LENGTH FEATURE, AND A 2003 LIVE ACTION PRODUCTION.  PLAY IS NOW RARELY PERFORMED IN ITS ORIGINAL FORM ON STAGE IN  UNITED KINGDOM, WHEREAS PANTOMIME ADAPTATIONS ARE FREQUENTLY STAGED AROUND CHRISTMAS. IN  U.S.,  ORIGINAL VERSION HAS ALSO BEEN SUPPLANTED IN POPULARITY BY  1954 MUSICAL VERSION, WHICH BECAME POPULAR ON TELEVISION.\\n\\n NOVEL WAS FIRST PUBLISHED IN 1911 BY HODDER & STOUGHTON IN  UNITED KINGDOM AND CHARLES SCRIBNER'S SONS IN  UNITED STATES.  ORIGINAL BOOK CONTAINS A FRONTISPIECE AND 11 HALF-TONE PLATES BY ARTIST F. D. BEDFORD (WHOSE ILLUSTRATIONS ARE STILL IN COPYRIGHT IN  EU).  NOVEL WAS FIRST ABRIDGED BY MAY BYRON IN 1915, WITH BARRIE'S PERMISSION, AND PUBLISHED UNDER  TITLE PETER PAN AND WENDY,  FIRST TIME THIS FORM WAS USED. THIS VERSION WAS LATER ILLUSTRATED BY MABEL LUCIE ATTWELL IN 1921.  NOVEL IS NOW USUALLY PUBLISHED UNDER THAT TITLE OR SIMPLY PETER PAN.  SCRIPT OF  PLAY, WHICH BARRIE HAD CONTINUED TO REVISE SINCE ITS FIRST PERFORMANCE, WAS PUBLISHED IN 1928. IN 1929, BARRIE GAVE  COPYRIGHT OF  PETER PAN WORKS TO GREAT ORMOND STREET HOSPITAL, A CHILDREN'S HOSPITAL IN LONDON.\""
       ]
      }
     ],
     "prompt_number": 51
    },
    {
     "cell_type": "code",
     "collapsed": false,
     "input": [
      "__future__?"
     ],
     "language": "python",
     "metadata": {},
     "outputs": [
      {
       "output_type": "stream",
       "stream": "stdout",
       "text": [
        "Object `__future__` not found.\n"
       ]
      }
     ],
     "prompt_number": 3
    },
    {
     "cell_type": "code",
     "collapsed": false,
     "input": [
      "f=open('D:\\\\a.txt').read()"
     ],
     "language": "python",
     "metadata": {},
     "outputs": [],
     "prompt_number": 25
    },
    {
     "cell_type": "code",
     "collapsed": false,
     "input": [
      "f"
     ],
     "language": "python",
     "metadata": {},
     "outputs": [
      {
       "metadata": {},
       "output_type": "pyout",
       "prompt_number": 26,
       "text": [
        "\"Peter Pan; or, the Boy Who Wouldn't Grow Up or Peter and Wendy is J. M. Barrie's most famous work, in the form of a 1904 play and a 1911 novel. Both versions tell the story of Peter Pan, a mischievous little boy who can fly, and his adventures on the island of Neverland with Wendy Darling and her brothers, the fairy Tinker Bell, the Lost Boys, the Indian princess Tiger Lily, and the pirate Captain Hook. The play and novel were inspired by Barrie's friendship with the Llewelyn Davies family. Barrie continued to revise the play for years after its debut; the novel reflects one version of the story.\\n\\nThe play debuted in London on 27 December 1904 with Nina Boucicault, daughter of playwright Dion Boucicault, in the title role. A Broadway production was mounted in 1905 starring Maude Adams. It was later revived with such actresses as Marilyn Miller and Eva Le Gallienne. The play has since seen adaptation as a pantomime, stage musical, a television special, and several films, including a 1924 silent film, a 1953 animated Disney full-length feature, and a 2003 live action production. The play is now rarely performed in its original form on stage in the United Kingdom, whereas pantomime adaptations are frequently staged around Christmas. In the U.S., the original version has also been supplanted in popularity by the 1954 musical version, which became popular on television.\\n\\nThe novel was first published in 1911 by Hodder & Stoughton in the United Kingdom and Charles Scribner's Sons in the United States. The original book contains a frontispiece and 11 half-tone plates by artist F. D. Bedford (whose illustrations are still in copyright in the EU). The novel was first abridged by May Byron in 1915, with Barrie's permission, and published under the title Peter Pan and Wendy, the first time this form was used. This version was later illustrated by Mabel Lucie Attwell in 1921. The novel is now usually published under that title or simply Peter Pan. The script of the play, which Barrie had continued to revise since its first performance, was published in 1928. In 1929, Barrie gave the copyright of the Peter Pan works to Great Ormond Street Hospital, a children's hospital in London.\""
       ]
      }
     ],
     "prompt_number": 26
    },
    {
     "cell_type": "code",
     "collapsed": false,
     "input": [
      "for line in open('D:\\\\a.txt'):\n",
      "    print(len(line), line.rstrip())"
     ],
     "language": "python",
     "metadata": {},
     "outputs": [
      {
       "output_type": "stream",
       "stream": "stdout",
       "text": [
        "604 Peter Pan; or, the Boy Who Wouldn't Grow Up or Peter and Wendy is J. M. Barrie's most famous work, in the form of a 1904 play and a 1911 novel. Both versions tell the story of Peter Pan, a mischievous little boy who can fly, and his adventures on the island of Neverland with Wendy Darling and her brothers, the fairy Tinker Bell, the Lost Boys, the Indian princess Tiger Lily, and the pirate Captain Hook. The play and novel were inspired by Barrie's friendship with the Llewelyn Davies family. Barrie continued to revise the play for years after its debut; the novel reflects one version of the story.\n",
        "1 \n",
        "783 The play debuted in London on 27 December 1904 with Nina Boucicault, daughter of playwright Dion Boucicault, in the title role. A Broadway production was mounted in 1905 starring Maude Adams. It was later revived with such actresses as Marilyn Miller and Eva Le Gallienne. The play has since seen adaptation as a pantomime, stage musical, a television special, and several films, including a 1924 silent film, a 1953 animated Disney full-length feature, and a 2003 live action production. The play is now rarely performed in its original form on stage in the United Kingdom, whereas pantomime adaptations are frequently staged around Christmas. In the U.S., the original version has also been supplanted in popularity by the 1954 musical version, which became popular on television.\n",
        "1 \n",
        "817 The novel was first published in 1911 by Hodder & Stoughton in the United Kingdom and Charles Scribner's Sons in the United States. The original book contains a frontispiece and 11 half-tone plates by artist F. D. Bedford (whose illustrations are still in copyright in the EU). The novel was first abridged by May Byron in 1915, with Barrie's permission, and published under the title Peter Pan and Wendy, the first time this form was used. This version was later illustrated by Mabel Lucie Attwell in 1921. The novel is now usually published under that title or simply Peter Pan. The script of the play, which Barrie had continued to revise since its first performance, was published in 1928. In 1929, Barrie gave the copyright of the Peter Pan works to Great Ormond Street Hospital, a children's hospital in London.\n"
       ]
      }
     ],
     "prompt_number": 36
    },
    {
     "cell_type": "code",
     "collapsed": false,
     "input": [
      "L1=[1,2,3]"
     ],
     "language": "python",
     "metadata": {},
     "outputs": [],
     "prompt_number": 48
    },
    {
     "cell_type": "code",
     "collapsed": false,
     "input": [
      "L2=[4,5,6]"
     ],
     "language": "python",
     "metadata": {},
     "outputs": [],
     "prompt_number": 49
    },
    {
     "cell_type": "code",
     "collapsed": false,
     "input": [
      "L3=L1+L2"
     ],
     "language": "python",
     "metadata": {},
     "outputs": [],
     "prompt_number": 50
    },
    {
     "cell_type": "code",
     "collapsed": false,
     "input": [
      "L3"
     ],
     "language": "python",
     "metadata": {},
     "outputs": [
      {
       "metadata": {},
       "output_type": "pyout",
       "prompt_number": 51,
       "text": [
        "[1, 2, 3, 4, 5, 6]"
       ]
      }
     ],
     "prompt_number": 51
    },
    {
     "cell_type": "code",
     "collapsed": false,
     "input": [
      "L4=L1.extend([L2])"
     ],
     "language": "python",
     "metadata": {},
     "outputs": [],
     "prompt_number": 57
    },
    {
     "cell_type": "code",
     "collapsed": false,
     "input": [
      "print(L4)"
     ],
     "language": "python",
     "metadata": {},
     "outputs": [
      {
       "output_type": "stream",
       "stream": "stdout",
       "text": [
        "None\n"
       ]
      }
     ],
     "prompt_number": 58
    },
    {
     "cell_type": "code",
     "collapsed": false,
     "input": [
      "enumerate?"
     ],
     "language": "python",
     "metadata": {},
     "outputs": [],
     "prompt_number": 60
    },
    {
     "cell_type": "code",
     "collapsed": false,
     "input": [
      "for i,line in enumerate( open('D:\\\\a.txt')):\n",
      "    print(i,'\\n',line.rstrip())"
     ],
     "language": "python",
     "metadata": {},
     "outputs": [
      {
       "output_type": "stream",
       "stream": "stdout",
       "text": [
        "0 \n",
        " Peter Pan; or, the Boy Who Wouldn't Grow Up or Peter and Wendy is J. M. Barrie's most famous work, in the form of a 1904 play and a 1911 novel. Both versions tell the story of Peter Pan, a mischievous little boy who can fly, and his adventures on the island of Neverland with Wendy Darling and her brothers, the fairy Tinker Bell, the Lost Boys, the Indian princess Tiger Lily, and the pirate Captain Hook. The play and novel were inspired by Barrie's friendship with the Llewelyn Davies family. Barrie continued to revise the play for years after its debut; the novel reflects one version of the story.\n",
        "1 \n",
        " \n",
        "2 \n",
        " The play debuted in London on 27 December 1904 with Nina Boucicault, daughter of playwright Dion Boucicault, in the title role. A Broadway production was mounted in 1905 starring Maude Adams. It was later revived with such actresses as Marilyn Miller and Eva Le Gallienne. The play has since seen adaptation as a pantomime, stage musical, a television special, and several films, including a 1924 silent film, a 1953 animated Disney full-length feature, and a 2003 live action production. The play is now rarely performed in its original form on stage in the United Kingdom, whereas pantomime adaptations are frequently staged around Christmas. In the U.S., the original version has also been supplanted in popularity by the 1954 musical version, which became popular on television.\n",
        "3 \n",
        " \n",
        "4 \n",
        " The novel was first published in 1911 by Hodder & Stoughton in the United Kingdom and Charles Scribner's Sons in the United States. The original book contains a frontispiece and 11 half-tone plates by artist F. D. Bedford (whose illustrations are still in copyright in the EU). The novel was first abridged by May Byron in 1915, with Barrie's permission, and published under the title Peter Pan and Wendy, the first time this form was used. This version was later illustrated by Mabel Lucie Attwell in 1921. The novel is now usually published under that title or simply Peter Pan. The script of the play, which Barrie had continued to revise since its first performance, was published in 1928. In 1929, Barrie gave the copyright of the Peter Pan works to Great Ormond Street Hospital, a children's hospital in London.\n"
       ]
      }
     ],
     "prompt_number": 66
    },
    {
     "cell_type": "code",
     "collapsed": false,
     "input": [
      "L=[1,2,3,4,5,6,7,8,9,10]"
     ],
     "language": "python",
     "metadata": {},
     "outputs": [],
     "prompt_number": 79
    },
    {
     "cell_type": "code",
     "collapsed": false,
     "input": [
      "def rule(e):\n",
      "    return e%3\n",
      "\n",
      "sorted(L,key=rule)"
     ],
     "language": "python",
     "metadata": {},
     "outputs": [
      {
       "metadata": {},
       "output_type": "pyout",
       "prompt_number": 80,
       "text": [
        "[3, 6, 9, 1, 4, 7, 10, 2, 5, 8]"
       ]
      }
     ],
     "prompt_number": 80
    },
    {
     "cell_type": "code",
     "collapsed": false,
     "input": [
      "L5=[k for k in range(1,11,1)]"
     ],
     "language": "python",
     "metadata": {},
     "outputs": [],
     "prompt_number": 87
    },
    {
     "cell_type": "code",
     "collapsed": false,
     "input": [
      "L5"
     ],
     "language": "python",
     "metadata": {},
     "outputs": [
      {
       "metadata": {},
       "output_type": "pyout",
       "prompt_number": 88,
       "text": [
        "[1, 2, 3, 4, 5, 6, 7, 8, 9, 10]"
       ]
      }
     ],
     "prompt_number": 88
    },
    {
     "cell_type": "code",
     "collapsed": false,
     "input": [
      "sad='asdasdjalkjfkldjdflglkfdsdlkfdskl'"
     ],
     "language": "python",
     "metadata": {},
     "outputs": [],
     "prompt_number": 1
    },
    {
     "cell_type": "code",
     "collapsed": false,
     "input": [
      "sad/'j'"
     ],
     "language": "python",
     "metadata": {},
     "outputs": [
      {
       "ename": "TypeError",
       "evalue": "unsupported operand type(s) for /: 'str' and 'str'",
       "output_type": "pyerr",
       "traceback": [
        "\u001b[1;31m---------------------------------------------------------------------------\u001b[0m\n\u001b[1;31mTypeError\u001b[0m                                 Traceback (most recent call last)",
        "\u001b[1;32m<ipython-input-2-f08b867213aa>\u001b[0m in \u001b[0;36m<module>\u001b[1;34m()\u001b[0m\n\u001b[1;32m----> 1\u001b[1;33m \u001b[0msad\u001b[0m\u001b[1;33m/\u001b[0m\u001b[1;34m'j'\u001b[0m\u001b[1;33m\u001b[0m\u001b[0m\n\u001b[0m",
        "\u001b[1;31mTypeError\u001b[0m: unsupported operand type(s) for /: 'str' and 'str'"
       ]
      }
     ],
     "prompt_number": 2
    },
    {
     "cell_type": "code",
     "collapsed": false,
     "input": [],
     "language": "python",
     "metadata": {},
     "outputs": []
    }
   ],
   "metadata": {}
  }
 ]
}